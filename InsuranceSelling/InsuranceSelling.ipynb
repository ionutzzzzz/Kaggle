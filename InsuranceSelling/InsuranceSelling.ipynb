{
 "cells": [
  {
   "cell_type": "markdown",
   "metadata": {},
   "source": [
    "# Binary Classification of Insurance Cross Selling\n",
    "\n",
    "Playground Series - Season 4, Episode 7\n",
    "\n",
    "(https://www.kaggle.com/competitions/playground-series-s4e7/)\n",
    "\n",
    "![image](./data/picture.png)\n",
    "\n",
    "__Overview__\n",
    "Welcome to the 2024 Kaggle Playground Series! We plan to continue in the spirit of previous playgrounds, providing interesting an approachable datasets for our community to practice their machine learning skills, and anticipate a competition each month.\n",
    "\n",
    "__Your Goal:__ The objective of this competition is to predict which customers respond positively to an automobile insurance offer.\n",
    "\n",
    "__Dataset Description__\n",
    "The dataset for this competition (both train and test) was generated from a deep learning model trained on the Health Insurance Cross Sell Prediction Data dataset. Feature distributions are close to, but not exactly the same, as the original. Feel free to use the original dataset as part of this competition, both to explore differences as well as to see whether incorporating the original in training improves model performance.\n",
    "\n",
    "__Files__\n",
    "\n",
    "- train.csv - the training dataset; Exited is the binary target\n",
    "- test.csv - the test dataset; your objective is to predict the probability of Exited\n",
    "- sample_submission.csv - a sample submission file in the correct format\n",
    "\n",
    "__Models__\n",
    "- K-Nearest Neighboor Model \n",
    "- Gaussian Naive Bayes Model \n",
    "- Logistic Regressor \n",
    "- Support Vector Classification Model \n",
    "- Decision Tree Model \n",
    "- Random Forest Model \n",
    "- Linear Discriminant Analysis Model \n",
    "- Gradient Boosting Classifier Model \n",
    "- Neural Network CLassifier Model \n",
    "- X Gradient Boost Classifier\n",
    "- Cat Boosting Classifier"
   ]
  },
  {
   "cell_type": "code",
   "execution_count": 1,
   "metadata": {},
   "outputs": [
    {
     "name": "stdout",
     "output_type": "stream",
     "text": [
      "Defaulting to user installation because normal site-packages is not writeable\n",
      "Requirement already satisfied: numpy in /usr/lib/python3/dist-packages (from -r requirements.txt (line 1)) (1.24.2)\n",
      "Requirement already satisfied: pandas in /usr/lib/python3/dist-packages (from -r requirements.txt (line 3)) (1.5.3)\n",
      "Requirement already satisfied: pyarrow in /home/john/.local/lib/python3.11/site-packages (from -r requirements.txt (line 4)) (17.0.0)\n",
      "Requirement already satisfied: seaborn in /home/john/.local/lib/python3.11/site-packages (from -r requirements.txt (line 5)) (0.13.2)\n",
      "Collecting catboost (from -r requirements.txt (line 6))\n",
      "  Downloading catboost-1.2.5-cp311-cp311-manylinux2014_x86_64.whl.metadata (1.2 kB)\n",
      "Requirement already satisfied: datetime in /home/john/.local/lib/python3.11/site-packages (from -r requirements.txt (line 7)) (5.5)\n",
      "Requirement already satisfied: imblearn in /home/john/.local/lib/python3.11/site-packages (from -r requirements.txt (line 8)) (0.0)\n",
      "Requirement already satisfied: ipywidgets in /usr/lib/python3/dist-packages (from -r requirements.txt (line 9)) (6.0.0)\n",
      "Requirement already satisfied: matplotlib in /usr/lib/python3/dist-packages (from -r requirements.txt (line 10)) (3.6.3)\n",
      "Requirement already satisfied: scikit-learn in /home/john/.local/lib/python3.11/site-packages (from -r requirements.txt (line 11)) (1.4.2)\n",
      "Collecting graphviz (from catboost->-r requirements.txt (line 6))\n",
      "  Downloading graphviz-0.20.3-py3-none-any.whl.metadata (12 kB)\n",
      "Requirement already satisfied: scipy in /usr/lib/python3/dist-packages (from catboost->-r requirements.txt (line 6)) (1.10.1)\n",
      "Collecting plotly (from catboost->-r requirements.txt (line 6))\n",
      "  Downloading plotly-5.22.0-py3-none-any.whl.metadata (7.1 kB)\n",
      "Requirement already satisfied: six in /usr/lib/python3/dist-packages (from catboost->-r requirements.txt (line 6)) (1.16.0)\n",
      "Requirement already satisfied: zope.interface in /usr/lib/python3/dist-packages (from datetime->-r requirements.txt (line 7)) (5.5.2)\n",
      "Requirement already satisfied: pytz in /usr/lib/python3/dist-packages (from datetime->-r requirements.txt (line 7)) (2022.7.1)\n",
      "Requirement already satisfied: imbalanced-learn in /home/john/.local/lib/python3.11/site-packages (from imblearn->-r requirements.txt (line 8)) (0.12.3)\n",
      "Requirement already satisfied: joblib>=1.2.0 in /home/john/.local/lib/python3.11/site-packages (from scikit-learn->-r requirements.txt (line 11)) (1.4.2)\n",
      "Requirement already satisfied: threadpoolctl>=2.0.0 in /home/john/.local/lib/python3.11/site-packages (from scikit-learn->-r requirements.txt (line 11)) (3.5.0)\n",
      "Collecting tenacity>=6.2.0 (from plotly->catboost->-r requirements.txt (line 6))\n",
      "  Downloading tenacity-8.5.0-py3-none-any.whl.metadata (1.2 kB)\n",
      "Requirement already satisfied: packaging in /usr/lib/python3/dist-packages (from plotly->catboost->-r requirements.txt (line 6)) (23.0)\n",
      "Downloading catboost-1.2.5-cp311-cp311-manylinux2014_x86_64.whl (98.2 MB)\n",
      "\u001b[2K   \u001b[90m━━━━━━━━━━━━━━━━━━━━━━━━━━━━━━━━━━━━━━━━\u001b[0m \u001b[32m98.2/98.2 MB\u001b[0m \u001b[31m16.2 MB/s\u001b[0m eta \u001b[36m0:00:00\u001b[0m00:01\u001b[0m00:01\u001b[0m\n",
      "\u001b[?25hDownloading graphviz-0.20.3-py3-none-any.whl (47 kB)\n",
      "\u001b[2K   \u001b[90m━━━━━━━━━━━━━━━━━━━━━━━━━━━━━━━━━━━━━━━━\u001b[0m \u001b[32m47.1/47.1 kB\u001b[0m \u001b[31m5.8 MB/s\u001b[0m eta \u001b[36m0:00:00\u001b[0m\n",
      "\u001b[?25hDownloading plotly-5.22.0-py3-none-any.whl (16.4 MB)\n",
      "\u001b[2K   \u001b[90m━━━━━━━━━━━━━━━━━━━━━━━━━━━━━━━━━━━━━━━━\u001b[0m \u001b[32m16.4/16.4 MB\u001b[0m \u001b[31m20.9 MB/s\u001b[0m eta \u001b[36m0:00:00\u001b[0m00:01\u001b[0m00:01\u001b[0m\n",
      "\u001b[?25hDownloading tenacity-8.5.0-py3-none-any.whl (28 kB)\n",
      "\u001b[33mWARNING: Error parsing dependencies of send2trash: Expected matching RIGHT_PARENTHESIS for LEFT_PARENTHESIS, after version specifier\n",
      "    sys-platform (==\"darwin\") ; extra == 'objc'\n",
      "                 ~^\u001b[0m\u001b[33m\n",
      "\u001b[0mInstalling collected packages: tenacity, graphviz, plotly, catboost\n",
      "Successfully installed catboost-1.2.5 graphviz-0.20.3 plotly-5.22.0 tenacity-8.5.0\n",
      "Note: you may need to restart the kernel to use updated packages.\n"
     ]
    }
   ],
   "source": [
    "%pip install -r requirements.txt --break-system-packages"
   ]
  },
  {
   "cell_type": "code",
   "execution_count": 1,
   "metadata": {},
   "outputs": [],
   "source": [
    "# Import all necessary libraries\n",
    "\n",
    "import os\n",
    "import time\n",
    "import numpy as np\n",
    "import pandas as pd\n",
    "import pickle as pkl\n",
    "import seaborn as sns\n",
    "import datetime as dt\n",
    "import warnings as wn\n",
    "import matplotlib.pyplot as plt\n",
    "\n",
    "from catboost import Pool\n",
    "from sklearn.pipeline import Pipeline\n",
    "from imblearn.combine import SMOTEENN\n",
    "from sklearn.metrics import roc_auc_score\n",
    "from sklearn.metrics import accuracy_score\n",
    "from sklearn.metrics import confusion_matrix\n",
    "from sklearn.preprocessing import LabelEncoder\n",
    "from sklearn.preprocessing import MinMaxScaler\n",
    "from sklearn.preprocessing import OneHotEncoder\n",
    "from sklearn.model_selection import GridSearchCV\n",
    "from sklearn.preprocessing import StandardScaler\n",
    "from sklearn.metrics import classification_report\n",
    "from sklearn.model_selection import train_test_split\n",
    "from sklearn.preprocessing import QuantileTransformer"
   ]
  },
  {
   "cell_type": "code",
   "execution_count": 2,
   "metadata": {},
   "outputs": [],
   "source": [
    "# Ignore all warnings\n",
    "wn.filterwarnings('ignore')"
   ]
  },
  {
   "cell_type": "code",
   "execution_count": 3,
   "metadata": {},
   "outputs": [],
   "source": [
    "# Set all variables paths \n",
    "\n",
    "_plots = './plots/'\n",
    "_tested = './tested/'\n",
    "_test = './data/test.csv'\n",
    "_train = './data/train.csv'\n",
    "_info = './model/model.docx'\n",
    "_model = './model/model.pkl'\n",
    "_submission = './data/sample_submission.csv'"
   ]
  },
  {
   "cell_type": "code",
   "execution_count": 4,
   "metadata": {},
   "outputs": [],
   "source": [
    "# Simplify the process of integrating large CSV\n",
    "\n",
    "def reduce_mem_usage(df):\n",
    "    \"\"\" iterate through all the columns of a dataframe and modify the data type\n",
    "        to reduce memory usage.        \n",
    "    \"\"\"\n",
    "    start_mem = df.memory_usage().sum() / 1024**2\n",
    "    print('Memory usage of dataframe is {:.2f} MB'.format(start_mem))\n",
    "    \n",
    "    for col in df.columns:\n",
    "        col_type = df[col].dtype\n",
    "        \n",
    "        if col_type != object:\n",
    "            c_min = df[col].min()\n",
    "            c_max = df[col].max()\n",
    "            if str(col_type)[:3] == 'int':\n",
    "                if c_min > np.iinfo(np.int8).min and c_max < np.iinfo(np.int8).max:\n",
    "                    df[col] = df[col].astype(np.int8)\n",
    "                elif c_min > np.iinfo(np.int16).min and c_max < np.iinfo(np.int16).max:\n",
    "                    df[col] = df[col].astype(np.int16)\n",
    "                elif c_min > np.iinfo(np.int32).min and c_max < np.iinfo(np.int32).max:\n",
    "                    df[col] = df[col].astype(np.int32)\n",
    "                elif c_min > np.iinfo(np.int64).min and c_max < np.iinfo(np.int64).max:\n",
    "                    df[col] = df[col].astype(np.int64)  \n",
    "            else:\n",
    "                if c_min > np.finfo(np.float16).min and c_max < np.finfo(np.float16).max:\n",
    "                    df[col] = df[col].astype(np.float16)\n",
    "                elif c_min > np.finfo(np.float32).min and c_max < np.finfo(np.float32).max:\n",
    "                    df[col] = df[col].astype(np.float32)\n",
    "                else:\n",
    "                    df[col] = df[col].astype(np.float64)\n",
    "        else:\n",
    "            df[col] = df[col].astype('category')\n",
    "    end_mem = df.memory_usage().sum() / 1024**2\n",
    "    print('Memory usage after optimization is: {:.2f} MB'.format(end_mem))\n",
    "    print('Decreased by {:.1f}%'.format(100 * (start_mem - end_mem) / start_mem))\n",
    "    \n",
    "    return df\n",
    "\n",
    "def import_data(file, **kwargs):\n",
    "    \"\"\"create a dataframe and optimize its memory usage\"\"\"\n",
    "    df = pd.read_csv(file, parse_dates=True, keep_date_col=True, **kwargs)\n",
    "    df = reduce_mem_usage(df)\n",
    "    return df"
   ]
  },
  {
   "cell_type": "code",
   "execution_count": 5,
   "metadata": {},
   "outputs": [
    {
     "name": "stdout",
     "output_type": "stream",
     "text": [
      "Memory usage of dataframe is 1053.30 MB\n",
      "Memory usage after optimization is: 274.30 MB\n",
      "Decreased by 74.0%\n"
     ]
    }
   ],
   "source": [
    "# Read the training and testing datasets and preprocess\n",
    "train = import_data(_train, index_col = \"id\", engine=\"pyarrow\")"
   ]
  },
  {
   "cell_type": "code",
   "execution_count": 6,
   "metadata": {},
   "outputs": [],
   "source": [
    "# Set the datatype of each column for memory eficiency\n",
    "\n",
    "train[\"Policy_Sales_Channel\"] = train[\"Policy_Sales_Channel\"].astype(np.int16)\n",
    "train[\"Region_Code\"] = train[\"Region_Code\"].astype(np.int8)"
   ]
  },
  {
   "cell_type": "code",
   "execution_count": 7,
   "metadata": {},
   "outputs": [
    {
     "data": {
      "text/html": [
       "<div>\n",
       "<style scoped>\n",
       "    .dataframe tbody tr th:only-of-type {\n",
       "        vertical-align: middle;\n",
       "    }\n",
       "\n",
       "    .dataframe tbody tr th {\n",
       "        vertical-align: top;\n",
       "    }\n",
       "\n",
       "    .dataframe thead th {\n",
       "        text-align: right;\n",
       "    }\n",
       "</style>\n",
       "<table border=\"1\" class=\"dataframe\">\n",
       "  <thead>\n",
       "    <tr style=\"text-align: right;\">\n",
       "      <th></th>\n",
       "      <th>Gender</th>\n",
       "      <th>Age</th>\n",
       "      <th>Driving_License</th>\n",
       "      <th>Region_Code</th>\n",
       "      <th>Previously_Insured</th>\n",
       "      <th>Vehicle_Age</th>\n",
       "      <th>Vehicle_Damage</th>\n",
       "      <th>Annual_Premium</th>\n",
       "      <th>Policy_Sales_Channel</th>\n",
       "      <th>Vintage</th>\n",
       "      <th>Response</th>\n",
       "    </tr>\n",
       "    <tr>\n",
       "      <th>id</th>\n",
       "      <th></th>\n",
       "      <th></th>\n",
       "      <th></th>\n",
       "      <th></th>\n",
       "      <th></th>\n",
       "      <th></th>\n",
       "      <th></th>\n",
       "      <th></th>\n",
       "      <th></th>\n",
       "      <th></th>\n",
       "      <th></th>\n",
       "    </tr>\n",
       "  </thead>\n",
       "  <tbody>\n",
       "    <tr>\n",
       "      <th>0</th>\n",
       "      <td>Male</td>\n",
       "      <td>21</td>\n",
       "      <td>1</td>\n",
       "      <td>35</td>\n",
       "      <td>0</td>\n",
       "      <td>1-2 Year</td>\n",
       "      <td>Yes</td>\n",
       "      <td>65101.0</td>\n",
       "      <td>124</td>\n",
       "      <td>187</td>\n",
       "      <td>0</td>\n",
       "    </tr>\n",
       "    <tr>\n",
       "      <th>1</th>\n",
       "      <td>Male</td>\n",
       "      <td>43</td>\n",
       "      <td>1</td>\n",
       "      <td>28</td>\n",
       "      <td>0</td>\n",
       "      <td>&gt; 2 Years</td>\n",
       "      <td>Yes</td>\n",
       "      <td>58911.0</td>\n",
       "      <td>26</td>\n",
       "      <td>288</td>\n",
       "      <td>1</td>\n",
       "    </tr>\n",
       "    <tr>\n",
       "      <th>2</th>\n",
       "      <td>Female</td>\n",
       "      <td>25</td>\n",
       "      <td>1</td>\n",
       "      <td>14</td>\n",
       "      <td>1</td>\n",
       "      <td>&lt; 1 Year</td>\n",
       "      <td>No</td>\n",
       "      <td>38043.0</td>\n",
       "      <td>152</td>\n",
       "      <td>254</td>\n",
       "      <td>0</td>\n",
       "    </tr>\n",
       "    <tr>\n",
       "      <th>3</th>\n",
       "      <td>Female</td>\n",
       "      <td>35</td>\n",
       "      <td>1</td>\n",
       "      <td>1</td>\n",
       "      <td>0</td>\n",
       "      <td>1-2 Year</td>\n",
       "      <td>Yes</td>\n",
       "      <td>2630.0</td>\n",
       "      <td>156</td>\n",
       "      <td>76</td>\n",
       "      <td>0</td>\n",
       "    </tr>\n",
       "    <tr>\n",
       "      <th>4</th>\n",
       "      <td>Female</td>\n",
       "      <td>36</td>\n",
       "      <td>1</td>\n",
       "      <td>15</td>\n",
       "      <td>1</td>\n",
       "      <td>1-2 Year</td>\n",
       "      <td>No</td>\n",
       "      <td>31951.0</td>\n",
       "      <td>152</td>\n",
       "      <td>294</td>\n",
       "      <td>0</td>\n",
       "    </tr>\n",
       "    <tr>\n",
       "      <th>5</th>\n",
       "      <td>Female</td>\n",
       "      <td>31</td>\n",
       "      <td>1</td>\n",
       "      <td>47</td>\n",
       "      <td>1</td>\n",
       "      <td>&lt; 1 Year</td>\n",
       "      <td>No</td>\n",
       "      <td>28150.0</td>\n",
       "      <td>152</td>\n",
       "      <td>197</td>\n",
       "      <td>0</td>\n",
       "    </tr>\n",
       "    <tr>\n",
       "      <th>6</th>\n",
       "      <td>Male</td>\n",
       "      <td>23</td>\n",
       "      <td>1</td>\n",
       "      <td>45</td>\n",
       "      <td>1</td>\n",
       "      <td>&lt; 1 Year</td>\n",
       "      <td>No</td>\n",
       "      <td>27128.0</td>\n",
       "      <td>152</td>\n",
       "      <td>190</td>\n",
       "      <td>0</td>\n",
       "    </tr>\n",
       "    <tr>\n",
       "      <th>7</th>\n",
       "      <td>Female</td>\n",
       "      <td>47</td>\n",
       "      <td>1</td>\n",
       "      <td>8</td>\n",
       "      <td>0</td>\n",
       "      <td>1-2 Year</td>\n",
       "      <td>Yes</td>\n",
       "      <td>40659.0</td>\n",
       "      <td>26</td>\n",
       "      <td>262</td>\n",
       "      <td>1</td>\n",
       "    </tr>\n",
       "    <tr>\n",
       "      <th>8</th>\n",
       "      <td>Female</td>\n",
       "      <td>26</td>\n",
       "      <td>1</td>\n",
       "      <td>28</td>\n",
       "      <td>1</td>\n",
       "      <td>&lt; 1 Year</td>\n",
       "      <td>No</td>\n",
       "      <td>31639.0</td>\n",
       "      <td>152</td>\n",
       "      <td>36</td>\n",
       "      <td>0</td>\n",
       "    </tr>\n",
       "    <tr>\n",
       "      <th>9</th>\n",
       "      <td>Female</td>\n",
       "      <td>66</td>\n",
       "      <td>1</td>\n",
       "      <td>11</td>\n",
       "      <td>0</td>\n",
       "      <td>1-2 Year</td>\n",
       "      <td>Yes</td>\n",
       "      <td>2630.0</td>\n",
       "      <td>26</td>\n",
       "      <td>125</td>\n",
       "      <td>0</td>\n",
       "    </tr>\n",
       "  </tbody>\n",
       "</table>\n",
       "</div>"
      ],
      "text/plain": [
       "    Gender  Age  Driving_License  Region_Code  Previously_Insured Vehicle_Age  \\\n",
       "id                                                                              \n",
       "0     Male   21                1           35                   0    1-2 Year   \n",
       "1     Male   43                1           28                   0   > 2 Years   \n",
       "2   Female   25                1           14                   1    < 1 Year   \n",
       "3   Female   35                1            1                   0    1-2 Year   \n",
       "4   Female   36                1           15                   1    1-2 Year   \n",
       "5   Female   31                1           47                   1    < 1 Year   \n",
       "6     Male   23                1           45                   1    < 1 Year   \n",
       "7   Female   47                1            8                   0    1-2 Year   \n",
       "8   Female   26                1           28                   1    < 1 Year   \n",
       "9   Female   66                1           11                   0    1-2 Year   \n",
       "\n",
       "   Vehicle_Damage  Annual_Premium  Policy_Sales_Channel  Vintage  Response  \n",
       "id                                                                          \n",
       "0             Yes         65101.0                   124      187         0  \n",
       "1             Yes         58911.0                    26      288         1  \n",
       "2              No         38043.0                   152      254         0  \n",
       "3             Yes          2630.0                   156       76         0  \n",
       "4              No         31951.0                   152      294         0  \n",
       "5              No         28150.0                   152      197         0  \n",
       "6              No         27128.0                   152      190         0  \n",
       "7             Yes         40659.0                    26      262         1  \n",
       "8              No         31639.0                   152       36         0  \n",
       "9             Yes          2630.0                    26      125         0  "
      ]
     },
     "execution_count": 7,
     "metadata": {},
     "output_type": "execute_result"
    }
   ],
   "source": [
    "# Display the first n rows of training\n",
    "train.head(n=10)"
   ]
  },
  {
   "cell_type": "code",
   "execution_count": 31,
   "metadata": {},
   "outputs": [
    {
     "data": {
      "text/html": [
       "<div>\n",
       "<style scoped>\n",
       "    .dataframe tbody tr th:only-of-type {\n",
       "        vertical-align: middle;\n",
       "    }\n",
       "\n",
       "    .dataframe tbody tr th {\n",
       "        vertical-align: top;\n",
       "    }\n",
       "\n",
       "    .dataframe thead th {\n",
       "        text-align: right;\n",
       "    }\n",
       "</style>\n",
       "<table border=\"1\" class=\"dataframe\">\n",
       "  <thead>\n",
       "    <tr style=\"text-align: right;\">\n",
       "      <th></th>\n",
       "      <th>Age</th>\n",
       "      <th>Driving_License</th>\n",
       "      <th>Region_Code</th>\n",
       "      <th>Previously_Insured</th>\n",
       "      <th>Annual_Premium</th>\n",
       "      <th>Policy_Sales_Channel</th>\n",
       "      <th>Vintage</th>\n",
       "      <th>Response</th>\n",
       "    </tr>\n",
       "  </thead>\n",
       "  <tbody>\n",
       "    <tr>\n",
       "      <th>count</th>\n",
       "      <td>1.150480e+07</td>\n",
       "      <td>1.150480e+07</td>\n",
       "      <td>1.150480e+07</td>\n",
       "      <td>1.150480e+07</td>\n",
       "      <td>1.150480e+07</td>\n",
       "      <td>1.150480e+07</td>\n",
       "      <td>1.150480e+07</td>\n",
       "      <td>1.150480e+07</td>\n",
       "    </tr>\n",
       "    <tr>\n",
       "      <th>mean</th>\n",
       "      <td>3.838356e+01</td>\n",
       "      <td>9.980220e-01</td>\n",
       "      <td>2.641869e+01</td>\n",
       "      <td>4.629966e-01</td>\n",
       "      <td>3.046136e+04</td>\n",
       "      <td>1.124254e+02</td>\n",
       "      <td>1.638977e+02</td>\n",
       "      <td>1.229973e-01</td>\n",
       "    </tr>\n",
       "    <tr>\n",
       "      <th>std</th>\n",
       "      <td>1.499346e+01</td>\n",
       "      <td>4.443120e-02</td>\n",
       "      <td>1.299159e+01</td>\n",
       "      <td>4.986289e-01</td>\n",
       "      <td>1.640609e+04</td>\n",
       "      <td>5.403571e+01</td>\n",
       "      <td>7.997953e+01</td>\n",
       "      <td>3.284341e-01</td>\n",
       "    </tr>\n",
       "    <tr>\n",
       "      <th>min</th>\n",
       "      <td>2.000000e+01</td>\n",
       "      <td>0.000000e+00</td>\n",
       "      <td>0.000000e+00</td>\n",
       "      <td>0.000000e+00</td>\n",
       "      <td>2.630000e+03</td>\n",
       "      <td>1.000000e+00</td>\n",
       "      <td>1.000000e+01</td>\n",
       "      <td>0.000000e+00</td>\n",
       "    </tr>\n",
       "    <tr>\n",
       "      <th>25%</th>\n",
       "      <td>2.400000e+01</td>\n",
       "      <td>1.000000e+00</td>\n",
       "      <td>1.500000e+01</td>\n",
       "      <td>0.000000e+00</td>\n",
       "      <td>2.527700e+04</td>\n",
       "      <td>2.900000e+01</td>\n",
       "      <td>9.900000e+01</td>\n",
       "      <td>0.000000e+00</td>\n",
       "    </tr>\n",
       "    <tr>\n",
       "      <th>50%</th>\n",
       "      <td>3.600000e+01</td>\n",
       "      <td>1.000000e+00</td>\n",
       "      <td>2.800000e+01</td>\n",
       "      <td>0.000000e+00</td>\n",
       "      <td>3.182400e+04</td>\n",
       "      <td>1.510000e+02</td>\n",
       "      <td>1.660000e+02</td>\n",
       "      <td>0.000000e+00</td>\n",
       "    </tr>\n",
       "    <tr>\n",
       "      <th>75%</th>\n",
       "      <td>4.900000e+01</td>\n",
       "      <td>1.000000e+00</td>\n",
       "      <td>3.500000e+01</td>\n",
       "      <td>1.000000e+00</td>\n",
       "      <td>3.945100e+04</td>\n",
       "      <td>1.520000e+02</td>\n",
       "      <td>2.320000e+02</td>\n",
       "      <td>0.000000e+00</td>\n",
       "    </tr>\n",
       "    <tr>\n",
       "      <th>max</th>\n",
       "      <td>8.500000e+01</td>\n",
       "      <td>1.000000e+00</td>\n",
       "      <td>5.200000e+01</td>\n",
       "      <td>1.000000e+00</td>\n",
       "      <td>5.401650e+05</td>\n",
       "      <td>1.630000e+02</td>\n",
       "      <td>2.990000e+02</td>\n",
       "      <td>1.000000e+00</td>\n",
       "    </tr>\n",
       "  </tbody>\n",
       "</table>\n",
       "</div>"
      ],
      "text/plain": [
       "                Age  Driving_License   Region_Code  Previously_Insured  \\\n",
       "count  1.150480e+07     1.150480e+07  1.150480e+07        1.150480e+07   \n",
       "mean   3.838356e+01     9.980220e-01  2.641869e+01        4.629966e-01   \n",
       "std    1.499346e+01     4.443120e-02  1.299159e+01        4.986289e-01   \n",
       "min    2.000000e+01     0.000000e+00  0.000000e+00        0.000000e+00   \n",
       "25%    2.400000e+01     1.000000e+00  1.500000e+01        0.000000e+00   \n",
       "50%    3.600000e+01     1.000000e+00  2.800000e+01        0.000000e+00   \n",
       "75%    4.900000e+01     1.000000e+00  3.500000e+01        1.000000e+00   \n",
       "max    8.500000e+01     1.000000e+00  5.200000e+01        1.000000e+00   \n",
       "\n",
       "       Annual_Premium  Policy_Sales_Channel       Vintage      Response  \n",
       "count    1.150480e+07          1.150480e+07  1.150480e+07  1.150480e+07  \n",
       "mean     3.046136e+04          1.124254e+02  1.638977e+02  1.229973e-01  \n",
       "std      1.640609e+04          5.403571e+01  7.997953e+01  3.284341e-01  \n",
       "min      2.630000e+03          1.000000e+00  1.000000e+01  0.000000e+00  \n",
       "25%      2.527700e+04          2.900000e+01  9.900000e+01  0.000000e+00  \n",
       "50%      3.182400e+04          1.510000e+02  1.660000e+02  0.000000e+00  \n",
       "75%      3.945100e+04          1.520000e+02  2.320000e+02  0.000000e+00  \n",
       "max      5.401650e+05          1.630000e+02  2.990000e+02  1.000000e+00  "
      ]
     },
     "execution_count": 31,
     "metadata": {},
     "output_type": "execute_result"
    }
   ],
   "source": [
    "# Describe the data\n",
    "train.describe()"
   ]
  },
  {
   "cell_type": "code",
   "execution_count": 45,
   "metadata": {},
   "outputs": [
    {
     "name": "stdout",
     "output_type": "stream",
     "text": [
      "<class 'pandas.core.frame.DataFrame'>\n",
      "Int64Index: 11504798 entries, 0 to 11504797\n",
      "Data columns (total 11 columns):\n",
      " #   Column                Dtype   \n",
      "---  ------                -----   \n",
      " 0   Gender                category\n",
      " 1   Age                   int8    \n",
      " 2   Driving_License       int8    \n",
      " 3   Region_Code           int8    \n",
      " 4   Previously_Insured    int8    \n",
      " 5   Vehicle_Age           category\n",
      " 6   Vehicle_Damage        category\n",
      " 7   Annual_Premium        float32 \n",
      " 8   Policy_Sales_Channel  int16   \n",
      " 9   Vintage               int16   \n",
      " 10  Response              int8    \n",
      "dtypes: category(3), float32(1), int16(2), int8(5)\n",
      "memory usage: 263.3 MB\n"
     ]
    }
   ],
   "source": [
    "# Display more info about the data\n",
    "train.info()"
   ]
  },
  {
   "cell_type": "code",
   "execution_count": 13,
   "metadata": {},
   "outputs": [
    {
     "data": {
      "text/plain": [
       "Gender                  0\n",
       "Age                     0\n",
       "Driving_License         0\n",
       "Region_Code             0\n",
       "Previously_Insured      0\n",
       "Vehicle_Age             0\n",
       "Vehicle_Damage          0\n",
       "Annual_Premium          0\n",
       "Policy_Sales_Channel    0\n",
       "Vintage                 0\n",
       "Response                0\n",
       "dtype: int64"
      ]
     },
     "execution_count": 13,
     "metadata": {},
     "output_type": "execute_result"
    }
   ],
   "source": [
    "# Verify if there are null values\n",
    "train.isnull().sum()"
   ]
  },
  {
   "cell_type": "code",
   "execution_count": 7,
   "metadata": {},
   "outputs": [
    {
     "name": "stdout",
     "output_type": "stream",
     "text": [
      "0\n"
     ]
    },
    {
     "data": {
      "text/html": [
       "<div>\n",
       "<style scoped>\n",
       "    .dataframe tbody tr th:only-of-type {\n",
       "        vertical-align: middle;\n",
       "    }\n",
       "\n",
       "    .dataframe tbody tr th {\n",
       "        vertical-align: top;\n",
       "    }\n",
       "\n",
       "    .dataframe thead th {\n",
       "        text-align: right;\n",
       "    }\n",
       "</style>\n",
       "<table border=\"1\" class=\"dataframe\">\n",
       "  <thead>\n",
       "    <tr style=\"text-align: right;\">\n",
       "      <th></th>\n",
       "      <th>Gender</th>\n",
       "      <th>Age</th>\n",
       "      <th>Driving_License</th>\n",
       "      <th>Region_Code</th>\n",
       "      <th>Previously_Insured</th>\n",
       "      <th>Vehicle_Age</th>\n",
       "      <th>Vehicle_Damage</th>\n",
       "      <th>Annual_Premium</th>\n",
       "      <th>Policy_Sales_Channel</th>\n",
       "      <th>Vintage</th>\n",
       "      <th>Response</th>\n",
       "    </tr>\n",
       "    <tr>\n",
       "      <th>id</th>\n",
       "      <th></th>\n",
       "      <th></th>\n",
       "      <th></th>\n",
       "      <th></th>\n",
       "      <th></th>\n",
       "      <th></th>\n",
       "      <th></th>\n",
       "      <th></th>\n",
       "      <th></th>\n",
       "      <th></th>\n",
       "      <th></th>\n",
       "    </tr>\n",
       "  </thead>\n",
       "  <tbody>\n",
       "    <tr>\n",
       "      <th>0</th>\n",
       "      <td>Male</td>\n",
       "      <td>21</td>\n",
       "      <td>1</td>\n",
       "      <td>35</td>\n",
       "      <td>0</td>\n",
       "      <td>1-2 Year</td>\n",
       "      <td>Yes</td>\n",
       "      <td>65101.0</td>\n",
       "      <td>124</td>\n",
       "      <td>187</td>\n",
       "      <td>0</td>\n",
       "    </tr>\n",
       "    <tr>\n",
       "      <th>1</th>\n",
       "      <td>Male</td>\n",
       "      <td>43</td>\n",
       "      <td>1</td>\n",
       "      <td>28</td>\n",
       "      <td>0</td>\n",
       "      <td>&gt; 2 Years</td>\n",
       "      <td>Yes</td>\n",
       "      <td>58911.0</td>\n",
       "      <td>26</td>\n",
       "      <td>288</td>\n",
       "      <td>1</td>\n",
       "    </tr>\n",
       "    <tr>\n",
       "      <th>2</th>\n",
       "      <td>Female</td>\n",
       "      <td>25</td>\n",
       "      <td>1</td>\n",
       "      <td>14</td>\n",
       "      <td>1</td>\n",
       "      <td>&lt; 1 Year</td>\n",
       "      <td>No</td>\n",
       "      <td>38043.0</td>\n",
       "      <td>152</td>\n",
       "      <td>254</td>\n",
       "      <td>0</td>\n",
       "    </tr>\n",
       "    <tr>\n",
       "      <th>3</th>\n",
       "      <td>Female</td>\n",
       "      <td>35</td>\n",
       "      <td>1</td>\n",
       "      <td>1</td>\n",
       "      <td>0</td>\n",
       "      <td>1-2 Year</td>\n",
       "      <td>Yes</td>\n",
       "      <td>2630.0</td>\n",
       "      <td>156</td>\n",
       "      <td>76</td>\n",
       "      <td>0</td>\n",
       "    </tr>\n",
       "    <tr>\n",
       "      <th>4</th>\n",
       "      <td>Female</td>\n",
       "      <td>36</td>\n",
       "      <td>1</td>\n",
       "      <td>15</td>\n",
       "      <td>1</td>\n",
       "      <td>1-2 Year</td>\n",
       "      <td>No</td>\n",
       "      <td>31951.0</td>\n",
       "      <td>152</td>\n",
       "      <td>294</td>\n",
       "      <td>0</td>\n",
       "    </tr>\n",
       "    <tr>\n",
       "      <th>...</th>\n",
       "      <td>...</td>\n",
       "      <td>...</td>\n",
       "      <td>...</td>\n",
       "      <td>...</td>\n",
       "      <td>...</td>\n",
       "      <td>...</td>\n",
       "      <td>...</td>\n",
       "      <td>...</td>\n",
       "      <td>...</td>\n",
       "      <td>...</td>\n",
       "      <td>...</td>\n",
       "    </tr>\n",
       "    <tr>\n",
       "      <th>11504793</th>\n",
       "      <td>Male</td>\n",
       "      <td>48</td>\n",
       "      <td>1</td>\n",
       "      <td>6</td>\n",
       "      <td>0</td>\n",
       "      <td>1-2 Year</td>\n",
       "      <td>Yes</td>\n",
       "      <td>27412.0</td>\n",
       "      <td>26</td>\n",
       "      <td>218</td>\n",
       "      <td>0</td>\n",
       "    </tr>\n",
       "    <tr>\n",
       "      <th>11504794</th>\n",
       "      <td>Female</td>\n",
       "      <td>26</td>\n",
       "      <td>1</td>\n",
       "      <td>36</td>\n",
       "      <td>0</td>\n",
       "      <td>&lt; 1 Year</td>\n",
       "      <td>Yes</td>\n",
       "      <td>29509.0</td>\n",
       "      <td>152</td>\n",
       "      <td>115</td>\n",
       "      <td>1</td>\n",
       "    </tr>\n",
       "    <tr>\n",
       "      <th>11504795</th>\n",
       "      <td>Female</td>\n",
       "      <td>29</td>\n",
       "      <td>1</td>\n",
       "      <td>32</td>\n",
       "      <td>1</td>\n",
       "      <td>&lt; 1 Year</td>\n",
       "      <td>No</td>\n",
       "      <td>2630.0</td>\n",
       "      <td>152</td>\n",
       "      <td>189</td>\n",
       "      <td>0</td>\n",
       "    </tr>\n",
       "    <tr>\n",
       "      <th>11504796</th>\n",
       "      <td>Female</td>\n",
       "      <td>51</td>\n",
       "      <td>1</td>\n",
       "      <td>28</td>\n",
       "      <td>0</td>\n",
       "      <td>1-2 Year</td>\n",
       "      <td>Yes</td>\n",
       "      <td>48443.0</td>\n",
       "      <td>26</td>\n",
       "      <td>274</td>\n",
       "      <td>1</td>\n",
       "    </tr>\n",
       "    <tr>\n",
       "      <th>11504797</th>\n",
       "      <td>Male</td>\n",
       "      <td>25</td>\n",
       "      <td>1</td>\n",
       "      <td>28</td>\n",
       "      <td>1</td>\n",
       "      <td>&lt; 1 Year</td>\n",
       "      <td>No</td>\n",
       "      <td>32855.0</td>\n",
       "      <td>152</td>\n",
       "      <td>189</td>\n",
       "      <td>0</td>\n",
       "    </tr>\n",
       "  </tbody>\n",
       "</table>\n",
       "<p>11504798 rows × 11 columns</p>\n",
       "</div>"
      ],
      "text/plain": [
       "          Gender  Age  Driving_License  Region_Code  Previously_Insured  \\\n",
       "id                                                                        \n",
       "0           Male   21                1           35                   0   \n",
       "1           Male   43                1           28                   0   \n",
       "2         Female   25                1           14                   1   \n",
       "3         Female   35                1            1                   0   \n",
       "4         Female   36                1           15                   1   \n",
       "...          ...  ...              ...          ...                 ...   \n",
       "11504793    Male   48                1            6                   0   \n",
       "11504794  Female   26                1           36                   0   \n",
       "11504795  Female   29                1           32                   1   \n",
       "11504796  Female   51                1           28                   0   \n",
       "11504797    Male   25                1           28                   1   \n",
       "\n",
       "         Vehicle_Age Vehicle_Damage  Annual_Premium  Policy_Sales_Channel  \\\n",
       "id                                                                          \n",
       "0           1-2 Year            Yes         65101.0                   124   \n",
       "1          > 2 Years            Yes         58911.0                    26   \n",
       "2           < 1 Year             No         38043.0                   152   \n",
       "3           1-2 Year            Yes          2630.0                   156   \n",
       "4           1-2 Year             No         31951.0                   152   \n",
       "...              ...            ...             ...                   ...   \n",
       "11504793    1-2 Year            Yes         27412.0                    26   \n",
       "11504794    < 1 Year            Yes         29509.0                   152   \n",
       "11504795    < 1 Year             No          2630.0                   152   \n",
       "11504796    1-2 Year            Yes         48443.0                    26   \n",
       "11504797    < 1 Year             No         32855.0                   152   \n",
       "\n",
       "          Vintage  Response  \n",
       "id                           \n",
       "0             187         0  \n",
       "1             288         1  \n",
       "2             254         0  \n",
       "3              76         0  \n",
       "4             294         0  \n",
       "...           ...       ...  \n",
       "11504793      218         0  \n",
       "11504794      115         1  \n",
       "11504795      189         0  \n",
       "11504796      274         1  \n",
       "11504797      189         0  \n",
       "\n",
       "[11504798 rows x 11 columns]"
      ]
     },
     "execution_count": 7,
     "metadata": {},
     "output_type": "execute_result"
    }
   ],
   "source": [
    "# Check for dublicates\n",
    "print(train.duplicated().sum())\n",
    "train.drop_duplicates()"
   ]
  },
  {
   "cell_type": "code",
   "execution_count": 8,
   "metadata": {},
   "outputs": [
    {
     "data": {
      "text/plain": [
       "Index(['Gender', 'Age', 'Driving_License', 'Region_Code', 'Previously_Insured',\n",
       "       'Vehicle_Age', 'Vehicle_Damage', 'Annual_Premium',\n",
       "       'Policy_Sales_Channel', 'Vintage', 'Response'],\n",
       "      dtype='object')"
      ]
     },
     "execution_count": 8,
     "metadata": {},
     "output_type": "execute_result"
    }
   ],
   "source": [
    "# Set the columns names\n",
    "names = train.columns\n",
    "names"
   ]
  },
  {
   "cell_type": "code",
   "execution_count": 7,
   "metadata": {},
   "outputs": [
    {
     "name": "stdout",
     "output_type": "stream",
     "text": [
      "Outliers detected in column 'Annual_Premium': 20.66% of total rows.\n",
      "Removed 2377273 outliers from column 'Annual_Premium'.\n"
     ]
    }
   ],
   "source": [
    "# Check for outliers\n",
    "\n",
    "def remove_outliers(df):\n",
    "\n",
    "    outliers_columns = []\n",
    "    total_rows = len(df)\n",
    "    \n",
    "    for column in df.select_dtypes(include=[np.number]).columns:\n",
    "        Q1 = df[column].quantile(0.25)\n",
    "        Q3 = df[column].quantile(0.75)\n",
    "        IQR = Q3 - Q1\n",
    "        lower_bound = Q1 - 1.5 * IQR\n",
    "        upper_bound = Q3 + 1.5 * IQR\n",
    "        \n",
    "        outliers = (df[column] < lower_bound) | (df[column] > upper_bound)\n",
    "        outlier_count = outliers.sum()\n",
    "        outlier_percentage = (outlier_count / total_rows) * 100\n",
    "        \n",
    "        if outlier_percentage >= 20:\n",
    "            outliers_columns.append(column)\n",
    "            print(f\"Outliers detected in column '{column}': {outlier_percentage:.2f}% of total rows.\")\n",
    "            \n",
    "            df = df[~outliers]\n",
    "            print(f\"Removed {outlier_count} outliers from column '{column}'.\")\n",
    "    \n",
    "    if not outliers_columns:\n",
    "        print(\"No columns with outliers exceeding 20% detected.\")\n",
    "\n",
    "    return df\n",
    "    \n",
    "train = remove_outliers(train)"
   ]
  },
  {
   "cell_type": "code",
   "execution_count": 8,
   "metadata": {},
   "outputs": [],
   "source": [
    "# One Hot Encode the training data\n",
    "train = pd.get_dummies(train, columns = ['Gender', 'Vehicle_Age', 'Vehicle_Damage'])"
   ]
  },
  {
   "cell_type": "code",
   "execution_count": 9,
   "metadata": {},
   "outputs": [],
   "source": [
    "# Rename columns encoded\n",
    "train.rename(columns = {'Vehicle_Age_< 1 Year': 'Vehicle Age Less than 1 yr',\n",
    "                           'Vehicle_Age_1-2 Year': 'Vehicle Age between 1 and 2 yrs',\n",
    "                           'Vehicle_Age_> 2 Years': 'Vehicle Age greater than 2 yrs'\n",
    "                          }, inplace = True)"
   ]
  },
  {
   "cell_type": "code",
   "execution_count": 10,
   "metadata": {},
   "outputs": [],
   "source": [
    "# Set the dataframes from training data\n",
    "response = train.pop('Response')\n",
    "train.insert(len(train.columns), 'Response', response)\n",
    "y_data = pd.DataFrame(train['Response'])\n",
    "X_data = pd.DataFrame(train.iloc[:,:-1])"
   ]
  },
  {
   "cell_type": "code",
   "execution_count": 30,
   "metadata": {},
   "outputs": [],
   "source": [
    "# Reshape for unbalanced data\n",
    "smoteenn = SMOTEENN()\n",
    "X_data, y_data = smoteenn.fit_resample(X_data, y_data)"
   ]
  },
  {
   "cell_type": "code",
   "execution_count": 11,
   "metadata": {},
   "outputs": [],
   "source": [
    "# Split The Training And Testing Data\n",
    "\n",
    "rows = train.shape[0]\n",
    "cols = train.shape[1]\n",
    "\n",
    "X_train, X_test, y_train, y_test = train_test_split(X_data, y_data, test_size=0.2, random_state=42)"
   ]
  },
  {
   "cell_type": "code",
   "execution_count": 19,
   "metadata": {},
   "outputs": [],
   "source": [
    "# Fill the null values with zero\n",
    "\n",
    "X_train = X_train.fillna(0)\n",
    "X_test = X_test.fillna(0)"
   ]
  },
  {
   "cell_type": "code",
   "execution_count": 74,
   "metadata": {},
   "outputs": [
    {
     "data": {
      "text/html": [
       "<div>\n",
       "<style scoped>\n",
       "    .dataframe tbody tr th:only-of-type {\n",
       "        vertical-align: middle;\n",
       "    }\n",
       "\n",
       "    .dataframe tbody tr th {\n",
       "        vertical-align: top;\n",
       "    }\n",
       "\n",
       "    .dataframe thead th {\n",
       "        text-align: right;\n",
       "    }\n",
       "</style>\n",
       "<table border=\"1\" class=\"dataframe\">\n",
       "  <thead>\n",
       "    <tr style=\"text-align: right;\">\n",
       "      <th></th>\n",
       "      <th>Age</th>\n",
       "      <th>Driving_License</th>\n",
       "      <th>Region_Code</th>\n",
       "      <th>Previously_Insured</th>\n",
       "      <th>Annual_Premium</th>\n",
       "      <th>Policy_Sales_Channel</th>\n",
       "      <th>Vintage</th>\n",
       "      <th>Gender_Female</th>\n",
       "      <th>Gender_Male</th>\n",
       "      <th>Vehicle Age between 1 and 2 yrs</th>\n",
       "      <th>Vehicle Age Less than 1 yr</th>\n",
       "      <th>Vehicle Age greater than 2 yrs</th>\n",
       "      <th>Vehicle_Damage_No</th>\n",
       "      <th>Vehicle_Damage_Yes</th>\n",
       "      <th>Response</th>\n",
       "    </tr>\n",
       "    <tr>\n",
       "      <th>id</th>\n",
       "      <th></th>\n",
       "      <th></th>\n",
       "      <th></th>\n",
       "      <th></th>\n",
       "      <th></th>\n",
       "      <th></th>\n",
       "      <th></th>\n",
       "      <th></th>\n",
       "      <th></th>\n",
       "      <th></th>\n",
       "      <th></th>\n",
       "      <th></th>\n",
       "      <th></th>\n",
       "      <th></th>\n",
       "      <th></th>\n",
       "    </tr>\n",
       "  </thead>\n",
       "  <tbody>\n",
       "    <tr>\n",
       "      <th>1</th>\n",
       "      <td>43</td>\n",
       "      <td>1</td>\n",
       "      <td>28</td>\n",
       "      <td>0</td>\n",
       "      <td>58911.0</td>\n",
       "      <td>26</td>\n",
       "      <td>288</td>\n",
       "      <td>0</td>\n",
       "      <td>1</td>\n",
       "      <td>0</td>\n",
       "      <td>0</td>\n",
       "      <td>1</td>\n",
       "      <td>0</td>\n",
       "      <td>1</td>\n",
       "      <td>1</td>\n",
       "    </tr>\n",
       "    <tr>\n",
       "      <th>2</th>\n",
       "      <td>25</td>\n",
       "      <td>1</td>\n",
       "      <td>14</td>\n",
       "      <td>1</td>\n",
       "      <td>38043.0</td>\n",
       "      <td>152</td>\n",
       "      <td>254</td>\n",
       "      <td>1</td>\n",
       "      <td>0</td>\n",
       "      <td>0</td>\n",
       "      <td>1</td>\n",
       "      <td>0</td>\n",
       "      <td>1</td>\n",
       "      <td>0</td>\n",
       "      <td>0</td>\n",
       "    </tr>\n",
       "    <tr>\n",
       "      <th>4</th>\n",
       "      <td>36</td>\n",
       "      <td>1</td>\n",
       "      <td>15</td>\n",
       "      <td>1</td>\n",
       "      <td>31951.0</td>\n",
       "      <td>152</td>\n",
       "      <td>294</td>\n",
       "      <td>1</td>\n",
       "      <td>0</td>\n",
       "      <td>1</td>\n",
       "      <td>0</td>\n",
       "      <td>0</td>\n",
       "      <td>1</td>\n",
       "      <td>0</td>\n",
       "      <td>0</td>\n",
       "    </tr>\n",
       "    <tr>\n",
       "      <th>5</th>\n",
       "      <td>31</td>\n",
       "      <td>1</td>\n",
       "      <td>47</td>\n",
       "      <td>1</td>\n",
       "      <td>28150.0</td>\n",
       "      <td>152</td>\n",
       "      <td>197</td>\n",
       "      <td>1</td>\n",
       "      <td>0</td>\n",
       "      <td>0</td>\n",
       "      <td>1</td>\n",
       "      <td>0</td>\n",
       "      <td>1</td>\n",
       "      <td>0</td>\n",
       "      <td>0</td>\n",
       "    </tr>\n",
       "    <tr>\n",
       "      <th>6</th>\n",
       "      <td>23</td>\n",
       "      <td>1</td>\n",
       "      <td>45</td>\n",
       "      <td>1</td>\n",
       "      <td>27128.0</td>\n",
       "      <td>152</td>\n",
       "      <td>190</td>\n",
       "      <td>0</td>\n",
       "      <td>1</td>\n",
       "      <td>0</td>\n",
       "      <td>1</td>\n",
       "      <td>0</td>\n",
       "      <td>1</td>\n",
       "      <td>0</td>\n",
       "      <td>0</td>\n",
       "    </tr>\n",
       "    <tr>\n",
       "      <th>...</th>\n",
       "      <td>...</td>\n",
       "      <td>...</td>\n",
       "      <td>...</td>\n",
       "      <td>...</td>\n",
       "      <td>...</td>\n",
       "      <td>...</td>\n",
       "      <td>...</td>\n",
       "      <td>...</td>\n",
       "      <td>...</td>\n",
       "      <td>...</td>\n",
       "      <td>...</td>\n",
       "      <td>...</td>\n",
       "      <td>...</td>\n",
       "      <td>...</td>\n",
       "      <td>...</td>\n",
       "    </tr>\n",
       "    <tr>\n",
       "      <th>11504792</th>\n",
       "      <td>34</td>\n",
       "      <td>1</td>\n",
       "      <td>28</td>\n",
       "      <td>1</td>\n",
       "      <td>29974.0</td>\n",
       "      <td>154</td>\n",
       "      <td>201</td>\n",
       "      <td>0</td>\n",
       "      <td>1</td>\n",
       "      <td>1</td>\n",
       "      <td>0</td>\n",
       "      <td>0</td>\n",
       "      <td>1</td>\n",
       "      <td>0</td>\n",
       "      <td>0</td>\n",
       "    </tr>\n",
       "    <tr>\n",
       "      <th>11504793</th>\n",
       "      <td>48</td>\n",
       "      <td>1</td>\n",
       "      <td>6</td>\n",
       "      <td>0</td>\n",
       "      <td>27412.0</td>\n",
       "      <td>26</td>\n",
       "      <td>218</td>\n",
       "      <td>0</td>\n",
       "      <td>1</td>\n",
       "      <td>1</td>\n",
       "      <td>0</td>\n",
       "      <td>0</td>\n",
       "      <td>0</td>\n",
       "      <td>1</td>\n",
       "      <td>0</td>\n",
       "    </tr>\n",
       "    <tr>\n",
       "      <th>11504794</th>\n",
       "      <td>26</td>\n",
       "      <td>1</td>\n",
       "      <td>36</td>\n",
       "      <td>0</td>\n",
       "      <td>29509.0</td>\n",
       "      <td>152</td>\n",
       "      <td>115</td>\n",
       "      <td>1</td>\n",
       "      <td>0</td>\n",
       "      <td>0</td>\n",
       "      <td>1</td>\n",
       "      <td>0</td>\n",
       "      <td>0</td>\n",
       "      <td>1</td>\n",
       "      <td>1</td>\n",
       "    </tr>\n",
       "    <tr>\n",
       "      <th>11504796</th>\n",
       "      <td>51</td>\n",
       "      <td>1</td>\n",
       "      <td>28</td>\n",
       "      <td>0</td>\n",
       "      <td>48443.0</td>\n",
       "      <td>26</td>\n",
       "      <td>274</td>\n",
       "      <td>1</td>\n",
       "      <td>0</td>\n",
       "      <td>1</td>\n",
       "      <td>0</td>\n",
       "      <td>0</td>\n",
       "      <td>0</td>\n",
       "      <td>1</td>\n",
       "      <td>1</td>\n",
       "    </tr>\n",
       "    <tr>\n",
       "      <th>11504797</th>\n",
       "      <td>25</td>\n",
       "      <td>1</td>\n",
       "      <td>28</td>\n",
       "      <td>1</td>\n",
       "      <td>32855.0</td>\n",
       "      <td>152</td>\n",
       "      <td>189</td>\n",
       "      <td>0</td>\n",
       "      <td>1</td>\n",
       "      <td>0</td>\n",
       "      <td>1</td>\n",
       "      <td>0</td>\n",
       "      <td>1</td>\n",
       "      <td>0</td>\n",
       "      <td>0</td>\n",
       "    </tr>\n",
       "  </tbody>\n",
       "</table>\n",
       "<p>9127525 rows × 15 columns</p>\n",
       "</div>"
      ],
      "text/plain": [
       "          Age  Driving_License  Region_Code  Previously_Insured  \\\n",
       "id                                                                \n",
       "1          43                1           28                   0   \n",
       "2          25                1           14                   1   \n",
       "4          36                1           15                   1   \n",
       "5          31                1           47                   1   \n",
       "6          23                1           45                   1   \n",
       "...       ...              ...          ...                 ...   \n",
       "11504792   34                1           28                   1   \n",
       "11504793   48                1            6                   0   \n",
       "11504794   26                1           36                   0   \n",
       "11504796   51                1           28                   0   \n",
       "11504797   25                1           28                   1   \n",
       "\n",
       "          Annual_Premium  Policy_Sales_Channel  Vintage  Gender_Female  \\\n",
       "id                                                                       \n",
       "1                58911.0                    26      288              0   \n",
       "2                38043.0                   152      254              1   \n",
       "4                31951.0                   152      294              1   \n",
       "5                28150.0                   152      197              1   \n",
       "6                27128.0                   152      190              0   \n",
       "...                  ...                   ...      ...            ...   \n",
       "11504792         29974.0                   154      201              0   \n",
       "11504793         27412.0                    26      218              0   \n",
       "11504794         29509.0                   152      115              1   \n",
       "11504796         48443.0                    26      274              1   \n",
       "11504797         32855.0                   152      189              0   \n",
       "\n",
       "          Gender_Male  Vehicle Age between 1 and 2 yrs  \\\n",
       "id                                                       \n",
       "1                   1                                0   \n",
       "2                   0                                0   \n",
       "4                   0                                1   \n",
       "5                   0                                0   \n",
       "6                   1                                0   \n",
       "...               ...                              ...   \n",
       "11504792            1                                1   \n",
       "11504793            1                                1   \n",
       "11504794            0                                0   \n",
       "11504796            0                                1   \n",
       "11504797            1                                0   \n",
       "\n",
       "          Vehicle Age Less than 1 yr  Vehicle Age greater than 2 yrs  \\\n",
       "id                                                                     \n",
       "1                                  0                               1   \n",
       "2                                  1                               0   \n",
       "4                                  0                               0   \n",
       "5                                  1                               0   \n",
       "6                                  1                               0   \n",
       "...                              ...                             ...   \n",
       "11504792                           0                               0   \n",
       "11504793                           0                               0   \n",
       "11504794                           1                               0   \n",
       "11504796                           0                               0   \n",
       "11504797                           1                               0   \n",
       "\n",
       "          Vehicle_Damage_No  Vehicle_Damage_Yes  Response  \n",
       "id                                                         \n",
       "1                         0                   1         1  \n",
       "2                         1                   0         0  \n",
       "4                         1                   0         0  \n",
       "5                         1                   0         0  \n",
       "6                         1                   0         0  \n",
       "...                     ...                 ...       ...  \n",
       "11504792                  1                   0         0  \n",
       "11504793                  0                   1         0  \n",
       "11504794                  0                   1         1  \n",
       "11504796                  0                   1         1  \n",
       "11504797                  1                   0         0  \n",
       "\n",
       "[9127525 rows x 15 columns]"
      ]
     },
     "execution_count": 74,
     "metadata": {},
     "output_type": "execute_result"
    }
   ],
   "source": [
    "# Newer input and output data\n",
    "train"
   ]
  },
  {
   "cell_type": "markdown",
   "metadata": {},
   "source": [
    "# Plotting Training Data"
   ]
  },
  {
   "cell_type": "code",
   "execution_count": 21,
   "metadata": {},
   "outputs": [
    {
     "data": {
      "image/png": "[encoded data removed]",
      "text/plain": [
       "<Figure size 640x480 with 1 Axes>"
      ]
     },
     "metadata": {},
     "output_type": "display_data"
    },
    {
     "data": {
      "image/png": "[encoded data removed]",
      "text/plain": [
       "<Figure size 640x480 with 1 Axes>"
      ]
     },
     "metadata": {},
     "output_type": "display_data"
    },
    {
     "data": {
      "image/png": "[encoded data removed]",
      "text/plain": [
       "<Figure size 640x480 with 1 Axes>"
      ]
     },
     "metadata": {},
     "output_type": "display_data"
    },
    {
     "data": {
      "image/png": "[encoded data removed]",
      "text/plain": [
       "<Figure size 640x480 with 1 Axes>"
      ]
     },
     "metadata": {},
     "output_type": "display_data"
    },
    {
     "data": {
      "image/png": "[encoded data removed]",
      "text/plain": [
       "<Figure size 640x480 with 1 Axes>"
      ]
     },
     "metadata": {},
     "output_type": "display_data"
    },
    {
     "data": {
      "image/png": "[encoded data removed]",
      "text/plain": [
       "<Figure size 640x480 with 1 Axes>"
      ]
     },
     "metadata": {},
     "output_type": "display_data"
    },
    {
     "data": {
      "image/png": "[encoded data removed]",
      "text/plain": [
       "<Figure size 640x480 with 1 Axes>"
      ]
     },
     "metadata": {},
     "output_type": "display_data"
    },
    {
     "data": {
      "image/png": "[encoded data removed]",
      "text/plain": [
       "<Figure size 640x480 with 1 Axes>"
      ]
     },
     "metadata": {},
     "output_type": "display_data"
    }
   ],
   "source": [
    "# Plotting scatter training data for relevancy \n",
    "\n",
    "def scatter():\n",
    "    numerical_columns = train.select_dtypes(include=['int8', 'float32', 'uint8', 'int16']).columns\n",
    "    for column in numerical_columns[:-1]:\n",
    "        plt.figure()\n",
    "        plt.scatter(train[train['Response'] == 0][column], train[train['Response'] == 0]['Response'], label='No', color='red', alpha=0.7)\n",
    "        plt.scatter(train[train['Response'] == 1][column], train[train['Response'] == 1]['Response'], label='Yes', color='blue', alpha=0.7)\n",
    "        plt.legend()\n",
    "        plt.title(column)\n",
    "        plt.ylabel('Response')\n",
    "        plt.xlabel(column)\n",
    "        plt.grid()\n",
    "        plot_path = f\"{_plots}{column}_scatter.jpg\"\n",
    "        plt.savefig(plot_path)\n",
    "        plt.show()\n",
    "\n",
    "scatter()"
   ]
  },
  {
   "cell_type": "code",
   "execution_count": 22,
   "metadata": {},
   "outputs": [
    {
     "data": {
      "image/png": "[encoded data removed]",
      "text/plain": [
       "<Figure size 640x480 with 1 Axes>"
      ]
     },
     "metadata": {},
     "output_type": "display_data"
    },
    {
     "data": {
      "image/png": "[encoded data removed]",
      "text/plain": [
       "<Figure size 640x480 with 1 Axes>"
      ]
     },
     "metadata": {},
     "output_type": "display_data"
    },
    {
     "data": {
      "image/png": "[encoded data removed]",
      "text/plain": [
       "<Figure size 640x480 with 1 Axes>"
      ]
     },
     "metadata": {},
     "output_type": "display_data"
    },
    {
     "data": {
      "image/png": "[encoded data removed]",
      "text/plain": [
       "<Figure size 640x480 with 1 Axes>"
      ]
     },
     "metadata": {},
     "output_type": "display_data"
    },
    {
     "data": {
      "image/png": "[encoded data removed]",
      "text/plain": [
       "<Figure size 640x480 with 1 Axes>"
      ]
     },
     "metadata": {},
     "output_type": "display_data"
    },
    {
     "data": {
      "image/png": "[encoded data removed]",
      "text/plain": [
       "<Figure size 640x480 with 1 Axes>"
      ]
     },
     "metadata": {},
     "output_type": "display_data"
    },
    {
     "data": {
      "image/png": "[encoded data removed]",
      "text/plain": [
       "<Figure size 640x480 with 1 Axes>"
      ]
     },
     "metadata": {},
     "output_type": "display_data"
    },
    {
     "data": {
      "image/png": "[encoded data removed]",
      "text/plain": [
       "<Figure size 640x480 with 1 Axes>"
      ]
     },
     "metadata": {},
     "output_type": "display_data"
    }
   ],
   "source": [
    "# Plotting histogram training data for relevancy \n",
    "\n",
    "def histogram():\n",
    "    numerical_columns = train.select_dtypes(include=['int8', 'float32', 'uint8', 'int16']).columns\n",
    "    for column in numerical_columns[:-1]:\n",
    "        plt.figure()\n",
    "        plt.hist(train[train['Response'] == 0][column], label='No', color='red', alpha=0.7, density=False)\n",
    "        plt.hist(train[train['Response'] == 1][column], label='Yes', color='blue', alpha=0.7, density=False)\n",
    "        plt.legend()\n",
    "        plt.title(column)\n",
    "        plt.ylabel(column)\n",
    "        plt.xlabel('Response')\n",
    "        plt.grid()\n",
    "        plot_path = f\"{_plots}{column}_histogram.jpg\"\n",
    "        plt.savefig(plot_path)  \n",
    "        plt.show()\n",
    "\n",
    "histogram()"
   ]
  },
  {
   "cell_type": "markdown",
   "metadata": {},
   "source": [
    "# K-NearestNeighboor Model "
   ]
  },
  {
   "cell_type": "code",
   "execution_count": 37,
   "metadata": {},
   "outputs": [],
   "source": [
    "from sklearn.neighbors import KNeighborsClassifier"
   ]
  },
  {
   "cell_type": "code",
   "execution_count": 42,
   "metadata": {},
   "outputs": [
    {
     "name": "stdout",
     "output_type": "stream",
     "text": [
      "              precision    recall  f1-score   support\n",
      "\n",
      "           0       0.89      0.96      0.93   1605454\n",
      "           1       0.33      0.13      0.19    220051\n",
      "\n",
      "    accuracy                           0.86   1825505\n",
      "   macro avg       0.61      0.55      0.56   1825505\n",
      "weighted avg       0.82      0.86      0.84   1825505\n",
      "\n"
     ]
    }
   ],
   "source": [
    "knn_model = KNeighborsClassifier()\n",
    "knn_model.fit(X_train, y_train)\n",
    "knn_pred = knn_model.predict(X_test)\n",
    "print(classification_report(y_test, knn_pred))"
   ]
  },
  {
   "cell_type": "code",
   "execution_count": 43,
   "metadata": {},
   "outputs": [
    {
     "name": "stdout",
     "output_type": "stream",
     "text": [
      "0.8635221486657116\n"
     ]
    }
   ],
   "source": [
    "pkl.dump(knn_model, open('./tested/KNearestNeighboor.pkl', 'wb'))\n",
    "print(accuracy_score(y_test, knn_pred))\n",
    "del knn_model, knn_pred"
   ]
  },
  {
   "cell_type": "markdown",
   "metadata": {},
   "source": [
    "# Gaussian Naive Bayes Model "
   ]
  },
  {
   "cell_type": "code",
   "execution_count": 38,
   "metadata": {},
   "outputs": [],
   "source": [
    "from sklearn.naive_bayes import GaussianNB"
   ]
  },
  {
   "cell_type": "code",
   "execution_count": 39,
   "metadata": {},
   "outputs": [
    {
     "name": "stdout",
     "output_type": "stream",
     "text": [
      "              precision    recall  f1-score   support\n",
      "\n",
      "           0       0.97      0.72      0.83   1605454\n",
      "           1       0.29      0.85      0.44    220051\n",
      "\n",
      "    accuracy                           0.74   1825505\n",
      "   macro avg       0.63      0.79      0.63   1825505\n",
      "weighted avg       0.89      0.74      0.78   1825505\n",
      "\n"
     ]
    }
   ],
   "source": [
    "gnb_model = GaussianNB()\n",
    "gnb_model.fit(X_train, y_train)\n",
    "gnb_pred = gnb_model.predict(X_test)\n",
    "print(classification_report(y_test, gnb_pred))"
   ]
  },
  {
   "cell_type": "code",
   "execution_count": 41,
   "metadata": {},
   "outputs": [
    {
     "name": "stdout",
     "output_type": "stream",
     "text": [
      "0.7358599401261569\n"
     ]
    }
   ],
   "source": [
    "pkl.dump(gnb_model, open('./tested/GaussianNaiveBaye.pkl', 'wb'))\n",
    "print(accuracy_score(y_test, gnb_pred))\n",
    "del gnb_model, gnb_pred"
   ]
  },
  {
   "cell_type": "markdown",
   "metadata": {},
   "source": [
    "# Logistic Regression Model"
   ]
  },
  {
   "cell_type": "code",
   "execution_count": 44,
   "metadata": {},
   "outputs": [],
   "source": [
    "from sklearn.linear_model import LogisticRegression"
   ]
  },
  {
   "cell_type": "code",
   "execution_count": 45,
   "metadata": {},
   "outputs": [
    {
     "name": "stdout",
     "output_type": "stream",
     "text": [
      "              precision    recall  f1-score   support\n",
      "\n",
      "           0       0.88      1.00      0.93   1605454\n",
      "           1       0.21      0.01      0.02    220051\n",
      "\n",
      "    accuracy                           0.88   1825505\n",
      "   macro avg       0.54      0.50      0.48   1825505\n",
      "weighted avg       0.80      0.88      0.82   1825505\n",
      "\n"
     ]
    }
   ],
   "source": [
    "log_model = LogisticRegression()\n",
    "log_model.fit(X_train, y_train)\n",
    "log_pred = log_model.predict(X_test)\n",
    "print(classification_report(y_test, log_pred))"
   ]
  },
  {
   "cell_type": "code",
   "execution_count": 46,
   "metadata": {},
   "outputs": [
    {
     "name": "stdout",
     "output_type": "stream",
     "text": [
      "0.8766166074593058\n"
     ]
    }
   ],
   "source": [
    "pkl.dump(log_model, open('./tested/LogisticRegression.pkl', 'wb'))\n",
    "print(accuracy_score(y_test, log_pred))\n",
    "del log_model, log_pred"
   ]
  },
  {
   "cell_type": "markdown",
   "metadata": {},
   "source": [
    "# Support Vector Classifier Model"
   ]
  },
  {
   "cell_type": "code",
   "execution_count": 27,
   "metadata": {},
   "outputs": [],
   "source": [
    "from sklearn.svm import SVC"
   ]
  },
  {
   "cell_type": "code",
   "execution_count": 26,
   "metadata": {},
   "outputs": [],
   "source": [
    "svc_model = SVC()\n",
    "svc_model.fit(X_train, y_train)\n",
    "svc_pred = svc_model.predict(X_test)\n",
    "print(classification_report(y_test, svc_pred))"
   ]
  },
  {
   "cell_type": "code",
   "execution_count": null,
   "metadata": {},
   "outputs": [],
   "source": [
    "pkl.dump(svc_model, open('./tested/SupportVectorMachine.pkl', 'wb'))\n",
    "print(accuracy_score(y_test, svc_pred))\n",
    "del svc_model, svc_pred"
   ]
  },
  {
   "cell_type": "markdown",
   "metadata": {},
   "source": [
    "# Decision Tree Cassifier Model"
   ]
  },
  {
   "cell_type": "code",
   "execution_count": 47,
   "metadata": {},
   "outputs": [],
   "source": [
    "from sklearn.tree import DecisionTreeClassifier"
   ]
  },
  {
   "cell_type": "code",
   "execution_count": 48,
   "metadata": {},
   "outputs": [
    {
     "name": "stdout",
     "output_type": "stream",
     "text": [
      "              precision    recall  f1-score   support\n",
      "\n",
      "           0       0.91      0.90      0.91   1605454\n",
      "           1       0.33      0.35      0.34    220051\n",
      "\n",
      "    accuracy                           0.84   1825505\n",
      "   macro avg       0.62      0.63      0.62   1825505\n",
      "weighted avg       0.84      0.84      0.84   1825505\n",
      "\n"
     ]
    }
   ],
   "source": [
    "dtc_model = DecisionTreeClassifier()\n",
    "dtc_model.fit(X_train, y_train)\n",
    "dtc_pred = dtc_model.predict(X_test)\n",
    "print(classification_report(y_test, dtc_pred))"
   ]
  },
  {
   "cell_type": "code",
   "execution_count": 49,
   "metadata": {},
   "outputs": [
    {
     "name": "stdout",
     "output_type": "stream",
     "text": [
      "0.8370544041237904\n"
     ]
    }
   ],
   "source": [
    "pkl.dump(dtc_model, open('./tested/DecisionTreeCassifier.pkl', 'wb'))\n",
    "print(accuracy_score(y_test, dtc_pred))\n",
    "del dtc_model, dtc_pred"
   ]
  },
  {
   "cell_type": "markdown",
   "metadata": {},
   "source": [
    "# Random Forest Classifier Model"
   ]
  },
  {
   "cell_type": "code",
   "execution_count": 36,
   "metadata": {},
   "outputs": [],
   "source": [
    "from sklearn.ensemble import RandomForestClassifier"
   ]
  },
  {
   "cell_type": "code",
   "execution_count": 37,
   "metadata": {},
   "outputs": [],
   "source": [
    "rfc_model = RandomForestClassifier()\n",
    "rfc_model.fit(X_train, y_train)\n",
    "rfc_pred = rfc_model.predict(X_test)\n",
    "print(classification_report(y_test, rfc_pred))"
   ]
  },
  {
   "cell_type": "code",
   "execution_count": null,
   "metadata": {},
   "outputs": [],
   "source": [
    "pkl.dump(rfc_model, open('./tested/RandomForestClassifier.pkl', 'wb'))\n",
    "print(accuracy_score(y_test, rfc_pred))\n",
    "del rfc_model, rfc_pred"
   ]
  },
  {
   "cell_type": "markdown",
   "metadata": {},
   "source": [
    "# Linear Discriminant Analysis Model"
   ]
  },
  {
   "cell_type": "code",
   "execution_count": 50,
   "metadata": {},
   "outputs": [],
   "source": [
    "from sklearn.discriminant_analysis import LinearDiscriminantAnalysis"
   ]
  },
  {
   "cell_type": "code",
   "execution_count": 51,
   "metadata": {},
   "outputs": [
    {
     "name": "stdout",
     "output_type": "stream",
     "text": [
      "              precision    recall  f1-score   support\n",
      "\n",
      "           0       0.88      1.00      0.94   1605454\n",
      "           1       0.39      0.02      0.03    220051\n",
      "\n",
      "    accuracy                           0.88   1825505\n",
      "   macro avg       0.64      0.51      0.48   1825505\n",
      "weighted avg       0.82      0.88      0.83   1825505\n",
      "\n"
     ]
    }
   ],
   "source": [
    "lda_model = LinearDiscriminantAnalysis()\n",
    "lda_model.fit(X_train, y_train)\n",
    "lda_pred = lda_model.predict(X_test)\n",
    "print(classification_report(y_test, lda_pred))"
   ]
  },
  {
   "cell_type": "code",
   "execution_count": 52,
   "metadata": {},
   "outputs": [
    {
     "name": "stdout",
     "output_type": "stream",
     "text": [
      "0.8783268191541519\n"
     ]
    }
   ],
   "source": [
    "pkl.dump(lda_model, open('./tested/LinearDiscriminantAnalysis.pkl', 'wb'))\n",
    "print(accuracy_score(y_test, lda_pred))\n",
    "del lda_model, lda_pred"
   ]
  },
  {
   "cell_type": "markdown",
   "metadata": {},
   "source": [
    "# Gradient Boosting Classifier Model"
   ]
  },
  {
   "cell_type": "code",
   "execution_count": 53,
   "metadata": {},
   "outputs": [],
   "source": [
    "from sklearn.ensemble import GradientBoostingClassifier"
   ]
  },
  {
   "cell_type": "code",
   "execution_count": 54,
   "metadata": {},
   "outputs": [
    {
     "name": "stdout",
     "output_type": "stream",
     "text": [
      "              precision    recall  f1-score   support\n",
      "\n",
      "           0       0.88      1.00      0.94   1605454\n",
      "           1       0.63      0.00      0.00    220051\n",
      "\n",
      "    accuracy                           0.88   1825505\n",
      "   macro avg       0.76      0.50      0.47   1825505\n",
      "weighted avg       0.85      0.88      0.82   1825505\n",
      "\n"
     ]
    }
   ],
   "source": [
    "gbc_model = GradientBoostingClassifier()\n",
    "gbc_model.fit(X_train, y_train)\n",
    "gbc_pred = gbc_model.predict(X_test)\n",
    "print(classification_report(y_test, gbc_pred))"
   ]
  },
  {
   "cell_type": "code",
   "execution_count": 55,
   "metadata": {},
   "outputs": [
    {
     "name": "stdout",
     "output_type": "stream",
     "text": [
      "0.8795735974428993\n"
     ]
    }
   ],
   "source": [
    "pkl.dump(gbc_model, open('./tested/GradientBoostingClassifier.pkl', 'wb'))\n",
    "print(accuracy_score(y_test, gbc_pred))\n",
    "del gbc_model, gbc_pred"
   ]
  },
  {
   "cell_type": "markdown",
   "metadata": {},
   "source": [
    "# Neural Network Classifier Model"
   ]
  },
  {
   "cell_type": "code",
   "execution_count": 36,
   "metadata": {},
   "outputs": [],
   "source": [
    "from sklearn.neural_network import MLPClassifier"
   ]
  },
  {
   "cell_type": "code",
   "execution_count": 37,
   "metadata": {},
   "outputs": [
    {
     "name": "stdout",
     "output_type": "stream",
     "text": [
      "              precision    recall  f1-score   support\n",
      "\n",
      "           0       1.00      1.00      1.00     89465\n",
      "           1       1.00      1.00      1.00    118635\n",
      "\n",
      "    accuracy                           1.00    208100\n",
      "   macro avg       1.00      1.00      1.00    208100\n",
      "weighted avg       1.00      1.00      1.00    208100\n",
      "\n"
     ]
    }
   ],
   "source": [
    "nnc_model = MLPClassifier()\n",
    "nnc_model.fit(X_train, y_train)\n",
    "nnc_pred = nnc_model.predict(X_test)\n",
    "print(classification_report(y_test, nnc_pred))"
   ]
  },
  {
   "cell_type": "code",
   "execution_count": null,
   "metadata": {},
   "outputs": [],
   "source": [
    "pkl.dump(nnc_model, open('./tested/NeuralNetworkClassifier.pkl', 'wb'))\n",
    "print(accuracy_score(y_test, nnc_pred))\n",
    "del nnc_model, nnc_pred"
   ]
  },
  {
   "cell_type": "markdown",
   "metadata": {},
   "source": [
    "# X Gradient Boost Classifier"
   ]
  },
  {
   "cell_type": "code",
   "execution_count": 16,
   "metadata": {},
   "outputs": [],
   "source": [
    "from xgboost import XGBClassifier"
   ]
  },
  {
   "cell_type": "code",
   "execution_count": 17,
   "metadata": {},
   "outputs": [
    {
     "name": "stdout",
     "output_type": "stream",
     "text": [
      "              precision    recall  f1-score   support\n",
      "\n",
      "           0       0.89      0.99      0.94   1605454\n",
      "           1       0.57      0.09      0.15    220051\n",
      "\n",
      "    accuracy                           0.88   1825505\n",
      "   macro avg       0.73      0.54      0.54   1825505\n",
      "weighted avg       0.85      0.88      0.84   1825505\n",
      "\n"
     ]
    }
   ],
   "source": [
    "xgb_model = XGBClassifier()\n",
    "xgb_model.fit(X_train, y_train)\n",
    "xgb_pred = xgb_model.predict(X_test)\n",
    "print(classification_report(y_test, xgb_pred))"
   ]
  },
  {
   "cell_type": "code",
   "execution_count": 64,
   "metadata": {},
   "outputs": [
    {
     "name": "stdout",
     "output_type": "stream",
     "text": [
      "0.8821126208912055\n"
     ]
    }
   ],
   "source": [
    "pkl.dump(xgb_model, open('./tested/XGradientBoostClassifier.pkl', 'wb'))\n",
    "print(accuracy_score(y_test, xgb_pred))\n",
    "del xgb_model, xgb_pred"
   ]
  },
  {
   "cell_type": "markdown",
   "metadata": {},
   "source": [
    "# Cat Boosting Classifier"
   ]
  },
  {
   "cell_type": "code",
   "execution_count": 13,
   "metadata": {},
   "outputs": [],
   "source": [
    "from catboost import CatBoostClassifier"
   ]
  },
  {
   "cell_type": "code",
   "execution_count": 70,
   "metadata": {},
   "outputs": [
    {
     "name": "stdout",
     "output_type": "stream",
     "text": [
      "839:\tlearn: 0.2418155\ttotal: 15m 8s\tremaining: 2m 52s\n",
      "840:\tlearn: 0.2418125\ttotal: 15m 9s\tremaining: 2m 51s\n",
      "841:\tlearn: 0.2418097\ttotal: 15m 10s\tremaining: 2m 50s\n",
      "842:\tlearn: 0.2418073\ttotal: 15m 11s\tremaining: 2m 49s\n",
      "843:\tlearn: 0.2418043\ttotal: 15m 12s\tremaining: 2m 48s\n",
      "844:\tlearn: 0.2418007\ttotal: 15m 13s\tremaining: 2m 47s\n",
      "845:\tlearn: 0.2417985\ttotal: 15m 15s\tremaining: 2m 46s\n",
      "846:\tlearn: 0.2417959\ttotal: 15m 16s\tremaining: 2m 45s\n",
      "847:\tlearn: 0.2417922\ttotal: 15m 17s\tremaining: 2m 44s\n",
      "848:\tlearn: 0.2417894\ttotal: 15m 18s\tremaining: 2m 43s\n",
      "849:\tlearn: 0.2417868\ttotal: 15m 19s\tremaining: 2m 42s\n",
      "850:\tlearn: 0.2417839\ttotal: 15m 20s\tremaining: 2m 41s\n",
      "851:\tlearn: 0.2417826\ttotal: 15m 21s\tremaining: 2m 40s\n",
      "852:\tlearn: 0.2417803\ttotal: 15m 23s\tremaining: 2m 39s\n",
      "853:\tlearn: 0.2417768\ttotal: 15m 24s\tremaining: 2m 37s\n",
      "854:\tlearn: 0.2417746\ttotal: 15m 25s\tremaining: 2m 36s\n",
      "855:\tlearn: 0.2417713\ttotal: 15m 26s\tremaining: 2m 35s\n",
      "856:\tlearn: 0.2417690\ttotal: 15m 27s\tremaining: 2m 34s\n",
      "857:\tlearn: 0.2417653\ttotal: 15m 28s\tremaining: 2m 33s\n",
      "858:\tlearn: 0.2417620\ttotal: 15m 29s\tremaining: 2m 32s\n",
      "859:\tlearn: 0.2417599\ttotal: 15m 30s\tremaining: 2m 31s\n",
      "860:\tlearn: 0.2417577\ttotal: 15m 31s\tremaining: 2m 30s\n",
      "861:\tlearn: 0.2417543\ttotal: 15m 32s\tremaining: 2m 29s\n",
      "862:\tlearn: 0.2417514\ttotal: 15m 33s\tremaining: 2m 28s\n",
      "863:\tlearn: 0.2417489\ttotal: 15m 34s\tremaining: 2m 27s\n",
      "864:\tlearn: 0.2417475\ttotal: 15m 35s\tremaining: 2m 26s\n",
      "865:\tlearn: 0.2417447\ttotal: 15m 36s\tremaining: 2m 24s\n",
      "866:\tlearn: 0.2417430\ttotal: 15m 37s\tremaining: 2m 23s\n",
      "867:\tlearn: 0.2417407\ttotal: 15m 38s\tremaining: 2m 22s\n",
      "868:\tlearn: 0.2417386\ttotal: 15m 40s\tremaining: 2m 21s\n",
      "869:\tlearn: 0.2417370\ttotal: 15m 41s\tremaining: 2m 20s\n",
      "870:\tlearn: 0.2417349\ttotal: 15m 42s\tremaining: 2m 19s\n",
      "871:\tlearn: 0.2417328\ttotal: 15m 43s\tremaining: 2m 18s\n",
      "872:\tlearn: 0.2417312\ttotal: 15m 44s\tremaining: 2m 17s\n",
      "873:\tlearn: 0.2417281\ttotal: 15m 45s\tremaining: 2m 16s\n",
      "874:\tlearn: 0.2417252\ttotal: 15m 46s\tremaining: 2m 15s\n",
      "875:\tlearn: 0.2417198\ttotal: 15m 47s\tremaining: 2m 14s\n",
      "876:\tlearn: 0.2417184\ttotal: 15m 48s\tremaining: 2m 13s\n",
      "877:\tlearn: 0.2417147\ttotal: 15m 49s\tremaining: 2m 11s\n",
      "878:\tlearn: 0.2417120\ttotal: 15m 51s\tremaining: 2m 10s\n",
      "879:\tlearn: 0.2417099\ttotal: 15m 52s\tremaining: 2m 9s\n",
      "880:\tlearn: 0.2417079\ttotal: 15m 53s\tremaining: 2m 8s\n",
      "881:\tlearn: 0.2417056\ttotal: 15m 54s\tremaining: 2m 7s\n",
      "882:\tlearn: 0.2417022\ttotal: 15m 55s\tremaining: 2m 6s\n",
      "883:\tlearn: 0.2417007\ttotal: 15m 56s\tremaining: 2m 5s\n",
      "884:\tlearn: 0.2416985\ttotal: 15m 57s\tremaining: 2m 4s\n",
      "885:\tlearn: 0.2416955\ttotal: 15m 58s\tremaining: 2m 3s\n",
      "886:\tlearn: 0.2416931\ttotal: 15m 59s\tremaining: 2m 2s\n",
      "887:\tlearn: 0.2416914\ttotal: 16m\tremaining: 2m 1s\n",
      "888:\tlearn: 0.2416883\ttotal: 16m 1s\tremaining: 2m\n",
      "889:\tlearn: 0.2416853\ttotal: 16m 2s\tremaining: 1m 59s\n",
      "890:\tlearn: 0.2416828\ttotal: 16m 3s\tremaining: 1m 57s\n",
      "891:\tlearn: 0.2416797\ttotal: 16m 4s\tremaining: 1m 56s\n",
      "892:\tlearn: 0.2416776\ttotal: 16m 5s\tremaining: 1m 55s\n",
      "893:\tlearn: 0.2416757\ttotal: 16m 6s\tremaining: 1m 54s\n",
      "894:\tlearn: 0.2416724\ttotal: 16m 8s\tremaining: 1m 53s\n",
      "895:\tlearn: 0.2416696\ttotal: 16m 9s\tremaining: 1m 52s\n",
      "896:\tlearn: 0.2416678\ttotal: 16m 10s\tremaining: 1m 51s\n",
      "897:\tlearn: 0.2416635\ttotal: 16m 11s\tremaining: 1m 50s\n",
      "898:\tlearn: 0.2416618\ttotal: 16m 12s\tremaining: 1m 49s\n",
      "899:\tlearn: 0.2416584\ttotal: 16m 13s\tremaining: 1m 48s\n",
      "900:\tlearn: 0.2416555\ttotal: 16m 14s\tremaining: 1m 47s\n",
      "901:\tlearn: 0.2416524\ttotal: 16m 15s\tremaining: 1m 45s\n",
      "902:\tlearn: 0.2416502\ttotal: 16m 16s\tremaining: 1m 44s\n",
      "903:\tlearn: 0.2416486\ttotal: 16m 17s\tremaining: 1m 43s\n",
      "904:\tlearn: 0.2416462\ttotal: 16m 18s\tremaining: 1m 42s\n",
      "905:\tlearn: 0.2416440\ttotal: 16m 19s\tremaining: 1m 41s\n",
      "906:\tlearn: 0.2416411\ttotal: 16m 20s\tremaining: 1m 40s\n",
      "907:\tlearn: 0.2416388\ttotal: 16m 22s\tremaining: 1m 39s\n",
      "908:\tlearn: 0.2416355\ttotal: 16m 23s\tremaining: 1m 38s\n",
      "909:\tlearn: 0.2416331\ttotal: 16m 24s\tremaining: 1m 37s\n",
      "910:\tlearn: 0.2416310\ttotal: 16m 25s\tremaining: 1m 36s\n",
      "911:\tlearn: 0.2416288\ttotal: 16m 26s\tremaining: 1m 35s\n",
      "912:\tlearn: 0.2416249\ttotal: 16m 27s\tremaining: 1m 34s\n",
      "913:\tlearn: 0.2416226\ttotal: 16m 28s\tremaining: 1m 33s\n",
      "914:\tlearn: 0.2416199\ttotal: 16m 29s\tremaining: 1m 31s\n",
      "915:\tlearn: 0.2416168\ttotal: 16m 30s\tremaining: 1m 30s\n",
      "916:\tlearn: 0.2416146\ttotal: 16m 31s\tremaining: 1m 29s\n",
      "917:\tlearn: 0.2416128\ttotal: 16m 33s\tremaining: 1m 28s\n",
      "918:\tlearn: 0.2416099\ttotal: 16m 34s\tremaining: 1m 27s\n",
      "919:\tlearn: 0.2416047\ttotal: 16m 35s\tremaining: 1m 26s\n",
      "920:\tlearn: 0.2416035\ttotal: 16m 36s\tremaining: 1m 25s\n",
      "921:\tlearn: 0.2416010\ttotal: 16m 37s\tremaining: 1m 24s\n",
      "922:\tlearn: 0.2415974\ttotal: 16m 38s\tremaining: 1m 23s\n",
      "923:\tlearn: 0.2415952\ttotal: 16m 39s\tremaining: 1m 22s\n",
      "924:\tlearn: 0.2415929\ttotal: 16m 40s\tremaining: 1m 21s\n",
      "925:\tlearn: 0.2415911\ttotal: 16m 41s\tremaining: 1m 20s\n",
      "926:\tlearn: 0.2415880\ttotal: 16m 42s\tremaining: 1m 18s\n",
      "927:\tlearn: 0.2415852\ttotal: 16m 43s\tremaining: 1m 17s\n",
      "928:\tlearn: 0.2415827\ttotal: 16m 45s\tremaining: 1m 16s\n",
      "929:\tlearn: 0.2415808\ttotal: 16m 45s\tremaining: 1m 15s\n",
      "930:\tlearn: 0.2415784\ttotal: 16m 46s\tremaining: 1m 14s\n",
      "931:\tlearn: 0.2415768\ttotal: 16m 48s\tremaining: 1m 13s\n",
      "932:\tlearn: 0.2415747\ttotal: 16m 49s\tremaining: 1m 12s\n",
      "933:\tlearn: 0.2415712\ttotal: 16m 50s\tremaining: 1m 11s\n",
      "934:\tlearn: 0.2415687\ttotal: 16m 51s\tremaining: 1m 10s\n",
      "935:\tlearn: 0.2415670\ttotal: 16m 52s\tremaining: 1m 9s\n",
      "936:\tlearn: 0.2415646\ttotal: 16m 53s\tremaining: 1m 8s\n",
      "937:\tlearn: 0.2415627\ttotal: 16m 54s\tremaining: 1m 7s\n",
      "938:\tlearn: 0.2415607\ttotal: 16m 55s\tremaining: 1m 5s\n",
      "939:\tlearn: 0.2415587\ttotal: 16m 57s\tremaining: 1m 4s\n",
      "940:\tlearn: 0.2415557\ttotal: 16m 58s\tremaining: 1m 3s\n",
      "941:\tlearn: 0.2415527\ttotal: 16m 59s\tremaining: 1m 2s\n",
      "942:\tlearn: 0.2415506\ttotal: 17m\tremaining: 1m 1s\n",
      "943:\tlearn: 0.2415480\ttotal: 17m 1s\tremaining: 1m\n",
      "944:\tlearn: 0.2415463\ttotal: 17m 2s\tremaining: 59.5s\n",
      "945:\tlearn: 0.2415437\ttotal: 17m 3s\tremaining: 58.4s\n",
      "946:\tlearn: 0.2415402\ttotal: 17m 4s\tremaining: 57.4s\n",
      "947:\tlearn: 0.2415375\ttotal: 17m 5s\tremaining: 56.3s\n",
      "948:\tlearn: 0.2415345\ttotal: 17m 6s\tremaining: 55.2s\n",
      "949:\tlearn: 0.2415334\ttotal: 17m 7s\tremaining: 54.1s\n",
      "950:\tlearn: 0.2415314\ttotal: 17m 9s\tremaining: 53s\n",
      "951:\tlearn: 0.2415287\ttotal: 17m 10s\tremaining: 51.9s\n",
      "952:\tlearn: 0.2415268\ttotal: 17m 11s\tremaining: 50.9s\n",
      "953:\tlearn: 0.2415244\ttotal: 17m 12s\tremaining: 49.8s\n",
      "954:\tlearn: 0.2415227\ttotal: 17m 13s\tremaining: 48.7s\n",
      "955:\tlearn: 0.2415208\ttotal: 17m 14s\tremaining: 47.6s\n",
      "956:\tlearn: 0.2415180\ttotal: 17m 15s\tremaining: 46.5s\n",
      "957:\tlearn: 0.2415158\ttotal: 17m 16s\tremaining: 45.5s\n",
      "958:\tlearn: 0.2415132\ttotal: 17m 17s\tremaining: 44.4s\n",
      "959:\tlearn: 0.2415107\ttotal: 17m 18s\tremaining: 43.3s\n",
      "960:\tlearn: 0.2415083\ttotal: 17m 19s\tremaining: 42.2s\n",
      "961:\tlearn: 0.2415063\ttotal: 17m 20s\tremaining: 41.1s\n",
      "962:\tlearn: 0.2415039\ttotal: 17m 22s\tremaining: 40s\n",
      "963:\tlearn: 0.2415019\ttotal: 17m 23s\tremaining: 39s\n",
      "964:\tlearn: 0.2414992\ttotal: 17m 24s\tremaining: 37.9s\n",
      "965:\tlearn: 0.2414977\ttotal: 17m 25s\tremaining: 36.8s\n",
      "966:\tlearn: 0.2414961\ttotal: 17m 26s\tremaining: 35.7s\n",
      "967:\tlearn: 0.2414932\ttotal: 17m 27s\tremaining: 34.6s\n",
      "968:\tlearn: 0.2414912\ttotal: 17m 28s\tremaining: 33.5s\n",
      "969:\tlearn: 0.2414879\ttotal: 17m 29s\tremaining: 32.5s\n",
      "970:\tlearn: 0.2414839\ttotal: 17m 30s\tremaining: 31.4s\n",
      "971:\tlearn: 0.2414817\ttotal: 17m 31s\tremaining: 30.3s\n",
      "972:\tlearn: 0.2414801\ttotal: 17m 32s\tremaining: 29.2s\n",
      "973:\tlearn: 0.2414793\ttotal: 17m 34s\tremaining: 28.1s\n",
      "974:\tlearn: 0.2414764\ttotal: 17m 35s\tremaining: 27.1s\n",
      "975:\tlearn: 0.2414736\ttotal: 17m 36s\tremaining: 26s\n",
      "976:\tlearn: 0.2414709\ttotal: 17m 37s\tremaining: 24.9s\n",
      "977:\tlearn: 0.2414697\ttotal: 17m 38s\tremaining: 23.8s\n",
      "978:\tlearn: 0.2414680\ttotal: 17m 39s\tremaining: 22.7s\n",
      "979:\tlearn: 0.2414649\ttotal: 17m 40s\tremaining: 21.6s\n",
      "980:\tlearn: 0.2414629\ttotal: 17m 41s\tremaining: 20.6s\n",
      "981:\tlearn: 0.2414608\ttotal: 17m 42s\tremaining: 19.5s\n",
      "982:\tlearn: 0.2414583\ttotal: 17m 43s\tremaining: 18.4s\n",
      "983:\tlearn: 0.2414560\ttotal: 17m 44s\tremaining: 17.3s\n",
      "984:\tlearn: 0.2414528\ttotal: 17m 46s\tremaining: 16.2s\n",
      "985:\tlearn: 0.2414517\ttotal: 17m 47s\tremaining: 15.2s\n",
      "986:\tlearn: 0.2414495\ttotal: 17m 48s\tremaining: 14.1s\n",
      "987:\tlearn: 0.2414473\ttotal: 17m 49s\tremaining: 13s\n",
      "988:\tlearn: 0.2414453\ttotal: 17m 50s\tremaining: 11.9s\n",
      "989:\tlearn: 0.2414428\ttotal: 17m 51s\tremaining: 10.8s\n",
      "990:\tlearn: 0.2414404\ttotal: 17m 53s\tremaining: 9.74s\n",
      "991:\tlearn: 0.2414389\ttotal: 17m 54s\tremaining: 8.66s\n",
      "992:\tlearn: 0.2414360\ttotal: 17m 55s\tremaining: 7.58s\n",
      "993:\tlearn: 0.2414344\ttotal: 17m 56s\tremaining: 6.5s\n",
      "994:\tlearn: 0.2414327\ttotal: 17m 57s\tremaining: 5.41s\n",
      "995:\tlearn: 0.2414293\ttotal: 17m 58s\tremaining: 4.33s\n",
      "996:\tlearn: 0.2414272\ttotal: 17m 59s\tremaining: 3.25s\n",
      "997:\tlearn: 0.2414246\ttotal: 18m 1s\tremaining: 2.17s\n",
      "998:\tlearn: 0.2414229\ttotal: 18m 2s\tremaining: 1.08s\n",
      "999:\tlearn: 0.2414209\ttotal: 18m 3s\tremaining: 0us\n",
      "              precision    recall  f1-score   support\n",
      "\n",
      "           0       0.89      0.99      0.94   1605454\n",
      "           1       0.57      0.14      0.23    220051\n",
      "\n",
      "    accuracy                           0.88   1825505\n",
      "   macro avg       0.73      0.56      0.58   1825505\n",
      "weighted avg       0.85      0.88      0.85   1825505\n",
      "\n"
     ]
    }
   ],
   "source": [
    "cat_model = CatBoostClassifier()\n",
    "cat_model.fit(X_train, y_train)\n",
    "cat_pred = cat_model.predict(X_test)\n",
    "print(classification_report(y_test, cat_pred))"
   ]
  },
  {
   "cell_type": "code",
   "execution_count": 73,
   "metadata": {},
   "outputs": [
    {
     "name": "stdout",
     "output_type": "stream",
     "text": [
      "0.8836245312940803\n"
     ]
    }
   ],
   "source": [
    "pkl.dump(cat_model, open('./tested/CatBoostClassifier.pkl', 'wb'))\n",
    "print(accuracy_score(y_test, cat_pred))\n",
    "del cat_model, cat_pred"
   ]
  },
  {
   "cell_type": "markdown",
   "metadata": {},
   "source": [
    "# Ada Boosting Classifier "
   ]
  },
  {
   "cell_type": "code",
   "execution_count": 12,
   "metadata": {},
   "outputs": [],
   "source": [
    "from sklearn.ensemble import AdaBoostClassifier"
   ]
  },
  {
   "cell_type": "code",
   "execution_count": 13,
   "metadata": {},
   "outputs": [
    {
     "name": "stdout",
     "output_type": "stream",
     "text": [
      "              precision    recall  f1-score   support\n",
      "\n",
      "           0       0.88      1.00      0.94   1605454\n",
      "           1       0.44      0.00      0.01    220051\n",
      "\n",
      "    accuracy                           0.88   1825505\n",
      "   macro avg       0.66      0.50      0.47   1825505\n",
      "weighted avg       0.83      0.88      0.82   1825505\n",
      "\n"
     ]
    }
   ],
   "source": [
    "ada_model = AdaBoostClassifier()\n",
    "ada_model.fit(X_train, y_train)\n",
    "ada_pred = ada_model.predict(X_test)\n",
    "print(classification_report(y_test, ada_pred))"
   ]
  },
  {
   "cell_type": "code",
   "execution_count": 14,
   "metadata": {},
   "outputs": [
    {
     "name": "stdout",
     "output_type": "stream",
     "text": [
      "0.8793648880720677\n"
     ]
    }
   ],
   "source": [
    "pkl.dump(ada_model, open('./tested/AdaBoostClassifier.pkl', 'wb'))\n",
    "print(accuracy_score(y_test, ada_pred))\n",
    "del ada_model, ada_pred"
   ]
  },
  {
   "cell_type": "markdown",
   "metadata": {},
   "source": [
    "# Quadratic Discriminant Analysis"
   ]
  },
  {
   "cell_type": "code",
   "execution_count": 15,
   "metadata": {},
   "outputs": [],
   "source": [
    "from sklearn.discriminant_analysis import QuadraticDiscriminantAnalysis"
   ]
  },
  {
   "cell_type": "code",
   "execution_count": 16,
   "metadata": {},
   "outputs": [
    {
     "name": "stdout",
     "output_type": "stream",
     "text": [
      "              precision    recall  f1-score   support\n",
      "\n",
      "           0       0.88      1.00      0.94   1605454\n",
      "           1       0.00      0.00      0.00    220051\n",
      "\n",
      "    accuracy                           0.88   1825505\n",
      "   macro avg       0.44      0.50      0.47   1825505\n",
      "weighted avg       0.77      0.88      0.82   1825505\n",
      "\n"
     ]
    }
   ],
   "source": [
    "qda_model = QuadraticDiscriminantAnalysis()\n",
    "qda_model.fit(X_train, y_train)\n",
    "qda_pred = qda_model.predict(X_test)\n",
    "print(classification_report(y_test, qda_pred))"
   ]
  },
  {
   "cell_type": "code",
   "execution_count": 17,
   "metadata": {},
   "outputs": [
    {
     "name": "stdout",
     "output_type": "stream",
     "text": [
      "0.8794574651945626\n"
     ]
    }
   ],
   "source": [
    "pkl.dump(qda_model, open('./tested/QuadraticDiscriminantAnalysis.pkl', 'wb'))\n",
    "print(accuracy_score(y_test, qda_pred))\n",
    "del qda_model, qda_pred"
   ]
  },
  {
   "cell_type": "markdown",
   "metadata": {},
   "source": [
    "# Perceptron Classifier Model"
   ]
  },
  {
   "cell_type": "code",
   "execution_count": 18,
   "metadata": {},
   "outputs": [],
   "source": [
    "from sklearn.linear_model import Perceptron"
   ]
  },
  {
   "cell_type": "code",
   "execution_count": 19,
   "metadata": {},
   "outputs": [
    {
     "name": "stdout",
     "output_type": "stream",
     "text": [
      "              precision    recall  f1-score   support\n",
      "\n",
      "           0       0.88      1.00      0.94   1605454\n",
      "           1       0.33      0.00      0.00    220051\n",
      "\n",
      "    accuracy                           0.88   1825505\n",
      "   macro avg       0.61      0.50      0.47   1825505\n",
      "weighted avg       0.81      0.88      0.82   1825505\n",
      "\n"
     ]
    }
   ],
   "source": [
    "ptn_model = Perceptron()\n",
    "ptn_model.fit(X_train, y_train)\n",
    "ptn_pred = ptn_model.predict(X_test)\n",
    "print(classification_report(y_test, ptn_pred))"
   ]
  },
  {
   "cell_type": "code",
   "execution_count": 20,
   "metadata": {},
   "outputs": [
    {
     "name": "stdout",
     "output_type": "stream",
     "text": [
      "0.8794569174009383\n"
     ]
    }
   ],
   "source": [
    "pkl.dump(ptn_model, open('./tested/Perceptron.pkl', 'wb'))\n",
    "print(accuracy_score(y_test, ptn_pred))\n",
    "del ptn_model, ptn_pred"
   ]
  },
  {
   "cell_type": "markdown",
   "metadata": {},
   "source": [
    "# Ridge Classifier Model"
   ]
  },
  {
   "cell_type": "code",
   "execution_count": 21,
   "metadata": {},
   "outputs": [],
   "source": [
    "from sklearn.linear_model import RidgeClassifier"
   ]
  },
  {
   "cell_type": "code",
   "execution_count": 24,
   "metadata": {},
   "outputs": [
    {
     "name": "stdout",
     "output_type": "stream",
     "text": [
      "              precision    recall  f1-score   support\n",
      "\n",
      "           0       0.88      1.00      0.94   1605454\n",
      "           1       0.00      0.00      0.00    220051\n",
      "\n",
      "    accuracy                           0.88   1825505\n",
      "   macro avg       0.44      0.50      0.47   1825505\n",
      "weighted avg       0.77      0.88      0.82   1825505\n",
      "\n"
     ]
    }
   ],
   "source": [
    "rig_model = RidgeClassifier()\n",
    "rig_model.fit(X_train, y_train)\n",
    "rig_pred = rig_model.predict(X_test)\n",
    "print(classification_report(y_test, rig_pred))"
   ]
  },
  {
   "cell_type": "code",
   "execution_count": 25,
   "metadata": {},
   "outputs": [
    {
     "name": "stdout",
     "output_type": "stream",
     "text": [
      "0.8794574651945626\n"
     ]
    }
   ],
   "source": [
    "pkl.dump(rig_model, open('./tested/Perceptron.pkl', 'wb'))\n",
    "print(accuracy_score(y_test, rig_pred))\n",
    "del rig_model, rig_pred"
   ]
  },
  {
   "cell_type": "markdown",
   "metadata": {},
   "source": [
    "# Logistic Regression Cross Validation"
   ]
  },
  {
   "cell_type": "code",
   "execution_count": 26,
   "metadata": {},
   "outputs": [],
   "source": [
    "from sklearn.linear_model import LogisticRegressionCV"
   ]
  },
  {
   "cell_type": "code",
   "execution_count": null,
   "metadata": {},
   "outputs": [],
   "source": [
    "lcv_model = LogisticRegressionCV()\n",
    "lcv_model.fit(X_train, y_train)\n",
    "lcv_pred = lcv_model.predict(X_test)\n",
    "print(classification_report(y_test, lcv_pred))"
   ]
  },
  {
   "cell_type": "code",
   "execution_count": null,
   "metadata": {},
   "outputs": [],
   "source": [
    "pkl.dump(lcv_model, open('./tested/LogisticRegressionCV.pkl', 'wb'))\n",
    "print(accuracy_score(y_test, lcv_pred))\n",
    "del lcv_model, lcv_pred"
   ]
  },
  {
   "cell_type": "markdown",
   "metadata": {},
   "source": [
    "# Bagging Classifier Model"
   ]
  },
  {
   "cell_type": "code",
   "execution_count": 28,
   "metadata": {},
   "outputs": [],
   "source": [
    "from sklearn.ensemble import BaggingClassifier"
   ]
  },
  {
   "cell_type": "code",
   "execution_count": 29,
   "metadata": {},
   "outputs": [],
   "source": [
    "bgf_model = BaggingClassifier()\n",
    "bgf_model.fit(X_train, y_train)\n",
    "bgf_pred = bgf_model.predict(X_test)\n",
    "print(classification_report(y_test, bgf_pred))"
   ]
  },
  {
   "cell_type": "code",
   "execution_count": null,
   "metadata": {},
   "outputs": [],
   "source": [
    "pkl.dump(bgf_model, open('./tested/LogisticRegressionCV.pkl', 'wb'))\n",
    "print(accuracy_score(y_test, bgf_pred))\n",
    "del bgf_model, bgf_pred"
   ]
  },
  {
   "cell_type": "markdown",
   "metadata": {},
   "source": [
    "# Check for best metrics"
   ]
  },
  {
   "cell_type": "code",
   "execution_count": 72,
   "metadata": {},
   "outputs": [
    {
     "name": "stdout",
     "output_type": "stream",
     "text": [
      "11. Cat Boost Classifier Score: \t\t\t 0.8836245312940803\n"
     ]
    }
   ],
   "source": [
    "def Statistics():\n",
    "    # print(\"1. KNeighborsClassifier Score: \\t\\t\\t\", accuracy_score(y_test, knn_pred))\n",
    "    # print(\"2. Gaussian Naive Bayes Score: \\t\\t\\t\", accuracy_score(y_test, gnb_pred))\n",
    "    # print(\"3. Logistic Regressor Score: \\t\\t\\t\", accuracy_score(y_test, log_pred))\n",
    "    # print(\"4. Support Vector Classification Score: \", accuracy_score(y_test, svc_pred))\n",
    "    # print(\"5. Decision Tree Score: \\t\\t\\t\", accuracy_score(y_test, dtc_pred))\n",
    "    # print(\"6. Random Forest Score: \\t\\t\\t\", accuracy_score(y_test, rfc_pred))\n",
    "    # print(\"7. Linear Discriminant Analysis Score: \\t\\t\", accuracy_score(y_test, lda_pred))\n",
    "    # print(\"8. Gradient Boost Classifier Score: \\t\\t\", accuracy_score(y_test, gbc_pred))\n",
    "    # print(\"9. Neural Network Score: \\t\\t\\t\", accuracy_score(y_test, nnc_pred))\n",
    "    # print(\"10. X Gradient Boost Classifier Score: \\t\\t\", accuracy_score(y_test, xgb_pred))\n",
    "    # print(\"11. Cat Boost Classifier Score: \\t\\t\\t\", accuracy_score(y_test, cat_pred))\n",
    "\n",
    "Statistics()"
   ]
  },
  {
   "cell_type": "code",
   "execution_count": 18,
   "metadata": {},
   "outputs": [
    {
     "data": {
      "image/png": "[encoded data removed]",
      "text/plain": [
       "<Figure size 800x600 with 1 Axes>"
      ]
     },
     "metadata": {},
     "output_type": "display_data"
    }
   ],
   "source": [
    "# Print confusion matrix for the best model:\n",
    "\n",
    "confusion = confusion_matrix(y_test, cat_pred)\n",
    "plt.figure(figsize=(8, 6))\n",
    "sns.heatmap(confusion, annot=True, fmt='d', cmap='Blues', cbar=False)\n",
    "plt.xlabel('Predicted')\n",
    "plt.ylabel('Actual')\n",
    "plt.title('Confusion Matrix')\n",
    "plt.show()"
   ]
  },
  {
   "cell_type": "markdown",
   "metadata": {},
   "source": [
    "# Perform Grid Search Cross Validation"
   ]
  },
  {
   "cell_type": "code",
   "execution_count": 14,
   "metadata": {},
   "outputs": [],
   "source": [
    "# Set functions to perform text file manipulation\n",
    "\n",
    "def log_to_file(log_file, text):\n",
    "    with open(log_file, 'a') as f:\n",
    "        f.write(text + '\\n')\n",
    "\n",
    "def log_grid_search_results(cv_results, log_file):\n",
    "    means = cv_results['mean_test_score']\n",
    "    stds = cv_results['std_test_score']\n",
    "    params = cv_results['params']\n",
    "    for mean, std, param in zip(means, stds, params):\n",
    "        log_to_file(log_file, f\"Mean: {mean:.4f}, Std: {std:.4f}, Params: {param}\")"
   ]
  },
  {
   "cell_type": "code",
   "execution_count": 15,
   "metadata": {},
   "outputs": [],
   "source": [
    "# Set grid search cv parameters \n",
    "\n",
    "params = {\n",
    "    'n_estimators': [100, 300, 500],\n",
    "    'max_depth': [3, 6, 9],\n",
    "    'learning_rate': [0.01, 0.1, 0.2],\n",
    "    'subsample': [0.8, 1.0],\n",
    "    'colsample_bytree': [0.8, 1.0],\n",
    "    'gamma': [0, 0.1, 0.2],\n",
    "    'reg_alpha': [0, 0.1, 1],\n",
    "    'reg_lambda': [1, 1.5, 2]\n",
    "}"
   ]
  },
  {
   "cell_type": "code",
   "execution_count": 16,
   "metadata": {},
   "outputs": [],
   "source": [
    "# Reshape the target data\n",
    "y_train = y_train.values.ravel()\n",
    "y_test = y_test.values.ravel()"
   ]
  },
  {
   "cell_type": "code",
   "execution_count": null,
   "metadata": {},
   "outputs": [],
   "source": [
    "# Start the searching for parameters\n",
    "\n",
    "log_file = f'./model/model.log'\n",
    "xgb_model = XGBClassifier()\n",
    "grid_search = GridSearchCV(estimator=xgb_model, param_grid=params, scoring=\"accuracy\", n_jobs=-1, cv=5, verbose=1)\n",
    "grid_search.fit(X_train, y_train)\n",
    "log_grid_search_results(grid_search.cv_results_, log_file)"
   ]
  },
  {
   "cell_type": "code",
   "execution_count": 52,
   "metadata": {},
   "outputs": [
    {
     "data": {
      "text/plain": [
       "{'n_neighbors': 3}"
      ]
     },
     "execution_count": 52,
     "metadata": {},
     "output_type": "execute_result"
    }
   ],
   "source": [
    "# Print the best parameters:\n",
    "grid_search.best_params_"
   ]
  },
  {
   "cell_type": "code",
   "execution_count": 13,
   "metadata": {},
   "outputs": [],
   "source": [
    "# Set best parameters for the new model\n",
    "\n",
    "cat_params = {\n",
    "    # 'lambda': 0.22277962201504303, \n",
    "    # 'alpha': 0.6100416446970967,\n",
    "    # 'colsample_bytree': 0.7,\n",
    "    # 'subsample': 0.7,\n",
    "    # 'learning_rate': 0.018,\n",
    "    # 'n_estimators': 944,\n",
    "    # 'max_depth': 15,\n",
    "    # 'random_state': 2020,\n",
    "    # 'min_child_weight': 61\n",
    "\n",
    "\n",
    "    'loss_function':'Logloss',\n",
    "    'eval_metric':'AUC',\n",
    "    'learning_rate':0.05,\n",
    "    'iterations':5000,\n",
    "    'depth':9,\n",
    "    'random_strength':0,\n",
    "    'l2_leaf_reg':0.5,\n",
    "    'task_type':'CPU',\n",
    "    'random_seed':42,\n",
    "    'verbose':False\n",
    "}"
   ]
  },
  {
   "cell_type": "code",
   "execution_count": null,
   "metadata": {},
   "outputs": [],
   "source": [
    "# Traing and validate the model\n",
    "\n",
    "cat_model = CatBoostClassifier(**cat_params)\n",
    "cat_model.fit(X_train, y_train, \n",
    "    verbose=5, \n",
    "    eval_set=(X_test, y_test),\n",
    "    use_best_model=True,\n",
    "    plot=True)\n",
    "cat_pred = cat_model.predict(X_test)\n",
    "print(classification_report(y_test, cat_pred))"
   ]
  },
  {
   "cell_type": "code",
   "execution_count": 47,
   "metadata": {},
   "outputs": [
    {
     "name": "stdout",
     "output_type": "stream",
     "text": [
      "Accuracy Score: 0.8829501973426531\n",
      "Area Under the Curve (AUC): 0.554310629898519\n"
     ]
    }
   ],
   "source": [
    "# Accuracy for the fitted model\n",
    "print(f\"Accuracy Score: {accuracy_score(y_test, xgb_pred)}\")\n",
    "print(f\"Area Under the Curve (AUC): {roc_auc_score(y_test, xgb_pred)}\")"
   ]
  },
  {
   "cell_type": "code",
   "execution_count": null,
   "metadata": {},
   "outputs": [],
   "source": [
    "# Save the model \n",
    "pkl.dump(cat_model, open('./tested/FINAL_MODEL.pkl', 'wb'))"
   ]
  },
  {
   "cell_type": "markdown",
   "metadata": {},
   "source": [
    "# Pipeline Model & Scaler"
   ]
  },
  {
   "cell_type": "code",
   "execution_count": 48,
   "metadata": {},
   "outputs": [
    {
     "name": "stdout",
     "output_type": "stream",
     "text": [
      "              precision    recall  f1-score   support\n",
      "\n",
      "           0       0.89      0.99      0.94   1605454\n",
      "           1       0.57      0.12      0.20    220051\n",
      "\n",
      "    accuracy                           0.88   1825505\n",
      "   macro avg       0.73      0.55      0.57   1825505\n",
      "weighted avg       0.85      0.88      0.85   1825505\n",
      "\n",
      "Final Score:  0.8828559768392855\n"
     ]
    }
   ],
   "source": [
    "# Create the pipeline\n",
    "\n",
    "model = xgb_model\n",
    "pipeline = Pipeline([\n",
    "    ('scaler', QuantileTransformer()),\n",
    "    ('model', model)\n",
    "])\n",
    "\n",
    "pipeline.fit(X_train, y_train)\n",
    "y_pipe = pipeline.predict(X_test)\n",
    "print(classification_report(y_test, y_pipe))\n",
    "print(\"Final Score: \", accuracy_score(y_test, y_pipe))"
   ]
  },
  {
   "cell_type": "code",
   "execution_count": 61,
   "metadata": {},
   "outputs": [],
   "source": [
    "# Load the info about model in the file\n",
    "\n",
    "def update_info(full=True):\n",
    "    info = open(_info, \"w\")\n",
    "    pipeline.fit(X_train, y_train)\n",
    "    y_pipe = pipeline.predict(X_test)\n",
    "    model_info = [f\"Accuracy Score: {accuracy_score(y_test, y_pipe)}\\n\", \n",
    "                  f\"Model Name: {pipeline.named_steps['model']}\\n\", \n",
    "                  f\"Time:   {dt.datetime.now()}\\n\\n\",\n",
    "                  f\"Report: {classification_report(y_test, y_pipe)}\"]\n",
    "    info.writelines(model_info)\n",
    "    print(''.join(model_info))\n",
    "    if full:\n",
    "        pipeline.fit(X_data, y_data)"
   ]
  },
  {
   "cell_type": "code",
   "execution_count": 62,
   "metadata": {},
   "outputs": [
    {
     "name": "stdout",
     "output_type": "stream",
     "text": [
      "Accuracy Score: 0.882906921646339\n",
      "Model Name: XGBClassifier(alpha=0.6100416446970967, base_score=None, booster=None,\n",
      "              callbacks=None, colsample_bylevel=None, colsample_bynode=None,\n",
      "              colsample_bytree=0.7, device=None, early_stopping_rounds=None,\n",
      "              enable_categorical=False, eval_metric=None, feature_types=None,\n",
      "              gamma=None, grow_policy=None, importance_type=None,\n",
      "              interaction_constraints=None, lambda=0.22277962201504303,\n",
      "              learning_rate=0.018, max_bin=None, max_cat_threshold=None,\n",
      "              max_cat_to_onehot=None, max_delta_step=None, max_depth=15,\n",
      "              max_leaves=None, min_child_weight=61, missing=nan,\n",
      "              monotone_constraints=None, multi_strategy=None, n_estimators=944,\n",
      "              n_jobs=None, ...)\n",
      "Time:   2024-07-22 04:50:04.937375\n",
      "\n",
      "Report:               precision    recall  f1-score   support\n",
      "\n",
      "           0       0.89      0.99      0.94   1605454\n",
      "           1       0.57      0.12      0.20    220051\n",
      "\n",
      "    accuracy                           0.88   1825505\n",
      "   macro avg       0.73      0.55      0.57   1825505\n",
      "weighted avg       0.85      0.88      0.85   1825505\n",
      "\n",
      "Saving . . .\n"
     ]
    }
   ],
   "source": [
    "# Load Model In File Project\n",
    "\n",
    "val = input('Are you sure you want to save the last model: ')\n",
    "if(val == 'y'):\n",
    "    update_info(False)\n",
    "    model = pipeline\n",
    "    print('Saving . . .')\n",
    "    pkl.dump(model, open(_model, 'wb'))"
   ]
  },
  {
   "cell_type": "markdown",
   "metadata": {},
   "source": [
    "# Send Submission"
   ]
  },
  {
   "cell_type": "code",
   "execution_count": 61,
   "metadata": {},
   "outputs": [
    {
     "name": "stdout",
     "output_type": "stream",
     "text": [
      "Memory usage of dataframe is 643.68 MB\n",
      "Memory usage after optimization is: 175.55 MB\n",
      "Decreased by 72.7%\n"
     ]
    },
    {
     "data": {
      "text/html": [
       "<div>\n",
       "<style scoped>\n",
       "    .dataframe tbody tr th:only-of-type {\n",
       "        vertical-align: middle;\n",
       "    }\n",
       "\n",
       "    .dataframe tbody tr th {\n",
       "        vertical-align: top;\n",
       "    }\n",
       "\n",
       "    .dataframe thead th {\n",
       "        text-align: right;\n",
       "    }\n",
       "</style>\n",
       "<table border=\"1\" class=\"dataframe\">\n",
       "  <thead>\n",
       "    <tr style=\"text-align: right;\">\n",
       "      <th></th>\n",
       "      <th>id</th>\n",
       "      <th>Response</th>\n",
       "    </tr>\n",
       "  </thead>\n",
       "  <tbody>\n",
       "    <tr>\n",
       "      <th>0</th>\n",
       "      <td>11504798</td>\n",
       "      <td>0</td>\n",
       "    </tr>\n",
       "    <tr>\n",
       "      <th>1</th>\n",
       "      <td>11504799</td>\n",
       "      <td>0</td>\n",
       "    </tr>\n",
       "    <tr>\n",
       "      <th>2</th>\n",
       "      <td>11504800</td>\n",
       "      <td>0</td>\n",
       "    </tr>\n",
       "    <tr>\n",
       "      <th>3</th>\n",
       "      <td>11504801</td>\n",
       "      <td>0</td>\n",
       "    </tr>\n",
       "    <tr>\n",
       "      <th>4</th>\n",
       "      <td>11504802</td>\n",
       "      <td>0</td>\n",
       "    </tr>\n",
       "  </tbody>\n",
       "</table>\n",
       "</div>"
      ],
      "text/plain": [
       "         id  Response\n",
       "0  11504798         0\n",
       "1  11504799         0\n",
       "2  11504800         0\n",
       "3  11504801         0\n",
       "4  11504802         0"
      ]
     },
     "execution_count": 61,
     "metadata": {},
     "output_type": "execute_result"
    }
   ],
   "source": [
    "test = import_data(_test, index_col = \"id\", engine=\"pyarrow\")\n",
    "\n",
    "test[\"Policy_Sales_Channel\"] = test[\"Policy_Sales_Channel\"].astype(np.int16)\n",
    "test[\"Region_Code\"] = test[\"Region_Code\"].astype(np.int8)\n",
    "index = int(pd.read_csv(_submission, nrows=1)['id'][0])\n",
    "test = pd.get_dummies(test, columns=['Gender', 'Vehicle_Age', 'Vehicle_Damage'])\n",
    "\n",
    "test.rename(columns={\n",
    "    'Vehicle_Age_< 1 Year': 'Vehicle Age Less than 1 yr',\n",
    "    'Vehicle_Age_1-2 Year': 'Vehicle Age between 1 and 2 yrs',\n",
    "    'Vehicle_Age_> 2 Years': 'Vehicle Age greater than 2 yrs'\n",
    "}, inplace=True)\n",
    "\n",
    "cat_pred = cat_model.predict(test)\n",
    "submission = pd.DataFrame({\n",
    "    'id': range(index, index + len(test)),\n",
    "    'Response': cat_pred\n",
    "})\n",
    "submission.to_csv(_submission, index=False)\n",
    "submission.head()"
   ]
  },
  {
   "cell_type": "code",
   "execution_count": 62,
   "metadata": {},
   "outputs": [
    {
     "data": {
      "image/png": "[encoded data removed]",
      "text/plain": [
       "<Figure size 1000x600 with 1 Axes>"
      ]
     },
     "metadata": {},
     "output_type": "display_data"
    }
   ],
   "source": [
    "# Final plot of the distribution output\n",
    "\n",
    "plt.figure(figsize=(10, 6))\n",
    "sns.countplot(data=submission, x=\"Response\")\n",
    "plt.grid()\n",
    "plt.show()"
   ]
  },
  {
   "cell_type": "code",
   "execution_count": 19,
   "metadata": {},
   "outputs": [
    {
     "name": "stdout",
     "output_type": "stream",
     "text": [
      "1. GaussianNaiveBaye\n",
      "2. KNearestNeighboor\n",
      "3. LogisticRegression\n",
      "4. DecisionTreeCassifier\n",
      "5. LinearDiscriminantAnalysis\n",
      "6. GradientBoostingClassifier\n",
      "7. XGradientBoostClassifier\n",
      "8. CatBoostClassifier\n"
     ]
    }
   ],
   "source": [
    "# Display all models\n",
    "\n",
    "index = 1\n",
    "for trainers in os.listdir(_tested):\n",
    "    print(f\"{index}. {trainers.replace('.pkl', '')}\")\n",
    "    index += 1\n"
   ]
  },
  {
   "cell_type": "code",
   "execution_count": 22,
   "metadata": {},
   "outputs": [
    {
     "name": "stdout",
     "output_type": "stream",
     "text": [
      "Model KNearestNeighboor.pkl loaded finished\n"
     ]
    }
   ],
   "source": [
    "# Load the best model \n",
    "\n",
    "try:\n",
    "    id_model = int(input(\"Select a model id:\"))\n",
    "    final = all_models[id_model - 1]\n",
    "    _path = f'{_tested}{final}'\n",
    "    with open(_path, 'rb') as file:\n",
    "        model = pkl.load(file)\n",
    "    print(f'Model {final} loaded finished')\n",
    "except:\n",
    "    print(\"Error loading model . . .\")"
   ]
  },
  {
   "cell_type": "code",
   "execution_count": 12,
   "metadata": {},
   "outputs": [],
   "source": [
    "# Try the trained model\n",
    "\n",
    "with open('./model/model.pkl', 'rb') as file:\n",
    "    cat_model = pkl.load(file)"
   ]
  },
  {
   "cell_type": "code",
   "execution_count": 13,
   "metadata": {},
   "outputs": [
    {
     "name": "stdout",
     "output_type": "stream",
     "text": [
      "Zero predicted values \t\t 1773908\n",
      "One predicted values \t\t 51597\n"
     ]
    }
   ],
   "source": [
    "cat_pred = cat_model.predict(X_test)\n",
    "cat_pred = pd.DataFrame(cat_pred, columns=['Response'])\n",
    "print('Zero predicted values \\t\\t', cat_pred[cat_pred['Response'] == 0].shape[0])\n",
    "print('One predicted values \\t\\t', cat_pred[cat_pred['Response'] == 1].shape[0])"
   ]
  },
  {
   "cell_type": "code",
   "execution_count": null,
   "metadata": {},
   "outputs": [],
   "source": []
  }
 ],
 "metadata": {
  "kernelspec": {
   "display_name": "Python 3 (ipykernel)",
   "language": "python",
   "name": "python3"
  },
  "language_info": {
   "codemirror_mode": {
    "name": "ipython",
    "version": 3
   },
   "file_extension": ".py",
   "mimetype": "text/x-python",
   "name": "python",
   "nbconvert_exporter": "python",
   "pygments_lexer": "ipython3",
   "version": "3.11.2"
  }
 },
 "nbformat": 4,
 "nbformat_minor": 2
}
