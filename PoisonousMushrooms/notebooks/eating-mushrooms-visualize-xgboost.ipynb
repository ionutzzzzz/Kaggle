{
 "cells": [
  {
   "cell_type": "markdown",
   "id": "ddcc0105",
   "metadata": {
    "papermill": {
     "duration": 0.008943,
     "end_time": "2024-08-18T18:42:23.641138",
     "exception": false,
     "start_time": "2024-08-18T18:42:23.632195",
     "status": "completed"
    },
    "tags": []
   },
   "source": [
    "![Mushrooms](https://i.postimg.cc/5tHPfftL/Stock-Cake-Mystical-Forest-Mushrooms-1723651159.jpg)"
   ]
  },
  {
   "cell_type": "markdown",
   "id": "3bc68f2b",
   "metadata": {
    "papermill": {
     "duration": 0.00833,
     "end_time": "2024-08-18T18:42:23.657914",
     "exception": false,
     "start_time": "2024-08-18T18:42:23.649584",
     "status": "completed"
    },
    "tags": []
   },
   "source": [
    "# Import Libraries"
   ]
  },
  {
   "cell_type": "code",
   "execution_count": 1,
   "id": "6eacd257",
   "metadata": {
    "_cell_guid": "b1076dfc-b9ad-4769-8c92-a6c4dae69d19",
    "_uuid": "8f2839f25d086af736a60e9eeb907d3b93b6e0e5",
    "execution": {
     "iopub.execute_input": "2024-08-18T18:42:23.676395Z",
     "iopub.status.busy": "2024-08-18T18:42:23.676028Z",
     "iopub.status.idle": "2024-08-18T18:42:26.473431Z",
     "shell.execute_reply": "2024-08-18T18:42:26.472435Z"
    },
    "papermill": {
     "duration": 2.809708,
     "end_time": "2024-08-18T18:42:26.475773",
     "exception": false,
     "start_time": "2024-08-18T18:42:23.666065",
     "status": "completed"
    },
    "tags": []
   },
   "outputs": [],
   "source": [
    "import numpy as np\n",
    "import pandas as pd\n",
    "from category_encoders.target_encoder import TargetEncoder\n",
    "from sklearn.impute import SimpleImputer\n",
    "import xgboost as xgb\n",
    "from sklearn.metrics import matthews_corrcoef\n",
    "from sklearn.model_selection import train_test_split\n",
    "from scipy import stats\n",
    "import seaborn as sns\n",
    "import matplotlib.pyplot as plt\n",
    "sns.set(style=\"white\", color_codes=True)"
   ]
  },
  {
   "cell_type": "markdown",
   "id": "e0e2f77e",
   "metadata": {
    "papermill": {
     "duration": 0.007761,
     "end_time": "2024-08-18T18:42:26.491628",
     "exception": false,
     "start_time": "2024-08-18T18:42:26.483867",
     "status": "completed"
    },
    "tags": []
   },
   "source": [
    "# Read and View Data"
   ]
  },
  {
   "cell_type": "code",
   "execution_count": 2,
   "id": "b409ee12",
   "metadata": {
    "execution": {
     "iopub.execute_input": "2024-08-18T18:42:26.509796Z",
     "iopub.status.busy": "2024-08-18T18:42:26.508828Z",
     "iopub.status.idle": "2024-08-18T18:42:41.917845Z",
     "shell.execute_reply": "2024-08-18T18:42:41.916936Z"
    },
    "papermill": {
     "duration": 15.420621,
     "end_time": "2024-08-18T18:42:41.920132",
     "exception": false,
     "start_time": "2024-08-18T18:42:26.499511",
     "status": "completed"
    },
    "tags": []
   },
   "outputs": [
    {
     "name": "stdout",
     "output_type": "stream",
     "text": [
      "train data : (3116945, 21)\n",
      "test data : (2077964, 20)\n",
      "sample_submission_data : (2077964, 1)\n"
     ]
    }
   ],
   "source": [
    "train = pd.read_csv(r\"/kaggle/input/playground-series-s4e8/train.csv\", index_col = 'id')\n",
    "test = pd.read_csv(r\"/kaggle/input/playground-series-s4e8/test.csv\", index_col = 'id')\n",
    "sample_submission = pd.read_csv(r\"/kaggle/input/playground-series-s4e8/sample_submission.csv\", index_col = 'id')\n",
    "\n",
    "print(\"train data :\", train.shape)\n",
    "print(\"test data :\", test.shape)\n",
    "print(\"sample_submission_data :\", sample_submission.shape)"
   ]
  },
  {
   "cell_type": "code",
   "execution_count": 3,
   "id": "56cf930e",
   "metadata": {
    "execution": {
     "iopub.execute_input": "2024-08-18T18:42:41.937675Z",
     "iopub.status.busy": "2024-08-18T18:42:41.937405Z",
     "iopub.status.idle": "2024-08-18T18:42:41.949473Z",
     "shell.execute_reply": "2024-08-18T18:42:41.948520Z"
    },
    "papermill": {
     "duration": 0.023097,
     "end_time": "2024-08-18T18:42:41.951446",
     "exception": false,
     "start_time": "2024-08-18T18:42:41.928349",
     "status": "completed"
    },
    "tags": []
   },
   "outputs": [
    {
     "data": {
      "text/html": [
       "<div>\n",
       "<style scoped>\n",
       "    .dataframe tbody tr th:only-of-type {\n",
       "        vertical-align: middle;\n",
       "    }\n",
       "\n",
       "    .dataframe tbody tr th {\n",
       "        vertical-align: top;\n",
       "    }\n",
       "\n",
       "    .dataframe thead th {\n",
       "        text-align: right;\n",
       "    }\n",
       "</style>\n",
       "<table border=\"1\" class=\"dataframe\">\n",
       "  <thead>\n",
       "    <tr style=\"text-align: right;\">\n",
       "      <th></th>\n",
       "      <th>class</th>\n",
       "    </tr>\n",
       "    <tr>\n",
       "      <th>id</th>\n",
       "      <th></th>\n",
       "    </tr>\n",
       "  </thead>\n",
       "  <tbody>\n",
       "    <tr>\n",
       "      <th>3116945</th>\n",
       "      <td>e</td>\n",
       "    </tr>\n",
       "    <tr>\n",
       "      <th>3116946</th>\n",
       "      <td>e</td>\n",
       "    </tr>\n",
       "    <tr>\n",
       "      <th>3116947</th>\n",
       "      <td>e</td>\n",
       "    </tr>\n",
       "    <tr>\n",
       "      <th>3116948</th>\n",
       "      <td>e</td>\n",
       "    </tr>\n",
       "    <tr>\n",
       "      <th>3116949</th>\n",
       "      <td>e</td>\n",
       "    </tr>\n",
       "  </tbody>\n",
       "</table>\n",
       "</div>"
      ],
      "text/plain": [
       "        class\n",
       "id           \n",
       "3116945     e\n",
       "3116946     e\n",
       "3116947     e\n",
       "3116948     e\n",
       "3116949     e"
      ]
     },
     "execution_count": 3,
     "metadata": {},
     "output_type": "execute_result"
    }
   ],
   "source": [
    "sample_submission.head(5)"
   ]
  },
  {
   "cell_type": "code",
   "execution_count": 4,
   "id": "ab0031ba",
   "metadata": {
    "execution": {
     "iopub.execute_input": "2024-08-18T18:42:41.970934Z",
     "iopub.status.busy": "2024-08-18T18:42:41.970382Z",
     "iopub.status.idle": "2024-08-18T18:42:42.008686Z",
     "shell.execute_reply": "2024-08-18T18:42:42.007831Z"
    },
    "papermill": {
     "duration": 0.050657,
     "end_time": "2024-08-18T18:42:42.010960",
     "exception": false,
     "start_time": "2024-08-18T18:42:41.960303",
     "status": "completed"
    },
    "tags": []
   },
   "outputs": [
    {
     "name": "stdout",
     "output_type": "stream",
     "text": [
      "<class 'pandas.core.frame.DataFrame'>\n",
      "Index: 3116945 entries, 0 to 3116944\n",
      "Data columns (total 21 columns):\n",
      " #   Column                Dtype  \n",
      "---  ------                -----  \n",
      " 0   class                 object \n",
      " 1   cap-diameter          float64\n",
      " 2   cap-shape             object \n",
      " 3   cap-surface           object \n",
      " 4   cap-color             object \n",
      " 5   does-bruise-or-bleed  object \n",
      " 6   gill-attachment       object \n",
      " 7   gill-spacing          object \n",
      " 8   gill-color            object \n",
      " 9   stem-height           float64\n",
      " 10  stem-width            float64\n",
      " 11  stem-root             object \n",
      " 12  stem-surface          object \n",
      " 13  stem-color            object \n",
      " 14  veil-type             object \n",
      " 15  veil-color            object \n",
      " 16  has-ring              object \n",
      " 17  ring-type             object \n",
      " 18  spore-print-color     object \n",
      " 19  habitat               object \n",
      " 20  season                object \n",
      "dtypes: float64(3), object(18)\n",
      "memory usage: 523.2+ MB\n"
     ]
    },
    {
     "data": {
      "text/html": [
       "<div>\n",
       "<style scoped>\n",
       "    .dataframe tbody tr th:only-of-type {\n",
       "        vertical-align: middle;\n",
       "    }\n",
       "\n",
       "    .dataframe tbody tr th {\n",
       "        vertical-align: top;\n",
       "    }\n",
       "\n",
       "    .dataframe thead th {\n",
       "        text-align: right;\n",
       "    }\n",
       "</style>\n",
       "<table border=\"1\" class=\"dataframe\">\n",
       "  <thead>\n",
       "    <tr style=\"text-align: right;\">\n",
       "      <th></th>\n",
       "      <th>class</th>\n",
       "      <th>cap-diameter</th>\n",
       "      <th>cap-shape</th>\n",
       "      <th>cap-surface</th>\n",
       "      <th>cap-color</th>\n",
       "      <th>does-bruise-or-bleed</th>\n",
       "      <th>gill-attachment</th>\n",
       "      <th>gill-spacing</th>\n",
       "      <th>gill-color</th>\n",
       "      <th>stem-height</th>\n",
       "      <th>...</th>\n",
       "      <th>stem-root</th>\n",
       "      <th>stem-surface</th>\n",
       "      <th>stem-color</th>\n",
       "      <th>veil-type</th>\n",
       "      <th>veil-color</th>\n",
       "      <th>has-ring</th>\n",
       "      <th>ring-type</th>\n",
       "      <th>spore-print-color</th>\n",
       "      <th>habitat</th>\n",
       "      <th>season</th>\n",
       "    </tr>\n",
       "    <tr>\n",
       "      <th>id</th>\n",
       "      <th></th>\n",
       "      <th></th>\n",
       "      <th></th>\n",
       "      <th></th>\n",
       "      <th></th>\n",
       "      <th></th>\n",
       "      <th></th>\n",
       "      <th></th>\n",
       "      <th></th>\n",
       "      <th></th>\n",
       "      <th></th>\n",
       "      <th></th>\n",
       "      <th></th>\n",
       "      <th></th>\n",
       "      <th></th>\n",
       "      <th></th>\n",
       "      <th></th>\n",
       "      <th></th>\n",
       "      <th></th>\n",
       "      <th></th>\n",
       "      <th></th>\n",
       "    </tr>\n",
       "  </thead>\n",
       "  <tbody>\n",
       "    <tr>\n",
       "      <th>0</th>\n",
       "      <td>e</td>\n",
       "      <td>8.80</td>\n",
       "      <td>f</td>\n",
       "      <td>s</td>\n",
       "      <td>u</td>\n",
       "      <td>f</td>\n",
       "      <td>a</td>\n",
       "      <td>c</td>\n",
       "      <td>w</td>\n",
       "      <td>4.51</td>\n",
       "      <td>...</td>\n",
       "      <td>NaN</td>\n",
       "      <td>NaN</td>\n",
       "      <td>w</td>\n",
       "      <td>NaN</td>\n",
       "      <td>NaN</td>\n",
       "      <td>f</td>\n",
       "      <td>f</td>\n",
       "      <td>NaN</td>\n",
       "      <td>d</td>\n",
       "      <td>a</td>\n",
       "    </tr>\n",
       "    <tr>\n",
       "      <th>1</th>\n",
       "      <td>p</td>\n",
       "      <td>4.51</td>\n",
       "      <td>x</td>\n",
       "      <td>h</td>\n",
       "      <td>o</td>\n",
       "      <td>f</td>\n",
       "      <td>a</td>\n",
       "      <td>c</td>\n",
       "      <td>n</td>\n",
       "      <td>4.79</td>\n",
       "      <td>...</td>\n",
       "      <td>NaN</td>\n",
       "      <td>y</td>\n",
       "      <td>o</td>\n",
       "      <td>NaN</td>\n",
       "      <td>NaN</td>\n",
       "      <td>t</td>\n",
       "      <td>z</td>\n",
       "      <td>NaN</td>\n",
       "      <td>d</td>\n",
       "      <td>w</td>\n",
       "    </tr>\n",
       "    <tr>\n",
       "      <th>2</th>\n",
       "      <td>e</td>\n",
       "      <td>6.94</td>\n",
       "      <td>f</td>\n",
       "      <td>s</td>\n",
       "      <td>b</td>\n",
       "      <td>f</td>\n",
       "      <td>x</td>\n",
       "      <td>c</td>\n",
       "      <td>w</td>\n",
       "      <td>6.85</td>\n",
       "      <td>...</td>\n",
       "      <td>NaN</td>\n",
       "      <td>s</td>\n",
       "      <td>n</td>\n",
       "      <td>NaN</td>\n",
       "      <td>NaN</td>\n",
       "      <td>f</td>\n",
       "      <td>f</td>\n",
       "      <td>NaN</td>\n",
       "      <td>l</td>\n",
       "      <td>w</td>\n",
       "    </tr>\n",
       "    <tr>\n",
       "      <th>3</th>\n",
       "      <td>e</td>\n",
       "      <td>3.88</td>\n",
       "      <td>f</td>\n",
       "      <td>y</td>\n",
       "      <td>g</td>\n",
       "      <td>f</td>\n",
       "      <td>s</td>\n",
       "      <td>NaN</td>\n",
       "      <td>g</td>\n",
       "      <td>4.16</td>\n",
       "      <td>...</td>\n",
       "      <td>NaN</td>\n",
       "      <td>NaN</td>\n",
       "      <td>w</td>\n",
       "      <td>NaN</td>\n",
       "      <td>NaN</td>\n",
       "      <td>f</td>\n",
       "      <td>f</td>\n",
       "      <td>NaN</td>\n",
       "      <td>d</td>\n",
       "      <td>u</td>\n",
       "    </tr>\n",
       "    <tr>\n",
       "      <th>4</th>\n",
       "      <td>e</td>\n",
       "      <td>5.85</td>\n",
       "      <td>x</td>\n",
       "      <td>l</td>\n",
       "      <td>w</td>\n",
       "      <td>f</td>\n",
       "      <td>d</td>\n",
       "      <td>NaN</td>\n",
       "      <td>w</td>\n",
       "      <td>3.37</td>\n",
       "      <td>...</td>\n",
       "      <td>NaN</td>\n",
       "      <td>NaN</td>\n",
       "      <td>w</td>\n",
       "      <td>NaN</td>\n",
       "      <td>NaN</td>\n",
       "      <td>f</td>\n",
       "      <td>f</td>\n",
       "      <td>NaN</td>\n",
       "      <td>g</td>\n",
       "      <td>a</td>\n",
       "    </tr>\n",
       "  </tbody>\n",
       "</table>\n",
       "<p>5 rows × 21 columns</p>\n",
       "</div>"
      ],
      "text/plain": [
       "   class  cap-diameter cap-shape cap-surface cap-color does-bruise-or-bleed  \\\n",
       "id                                                                            \n",
       "0      e          8.80         f           s         u                    f   \n",
       "1      p          4.51         x           h         o                    f   \n",
       "2      e          6.94         f           s         b                    f   \n",
       "3      e          3.88         f           y         g                    f   \n",
       "4      e          5.85         x           l         w                    f   \n",
       "\n",
       "   gill-attachment gill-spacing gill-color  stem-height  ...  stem-root  \\\n",
       "id                                                       ...              \n",
       "0                a            c          w         4.51  ...        NaN   \n",
       "1                a            c          n         4.79  ...        NaN   \n",
       "2                x            c          w         6.85  ...        NaN   \n",
       "3                s          NaN          g         4.16  ...        NaN   \n",
       "4                d          NaN          w         3.37  ...        NaN   \n",
       "\n",
       "   stem-surface stem-color veil-type veil-color has-ring ring-type  \\\n",
       "id                                                                   \n",
       "0           NaN          w       NaN        NaN        f         f   \n",
       "1             y          o       NaN        NaN        t         z   \n",
       "2             s          n       NaN        NaN        f         f   \n",
       "3           NaN          w       NaN        NaN        f         f   \n",
       "4           NaN          w       NaN        NaN        f         f   \n",
       "\n",
       "   spore-print-color habitat season  \n",
       "id                                   \n",
       "0                NaN       d      a  \n",
       "1                NaN       d      w  \n",
       "2                NaN       l      w  \n",
       "3                NaN       d      u  \n",
       "4                NaN       g      a  \n",
       "\n",
       "[5 rows x 21 columns]"
      ]
     },
     "execution_count": 4,
     "metadata": {},
     "output_type": "execute_result"
    }
   ],
   "source": [
    "train.info()\n",
    "\n",
    "train.head()"
   ]
  },
  {
   "cell_type": "code",
   "execution_count": 5,
   "id": "108696ff",
   "metadata": {
    "execution": {
     "iopub.execute_input": "2024-08-18T18:42:42.030045Z",
     "iopub.status.busy": "2024-08-18T18:42:42.029763Z",
     "iopub.status.idle": "2024-08-18T18:42:42.050515Z",
     "shell.execute_reply": "2024-08-18T18:42:42.049631Z"
    },
    "papermill": {
     "duration": 0.032533,
     "end_time": "2024-08-18T18:42:42.052776",
     "exception": false,
     "start_time": "2024-08-18T18:42:42.020243",
     "status": "completed"
    },
    "tags": []
   },
   "outputs": [
    {
     "data": {
      "text/html": [
       "<div>\n",
       "<style scoped>\n",
       "    .dataframe tbody tr th:only-of-type {\n",
       "        vertical-align: middle;\n",
       "    }\n",
       "\n",
       "    .dataframe tbody tr th {\n",
       "        vertical-align: top;\n",
       "    }\n",
       "\n",
       "    .dataframe thead th {\n",
       "        text-align: right;\n",
       "    }\n",
       "</style>\n",
       "<table border=\"1\" class=\"dataframe\">\n",
       "  <thead>\n",
       "    <tr style=\"text-align: right;\">\n",
       "      <th></th>\n",
       "      <th>cap-diameter</th>\n",
       "      <th>cap-shape</th>\n",
       "      <th>cap-surface</th>\n",
       "      <th>cap-color</th>\n",
       "      <th>does-bruise-or-bleed</th>\n",
       "      <th>gill-attachment</th>\n",
       "      <th>gill-spacing</th>\n",
       "      <th>gill-color</th>\n",
       "      <th>stem-height</th>\n",
       "      <th>stem-width</th>\n",
       "      <th>stem-root</th>\n",
       "      <th>stem-surface</th>\n",
       "      <th>stem-color</th>\n",
       "      <th>veil-type</th>\n",
       "      <th>veil-color</th>\n",
       "      <th>has-ring</th>\n",
       "      <th>ring-type</th>\n",
       "      <th>spore-print-color</th>\n",
       "      <th>habitat</th>\n",
       "      <th>season</th>\n",
       "    </tr>\n",
       "    <tr>\n",
       "      <th>id</th>\n",
       "      <th></th>\n",
       "      <th></th>\n",
       "      <th></th>\n",
       "      <th></th>\n",
       "      <th></th>\n",
       "      <th></th>\n",
       "      <th></th>\n",
       "      <th></th>\n",
       "      <th></th>\n",
       "      <th></th>\n",
       "      <th></th>\n",
       "      <th></th>\n",
       "      <th></th>\n",
       "      <th></th>\n",
       "      <th></th>\n",
       "      <th></th>\n",
       "      <th></th>\n",
       "      <th></th>\n",
       "      <th></th>\n",
       "      <th></th>\n",
       "    </tr>\n",
       "  </thead>\n",
       "  <tbody>\n",
       "    <tr>\n",
       "      <th>3116945</th>\n",
       "      <td>8.64</td>\n",
       "      <td>x</td>\n",
       "      <td>NaN</td>\n",
       "      <td>n</td>\n",
       "      <td>t</td>\n",
       "      <td>NaN</td>\n",
       "      <td>NaN</td>\n",
       "      <td>w</td>\n",
       "      <td>11.13</td>\n",
       "      <td>17.12</td>\n",
       "      <td>b</td>\n",
       "      <td>NaN</td>\n",
       "      <td>w</td>\n",
       "      <td>u</td>\n",
       "      <td>w</td>\n",
       "      <td>t</td>\n",
       "      <td>g</td>\n",
       "      <td>NaN</td>\n",
       "      <td>d</td>\n",
       "      <td>a</td>\n",
       "    </tr>\n",
       "    <tr>\n",
       "      <th>3116946</th>\n",
       "      <td>6.90</td>\n",
       "      <td>o</td>\n",
       "      <td>t</td>\n",
       "      <td>o</td>\n",
       "      <td>f</td>\n",
       "      <td>NaN</td>\n",
       "      <td>c</td>\n",
       "      <td>y</td>\n",
       "      <td>1.27</td>\n",
       "      <td>10.75</td>\n",
       "      <td>NaN</td>\n",
       "      <td>NaN</td>\n",
       "      <td>n</td>\n",
       "      <td>NaN</td>\n",
       "      <td>NaN</td>\n",
       "      <td>f</td>\n",
       "      <td>f</td>\n",
       "      <td>NaN</td>\n",
       "      <td>d</td>\n",
       "      <td>a</td>\n",
       "    </tr>\n",
       "    <tr>\n",
       "      <th>3116947</th>\n",
       "      <td>2.00</td>\n",
       "      <td>b</td>\n",
       "      <td>g</td>\n",
       "      <td>n</td>\n",
       "      <td>f</td>\n",
       "      <td>NaN</td>\n",
       "      <td>c</td>\n",
       "      <td>n</td>\n",
       "      <td>6.18</td>\n",
       "      <td>3.14</td>\n",
       "      <td>NaN</td>\n",
       "      <td>NaN</td>\n",
       "      <td>n</td>\n",
       "      <td>NaN</td>\n",
       "      <td>NaN</td>\n",
       "      <td>f</td>\n",
       "      <td>f</td>\n",
       "      <td>NaN</td>\n",
       "      <td>d</td>\n",
       "      <td>s</td>\n",
       "    </tr>\n",
       "    <tr>\n",
       "      <th>3116948</th>\n",
       "      <td>3.47</td>\n",
       "      <td>x</td>\n",
       "      <td>t</td>\n",
       "      <td>n</td>\n",
       "      <td>f</td>\n",
       "      <td>s</td>\n",
       "      <td>c</td>\n",
       "      <td>n</td>\n",
       "      <td>4.98</td>\n",
       "      <td>8.51</td>\n",
       "      <td>NaN</td>\n",
       "      <td>NaN</td>\n",
       "      <td>w</td>\n",
       "      <td>NaN</td>\n",
       "      <td>n</td>\n",
       "      <td>t</td>\n",
       "      <td>z</td>\n",
       "      <td>NaN</td>\n",
       "      <td>d</td>\n",
       "      <td>u</td>\n",
       "    </tr>\n",
       "    <tr>\n",
       "      <th>3116949</th>\n",
       "      <td>6.17</td>\n",
       "      <td>x</td>\n",
       "      <td>h</td>\n",
       "      <td>y</td>\n",
       "      <td>f</td>\n",
       "      <td>p</td>\n",
       "      <td>NaN</td>\n",
       "      <td>y</td>\n",
       "      <td>6.73</td>\n",
       "      <td>13.70</td>\n",
       "      <td>NaN</td>\n",
       "      <td>NaN</td>\n",
       "      <td>y</td>\n",
       "      <td>NaN</td>\n",
       "      <td>y</td>\n",
       "      <td>t</td>\n",
       "      <td>NaN</td>\n",
       "      <td>NaN</td>\n",
       "      <td>d</td>\n",
       "      <td>u</td>\n",
       "    </tr>\n",
       "  </tbody>\n",
       "</table>\n",
       "</div>"
      ],
      "text/plain": [
       "         cap-diameter cap-shape cap-surface cap-color does-bruise-or-bleed  \\\n",
       "id                                                                           \n",
       "3116945          8.64         x         NaN         n                    t   \n",
       "3116946          6.90         o           t         o                    f   \n",
       "3116947          2.00         b           g         n                    f   \n",
       "3116948          3.47         x           t         n                    f   \n",
       "3116949          6.17         x           h         y                    f   \n",
       "\n",
       "        gill-attachment gill-spacing gill-color  stem-height  stem-width  \\\n",
       "id                                                                         \n",
       "3116945             NaN          NaN          w        11.13       17.12   \n",
       "3116946             NaN            c          y         1.27       10.75   \n",
       "3116947             NaN            c          n         6.18        3.14   \n",
       "3116948               s            c          n         4.98        8.51   \n",
       "3116949               p          NaN          y         6.73       13.70   \n",
       "\n",
       "        stem-root stem-surface stem-color veil-type veil-color has-ring  \\\n",
       "id                                                                        \n",
       "3116945         b          NaN          w         u          w        t   \n",
       "3116946       NaN          NaN          n       NaN        NaN        f   \n",
       "3116947       NaN          NaN          n       NaN        NaN        f   \n",
       "3116948       NaN          NaN          w       NaN          n        t   \n",
       "3116949       NaN          NaN          y       NaN          y        t   \n",
       "\n",
       "        ring-type spore-print-color habitat season  \n",
       "id                                                  \n",
       "3116945         g               NaN       d      a  \n",
       "3116946         f               NaN       d      a  \n",
       "3116947         f               NaN       d      s  \n",
       "3116948         z               NaN       d      u  \n",
       "3116949       NaN               NaN       d      u  "
      ]
     },
     "execution_count": 5,
     "metadata": {},
     "output_type": "execute_result"
    }
   ],
   "source": [
    "test.head()"
   ]
  },
  {
   "cell_type": "markdown",
   "id": "54380b7a",
   "metadata": {
    "papermill": {
     "duration": 0.00884,
     "end_time": "2024-08-18T18:42:42.071709",
     "exception": false,
     "start_time": "2024-08-18T18:42:42.062869",
     "status": "completed"
    },
    "tags": []
   },
   "source": [
    "# Check NaN Entries Percentage"
   ]
  },
  {
   "cell_type": "code",
   "execution_count": 6,
   "id": "c7fc27b4",
   "metadata": {
    "execution": {
     "iopub.execute_input": "2024-08-18T18:42:42.091499Z",
     "iopub.status.busy": "2024-08-18T18:42:42.091137Z",
     "iopub.status.idle": "2024-08-18T18:42:48.864044Z",
     "shell.execute_reply": "2024-08-18T18:42:48.862874Z"
    },
    "papermill": {
     "duration": 6.785219,
     "end_time": "2024-08-18T18:42:48.866091",
     "exception": false,
     "start_time": "2024-08-18T18:42:42.080872",
     "status": "completed"
    },
    "tags": []
   },
   "outputs": [
    {
     "name": "stdout",
     "output_type": "stream",
     "text": [
      "Nan Values in Train data\n",
      "class                    0.00\n",
      "cap-diameter             0.00\n",
      "cap-shape                0.00\n",
      "cap-surface             21.53\n",
      "cap-color                0.00\n",
      "does-bruise-or-bleed     0.00\n",
      "gill-attachment         16.81\n",
      "gill-spacing            40.37\n",
      "gill-color               0.00\n",
      "stem-height              0.00\n",
      "stem-width               0.00\n",
      "stem-root               88.45\n",
      "stem-surface            63.55\n",
      "stem-color               0.00\n",
      "veil-type               94.88\n",
      "veil-color              87.94\n",
      "has-ring                 0.00\n",
      "ring-type                4.13\n",
      "spore-print-color       91.43\n",
      "habitat                  0.00\n",
      "season                   0.00\n",
      "dtype: float64\n",
      "Nan Values in Test data\n",
      "cap-diameter             0.00\n",
      "cap-shape                0.00\n",
      "cap-surface             21.51\n",
      "cap-color                0.00\n",
      "does-bruise-or-bleed     0.00\n",
      "gill-attachment         16.83\n",
      "gill-spacing            40.40\n",
      "gill-color               0.00\n",
      "stem-height              0.00\n",
      "stem-width               0.00\n",
      "stem-root               88.45\n",
      "stem-surface            63.60\n",
      "stem-color               0.00\n",
      "veil-type               94.88\n",
      "veil-color              87.88\n",
      "has-ring                 0.00\n",
      "ring-type                4.15\n",
      "spore-print-color       91.42\n",
      "habitat                  0.00\n",
      "season                   0.00\n",
      "dtype: float64\n"
     ]
    }
   ],
   "source": [
    "def null_percent(df):\n",
    "    per=((df.isnull().sum()/len(df))*100).round(2)\n",
    "    return per\n",
    "print(\"Nan Values in Train data\")\n",
    "print(null_percent(train))\n",
    "print(\"Nan Values in Test data\")\n",
    "print(null_percent(test))"
   ]
  },
  {
   "cell_type": "markdown",
   "id": "bb4fba67",
   "metadata": {
    "papermill": {
     "duration": 0.009125,
     "end_time": "2024-08-18T18:42:48.885040",
     "exception": false,
     "start_time": "2024-08-18T18:42:48.875915",
     "status": "completed"
    },
    "tags": []
   },
   "source": [
    "# Similarity in NaN values of train and test data columns\n",
    "\n",
    "*If this is something new for you and you have came accross this scenario first time then it might be interesting for you.*\n",
    "\n",
    "**Could it be Synthetic Data or is it just similarity of NaN in train and test?**\n",
    "\n",
    "Both train and test data shows similarity in missing data. After trying different techniques to fill the missing data and dropping columns which had more than 80% missing values. I found that it was reducing the score on leader board. \n",
    "As the details of competition says it is synthetically generated data so, probabbly in case of this specific data, if we train the model with NaN values in training data than it performs well with NaN values of test data. \n",
    "Please note that in our specific case both train and test data have smililarity in missing values thus in this specific scenario it can perform well. If both data sets don't have this similarity in missing values then it can't perform well with NaN values.\n",
    "\n",
    "I hope you got the point but incase you still want to dig deep into it, you can check previous versions of this note book to get an idea."
   ]
  },
  {
   "cell_type": "markdown",
   "id": "388c9d4a",
   "metadata": {
    "papermill": {
     "duration": 0.009028,
     "end_time": "2024-08-18T18:42:48.903855",
     "exception": false,
     "start_time": "2024-08-18T18:42:48.894827",
     "status": "completed"
    },
    "tags": []
   },
   "source": [
    "# Encode Categorical Columns"
   ]
  },
  {
   "cell_type": "code",
   "execution_count": 7,
   "id": "1cc8e215",
   "metadata": {
    "execution": {
     "iopub.execute_input": "2024-08-18T18:42:48.924674Z",
     "iopub.status.busy": "2024-08-18T18:42:48.923980Z",
     "iopub.status.idle": "2024-08-18T18:44:03.334166Z",
     "shell.execute_reply": "2024-08-18T18:44:03.333168Z"
    },
    "papermill": {
     "duration": 74.423419,
     "end_time": "2024-08-18T18:44:03.336685",
     "exception": false,
     "start_time": "2024-08-18T18:42:48.913266",
     "status": "completed"
    },
    "tags": []
   },
   "outputs": [],
   "source": [
    "train['class'] = train['class'] =='p'\n",
    "\n",
    "encoder  = TargetEncoder()\n",
    "cat_features = [val for val in train.drop(columns = 'class').select_dtypes(exclude ='number').columns]\n",
    "for feature in cat_features:\n",
    "    train[feature] = encoder.fit_transform(train[feature], train['class'])\n",
    "    test[feature] = encoder.transform(test[feature])\n",
    "    "
   ]
  },
  {
   "cell_type": "markdown",
   "id": "26919b3a",
   "metadata": {
    "papermill": {
     "duration": 0.009163,
     "end_time": "2024-08-18T18:44:03.355678",
     "exception": false,
     "start_time": "2024-08-18T18:44:03.346515",
     "status": "completed"
    },
    "tags": []
   },
   "source": [
    "# Outlier Analysis\n",
    "We will analyse outlier with two methods\n",
    "1. Inter Quartile Range Method\n",
    "2. Z-Score Method\n",
    "\n",
    "**Inter Quartile Range Method**"
   ]
  },
  {
   "cell_type": "code",
   "execution_count": 8,
   "id": "4e2692c4",
   "metadata": {
    "execution": {
     "iopub.execute_input": "2024-08-18T18:44:03.375963Z",
     "iopub.status.busy": "2024-08-18T18:44:03.375599Z",
     "iopub.status.idle": "2024-08-18T18:44:04.974319Z",
     "shell.execute_reply": "2024-08-18T18:44:04.973390Z"
    },
    "papermill": {
     "duration": 1.611948,
     "end_time": "2024-08-18T18:44:04.977138",
     "exception": false,
     "start_time": "2024-08-18T18:44:03.365190",
     "status": "completed"
    },
    "tags": []
   },
   "outputs": [
    {
     "name": "stdout",
     "output_type": "stream",
     "text": [
      "         cap-diameter  cap-shape  cap-surface  cap-color  \\\n",
      "id                                                         \n",
      "3116945         False      False        False      False   \n",
      "3116946         False       True        False      False   \n",
      "3116947         False       True        False      False   \n",
      "3116948         False      False        False      False   \n",
      "3116949         False      False        False      False   \n",
      "...               ...        ...          ...        ...   \n",
      "5194904         False      False        False      False   \n",
      "5194905         False      False        False      False   \n",
      "5194906         False      False        False      False   \n",
      "5194907         False       True        False      False   \n",
      "5194908         False      False        False      False   \n",
      "\n",
      "         does-bruise-or-bleed  gill-attachment  gill-spacing  gill-color  \\\n",
      "id                                                                         \n",
      "3116945                  True            False         False       False   \n",
      "3116946                 False            False         False       False   \n",
      "3116947                 False            False         False       False   \n",
      "3116948                 False            False         False       False   \n",
      "3116949                 False             True         False       False   \n",
      "...                       ...              ...           ...         ...   \n",
      "5194904                 False            False          True       False   \n",
      "5194905                 False            False         False       False   \n",
      "5194906                 False            False         False       False   \n",
      "5194907                 False            False          True       False   \n",
      "5194908                 False            False         False       False   \n",
      "\n",
      "         stem-height  stem-width  stem-root  stem-surface  stem-color  \\\n",
      "id                                                                      \n",
      "3116945        False       False       True         False       False   \n",
      "3116946        False       False      False         False       False   \n",
      "3116947        False       False      False         False       False   \n",
      "3116948        False       False      False         False       False   \n",
      "3116949        False       False      False         False       False   \n",
      "...              ...         ...        ...           ...         ...   \n",
      "5194904        False       False      False         False       False   \n",
      "5194905        False       False      False         False       False   \n",
      "5194906        False       False      False         False       False   \n",
      "5194907        False       False      False          True       False   \n",
      "5194908        False       False      False         False       False   \n",
      "\n",
      "         veil-type  veil-color  has-ring  ring-type  spore-print-color  \\\n",
      "id                                                                       \n",
      "3116945       True        True      True       True              False   \n",
      "3116946      False       False     False      False              False   \n",
      "3116947      False       False     False      False              False   \n",
      "3116948      False        True      True       True              False   \n",
      "3116949      False        True      True       True              False   \n",
      "...            ...         ...       ...        ...                ...   \n",
      "5194904      False       False     False      False              False   \n",
      "5194905      False       False     False      False              False   \n",
      "5194906      False        True      True       True              False   \n",
      "5194907      False       False     False      False              False   \n",
      "5194908      False       False     False      False              False   \n",
      "\n",
      "         habitat  season  \n",
      "id                        \n",
      "3116945    False   False  \n",
      "3116946    False   False  \n",
      "3116947    False    True  \n",
      "3116948    False   False  \n",
      "3116949    False   False  \n",
      "...          ...     ...  \n",
      "5194904    False   False  \n",
      "5194905     True   False  \n",
      "5194906    False   False  \n",
      "5194907    False   False  \n",
      "5194908    False    True  \n",
      "\n",
      "[2077964 rows x 20 columns]\n"
     ]
    }
   ],
   "source": [
    "# Assuming 'data' is your DataFrame and you want to find outliers in all numerical columns\n",
    "\n",
    "def find_outliers_iqr(data):\n",
    "    outliers = pd.DataFrame()\n",
    "\n",
    "    for column in data.select_dtypes(include=[float, int]).columns:\n",
    "        Q1 = data[column].quantile(0.25)\n",
    "        Q3 = data[column].quantile(0.75)\n",
    "        IQR = Q3 - Q1\n",
    "\n",
    "        lower_bound = Q1 - 1.5 * IQR\n",
    "        upper_bound = Q3 + 1.5 * IQR\n",
    "\n",
    "        # Find outliers\n",
    "        outliers[column] = ((data[column] < lower_bound) | (data[column] > upper_bound))\n",
    "\n",
    "    return outliers\n",
    "\n",
    "# Example usage\n",
    "outliers = find_outliers_iqr(test)  # Replace 'test' with your DataFrame\n",
    "print(outliers)"
   ]
  },
  {
   "cell_type": "markdown",
   "id": "3b91d8e2",
   "metadata": {
    "papermill": {
     "duration": 0.009785,
     "end_time": "2024-08-18T18:44:04.996995",
     "exception": false,
     "start_time": "2024-08-18T18:44:04.987210",
     "status": "completed"
    },
    "tags": []
   },
   "source": [
    "**Z-Score Method**"
   ]
  },
  {
   "cell_type": "code",
   "execution_count": 9,
   "id": "accab533",
   "metadata": {
    "execution": {
     "iopub.execute_input": "2024-08-18T18:44:05.017553Z",
     "iopub.status.busy": "2024-08-18T18:44:05.017215Z",
     "iopub.status.idle": "2024-08-18T18:44:08.402636Z",
     "shell.execute_reply": "2024-08-18T18:44:08.401611Z"
    },
    "papermill": {
     "duration": 3.399285,
     "end_time": "2024-08-18T18:44:08.405980",
     "exception": false,
     "start_time": "2024-08-18T18:44:05.006695",
     "status": "completed"
    },
    "tags": []
   },
   "outputs": [
    {
     "name": "stdout",
     "output_type": "stream",
     "text": [
      "         cap-diameter  cap-shape  cap-surface  cap-color  \\\n",
      "id                                                         \n",
      "3116945         False      False        False      False   \n",
      "3116946         False      False        False      False   \n",
      "3116947         False      False        False      False   \n",
      "3116948         False      False        False      False   \n",
      "3116949         False      False        False      False   \n",
      "...               ...        ...          ...        ...   \n",
      "5194904         False      False        False      False   \n",
      "5194905         False      False        False      False   \n",
      "5194906         False      False        False      False   \n",
      "5194907         False      False        False      False   \n",
      "5194908         False      False        False      False   \n",
      "\n",
      "         does-bruise-or-bleed  gill-attachment  gill-spacing  gill-color  \\\n",
      "id                                                                         \n",
      "3116945                 False            False         False       False   \n",
      "3116946                 False            False         False       False   \n",
      "3116947                 False            False         False       False   \n",
      "3116948                 False            False         False       False   \n",
      "3116949                 False            False         False       False   \n",
      "...                       ...              ...           ...         ...   \n",
      "5194904                 False            False         False       False   \n",
      "5194905                 False            False         False       False   \n",
      "5194906                 False            False         False       False   \n",
      "5194907                 False            False         False       False   \n",
      "5194908                 False            False         False       False   \n",
      "\n",
      "        stem-height  stem-width  stem-root  stem-surface  stem-color  \\\n",
      "id                                                                     \n",
      "3116945       False       False      False         False       False   \n",
      "3116946       False       False      False         False       False   \n",
      "3116947       False       False      False         False       False   \n",
      "3116948       False       False      False         False       False   \n",
      "3116949       False       False      False         False       False   \n",
      "...             ...         ...        ...           ...         ...   \n",
      "5194904       False       False      False         False       False   \n",
      "5194905       False       False      False         False       False   \n",
      "5194906       False       False      False         False       False   \n",
      "5194907       False       False      False         False       False   \n",
      "5194908       False       False      False         False       False   \n",
      "\n",
      "         veil-type  veil-color  has-ring  ring-type  spore-print-color  \\\n",
      "id                                                                       \n",
      "3116945      False       False     False      False              False   \n",
      "3116946      False       False     False      False              False   \n",
      "3116947      False       False     False      False              False   \n",
      "3116948      False       False     False      False              False   \n",
      "3116949      False       False     False      False              False   \n",
      "...            ...         ...       ...        ...                ...   \n",
      "5194904      False       False     False      False              False   \n",
      "5194905      False       False     False      False              False   \n",
      "5194906      False       False     False      False              False   \n",
      "5194907      False       False     False      False              False   \n",
      "5194908      False       False     False      False              False   \n",
      "\n",
      "         habitat  season  \n",
      "id                        \n",
      "3116945    False   False  \n",
      "3116946    False   False  \n",
      "3116947    False   False  \n",
      "3116948    False   False  \n",
      "3116949    False   False  \n",
      "...          ...     ...  \n",
      "5194904    False   False  \n",
      "5194905    False   False  \n",
      "5194906    False   False  \n",
      "5194907    False   False  \n",
      "5194908    False   False  \n",
      "\n",
      "[2077957 rows x 20 columns]\n"
     ]
    }
   ],
   "source": [
    "def find_outliers_zscore(data, threshold=30):\n",
    "    outliers = pd.DataFrame()\n",
    "\n",
    "    for column in data.select_dtypes(include=[float, int]).columns:\n",
    "        z_scores = np.abs(stats.zscore(data[column].dropna()))\n",
    "        outliers[column] = z_scores > threshold\n",
    "\n",
    "    return outliers\n",
    "\n",
    "# Example usage\n",
    "outliers = find_outliers_zscore(test)  # Replace 'test' with your DataFrame\n",
    "print(outliers)"
   ]
  },
  {
   "cell_type": "markdown",
   "id": "135ad22d",
   "metadata": {
    "papermill": {
     "duration": 0.010286,
     "end_time": "2024-08-18T18:44:08.426533",
     "exception": false,
     "start_time": "2024-08-18T18:44:08.416247",
     "status": "completed"
    },
    "tags": []
   },
   "source": [
    "# Data Visualization"
   ]
  },
  {
   "cell_type": "code",
   "execution_count": 10,
   "id": "14190a59",
   "metadata": {
    "execution": {
     "iopub.execute_input": "2024-08-18T18:44:08.447177Z",
     "iopub.status.busy": "2024-08-18T18:44:08.446837Z",
     "iopub.status.idle": "2024-08-18T18:44:17.683980Z",
     "shell.execute_reply": "2024-08-18T18:44:17.683089Z"
    },
    "papermill": {
     "duration": 9.250294,
     "end_time": "2024-08-18T18:44:17.686336",
     "exception": false,
     "start_time": "2024-08-18T18:44:08.436042",
     "status": "completed"
    },
    "tags": []
   },
   "outputs": [
    {
     "data": {
      "text/plain": [
       "<Axes: xlabel='stem-height', ylabel='stem-width'>"
      ]
     },
     "execution_count": 10,
     "metadata": {},
     "output_type": "execute_result"
    },
    {
     "data": {
      "image/png": "[encoded data removed]",
      "text/plain": [
       "<Figure size 640x480 with 1 Axes>"
      ]
     },
     "metadata": {},
     "output_type": "display_data"
    }
   ],
   "source": [
    "train.plot(kind=\"scatter\", x=\"stem-height\", y=\"stem-width\")"
   ]
  },
  {
   "cell_type": "code",
   "execution_count": 11,
   "id": "4555e929",
   "metadata": {
    "execution": {
     "iopub.execute_input": "2024-08-18T18:44:17.716699Z",
     "iopub.status.busy": "2024-08-18T18:44:17.715660Z",
     "iopub.status.idle": "2024-08-18T18:44:24.046917Z",
     "shell.execute_reply": "2024-08-18T18:44:24.045922Z"
    },
    "papermill": {
     "duration": 6.351348,
     "end_time": "2024-08-18T18:44:24.048930",
     "exception": false,
     "start_time": "2024-08-18T18:44:17.697582",
     "status": "completed"
    },
    "tags": []
   },
   "outputs": [
    {
     "data": {
      "text/plain": [
       "<Axes: xlabel='stem-height', ylabel='stem-width'>"
      ]
     },
     "execution_count": 11,
     "metadata": {},
     "output_type": "execute_result"
    },
    {
     "data": {
      "image/png": "[encoded data removed]",
      "text/plain": [
       "<Figure size 640x480 with 1 Axes>"
      ]
     },
     "metadata": {},
     "output_type": "display_data"
    }
   ],
   "source": [
    "test.plot(kind=\"scatter\", x=\"stem-height\", y=\"stem-width\")"
   ]
  },
  {
   "cell_type": "code",
   "execution_count": 12,
   "id": "eae28fc8",
   "metadata": {
    "execution": {
     "iopub.execute_input": "2024-08-18T18:44:24.073570Z",
     "iopub.status.busy": "2024-08-18T18:44:24.072728Z",
     "iopub.status.idle": "2024-08-18T18:44:33.505792Z",
     "shell.execute_reply": "2024-08-18T18:44:33.504891Z"
    },
    "papermill": {
     "duration": 9.447717,
     "end_time": "2024-08-18T18:44:33.507966",
     "exception": false,
     "start_time": "2024-08-18T18:44:24.060249",
     "status": "completed"
    },
    "tags": []
   },
   "outputs": [
    {
     "data": {
      "text/plain": [
       "<Axes: xlabel='cap-diameter', ylabel='stem-width'>"
      ]
     },
     "execution_count": 12,
     "metadata": {},
     "output_type": "execute_result"
    },
    {
     "data": {
      "image/png": "[encoded data removed]",
      "text/plain": [
       "<Figure size 640x480 with 1 Axes>"
      ]
     },
     "metadata": {},
     "output_type": "display_data"
    }
   ],
   "source": [
    "train.plot(kind=\"scatter\", x=\"cap-diameter\", y=\"stem-width\")"
   ]
  },
  {
   "cell_type": "code",
   "execution_count": 13,
   "id": "e7583671",
   "metadata": {
    "execution": {
     "iopub.execute_input": "2024-08-18T18:44:33.532604Z",
     "iopub.status.busy": "2024-08-18T18:44:33.532290Z",
     "iopub.status.idle": "2024-08-18T18:44:39.931628Z",
     "shell.execute_reply": "2024-08-18T18:44:39.930628Z"
    },
    "papermill": {
     "duration": 6.413894,
     "end_time": "2024-08-18T18:44:39.933726",
     "exception": false,
     "start_time": "2024-08-18T18:44:33.519832",
     "status": "completed"
    },
    "tags": []
   },
   "outputs": [
    {
     "data": {
      "text/plain": [
       "<Axes: xlabel='cap-diameter', ylabel='stem-width'>"
      ]
     },
     "execution_count": 13,
     "metadata": {},
     "output_type": "execute_result"
    },
    {
     "data": {
      "image/png": "[encoded data removed]",
      "text/plain": [
       "<Figure size 640x480 with 1 Axes>"
      ]
     },
     "metadata": {},
     "output_type": "display_data"
    }
   ],
   "source": [
    "test.plot(kind=\"scatter\", x=\"cap-diameter\", y=\"stem-width\")"
   ]
  },
  {
   "cell_type": "code",
   "execution_count": 14,
   "id": "9b073d13",
   "metadata": {
    "execution": {
     "iopub.execute_input": "2024-08-18T18:44:39.959783Z",
     "iopub.status.busy": "2024-08-18T18:44:39.959466Z",
     "iopub.status.idle": "2024-08-18T18:44:49.347313Z",
     "shell.execute_reply": "2024-08-18T18:44:49.346338Z"
    },
    "papermill": {
     "duration": 9.402887,
     "end_time": "2024-08-18T18:44:49.349289",
     "exception": false,
     "start_time": "2024-08-18T18:44:39.946402",
     "status": "completed"
    },
    "tags": []
   },
   "outputs": [
    {
     "data": {
      "text/plain": [
       "<Axes: xlabel='stem-height', ylabel='cap-diameter'>"
      ]
     },
     "execution_count": 14,
     "metadata": {},
     "output_type": "execute_result"
    },
    {
     "data": {
      "image/png": "[encoded data removed]",
      "text/plain": [
       "<Figure size 640x480 with 1 Axes>"
      ]
     },
     "metadata": {},
     "output_type": "display_data"
    }
   ],
   "source": [
    "train.plot(kind=\"scatter\", x=\"stem-height\", y=\"cap-diameter\")"
   ]
  },
  {
   "cell_type": "code",
   "execution_count": 15,
   "id": "3961524a",
   "metadata": {
    "execution": {
     "iopub.execute_input": "2024-08-18T18:44:49.376197Z",
     "iopub.status.busy": "2024-08-18T18:44:49.375878Z",
     "iopub.status.idle": "2024-08-18T18:44:55.743334Z",
     "shell.execute_reply": "2024-08-18T18:44:55.742274Z"
    },
    "papermill": {
     "duration": 6.383387,
     "end_time": "2024-08-18T18:44:55.745595",
     "exception": false,
     "start_time": "2024-08-18T18:44:49.362208",
     "status": "completed"
    },
    "tags": []
   },
   "outputs": [
    {
     "data": {
      "text/plain": [
       "<Axes: xlabel='stem-height', ylabel='cap-diameter'>"
      ]
     },
     "execution_count": 15,
     "metadata": {},
     "output_type": "execute_result"
    },
    {
     "data": {
      "image/png": "[encoded data removed]",
      "text/plain": [
       "<Figure size 640x480 with 1 Axes>"
      ]
     },
     "metadata": {},
     "output_type": "display_data"
    }
   ],
   "source": [
    "test.plot(kind=\"scatter\", x=\"stem-height\", y=\"cap-diameter\")"
   ]
  },
  {
   "cell_type": "code",
   "execution_count": 16,
   "id": "a9040b05",
   "metadata": {
    "execution": {
     "iopub.execute_input": "2024-08-18T18:44:55.774504Z",
     "iopub.status.busy": "2024-08-18T18:44:55.774154Z",
     "iopub.status.idle": "2024-08-18T18:45:18.147893Z",
     "shell.execute_reply": "2024-08-18T18:45:18.146945Z"
    },
    "papermill": {
     "duration": 22.390601,
     "end_time": "2024-08-18T18:45:18.149983",
     "exception": false,
     "start_time": "2024-08-18T18:44:55.759382",
     "status": "completed"
    },
    "tags": []
   },
   "outputs": [
    {
     "data": {
      "image/png": "[encoded data removed]",
      "text/plain": [
       "<Figure size 693.5x500 with 1 Axes>"
      ]
     },
     "metadata": {},
     "output_type": "display_data"
    }
   ],
   "source": [
    "g = sns.FacetGrid(train, hue=\"class\", height=5, aspect=1.2)\n",
    "g.map(plt.scatter, \"season\", \"habitat\")\n",
    "g.add_legend()\n",
    "\n",
    "plt.show()\n",
    "# Here True = Poisonious, False = Edible"
   ]
  },
  {
   "cell_type": "code",
   "execution_count": 17,
   "id": "0c808460",
   "metadata": {
    "execution": {
     "iopub.execute_input": "2024-08-18T18:45:18.179861Z",
     "iopub.status.busy": "2024-08-18T18:45:18.179175Z",
     "iopub.status.idle": "2024-08-18T18:45:40.704891Z",
     "shell.execute_reply": "2024-08-18T18:45:40.703952Z"
    },
    "papermill": {
     "duration": 22.542765,
     "end_time": "2024-08-18T18:45:40.706955",
     "exception": false,
     "start_time": "2024-08-18T18:45:18.164190",
     "status": "completed"
    },
    "tags": []
   },
   "outputs": [
    {
     "data": {
      "image/png": "[encoded data removed]",
      "text/plain": [
       "<Figure size 693.5x500 with 1 Axes>"
      ]
     },
     "metadata": {},
     "output_type": "display_data"
    }
   ],
   "source": [
    "g = sns.FacetGrid(train, hue=\"class\", height=5, aspect=1.2)\n",
    "g.map(plt.scatter, \"does-bruise-or-bleed\", \"cap-color\")\n",
    "g.add_legend()\n",
    "\n",
    "plt.show()\n",
    "# Here True = Poisonious, False = Edible"
   ]
  },
  {
   "cell_type": "markdown",
   "id": "385c19ad",
   "metadata": {
    "papermill": {
     "duration": 0.0142,
     "end_time": "2024-08-18T18:45:40.735763",
     "exception": false,
     "start_time": "2024-08-18T18:45:40.721563",
     "status": "completed"
    },
    "tags": []
   },
   "source": [
    "**As we have outliers in our data and we don't want to lose or manipulate the data then we can use tree based classification algorithms which are resistant to outliers.**"
   ]
  },
  {
   "cell_type": "markdown",
   "id": "92c6a2a3",
   "metadata": {
    "papermill": {
     "duration": 0.01448,
     "end_time": "2024-08-18T18:45:40.764824",
     "exception": false,
     "start_time": "2024-08-18T18:45:40.750344",
     "status": "completed"
    },
    "tags": []
   },
   "source": [
    "# Split Training Data"
   ]
  },
  {
   "cell_type": "code",
   "execution_count": 18,
   "id": "ff5ba73f",
   "metadata": {
    "execution": {
     "iopub.execute_input": "2024-08-18T18:45:40.796481Z",
     "iopub.status.busy": "2024-08-18T18:45:40.796084Z",
     "iopub.status.idle": "2024-08-18T18:45:40.993604Z",
     "shell.execute_reply": "2024-08-18T18:45:40.992575Z"
    },
    "papermill": {
     "duration": 0.216014,
     "end_time": "2024-08-18T18:45:40.996011",
     "exception": false,
     "start_time": "2024-08-18T18:45:40.779997",
     "status": "completed"
    },
    "tags": []
   },
   "outputs": [],
   "source": [
    "X = train.drop(['class'], axis=1)\n",
    "y = train['class']"
   ]
  },
  {
   "cell_type": "markdown",
   "id": "c1cbc96c",
   "metadata": {
    "papermill": {
     "duration": 0.014197,
     "end_time": "2024-08-18T18:45:41.025186",
     "exception": false,
     "start_time": "2024-08-18T18:45:41.010989",
     "status": "completed"
    },
    "tags": []
   },
   "source": [
    "# Use XGBClassifier for Prediction"
   ]
  },
  {
   "cell_type": "code",
   "execution_count": 19,
   "id": "96babd40",
   "metadata": {
    "execution": {
     "iopub.execute_input": "2024-08-18T18:45:41.055601Z",
     "iopub.status.busy": "2024-08-18T18:45:41.054933Z",
     "iopub.status.idle": "2024-08-18T18:46:06.094128Z",
     "shell.execute_reply": "2024-08-18T18:46:06.093252Z"
    },
    "papermill": {
     "duration": 25.057189,
     "end_time": "2024-08-18T18:46:06.096696",
     "exception": false,
     "start_time": "2024-08-18T18:45:41.039507",
     "status": "completed"
    },
    "tags": []
   },
   "outputs": [
    {
     "name": "stderr",
     "output_type": "stream",
     "text": [
      "/opt/conda/lib/python3.10/site-packages/xgboost/sklearn.py:889: UserWarning: `early_stopping_rounds` in `fit` method is deprecated for better compatibility with scikit-learn, use `early_stopping_rounds` in constructor or`set_params` instead.\n",
      "  warnings.warn(\n"
     ]
    },
    {
     "name": "stdout",
     "output_type": "stream",
     "text": [
      "[0]\tvalidation_0-logloss:0.62557\n",
      "[1]\tvalidation_0-logloss:0.56811\n",
      "[2]\tvalidation_0-logloss:0.51774\n",
      "[3]\tvalidation_0-logloss:0.47704\n",
      "[4]\tvalidation_0-logloss:0.43927\n",
      "[5]\tvalidation_0-logloss:0.40400\n",
      "[6]\tvalidation_0-logloss:0.37508\n",
      "[7]\tvalidation_0-logloss:0.34716\n",
      "[8]\tvalidation_0-logloss:0.32438\n",
      "[9]\tvalidation_0-logloss:0.30188\n",
      "[10]\tvalidation_0-logloss:0.28276\n",
      "[11]\tvalidation_0-logloss:0.26523\n",
      "[12]\tvalidation_0-logloss:0.24723\n",
      "[13]\tvalidation_0-logloss:0.23563\n",
      "[14]\tvalidation_0-logloss:0.22327\n",
      "[15]\tvalidation_0-logloss:0.21224\n",
      "[16]\tvalidation_0-logloss:0.20270\n",
      "[17]\tvalidation_0-logloss:0.19240\n",
      "[18]\tvalidation_0-logloss:0.18371\n",
      "[19]\tvalidation_0-logloss:0.17685\n",
      "[20]\tvalidation_0-logloss:0.16723\n",
      "[21]\tvalidation_0-logloss:0.16229\n",
      "[22]\tvalidation_0-logloss:0.15408\n",
      "[23]\tvalidation_0-logloss:0.14933\n",
      "[24]\tvalidation_0-logloss:0.14167\n",
      "[25]\tvalidation_0-logloss:0.13791\n",
      "[26]\tvalidation_0-logloss:0.13266\n",
      "[27]\tvalidation_0-logloss:0.12755\n",
      "[28]\tvalidation_0-logloss:0.12382\n",
      "[29]\tvalidation_0-logloss:0.11927\n",
      "[30]\tvalidation_0-logloss:0.11571\n",
      "[31]\tvalidation_0-logloss:0.11286\n",
      "[32]\tvalidation_0-logloss:0.10996\n",
      "[33]\tvalidation_0-logloss:0.10766\n",
      "[34]\tvalidation_0-logloss:0.10493\n",
      "[35]\tvalidation_0-logloss:0.10301\n",
      "[36]\tvalidation_0-logloss:0.10133\n",
      "[37]\tvalidation_0-logloss:0.09887\n",
      "[38]\tvalidation_0-logloss:0.09718\n",
      "[39]\tvalidation_0-logloss:0.09564\n",
      "[40]\tvalidation_0-logloss:0.09469\n",
      "[41]\tvalidation_0-logloss:0.09352\n",
      "[42]\tvalidation_0-logloss:0.09150\n",
      "[43]\tvalidation_0-logloss:0.08926\n",
      "[44]\tvalidation_0-logloss:0.08873\n",
      "[45]\tvalidation_0-logloss:0.08743\n",
      "[46]\tvalidation_0-logloss:0.08686\n",
      "[47]\tvalidation_0-logloss:0.08567\n",
      "[48]\tvalidation_0-logloss:0.08344\n",
      "[49]\tvalidation_0-logloss:0.08174\n",
      "[50]\tvalidation_0-logloss:0.08063\n",
      "[51]\tvalidation_0-logloss:0.07861\n",
      "[52]\tvalidation_0-logloss:0.07662\n",
      "[53]\tvalidation_0-logloss:0.07609\n",
      "[54]\tvalidation_0-logloss:0.07472\n",
      "[55]\tvalidation_0-logloss:0.07344\n",
      "[56]\tvalidation_0-logloss:0.07197\n",
      "[57]\tvalidation_0-logloss:0.07122\n",
      "[58]\tvalidation_0-logloss:0.06995\n",
      "[59]\tvalidation_0-logloss:0.06913\n",
      "[60]\tvalidation_0-logloss:0.06811\n",
      "[61]\tvalidation_0-logloss:0.06622\n",
      "[62]\tvalidation_0-logloss:0.06583\n",
      "[63]\tvalidation_0-logloss:0.06552\n",
      "[64]\tvalidation_0-logloss:0.06377\n",
      "[65]\tvalidation_0-logloss:0.06242\n",
      "[66]\tvalidation_0-logloss:0.06115\n",
      "[67]\tvalidation_0-logloss:0.05981\n",
      "[68]\tvalidation_0-logloss:0.05819\n",
      "[69]\tvalidation_0-logloss:0.05721\n",
      "[70]\tvalidation_0-logloss:0.05676\n",
      "[71]\tvalidation_0-logloss:0.05553\n",
      "[72]\tvalidation_0-logloss:0.05515\n",
      "[73]\tvalidation_0-logloss:0.05407\n",
      "[74]\tvalidation_0-logloss:0.05382\n",
      "[75]\tvalidation_0-logloss:0.05341\n",
      "[76]\tvalidation_0-logloss:0.05244\n",
      "[77]\tvalidation_0-logloss:0.05208\n",
      "[78]\tvalidation_0-logloss:0.05181\n",
      "[79]\tvalidation_0-logloss:0.05164\n",
      "[80]\tvalidation_0-logloss:0.05147\n",
      "[81]\tvalidation_0-logloss:0.05122\n",
      "[82]\tvalidation_0-logloss:0.05074\n",
      "[83]\tvalidation_0-logloss:0.05063\n",
      "[84]\tvalidation_0-logloss:0.05051\n",
      "[85]\tvalidation_0-logloss:0.05011\n",
      "[86]\tvalidation_0-logloss:0.04992\n",
      "[87]\tvalidation_0-logloss:0.04967\n",
      "[88]\tvalidation_0-logloss:0.04935\n",
      "[89]\tvalidation_0-logloss:0.04913\n",
      "[90]\tvalidation_0-logloss:0.04846\n",
      "[91]\tvalidation_0-logloss:0.04815\n",
      "[92]\tvalidation_0-logloss:0.04801\n",
      "[93]\tvalidation_0-logloss:0.04788\n",
      "[94]\tvalidation_0-logloss:0.04763\n",
      "[95]\tvalidation_0-logloss:0.04749\n",
      "[96]\tvalidation_0-logloss:0.04735\n",
      "[97]\tvalidation_0-logloss:0.04717\n",
      "[98]\tvalidation_0-logloss:0.04654\n",
      "[99]\tvalidation_0-logloss:0.04630\n",
      "[100]\tvalidation_0-logloss:0.04612\n",
      "[101]\tvalidation_0-logloss:0.04576\n",
      "[102]\tvalidation_0-logloss:0.04562\n",
      "[103]\tvalidation_0-logloss:0.04550\n",
      "[104]\tvalidation_0-logloss:0.04543\n",
      "[105]\tvalidation_0-logloss:0.04527\n",
      "[106]\tvalidation_0-logloss:0.04481\n",
      "[107]\tvalidation_0-logloss:0.04465\n",
      "[108]\tvalidation_0-logloss:0.04454\n",
      "[109]\tvalidation_0-logloss:0.04449\n",
      "[110]\tvalidation_0-logloss:0.04444\n",
      "[111]\tvalidation_0-logloss:0.04413\n",
      "[112]\tvalidation_0-logloss:0.04390\n",
      "[113]\tvalidation_0-logloss:0.04379\n",
      "[114]\tvalidation_0-logloss:0.04351\n",
      "[115]\tvalidation_0-logloss:0.04324\n",
      "[116]\tvalidation_0-logloss:0.04299\n",
      "[117]\tvalidation_0-logloss:0.04290\n",
      "[118]\tvalidation_0-logloss:0.04270\n",
      "[119]\tvalidation_0-logloss:0.04264\n",
      "[120]\tvalidation_0-logloss:0.04254\n",
      "[121]\tvalidation_0-logloss:0.04242\n",
      "[122]\tvalidation_0-logloss:0.04229\n",
      "[123]\tvalidation_0-logloss:0.04217\n",
      "[124]\tvalidation_0-logloss:0.04204\n",
      "[125]\tvalidation_0-logloss:0.04191\n",
      "[126]\tvalidation_0-logloss:0.04187\n",
      "[127]\tvalidation_0-logloss:0.04179\n",
      "[128]\tvalidation_0-logloss:0.04174\n",
      "[129]\tvalidation_0-logloss:0.04170\n",
      "[130]\tvalidation_0-logloss:0.04164\n",
      "[131]\tvalidation_0-logloss:0.04161\n",
      "[132]\tvalidation_0-logloss:0.04155\n",
      "[133]\tvalidation_0-logloss:0.04146\n",
      "[134]\tvalidation_0-logloss:0.04144\n",
      "[135]\tvalidation_0-logloss:0.04141\n",
      "[136]\tvalidation_0-logloss:0.04130\n",
      "[137]\tvalidation_0-logloss:0.04125\n",
      "[138]\tvalidation_0-logloss:0.04117\n",
      "[139]\tvalidation_0-logloss:0.04111\n",
      "[140]\tvalidation_0-logloss:0.04107\n",
      "[141]\tvalidation_0-logloss:0.04100\n",
      "[142]\tvalidation_0-logloss:0.04083\n",
      "[143]\tvalidation_0-logloss:0.04077\n",
      "[144]\tvalidation_0-logloss:0.04075\n",
      "[145]\tvalidation_0-logloss:0.04070\n",
      "[146]\tvalidation_0-logloss:0.04066\n",
      "[147]\tvalidation_0-logloss:0.04064\n",
      "[148]\tvalidation_0-logloss:0.04060\n",
      "[149]\tvalidation_0-logloss:0.04058\n",
      "[150]\tvalidation_0-logloss:0.04051\n",
      "[151]\tvalidation_0-logloss:0.04047\n",
      "[152]\tvalidation_0-logloss:0.04046\n",
      "[153]\tvalidation_0-logloss:0.04039\n",
      "[154]\tvalidation_0-logloss:0.04037\n",
      "[155]\tvalidation_0-logloss:0.04037\n",
      "[156]\tvalidation_0-logloss:0.04035\n",
      "[157]\tvalidation_0-logloss:0.04024\n",
      "[158]\tvalidation_0-logloss:0.04022\n",
      "[159]\tvalidation_0-logloss:0.04012\n",
      "[160]\tvalidation_0-logloss:0.04011\n",
      "[161]\tvalidation_0-logloss:0.04004\n",
      "[162]\tvalidation_0-logloss:0.03997\n",
      "[163]\tvalidation_0-logloss:0.03993\n",
      "[164]\tvalidation_0-logloss:0.03991\n",
      "[165]\tvalidation_0-logloss:0.03987\n",
      "[166]\tvalidation_0-logloss:0.03984\n",
      "[167]\tvalidation_0-logloss:0.03980\n",
      "[168]\tvalidation_0-logloss:0.03976\n",
      "[169]\tvalidation_0-logloss:0.03969\n",
      "[170]\tvalidation_0-logloss:0.03968\n",
      "[171]\tvalidation_0-logloss:0.03966\n",
      "[172]\tvalidation_0-logloss:0.03965\n",
      "[173]\tvalidation_0-logloss:0.03960\n",
      "[174]\tvalidation_0-logloss:0.03959\n",
      "[175]\tvalidation_0-logloss:0.03958\n",
      "[176]\tvalidation_0-logloss:0.03955\n",
      "[177]\tvalidation_0-logloss:0.03952\n",
      "[178]\tvalidation_0-logloss:0.03950\n",
      "[179]\tvalidation_0-logloss:0.03949\n",
      "[180]\tvalidation_0-logloss:0.03947\n",
      "[181]\tvalidation_0-logloss:0.03945\n",
      "[182]\tvalidation_0-logloss:0.03942\n",
      "[183]\tvalidation_0-logloss:0.03941\n",
      "[184]\tvalidation_0-logloss:0.03941\n",
      "[185]\tvalidation_0-logloss:0.03940\n",
      "[186]\tvalidation_0-logloss:0.03938\n",
      "[187]\tvalidation_0-logloss:0.03934\n",
      "[188]\tvalidation_0-logloss:0.03930\n",
      "[189]\tvalidation_0-logloss:0.03929\n",
      "[190]\tvalidation_0-logloss:0.03928\n",
      "[191]\tvalidation_0-logloss:0.03924\n",
      "[192]\tvalidation_0-logloss:0.03922\n",
      "[193]\tvalidation_0-logloss:0.03921\n",
      "[194]\tvalidation_0-logloss:0.03918\n",
      "[195]\tvalidation_0-logloss:0.03918\n",
      "[196]\tvalidation_0-logloss:0.03916\n",
      "[197]\tvalidation_0-logloss:0.03915\n",
      "[198]\tvalidation_0-logloss:0.03912\n",
      "[199]\tvalidation_0-logloss:0.03910\n",
      "[200]\tvalidation_0-logloss:0.03908\n",
      "[201]\tvalidation_0-logloss:0.03907\n",
      "[202]\tvalidation_0-logloss:0.03906\n",
      "[203]\tvalidation_0-logloss:0.03905\n",
      "[204]\tvalidation_0-logloss:0.03901\n",
      "[205]\tvalidation_0-logloss:0.03899\n",
      "[206]\tvalidation_0-logloss:0.03898\n",
      "[207]\tvalidation_0-logloss:0.03895\n",
      "[208]\tvalidation_0-logloss:0.03894\n",
      "[209]\tvalidation_0-logloss:0.03894\n",
      "[210]\tvalidation_0-logloss:0.03892\n",
      "[211]\tvalidation_0-logloss:0.03891\n",
      "[212]\tvalidation_0-logloss:0.03887\n",
      "[213]\tvalidation_0-logloss:0.03887\n",
      "[214]\tvalidation_0-logloss:0.03885\n",
      "[215]\tvalidation_0-logloss:0.03884\n",
      "[216]\tvalidation_0-logloss:0.03884\n",
      "[217]\tvalidation_0-logloss:0.03884\n",
      "[218]\tvalidation_0-logloss:0.03883\n",
      "[219]\tvalidation_0-logloss:0.03881\n",
      "[220]\tvalidation_0-logloss:0.03881\n",
      "[221]\tvalidation_0-logloss:0.03880\n",
      "[222]\tvalidation_0-logloss:0.03880\n",
      "[223]\tvalidation_0-logloss:0.03878\n",
      "[224]\tvalidation_0-logloss:0.03876\n",
      "[225]\tvalidation_0-logloss:0.03876\n",
      "[226]\tvalidation_0-logloss:0.03875\n",
      "[227]\tvalidation_0-logloss:0.03875\n",
      "[228]\tvalidation_0-logloss:0.03875\n",
      "[229]\tvalidation_0-logloss:0.03874\n",
      "[230]\tvalidation_0-logloss:0.03873\n",
      "[231]\tvalidation_0-logloss:0.03871\n",
      "[232]\tvalidation_0-logloss:0.03870\n",
      "[233]\tvalidation_0-logloss:0.03869\n",
      "[234]\tvalidation_0-logloss:0.03868\n",
      "[235]\tvalidation_0-logloss:0.03867\n",
      "[236]\tvalidation_0-logloss:0.03865\n",
      "[237]\tvalidation_0-logloss:0.03863\n",
      "[238]\tvalidation_0-logloss:0.03862\n",
      "[239]\tvalidation_0-logloss:0.03861\n",
      "[240]\tvalidation_0-logloss:0.03860\n",
      "[241]\tvalidation_0-logloss:0.03859\n",
      "[242]\tvalidation_0-logloss:0.03859\n",
      "[243]\tvalidation_0-logloss:0.03859\n",
      "[244]\tvalidation_0-logloss:0.03858\n",
      "[245]\tvalidation_0-logloss:0.03856\n",
      "[246]\tvalidation_0-logloss:0.03854\n",
      "[247]\tvalidation_0-logloss:0.03854\n",
      "[248]\tvalidation_0-logloss:0.03854\n",
      "[249]\tvalidation_0-logloss:0.03853\n",
      "[250]\tvalidation_0-logloss:0.03852\n",
      "[251]\tvalidation_0-logloss:0.03851\n",
      "[252]\tvalidation_0-logloss:0.03850\n",
      "[253]\tvalidation_0-logloss:0.03848\n",
      "[254]\tvalidation_0-logloss:0.03847\n",
      "[255]\tvalidation_0-logloss:0.03846\n",
      "[256]\tvalidation_0-logloss:0.03847\n",
      "[257]\tvalidation_0-logloss:0.03846\n",
      "[258]\tvalidation_0-logloss:0.03846\n",
      "[259]\tvalidation_0-logloss:0.03846\n",
      "[260]\tvalidation_0-logloss:0.03845\n",
      "[261]\tvalidation_0-logloss:0.03844\n",
      "[262]\tvalidation_0-logloss:0.03843\n",
      "[263]\tvalidation_0-logloss:0.03842\n",
      "[264]\tvalidation_0-logloss:0.03842\n",
      "[265]\tvalidation_0-logloss:0.03843\n",
      "[266]\tvalidation_0-logloss:0.03842\n",
      "[267]\tvalidation_0-logloss:0.03842\n",
      "[268]\tvalidation_0-logloss:0.03842\n",
      "[269]\tvalidation_0-logloss:0.03842\n",
      "[270]\tvalidation_0-logloss:0.03842\n",
      "[271]\tvalidation_0-logloss:0.03841\n",
      "[272]\tvalidation_0-logloss:0.03839\n",
      "[273]\tvalidation_0-logloss:0.03839\n",
      "[274]\tvalidation_0-logloss:0.03838\n",
      "[275]\tvalidation_0-logloss:0.03838\n",
      "[276]\tvalidation_0-logloss:0.03838\n",
      "[277]\tvalidation_0-logloss:0.03837\n",
      "[278]\tvalidation_0-logloss:0.03837\n",
      "[279]\tvalidation_0-logloss:0.03837\n",
      "[280]\tvalidation_0-logloss:0.03836\n",
      "[281]\tvalidation_0-logloss:0.03834\n",
      "[282]\tvalidation_0-logloss:0.03833\n",
      "[283]\tvalidation_0-logloss:0.03832\n",
      "[284]\tvalidation_0-logloss:0.03832\n",
      "[285]\tvalidation_0-logloss:0.03831\n",
      "[286]\tvalidation_0-logloss:0.03831\n",
      "[287]\tvalidation_0-logloss:0.03832\n",
      "[288]\tvalidation_0-logloss:0.03832\n",
      "[289]\tvalidation_0-logloss:0.03831\n",
      "[290]\tvalidation_0-logloss:0.03831\n",
      "[291]\tvalidation_0-logloss:0.03831\n",
      "[292]\tvalidation_0-logloss:0.03831\n",
      "[293]\tvalidation_0-logloss:0.03830\n",
      "[294]\tvalidation_0-logloss:0.03829\n",
      "[295]\tvalidation_0-logloss:0.03828\n",
      "[296]\tvalidation_0-logloss:0.03828\n",
      "[297]\tvalidation_0-logloss:0.03827\n",
      "[298]\tvalidation_0-logloss:0.03827\n",
      "[299]\tvalidation_0-logloss:0.03826\n",
      "[300]\tvalidation_0-logloss:0.03826\n",
      "[301]\tvalidation_0-logloss:0.03825\n",
      "[302]\tvalidation_0-logloss:0.03824\n",
      "[303]\tvalidation_0-logloss:0.03824\n",
      "[304]\tvalidation_0-logloss:0.03823\n",
      "[305]\tvalidation_0-logloss:0.03823\n",
      "[306]\tvalidation_0-logloss:0.03823\n",
      "[307]\tvalidation_0-logloss:0.03822\n",
      "[308]\tvalidation_0-logloss:0.03822\n",
      "[309]\tvalidation_0-logloss:0.03821\n",
      "[310]\tvalidation_0-logloss:0.03821\n",
      "[311]\tvalidation_0-logloss:0.03821\n",
      "[312]\tvalidation_0-logloss:0.03821\n",
      "[313]\tvalidation_0-logloss:0.03821\n",
      "[314]\tvalidation_0-logloss:0.03821\n",
      "[315]\tvalidation_0-logloss:0.03820\n",
      "[316]\tvalidation_0-logloss:0.03820\n",
      "[317]\tvalidation_0-logloss:0.03820\n",
      "[318]\tvalidation_0-logloss:0.03820\n",
      "[319]\tvalidation_0-logloss:0.03819\n",
      "[320]\tvalidation_0-logloss:0.03819\n",
      "[321]\tvalidation_0-logloss:0.03819\n",
      "[322]\tvalidation_0-logloss:0.03819\n",
      "[323]\tvalidation_0-logloss:0.03819\n",
      "[324]\tvalidation_0-logloss:0.03819\n",
      "[325]\tvalidation_0-logloss:0.03818\n",
      "[326]\tvalidation_0-logloss:0.03819\n",
      "[327]\tvalidation_0-logloss:0.03818\n",
      "[328]\tvalidation_0-logloss:0.03819\n",
      "[329]\tvalidation_0-logloss:0.03818\n",
      "[330]\tvalidation_0-logloss:0.03818\n",
      "[331]\tvalidation_0-logloss:0.03817\n",
      "[332]\tvalidation_0-logloss:0.03817\n",
      "[333]\tvalidation_0-logloss:0.03816\n",
      "[334]\tvalidation_0-logloss:0.03816\n",
      "[335]\tvalidation_0-logloss:0.03816\n",
      "[336]\tvalidation_0-logloss:0.03816\n",
      "[337]\tvalidation_0-logloss:0.03815\n",
      "[338]\tvalidation_0-logloss:0.03815\n",
      "[339]\tvalidation_0-logloss:0.03815\n",
      "[340]\tvalidation_0-logloss:0.03815\n",
      "[341]\tvalidation_0-logloss:0.03815\n",
      "[342]\tvalidation_0-logloss:0.03815\n",
      "[343]\tvalidation_0-logloss:0.03814\n",
      "[344]\tvalidation_0-logloss:0.03814\n",
      "[345]\tvalidation_0-logloss:0.03814\n",
      "[346]\tvalidation_0-logloss:0.03813\n",
      "[347]\tvalidation_0-logloss:0.03813\n",
      "[348]\tvalidation_0-logloss:0.03812\n",
      "[349]\tvalidation_0-logloss:0.03811\n",
      "[350]\tvalidation_0-logloss:0.03811\n",
      "[351]\tvalidation_0-logloss:0.03811\n",
      "[352]\tvalidation_0-logloss:0.03811\n",
      "[353]\tvalidation_0-logloss:0.03811\n",
      "[354]\tvalidation_0-logloss:0.03811\n",
      "[355]\tvalidation_0-logloss:0.03810\n",
      "[356]\tvalidation_0-logloss:0.03809\n",
      "[357]\tvalidation_0-logloss:0.03809\n",
      "[358]\tvalidation_0-logloss:0.03808\n",
      "[359]\tvalidation_0-logloss:0.03808\n",
      "[360]\tvalidation_0-logloss:0.03808\n",
      "[361]\tvalidation_0-logloss:0.03808\n",
      "[362]\tvalidation_0-logloss:0.03808\n",
      "[363]\tvalidation_0-logloss:0.03808\n",
      "[364]\tvalidation_0-logloss:0.03808\n",
      "[365]\tvalidation_0-logloss:0.03808\n",
      "[366]\tvalidation_0-logloss:0.03807\n",
      "[367]\tvalidation_0-logloss:0.03807\n",
      "[368]\tvalidation_0-logloss:0.03808\n",
      "[369]\tvalidation_0-logloss:0.03807\n",
      "[370]\tvalidation_0-logloss:0.03807\n",
      "[371]\tvalidation_0-logloss:0.03805\n",
      "[372]\tvalidation_0-logloss:0.03805\n",
      "[373]\tvalidation_0-logloss:0.03805\n",
      "[374]\tvalidation_0-logloss:0.03805\n",
      "[375]\tvalidation_0-logloss:0.03806\n",
      "[376]\tvalidation_0-logloss:0.03806\n",
      "[377]\tvalidation_0-logloss:0.03806\n",
      "[378]\tvalidation_0-logloss:0.03806\n",
      "[379]\tvalidation_0-logloss:0.03806\n",
      "[380]\tvalidation_0-logloss:0.03806\n",
      "[381]\tvalidation_0-logloss:0.03805\n",
      "[382]\tvalidation_0-logloss:0.03805\n",
      "[383]\tvalidation_0-logloss:0.03805\n",
      "[384]\tvalidation_0-logloss:0.03805\n",
      "[385]\tvalidation_0-logloss:0.03804\n",
      "[386]\tvalidation_0-logloss:0.03804\n",
      "[387]\tvalidation_0-logloss:0.03804\n",
      "[388]\tvalidation_0-logloss:0.03803\n",
      "[389]\tvalidation_0-logloss:0.03803\n",
      "[390]\tvalidation_0-logloss:0.03802\n",
      "[391]\tvalidation_0-logloss:0.03803\n",
      "[392]\tvalidation_0-logloss:0.03803\n",
      "[393]\tvalidation_0-logloss:0.03802\n",
      "[394]\tvalidation_0-logloss:0.03802\n",
      "[395]\tvalidation_0-logloss:0.03802\n",
      "[396]\tvalidation_0-logloss:0.03802\n",
      "[397]\tvalidation_0-logloss:0.03802\n",
      "[398]\tvalidation_0-logloss:0.03802\n",
      "[399]\tvalidation_0-logloss:0.03801\n",
      "[400]\tvalidation_0-logloss:0.03801\n",
      "[401]\tvalidation_0-logloss:0.03802\n",
      "[402]\tvalidation_0-logloss:0.03802\n",
      "[403]\tvalidation_0-logloss:0.03802\n",
      "[404]\tvalidation_0-logloss:0.03801\n",
      "[405]\tvalidation_0-logloss:0.03802\n",
      "[406]\tvalidation_0-logloss:0.03801\n",
      "[407]\tvalidation_0-logloss:0.03801\n",
      "[408]\tvalidation_0-logloss:0.03802\n",
      "[409]\tvalidation_0-logloss:0.03801\n",
      "[410]\tvalidation_0-logloss:0.03801\n",
      "[411]\tvalidation_0-logloss:0.03801\n",
      "[412]\tvalidation_0-logloss:0.03801\n",
      "[413]\tvalidation_0-logloss:0.03800\n",
      "[414]\tvalidation_0-logloss:0.03800\n",
      "[415]\tvalidation_0-logloss:0.03800\n",
      "[416]\tvalidation_0-logloss:0.03799\n",
      "[417]\tvalidation_0-logloss:0.03799\n",
      "[418]\tvalidation_0-logloss:0.03799\n",
      "[419]\tvalidation_0-logloss:0.03799\n",
      "[420]\tvalidation_0-logloss:0.03799\n",
      "[421]\tvalidation_0-logloss:0.03798\n",
      "[422]\tvalidation_0-logloss:0.03798\n",
      "[423]\tvalidation_0-logloss:0.03798\n",
      "[424]\tvalidation_0-logloss:0.03798\n",
      "[425]\tvalidation_0-logloss:0.03798\n",
      "[426]\tvalidation_0-logloss:0.03798\n",
      "[427]\tvalidation_0-logloss:0.03798\n",
      "[428]\tvalidation_0-logloss:0.03798\n",
      "[429]\tvalidation_0-logloss:0.03798\n",
      "[430]\tvalidation_0-logloss:0.03799\n",
      "[431]\tvalidation_0-logloss:0.03798\n",
      "[432]\tvalidation_0-logloss:0.03798\n",
      "[433]\tvalidation_0-logloss:0.03798\n",
      "[434]\tvalidation_0-logloss:0.03798\n",
      "[435]\tvalidation_0-logloss:0.03798\n",
      "[436]\tvalidation_0-logloss:0.03798\n",
      "[437]\tvalidation_0-logloss:0.03798\n",
      "[438]\tvalidation_0-logloss:0.03798\n",
      "[439]\tvalidation_0-logloss:0.03798\n",
      "[440]\tvalidation_0-logloss:0.03798\n",
      "[441]\tvalidation_0-logloss:0.03797\n",
      "[442]\tvalidation_0-logloss:0.03798\n",
      "[443]\tvalidation_0-logloss:0.03798\n",
      "[444]\tvalidation_0-logloss:0.03798\n",
      "[445]\tvalidation_0-logloss:0.03798\n",
      "[446]\tvalidation_0-logloss:0.03798\n",
      "[447]\tvalidation_0-logloss:0.03798\n",
      "[448]\tvalidation_0-logloss:0.03798\n",
      "[449]\tvalidation_0-logloss:0.03798\n",
      "[450]\tvalidation_0-logloss:0.03798\n",
      "[451]\tvalidation_0-logloss:0.03798\n"
     ]
    },
    {
     "name": "stderr",
     "output_type": "stream",
     "text": [
      "/opt/conda/lib/python3.10/site-packages/xgboost/core.py:160: UserWarning: [18:46:02] WARNING: /workspace/src/common/error_msg.cc:58: Falling back to prediction using DMatrix due to mismatched devices. This might lead to higher memory usage and slower performance. XGBoost is running on: cuda:0, while the input data is on: cpu.\n",
      "Potential solutions:\n",
      "- Use a data structure that matches the device ordinal in the booster.\n",
      "- Set the device for booster before call to inplace_predict.\n",
      "\n",
      "This warning will only be shown once.\n",
      "\n",
      "  warnings.warn(smsg, UserWarning)\n"
     ]
    }
   ],
   "source": [
    "X_train, X_val, y_train, y_val = train_test_split(X, y, test_size=0.05, random_state=5)\n",
    "\n",
    "clf = xgb.XGBClassifier(\n",
    "    max_depth=8,\n",
    "    min_child_weight=1,\n",
    "    gamma=0.1,\n",
    "    subsample=0.8,\n",
    "    colsample_bytree=0.8,\n",
    "    reg_alpha=0.1,\n",
    "    reg_lambda=1,\n",
    "    learning_rate=0.1,    \n",
    "    n_estimators=2000,    # Start with a large number and use early stopping\n",
    "    random_state=5,\n",
    "    device=\"cuda\", \n",
    "    tree_method = \"hist\",\n",
    "    eval_metric=\"logloss\",      # Metric to evaluate\n",
    ")\n",
    "\n",
    "preds=clf.fit(X_train, y_train, \n",
    "        eval_set=[(X_val, y_val)],  # Validation data to monitor\n",
    "        early_stopping_rounds=10,   # Stop if no improvement in 10 rounds\n",
    "        verbose=True)               # Print progress\n",
    "\n",
    "preds = clf.predict(test)\n",
    "sample_submission['class'] = preds\n",
    "sample_submission['class'] = sample_submission['class'].replace({1: 'p', 0: 'e'})\n",
    "sample_submission.to_csv('submission.csv')"
   ]
  },
  {
   "cell_type": "code",
   "execution_count": 20,
   "id": "f16d0a31",
   "metadata": {
    "execution": {
     "iopub.execute_input": "2024-08-18T18:46:06.199392Z",
     "iopub.status.busy": "2024-08-18T18:46:06.198686Z",
     "iopub.status.idle": "2024-08-18T18:46:06.207859Z",
     "shell.execute_reply": "2024-08-18T18:46:06.206951Z"
    },
    "papermill": {
     "duration": 0.061773,
     "end_time": "2024-08-18T18:46:06.209943",
     "exception": false,
     "start_time": "2024-08-18T18:46:06.148170",
     "status": "completed"
    },
    "tags": []
   },
   "outputs": [
    {
     "data": {
      "text/html": [
       "<div>\n",
       "<style scoped>\n",
       "    .dataframe tbody tr th:only-of-type {\n",
       "        vertical-align: middle;\n",
       "    }\n",
       "\n",
       "    .dataframe tbody tr th {\n",
       "        vertical-align: top;\n",
       "    }\n",
       "\n",
       "    .dataframe thead th {\n",
       "        text-align: right;\n",
       "    }\n",
       "</style>\n",
       "<table border=\"1\" class=\"dataframe\">\n",
       "  <thead>\n",
       "    <tr style=\"text-align: right;\">\n",
       "      <th></th>\n",
       "      <th>class</th>\n",
       "    </tr>\n",
       "    <tr>\n",
       "      <th>id</th>\n",
       "      <th></th>\n",
       "    </tr>\n",
       "  </thead>\n",
       "  <tbody>\n",
       "    <tr>\n",
       "      <th>3116945</th>\n",
       "      <td>e</td>\n",
       "    </tr>\n",
       "    <tr>\n",
       "      <th>3116946</th>\n",
       "      <td>p</td>\n",
       "    </tr>\n",
       "    <tr>\n",
       "      <th>3116947</th>\n",
       "      <td>p</td>\n",
       "    </tr>\n",
       "    <tr>\n",
       "      <th>3116948</th>\n",
       "      <td>p</td>\n",
       "    </tr>\n",
       "    <tr>\n",
       "      <th>3116949</th>\n",
       "      <td>e</td>\n",
       "    </tr>\n",
       "  </tbody>\n",
       "</table>\n",
       "</div>"
      ],
      "text/plain": [
       "        class\n",
       "id           \n",
       "3116945     e\n",
       "3116946     p\n",
       "3116947     p\n",
       "3116948     p\n",
       "3116949     e"
      ]
     },
     "execution_count": 20,
     "metadata": {},
     "output_type": "execute_result"
    }
   ],
   "source": [
    "sample_submission.head(5)"
   ]
  },
  {
   "cell_type": "markdown",
   "id": "c5699981",
   "metadata": {
    "papermill": {
     "duration": 0.049051,
     "end_time": "2024-08-18T18:46:06.308756",
     "exception": false,
     "start_time": "2024-08-18T18:46:06.259705",
     "status": "completed"
    },
    "tags": []
   },
   "source": [
    "**Upvote if it helped.** \n",
    "\n",
    "Thank you!\n",
    "\n",
    "Have a wonderful day"
   ]
  }
 ],
 "metadata": {
  "kaggle": {
   "accelerator": "none",
   "dataSources": [
    {
     "databundleVersionId": 9045607,
     "sourceId": 76727,
     "sourceType": "competition"
    }
   ],
   "dockerImageVersionId": 30746,
   "isGpuEnabled": false,
   "isInternetEnabled": true,
   "language": "python",
   "sourceType": "notebook"
  },
  "kernelspec": {
   "display_name": "Python 3",
   "language": "python",
   "name": "python3"
  },
  "language_info": {
   "codemirror_mode": {
    "name": "ipython",
    "version": 3
   },
   "file_extension": ".py",
   "mimetype": "text/x-python",
   "name": "python",
   "nbconvert_exporter": "python",
   "pygments_lexer": "ipython3",
   "version": "3.10.13"
  },
  "papermill": {
   "default_parameters": {},
   "duration": 226.602085,
   "end_time": "2024-08-18T18:46:07.379856",
   "environment_variables": {},
   "exception": null,
   "input_path": "__notebook__.ipynb",
   "output_path": "__notebook__.ipynb",
   "parameters": {},
   "start_time": "2024-08-18T18:42:20.777771",
   "version": "2.5.0"
  }
 },
 "nbformat": 4,
 "nbformat_minor": 5
}
