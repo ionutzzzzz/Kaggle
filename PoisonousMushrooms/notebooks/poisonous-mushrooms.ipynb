{
 "cells": [
  {
   "cell_type": "markdown",
   "id": "11ad0427",
   "metadata": {
    "papermill": {
     "duration": 0.0096,
     "end_time": "2024-08-02T17:09:29.483958",
     "exception": false,
     "start_time": "2024-08-02T17:09:29.474358",
     "status": "completed"
    },
    "tags": []
   },
   "source": [
    "<div style = \"background-color: #dfe6e3; font-size:150%; text-align:left; border: 7px solid #3449eb; text-shadow: 2px 2px 4px rgba(0, 0, 0, 0.3);font-family : calibri ; border-radius : 20px 20px 20px 20px; padding: 10px; width:95%\">\n",
    "    \n",
    "<h1 align=\"center\"><font color=#FF0000><strong>Imports<strong></font></h1>"
   ]
  },
  {
   "cell_type": "code",
   "execution_count": 1,
   "id": "360fe43b",
   "metadata": {
    "_cell_guid": "b1076dfc-b9ad-4769-8c92-a6c4dae69d19",
    "_uuid": "8f2839f25d086af736a60e9eeb907d3b93b6e0e5",
    "execution": {
     "iopub.execute_input": "2024-08-02T17:09:29.506052Z",
     "iopub.status.busy": "2024-08-02T17:09:29.505585Z",
     "iopub.status.idle": "2024-08-02T17:09:34.180854Z",
     "shell.execute_reply": "2024-08-02T17:09:34.179834Z"
    },
    "papermill": {
     "duration": 4.688959,
     "end_time": "2024-08-02T17:09:34.183674",
     "exception": false,
     "start_time": "2024-08-02T17:09:29.494715",
     "status": "completed"
    },
    "tags": []
   },
   "outputs": [],
   "source": [
    "\n",
    "import pandas as pd\n",
    "import numpy as np\n",
    "import matplotlib.pyplot as plt\n",
    "import seaborn as sns\n",
    "import warnings\n",
    "from collections import Counter\n",
    "\n",
    "from sklearn.impute import SimpleImputer\n",
    "from sklearn.preprocessing import OneHotEncoder\n",
    "from sklearn.model_selection import StratifiedShuffleSplit\n",
    "from sklearn.metrics import (\n",
    "    accuracy_score, f1_score, precision_score, recall_score,\n",
    "    confusion_matrix, classification_report\n",
    ")\n",
    "\n",
    "from sklearn.ensemble import (\n",
    "    AdaBoostClassifier, BaggingClassifier, ExtraTreesClassifier,\n",
    "    GradientBoostingClassifier, RandomForestClassifier\n",
    ")\n",
    "\n",
    "from sklearn.linear_model import (\n",
    "    LogisticRegression, PassiveAggressiveClassifier, Perceptron,\n",
    "    RidgeClassifier, RidgeClassifierCV, SGDClassifier\n",
    ")\n",
    "\n",
    "from sklearn.svm import LinearSVC, NuSVC, SVC\n",
    "from sklearn.naive_bayes import BernoulliNB, GaussianNB\n",
    "from sklearn.neighbors import KNeighborsClassifier, NearestCentroid\n",
    "from sklearn.tree import DecisionTreeClassifier, ExtraTreeClassifier\n",
    "from sklearn.discriminant_analysis import (\n",
    "    LinearDiscriminantAnalysis, QuadraticDiscriminantAnalysis\n",
    ")\n",
    "\n",
    "from sklearn.semi_supervised import LabelPropagation, LabelSpreading\n",
    "from sklearn.dummy import DummyClassifier\n",
    "from sklearn.calibration import CalibratedClassifierCV\n",
    "\n",
    "from xgboost import XGBClassifier\n",
    "from lightgbm import LGBMClassifier\n",
    "from imblearn.under_sampling import RandomUnderSampler\n",
    "\n",
    "warnings.filterwarnings(action='ignore')\n",
    "%matplotlib inline\n",
    "plt.style.use('ggplot')\n"
   ]
  },
  {
   "cell_type": "markdown",
   "id": "5def3232",
   "metadata": {
    "papermill": {
     "duration": 0.008921,
     "end_time": "2024-08-02T17:09:34.201847",
     "exception": false,
     "start_time": "2024-08-02T17:09:34.192926",
     "status": "completed"
    },
    "tags": []
   },
   "source": [
    "<div style = \"background-color: #dfe6e3; font-size:150%; text-align:left; border: 7px solid #3449eb; text-shadow: 2px 2px 4px rgba(0, 0, 0, 0.3);font-family : calibri ; border-radius : 20px 20px 20px 20px; padding: 10px; width:95%\">\n",
    "    \n",
    "<h1 align=\"center\"><font color=#FF0000><strong>Data Overview<strong></font></h1>"
   ]
  },
  {
   "cell_type": "code",
   "execution_count": 2,
   "id": "0582d05a",
   "metadata": {
    "execution": {
     "iopub.execute_input": "2024-08-02T17:09:34.222030Z",
     "iopub.status.busy": "2024-08-02T17:09:34.221450Z",
     "iopub.status.idle": "2024-08-02T17:09:46.630526Z",
     "shell.execute_reply": "2024-08-02T17:09:46.629378Z"
    },
    "papermill": {
     "duration": 12.422708,
     "end_time": "2024-08-02T17:09:46.633703",
     "exception": false,
     "start_time": "2024-08-02T17:09:34.210995",
     "status": "completed"
    },
    "tags": []
   },
   "outputs": [],
   "source": [
    "train = pd.read_csv('/kaggle/input/playground-series-s4e8/train.csv')"
   ]
  },
  {
   "cell_type": "code",
   "execution_count": 3,
   "id": "51f79669",
   "metadata": {
    "execution": {
     "iopub.execute_input": "2024-08-02T17:09:46.654191Z",
     "iopub.status.busy": "2024-08-02T17:09:46.653789Z",
     "iopub.status.idle": "2024-08-02T17:09:53.937393Z",
     "shell.execute_reply": "2024-08-02T17:09:53.936170Z"
    },
    "papermill": {
     "duration": 7.297326,
     "end_time": "2024-08-02T17:09:53.940306",
     "exception": false,
     "start_time": "2024-08-02T17:09:46.642980",
     "status": "completed"
    },
    "tags": []
   },
   "outputs": [],
   "source": [
    "test = pd.read_csv('/kaggle/input/playground-series-s4e8/test.csv')"
   ]
  },
  {
   "cell_type": "code",
   "execution_count": 4,
   "id": "38e39bad",
   "metadata": {
    "execution": {
     "iopub.execute_input": "2024-08-02T17:09:53.962669Z",
     "iopub.status.busy": "2024-08-02T17:09:53.962203Z",
     "iopub.status.idle": "2024-08-02T17:09:53.971121Z",
     "shell.execute_reply": "2024-08-02T17:09:53.969921Z"
    },
    "papermill": {
     "duration": 0.022791,
     "end_time": "2024-08-02T17:09:53.973820",
     "exception": false,
     "start_time": "2024-08-02T17:09:53.951029",
     "status": "completed"
    },
    "tags": []
   },
   "outputs": [
    {
     "data": {
      "text/plain": [
       "((3116945, 22), (2077964, 21))"
      ]
     },
     "execution_count": 4,
     "metadata": {},
     "output_type": "execute_result"
    }
   ],
   "source": [
    "train.shape,test.shape"
   ]
  },
  {
   "cell_type": "code",
   "execution_count": 5,
   "id": "12b9fa46",
   "metadata": {
    "execution": {
     "iopub.execute_input": "2024-08-02T17:09:53.994711Z",
     "iopub.status.busy": "2024-08-02T17:09:53.994263Z",
     "iopub.status.idle": "2024-08-02T17:09:54.037296Z",
     "shell.execute_reply": "2024-08-02T17:09:54.036131Z"
    },
    "papermill": {
     "duration": 0.056363,
     "end_time": "2024-08-02T17:09:54.039806",
     "exception": false,
     "start_time": "2024-08-02T17:09:53.983443",
     "status": "completed"
    },
    "tags": []
   },
   "outputs": [
    {
     "data": {
      "text/html": [
       "<div>\n",
       "<style scoped>\n",
       "    .dataframe tbody tr th:only-of-type {\n",
       "        vertical-align: middle;\n",
       "    }\n",
       "\n",
       "    .dataframe tbody tr th {\n",
       "        vertical-align: top;\n",
       "    }\n",
       "\n",
       "    .dataframe thead th {\n",
       "        text-align: right;\n",
       "    }\n",
       "</style>\n",
       "<table border=\"1\" class=\"dataframe\">\n",
       "  <thead>\n",
       "    <tr style=\"text-align: right;\">\n",
       "      <th></th>\n",
       "      <th>id</th>\n",
       "      <th>class</th>\n",
       "      <th>cap-diameter</th>\n",
       "      <th>cap-shape</th>\n",
       "      <th>cap-surface</th>\n",
       "      <th>cap-color</th>\n",
       "      <th>does-bruise-or-bleed</th>\n",
       "      <th>gill-attachment</th>\n",
       "      <th>gill-spacing</th>\n",
       "      <th>gill-color</th>\n",
       "      <th>...</th>\n",
       "      <th>stem-root</th>\n",
       "      <th>stem-surface</th>\n",
       "      <th>stem-color</th>\n",
       "      <th>veil-type</th>\n",
       "      <th>veil-color</th>\n",
       "      <th>has-ring</th>\n",
       "      <th>ring-type</th>\n",
       "      <th>spore-print-color</th>\n",
       "      <th>habitat</th>\n",
       "      <th>season</th>\n",
       "    </tr>\n",
       "  </thead>\n",
       "  <tbody>\n",
       "    <tr>\n",
       "      <th>0</th>\n",
       "      <td>0</td>\n",
       "      <td>e</td>\n",
       "      <td>8.80</td>\n",
       "      <td>f</td>\n",
       "      <td>s</td>\n",
       "      <td>u</td>\n",
       "      <td>f</td>\n",
       "      <td>a</td>\n",
       "      <td>c</td>\n",
       "      <td>w</td>\n",
       "      <td>...</td>\n",
       "      <td>NaN</td>\n",
       "      <td>NaN</td>\n",
       "      <td>w</td>\n",
       "      <td>NaN</td>\n",
       "      <td>NaN</td>\n",
       "      <td>f</td>\n",
       "      <td>f</td>\n",
       "      <td>NaN</td>\n",
       "      <td>d</td>\n",
       "      <td>a</td>\n",
       "    </tr>\n",
       "    <tr>\n",
       "      <th>1</th>\n",
       "      <td>1</td>\n",
       "      <td>p</td>\n",
       "      <td>4.51</td>\n",
       "      <td>x</td>\n",
       "      <td>h</td>\n",
       "      <td>o</td>\n",
       "      <td>f</td>\n",
       "      <td>a</td>\n",
       "      <td>c</td>\n",
       "      <td>n</td>\n",
       "      <td>...</td>\n",
       "      <td>NaN</td>\n",
       "      <td>y</td>\n",
       "      <td>o</td>\n",
       "      <td>NaN</td>\n",
       "      <td>NaN</td>\n",
       "      <td>t</td>\n",
       "      <td>z</td>\n",
       "      <td>NaN</td>\n",
       "      <td>d</td>\n",
       "      <td>w</td>\n",
       "    </tr>\n",
       "    <tr>\n",
       "      <th>2</th>\n",
       "      <td>2</td>\n",
       "      <td>e</td>\n",
       "      <td>6.94</td>\n",
       "      <td>f</td>\n",
       "      <td>s</td>\n",
       "      <td>b</td>\n",
       "      <td>f</td>\n",
       "      <td>x</td>\n",
       "      <td>c</td>\n",
       "      <td>w</td>\n",
       "      <td>...</td>\n",
       "      <td>NaN</td>\n",
       "      <td>s</td>\n",
       "      <td>n</td>\n",
       "      <td>NaN</td>\n",
       "      <td>NaN</td>\n",
       "      <td>f</td>\n",
       "      <td>f</td>\n",
       "      <td>NaN</td>\n",
       "      <td>l</td>\n",
       "      <td>w</td>\n",
       "    </tr>\n",
       "    <tr>\n",
       "      <th>3</th>\n",
       "      <td>3</td>\n",
       "      <td>e</td>\n",
       "      <td>3.88</td>\n",
       "      <td>f</td>\n",
       "      <td>y</td>\n",
       "      <td>g</td>\n",
       "      <td>f</td>\n",
       "      <td>s</td>\n",
       "      <td>NaN</td>\n",
       "      <td>g</td>\n",
       "      <td>...</td>\n",
       "      <td>NaN</td>\n",
       "      <td>NaN</td>\n",
       "      <td>w</td>\n",
       "      <td>NaN</td>\n",
       "      <td>NaN</td>\n",
       "      <td>f</td>\n",
       "      <td>f</td>\n",
       "      <td>NaN</td>\n",
       "      <td>d</td>\n",
       "      <td>u</td>\n",
       "    </tr>\n",
       "    <tr>\n",
       "      <th>4</th>\n",
       "      <td>4</td>\n",
       "      <td>e</td>\n",
       "      <td>5.85</td>\n",
       "      <td>x</td>\n",
       "      <td>l</td>\n",
       "      <td>w</td>\n",
       "      <td>f</td>\n",
       "      <td>d</td>\n",
       "      <td>NaN</td>\n",
       "      <td>w</td>\n",
       "      <td>...</td>\n",
       "      <td>NaN</td>\n",
       "      <td>NaN</td>\n",
       "      <td>w</td>\n",
       "      <td>NaN</td>\n",
       "      <td>NaN</td>\n",
       "      <td>f</td>\n",
       "      <td>f</td>\n",
       "      <td>NaN</td>\n",
       "      <td>g</td>\n",
       "      <td>a</td>\n",
       "    </tr>\n",
       "  </tbody>\n",
       "</table>\n",
       "<p>5 rows × 22 columns</p>\n",
       "</div>"
      ],
      "text/plain": [
       "   id class  cap-diameter cap-shape cap-surface cap-color  \\\n",
       "0   0     e          8.80         f           s         u   \n",
       "1   1     p          4.51         x           h         o   \n",
       "2   2     e          6.94         f           s         b   \n",
       "3   3     e          3.88         f           y         g   \n",
       "4   4     e          5.85         x           l         w   \n",
       "\n",
       "  does-bruise-or-bleed gill-attachment gill-spacing gill-color  ...  \\\n",
       "0                    f               a            c          w  ...   \n",
       "1                    f               a            c          n  ...   \n",
       "2                    f               x            c          w  ...   \n",
       "3                    f               s          NaN          g  ...   \n",
       "4                    f               d          NaN          w  ...   \n",
       "\n",
       "   stem-root  stem-surface stem-color veil-type veil-color has-ring ring-type  \\\n",
       "0        NaN           NaN          w       NaN        NaN        f         f   \n",
       "1        NaN             y          o       NaN        NaN        t         z   \n",
       "2        NaN             s          n       NaN        NaN        f         f   \n",
       "3        NaN           NaN          w       NaN        NaN        f         f   \n",
       "4        NaN           NaN          w       NaN        NaN        f         f   \n",
       "\n",
       "  spore-print-color habitat season  \n",
       "0               NaN       d      a  \n",
       "1               NaN       d      w  \n",
       "2               NaN       l      w  \n",
       "3               NaN       d      u  \n",
       "4               NaN       g      a  \n",
       "\n",
       "[5 rows x 22 columns]"
      ]
     },
     "execution_count": 5,
     "metadata": {},
     "output_type": "execute_result"
    }
   ],
   "source": [
    "train.head(5)"
   ]
  },
  {
   "cell_type": "code",
   "execution_count": 6,
   "id": "2548b6f9",
   "metadata": {
    "execution": {
     "iopub.execute_input": "2024-08-02T17:09:54.061194Z",
     "iopub.status.busy": "2024-08-02T17:09:54.060770Z",
     "iopub.status.idle": "2024-08-02T17:09:59.035627Z",
     "shell.execute_reply": "2024-08-02T17:09:59.034296Z"
    },
    "papermill": {
     "duration": 4.988983,
     "end_time": "2024-08-02T17:09:59.038563",
     "exception": false,
     "start_time": "2024-08-02T17:09:54.049580",
     "status": "completed"
    },
    "tags": []
   },
   "outputs": [
    {
     "data": {
      "text/plain": [
       "id                            0\n",
       "class                         0\n",
       "cap-diameter                  4\n",
       "cap-shape                    40\n",
       "cap-surface              671023\n",
       "cap-color                    12\n",
       "does-bruise-or-bleed          8\n",
       "gill-attachment          523936\n",
       "gill-spacing            1258435\n",
       "gill-color                   57\n",
       "stem-height                   0\n",
       "stem-width                    0\n",
       "stem-root               2757023\n",
       "stem-surface            1980861\n",
       "stem-color                   38\n",
       "veil-type               2957493\n",
       "veil-color              2740947\n",
       "has-ring                     24\n",
       "ring-type                128880\n",
       "spore-print-color       2849682\n",
       "habitat                      45\n",
       "season                        0\n",
       "dtype: int64"
      ]
     },
     "execution_count": 6,
     "metadata": {},
     "output_type": "execute_result"
    }
   ],
   "source": [
    "train.isna().sum()"
   ]
  },
  {
   "cell_type": "markdown",
   "id": "f9ba13c0",
   "metadata": {
    "papermill": {
     "duration": 0.011105,
     "end_time": "2024-08-02T17:09:59.060295",
     "exception": false,
     "start_time": "2024-08-02T17:09:59.049190",
     "status": "completed"
    },
    "tags": []
   },
   "source": [
    "<div style = \"background-color: #dfe6e3; font-size:150%; text-align:left; border: 7px solid #3449eb; text-shadow: 2px 2px 4px rgba(0, 0, 0, 0.3);font-family : calibri ; border-radius : 20px 20px 20px 20px; padding: 10px; width:95%\">\n",
    "    \n",
    "<h1 align=\"center\"><font color=#FF0000><strong>Dropped Columns with high Na values<strong></font></h1>"
   ]
  },
  {
   "cell_type": "code",
   "execution_count": 7,
   "id": "eca520f9",
   "metadata": {
    "execution": {
     "iopub.execute_input": "2024-08-02T17:09:59.083303Z",
     "iopub.status.busy": "2024-08-02T17:09:59.082884Z",
     "iopub.status.idle": "2024-08-02T17:09:59.425526Z",
     "shell.execute_reply": "2024-08-02T17:09:59.424385Z"
    },
    "papermill": {
     "duration": 0.357198,
     "end_time": "2024-08-02T17:09:59.428478",
     "exception": false,
     "start_time": "2024-08-02T17:09:59.071280",
     "status": "completed"
    },
    "tags": []
   },
   "outputs": [],
   "source": [
    "# droping those columns which are having more than 100k missing values\n",
    "train.drop(columns = ['id','cap-surface','gill-attachment','gill-spacing','stem-root','stem-surface','veil-type','veil-color','spore-print-color','ring-type'],inplace = True)"
   ]
  },
  {
   "cell_type": "code",
   "execution_count": 8,
   "id": "9daa0850",
   "metadata": {
    "execution": {
     "iopub.execute_input": "2024-08-02T17:09:59.450750Z",
     "iopub.status.busy": "2024-08-02T17:09:59.450357Z",
     "iopub.status.idle": "2024-08-02T17:10:02.432471Z",
     "shell.execute_reply": "2024-08-02T17:10:02.430921Z"
    },
    "papermill": {
     "duration": 2.996738,
     "end_time": "2024-08-02T17:10:02.435252",
     "exception": false,
     "start_time": "2024-08-02T17:09:59.438514",
     "status": "completed"
    },
    "tags": []
   },
   "outputs": [
    {
     "data": {
      "text/plain": [
       "class                    0\n",
       "cap-diameter             4\n",
       "cap-shape               40\n",
       "cap-color               12\n",
       "does-bruise-or-bleed     8\n",
       "gill-color              57\n",
       "stem-height              0\n",
       "stem-width               0\n",
       "stem-color              38\n",
       "has-ring                24\n",
       "habitat                 45\n",
       "season                   0\n",
       "dtype: int64"
      ]
     },
     "execution_count": 8,
     "metadata": {},
     "output_type": "execute_result"
    }
   ],
   "source": [
    "train.isna().sum()"
   ]
  },
  {
   "cell_type": "markdown",
   "id": "6de8d0fc",
   "metadata": {
    "papermill": {
     "duration": 0.009771,
     "end_time": "2024-08-02T17:10:02.455217",
     "exception": false,
     "start_time": "2024-08-02T17:10:02.445446",
     "status": "completed"
    },
    "tags": []
   },
   "source": [
    "<div style = \"background-color: #dfe6e3; font-size:150%; text-align:left; border: 7px solid #3449eb; text-shadow: 2px 2px 4px rgba(0, 0, 0, 0.3);font-family : calibri ; border-radius : 20px 20px 20px 20px; padding: 10px; width:95%\">\n",
    "    \n",
    "<h1 align=\"center\"><font color=#FF0000><strong>Pipeline<strong></font></h1>"
   ]
  },
  {
   "cell_type": "code",
   "execution_count": 9,
   "id": "4b327ac6",
   "metadata": {
    "execution": {
     "iopub.execute_input": "2024-08-02T17:10:02.477886Z",
     "iopub.status.busy": "2024-08-02T17:10:02.477435Z",
     "iopub.status.idle": "2024-08-02T17:10:02.488468Z",
     "shell.execute_reply": "2024-08-02T17:10:02.487271Z"
    },
    "papermill": {
     "duration": 0.025731,
     "end_time": "2024-08-02T17:10:02.491241",
     "exception": false,
     "start_time": "2024-08-02T17:10:02.465510",
     "status": "completed"
    },
    "tags": []
   },
   "outputs": [],
   "source": [
    "from sklearn.compose import ColumnTransformer\n",
    "from sklearn.pipeline import Pipeline\n"
   ]
  },
  {
   "cell_type": "code",
   "execution_count": 10,
   "id": "6c9d6200",
   "metadata": {
    "execution": {
     "iopub.execute_input": "2024-08-02T17:10:02.513661Z",
     "iopub.status.busy": "2024-08-02T17:10:02.513220Z",
     "iopub.status.idle": "2024-08-02T17:10:02.518810Z",
     "shell.execute_reply": "2024-08-02T17:10:02.517571Z"
    },
    "papermill": {
     "duration": 0.019621,
     "end_time": "2024-08-02T17:10:02.521412",
     "exception": false,
     "start_time": "2024-08-02T17:10:02.501791",
     "status": "completed"
    },
    "tags": []
   },
   "outputs": [],
   "source": [
    "numerical_column = ['cap-diameter','stem-height','stem-width']\n",
    "categorical_column = ['cap-shape','cap-color','does-bruise-or-bleed','gill-color','stem-color','has-ring','habitat','season']"
   ]
  },
  {
   "cell_type": "code",
   "execution_count": 11,
   "id": "09b4041c",
   "metadata": {
    "execution": {
     "iopub.execute_input": "2024-08-02T17:10:02.544287Z",
     "iopub.status.busy": "2024-08-02T17:10:02.543428Z",
     "iopub.status.idle": "2024-08-02T17:10:02.549660Z",
     "shell.execute_reply": "2024-08-02T17:10:02.548532Z"
    },
    "papermill": {
     "duration": 0.02041,
     "end_time": "2024-08-02T17:10:02.552168",
     "exception": false,
     "start_time": "2024-08-02T17:10:02.531758",
     "status": "completed"
    },
    "tags": []
   },
   "outputs": [],
   "source": [
    "Numeric_Pipeline = Pipeline([\n",
    "    ('imputer', SimpleImputer(strategy='mean'))\n",
    "])\n",
    "\n",
    "Categorical_Pipeline = Pipeline([\n",
    "    ('imputer',SimpleImputer(strategy = 'most_frequent')),\n",
    "    ('encoder', OneHotEncoder(handle_unknown='ignore'))\n",
    "])"
   ]
  },
  {
   "cell_type": "code",
   "execution_count": 12,
   "id": "bdd5921b",
   "metadata": {
    "execution": {
     "iopub.execute_input": "2024-08-02T17:10:02.574274Z",
     "iopub.status.busy": "2024-08-02T17:10:02.573893Z",
     "iopub.status.idle": "2024-08-02T17:10:02.579551Z",
     "shell.execute_reply": "2024-08-02T17:10:02.578400Z"
    },
    "papermill": {
     "duration": 0.019693,
     "end_time": "2024-08-02T17:10:02.582021",
     "exception": false,
     "start_time": "2024-08-02T17:10:02.562328",
     "status": "completed"
    },
    "tags": []
   },
   "outputs": [],
   "source": [
    "Final_Pipeline = ColumnTransformer(transformers=[('Numeric_Pipeline',Numeric_Pipeline,numerical_column),\n",
    "                                                ('Categorical_Pipeline',Categorical_Pipeline,categorical_column)\n",
    "                                                ])"
   ]
  },
  {
   "cell_type": "code",
   "execution_count": 13,
   "id": "0e46537e",
   "metadata": {
    "execution": {
     "iopub.execute_input": "2024-08-02T17:10:02.604022Z",
     "iopub.status.busy": "2024-08-02T17:10:02.603643Z",
     "iopub.status.idle": "2024-08-02T17:10:02.608881Z",
     "shell.execute_reply": "2024-08-02T17:10:02.607711Z"
    },
    "papermill": {
     "duration": 0.019051,
     "end_time": "2024-08-02T17:10:02.611300",
     "exception": false,
     "start_time": "2024-08-02T17:10:02.592249",
     "status": "completed"
    },
    "tags": []
   },
   "outputs": [],
   "source": [
    "from sklearn import set_config\n",
    "set_config(display='diagram')\n"
   ]
  },
  {
   "cell_type": "markdown",
   "id": "f2e4cd0e",
   "metadata": {
    "papermill": {
     "duration": 0.012259,
     "end_time": "2024-08-02T17:10:02.633703",
     "exception": false,
     "start_time": "2024-08-02T17:10:02.621444",
     "status": "completed"
    },
    "tags": []
   },
   "source": [
    "<div style = \"background-color: #dfe6e3; font-size:150%; text-align:left; border: 7px solid #3449eb; text-shadow: 2px 2px 4px rgba(0, 0, 0, 0.3);font-family : calibri ; border-radius : 20px 20px 20px 20px; padding: 10px; width:95%\">\n",
    "    \n",
    "<h1 align=\"center\"><font color=#FF0000><strong>Data Splitting<strong></font></h1>"
   ]
  },
  {
   "cell_type": "code",
   "execution_count": 14,
   "id": "ef00522f",
   "metadata": {
    "execution": {
     "iopub.execute_input": "2024-08-02T17:10:02.656931Z",
     "iopub.status.busy": "2024-08-02T17:10:02.656521Z",
     "iopub.status.idle": "2024-08-02T17:10:06.696940Z",
     "shell.execute_reply": "2024-08-02T17:10:06.695828Z"
    },
    "papermill": {
     "duration": 4.055227,
     "end_time": "2024-08-02T17:10:06.699799",
     "exception": false,
     "start_time": "2024-08-02T17:10:02.644572",
     "status": "completed"
    },
    "tags": []
   },
   "outputs": [],
   "source": [
    "from sklearn.model_selection import train_test_split\n",
    "X = train.drop(['class'],axis = 1)\n",
    "y = train['class']\n",
    "X_train, X_test, y_train, y_test = train_test_split(X, y, test_size = 0.2,random_state = 7)"
   ]
  },
  {
   "cell_type": "markdown",
   "id": "86f17f11",
   "metadata": {
    "papermill": {
     "duration": 0.009939,
     "end_time": "2024-08-02T17:10:06.719824",
     "exception": false,
     "start_time": "2024-08-02T17:10:06.709885",
     "status": "completed"
    },
    "tags": []
   },
   "source": [
    "<div style = \"background-color: #dfe6e3; font-size:150%; text-align:left; border: 7px solid #3449eb; text-shadow: 2px 2px 4px rgba(0, 0, 0, 0.3);font-family : calibri ; border-radius : 20px 20px 20px 20px; padding: 10px; width:95%\">\n",
    "    \n",
    "<h1 align=\"center\"><font color=#FF0000><strong>Final Transformed Data<strong></font></h1>"
   ]
  },
  {
   "cell_type": "code",
   "execution_count": 15,
   "id": "384e591c",
   "metadata": {
    "execution": {
     "iopub.execute_input": "2024-08-02T17:10:06.741883Z",
     "iopub.status.busy": "2024-08-02T17:10:06.741477Z",
     "iopub.status.idle": "2024-08-02T17:10:22.342076Z",
     "shell.execute_reply": "2024-08-02T17:10:22.340717Z"
    },
    "papermill": {
     "duration": 15.614949,
     "end_time": "2024-08-02T17:10:22.345024",
     "exception": false,
     "start_time": "2024-08-02T17:10:06.730075",
     "status": "completed"
    },
    "tags": []
   },
   "outputs": [],
   "source": [
    "X_train_transformed = Final_Pipeline.fit_transform(X_train)\n",
    "X_test_transformed = Final_Pipeline.transform(X_test)"
   ]
  },
  {
   "cell_type": "code",
   "execution_count": 16,
   "id": "d25562a1",
   "metadata": {
    "execution": {
     "iopub.execute_input": "2024-08-02T17:10:22.367441Z",
     "iopub.status.busy": "2024-08-02T17:10:22.366974Z",
     "iopub.status.idle": "2024-08-02T17:10:22.698940Z",
     "shell.execute_reply": "2024-08-02T17:10:22.697652Z"
    },
    "papermill": {
     "duration": 0.346558,
     "end_time": "2024-08-02T17:10:22.701851",
     "exception": false,
     "start_time": "2024-08-02T17:10:22.355293",
     "status": "completed"
    },
    "tags": []
   },
   "outputs": [],
   "source": [
    "y_train = np.where(pd.get_dummies(y_train, drop_first=True) == True , 1, 0)\n",
    "y_test = np.where(pd.get_dummies(y_test, drop_first = True) == True , 1, 0)"
   ]
  },
  {
   "cell_type": "code",
   "execution_count": 17,
   "id": "2e957d85",
   "metadata": {
    "execution": {
     "iopub.execute_input": "2024-08-02T17:10:22.726386Z",
     "iopub.status.busy": "2024-08-02T17:10:22.725976Z",
     "iopub.status.idle": "2024-08-02T17:10:22.734636Z",
     "shell.execute_reply": "2024-08-02T17:10:22.733388Z"
    },
    "papermill": {
     "duration": 0.025125,
     "end_time": "2024-08-02T17:10:22.737374",
     "exception": false,
     "start_time": "2024-08-02T17:10:22.712249",
     "status": "completed"
    },
    "tags": []
   },
   "outputs": [
    {
     "data": {
      "text/plain": [
       "((2493556, 343), (623389, 343), (2493556, 1), (623389, 1))"
      ]
     },
     "execution_count": 17,
     "metadata": {},
     "output_type": "execute_result"
    }
   ],
   "source": [
    "X_train_transformed.shape, X_test_transformed.shape, y_train.shape, y_test.shape"
   ]
  },
  {
   "cell_type": "markdown",
   "id": "793b073a",
   "metadata": {
    "papermill": {
     "duration": 0.010662,
     "end_time": "2024-08-02T17:10:22.758866",
     "exception": false,
     "start_time": "2024-08-02T17:10:22.748204",
     "status": "completed"
    },
    "tags": []
   },
   "source": [
    "<div style = \"background-color: #dfe6e3; font-size:150%; text-align:left; border: 7px solid #3449eb; text-shadow: 2px 2px 4px rgba(0, 0, 0, 0.3);font-family : calibri ; border-radius : 20px 20px 20px 20px; padding: 10px; width:95%\">\n",
    "    \n",
    "<h1 align=\"center\"><font color=#FF0000><strong>Models<strong></font></h1>\n",
    "    <font color=#000000><strong>Since training and testing data is very large i have only used XGBClassifier and Decisiojn Tree Classifier , one can check other models also (just comment out ) . <strong></font>"
   ]
  },
  {
   "cell_type": "code",
   "execution_count": 18,
   "id": "7594d3db",
   "metadata": {
    "execution": {
     "iopub.execute_input": "2024-08-02T17:10:22.781946Z",
     "iopub.status.busy": "2024-08-02T17:10:22.781490Z",
     "iopub.status.idle": "2024-08-02T17:22:38.135669Z",
     "shell.execute_reply": "2024-08-02T17:22:38.134519Z"
    },
    "papermill": {
     "duration": 735.369397,
     "end_time": "2024-08-02T17:22:38.138701",
     "exception": false,
     "start_time": "2024-08-02T17:10:22.769304",
     "status": "completed"
    },
    "tags": []
   },
   "outputs": [],
   "source": [
    "models = {\n",
    "    \n",
    "  \n",
    "#     \"LabelSpreading\": LabelSpreading(),\n",
    "#     \"LGBMClassifier\": LGBMClassifier(),\n",
    "#     \"LinearSVC\": LinearSVC(),\n",
    "#     \"CalibratedClassifierCV\": CalibratedClassifierCV(),\n",
    "#     \"RandomForestClassifier\": RandomForestClassifier(),\n",
    "#     \"SGDClassifier\": SGDClassifier(),\n",
    "#     \"LogisticRegression\": LogisticRegression(),\n",
    "#     \"KNeighborsClassifier\": KNeighborsClassifier(),\n",
    "#     \"Perceptron\": Perceptron(),\n",
    "#     \"QuadraticDiscriminantAnalysis\": QuadraticDiscriminantAnalysis(),\n",
    "#     \"SVC\": SVC(),\n",
    "#     \"GaussianNB\": GaussianNB(),\n",
    "#     \"BernoulliNB\": BernoulliNB(),\n",
    "    \"XGBClassifier\": XGBClassifier(),\n",
    "#     \"AdaBoostClassifier\": AdaBoostClassifier(),\n",
    "#     \"BaggingClassifier\": BaggingClassifier(),\n",
    "#     \"NuSVC\": NuSVC(),\n",
    "    \"DecisionTreeClassifier\": DecisionTreeClassifier(),\n",
    "\n",
    "}\n",
    "\n",
    "results = {\n",
    "    \"Model\": [],\n",
    "    \"Accuracy\": []\n",
    "    \n",
    "}\n",
    "\n",
    "\n",
    "for model_name, model in models.items():\n",
    "\n",
    "    model.fit(X_train_transformed, y_train)\n",
    "    \n",
    "    y_pred = model.predict(X_test_transformed)\n",
    "    \n",
    "    results[\"Model\"].append(model_name)\n",
    "    results[\"Accuracy\"].append(accuracy_score(y_test, y_pred))\n",
    "\n",
    "results_df = pd.DataFrame(results)"
   ]
  },
  {
   "cell_type": "code",
   "execution_count": 19,
   "id": "aae0d238",
   "metadata": {
    "execution": {
     "iopub.execute_input": "2024-08-02T17:22:38.162481Z",
     "iopub.status.busy": "2024-08-02T17:22:38.161440Z",
     "iopub.status.idle": "2024-08-02T17:22:38.172395Z",
     "shell.execute_reply": "2024-08-02T17:22:38.171379Z"
    },
    "papermill": {
     "duration": 0.02557,
     "end_time": "2024-08-02T17:22:38.175147",
     "exception": false,
     "start_time": "2024-08-02T17:22:38.149577",
     "status": "completed"
    },
    "tags": []
   },
   "outputs": [
    {
     "data": {
      "text/html": [
       "<div>\n",
       "<style scoped>\n",
       "    .dataframe tbody tr th:only-of-type {\n",
       "        vertical-align: middle;\n",
       "    }\n",
       "\n",
       "    .dataframe tbody tr th {\n",
       "        vertical-align: top;\n",
       "    }\n",
       "\n",
       "    .dataframe thead th {\n",
       "        text-align: right;\n",
       "    }\n",
       "</style>\n",
       "<table border=\"1\" class=\"dataframe\">\n",
       "  <thead>\n",
       "    <tr style=\"text-align: right;\">\n",
       "      <th></th>\n",
       "      <th>Model</th>\n",
       "      <th>Accuracy</th>\n",
       "    </tr>\n",
       "  </thead>\n",
       "  <tbody>\n",
       "    <tr>\n",
       "      <th>0</th>\n",
       "      <td>XGBClassifier</td>\n",
       "      <td>0.975622</td>\n",
       "    </tr>\n",
       "    <tr>\n",
       "      <th>1</th>\n",
       "      <td>DecisionTreeClassifier</td>\n",
       "      <td>0.966937</td>\n",
       "    </tr>\n",
       "  </tbody>\n",
       "</table>\n",
       "</div>"
      ],
      "text/plain": [
       "                    Model  Accuracy\n",
       "0           XGBClassifier  0.975622\n",
       "1  DecisionTreeClassifier  0.966937"
      ]
     },
     "execution_count": 19,
     "metadata": {},
     "output_type": "execute_result"
    }
   ],
   "source": [
    "results_df"
   ]
  },
  {
   "cell_type": "markdown",
   "id": "3ebbd423",
   "metadata": {
    "papermill": {
     "duration": 0.010295,
     "end_time": "2024-08-02T17:22:38.196095",
     "exception": false,
     "start_time": "2024-08-02T17:22:38.185800",
     "status": "completed"
    },
    "tags": []
   },
   "source": [
    "<div style = \"background-color: #dfe6e3; font-size:150%; text-align:left; border: 7px solid #3449eb; text-shadow: 2px 2px 4px rgba(0, 0, 0, 0.3);font-family : calibri ; border-radius : 20px 20px 20px 20px; padding: 10px; width:95%\">\n",
    "    \n",
    "<h1 align=\"center\"><font color=#FF0000><strong>Conclusion<strong></font></h1>\n",
    "    <font color=#000000><strong>1. I have only checked 2 models , one can check others models <br> 2. This notebook is not complete i will add rest of my work in next version <strong></font>"
   ]
  },
  {
   "cell_type": "markdown",
   "id": "f811a553",
   "metadata": {
    "papermill": {
     "duration": 0.010069,
     "end_time": "2024-08-02T17:22:38.217174",
     "exception": false,
     "start_time": "2024-08-02T17:22:38.207105",
     "status": "completed"
    },
    "tags": []
   },
   "source": [
    "<div style = \"background-color: #dfe6e3; font-size:150%; text-align:left; border: 7px solid #3449eb; text-shadow: 2px 2px 4px rgba(0, 0, 0, 0.3);font-family : calibri ; border-radius : 20px 20px 20px 20px; padding: 10px; width:95%\">\n",
    "    \n",
    "<h1 align=\"center\"><font color=#FF0000><strong>Request<strong></font></h1>\n",
    "    <font color=#000000><strong> I tried checking the models on subset of data but even after using only 100k instances model training is very slow , please comment your suggestions , i will definetly try those  <strong></font>"
   ]
  },
  {
   "cell_type": "markdown",
   "id": "93ba8b0b",
   "metadata": {
    "papermill": {
     "duration": 0.010034,
     "end_time": "2024-08-02T17:22:38.237724",
     "exception": false,
     "start_time": "2024-08-02T17:22:38.227690",
     "status": "completed"
    },
    "tags": []
   },
   "source": [
    "\n",
    "<h3 style=\"text-align:center;\">Please Upvote this notebook if you found it helpful</h3>\n",
    "<img src=\"https://media1.giphy.com/media/2lQCBjuFMLCOvXno4l/giphy.gif\" alt=\"GIF\" style=\"height: 300px; width: auto;margin:auto;\">\n"
   ]
  },
  {
   "cell_type": "code",
   "execution_count": null,
   "id": "e99811ea",
   "metadata": {
    "papermill": {
     "duration": 0.009984,
     "end_time": "2024-08-02T17:22:38.258108",
     "exception": false,
     "start_time": "2024-08-02T17:22:38.248124",
     "status": "completed"
    },
    "tags": []
   },
   "outputs": [],
   "source": []
  }
 ],
 "metadata": {
  "kaggle": {
   "accelerator": "none",
   "dataSources": [
    {
     "databundleVersionId": 9045607,
     "sourceId": 76727,
     "sourceType": "competition"
    }
   ],
   "dockerImageVersionId": 30746,
   "isGpuEnabled": false,
   "isInternetEnabled": true,
   "language": "python",
   "sourceType": "notebook"
  },
  "kernelspec": {
   "display_name": "Python 3",
   "language": "python",
   "name": "python3"
  },
  "language_info": {
   "codemirror_mode": {
    "name": "ipython",
    "version": 3
   },
   "file_extension": ".py",
   "mimetype": "text/x-python",
   "name": "python",
   "nbconvert_exporter": "python",
   "pygments_lexer": "ipython3",
   "version": "3.10.13"
  },
  "papermill": {
   "default_parameters": {},
   "duration": 793.429644,
   "end_time": "2024-08-02T17:22:39.796349",
   "environment_variables": {},
   "exception": null,
   "input_path": "__notebook__.ipynb",
   "output_path": "__notebook__.ipynb",
   "parameters": {},
   "start_time": "2024-08-02T17:09:26.366705",
   "version": "2.5.0"
  }
 },
 "nbformat": 4,
 "nbformat_minor": 5
}
