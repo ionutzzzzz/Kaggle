{
 "cells": [
  {
   "cell_type": "markdown",
   "id": "4a61d256",
   "metadata": {
    "papermill": {
     "duration": 0.008198,
     "end_time": "2024-08-07T22:27:27.251154",
     "exception": false,
     "start_time": "2024-08-07T22:27:27.242956",
     "status": "completed"
    },
    "tags": []
   },
   "source": [
    "<a id=\"1\"></a>\n",
    "# <div style=\"text-align:center; border-radius:30px 30px; padding:7px; color:white; margin:0; font-size:150%; font-family:Pacifico; background-color:#7E8EF1; overflow:hidden\"><b> Ahmed Gaitani Code </b></div>"
   ]
  },
  {
   "cell_type": "markdown",
   "id": "ab3493c1",
   "metadata": {
    "papermill": {
     "duration": 0.006275,
     "end_time": "2024-08-07T22:27:27.264408",
     "exception": false,
     "start_time": "2024-08-07T22:27:27.258133",
     "status": "completed"
    },
    "tags": []
   },
   "source": [
    "![mushrooms](https://theminimalistvegan.com/wp-content/uploads/2023/05/irina-iacob-qaUoTVTI6Cc-unsplash-2048x1463.webp)"
   ]
  },
  {
   "cell_type": "markdown",
   "id": "aa815e98",
   "metadata": {
    "papermill": {
     "duration": 0.006151,
     "end_time": "2024-08-07T22:27:27.276725",
     "exception": false,
     "start_time": "2024-08-07T22:27:27.270574",
     "status": "completed"
    },
    "tags": []
   },
   "source": [
    "<a id=\"1\"></a>\n",
    "# <div style=\"text-align:center; border-radius:30px 30px; padding:7px; color:white; margin:0; font-size:150%; font-family:Pacifico; background-color:#7E8EF1; overflow:hidden\"><b> Import Libraries </b></div>"
   ]
  },
  {
   "cell_type": "code",
   "execution_count": 1,
   "id": "2a525b34",
   "metadata": {
    "execution": {
     "iopub.execute_input": "2024-08-07T22:27:27.291336Z",
     "iopub.status.busy": "2024-08-07T22:27:27.290803Z",
     "iopub.status.idle": "2024-08-07T22:27:30.826439Z",
     "shell.execute_reply": "2024-08-07T22:27:30.825186Z"
    },
    "papermill": {
     "duration": 3.546197,
     "end_time": "2024-08-07T22:27:30.829080",
     "exception": false,
     "start_time": "2024-08-07T22:27:27.282883",
     "status": "completed"
    },
    "tags": []
   },
   "outputs": [],
   "source": [
    "import numpy as np \n",
    "import pandas as pd \n",
    "from sklearn.model_selection import train_test_split\n",
    "from lightgbm import LGBMClassifier\n",
    "from sklearn.metrics import matthews_corrcoef"
   ]
  },
  {
   "cell_type": "markdown",
   "id": "c1936a69",
   "metadata": {
    "papermill": {
     "duration": 0.005878,
     "end_time": "2024-08-07T22:27:30.841355",
     "exception": false,
     "start_time": "2024-08-07T22:27:30.835477",
     "status": "completed"
    },
    "tags": []
   },
   "source": [
    "<a id=\"1\"></a>\n",
    "# <div style=\"text-align:center; border-radius:30px 30px; padding:7px; color:white; margin:0; font-size:150%; font-family:Pacifico; background-color:#7E8EF1; overflow:hidden\"><b> Load & Preprocessing Data </b></div>"
   ]
  },
  {
   "cell_type": "code",
   "execution_count": 2,
   "id": "bbde935c",
   "metadata": {
    "execution": {
     "iopub.execute_input": "2024-08-07T22:27:30.856227Z",
     "iopub.status.busy": "2024-08-07T22:27:30.855662Z",
     "iopub.status.idle": "2024-08-07T22:27:48.704759Z",
     "shell.execute_reply": "2024-08-07T22:27:48.703572Z"
    },
    "papermill": {
     "duration": 17.85988,
     "end_time": "2024-08-07T22:27:48.707849",
     "exception": false,
     "start_time": "2024-08-07T22:27:30.847969",
     "status": "completed"
    },
    "tags": []
   },
   "outputs": [],
   "source": [
    "train_df = pd.read_csv(\"/kaggle/input/playground-series-s4e8/train.csv\", index_col='id')\n",
    "test_df = pd.read_csv(\"/kaggle/input/playground-series-s4e8/test.csv\", index_col='id')"
   ]
  },
  {
   "cell_type": "code",
   "execution_count": 3,
   "id": "e17116b5",
   "metadata": {
    "execution": {
     "iopub.execute_input": "2024-08-07T22:27:48.724596Z",
     "iopub.status.busy": "2024-08-07T22:27:48.723610Z",
     "iopub.status.idle": "2024-08-07T22:27:48.758994Z",
     "shell.execute_reply": "2024-08-07T22:27:48.757834Z"
    },
    "papermill": {
     "duration": 0.047087,
     "end_time": "2024-08-07T22:27:48.761747",
     "exception": false,
     "start_time": "2024-08-07T22:27:48.714660",
     "status": "completed"
    },
    "tags": []
   },
   "outputs": [
    {
     "data": {
      "text/html": [
       "<div>\n",
       "<style scoped>\n",
       "    .dataframe tbody tr th:only-of-type {\n",
       "        vertical-align: middle;\n",
       "    }\n",
       "\n",
       "    .dataframe tbody tr th {\n",
       "        vertical-align: top;\n",
       "    }\n",
       "\n",
       "    .dataframe thead th {\n",
       "        text-align: right;\n",
       "    }\n",
       "</style>\n",
       "<table border=\"1\" class=\"dataframe\">\n",
       "  <thead>\n",
       "    <tr style=\"text-align: right;\">\n",
       "      <th></th>\n",
       "      <th>class</th>\n",
       "      <th>cap-diameter</th>\n",
       "      <th>cap-shape</th>\n",
       "      <th>cap-surface</th>\n",
       "      <th>cap-color</th>\n",
       "      <th>does-bruise-or-bleed</th>\n",
       "      <th>gill-attachment</th>\n",
       "      <th>gill-spacing</th>\n",
       "      <th>gill-color</th>\n",
       "      <th>stem-height</th>\n",
       "      <th>...</th>\n",
       "      <th>stem-root</th>\n",
       "      <th>stem-surface</th>\n",
       "      <th>stem-color</th>\n",
       "      <th>veil-type</th>\n",
       "      <th>veil-color</th>\n",
       "      <th>has-ring</th>\n",
       "      <th>ring-type</th>\n",
       "      <th>spore-print-color</th>\n",
       "      <th>habitat</th>\n",
       "      <th>season</th>\n",
       "    </tr>\n",
       "    <tr>\n",
       "      <th>id</th>\n",
       "      <th></th>\n",
       "      <th></th>\n",
       "      <th></th>\n",
       "      <th></th>\n",
       "      <th></th>\n",
       "      <th></th>\n",
       "      <th></th>\n",
       "      <th></th>\n",
       "      <th></th>\n",
       "      <th></th>\n",
       "      <th></th>\n",
       "      <th></th>\n",
       "      <th></th>\n",
       "      <th></th>\n",
       "      <th></th>\n",
       "      <th></th>\n",
       "      <th></th>\n",
       "      <th></th>\n",
       "      <th></th>\n",
       "      <th></th>\n",
       "      <th></th>\n",
       "    </tr>\n",
       "  </thead>\n",
       "  <tbody>\n",
       "    <tr>\n",
       "      <th>0</th>\n",
       "      <td>e</td>\n",
       "      <td>8.80</td>\n",
       "      <td>f</td>\n",
       "      <td>s</td>\n",
       "      <td>u</td>\n",
       "      <td>f</td>\n",
       "      <td>a</td>\n",
       "      <td>c</td>\n",
       "      <td>w</td>\n",
       "      <td>4.51</td>\n",
       "      <td>...</td>\n",
       "      <td>NaN</td>\n",
       "      <td>NaN</td>\n",
       "      <td>w</td>\n",
       "      <td>NaN</td>\n",
       "      <td>NaN</td>\n",
       "      <td>f</td>\n",
       "      <td>f</td>\n",
       "      <td>NaN</td>\n",
       "      <td>d</td>\n",
       "      <td>a</td>\n",
       "    </tr>\n",
       "    <tr>\n",
       "      <th>1</th>\n",
       "      <td>p</td>\n",
       "      <td>4.51</td>\n",
       "      <td>x</td>\n",
       "      <td>h</td>\n",
       "      <td>o</td>\n",
       "      <td>f</td>\n",
       "      <td>a</td>\n",
       "      <td>c</td>\n",
       "      <td>n</td>\n",
       "      <td>4.79</td>\n",
       "      <td>...</td>\n",
       "      <td>NaN</td>\n",
       "      <td>y</td>\n",
       "      <td>o</td>\n",
       "      <td>NaN</td>\n",
       "      <td>NaN</td>\n",
       "      <td>t</td>\n",
       "      <td>z</td>\n",
       "      <td>NaN</td>\n",
       "      <td>d</td>\n",
       "      <td>w</td>\n",
       "    </tr>\n",
       "    <tr>\n",
       "      <th>2</th>\n",
       "      <td>e</td>\n",
       "      <td>6.94</td>\n",
       "      <td>f</td>\n",
       "      <td>s</td>\n",
       "      <td>b</td>\n",
       "      <td>f</td>\n",
       "      <td>x</td>\n",
       "      <td>c</td>\n",
       "      <td>w</td>\n",
       "      <td>6.85</td>\n",
       "      <td>...</td>\n",
       "      <td>NaN</td>\n",
       "      <td>s</td>\n",
       "      <td>n</td>\n",
       "      <td>NaN</td>\n",
       "      <td>NaN</td>\n",
       "      <td>f</td>\n",
       "      <td>f</td>\n",
       "      <td>NaN</td>\n",
       "      <td>l</td>\n",
       "      <td>w</td>\n",
       "    </tr>\n",
       "    <tr>\n",
       "      <th>3</th>\n",
       "      <td>e</td>\n",
       "      <td>3.88</td>\n",
       "      <td>f</td>\n",
       "      <td>y</td>\n",
       "      <td>g</td>\n",
       "      <td>f</td>\n",
       "      <td>s</td>\n",
       "      <td>NaN</td>\n",
       "      <td>g</td>\n",
       "      <td>4.16</td>\n",
       "      <td>...</td>\n",
       "      <td>NaN</td>\n",
       "      <td>NaN</td>\n",
       "      <td>w</td>\n",
       "      <td>NaN</td>\n",
       "      <td>NaN</td>\n",
       "      <td>f</td>\n",
       "      <td>f</td>\n",
       "      <td>NaN</td>\n",
       "      <td>d</td>\n",
       "      <td>u</td>\n",
       "    </tr>\n",
       "    <tr>\n",
       "      <th>4</th>\n",
       "      <td>e</td>\n",
       "      <td>5.85</td>\n",
       "      <td>x</td>\n",
       "      <td>l</td>\n",
       "      <td>w</td>\n",
       "      <td>f</td>\n",
       "      <td>d</td>\n",
       "      <td>NaN</td>\n",
       "      <td>w</td>\n",
       "      <td>3.37</td>\n",
       "      <td>...</td>\n",
       "      <td>NaN</td>\n",
       "      <td>NaN</td>\n",
       "      <td>w</td>\n",
       "      <td>NaN</td>\n",
       "      <td>NaN</td>\n",
       "      <td>f</td>\n",
       "      <td>f</td>\n",
       "      <td>NaN</td>\n",
       "      <td>g</td>\n",
       "      <td>a</td>\n",
       "    </tr>\n",
       "  </tbody>\n",
       "</table>\n",
       "<p>5 rows × 21 columns</p>\n",
       "</div>"
      ],
      "text/plain": [
       "   class  cap-diameter cap-shape cap-surface cap-color does-bruise-or-bleed  \\\n",
       "id                                                                            \n",
       "0      e          8.80         f           s         u                    f   \n",
       "1      p          4.51         x           h         o                    f   \n",
       "2      e          6.94         f           s         b                    f   \n",
       "3      e          3.88         f           y         g                    f   \n",
       "4      e          5.85         x           l         w                    f   \n",
       "\n",
       "   gill-attachment gill-spacing gill-color  stem-height  ...  stem-root  \\\n",
       "id                                                       ...              \n",
       "0                a            c          w         4.51  ...        NaN   \n",
       "1                a            c          n         4.79  ...        NaN   \n",
       "2                x            c          w         6.85  ...        NaN   \n",
       "3                s          NaN          g         4.16  ...        NaN   \n",
       "4                d          NaN          w         3.37  ...        NaN   \n",
       "\n",
       "   stem-surface stem-color veil-type veil-color has-ring ring-type  \\\n",
       "id                                                                   \n",
       "0           NaN          w       NaN        NaN        f         f   \n",
       "1             y          o       NaN        NaN        t         z   \n",
       "2             s          n       NaN        NaN        f         f   \n",
       "3           NaN          w       NaN        NaN        f         f   \n",
       "4           NaN          w       NaN        NaN        f         f   \n",
       "\n",
       "   spore-print-color habitat season  \n",
       "id                                   \n",
       "0                NaN       d      a  \n",
       "1                NaN       d      w  \n",
       "2                NaN       l      w  \n",
       "3                NaN       d      u  \n",
       "4                NaN       g      a  \n",
       "\n",
       "[5 rows x 21 columns]"
      ]
     },
     "execution_count": 3,
     "metadata": {},
     "output_type": "execute_result"
    }
   ],
   "source": [
    "train_df.head()"
   ]
  },
  {
   "cell_type": "code",
   "execution_count": 4,
   "id": "ffaf4d82",
   "metadata": {
    "execution": {
     "iopub.execute_input": "2024-08-07T22:27:48.777749Z",
     "iopub.status.busy": "2024-08-07T22:27:48.777336Z",
     "iopub.status.idle": "2024-08-07T22:27:48.783015Z",
     "shell.execute_reply": "2024-08-07T22:27:48.781830Z"
    },
    "papermill": {
     "duration": 0.016601,
     "end_time": "2024-08-07T22:27:48.785359",
     "exception": false,
     "start_time": "2024-08-07T22:27:48.768758",
     "status": "completed"
    },
    "tags": []
   },
   "outputs": [],
   "source": [
    "cat_cols = [\"cap-shape\",\"cap-surface\",\"cap-color\",\"does-bruise-or-bleed\",\"gill-attachment\",\n",
    "                \"gill-spacing\",\"gill-color\",\"stem-root\",\"stem-surface\",\"stem-color\",\"veil-type\",\n",
    "                \"veil-color\",\"has-ring\",\"ring-type\",\"spore-print-color\",\"spore-print-color\",\n",
    "                \"habitat\",\"season\"]"
   ]
  },
  {
   "cell_type": "code",
   "execution_count": 5,
   "id": "34c0e967",
   "metadata": {
    "execution": {
     "iopub.execute_input": "2024-08-07T22:27:48.806024Z",
     "iopub.status.busy": "2024-08-07T22:27:48.805561Z",
     "iopub.status.idle": "2024-08-07T22:28:00.993446Z",
     "shell.execute_reply": "2024-08-07T22:28:00.992230Z"
    },
    "papermill": {
     "duration": 12.201257,
     "end_time": "2024-08-07T22:28:00.996432",
     "exception": false,
     "start_time": "2024-08-07T22:27:48.795175",
     "status": "completed"
    },
    "tags": []
   },
   "outputs": [],
   "source": [
    "for col in cat_cols:\n",
    "    train_df[col] = train_df[col].fillna('missing')\n",
    "    test_df[col] = test_df[col].fillna('missing')\n",
    "    train_df[col] = train_df[col].astype('category')\n",
    "    test_df[col] = test_df[col].astype('category')"
   ]
  },
  {
   "cell_type": "code",
   "execution_count": 6,
   "id": "52557033",
   "metadata": {
    "execution": {
     "iopub.execute_input": "2024-08-07T22:28:01.013586Z",
     "iopub.status.busy": "2024-08-07T22:28:01.012487Z",
     "iopub.status.idle": "2024-08-07T22:28:01.044174Z",
     "shell.execute_reply": "2024-08-07T22:28:01.043029Z"
    },
    "papermill": {
     "duration": 0.043293,
     "end_time": "2024-08-07T22:28:01.047181",
     "exception": false,
     "start_time": "2024-08-07T22:28:01.003888",
     "status": "completed"
    },
    "tags": []
   },
   "outputs": [
    {
     "name": "stdout",
     "output_type": "stream",
     "text": [
      "<class 'pandas.core.frame.DataFrame'>\n",
      "Index: 3116945 entries, 0 to 3116944\n",
      "Data columns (total 21 columns):\n",
      " #   Column                Dtype   \n",
      "---  ------                -----   \n",
      " 0   class                 object  \n",
      " 1   cap-diameter          float64 \n",
      " 2   cap-shape             category\n",
      " 3   cap-surface           category\n",
      " 4   cap-color             category\n",
      " 5   does-bruise-or-bleed  category\n",
      " 6   gill-attachment       category\n",
      " 7   gill-spacing          category\n",
      " 8   gill-color            category\n",
      " 9   stem-height           float64 \n",
      " 10  stem-width            float64 \n",
      " 11  stem-root             category\n",
      " 12  stem-surface          category\n",
      " 13  stem-color            category\n",
      " 14  veil-type             category\n",
      " 15  veil-color            category\n",
      " 16  has-ring              category\n",
      " 17  ring-type             category\n",
      " 18  spore-print-color     category\n",
      " 19  habitat               category\n",
      " 20  season                category\n",
      "dtypes: category(17), float64(3), object(1)\n",
      "memory usage: 169.5+ MB\n"
     ]
    }
   ],
   "source": [
    "train_df.info()"
   ]
  },
  {
   "cell_type": "code",
   "execution_count": 7,
   "id": "b489e4fc",
   "metadata": {
    "execution": {
     "iopub.execute_input": "2024-08-07T22:28:01.063232Z",
     "iopub.status.busy": "2024-08-07T22:28:01.062832Z",
     "iopub.status.idle": "2024-08-07T22:28:01.082154Z",
     "shell.execute_reply": "2024-08-07T22:28:01.081010Z"
    },
    "papermill": {
     "duration": 0.030583,
     "end_time": "2024-08-07T22:28:01.085045",
     "exception": false,
     "start_time": "2024-08-07T22:28:01.054462",
     "status": "completed"
    },
    "tags": []
   },
   "outputs": [
    {
     "name": "stdout",
     "output_type": "stream",
     "text": [
      "<class 'pandas.core.frame.DataFrame'>\n",
      "Index: 2077964 entries, 3116945 to 5194908\n",
      "Data columns (total 20 columns):\n",
      " #   Column                Dtype   \n",
      "---  ------                -----   \n",
      " 0   cap-diameter          float64 \n",
      " 1   cap-shape             category\n",
      " 2   cap-surface           category\n",
      " 3   cap-color             category\n",
      " 4   does-bruise-or-bleed  category\n",
      " 5   gill-attachment       category\n",
      " 6   gill-spacing          category\n",
      " 7   gill-color            category\n",
      " 8   stem-height           float64 \n",
      " 9   stem-width            float64 \n",
      " 10  stem-root             category\n",
      " 11  stem-surface          category\n",
      " 12  stem-color            category\n",
      " 13  veil-type             category\n",
      " 14  veil-color            category\n",
      " 15  has-ring              category\n",
      " 16  ring-type             category\n",
      " 17  spore-print-color     category\n",
      " 18  habitat               category\n",
      " 19  season                category\n",
      "dtypes: category(17), float64(3)\n",
      "memory usage: 97.1 MB\n"
     ]
    }
   ],
   "source": [
    "test_df.info()"
   ]
  },
  {
   "cell_type": "code",
   "execution_count": 8,
   "id": "3ad5806b",
   "metadata": {
    "execution": {
     "iopub.execute_input": "2024-08-07T22:28:01.102419Z",
     "iopub.status.busy": "2024-08-07T22:28:01.102023Z",
     "iopub.status.idle": "2024-08-07T22:28:01.160243Z",
     "shell.execute_reply": "2024-08-07T22:28:01.158990Z"
    },
    "papermill": {
     "duration": 0.069496,
     "end_time": "2024-08-07T22:28:01.162651",
     "exception": false,
     "start_time": "2024-08-07T22:28:01.093155",
     "status": "completed"
    },
    "tags": []
   },
   "outputs": [
    {
     "data": {
      "text/html": [
       "<div>\n",
       "<style scoped>\n",
       "    .dataframe tbody tr th:only-of-type {\n",
       "        vertical-align: middle;\n",
       "    }\n",
       "\n",
       "    .dataframe tbody tr th {\n",
       "        vertical-align: top;\n",
       "    }\n",
       "\n",
       "    .dataframe thead th {\n",
       "        text-align: right;\n",
       "    }\n",
       "</style>\n",
       "<table border=\"1\" class=\"dataframe\">\n",
       "  <thead>\n",
       "    <tr style=\"text-align: right;\">\n",
       "      <th></th>\n",
       "      <th>cap-diameter</th>\n",
       "      <th>cap-shape</th>\n",
       "      <th>cap-surface</th>\n",
       "      <th>cap-color</th>\n",
       "      <th>does-bruise-or-bleed</th>\n",
       "      <th>gill-attachment</th>\n",
       "      <th>gill-spacing</th>\n",
       "      <th>gill-color</th>\n",
       "      <th>stem-height</th>\n",
       "      <th>stem-width</th>\n",
       "      <th>stem-root</th>\n",
       "      <th>stem-surface</th>\n",
       "      <th>stem-color</th>\n",
       "      <th>veil-type</th>\n",
       "      <th>veil-color</th>\n",
       "      <th>has-ring</th>\n",
       "      <th>ring-type</th>\n",
       "      <th>spore-print-color</th>\n",
       "      <th>habitat</th>\n",
       "      <th>season</th>\n",
       "    </tr>\n",
       "    <tr>\n",
       "      <th>id</th>\n",
       "      <th></th>\n",
       "      <th></th>\n",
       "      <th></th>\n",
       "      <th></th>\n",
       "      <th></th>\n",
       "      <th></th>\n",
       "      <th></th>\n",
       "      <th></th>\n",
       "      <th></th>\n",
       "      <th></th>\n",
       "      <th></th>\n",
       "      <th></th>\n",
       "      <th></th>\n",
       "      <th></th>\n",
       "      <th></th>\n",
       "      <th></th>\n",
       "      <th></th>\n",
       "      <th></th>\n",
       "      <th></th>\n",
       "      <th></th>\n",
       "    </tr>\n",
       "  </thead>\n",
       "  <tbody>\n",
       "    <tr>\n",
       "      <th>0</th>\n",
       "      <td>8.80</td>\n",
       "      <td>f</td>\n",
       "      <td>s</td>\n",
       "      <td>u</td>\n",
       "      <td>f</td>\n",
       "      <td>a</td>\n",
       "      <td>c</td>\n",
       "      <td>w</td>\n",
       "      <td>4.51</td>\n",
       "      <td>15.39</td>\n",
       "      <td>missing</td>\n",
       "      <td>missing</td>\n",
       "      <td>w</td>\n",
       "      <td>missing</td>\n",
       "      <td>missing</td>\n",
       "      <td>f</td>\n",
       "      <td>f</td>\n",
       "      <td>missing</td>\n",
       "      <td>d</td>\n",
       "      <td>a</td>\n",
       "    </tr>\n",
       "    <tr>\n",
       "      <th>1</th>\n",
       "      <td>4.51</td>\n",
       "      <td>x</td>\n",
       "      <td>h</td>\n",
       "      <td>o</td>\n",
       "      <td>f</td>\n",
       "      <td>a</td>\n",
       "      <td>c</td>\n",
       "      <td>n</td>\n",
       "      <td>4.79</td>\n",
       "      <td>6.48</td>\n",
       "      <td>missing</td>\n",
       "      <td>y</td>\n",
       "      <td>o</td>\n",
       "      <td>missing</td>\n",
       "      <td>missing</td>\n",
       "      <td>t</td>\n",
       "      <td>z</td>\n",
       "      <td>missing</td>\n",
       "      <td>d</td>\n",
       "      <td>w</td>\n",
       "    </tr>\n",
       "    <tr>\n",
       "      <th>2</th>\n",
       "      <td>6.94</td>\n",
       "      <td>f</td>\n",
       "      <td>s</td>\n",
       "      <td>b</td>\n",
       "      <td>f</td>\n",
       "      <td>x</td>\n",
       "      <td>c</td>\n",
       "      <td>w</td>\n",
       "      <td>6.85</td>\n",
       "      <td>9.93</td>\n",
       "      <td>missing</td>\n",
       "      <td>s</td>\n",
       "      <td>n</td>\n",
       "      <td>missing</td>\n",
       "      <td>missing</td>\n",
       "      <td>f</td>\n",
       "      <td>f</td>\n",
       "      <td>missing</td>\n",
       "      <td>l</td>\n",
       "      <td>w</td>\n",
       "    </tr>\n",
       "    <tr>\n",
       "      <th>3</th>\n",
       "      <td>3.88</td>\n",
       "      <td>f</td>\n",
       "      <td>y</td>\n",
       "      <td>g</td>\n",
       "      <td>f</td>\n",
       "      <td>s</td>\n",
       "      <td>missing</td>\n",
       "      <td>g</td>\n",
       "      <td>4.16</td>\n",
       "      <td>6.53</td>\n",
       "      <td>missing</td>\n",
       "      <td>missing</td>\n",
       "      <td>w</td>\n",
       "      <td>missing</td>\n",
       "      <td>missing</td>\n",
       "      <td>f</td>\n",
       "      <td>f</td>\n",
       "      <td>missing</td>\n",
       "      <td>d</td>\n",
       "      <td>u</td>\n",
       "    </tr>\n",
       "    <tr>\n",
       "      <th>4</th>\n",
       "      <td>5.85</td>\n",
       "      <td>x</td>\n",
       "      <td>l</td>\n",
       "      <td>w</td>\n",
       "      <td>f</td>\n",
       "      <td>d</td>\n",
       "      <td>missing</td>\n",
       "      <td>w</td>\n",
       "      <td>3.37</td>\n",
       "      <td>8.36</td>\n",
       "      <td>missing</td>\n",
       "      <td>missing</td>\n",
       "      <td>w</td>\n",
       "      <td>missing</td>\n",
       "      <td>missing</td>\n",
       "      <td>f</td>\n",
       "      <td>f</td>\n",
       "      <td>missing</td>\n",
       "      <td>g</td>\n",
       "      <td>a</td>\n",
       "    </tr>\n",
       "  </tbody>\n",
       "</table>\n",
       "</div>"
      ],
      "text/plain": [
       "    cap-diameter cap-shape cap-surface cap-color does-bruise-or-bleed  \\\n",
       "id                                                                      \n",
       "0           8.80         f           s         u                    f   \n",
       "1           4.51         x           h         o                    f   \n",
       "2           6.94         f           s         b                    f   \n",
       "3           3.88         f           y         g                    f   \n",
       "4           5.85         x           l         w                    f   \n",
       "\n",
       "   gill-attachment gill-spacing gill-color  stem-height  stem-width stem-root  \\\n",
       "id                                                                              \n",
       "0                a            c          w         4.51       15.39   missing   \n",
       "1                a            c          n         4.79        6.48   missing   \n",
       "2                x            c          w         6.85        9.93   missing   \n",
       "3                s      missing          g         4.16        6.53   missing   \n",
       "4                d      missing          w         3.37        8.36   missing   \n",
       "\n",
       "   stem-surface stem-color veil-type veil-color has-ring ring-type  \\\n",
       "id                                                                   \n",
       "0       missing          w   missing    missing        f         f   \n",
       "1             y          o   missing    missing        t         z   \n",
       "2             s          n   missing    missing        f         f   \n",
       "3       missing          w   missing    missing        f         f   \n",
       "4       missing          w   missing    missing        f         f   \n",
       "\n",
       "   spore-print-color habitat season  \n",
       "id                                   \n",
       "0            missing       d      a  \n",
       "1            missing       d      w  \n",
       "2            missing       l      w  \n",
       "3            missing       d      u  \n",
       "4            missing       g      a  "
      ]
     },
     "execution_count": 8,
     "metadata": {},
     "output_type": "execute_result"
    }
   ],
   "source": [
    "x = train_df.drop('class', axis=1)\n",
    "x.head()"
   ]
  },
  {
   "cell_type": "code",
   "execution_count": 9,
   "id": "a908fd86",
   "metadata": {
    "execution": {
     "iopub.execute_input": "2024-08-07T22:28:01.179480Z",
     "iopub.status.busy": "2024-08-07T22:28:01.179056Z",
     "iopub.status.idle": "2024-08-07T22:28:01.184448Z",
     "shell.execute_reply": "2024-08-07T22:28:01.182963Z"
    },
    "papermill": {
     "duration": 0.016362,
     "end_time": "2024-08-07T22:28:01.186785",
     "exception": false,
     "start_time": "2024-08-07T22:28:01.170423",
     "status": "completed"
    },
    "tags": []
   },
   "outputs": [],
   "source": [
    "y = train_df['class']"
   ]
  },
  {
   "cell_type": "code",
   "execution_count": 10,
   "id": "c05b6c90",
   "metadata": {
    "execution": {
     "iopub.execute_input": "2024-08-07T22:28:01.205024Z",
     "iopub.status.busy": "2024-08-07T22:28:01.204576Z",
     "iopub.status.idle": "2024-08-07T22:28:02.446589Z",
     "shell.execute_reply": "2024-08-07T22:28:02.444992Z"
    },
    "papermill": {
     "duration": 1.25486,
     "end_time": "2024-08-07T22:28:02.449922",
     "exception": false,
     "start_time": "2024-08-07T22:28:01.195062",
     "status": "completed"
    },
    "tags": []
   },
   "outputs": [],
   "source": [
    "X_train, X_val, y_train, y_val = train_test_split(x, y, test_size=0.2)"
   ]
  },
  {
   "cell_type": "code",
   "execution_count": 11,
   "id": "79e47a75",
   "metadata": {
    "execution": {
     "iopub.execute_input": "2024-08-07T22:28:02.469013Z",
     "iopub.status.busy": "2024-08-07T22:28:02.468588Z",
     "iopub.status.idle": "2024-08-07T22:28:02.474935Z",
     "shell.execute_reply": "2024-08-07T22:28:02.473576Z"
    },
    "papermill": {
     "duration": 0.01857,
     "end_time": "2024-08-07T22:28:02.477536",
     "exception": false,
     "start_time": "2024-08-07T22:28:02.458966",
     "status": "completed"
    },
    "tags": []
   },
   "outputs": [
    {
     "name": "stdout",
     "output_type": "stream",
     "text": [
      "(2493556, 20)\n",
      "(623389, 20)\n",
      "(2493556,)\n",
      "(623389,)\n"
     ]
    }
   ],
   "source": [
    "print(X_train.shape)\n",
    "print(X_val.shape)\n",
    "print(y_train.shape)\n",
    "print(y_val.shape)"
   ]
  },
  {
   "cell_type": "markdown",
   "id": "911d1e30",
   "metadata": {
    "papermill": {
     "duration": 0.008052,
     "end_time": "2024-08-07T22:28:02.493411",
     "exception": false,
     "start_time": "2024-08-07T22:28:02.485359",
     "status": "completed"
    },
    "tags": []
   },
   "source": [
    "<a id=\"1\"></a>\n",
    "# <div style=\"text-align:center; border-radius:30px 30px; padding:7px; color:white; margin:0; font-size:150%; font-family:Pacifico; background-color:#7E8EF1; overflow:hidden\"><b> Build & Train Model </b></div>"
   ]
  },
  {
   "cell_type": "code",
   "execution_count": 12,
   "id": "f077da95",
   "metadata": {
    "execution": {
     "iopub.execute_input": "2024-08-07T22:28:02.511055Z",
     "iopub.status.busy": "2024-08-07T22:28:02.510656Z",
     "iopub.status.idle": "2024-08-07T22:28:02.516358Z",
     "shell.execute_reply": "2024-08-07T22:28:02.514879Z"
    },
    "papermill": {
     "duration": 0.017864,
     "end_time": "2024-08-07T22:28:02.518763",
     "exception": false,
     "start_time": "2024-08-07T22:28:02.500899",
     "status": "completed"
    },
    "tags": []
   },
   "outputs": [],
   "source": [
    "clf = LGBMClassifier(objective='binary', metric='binary_error',num_leaves=81,\n",
    "    learning_rate=0.1, n_estimators=550, max_depth= 9, random_state=21)"
   ]
  },
  {
   "cell_type": "code",
   "execution_count": 13,
   "id": "5279f0a6",
   "metadata": {
    "execution": {
     "iopub.execute_input": "2024-08-07T22:28:02.536085Z",
     "iopub.status.busy": "2024-08-07T22:28:02.535713Z",
     "iopub.status.idle": "2024-08-07T22:30:29.469555Z",
     "shell.execute_reply": "2024-08-07T22:30:29.468374Z"
    },
    "papermill": {
     "duration": 146.953493,
     "end_time": "2024-08-07T22:30:29.479849",
     "exception": false,
     "start_time": "2024-08-07T22:28:02.526356",
     "status": "completed"
    },
    "tags": []
   },
   "outputs": [
    {
     "name": "stdout",
     "output_type": "stream",
     "text": [
      "[LightGBM] [Info] Number of positive: 1364509, number of negative: 1129047\n",
      "[LightGBM] [Info] Auto-choosing row-wise multi-threading, the overhead of testing was 0.389807 seconds.\n",
      "You can set `force_row_wise=true` to remove the overhead.\n",
      "And if memory is not enough, you can set `force_col_wise=true`.\n",
      "[LightGBM] [Info] Total Bins 949\n",
      "[LightGBM] [Info] Number of data points in the train set: 2493556, number of used features: 20\n",
      "[LightGBM] [Info] [binary:BoostFromScore]: pavg=0.547214 -> initscore=0.189421\n",
      "[LightGBM] [Info] Start training from score 0.189421\n"
     ]
    },
    {
     "data": {
      "text/html": [
       "<style>#sk-container-id-1 {color: black;background-color: white;}#sk-container-id-1 pre{padding: 0;}#sk-container-id-1 div.sk-toggleable {background-color: white;}#sk-container-id-1 label.sk-toggleable__label {cursor: pointer;display: block;width: 100%;margin-bottom: 0;padding: 0.3em;box-sizing: border-box;text-align: center;}#sk-container-id-1 label.sk-toggleable__label-arrow:before {content: \"▸\";float: left;margin-right: 0.25em;color: #696969;}#sk-container-id-1 label.sk-toggleable__label-arrow:hover:before {color: black;}#sk-container-id-1 div.sk-estimator:hover label.sk-toggleable__label-arrow:before {color: black;}#sk-container-id-1 div.sk-toggleable__content {max-height: 0;max-width: 0;overflow: hidden;text-align: left;background-color: #f0f8ff;}#sk-container-id-1 div.sk-toggleable__content pre {margin: 0.2em;color: black;border-radius: 0.25em;background-color: #f0f8ff;}#sk-container-id-1 input.sk-toggleable__control:checked~div.sk-toggleable__content {max-height: 200px;max-width: 100%;overflow: auto;}#sk-container-id-1 input.sk-toggleable__control:checked~label.sk-toggleable__label-arrow:before {content: \"▾\";}#sk-container-id-1 div.sk-estimator input.sk-toggleable__control:checked~label.sk-toggleable__label {background-color: #d4ebff;}#sk-container-id-1 div.sk-label input.sk-toggleable__control:checked~label.sk-toggleable__label {background-color: #d4ebff;}#sk-container-id-1 input.sk-hidden--visually {border: 0;clip: rect(1px 1px 1px 1px);clip: rect(1px, 1px, 1px, 1px);height: 1px;margin: -1px;overflow: hidden;padding: 0;position: absolute;width: 1px;}#sk-container-id-1 div.sk-estimator {font-family: monospace;background-color: #f0f8ff;border: 1px dotted black;border-radius: 0.25em;box-sizing: border-box;margin-bottom: 0.5em;}#sk-container-id-1 div.sk-estimator:hover {background-color: #d4ebff;}#sk-container-id-1 div.sk-parallel-item::after {content: \"\";width: 100%;border-bottom: 1px solid gray;flex-grow: 1;}#sk-container-id-1 div.sk-label:hover label.sk-toggleable__label {background-color: #d4ebff;}#sk-container-id-1 div.sk-serial::before {content: \"\";position: absolute;border-left: 1px solid gray;box-sizing: border-box;top: 0;bottom: 0;left: 50%;z-index: 0;}#sk-container-id-1 div.sk-serial {display: flex;flex-direction: column;align-items: center;background-color: white;padding-right: 0.2em;padding-left: 0.2em;position: relative;}#sk-container-id-1 div.sk-item {position: relative;z-index: 1;}#sk-container-id-1 div.sk-parallel {display: flex;align-items: stretch;justify-content: center;background-color: white;position: relative;}#sk-container-id-1 div.sk-item::before, #sk-container-id-1 div.sk-parallel-item::before {content: \"\";position: absolute;border-left: 1px solid gray;box-sizing: border-box;top: 0;bottom: 0;left: 50%;z-index: -1;}#sk-container-id-1 div.sk-parallel-item {display: flex;flex-direction: column;z-index: 1;position: relative;background-color: white;}#sk-container-id-1 div.sk-parallel-item:first-child::after {align-self: flex-end;width: 50%;}#sk-container-id-1 div.sk-parallel-item:last-child::after {align-self: flex-start;width: 50%;}#sk-container-id-1 div.sk-parallel-item:only-child::after {width: 0;}#sk-container-id-1 div.sk-dashed-wrapped {border: 1px dashed gray;margin: 0 0.4em 0.5em 0.4em;box-sizing: border-box;padding-bottom: 0.4em;background-color: white;}#sk-container-id-1 div.sk-label label {font-family: monospace;font-weight: bold;display: inline-block;line-height: 1.2em;}#sk-container-id-1 div.sk-label-container {text-align: center;}#sk-container-id-1 div.sk-container {/* jupyter's `normalize.less` sets `[hidden] { display: none; }` but bootstrap.min.css set `[hidden] { display: none !important; }` so we also need the `!important` here to be able to override the default hidden behavior on the sphinx rendered scikit-learn.org. See: https://github.com/scikit-learn/scikit-learn/issues/21755 */display: inline-block !important;position: relative;}#sk-container-id-1 div.sk-text-repr-fallback {display: none;}</style><div id=\"sk-container-id-1\" class=\"sk-top-container\"><div class=\"sk-text-repr-fallback\"><pre>LGBMClassifier(max_depth=9, metric=&#x27;binary_error&#x27;, n_estimators=550,\n",
       "               num_leaves=81, objective=&#x27;binary&#x27;, random_state=21)</pre><b>In a Jupyter environment, please rerun this cell to show the HTML representation or trust the notebook. <br />On GitHub, the HTML representation is unable to render, please try loading this page with nbviewer.org.</b></div><div class=\"sk-container\" hidden><div class=\"sk-item\"><div class=\"sk-estimator sk-toggleable\"><input class=\"sk-toggleable__control sk-hidden--visually\" id=\"sk-estimator-id-1\" type=\"checkbox\" checked><label for=\"sk-estimator-id-1\" class=\"sk-toggleable__label sk-toggleable__label-arrow\">LGBMClassifier</label><div class=\"sk-toggleable__content\"><pre>LGBMClassifier(max_depth=9, metric=&#x27;binary_error&#x27;, n_estimators=550,\n",
       "               num_leaves=81, objective=&#x27;binary&#x27;, random_state=21)</pre></div></div></div></div></div>"
      ],
      "text/plain": [
       "LGBMClassifier(max_depth=9, metric='binary_error', n_estimators=550,\n",
       "               num_leaves=81, objective='binary', random_state=21)"
      ]
     },
     "execution_count": 13,
     "metadata": {},
     "output_type": "execute_result"
    }
   ],
   "source": [
    "clf.fit(X_train,y_train)"
   ]
  },
  {
   "cell_type": "code",
   "execution_count": 14,
   "id": "f1ae29da",
   "metadata": {
    "execution": {
     "iopub.execute_input": "2024-08-07T22:30:29.496754Z",
     "iopub.status.busy": "2024-08-07T22:30:29.496347Z",
     "iopub.status.idle": "2024-08-07T22:31:17.492212Z",
     "shell.execute_reply": "2024-08-07T22:31:17.490608Z"
    },
    "papermill": {
     "duration": 48.007589,
     "end_time": "2024-08-07T22:31:17.495085",
     "exception": false,
     "start_time": "2024-08-07T22:30:29.487496",
     "status": "completed"
    },
    "tags": []
   },
   "outputs": [],
   "source": [
    "y_pred = clf.predict(X_val)"
   ]
  },
  {
   "cell_type": "code",
   "execution_count": 15,
   "id": "56009989",
   "metadata": {
    "execution": {
     "iopub.execute_input": "2024-08-07T22:31:17.512445Z",
     "iopub.status.busy": "2024-08-07T22:31:17.512003Z",
     "iopub.status.idle": "2024-08-07T22:31:19.577738Z",
     "shell.execute_reply": "2024-08-07T22:31:19.576513Z"
    },
    "papermill": {
     "duration": 2.077707,
     "end_time": "2024-08-07T22:31:19.580629",
     "exception": false,
     "start_time": "2024-08-07T22:31:17.502922",
     "status": "completed"
    },
    "tags": []
   },
   "outputs": [
    {
     "data": {
      "text/plain": [
       "0.9841471696422636"
      ]
     },
     "execution_count": 15,
     "metadata": {},
     "output_type": "execute_result"
    }
   ],
   "source": [
    "matthews_corrcoef(y_val, y_pred)"
   ]
  },
  {
   "cell_type": "code",
   "execution_count": 16,
   "id": "c4f893e1",
   "metadata": {
    "execution": {
     "iopub.execute_input": "2024-08-07T22:31:19.599237Z",
     "iopub.status.busy": "2024-08-07T22:31:19.598494Z",
     "iopub.status.idle": "2024-08-07T22:33:56.904024Z",
     "shell.execute_reply": "2024-08-07T22:33:56.902758Z"
    },
    "papermill": {
     "duration": 157.317571,
     "end_time": "2024-08-07T22:33:56.906794",
     "exception": false,
     "start_time": "2024-08-07T22:31:19.589223",
     "status": "completed"
    },
    "tags": []
   },
   "outputs": [],
   "source": [
    "y_pred = clf.predict(test_df)"
   ]
  },
  {
   "cell_type": "markdown",
   "id": "987bb881",
   "metadata": {
    "papermill": {
     "duration": 0.008011,
     "end_time": "2024-08-07T22:33:56.922783",
     "exception": false,
     "start_time": "2024-08-07T22:33:56.914772",
     "status": "completed"
    },
    "tags": []
   },
   "source": [
    "<a id=\"1\"></a>\n",
    "# <div style=\"text-align:center; border-radius:30px 30px; padding:7px; color:white; margin:0; font-size:150%; font-family:Pacifico; background-color:#7E8EF1; overflow:hidden\"><b> Create a submission file </b></div>"
   ]
  },
  {
   "cell_type": "code",
   "execution_count": 17,
   "id": "9571176c",
   "metadata": {
    "execution": {
     "iopub.execute_input": "2024-08-07T22:33:56.940692Z",
     "iopub.status.busy": "2024-08-07T22:33:56.939942Z",
     "iopub.status.idle": "2024-08-07T22:33:57.506564Z",
     "shell.execute_reply": "2024-08-07T22:33:57.505485Z"
    },
    "papermill": {
     "duration": 0.578376,
     "end_time": "2024-08-07T22:33:57.509226",
     "exception": false,
     "start_time": "2024-08-07T22:33:56.930850",
     "status": "completed"
    },
    "tags": []
   },
   "outputs": [],
   "source": [
    "df_sub = pd.read_csv('/kaggle/input/playground-series-s4e8/sample_submission.csv')"
   ]
  },
  {
   "cell_type": "code",
   "execution_count": 18,
   "id": "73701df2",
   "metadata": {
    "execution": {
     "iopub.execute_input": "2024-08-07T22:33:57.526422Z",
     "iopub.status.busy": "2024-08-07T22:33:57.526000Z",
     "iopub.status.idle": "2024-08-07T22:33:57.549653Z",
     "shell.execute_reply": "2024-08-07T22:33:57.548273Z"
    },
    "papermill": {
     "duration": 0.035213,
     "end_time": "2024-08-07T22:33:57.552257",
     "exception": false,
     "start_time": "2024-08-07T22:33:57.517044",
     "status": "completed"
    },
    "tags": []
   },
   "outputs": [],
   "source": [
    "df_sub['class'] = y_pred"
   ]
  },
  {
   "cell_type": "code",
   "execution_count": 19,
   "id": "c8c014c6",
   "metadata": {
    "execution": {
     "iopub.execute_input": "2024-08-07T22:33:57.569418Z",
     "iopub.status.busy": "2024-08-07T22:33:57.569001Z",
     "iopub.status.idle": "2024-08-07T22:33:57.579107Z",
     "shell.execute_reply": "2024-08-07T22:33:57.578038Z"
    },
    "papermill": {
     "duration": 0.021287,
     "end_time": "2024-08-07T22:33:57.581218",
     "exception": false,
     "start_time": "2024-08-07T22:33:57.559931",
     "status": "completed"
    },
    "tags": []
   },
   "outputs": [
    {
     "data": {
      "text/html": [
       "<div>\n",
       "<style scoped>\n",
       "    .dataframe tbody tr th:only-of-type {\n",
       "        vertical-align: middle;\n",
       "    }\n",
       "\n",
       "    .dataframe tbody tr th {\n",
       "        vertical-align: top;\n",
       "    }\n",
       "\n",
       "    .dataframe thead th {\n",
       "        text-align: right;\n",
       "    }\n",
       "</style>\n",
       "<table border=\"1\" class=\"dataframe\">\n",
       "  <thead>\n",
       "    <tr style=\"text-align: right;\">\n",
       "      <th></th>\n",
       "      <th>id</th>\n",
       "      <th>class</th>\n",
       "    </tr>\n",
       "  </thead>\n",
       "  <tbody>\n",
       "    <tr>\n",
       "      <th>0</th>\n",
       "      <td>3116945</td>\n",
       "      <td>e</td>\n",
       "    </tr>\n",
       "    <tr>\n",
       "      <th>1</th>\n",
       "      <td>3116946</td>\n",
       "      <td>p</td>\n",
       "    </tr>\n",
       "    <tr>\n",
       "      <th>2</th>\n",
       "      <td>3116947</td>\n",
       "      <td>p</td>\n",
       "    </tr>\n",
       "    <tr>\n",
       "      <th>3</th>\n",
       "      <td>3116948</td>\n",
       "      <td>p</td>\n",
       "    </tr>\n",
       "    <tr>\n",
       "      <th>4</th>\n",
       "      <td>3116949</td>\n",
       "      <td>e</td>\n",
       "    </tr>\n",
       "  </tbody>\n",
       "</table>\n",
       "</div>"
      ],
      "text/plain": [
       "        id class\n",
       "0  3116945     e\n",
       "1  3116946     p\n",
       "2  3116947     p\n",
       "3  3116948     p\n",
       "4  3116949     e"
      ]
     },
     "execution_count": 19,
     "metadata": {},
     "output_type": "execute_result"
    }
   ],
   "source": [
    "df_sub.head()"
   ]
  },
  {
   "cell_type": "code",
   "execution_count": 20,
   "id": "34209ed9",
   "metadata": {
    "execution": {
     "iopub.execute_input": "2024-08-07T22:33:57.598790Z",
     "iopub.status.busy": "2024-08-07T22:33:57.598376Z",
     "iopub.status.idle": "2024-08-07T22:33:59.224340Z",
     "shell.execute_reply": "2024-08-07T22:33:59.223309Z"
    },
    "papermill": {
     "duration": 1.637722,
     "end_time": "2024-08-07T22:33:59.226957",
     "exception": false,
     "start_time": "2024-08-07T22:33:57.589235",
     "status": "completed"
    },
    "tags": []
   },
   "outputs": [],
   "source": [
    "df_sub.to_csv('submission.csv', index=False)"
   ]
  },
  {
   "cell_type": "code",
   "execution_count": 21,
   "id": "90bd99e0",
   "metadata": {
    "execution": {
     "iopub.execute_input": "2024-08-07T22:33:59.244618Z",
     "iopub.status.busy": "2024-08-07T22:33:59.243860Z",
     "iopub.status.idle": "2024-08-07T22:33:59.250704Z",
     "shell.execute_reply": "2024-08-07T22:33:59.249588Z"
    },
    "papermill": {
     "duration": 0.01819,
     "end_time": "2024-08-07T22:33:59.253065",
     "exception": false,
     "start_time": "2024-08-07T22:33:59.234875",
     "status": "completed"
    },
    "tags": []
   },
   "outputs": [
    {
     "data": {
      "text/plain": [
       "(2077964, 2)"
      ]
     },
     "execution_count": 21,
     "metadata": {},
     "output_type": "execute_result"
    }
   ],
   "source": [
    "df_sub.shape"
   ]
  },
  {
   "cell_type": "markdown",
   "id": "94dea82d",
   "metadata": {
    "papermill": {
     "duration": 0.009123,
     "end_time": "2024-08-07T22:33:59.270504",
     "exception": false,
     "start_time": "2024-08-07T22:33:59.261381",
     "status": "completed"
    },
    "tags": []
   },
   "source": [
    "<a id=\"1\"></a>\n",
    "# <div style=\"text-align:center; border-radius:30px 30px; padding:7px; color:white; margin:0; font-size:150%; font-family:Pacifico; background-color:#7E8EF1; overflow:hidden\"><b> The End ☺ </b></div>"
   ]
  }
 ],
 "metadata": {
  "kaggle": {
   "accelerator": "none",
   "dataSources": [
    {
     "databundleVersionId": 9045607,
     "sourceId": 76727,
     "sourceType": "competition"
    }
   ],
   "dockerImageVersionId": 30746,
   "isGpuEnabled": false,
   "isInternetEnabled": true,
   "language": "python",
   "sourceType": "notebook"
  },
  "kernelspec": {
   "display_name": "Python 3",
   "language": "python",
   "name": "python3"
  },
  "language_info": {
   "codemirror_mode": {
    "name": "ipython",
    "version": 3
   },
   "file_extension": ".py",
   "mimetype": "text/x-python",
   "name": "python",
   "nbconvert_exporter": "python",
   "pygments_lexer": "ipython3",
   "version": "3.10.13"
  },
  "papermill": {
   "default_parameters": {},
   "duration": 395.902262,
   "end_time": "2024-08-07T22:34:00.201049",
   "environment_variables": {},
   "exception": null,
   "input_path": "__notebook__.ipynb",
   "output_path": "__notebook__.ipynb",
   "parameters": {},
   "start_time": "2024-08-07T22:27:24.298787",
   "version": "2.5.0"
  }
 },
 "nbformat": 4,
 "nbformat_minor": 5
}
