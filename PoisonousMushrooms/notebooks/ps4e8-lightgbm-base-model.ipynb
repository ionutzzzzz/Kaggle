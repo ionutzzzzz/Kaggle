{
 "cells": [
  {
   "cell_type": "code",
   "execution_count": 1,
   "id": "872e0419",
   "metadata": {
    "_cell_guid": "b1076dfc-b9ad-4769-8c92-a6c4dae69d19",
    "_kg_hide-input": true,
    "_kg_hide-output": true,
    "_uuid": "8f2839f25d086af736a60e9eeb907d3b93b6e0e5",
    "collapsed": true,
    "execution": {
     "iopub.execute_input": "2024-08-05T06:22:19.783583Z",
     "iopub.status.busy": "2024-08-05T06:22:19.782652Z",
     "iopub.status.idle": "2024-08-05T06:22:36.128933Z",
     "shell.execute_reply": "2024-08-05T06:22:36.127623Z"
    },
    "jupyter": {
     "outputs_hidden": true,
     "source_hidden": true
    },
    "papermill": {
     "duration": 16.361052,
     "end_time": "2024-08-05T06:22:36.131503",
     "exception": false,
     "start_time": "2024-08-05T06:22:19.770451",
     "status": "completed"
    },
    "tags": []
   },
   "outputs": [
    {
     "name": "stdout",
     "output_type": "stream",
     "text": [
      "--2024-08-05 06:22:35--  https://raw.githubusercontent.com/h4pZ/rose-pine-matplotlib/main/themes/rose-pine-dawn.mplstyle\r\n",
      "Resolving raw.githubusercontent.com (raw.githubusercontent.com)... 185.199.109.133, 185.199.108.133, 185.199.111.133, ...\r\n",
      "Connecting to raw.githubusercontent.com (raw.githubusercontent.com)|185.199.109.133|:443... connected.\r\n",
      "HTTP request sent, awaiting response... 200 OK\r\n",
      "Length: 40905 (40K) [text/plain]\r\n",
      "Saving to: '/tmp/rose-pine-dawn.mplstyle'\r\n",
      "\r\n",
      "rose-pine-dawn.mpls 100%[===================>]  39.95K  --.-KB/s    in 0.04s   \r\n",
      "\r\n",
      "2024-08-05 06:22:36 (1.09 MB/s) - '/tmp/rose-pine-dawn.mplstyle' saved [40905/40905]\r\n",
      "\r\n"
     ]
    }
   ],
   "source": [
    "!pip install -q scikit-lego\n",
    "!wget https://raw.githubusercontent.com/h4pZ/rose-pine-matplotlib/main/themes/rose-pine-dawn.mplstyle -P /tmp"
   ]
  },
  {
   "cell_type": "code",
   "execution_count": 2,
   "id": "143ac668",
   "metadata": {
    "_kg_hide-input": true,
    "execution": {
     "iopub.execute_input": "2024-08-05T06:22:36.153623Z",
     "iopub.status.busy": "2024-08-05T06:22:36.153215Z",
     "iopub.status.idle": "2024-08-05T06:22:40.525887Z",
     "shell.execute_reply": "2024-08-05T06:22:40.524805Z"
    },
    "jupyter": {
     "source_hidden": true
    },
    "papermill": {
     "duration": 4.386775,
     "end_time": "2024-08-05T06:22:40.528482",
     "exception": false,
     "start_time": "2024-08-05T06:22:36.141707",
     "status": "completed"
    },
    "tags": []
   },
   "outputs": [],
   "source": [
    "import pandas as pd\n",
    "import numpy as np\n",
    "import matplotlib.pyplot as plt\n",
    "import seaborn as sns\n",
    "import missingno as msno\n",
    "from prettytable import PrettyTable\n",
    "from category_encoders import OneHotEncoder, MEstimateEncoder, CatBoostEncoder\n",
    "from sklearn import set_config\n",
    "from sklearn.model_selection import StratifiedKFold, RandomizedSearchCV\n",
    "from sklearn.ensemble import RandomForestRegressor\n",
    "from sklearn.metrics import roc_auc_score, roc_curve\n",
    "from sklearn.pipeline import make_pipeline\n",
    "from category_encoders import OneHotEncoder\n",
    "from sklearn.model_selection import train_test_split\n",
    "from sklearn.base import clone\n",
    "from sklearn.preprocessing import FunctionTransformer, StandardScaler, PowerTransformer, LabelEncoder, OrdinalEncoder\n",
    "from sklearn.compose import ColumnTransformer\n",
    "from sklearn.linear_model import LogisticRegression, RidgeClassifier\n",
    "from sklearn.naive_bayes import GaussianNB, BernoulliNB\n",
    "from sklearn.ensemble import RandomForestClassifier, ExtraTreesClassifier\n",
    "import lightgbm as lgb\n",
    "from sklearn.ensemble import HistGradientBoostingClassifier, GradientBoostingClassifier\n",
    "from sklearn.ensemble import VotingClassifier\n",
    "from sklearn.discriminant_analysis import LinearDiscriminantAnalysis\n",
    "from scipy.cluster.hierarchy import dendrogram, linkage\n",
    "from scipy.spatial.distance import squareform\n",
    "from xgboost import XGBClassifier\n",
    "from sklearn.impute import SimpleImputer\n",
    "from lightgbm import LGBMClassifier\n",
    "from catboost import CatBoostClassifier\n",
    "import numpy as np\n",
    "import pandas as pd\n",
    "import seaborn as sns\n",
    "import matplotlib.pyplot as plt\n",
    "from sklearn.metrics import matthews_corrcoef\n",
    "from sklearn.metrics import accuracy_score, classification_report, roc_curve, confusion_matrix, log_loss\n",
    "import warnings\n",
    "\n",
    "import warnings\n",
    "warnings.filterwarnings(\"ignore\")\n",
    "pd.pandas.set_option('display.max_columns',None)"
   ]
  },
  {
   "cell_type": "code",
   "execution_count": 3,
   "id": "26e191be",
   "metadata": {
    "execution": {
     "iopub.execute_input": "2024-08-05T06:22:40.550765Z",
     "iopub.status.busy": "2024-08-05T06:22:40.550147Z",
     "iopub.status.idle": "2024-08-05T06:22:40.555418Z",
     "shell.execute_reply": "2024-08-05T06:22:40.554432Z"
    },
    "papermill": {
     "duration": 0.018999,
     "end_time": "2024-08-05T06:22:40.557647",
     "exception": false,
     "start_time": "2024-08-05T06:22:40.538648",
     "status": "completed"
    },
    "tags": []
   },
   "outputs": [],
   "source": [
    "plt.style.use('ggplot')"
   ]
  },
  {
   "cell_type": "markdown",
   "id": "3e958802",
   "metadata": {
    "papermill": {
     "duration": 0.009743,
     "end_time": "2024-08-05T06:22:40.577608",
     "exception": false,
     "start_time": "2024-08-05T06:22:40.567865",
     "status": "completed"
    },
    "tags": []
   },
   "source": [
    "# Get Data\n",
    "Okay so let´s first load our data and get a general overview about it."
   ]
  },
  {
   "cell_type": "code",
   "execution_count": 4,
   "id": "49e97310",
   "metadata": {
    "execution": {
     "iopub.execute_input": "2024-08-05T06:22:40.601221Z",
     "iopub.status.busy": "2024-08-05T06:22:40.600436Z",
     "iopub.status.idle": "2024-08-05T06:22:57.208126Z",
     "shell.execute_reply": "2024-08-05T06:22:57.206962Z"
    },
    "papermill": {
     "duration": 16.621661,
     "end_time": "2024-08-05T06:22:57.210372",
     "exception": false,
     "start_time": "2024-08-05T06:22:40.588711",
     "status": "completed"
    },
    "tags": []
   },
   "outputs": [
    {
     "data": {
      "text/html": [
       "<div>\n",
       "<style scoped>\n",
       "    .dataframe tbody tr th:only-of-type {\n",
       "        vertical-align: middle;\n",
       "    }\n",
       "\n",
       "    .dataframe tbody tr th {\n",
       "        vertical-align: top;\n",
       "    }\n",
       "\n",
       "    .dataframe thead th {\n",
       "        text-align: right;\n",
       "    }\n",
       "</style>\n",
       "<table border=\"1\" class=\"dataframe\">\n",
       "  <thead>\n",
       "    <tr style=\"text-align: right;\">\n",
       "      <th></th>\n",
       "      <th>class</th>\n",
       "      <th>cap-diameter</th>\n",
       "      <th>cap-shape</th>\n",
       "      <th>cap-surface</th>\n",
       "      <th>cap-color</th>\n",
       "      <th>does-bruise-or-bleed</th>\n",
       "      <th>gill-attachment</th>\n",
       "      <th>gill-spacing</th>\n",
       "      <th>gill-color</th>\n",
       "      <th>stem-height</th>\n",
       "      <th>stem-width</th>\n",
       "      <th>stem-root</th>\n",
       "      <th>stem-surface</th>\n",
       "      <th>stem-color</th>\n",
       "      <th>veil-type</th>\n",
       "      <th>veil-color</th>\n",
       "      <th>has-ring</th>\n",
       "      <th>ring-type</th>\n",
       "      <th>spore-print-color</th>\n",
       "      <th>habitat</th>\n",
       "      <th>season</th>\n",
       "    </tr>\n",
       "  </thead>\n",
       "  <tbody>\n",
       "    <tr>\n",
       "      <th>0</th>\n",
       "      <td>e</td>\n",
       "      <td>8.80</td>\n",
       "      <td>f</td>\n",
       "      <td>s</td>\n",
       "      <td>u</td>\n",
       "      <td>f</td>\n",
       "      <td>a</td>\n",
       "      <td>c</td>\n",
       "      <td>w</td>\n",
       "      <td>4.51</td>\n",
       "      <td>15.39</td>\n",
       "      <td>NaN</td>\n",
       "      <td>NaN</td>\n",
       "      <td>w</td>\n",
       "      <td>NaN</td>\n",
       "      <td>NaN</td>\n",
       "      <td>f</td>\n",
       "      <td>f</td>\n",
       "      <td>NaN</td>\n",
       "      <td>d</td>\n",
       "      <td>a</td>\n",
       "    </tr>\n",
       "    <tr>\n",
       "      <th>1</th>\n",
       "      <td>p</td>\n",
       "      <td>4.51</td>\n",
       "      <td>x</td>\n",
       "      <td>h</td>\n",
       "      <td>o</td>\n",
       "      <td>f</td>\n",
       "      <td>a</td>\n",
       "      <td>c</td>\n",
       "      <td>n</td>\n",
       "      <td>4.79</td>\n",
       "      <td>6.48</td>\n",
       "      <td>NaN</td>\n",
       "      <td>y</td>\n",
       "      <td>o</td>\n",
       "      <td>NaN</td>\n",
       "      <td>NaN</td>\n",
       "      <td>t</td>\n",
       "      <td>z</td>\n",
       "      <td>NaN</td>\n",
       "      <td>d</td>\n",
       "      <td>w</td>\n",
       "    </tr>\n",
       "    <tr>\n",
       "      <th>2</th>\n",
       "      <td>e</td>\n",
       "      <td>6.94</td>\n",
       "      <td>f</td>\n",
       "      <td>s</td>\n",
       "      <td>b</td>\n",
       "      <td>f</td>\n",
       "      <td>x</td>\n",
       "      <td>c</td>\n",
       "      <td>w</td>\n",
       "      <td>6.85</td>\n",
       "      <td>9.93</td>\n",
       "      <td>NaN</td>\n",
       "      <td>s</td>\n",
       "      <td>n</td>\n",
       "      <td>NaN</td>\n",
       "      <td>NaN</td>\n",
       "      <td>f</td>\n",
       "      <td>f</td>\n",
       "      <td>NaN</td>\n",
       "      <td>l</td>\n",
       "      <td>w</td>\n",
       "    </tr>\n",
       "    <tr>\n",
       "      <th>3</th>\n",
       "      <td>e</td>\n",
       "      <td>3.88</td>\n",
       "      <td>f</td>\n",
       "      <td>y</td>\n",
       "      <td>g</td>\n",
       "      <td>f</td>\n",
       "      <td>s</td>\n",
       "      <td>NaN</td>\n",
       "      <td>g</td>\n",
       "      <td>4.16</td>\n",
       "      <td>6.53</td>\n",
       "      <td>NaN</td>\n",
       "      <td>NaN</td>\n",
       "      <td>w</td>\n",
       "      <td>NaN</td>\n",
       "      <td>NaN</td>\n",
       "      <td>f</td>\n",
       "      <td>f</td>\n",
       "      <td>NaN</td>\n",
       "      <td>d</td>\n",
       "      <td>u</td>\n",
       "    </tr>\n",
       "    <tr>\n",
       "      <th>4</th>\n",
       "      <td>e</td>\n",
       "      <td>5.85</td>\n",
       "      <td>x</td>\n",
       "      <td>l</td>\n",
       "      <td>w</td>\n",
       "      <td>f</td>\n",
       "      <td>d</td>\n",
       "      <td>NaN</td>\n",
       "      <td>w</td>\n",
       "      <td>3.37</td>\n",
       "      <td>8.36</td>\n",
       "      <td>NaN</td>\n",
       "      <td>NaN</td>\n",
       "      <td>w</td>\n",
       "      <td>NaN</td>\n",
       "      <td>NaN</td>\n",
       "      <td>f</td>\n",
       "      <td>f</td>\n",
       "      <td>NaN</td>\n",
       "      <td>g</td>\n",
       "      <td>a</td>\n",
       "    </tr>\n",
       "  </tbody>\n",
       "</table>\n",
       "</div>"
      ],
      "text/plain": [
       "  class  cap-diameter cap-shape cap-surface cap-color does-bruise-or-bleed  \\\n",
       "0     e          8.80         f           s         u                    f   \n",
       "1     p          4.51         x           h         o                    f   \n",
       "2     e          6.94         f           s         b                    f   \n",
       "3     e          3.88         f           y         g                    f   \n",
       "4     e          5.85         x           l         w                    f   \n",
       "\n",
       "  gill-attachment gill-spacing gill-color  stem-height  stem-width stem-root  \\\n",
       "0               a            c          w         4.51       15.39       NaN   \n",
       "1               a            c          n         4.79        6.48       NaN   \n",
       "2               x            c          w         6.85        9.93       NaN   \n",
       "3               s          NaN          g         4.16        6.53       NaN   \n",
       "4               d          NaN          w         3.37        8.36       NaN   \n",
       "\n",
       "  stem-surface stem-color veil-type veil-color has-ring ring-type  \\\n",
       "0          NaN          w       NaN        NaN        f         f   \n",
       "1            y          o       NaN        NaN        t         z   \n",
       "2            s          n       NaN        NaN        f         f   \n",
       "3          NaN          w       NaN        NaN        f         f   \n",
       "4          NaN          w       NaN        NaN        f         f   \n",
       "\n",
       "  spore-print-color habitat season  \n",
       "0               NaN       d      a  \n",
       "1               NaN       d      w  \n",
       "2               NaN       l      w  \n",
       "3               NaN       d      u  \n",
       "4               NaN       g      a  "
      ]
     },
     "execution_count": 4,
     "metadata": {},
     "output_type": "execute_result"
    }
   ],
   "source": [
    "train_competition = pd.read_csv('/kaggle/input/playground-series-s4e8/train.csv', index_col='id')\n",
    "train_original = pd.read_csv('/kaggle/input/secondary-mushroom-dataset-data-set/MushroomDataset/secondary_data.csv', sep=';')\n",
    "train = pd.concat([train_competition, train_original], ignore_index=True)\n",
    "cols = train.columns.to_list()\n",
    "cols.remove(\"class\")\n",
    "train = train.drop_duplicates(subset=cols, keep='first')\n",
    "train.head()"
   ]
  },
  {
   "cell_type": "code",
   "execution_count": 5,
   "id": "9ba9fe49",
   "metadata": {
    "execution": {
     "iopub.execute_input": "2024-08-05T06:22:57.233179Z",
     "iopub.status.busy": "2024-08-05T06:22:57.232758Z",
     "iopub.status.idle": "2024-08-05T06:23:03.897720Z",
     "shell.execute_reply": "2024-08-05T06:23:03.896452Z"
    },
    "papermill": {
     "duration": 6.679141,
     "end_time": "2024-08-05T06:23:03.900029",
     "exception": false,
     "start_time": "2024-08-05T06:22:57.220888",
     "status": "completed"
    },
    "tags": []
   },
   "outputs": [
    {
     "data": {
      "text/html": [
       "<div>\n",
       "<style scoped>\n",
       "    .dataframe tbody tr th:only-of-type {\n",
       "        vertical-align: middle;\n",
       "    }\n",
       "\n",
       "    .dataframe tbody tr th {\n",
       "        vertical-align: top;\n",
       "    }\n",
       "\n",
       "    .dataframe thead th {\n",
       "        text-align: right;\n",
       "    }\n",
       "</style>\n",
       "<table border=\"1\" class=\"dataframe\">\n",
       "  <thead>\n",
       "    <tr style=\"text-align: right;\">\n",
       "      <th></th>\n",
       "      <th>cap-diameter</th>\n",
       "      <th>cap-shape</th>\n",
       "      <th>cap-surface</th>\n",
       "      <th>cap-color</th>\n",
       "      <th>does-bruise-or-bleed</th>\n",
       "      <th>gill-attachment</th>\n",
       "      <th>gill-spacing</th>\n",
       "      <th>gill-color</th>\n",
       "      <th>stem-height</th>\n",
       "      <th>stem-width</th>\n",
       "      <th>stem-root</th>\n",
       "      <th>stem-surface</th>\n",
       "      <th>stem-color</th>\n",
       "      <th>veil-type</th>\n",
       "      <th>veil-color</th>\n",
       "      <th>has-ring</th>\n",
       "      <th>ring-type</th>\n",
       "      <th>spore-print-color</th>\n",
       "      <th>habitat</th>\n",
       "      <th>season</th>\n",
       "    </tr>\n",
       "    <tr>\n",
       "      <th>id</th>\n",
       "      <th></th>\n",
       "      <th></th>\n",
       "      <th></th>\n",
       "      <th></th>\n",
       "      <th></th>\n",
       "      <th></th>\n",
       "      <th></th>\n",
       "      <th></th>\n",
       "      <th></th>\n",
       "      <th></th>\n",
       "      <th></th>\n",
       "      <th></th>\n",
       "      <th></th>\n",
       "      <th></th>\n",
       "      <th></th>\n",
       "      <th></th>\n",
       "      <th></th>\n",
       "      <th></th>\n",
       "      <th></th>\n",
       "      <th></th>\n",
       "    </tr>\n",
       "  </thead>\n",
       "  <tbody>\n",
       "    <tr>\n",
       "      <th>3116945</th>\n",
       "      <td>8.64</td>\n",
       "      <td>x</td>\n",
       "      <td>NaN</td>\n",
       "      <td>n</td>\n",
       "      <td>t</td>\n",
       "      <td>NaN</td>\n",
       "      <td>NaN</td>\n",
       "      <td>w</td>\n",
       "      <td>11.13</td>\n",
       "      <td>17.12</td>\n",
       "      <td>b</td>\n",
       "      <td>NaN</td>\n",
       "      <td>w</td>\n",
       "      <td>u</td>\n",
       "      <td>w</td>\n",
       "      <td>t</td>\n",
       "      <td>g</td>\n",
       "      <td>NaN</td>\n",
       "      <td>d</td>\n",
       "      <td>a</td>\n",
       "    </tr>\n",
       "    <tr>\n",
       "      <th>3116946</th>\n",
       "      <td>6.90</td>\n",
       "      <td>o</td>\n",
       "      <td>t</td>\n",
       "      <td>o</td>\n",
       "      <td>f</td>\n",
       "      <td>NaN</td>\n",
       "      <td>c</td>\n",
       "      <td>y</td>\n",
       "      <td>1.27</td>\n",
       "      <td>10.75</td>\n",
       "      <td>NaN</td>\n",
       "      <td>NaN</td>\n",
       "      <td>n</td>\n",
       "      <td>NaN</td>\n",
       "      <td>NaN</td>\n",
       "      <td>f</td>\n",
       "      <td>f</td>\n",
       "      <td>NaN</td>\n",
       "      <td>d</td>\n",
       "      <td>a</td>\n",
       "    </tr>\n",
       "    <tr>\n",
       "      <th>3116947</th>\n",
       "      <td>2.00</td>\n",
       "      <td>b</td>\n",
       "      <td>g</td>\n",
       "      <td>n</td>\n",
       "      <td>f</td>\n",
       "      <td>NaN</td>\n",
       "      <td>c</td>\n",
       "      <td>n</td>\n",
       "      <td>6.18</td>\n",
       "      <td>3.14</td>\n",
       "      <td>NaN</td>\n",
       "      <td>NaN</td>\n",
       "      <td>n</td>\n",
       "      <td>NaN</td>\n",
       "      <td>NaN</td>\n",
       "      <td>f</td>\n",
       "      <td>f</td>\n",
       "      <td>NaN</td>\n",
       "      <td>d</td>\n",
       "      <td>s</td>\n",
       "    </tr>\n",
       "    <tr>\n",
       "      <th>3116948</th>\n",
       "      <td>3.47</td>\n",
       "      <td>x</td>\n",
       "      <td>t</td>\n",
       "      <td>n</td>\n",
       "      <td>f</td>\n",
       "      <td>s</td>\n",
       "      <td>c</td>\n",
       "      <td>n</td>\n",
       "      <td>4.98</td>\n",
       "      <td>8.51</td>\n",
       "      <td>NaN</td>\n",
       "      <td>NaN</td>\n",
       "      <td>w</td>\n",
       "      <td>NaN</td>\n",
       "      <td>n</td>\n",
       "      <td>t</td>\n",
       "      <td>z</td>\n",
       "      <td>NaN</td>\n",
       "      <td>d</td>\n",
       "      <td>u</td>\n",
       "    </tr>\n",
       "    <tr>\n",
       "      <th>3116949</th>\n",
       "      <td>6.17</td>\n",
       "      <td>x</td>\n",
       "      <td>h</td>\n",
       "      <td>y</td>\n",
       "      <td>f</td>\n",
       "      <td>p</td>\n",
       "      <td>NaN</td>\n",
       "      <td>y</td>\n",
       "      <td>6.73</td>\n",
       "      <td>13.70</td>\n",
       "      <td>NaN</td>\n",
       "      <td>NaN</td>\n",
       "      <td>y</td>\n",
       "      <td>NaN</td>\n",
       "      <td>y</td>\n",
       "      <td>t</td>\n",
       "      <td>NaN</td>\n",
       "      <td>NaN</td>\n",
       "      <td>d</td>\n",
       "      <td>u</td>\n",
       "    </tr>\n",
       "  </tbody>\n",
       "</table>\n",
       "</div>"
      ],
      "text/plain": [
       "         cap-diameter cap-shape cap-surface cap-color does-bruise-or-bleed  \\\n",
       "id                                                                           \n",
       "3116945          8.64         x         NaN         n                    t   \n",
       "3116946          6.90         o           t         o                    f   \n",
       "3116947          2.00         b           g         n                    f   \n",
       "3116948          3.47         x           t         n                    f   \n",
       "3116949          6.17         x           h         y                    f   \n",
       "\n",
       "        gill-attachment gill-spacing gill-color  stem-height  stem-width  \\\n",
       "id                                                                         \n",
       "3116945             NaN          NaN          w        11.13       17.12   \n",
       "3116946             NaN            c          y         1.27       10.75   \n",
       "3116947             NaN            c          n         6.18        3.14   \n",
       "3116948               s            c          n         4.98        8.51   \n",
       "3116949               p          NaN          y         6.73       13.70   \n",
       "\n",
       "        stem-root stem-surface stem-color veil-type veil-color has-ring  \\\n",
       "id                                                                        \n",
       "3116945         b          NaN          w         u          w        t   \n",
       "3116946       NaN          NaN          n       NaN        NaN        f   \n",
       "3116947       NaN          NaN          n       NaN        NaN        f   \n",
       "3116948       NaN          NaN          w       NaN          n        t   \n",
       "3116949       NaN          NaN          y       NaN          y        t   \n",
       "\n",
       "        ring-type spore-print-color habitat season  \n",
       "id                                                  \n",
       "3116945         g               NaN       d      a  \n",
       "3116946         f               NaN       d      a  \n",
       "3116947         f               NaN       d      s  \n",
       "3116948         z               NaN       d      u  \n",
       "3116949       NaN               NaN       d      u  "
      ]
     },
     "execution_count": 5,
     "metadata": {},
     "output_type": "execute_result"
    }
   ],
   "source": [
    "test = pd.read_csv('/kaggle/input/playground-series-s4e8/test.csv', index_col='id')\n",
    "sample_submission = pd.read_csv('/kaggle/input/playground-series-s4e8/sample_submission.csv')\n",
    "test.head()"
   ]
  },
  {
   "cell_type": "markdown",
   "id": "d24ec2a3",
   "metadata": {
    "papermill": {
     "duration": 0.010431,
     "end_time": "2024-08-05T06:23:03.921166",
     "exception": false,
     "start_time": "2024-08-05T06:23:03.910735",
     "status": "completed"
    },
    "tags": []
   },
   "source": [
    "# Descriptive Statistics\n",
    "\n",
    "## Train"
   ]
  },
  {
   "cell_type": "code",
   "execution_count": 6,
   "id": "568e3e50",
   "metadata": {
    "execution": {
     "iopub.execute_input": "2024-08-05T06:23:03.944264Z",
     "iopub.status.busy": "2024-08-05T06:23:03.943559Z",
     "iopub.status.idle": "2024-08-05T06:23:04.523194Z",
     "shell.execute_reply": "2024-08-05T06:23:04.521895Z"
    },
    "papermill": {
     "duration": 0.594133,
     "end_time": "2024-08-05T06:23:04.525852",
     "exception": false,
     "start_time": "2024-08-05T06:23:03.931719",
     "status": "completed"
    },
    "tags": []
   },
   "outputs": [
    {
     "name": "stdout",
     "output_type": "stream",
     "text": [
      "(3177860, 21)\n"
     ]
    },
    {
     "data": {
      "text/html": [
       "<style type=\"text/css\">\n",
       "#T_26371_row0_col0, #T_26371_row0_col1, #T_26371_row0_col2 {\n",
       "  background-color: #08306b;\n",
       "  color: #f1f1f1;\n",
       "}\n",
       "#T_26371_row1_col0, #T_26371_row1_col1, #T_26371_row1_col2, #T_26371_row2_col0, #T_26371_row2_col1, #T_26371_row2_col2, #T_26371_row3_col0, #T_26371_row3_col1, #T_26371_row3_col2, #T_26371_row4_col0, #T_26371_row4_col1, #T_26371_row4_col2, #T_26371_row5_col0, #T_26371_row5_col1, #T_26371_row5_col2, #T_26371_row6_col0, #T_26371_row6_col1, #T_26371_row6_col2, #T_26371_row7_col0, #T_26371_row7_col1, #T_26371_row7_col2 {\n",
       "  background-color: #f7fbff;\n",
       "  color: #000000;\n",
       "}\n",
       "</style>\n",
       "<table id=\"T_26371\">\n",
       "  <thead>\n",
       "    <tr>\n",
       "      <th class=\"blank level0\" >&nbsp;</th>\n",
       "      <th id=\"T_26371_level0_col0\" class=\"col_heading level0 col0\" >cap-diameter</th>\n",
       "      <th id=\"T_26371_level0_col1\" class=\"col_heading level0 col1\" >stem-height</th>\n",
       "      <th id=\"T_26371_level0_col2\" class=\"col_heading level0 col2\" >stem-width</th>\n",
       "    </tr>\n",
       "  </thead>\n",
       "  <tbody>\n",
       "    <tr>\n",
       "      <th id=\"T_26371_level0_row0\" class=\"row_heading level0 row0\" >count</th>\n",
       "      <td id=\"T_26371_row0_col0\" class=\"data row0 col0\" >3177856.000000</td>\n",
       "      <td id=\"T_26371_row0_col1\" class=\"data row0 col1\" >3177860.000000</td>\n",
       "      <td id=\"T_26371_row0_col2\" class=\"data row0 col2\" >3177860.000000</td>\n",
       "    </tr>\n",
       "    <tr>\n",
       "      <th id=\"T_26371_level0_row1\" class=\"row_heading level0 row1\" >mean</th>\n",
       "      <td id=\"T_26371_row1_col0\" class=\"data row1 col0\" >6.318132</td>\n",
       "      <td id=\"T_26371_row1_col1\" class=\"data row1 col1\" >6.353103</td>\n",
       "      <td id=\"T_26371_row1_col2\" class=\"data row1 col2\" >11.173426</td>\n",
       "    </tr>\n",
       "    <tr>\n",
       "      <th id=\"T_26371_level0_row2\" class=\"row_heading level0 row2\" >std</th>\n",
       "      <td id=\"T_26371_row2_col0\" class=\"data row2 col0\" >4.670758</td>\n",
       "      <td id=\"T_26371_row2_col1\" class=\"data row2 col1\" >2.714103</td>\n",
       "      <td id=\"T_26371_row2_col2\" class=\"data row2 col2\" >8.138104</td>\n",
       "    </tr>\n",
       "    <tr>\n",
       "      <th id=\"T_26371_level0_row3\" class=\"row_heading level0 row3\" >min</th>\n",
       "      <td id=\"T_26371_row3_col0\" class=\"data row3 col0\" >0.030000</td>\n",
       "      <td id=\"T_26371_row3_col1\" class=\"data row3 col1\" >0.000000</td>\n",
       "      <td id=\"T_26371_row3_col2\" class=\"data row3 col2\" >0.000000</td>\n",
       "    </tr>\n",
       "    <tr>\n",
       "      <th id=\"T_26371_level0_row4\" class=\"row_heading level0 row4\" >25%</th>\n",
       "      <td id=\"T_26371_row4_col0\" class=\"data row4 col0\" >3.320000</td>\n",
       "      <td id=\"T_26371_row4_col1\" class=\"data row4 col1\" >4.670000</td>\n",
       "      <td id=\"T_26371_row4_col2\" class=\"data row4 col2\" >4.980000</td>\n",
       "    </tr>\n",
       "    <tr>\n",
       "      <th id=\"T_26371_level0_row5\" class=\"row_heading level0 row5\" >50%</th>\n",
       "      <td id=\"T_26371_row5_col0\" class=\"data row5 col0\" >5.750000</td>\n",
       "      <td id=\"T_26371_row5_col1\" class=\"data row5 col1\" >5.880000</td>\n",
       "      <td id=\"T_26371_row5_col2\" class=\"data row5 col2\" >9.660000</td>\n",
       "    </tr>\n",
       "    <tr>\n",
       "      <th id=\"T_26371_level0_row6\" class=\"row_heading level0 row6\" >75%</th>\n",
       "      <td id=\"T_26371_row6_col0\" class=\"data row6 col0\" >8.250000</td>\n",
       "      <td id=\"T_26371_row6_col1\" class=\"data row6 col1\" >7.410000</td>\n",
       "      <td id=\"T_26371_row6_col2\" class=\"data row6 col2\" >15.650000</td>\n",
       "    </tr>\n",
       "    <tr>\n",
       "      <th id=\"T_26371_level0_row7\" class=\"row_heading level0 row7\" >max</th>\n",
       "      <td id=\"T_26371_row7_col0\" class=\"data row7 col0\" >80.670000</td>\n",
       "      <td id=\"T_26371_row7_col1\" class=\"data row7 col1\" >88.720000</td>\n",
       "      <td id=\"T_26371_row7_col2\" class=\"data row7 col2\" >103.910000</td>\n",
       "    </tr>\n",
       "  </tbody>\n",
       "</table>\n"
      ],
      "text/plain": [
       "<pandas.io.formats.style.Styler at 0x7db8f5203fa0>"
      ]
     },
     "execution_count": 6,
     "metadata": {},
     "output_type": "execute_result"
    }
   ],
   "source": [
    "print(train.shape)\n",
    "train.describe().style.background_gradient('Blues')"
   ]
  },
  {
   "cell_type": "markdown",
   "id": "64670e5c",
   "metadata": {
    "papermill": {
     "duration": 0.011064,
     "end_time": "2024-08-05T06:23:04.548537",
     "exception": false,
     "start_time": "2024-08-05T06:23:04.537473",
     "status": "completed"
    },
    "tags": []
   },
   "source": [
    "## Test"
   ]
  },
  {
   "cell_type": "code",
   "execution_count": 7,
   "id": "15225dfa",
   "metadata": {
    "execution": {
     "iopub.execute_input": "2024-08-05T06:23:04.576763Z",
     "iopub.status.busy": "2024-08-05T06:23:04.576376Z",
     "iopub.status.idle": "2024-08-05T06:23:04.942515Z",
     "shell.execute_reply": "2024-08-05T06:23:04.941474Z"
    },
    "papermill": {
     "duration": 0.381573,
     "end_time": "2024-08-05T06:23:04.945315",
     "exception": false,
     "start_time": "2024-08-05T06:23:04.563742",
     "status": "completed"
    },
    "tags": []
   },
   "outputs": [
    {
     "name": "stdout",
     "output_type": "stream",
     "text": [
      "(2077964, 20)\n"
     ]
    },
    {
     "data": {
      "text/html": [
       "<style type=\"text/css\">\n",
       "#T_d2b38_row0_col0, #T_d2b38_row0_col1, #T_d2b38_row0_col2 {\n",
       "  background-color: #08306b;\n",
       "  color: #f1f1f1;\n",
       "}\n",
       "#T_d2b38_row1_col0, #T_d2b38_row1_col1, #T_d2b38_row1_col2, #T_d2b38_row2_col0, #T_d2b38_row2_col1, #T_d2b38_row2_col2, #T_d2b38_row3_col0, #T_d2b38_row3_col1, #T_d2b38_row3_col2, #T_d2b38_row4_col0, #T_d2b38_row4_col1, #T_d2b38_row4_col2, #T_d2b38_row5_col0, #T_d2b38_row5_col1, #T_d2b38_row5_col2, #T_d2b38_row6_col0, #T_d2b38_row6_col1, #T_d2b38_row6_col2, #T_d2b38_row7_col0, #T_d2b38_row7_col1, #T_d2b38_row7_col2 {\n",
       "  background-color: #f7fbff;\n",
       "  color: #000000;\n",
       "}\n",
       "</style>\n",
       "<table id=\"T_d2b38\">\n",
       "  <thead>\n",
       "    <tr>\n",
       "      <th class=\"blank level0\" >&nbsp;</th>\n",
       "      <th id=\"T_d2b38_level0_col0\" class=\"col_heading level0 col0\" >cap-diameter</th>\n",
       "      <th id=\"T_d2b38_level0_col1\" class=\"col_heading level0 col1\" >stem-height</th>\n",
       "      <th id=\"T_d2b38_level0_col2\" class=\"col_heading level0 col2\" >stem-width</th>\n",
       "    </tr>\n",
       "  </thead>\n",
       "  <tbody>\n",
       "    <tr>\n",
       "      <th id=\"T_d2b38_level0_row0\" class=\"row_heading level0 row0\" >count</th>\n",
       "      <td id=\"T_d2b38_row0_col0\" class=\"data row0 col0\" >2077957.000000</td>\n",
       "      <td id=\"T_d2b38_row0_col1\" class=\"data row0 col1\" >2077963.000000</td>\n",
       "      <td id=\"T_d2b38_row0_col2\" class=\"data row0 col2\" >2077964.000000</td>\n",
       "    </tr>\n",
       "    <tr>\n",
       "      <th id=\"T_d2b38_level0_row1\" class=\"row_heading level0 row1\" >mean</th>\n",
       "      <td id=\"T_d2b38_row1_col0\" class=\"data row1 col0\" >6.306192</td>\n",
       "      <td id=\"T_d2b38_row1_col1\" class=\"data row1 col1\" >6.346509</td>\n",
       "      <td id=\"T_d2b38_row1_col2\" class=\"data row1 col2\" >11.148374</td>\n",
       "    </tr>\n",
       "    <tr>\n",
       "      <th id=\"T_d2b38_level0_row2\" class=\"row_heading level0 row2\" >std</th>\n",
       "      <td id=\"T_d2b38_row2_col0\" class=\"data row2 col0\" >4.685462</td>\n",
       "      <td id=\"T_d2b38_row2_col1\" class=\"data row2 col1\" >2.698978</td>\n",
       "      <td id=\"T_d2b38_row2_col2\" class=\"data row2 col2\" >8.100181</td>\n",
       "    </tr>\n",
       "    <tr>\n",
       "      <th id=\"T_d2b38_level0_row3\" class=\"row_heading level0 row3\" >min</th>\n",
       "      <td id=\"T_d2b38_row3_col0\" class=\"data row3 col0\" >0.000000</td>\n",
       "      <td id=\"T_d2b38_row3_col1\" class=\"data row3 col1\" >0.000000</td>\n",
       "      <td id=\"T_d2b38_row3_col2\" class=\"data row3 col2\" >0.000000</td>\n",
       "    </tr>\n",
       "    <tr>\n",
       "      <th id=\"T_d2b38_level0_row4\" class=\"row_heading level0 row4\" >25%</th>\n",
       "      <td id=\"T_d2b38_row4_col0\" class=\"data row4 col0\" >3.310000</td>\n",
       "      <td id=\"T_d2b38_row4_col1\" class=\"data row4 col1\" >4.670000</td>\n",
       "      <td id=\"T_d2b38_row4_col2\" class=\"data row4 col2\" >4.970000</td>\n",
       "    </tr>\n",
       "    <tr>\n",
       "      <th id=\"T_d2b38_level0_row5\" class=\"row_heading level0 row5\" >50%</th>\n",
       "      <td id=\"T_d2b38_row5_col0\" class=\"data row5 col0\" >5.740000</td>\n",
       "      <td id=\"T_d2b38_row5_col1\" class=\"data row5 col1\" >5.880000</td>\n",
       "      <td id=\"T_d2b38_row5_col2\" class=\"data row5 col2\" >9.640000</td>\n",
       "    </tr>\n",
       "    <tr>\n",
       "      <th id=\"T_d2b38_level0_row6\" class=\"row_heading level0 row6\" >75%</th>\n",
       "      <td id=\"T_d2b38_row6_col0\" class=\"data row6 col0\" >8.230000</td>\n",
       "      <td id=\"T_d2b38_row6_col1\" class=\"data row6 col1\" >7.410000</td>\n",
       "      <td id=\"T_d2b38_row6_col2\" class=\"data row6 col2\" >15.620000</td>\n",
       "    </tr>\n",
       "    <tr>\n",
       "      <th id=\"T_d2b38_level0_row7\" class=\"row_heading level0 row7\" >max</th>\n",
       "      <td id=\"T_d2b38_row7_col0\" class=\"data row7 col0\" >607.000000</td>\n",
       "      <td id=\"T_d2b38_row7_col1\" class=\"data row7 col1\" >57.290000</td>\n",
       "      <td id=\"T_d2b38_row7_col2\" class=\"data row7 col2\" >102.910000</td>\n",
       "    </tr>\n",
       "  </tbody>\n",
       "</table>\n"
      ],
      "text/plain": [
       "<pandas.io.formats.style.Styler at 0x7db91c35d810>"
      ]
     },
     "execution_count": 7,
     "metadata": {},
     "output_type": "execute_result"
    }
   ],
   "source": [
    "print(test.shape)\n",
    "test.describe().style.background_gradient('Blues')"
   ]
  },
  {
   "cell_type": "markdown",
   "id": "3563548d",
   "metadata": {
    "papermill": {
     "duration": 0.011131,
     "end_time": "2024-08-05T06:23:04.972050",
     "exception": false,
     "start_time": "2024-08-05T06:23:04.960919",
     "status": "completed"
    },
    "tags": []
   },
   "source": [
    "# Missing Values"
   ]
  },
  {
   "cell_type": "code",
   "execution_count": 8,
   "id": "7e70c910",
   "metadata": {
    "execution": {
     "iopub.execute_input": "2024-08-05T06:23:04.998361Z",
     "iopub.status.busy": "2024-08-05T06:23:04.997451Z",
     "iopub.status.idle": "2024-08-05T06:23:08.739838Z",
     "shell.execute_reply": "2024-08-05T06:23:08.738675Z"
    },
    "papermill": {
     "duration": 3.757963,
     "end_time": "2024-08-05T06:23:08.742302",
     "exception": false,
     "start_time": "2024-08-05T06:23:04.984339",
     "status": "completed"
    },
    "tags": []
   },
   "outputs": [
    {
     "name": "stdout",
     "output_type": "stream",
     "text": [
      "+----------------------+-----------+-----------------+----------------+\n",
      "|       Feature        | Data Type | Train Missing % | Test Missing % |\n",
      "+----------------------+-----------+-----------------+----------------+\n",
      "|        class         |   object  |       0.0       |       NA       |\n",
      "|     cap-diameter     |  float64  |       0.0       |      0.0       |\n",
      "|      cap-shape       |   object  |       0.0       |      0.0       |\n",
      "|     cap-surface      |   object  |       21.6      |      21.5      |\n",
      "|      cap-color       |   object  |       0.0       |      0.0       |\n",
      "| does-bruise-or-bleed |   object  |       0.0       |      0.0       |\n",
      "|   gill-attachment    |   object  |       16.8      |      16.8      |\n",
      "|     gill-spacing     |   object  |       40.4      |      40.4      |\n",
      "|      gill-color      |   object  |       0.0       |      0.0       |\n",
      "|     stem-height      |  float64  |       0.0       |      0.0       |\n",
      "|      stem-width      |  float64  |       0.0       |      0.0       |\n",
      "|      stem-root       |   object  |       88.4      |      88.5      |\n",
      "|     stem-surface     |   object  |       63.5      |      63.6      |\n",
      "|      stem-color      |   object  |       0.0       |      0.0       |\n",
      "|      veil-type       |   object  |       94.9      |      94.9      |\n",
      "|      veil-color      |   object  |       87.9      |      87.9      |\n",
      "|       has-ring       |   object  |       0.0       |      0.0       |\n",
      "|      ring-type       |   object  |       4.1       |      4.1       |\n",
      "|  spore-print-color   |   object  |       91.4      |      91.4      |\n",
      "|       habitat        |   object  |       0.0       |      0.0       |\n",
      "|        season        |   object  |       0.0       |      0.0       |\n",
      "+----------------------+-----------+-----------------+----------------+\n"
     ]
    }
   ],
   "source": [
    "table = PrettyTable()\n",
    "\n",
    "table.field_names = ['Feature', 'Data Type', 'Train Missing %', 'Test Missing %']\n",
    "for column in train.columns:\n",
    "    data_type = str(train[column].dtype)\n",
    "    non_null_count_train= np.round(100-train[column].count()/train.shape[0]*100,1)\n",
    "    if column!='class':\n",
    "        non_null_count_test = np.round(100-test[column].count()/test.shape[0]*100,1)\n",
    "    else:\n",
    "        non_null_count_test=\"NA\"\n",
    "    table.add_row([column, data_type, non_null_count_train,non_null_count_test])\n",
    "print(table)"
   ]
  },
  {
   "cell_type": "markdown",
   "id": "f807d942",
   "metadata": {
    "papermill": {
     "duration": 0.011064,
     "end_time": "2024-08-05T06:23:08.764732",
     "exception": false,
     "start_time": "2024-08-05T06:23:08.753668",
     "status": "completed"
    },
    "tags": []
   },
   "source": [
    "A lot of missing values are in both datasets. According to several disucssions, they hold substantil information like [here](https://www.kaggle.com/competitions/playground-series-s4e8/discussion/523474). "
   ]
  },
  {
   "cell_type": "code",
   "execution_count": 9,
   "id": "d1ed57c0",
   "metadata": {
    "execution": {
     "iopub.execute_input": "2024-08-05T06:23:08.789481Z",
     "iopub.status.busy": "2024-08-05T06:23:08.788836Z",
     "iopub.status.idle": "2024-08-05T06:23:30.273315Z",
     "shell.execute_reply": "2024-08-05T06:23:30.272352Z"
    },
    "papermill": {
     "duration": 21.499813,
     "end_time": "2024-08-05T06:23:30.276022",
     "exception": false,
     "start_time": "2024-08-05T06:23:08.776209",
     "status": "completed"
    },
    "tags": []
   },
   "outputs": [],
   "source": [
    "# Source: https://www.kaggle.com/code/stealthtechnologies/lb-0-98513-multiple-lightgbm-models\n",
    "def cleaning(df):\n",
    "    \n",
    "    threshold = 100\n",
    "    \n",
    "    cat_feats = [\"cap-shape\",\"cap-surface\",\"cap-color\",\"does-bruise-or-bleed\",\"gill-attachment\",\n",
    "                \"gill-spacing\",\"gill-color\",\"stem-root\",\"stem-surface\",\"stem-color\",\"veil-type\",\n",
    "                \"veil-color\",\"has-ring\",\"ring-type\",\"spore-print-color\",\"spore-print-color\",\n",
    "                \"habitat\",\"season\"]\n",
    "    \n",
    "    for feat in cat_feats:\n",
    "        df[feat] = df[feat].fillna('missing')\n",
    "        df.loc[df[feat].value_counts(dropna=False)[df[feat]].values < threshold, feat] = \"noise\"\n",
    "        df[feat] = df[feat].astype('category')\n",
    "    \n",
    "    return df\n",
    "\n",
    "train  = cleaning(train)\n",
    "test  = cleaning(test)"
   ]
  },
  {
   "cell_type": "code",
   "execution_count": 10,
   "id": "597f5d62",
   "metadata": {
    "execution": {
     "iopub.execute_input": "2024-08-05T06:23:30.300807Z",
     "iopub.status.busy": "2024-08-05T06:23:30.300388Z",
     "iopub.status.idle": "2024-08-05T06:23:30.513552Z",
     "shell.execute_reply": "2024-08-05T06:23:30.512513Z"
    },
    "papermill": {
     "duration": 0.228369,
     "end_time": "2024-08-05T06:23:30.516076",
     "exception": false,
     "start_time": "2024-08-05T06:23:30.287707",
     "status": "completed"
    },
    "tags": []
   },
   "outputs": [
    {
     "data": {
      "text/plain": [
       "class                   0\n",
       "cap-diameter            4\n",
       "cap-shape               0\n",
       "cap-surface             0\n",
       "cap-color               0\n",
       "does-bruise-or-bleed    0\n",
       "gill-attachment         0\n",
       "gill-spacing            0\n",
       "gill-color              0\n",
       "stem-height             0\n",
       "stem-width              0\n",
       "stem-root               0\n",
       "stem-surface            0\n",
       "stem-color              0\n",
       "veil-type               0\n",
       "veil-color              0\n",
       "has-ring                0\n",
       "ring-type               0\n",
       "spore-print-color       0\n",
       "habitat                 0\n",
       "season                  0\n",
       "dtype: int64"
      ]
     },
     "execution_count": 10,
     "metadata": {},
     "output_type": "execute_result"
    }
   ],
   "source": [
    "train.isnull().sum()"
   ]
  },
  {
   "cell_type": "code",
   "execution_count": 11,
   "id": "59330748",
   "metadata": {
    "execution": {
     "iopub.execute_input": "2024-08-05T06:23:30.540826Z",
     "iopub.status.busy": "2024-08-05T06:23:30.540445Z",
     "iopub.status.idle": "2024-08-05T06:23:30.588869Z",
     "shell.execute_reply": "2024-08-05T06:23:30.587860Z"
    },
    "papermill": {
     "duration": 0.063203,
     "end_time": "2024-08-05T06:23:30.590926",
     "exception": false,
     "start_time": "2024-08-05T06:23:30.527723",
     "status": "completed"
    },
    "tags": []
   },
   "outputs": [
    {
     "name": "stdout",
     "output_type": "stream",
     "text": [
      "Number of missing values in test set\n"
     ]
    },
    {
     "data": {
      "text/plain": [
       "cap-diameter            7\n",
       "cap-shape               0\n",
       "cap-surface             0\n",
       "cap-color               0\n",
       "does-bruise-or-bleed    0\n",
       "gill-attachment         0\n",
       "gill-spacing            0\n",
       "gill-color              0\n",
       "stem-height             1\n",
       "stem-width              0\n",
       "stem-root               0\n",
       "stem-surface            0\n",
       "stem-color              0\n",
       "veil-type               0\n",
       "veil-color              0\n",
       "has-ring                0\n",
       "ring-type               0\n",
       "spore-print-color       0\n",
       "habitat                 0\n",
       "season                  0\n",
       "dtype: int64"
      ]
     },
     "execution_count": 11,
     "metadata": {},
     "output_type": "execute_result"
    }
   ],
   "source": [
    "print('Number of missing values in test set')\n",
    "test.isnull().sum()"
   ]
  },
  {
   "cell_type": "markdown",
   "id": "84095afb",
   "metadata": {
    "papermill": {
     "duration": 0.011252,
     "end_time": "2024-08-05T06:23:30.613833",
     "exception": false,
     "start_time": "2024-08-05T06:23:30.602581",
     "status": "completed"
    },
    "tags": []
   },
   "source": [
    "2 columns still contain a few missing values. Those are numeric ones, so we will impute them with the median value of the column. "
   ]
  },
  {
   "cell_type": "code",
   "execution_count": 12,
   "id": "65ab947e",
   "metadata": {
    "execution": {
     "iopub.execute_input": "2024-08-05T06:23:30.639015Z",
     "iopub.status.busy": "2024-08-05T06:23:30.638610Z",
     "iopub.status.idle": "2024-08-05T06:23:30.707761Z",
     "shell.execute_reply": "2024-08-05T06:23:30.706737Z"
    },
    "papermill": {
     "duration": 0.084818,
     "end_time": "2024-08-05T06:23:30.710246",
     "exception": false,
     "start_time": "2024-08-05T06:23:30.625428",
     "status": "completed"
    },
    "tags": []
   },
   "outputs": [],
   "source": [
    "# Separate numerical and categorical columns\n",
    "num_features = train._get_numeric_data().columns\n",
    "cat_features = train.drop(num_features, axis=1).columns\n",
    "cat_features = cat_features[cat_features != 'class']"
   ]
  },
  {
   "cell_type": "code",
   "execution_count": 13,
   "id": "7d5c274c",
   "metadata": {
    "execution": {
     "iopub.execute_input": "2024-08-05T06:23:30.735957Z",
     "iopub.status.busy": "2024-08-05T06:23:30.734942Z",
     "iopub.status.idle": "2024-08-05T06:23:32.981104Z",
     "shell.execute_reply": "2024-08-05T06:23:32.980032Z"
    },
    "papermill": {
     "duration": 2.262104,
     "end_time": "2024-08-05T06:23:32.984111",
     "exception": false,
     "start_time": "2024-08-05T06:23:30.722007",
     "status": "completed"
    },
    "tags": []
   },
   "outputs": [],
   "source": [
    "# Inspired by: https://www.kaggle.com/code/krishnadaskv/pss4e8-mushrooms-base-model\n",
    "# Numerical transformer and imputer for numerical data\n",
    "numerical_transformer = SimpleImputer(strategy='median')\n",
    "train[num_features] = numerical_transformer.fit_transform(train[num_features])\n",
    "test[num_features] = numerical_transformer.transform(test[num_features])"
   ]
  },
  {
   "cell_type": "markdown",
   "id": "d01b09f7",
   "metadata": {
    "papermill": {
     "duration": 0.011268,
     "end_time": "2024-08-05T06:23:33.007165",
     "exception": false,
     "start_time": "2024-08-05T06:23:32.995897",
     "status": "completed"
    },
    "tags": []
   },
   "source": [
    "# EDA\n",
    "## Target Distribution"
   ]
  },
  {
   "cell_type": "code",
   "execution_count": 14,
   "id": "93d381da",
   "metadata": {
    "_kg_hide-input": true,
    "execution": {
     "iopub.execute_input": "2024-08-05T06:23:33.031936Z",
     "iopub.status.busy": "2024-08-05T06:23:33.031551Z",
     "iopub.status.idle": "2024-08-05T06:23:34.958180Z",
     "shell.execute_reply": "2024-08-05T06:23:34.957215Z"
    },
    "jupyter": {
     "source_hidden": true
    },
    "papermill": {
     "duration": 1.94176,
     "end_time": "2024-08-05T06:23:34.960642",
     "exception": false,
     "start_time": "2024-08-05T06:23:33.018882",
     "status": "completed"
    },
    "tags": []
   },
   "outputs": [
    {
     "data": {
      "image/png": "[encoded data removed]",
      "text/plain": [
       "<Figure size 800x400 with 1 Axes>"
      ]
     },
     "metadata": {},
     "output_type": "display_data"
    }
   ],
   "source": [
    "plt.figure(figsize=(8, 4))\n",
    "sns.countplot(data=train, x='class', palette='Set1')\n",
    "plt.title('Class Distribution')\n",
    "plt.show();"
   ]
  },
  {
   "cell_type": "markdown",
   "id": "4b87e318",
   "metadata": {
    "papermill": {
     "duration": 0.012131,
     "end_time": "2024-08-05T06:23:34.984873",
     "exception": false,
     "start_time": "2024-08-05T06:23:34.972742",
     "status": "completed"
    },
    "tags": []
   },
   "source": [
    "We are good to go, target column is almost balanced."
   ]
  },
  {
   "cell_type": "markdown",
   "id": "f6fa1feb",
   "metadata": {
    "papermill": {
     "duration": 0.070814,
     "end_time": "2024-08-05T06:23:35.067613",
     "exception": false,
     "start_time": "2024-08-05T06:23:34.996799",
     "status": "completed"
    },
    "tags": []
   },
   "source": [
    "## Numeric Feature Distribution"
   ]
  },
  {
   "cell_type": "code",
   "execution_count": 15,
   "id": "66974f00",
   "metadata": {
    "execution": {
     "iopub.execute_input": "2024-08-05T06:23:35.093075Z",
     "iopub.status.busy": "2024-08-05T06:23:35.092675Z",
     "iopub.status.idle": "2024-08-05T06:24:37.571102Z",
     "shell.execute_reply": "2024-08-05T06:24:37.569936Z"
    },
    "papermill": {
     "duration": 62.507803,
     "end_time": "2024-08-05T06:24:37.587421",
     "exception": false,
     "start_time": "2024-08-05T06:23:35.079618",
     "status": "completed"
    },
    "tags": []
   },
   "outputs": [
    {
     "data": {
      "image/png": "[encoded data removed]",
      "text/plain": [
       "<Figure size 1200x500 with 3 Axes>"
      ]
     },
     "metadata": {},
     "output_type": "display_data"
    }
   ],
   "source": [
    "fig, ax = plt.subplots(1, 3, figsize=(12,5))\n",
    "ax = ax.flatten()\n",
    "for idx,column in enumerate(num_features):\n",
    "    if column in train.columns:\n",
    "        sns.kdeplot(data=train, x=column, ax=ax[idx], label='Train', color='blue')\n",
    "    if column in test.columns:\n",
    "        sns.kdeplot(data=test, x=column, ax=ax[idx], label='Test', color='red')\n",
    "    \n",
    "    ax[idx].set_title(f'{column} Distribution', size = 10)\n",
    "    ax[idx].set_xlabel(None)\n",
    "    plt.tight_layout()\n",
    "fig.legend(['Train', 'Test'])\n",
    "plt.tight_layout()\n",
    "plt.show();"
   ]
  },
  {
   "cell_type": "markdown",
   "id": "f507a790",
   "metadata": {
    "papermill": {
     "duration": 0.013167,
     "end_time": "2024-08-05T06:24:37.613749",
     "exception": false,
     "start_time": "2024-08-05T06:24:37.600582",
     "status": "completed"
    },
    "tags": []
   },
   "source": [
    "All numerical features are very skewed. We could think about some transformation but we will skip it in this notebook. LightGBM can handle skewed data. I will skip visualization for categorical features due to the ordinal encoding I did above. "
   ]
  },
  {
   "cell_type": "markdown",
   "id": "1225a879",
   "metadata": {
    "papermill": {
     "duration": 0.012739,
     "end_time": "2024-08-05T06:24:37.639576",
     "exception": false,
     "start_time": "2024-08-05T06:24:37.626837",
     "status": "completed"
    },
    "tags": []
   },
   "source": [
    "# Modeling\n",
    "I will train a base LightGBM model to predict the mushroom class. "
   ]
  },
  {
   "cell_type": "code",
   "execution_count": 16,
   "id": "38dff968",
   "metadata": {
    "execution": {
     "iopub.execute_input": "2024-08-05T06:24:37.667083Z",
     "iopub.status.busy": "2024-08-05T06:24:37.666697Z",
     "iopub.status.idle": "2024-08-05T06:24:38.252759Z",
     "shell.execute_reply": "2024-08-05T06:24:38.251496Z"
    },
    "papermill": {
     "duration": 0.602976,
     "end_time": "2024-08-05T06:24:38.255411",
     "exception": false,
     "start_time": "2024-08-05T06:24:37.652435",
     "status": "completed"
    },
    "tags": []
   },
   "outputs": [],
   "source": [
    "le = LabelEncoder()\n",
    "train['class'] = le.fit_transform(train['class'])"
   ]
  },
  {
   "cell_type": "code",
   "execution_count": 17,
   "id": "dcce05c0",
   "metadata": {
    "execution": {
     "iopub.execute_input": "2024-08-05T06:24:38.284000Z",
     "iopub.status.busy": "2024-08-05T06:24:38.283075Z",
     "iopub.status.idle": "2024-08-05T06:24:38.341492Z",
     "shell.execute_reply": "2024-08-05T06:24:38.340344Z"
    },
    "papermill": {
     "duration": 0.07537,
     "end_time": "2024-08-05T06:24:38.344081",
     "exception": false,
     "start_time": "2024-08-05T06:24:38.268711",
     "status": "completed"
    },
    "tags": []
   },
   "outputs": [],
   "source": [
    "X = train.drop(columns=['class'])\n",
    "y = train['class']"
   ]
  },
  {
   "cell_type": "code",
   "execution_count": 18,
   "id": "ed6f2a8a",
   "metadata": {
    "execution": {
     "iopub.execute_input": "2024-08-05T06:24:38.372707Z",
     "iopub.status.busy": "2024-08-05T06:24:38.371996Z",
     "iopub.status.idle": "2024-08-05T06:24:40.281637Z",
     "shell.execute_reply": "2024-08-05T06:24:40.280334Z"
    },
    "papermill": {
     "duration": 1.926996,
     "end_time": "2024-08-05T06:24:40.284753",
     "exception": false,
     "start_time": "2024-08-05T06:24:38.357757",
     "status": "completed"
    },
    "tags": []
   },
   "outputs": [],
   "source": [
    "X_train, X_test, y_train, y_test = train_test_split(X, y, test_size=0.2, stratify=y, random_state=42)"
   ]
  },
  {
   "cell_type": "code",
   "execution_count": 19,
   "id": "b1e26ad8",
   "metadata": {
    "execution": {
     "iopub.execute_input": "2024-08-05T06:24:40.318774Z",
     "iopub.status.busy": "2024-08-05T06:24:40.318262Z",
     "iopub.status.idle": "2024-08-05T06:24:40.324636Z",
     "shell.execute_reply": "2024-08-05T06:24:40.323474Z"
    },
    "papermill": {
     "duration": 0.0233,
     "end_time": "2024-08-05T06:24:40.326908",
     "exception": false,
     "start_time": "2024-08-05T06:24:40.303608",
     "status": "completed"
    },
    "tags": []
   },
   "outputs": [
    {
     "name": "stdout",
     "output_type": "stream",
     "text": [
      "X Train Shape: (2542288, 20)\n",
      "X Test Shape: (635572, 20)\n"
     ]
    }
   ],
   "source": [
    "print(f'X Train Shape: {X_train.shape}')\n",
    "print(f'X Test Shape: {X_test.shape}')"
   ]
  },
  {
   "cell_type": "code",
   "execution_count": 20,
   "id": "203c1fe8",
   "metadata": {
    "execution": {
     "iopub.execute_input": "2024-08-05T06:24:40.357438Z",
     "iopub.status.busy": "2024-08-05T06:24:40.356164Z",
     "iopub.status.idle": "2024-08-05T06:24:40.363869Z",
     "shell.execute_reply": "2024-08-05T06:24:40.362774Z"
    },
    "papermill": {
     "duration": 0.025712,
     "end_time": "2024-08-05T06:24:40.366120",
     "exception": false,
     "start_time": "2024-08-05T06:24:40.340408",
     "status": "completed"
    },
    "tags": []
   },
   "outputs": [],
   "source": [
    "def mcc_metric(y_pred, dmatrix):\n",
    "    y_true = dmatrix.get_label()\n",
    "    y_pred = (y_pred > 0.5).astype(int) \n",
    "    mcc = matthews_corrcoef(y_true, y_pred)\n",
    "    return 'mcc', mcc, True"
   ]
  },
  {
   "cell_type": "code",
   "execution_count": 21,
   "id": "05d9e5f3",
   "metadata": {
    "execution": {
     "iopub.execute_input": "2024-08-05T06:24:40.394865Z",
     "iopub.status.busy": "2024-08-05T06:24:40.394475Z",
     "iopub.status.idle": "2024-08-05T06:24:40.399945Z",
     "shell.execute_reply": "2024-08-05T06:24:40.398928Z"
    },
    "papermill": {
     "duration": 0.022333,
     "end_time": "2024-08-05T06:24:40.402176",
     "exception": false,
     "start_time": "2024-08-05T06:24:40.379843",
     "status": "completed"
    },
    "tags": []
   },
   "outputs": [],
   "source": [
    "params = {'objective':'binary',\n",
    "          'n_estimators':100,\n",
    "          'max_depth': 14,\n",
    "          'reg_alpha': 3,\n",
    "          'reg_lambda': 3,\n",
    "          'subsample': 0.7,\n",
    "          'colsample_bytree': 0.7,\n",
    "          'random_state': 1702,\n",
    "          'verbose': 1\n",
    "         }"
   ]
  },
  {
   "cell_type": "code",
   "execution_count": 22,
   "id": "01931ce5",
   "metadata": {
    "execution": {
     "iopub.execute_input": "2024-08-05T06:24:40.430753Z",
     "iopub.status.busy": "2024-08-05T06:24:40.429912Z",
     "iopub.status.idle": "2024-08-05T06:24:40.434965Z",
     "shell.execute_reply": "2024-08-05T06:24:40.433938Z"
    },
    "papermill": {
     "duration": 0.021861,
     "end_time": "2024-08-05T06:24:40.437143",
     "exception": false,
     "start_time": "2024-08-05T06:24:40.415282",
     "status": "completed"
    },
    "tags": []
   },
   "outputs": [],
   "source": [
    "lgb_train = lgb.Dataset(X_train, y_train)\n",
    "lgb_eval = lgb.Dataset(X_test, y_test, reference=lgb_train)"
   ]
  },
  {
   "cell_type": "code",
   "execution_count": 23,
   "id": "84dd83d3",
   "metadata": {
    "execution": {
     "iopub.execute_input": "2024-08-05T06:24:40.465132Z",
     "iopub.status.busy": "2024-08-05T06:24:40.464699Z",
     "iopub.status.idle": "2024-08-05T06:25:46.883219Z",
     "shell.execute_reply": "2024-08-05T06:25:46.882015Z"
    },
    "papermill": {
     "duration": 66.435395,
     "end_time": "2024-08-05T06:25:46.885807",
     "exception": false,
     "start_time": "2024-08-05T06:24:40.450412",
     "status": "completed"
    },
    "tags": []
   },
   "outputs": [
    {
     "name": "stdout",
     "output_type": "stream",
     "text": [
      "[LightGBM] [Warning] Accuracy may be bad since you didn't explicitly set num_leaves OR 2^max_depth > num_leaves. (num_leaves=31).\n",
      "[LightGBM] [Warning] Accuracy may be bad since you didn't explicitly set num_leaves OR 2^max_depth > num_leaves. (num_leaves=31).\n",
      "[LightGBM] [Info] Number of positive: 1391306, number of negative: 1150982\n",
      "[LightGBM] [Info] Auto-choosing col-wise multi-threading, the overhead of testing was 0.540519 seconds.\n",
      "You can set `force_col_wise=true` to remove the overhead.\n",
      "[LightGBM] [Info] Total Bins 907\n",
      "[LightGBM] [Info] Number of data points in the train set: 2542288, number of used features: 20\n",
      "[LightGBM] [Warning] Accuracy may be bad since you didn't explicitly set num_leaves OR 2^max_depth > num_leaves. (num_leaves=31).\n",
      "[LightGBM] [Info] [binary:BoostFromScore]: pavg=0.547265 -> initscore=0.189627\n",
      "[LightGBM] [Info] Start training from score 0.189627\n"
     ]
    }
   ],
   "source": [
    "model = lgb.train(params,\n",
    "                 num_boost_round=500,\n",
    "                 train_set=lgb_train,\n",
    "                 valid_sets=lgb_eval,\n",
    "                 feval=mcc_metric\n",
    "                )"
   ]
  },
  {
   "cell_type": "code",
   "execution_count": 24,
   "id": "e2c19b08",
   "metadata": {
    "execution": {
     "iopub.execute_input": "2024-08-05T06:25:46.920175Z",
     "iopub.status.busy": "2024-08-05T06:25:46.919734Z",
     "iopub.status.idle": "2024-08-05T06:25:49.484951Z",
     "shell.execute_reply": "2024-08-05T06:25:49.483995Z"
    },
    "papermill": {
     "duration": 2.587312,
     "end_time": "2024-08-05T06:25:49.487330",
     "exception": false,
     "start_time": "2024-08-05T06:25:46.900018",
     "status": "completed"
    },
    "tags": []
   },
   "outputs": [],
   "source": [
    "# Run prediction\n",
    "y_pred = model.predict(X_test)"
   ]
  },
  {
   "cell_type": "code",
   "execution_count": 25,
   "id": "37ded1c5",
   "metadata": {
    "execution": {
     "iopub.execute_input": "2024-08-05T06:25:49.516098Z",
     "iopub.status.busy": "2024-08-05T06:25:49.515682Z",
     "iopub.status.idle": "2024-08-05T06:25:49.523174Z",
     "shell.execute_reply": "2024-08-05T06:25:49.522053Z"
    },
    "papermill": {
     "duration": 0.024459,
     "end_time": "2024-08-05T06:25:49.525383",
     "exception": false,
     "start_time": "2024-08-05T06:25:49.500924",
     "status": "completed"
    },
    "tags": []
   },
   "outputs": [
    {
     "data": {
      "text/plain": [
       "array([1., 1., 0., ..., 0., 1., 0.])"
      ]
     },
     "execution_count": 25,
     "metadata": {},
     "output_type": "execute_result"
    }
   ],
   "source": [
    "y_pred_round = np.round(y_pred)\n",
    "y_pred_round"
   ]
  },
  {
   "cell_type": "code",
   "execution_count": 26,
   "id": "24cbc660",
   "metadata": {
    "execution": {
     "iopub.execute_input": "2024-08-05T06:25:49.554762Z",
     "iopub.status.busy": "2024-08-05T06:25:49.554378Z",
     "iopub.status.idle": "2024-08-05T06:25:49.882110Z",
     "shell.execute_reply": "2024-08-05T06:25:49.880984Z"
    },
    "papermill": {
     "duration": 0.344753,
     "end_time": "2024-08-05T06:25:49.884374",
     "exception": false,
     "start_time": "2024-08-05T06:25:49.539621",
     "status": "completed"
    },
    "tags": []
   },
   "outputs": [
    {
     "data": {
      "text/plain": [
       "0.9820223467353567"
      ]
     },
     "execution_count": 26,
     "metadata": {},
     "output_type": "execute_result"
    }
   ],
   "source": [
    "matthews_corrcoef(y_test, y_pred_round)"
   ]
  },
  {
   "cell_type": "code",
   "execution_count": 27,
   "id": "d43575ef",
   "metadata": {
    "execution": {
     "iopub.execute_input": "2024-08-05T06:25:49.913824Z",
     "iopub.status.busy": "2024-08-05T06:25:49.913428Z",
     "iopub.status.idle": "2024-08-05T06:25:50.003736Z",
     "shell.execute_reply": "2024-08-05T06:25:50.002734Z"
    },
    "papermill": {
     "duration": 0.107675,
     "end_time": "2024-08-05T06:25:50.005943",
     "exception": false,
     "start_time": "2024-08-05T06:25:49.898268",
     "status": "completed"
    },
    "tags": []
   },
   "outputs": [
    {
     "data": {
      "text/plain": [
       "0.9910867690835972"
      ]
     },
     "execution_count": 27,
     "metadata": {},
     "output_type": "execute_result"
    }
   ],
   "source": [
    "accuracy_score(y_test, y_pred_round)"
   ]
  },
  {
   "cell_type": "code",
   "execution_count": 28,
   "id": "c0cec564",
   "metadata": {
    "execution": {
     "iopub.execute_input": "2024-08-05T06:25:50.036039Z",
     "iopub.status.busy": "2024-08-05T06:25:50.034854Z",
     "iopub.status.idle": "2024-08-05T06:25:51.655453Z",
     "shell.execute_reply": "2024-08-05T06:25:51.654156Z"
    },
    "papermill": {
     "duration": 1.637954,
     "end_time": "2024-08-05T06:25:51.657754",
     "exception": false,
     "start_time": "2024-08-05T06:25:50.019800",
     "status": "completed"
    },
    "tags": []
   },
   "outputs": [
    {
     "name": "stdout",
     "output_type": "stream",
     "text": [
      "              precision    recall  f1-score   support\n",
      "\n",
      "           0       0.99      0.99      0.99    287745\n",
      "           1       0.99      0.99      0.99    347827\n",
      "\n",
      "    accuracy                           0.99    635572\n",
      "   macro avg       0.99      0.99      0.99    635572\n",
      "weighted avg       0.99      0.99      0.99    635572\n",
      "\n"
     ]
    }
   ],
   "source": [
    "print(classification_report(y_test, y_pred_round))"
   ]
  },
  {
   "cell_type": "code",
   "execution_count": 29,
   "id": "893f283a",
   "metadata": {
    "_kg_hide-input": true,
    "execution": {
     "iopub.execute_input": "2024-08-05T06:25:51.687020Z",
     "iopub.status.busy": "2024-08-05T06:25:51.686594Z",
     "iopub.status.idle": "2024-08-05T06:25:52.081810Z",
     "shell.execute_reply": "2024-08-05T06:25:52.080752Z"
    },
    "jupyter": {
     "source_hidden": true
    },
    "papermill": {
     "duration": 0.412886,
     "end_time": "2024-08-05T06:25:52.084455",
     "exception": false,
     "start_time": "2024-08-05T06:25:51.671569",
     "status": "completed"
    },
    "tags": []
   },
   "outputs": [
    {
     "data": {
      "image/png": "[encoded data removed]",
      "text/plain": [
       "<Figure size 800x800 with 2 Axes>"
      ]
     },
     "metadata": {},
     "output_type": "display_data"
    }
   ],
   "source": [
    "cm = confusion_matrix(y_test, y_pred_round)\n",
    "cm_matrix = pd.DataFrame(data=cm)\n",
    "plt.figure(figsize=(8,8))\n",
    "plt.title('Confusion Matrix')\n",
    "sns.heatmap(cm_matrix, annot=True, fmt='d', cmap='YlGnBu')\n",
    "plt.show();"
   ]
  },
  {
   "cell_type": "code",
   "execution_count": 30,
   "id": "8dd485f5",
   "metadata": {
    "_kg_hide-input": true,
    "execution": {
     "iopub.execute_input": "2024-08-05T06:25:52.115807Z",
     "iopub.status.busy": "2024-08-05T06:25:52.115420Z",
     "iopub.status.idle": "2024-08-05T06:25:52.559541Z",
     "shell.execute_reply": "2024-08-05T06:25:52.558399Z"
    },
    "jupyter": {
     "source_hidden": true
    },
    "papermill": {
     "duration": 0.46248,
     "end_time": "2024-08-05T06:25:52.561941",
     "exception": false,
     "start_time": "2024-08-05T06:25:52.099461",
     "status": "completed"
    },
    "tags": []
   },
   "outputs": [
    {
     "data": {
      "image/png": "[encoded data removed]",
      "text/plain": [
       "<Figure size 2000x1000 with 1 Axes>"
      ]
     },
     "metadata": {},
     "output_type": "display_data"
    }
   ],
   "source": [
    "feature_imp = pd.DataFrame(sorted(zip(model.feature_importance(),X.columns)), columns=['Value','Feature'])\n",
    "\n",
    "plt.figure(figsize=(20, 10))\n",
    "plt.title('Feature Importance')\n",
    "sns.barplot(x=\"Value\", y=\"Feature\", data=feature_imp.sort_values(by=\"Value\", ascending=False), palette='viridis')\n",
    "plt.show();"
   ]
  },
  {
   "cell_type": "markdown",
   "id": "e8afad33",
   "metadata": {
    "papermill": {
     "duration": 0.014902,
     "end_time": "2024-08-05T06:25:52.592020",
     "exception": false,
     "start_time": "2024-08-05T06:25:52.577118",
     "status": "completed"
    },
    "tags": []
   },
   "source": [
    "# Prediction and Submission"
   ]
  },
  {
   "cell_type": "code",
   "execution_count": 31,
   "id": "25847bc5",
   "metadata": {
    "execution": {
     "iopub.execute_input": "2024-08-05T06:25:52.625131Z",
     "iopub.status.busy": "2024-08-05T06:25:52.624711Z",
     "iopub.status.idle": "2024-08-05T06:26:01.068908Z",
     "shell.execute_reply": "2024-08-05T06:26:01.067892Z"
    },
    "papermill": {
     "duration": 8.463985,
     "end_time": "2024-08-05T06:26:01.071368",
     "exception": false,
     "start_time": "2024-08-05T06:25:52.607383",
     "status": "completed"
    },
    "tags": []
   },
   "outputs": [],
   "source": [
    "preds = model.predict(test)"
   ]
  },
  {
   "cell_type": "code",
   "execution_count": 32,
   "id": "f5cd856a",
   "metadata": {
    "execution": {
     "iopub.execute_input": "2024-08-05T06:26:01.104139Z",
     "iopub.status.busy": "2024-08-05T06:26:01.103717Z",
     "iopub.status.idle": "2024-08-05T06:26:01.115603Z",
     "shell.execute_reply": "2024-08-05T06:26:01.114548Z"
    },
    "papermill": {
     "duration": 0.031251,
     "end_time": "2024-08-05T06:26:01.118067",
     "exception": false,
     "start_time": "2024-08-05T06:26:01.086816",
     "status": "completed"
    },
    "tags": []
   },
   "outputs": [
    {
     "data": {
      "text/plain": [
       "array([0, 1, 1, ..., 1, 0, 0])"
      ]
     },
     "execution_count": 32,
     "metadata": {},
     "output_type": "execute_result"
    }
   ],
   "source": [
    "test_pred_binary = (preds > 0.5).astype(int)\n",
    "test_pred_binary"
   ]
  },
  {
   "cell_type": "code",
   "execution_count": 33,
   "id": "f0890bc6",
   "metadata": {
    "execution": {
     "iopub.execute_input": "2024-08-05T06:26:01.150695Z",
     "iopub.status.busy": "2024-08-05T06:26:01.150315Z",
     "iopub.status.idle": "2024-08-05T06:26:01.239291Z",
     "shell.execute_reply": "2024-08-05T06:26:01.238350Z"
    },
    "papermill": {
     "duration": 0.108187,
     "end_time": "2024-08-05T06:26:01.241742",
     "exception": false,
     "start_time": "2024-08-05T06:26:01.133555",
     "status": "completed"
    },
    "tags": []
   },
   "outputs": [
    {
     "data": {
      "text/plain": [
       "array(['e', 'p', 'p', ..., 'p', 'e', 'e'], dtype=object)"
      ]
     },
     "execution_count": 33,
     "metadata": {},
     "output_type": "execute_result"
    }
   ],
   "source": [
    "test_classes = le.inverse_transform(test_pred_binary)\n",
    "test_classes"
   ]
  },
  {
   "cell_type": "code",
   "execution_count": 34,
   "id": "3e949e53",
   "metadata": {
    "execution": {
     "iopub.execute_input": "2024-08-05T06:26:01.274421Z",
     "iopub.status.busy": "2024-08-05T06:26:01.274033Z",
     "iopub.status.idle": "2024-08-05T06:26:02.818966Z",
     "shell.execute_reply": "2024-08-05T06:26:02.817863Z"
    },
    "papermill": {
     "duration": 1.564228,
     "end_time": "2024-08-05T06:26:02.821582",
     "exception": false,
     "start_time": "2024-08-05T06:26:01.257354",
     "status": "completed"
    },
    "tags": []
   },
   "outputs": [],
   "source": [
    "test['class'] = test_classes\n",
    "test[['class']].to_csv('submission.csv')"
   ]
  }
 ],
 "metadata": {
  "kaggle": {
   "accelerator": "none",
   "dataSources": [
    {
     "databundleVersionId": 9045607,
     "sourceId": 76727,
     "sourceType": "competition"
    },
    {
     "datasetId": 2327251,
     "sourceId": 3918849,
     "sourceType": "datasetVersion"
    }
   ],
   "dockerImageVersionId": 30746,
   "isGpuEnabled": false,
   "isInternetEnabled": true,
   "language": "python",
   "sourceType": "notebook"
  },
  "kernelspec": {
   "display_name": "Python 3",
   "language": "python",
   "name": "python3"
  },
  "language_info": {
   "codemirror_mode": {
    "name": "ipython",
    "version": 3
   },
   "file_extension": ".py",
   "mimetype": "text/x-python",
   "name": "python",
   "nbconvert_exporter": "python",
   "pygments_lexer": "ipython3",
   "version": "3.10.13"
  },
  "papermill": {
   "default_parameters": {},
   "duration": 227.170767,
   "end_time": "2024-08-05T06:26:04.262104",
   "environment_variables": {},
   "exception": null,
   "input_path": "__notebook__.ipynb",
   "output_path": "__notebook__.ipynb",
   "parameters": {},
   "start_time": "2024-08-05T06:22:17.091337",
   "version": "2.5.0"
  }
 },
 "nbformat": 4,
 "nbformat_minor": 5
}
