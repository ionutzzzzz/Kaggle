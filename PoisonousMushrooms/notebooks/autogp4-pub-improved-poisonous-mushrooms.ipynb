{
 "cells": [
  {
   "cell_type": "markdown",
   "id": "1bd8842c",
   "metadata": {
    "papermill": {
     "duration": 0.0113,
     "end_time": "2024-08-01T11:43:40.387369",
     "exception": false,
     "start_time": "2024-08-01T11:43:40.376069",
     "status": "completed"
    },
    "tags": []
   },
   "source": [
    "<center><div style=\"font-size: 24px; font-weight: bold; color: #2c3e50; border-bottom: 2px solid #3498db; padding-bottom: 5px; margin-bottom: 15px;\">\n",
    "    Import the Libraries\n",
    "</div></center>"
   ]
  },
  {
   "cell_type": "code",
   "execution_count": 1,
   "id": "4198ad90",
   "metadata": {
    "execution": {
     "iopub.execute_input": "2024-08-01T11:43:40.410971Z",
     "iopub.status.busy": "2024-08-01T11:43:40.410544Z",
     "iopub.status.idle": "2024-08-01T11:43:48.797404Z",
     "shell.execute_reply": "2024-08-01T11:43:48.795985Z"
    },
    "papermill": {
     "duration": 8.402056,
     "end_time": "2024-08-01T11:43:48.800354",
     "exception": false,
     "start_time": "2024-08-01T11:43:40.398298",
     "status": "completed"
    },
    "tags": []
   },
   "outputs": [],
   "source": [
    "import numpy as np\n",
    "import pandas as pd\n",
    "import matplotlib.pyplot as plt\n",
    "import seaborn as sns\n",
    "\n",
    "import lightgbm as lgb\n",
    "\n",
    "from sklearn.model_selection import StratifiedKFold\n",
    "from sklearn.metrics import roc_auc_score\n",
    "\n",
    "from torch.cuda import is_available\n",
    "\n",
    "from tqdm.notebook import tqdm"
   ]
  },
  {
   "cell_type": "markdown",
   "id": "00a492dd",
   "metadata": {
    "papermill": {
     "duration": 0.011212,
     "end_time": "2024-08-01T11:43:48.822651",
     "exception": false,
     "start_time": "2024-08-01T11:43:48.811439",
     "status": "completed"
    },
    "tags": []
   },
   "source": [
    "<center><div style=\"font-size: 24px; font-weight: bold; color: #2c3e50; border-bottom: 2px solid #3498db; padding-bottom: 5px; margin-bottom: 15px;\">\n",
    "    Import the Datasets\n",
    "</div></center>"
   ]
  },
  {
   "cell_type": "code",
   "execution_count": 2,
   "id": "bbceb755",
   "metadata": {
    "execution": {
     "iopub.execute_input": "2024-08-01T11:43:48.846540Z",
     "iopub.status.busy": "2024-08-01T11:43:48.845835Z",
     "iopub.status.idle": "2024-08-01T11:44:09.737673Z",
     "shell.execute_reply": "2024-08-01T11:44:09.736474Z"
    },
    "papermill": {
     "duration": 20.907073,
     "end_time": "2024-08-01T11:44:09.740564",
     "exception": false,
     "start_time": "2024-08-01T11:43:48.833491",
     "status": "completed"
    },
    "tags": []
   },
   "outputs": [],
   "source": [
    "train_df = pd.read_csv('/kaggle/input/playground-series-s4e8/train.csv')\n",
    "test_df = pd.read_csv('/kaggle/input/playground-series-s4e8/test.csv')\n",
    "submission_df = pd.read_csv('/kaggle/input/playground-series-s4e8/sample_submission.csv')"
   ]
  },
  {
   "cell_type": "markdown",
   "id": "716b81c0",
   "metadata": {
    "papermill": {
     "duration": 0.010536,
     "end_time": "2024-08-01T11:44:09.763233",
     "exception": false,
     "start_time": "2024-08-01T11:44:09.752697",
     "status": "completed"
    },
    "tags": []
   },
   "source": [
    "<center><div style=\"font-size: 24px; font-weight: bold; color: #2c3e50; border-bottom: 2px solid #3498db; padding-bottom: 5px; margin-bottom: 15px;\">\n",
    "    EDA and Data Preprocessing\n",
    "</div></center>"
   ]
  },
  {
   "cell_type": "code",
   "execution_count": 3,
   "id": "e1ef7aa0",
   "metadata": {
    "execution": {
     "iopub.execute_input": "2024-08-01T11:44:09.786988Z",
     "iopub.status.busy": "2024-08-01T11:44:09.786004Z",
     "iopub.status.idle": "2024-08-01T11:44:09.830708Z",
     "shell.execute_reply": "2024-08-01T11:44:09.829538Z"
    },
    "papermill": {
     "duration": 0.05933,
     "end_time": "2024-08-01T11:44:09.833315",
     "exception": false,
     "start_time": "2024-08-01T11:44:09.773985",
     "status": "completed"
    },
    "tags": []
   },
   "outputs": [
    {
     "data": {
      "text/html": [
       "<div>\n",
       "<style scoped>\n",
       "    .dataframe tbody tr th:only-of-type {\n",
       "        vertical-align: middle;\n",
       "    }\n",
       "\n",
       "    .dataframe tbody tr th {\n",
       "        vertical-align: top;\n",
       "    }\n",
       "\n",
       "    .dataframe thead th {\n",
       "        text-align: right;\n",
       "    }\n",
       "</style>\n",
       "<table border=\"1\" class=\"dataframe\">\n",
       "  <thead>\n",
       "    <tr style=\"text-align: right;\">\n",
       "      <th></th>\n",
       "      <th>id</th>\n",
       "      <th>class</th>\n",
       "      <th>cap-diameter</th>\n",
       "      <th>cap-shape</th>\n",
       "      <th>cap-surface</th>\n",
       "      <th>cap-color</th>\n",
       "      <th>does-bruise-or-bleed</th>\n",
       "      <th>gill-attachment</th>\n",
       "      <th>gill-spacing</th>\n",
       "      <th>gill-color</th>\n",
       "      <th>...</th>\n",
       "      <th>stem-root</th>\n",
       "      <th>stem-surface</th>\n",
       "      <th>stem-color</th>\n",
       "      <th>veil-type</th>\n",
       "      <th>veil-color</th>\n",
       "      <th>has-ring</th>\n",
       "      <th>ring-type</th>\n",
       "      <th>spore-print-color</th>\n",
       "      <th>habitat</th>\n",
       "      <th>season</th>\n",
       "    </tr>\n",
       "  </thead>\n",
       "  <tbody>\n",
       "    <tr>\n",
       "      <th>0</th>\n",
       "      <td>0</td>\n",
       "      <td>e</td>\n",
       "      <td>8.80</td>\n",
       "      <td>f</td>\n",
       "      <td>s</td>\n",
       "      <td>u</td>\n",
       "      <td>f</td>\n",
       "      <td>a</td>\n",
       "      <td>c</td>\n",
       "      <td>w</td>\n",
       "      <td>...</td>\n",
       "      <td>NaN</td>\n",
       "      <td>NaN</td>\n",
       "      <td>w</td>\n",
       "      <td>NaN</td>\n",
       "      <td>NaN</td>\n",
       "      <td>f</td>\n",
       "      <td>f</td>\n",
       "      <td>NaN</td>\n",
       "      <td>d</td>\n",
       "      <td>a</td>\n",
       "    </tr>\n",
       "    <tr>\n",
       "      <th>1</th>\n",
       "      <td>1</td>\n",
       "      <td>p</td>\n",
       "      <td>4.51</td>\n",
       "      <td>x</td>\n",
       "      <td>h</td>\n",
       "      <td>o</td>\n",
       "      <td>f</td>\n",
       "      <td>a</td>\n",
       "      <td>c</td>\n",
       "      <td>n</td>\n",
       "      <td>...</td>\n",
       "      <td>NaN</td>\n",
       "      <td>y</td>\n",
       "      <td>o</td>\n",
       "      <td>NaN</td>\n",
       "      <td>NaN</td>\n",
       "      <td>t</td>\n",
       "      <td>z</td>\n",
       "      <td>NaN</td>\n",
       "      <td>d</td>\n",
       "      <td>w</td>\n",
       "    </tr>\n",
       "    <tr>\n",
       "      <th>2</th>\n",
       "      <td>2</td>\n",
       "      <td>e</td>\n",
       "      <td>6.94</td>\n",
       "      <td>f</td>\n",
       "      <td>s</td>\n",
       "      <td>b</td>\n",
       "      <td>f</td>\n",
       "      <td>x</td>\n",
       "      <td>c</td>\n",
       "      <td>w</td>\n",
       "      <td>...</td>\n",
       "      <td>NaN</td>\n",
       "      <td>s</td>\n",
       "      <td>n</td>\n",
       "      <td>NaN</td>\n",
       "      <td>NaN</td>\n",
       "      <td>f</td>\n",
       "      <td>f</td>\n",
       "      <td>NaN</td>\n",
       "      <td>l</td>\n",
       "      <td>w</td>\n",
       "    </tr>\n",
       "    <tr>\n",
       "      <th>3</th>\n",
       "      <td>3</td>\n",
       "      <td>e</td>\n",
       "      <td>3.88</td>\n",
       "      <td>f</td>\n",
       "      <td>y</td>\n",
       "      <td>g</td>\n",
       "      <td>f</td>\n",
       "      <td>s</td>\n",
       "      <td>NaN</td>\n",
       "      <td>g</td>\n",
       "      <td>...</td>\n",
       "      <td>NaN</td>\n",
       "      <td>NaN</td>\n",
       "      <td>w</td>\n",
       "      <td>NaN</td>\n",
       "      <td>NaN</td>\n",
       "      <td>f</td>\n",
       "      <td>f</td>\n",
       "      <td>NaN</td>\n",
       "      <td>d</td>\n",
       "      <td>u</td>\n",
       "    </tr>\n",
       "    <tr>\n",
       "      <th>4</th>\n",
       "      <td>4</td>\n",
       "      <td>e</td>\n",
       "      <td>5.85</td>\n",
       "      <td>x</td>\n",
       "      <td>l</td>\n",
       "      <td>w</td>\n",
       "      <td>f</td>\n",
       "      <td>d</td>\n",
       "      <td>NaN</td>\n",
       "      <td>w</td>\n",
       "      <td>...</td>\n",
       "      <td>NaN</td>\n",
       "      <td>NaN</td>\n",
       "      <td>w</td>\n",
       "      <td>NaN</td>\n",
       "      <td>NaN</td>\n",
       "      <td>f</td>\n",
       "      <td>f</td>\n",
       "      <td>NaN</td>\n",
       "      <td>g</td>\n",
       "      <td>a</td>\n",
       "    </tr>\n",
       "  </tbody>\n",
       "</table>\n",
       "<p>5 rows × 22 columns</p>\n",
       "</div>"
      ],
      "text/plain": [
       "   id class  cap-diameter cap-shape cap-surface cap-color  \\\n",
       "0   0     e          8.80         f           s         u   \n",
       "1   1     p          4.51         x           h         o   \n",
       "2   2     e          6.94         f           s         b   \n",
       "3   3     e          3.88         f           y         g   \n",
       "4   4     e          5.85         x           l         w   \n",
       "\n",
       "  does-bruise-or-bleed gill-attachment gill-spacing gill-color  ...  \\\n",
       "0                    f               a            c          w  ...   \n",
       "1                    f               a            c          n  ...   \n",
       "2                    f               x            c          w  ...   \n",
       "3                    f               s          NaN          g  ...   \n",
       "4                    f               d          NaN          w  ...   \n",
       "\n",
       "   stem-root  stem-surface stem-color veil-type veil-color has-ring ring-type  \\\n",
       "0        NaN           NaN          w       NaN        NaN        f         f   \n",
       "1        NaN             y          o       NaN        NaN        t         z   \n",
       "2        NaN             s          n       NaN        NaN        f         f   \n",
       "3        NaN           NaN          w       NaN        NaN        f         f   \n",
       "4        NaN           NaN          w       NaN        NaN        f         f   \n",
       "\n",
       "  spore-print-color habitat season  \n",
       "0               NaN       d      a  \n",
       "1               NaN       d      w  \n",
       "2               NaN       l      w  \n",
       "3               NaN       d      u  \n",
       "4               NaN       g      a  \n",
       "\n",
       "[5 rows x 22 columns]"
      ]
     },
     "execution_count": 3,
     "metadata": {},
     "output_type": "execute_result"
    }
   ],
   "source": [
    "train_df.head()"
   ]
  },
  {
   "cell_type": "code",
   "execution_count": 4,
   "id": "e811faa0",
   "metadata": {
    "execution": {
     "iopub.execute_input": "2024-08-01T11:44:09.858226Z",
     "iopub.status.busy": "2024-08-01T11:44:09.857793Z",
     "iopub.status.idle": "2024-08-01T11:44:09.885286Z",
     "shell.execute_reply": "2024-08-01T11:44:09.884139Z"
    },
    "papermill": {
     "duration": 0.042891,
     "end_time": "2024-08-01T11:44:09.887924",
     "exception": false,
     "start_time": "2024-08-01T11:44:09.845033",
     "status": "completed"
    },
    "tags": []
   },
   "outputs": [
    {
     "data": {
      "text/html": [
       "<div>\n",
       "<style scoped>\n",
       "    .dataframe tbody tr th:only-of-type {\n",
       "        vertical-align: middle;\n",
       "    }\n",
       "\n",
       "    .dataframe tbody tr th {\n",
       "        vertical-align: top;\n",
       "    }\n",
       "\n",
       "    .dataframe thead th {\n",
       "        text-align: right;\n",
       "    }\n",
       "</style>\n",
       "<table border=\"1\" class=\"dataframe\">\n",
       "  <thead>\n",
       "    <tr style=\"text-align: right;\">\n",
       "      <th></th>\n",
       "      <th>id</th>\n",
       "      <th>cap-diameter</th>\n",
       "      <th>cap-shape</th>\n",
       "      <th>cap-surface</th>\n",
       "      <th>cap-color</th>\n",
       "      <th>does-bruise-or-bleed</th>\n",
       "      <th>gill-attachment</th>\n",
       "      <th>gill-spacing</th>\n",
       "      <th>gill-color</th>\n",
       "      <th>stem-height</th>\n",
       "      <th>...</th>\n",
       "      <th>stem-root</th>\n",
       "      <th>stem-surface</th>\n",
       "      <th>stem-color</th>\n",
       "      <th>veil-type</th>\n",
       "      <th>veil-color</th>\n",
       "      <th>has-ring</th>\n",
       "      <th>ring-type</th>\n",
       "      <th>spore-print-color</th>\n",
       "      <th>habitat</th>\n",
       "      <th>season</th>\n",
       "    </tr>\n",
       "  </thead>\n",
       "  <tbody>\n",
       "    <tr>\n",
       "      <th>0</th>\n",
       "      <td>3116945</td>\n",
       "      <td>8.64</td>\n",
       "      <td>x</td>\n",
       "      <td>NaN</td>\n",
       "      <td>n</td>\n",
       "      <td>t</td>\n",
       "      <td>NaN</td>\n",
       "      <td>NaN</td>\n",
       "      <td>w</td>\n",
       "      <td>11.13</td>\n",
       "      <td>...</td>\n",
       "      <td>b</td>\n",
       "      <td>NaN</td>\n",
       "      <td>w</td>\n",
       "      <td>u</td>\n",
       "      <td>w</td>\n",
       "      <td>t</td>\n",
       "      <td>g</td>\n",
       "      <td>NaN</td>\n",
       "      <td>d</td>\n",
       "      <td>a</td>\n",
       "    </tr>\n",
       "    <tr>\n",
       "      <th>1</th>\n",
       "      <td>3116946</td>\n",
       "      <td>6.90</td>\n",
       "      <td>o</td>\n",
       "      <td>t</td>\n",
       "      <td>o</td>\n",
       "      <td>f</td>\n",
       "      <td>NaN</td>\n",
       "      <td>c</td>\n",
       "      <td>y</td>\n",
       "      <td>1.27</td>\n",
       "      <td>...</td>\n",
       "      <td>NaN</td>\n",
       "      <td>NaN</td>\n",
       "      <td>n</td>\n",
       "      <td>NaN</td>\n",
       "      <td>NaN</td>\n",
       "      <td>f</td>\n",
       "      <td>f</td>\n",
       "      <td>NaN</td>\n",
       "      <td>d</td>\n",
       "      <td>a</td>\n",
       "    </tr>\n",
       "    <tr>\n",
       "      <th>2</th>\n",
       "      <td>3116947</td>\n",
       "      <td>2.00</td>\n",
       "      <td>b</td>\n",
       "      <td>g</td>\n",
       "      <td>n</td>\n",
       "      <td>f</td>\n",
       "      <td>NaN</td>\n",
       "      <td>c</td>\n",
       "      <td>n</td>\n",
       "      <td>6.18</td>\n",
       "      <td>...</td>\n",
       "      <td>NaN</td>\n",
       "      <td>NaN</td>\n",
       "      <td>n</td>\n",
       "      <td>NaN</td>\n",
       "      <td>NaN</td>\n",
       "      <td>f</td>\n",
       "      <td>f</td>\n",
       "      <td>NaN</td>\n",
       "      <td>d</td>\n",
       "      <td>s</td>\n",
       "    </tr>\n",
       "    <tr>\n",
       "      <th>3</th>\n",
       "      <td>3116948</td>\n",
       "      <td>3.47</td>\n",
       "      <td>x</td>\n",
       "      <td>t</td>\n",
       "      <td>n</td>\n",
       "      <td>f</td>\n",
       "      <td>s</td>\n",
       "      <td>c</td>\n",
       "      <td>n</td>\n",
       "      <td>4.98</td>\n",
       "      <td>...</td>\n",
       "      <td>NaN</td>\n",
       "      <td>NaN</td>\n",
       "      <td>w</td>\n",
       "      <td>NaN</td>\n",
       "      <td>n</td>\n",
       "      <td>t</td>\n",
       "      <td>z</td>\n",
       "      <td>NaN</td>\n",
       "      <td>d</td>\n",
       "      <td>u</td>\n",
       "    </tr>\n",
       "    <tr>\n",
       "      <th>4</th>\n",
       "      <td>3116949</td>\n",
       "      <td>6.17</td>\n",
       "      <td>x</td>\n",
       "      <td>h</td>\n",
       "      <td>y</td>\n",
       "      <td>f</td>\n",
       "      <td>p</td>\n",
       "      <td>NaN</td>\n",
       "      <td>y</td>\n",
       "      <td>6.73</td>\n",
       "      <td>...</td>\n",
       "      <td>NaN</td>\n",
       "      <td>NaN</td>\n",
       "      <td>y</td>\n",
       "      <td>NaN</td>\n",
       "      <td>y</td>\n",
       "      <td>t</td>\n",
       "      <td>NaN</td>\n",
       "      <td>NaN</td>\n",
       "      <td>d</td>\n",
       "      <td>u</td>\n",
       "    </tr>\n",
       "  </tbody>\n",
       "</table>\n",
       "<p>5 rows × 21 columns</p>\n",
       "</div>"
      ],
      "text/plain": [
       "        id  cap-diameter cap-shape cap-surface cap-color does-bruise-or-bleed  \\\n",
       "0  3116945          8.64         x         NaN         n                    t   \n",
       "1  3116946          6.90         o           t         o                    f   \n",
       "2  3116947          2.00         b           g         n                    f   \n",
       "3  3116948          3.47         x           t         n                    f   \n",
       "4  3116949          6.17         x           h         y                    f   \n",
       "\n",
       "  gill-attachment gill-spacing gill-color  stem-height  ...  stem-root  \\\n",
       "0             NaN          NaN          w        11.13  ...          b   \n",
       "1             NaN            c          y         1.27  ...        NaN   \n",
       "2             NaN            c          n         6.18  ...        NaN   \n",
       "3               s            c          n         4.98  ...        NaN   \n",
       "4               p          NaN          y         6.73  ...        NaN   \n",
       "\n",
       "  stem-surface stem-color veil-type veil-color has-ring ring-type  \\\n",
       "0          NaN          w         u          w        t         g   \n",
       "1          NaN          n       NaN        NaN        f         f   \n",
       "2          NaN          n       NaN        NaN        f         f   \n",
       "3          NaN          w       NaN          n        t         z   \n",
       "4          NaN          y       NaN          y        t       NaN   \n",
       "\n",
       "  spore-print-color habitat season  \n",
       "0               NaN       d      a  \n",
       "1               NaN       d      a  \n",
       "2               NaN       d      s  \n",
       "3               NaN       d      u  \n",
       "4               NaN       d      u  \n",
       "\n",
       "[5 rows x 21 columns]"
      ]
     },
     "execution_count": 4,
     "metadata": {},
     "output_type": "execute_result"
    }
   ],
   "source": [
    "test_df.head()"
   ]
  },
  {
   "cell_type": "code",
   "execution_count": 5,
   "id": "71cd09e4",
   "metadata": {
    "execution": {
     "iopub.execute_input": "2024-08-01T11:44:09.914141Z",
     "iopub.status.busy": "2024-08-01T11:44:09.913369Z",
     "iopub.status.idle": "2024-08-01T11:44:09.936712Z",
     "shell.execute_reply": "2024-08-01T11:44:09.935349Z"
    },
    "papermill": {
     "duration": 0.039188,
     "end_time": "2024-08-01T11:44:09.939706",
     "exception": false,
     "start_time": "2024-08-01T11:44:09.900518",
     "status": "completed"
    },
    "tags": []
   },
   "outputs": [],
   "source": [
    "save_train_preds = train_df[['id']]\n",
    "test_preds = test_df[['id']]"
   ]
  },
  {
   "cell_type": "code",
   "execution_count": 6,
   "id": "fd204913",
   "metadata": {
    "execution": {
     "iopub.execute_input": "2024-08-01T11:44:09.965432Z",
     "iopub.status.busy": "2024-08-01T11:44:09.965008Z",
     "iopub.status.idle": "2024-08-01T11:44:09.976109Z",
     "shell.execute_reply": "2024-08-01T11:44:09.974801Z"
    },
    "papermill": {
     "duration": 0.027295,
     "end_time": "2024-08-01T11:44:09.978778",
     "exception": false,
     "start_time": "2024-08-01T11:44:09.951483",
     "status": "completed"
    },
    "tags": []
   },
   "outputs": [
    {
     "data": {
      "text/html": [
       "<div>\n",
       "<style scoped>\n",
       "    .dataframe tbody tr th:only-of-type {\n",
       "        vertical-align: middle;\n",
       "    }\n",
       "\n",
       "    .dataframe tbody tr th {\n",
       "        vertical-align: top;\n",
       "    }\n",
       "\n",
       "    .dataframe thead th {\n",
       "        text-align: right;\n",
       "    }\n",
       "</style>\n",
       "<table border=\"1\" class=\"dataframe\">\n",
       "  <thead>\n",
       "    <tr style=\"text-align: right;\">\n",
       "      <th></th>\n",
       "      <th>id</th>\n",
       "      <th>class</th>\n",
       "    </tr>\n",
       "  </thead>\n",
       "  <tbody>\n",
       "    <tr>\n",
       "      <th>0</th>\n",
       "      <td>3116945</td>\n",
       "      <td>e</td>\n",
       "    </tr>\n",
       "    <tr>\n",
       "      <th>1</th>\n",
       "      <td>3116946</td>\n",
       "      <td>e</td>\n",
       "    </tr>\n",
       "    <tr>\n",
       "      <th>2</th>\n",
       "      <td>3116947</td>\n",
       "      <td>e</td>\n",
       "    </tr>\n",
       "    <tr>\n",
       "      <th>3</th>\n",
       "      <td>3116948</td>\n",
       "      <td>e</td>\n",
       "    </tr>\n",
       "    <tr>\n",
       "      <th>4</th>\n",
       "      <td>3116949</td>\n",
       "      <td>e</td>\n",
       "    </tr>\n",
       "  </tbody>\n",
       "</table>\n",
       "</div>"
      ],
      "text/plain": [
       "        id class\n",
       "0  3116945     e\n",
       "1  3116946     e\n",
       "2  3116947     e\n",
       "3  3116948     e\n",
       "4  3116949     e"
      ]
     },
     "execution_count": 6,
     "metadata": {},
     "output_type": "execute_result"
    }
   ],
   "source": [
    "submission_df.head()"
   ]
  },
  {
   "cell_type": "code",
   "execution_count": 7,
   "id": "95efaec1",
   "metadata": {
    "execution": {
     "iopub.execute_input": "2024-08-01T11:44:10.004944Z",
     "iopub.status.busy": "2024-08-01T11:44:10.004201Z",
     "iopub.status.idle": "2024-08-01T11:44:19.418785Z",
     "shell.execute_reply": "2024-08-01T11:44:19.417325Z"
    },
    "papermill": {
     "duration": 9.430799,
     "end_time": "2024-08-01T11:44:19.421586",
     "exception": false,
     "start_time": "2024-08-01T11:44:09.990787",
     "status": "completed"
    },
    "tags": []
   },
   "outputs": [
    {
     "name": "stdout",
     "output_type": "stream",
     "text": [
      "train_df shape: (3116945, 22)\n",
      "train_df shape after dropping duplicates: (3116945, 22)\n",
      "test_df shape: (2077964, 21)\n",
      "submission_df shape: (2077964, 2)\n"
     ]
    }
   ],
   "source": [
    "print(\"train_df shape:\", train_df.shape)\n",
    "print(\"train_df shape after dropping duplicates:\", train_df.drop_duplicates().shape)\n",
    "print(\"test_df shape:\", test_df.shape)\n",
    "print(\"submission_df shape:\", submission_df.shape)"
   ]
  },
  {
   "cell_type": "code",
   "execution_count": 8,
   "id": "caea0574",
   "metadata": {
    "execution": {
     "iopub.execute_input": "2024-08-01T11:44:19.448529Z",
     "iopub.status.busy": "2024-08-01T11:44:19.447554Z",
     "iopub.status.idle": "2024-08-01T11:44:24.499784Z",
     "shell.execute_reply": "2024-08-01T11:44:24.498440Z"
    },
    "papermill": {
     "duration": 5.068631,
     "end_time": "2024-08-01T11:44:24.502468",
     "exception": false,
     "start_time": "2024-08-01T11:44:19.433837",
     "status": "completed"
    },
    "tags": []
   },
   "outputs": [
    {
     "data": {
      "text/plain": [
       "id                            0\n",
       "class                         0\n",
       "cap-diameter                  4\n",
       "cap-shape                    40\n",
       "cap-surface              671023\n",
       "cap-color                    12\n",
       "does-bruise-or-bleed          8\n",
       "gill-attachment          523936\n",
       "gill-spacing            1258435\n",
       "gill-color                   57\n",
       "stem-height                   0\n",
       "stem-width                    0\n",
       "stem-root               2757023\n",
       "stem-surface            1980861\n",
       "stem-color                   38\n",
       "veil-type               2957493\n",
       "veil-color              2740947\n",
       "has-ring                     24\n",
       "ring-type                128880\n",
       "spore-print-color       2849682\n",
       "habitat                      45\n",
       "season                        0\n",
       "dtype: int64"
      ]
     },
     "execution_count": 8,
     "metadata": {},
     "output_type": "execute_result"
    }
   ],
   "source": [
    "train_df.isnull().sum()"
   ]
  },
  {
   "cell_type": "code",
   "execution_count": 9,
   "id": "1a3e7ac1",
   "metadata": {
    "execution": {
     "iopub.execute_input": "2024-08-01T11:44:24.529629Z",
     "iopub.status.busy": "2024-08-01T11:44:24.529209Z",
     "iopub.status.idle": "2024-08-01T11:44:24.534277Z",
     "shell.execute_reply": "2024-08-01T11:44:24.533178Z"
    },
    "papermill": {
     "duration": 0.021699,
     "end_time": "2024-08-01T11:44:24.536897",
     "exception": false,
     "start_time": "2024-08-01T11:44:24.515198",
     "status": "completed"
    },
    "tags": []
   },
   "outputs": [],
   "source": [
    "# # Find the features with more than 65 percent null values\n",
    "# threshold = 0.65\n",
    "# columns_to_drop = train_df.columns[train_df.isnull().mean() > threshold].tolist()\n",
    "# columns_to_drop += ['id']\n",
    "# print(columns_to_drop)"
   ]
  },
  {
   "cell_type": "code",
   "execution_count": 10,
   "id": "4c6012b9",
   "metadata": {
    "execution": {
     "iopub.execute_input": "2024-08-01T11:44:24.563484Z",
     "iopub.status.busy": "2024-08-01T11:44:24.563034Z",
     "iopub.status.idle": "2024-08-01T11:44:24.567982Z",
     "shell.execute_reply": "2024-08-01T11:44:24.566822Z"
    },
    "papermill": {
     "duration": 0.021203,
     "end_time": "2024-08-01T11:44:24.570451",
     "exception": false,
     "start_time": "2024-08-01T11:44:24.549248",
     "status": "completed"
    },
    "tags": []
   },
   "outputs": [],
   "source": [
    "# # Drop the unnecessary columns\n",
    "# train_df.drop(columns_to_drop, axis = 1, inplace = True)\n",
    "# test_df.drop(columns_to_drop, axis = 1, inplace = True)"
   ]
  },
  {
   "cell_type": "code",
   "execution_count": 11,
   "id": "77fab0b2",
   "metadata": {
    "execution": {
     "iopub.execute_input": "2024-08-01T11:44:24.597460Z",
     "iopub.status.busy": "2024-08-01T11:44:24.596458Z",
     "iopub.status.idle": "2024-08-01T11:44:24.602527Z",
     "shell.execute_reply": "2024-08-01T11:44:24.601366Z"
    },
    "papermill": {
     "duration": 0.022804,
     "end_time": "2024-08-01T11:44:24.605581",
     "exception": false,
     "start_time": "2024-08-01T11:44:24.582777",
     "status": "completed"
    },
    "tags": []
   },
   "outputs": [
    {
     "name": "stdout",
     "output_type": "stream",
     "text": [
      "train_df shape: (3116945, 22)\n",
      "test_df shape: (2077964, 21)\n"
     ]
    }
   ],
   "source": [
    "print(\"train_df shape:\", train_df.shape)\n",
    "print(\"test_df shape:\", test_df.shape)"
   ]
  },
  {
   "cell_type": "code",
   "execution_count": 12,
   "id": "f0428c76",
   "metadata": {
    "execution": {
     "iopub.execute_input": "2024-08-01T11:44:24.632720Z",
     "iopub.status.busy": "2024-08-01T11:44:24.632279Z",
     "iopub.status.idle": "2024-08-01T11:44:25.411504Z",
     "shell.execute_reply": "2024-08-01T11:44:25.410283Z"
    },
    "papermill": {
     "duration": 0.796175,
     "end_time": "2024-08-01T11:44:25.414233",
     "exception": false,
     "start_time": "2024-08-01T11:44:24.618058",
     "status": "completed"
    },
    "tags": []
   },
   "outputs": [
    {
     "data": {
      "image/png": "[encoded data removed]",
      "text/plain": [
       "<Figure size 1000x600 with 1 Axes>"
      ]
     },
     "metadata": {},
     "output_type": "display_data"
    }
   ],
   "source": [
    "# Get the value counts\n",
    "class_counts = train_df['class'].value_counts()\n",
    "\n",
    "# Plot the bar graph\n",
    "plt.figure(figsize=(10, 6))\n",
    "colors = sns.color_palette('Set1', len(class_counts))\n",
    "class_counts.plot(kind='bar', color=colors)\n",
    "plt.title('Class Distribution in train_df')\n",
    "plt.xlabel('Class')\n",
    "plt.ylabel('Frequency')\n",
    "plt.xticks(rotation=0)\n",
    "plt.ticklabel_format(style='plain', axis='y')\n",
    "plt.show()"
   ]
  },
  {
   "cell_type": "code",
   "execution_count": 13,
   "id": "7e7c993d",
   "metadata": {
    "execution": {
     "iopub.execute_input": "2024-08-01T11:44:25.441983Z",
     "iopub.status.busy": "2024-08-01T11:44:25.441536Z",
     "iopub.status.idle": "2024-08-01T11:44:27.722529Z",
     "shell.execute_reply": "2024-08-01T11:44:27.721469Z"
    },
    "papermill": {
     "duration": 2.298401,
     "end_time": "2024-08-01T11:44:27.725587",
     "exception": false,
     "start_time": "2024-08-01T11:44:25.427186",
     "status": "completed"
    },
    "tags": []
   },
   "outputs": [
    {
     "name": "stderr",
     "output_type": "stream",
     "text": [
      "/tmp/ipykernel_18/931270434.py:4: FutureWarning: Downcasting behavior in `replace` is deprecated and will be removed in a future version. To retain the old behavior, explicitly call `result.infer_objects(copy=False)`. To opt-in to the future behavior, set `pd.set_option('future.no_silent_downcasting', True)`\n",
      "  train_df['class'] = train_df['class'].replace(replace_map)\n"
     ]
    }
   ],
   "source": [
    "# Label encoding\n",
    "replace_map = {'e': 0, 'p': 1}\n",
    "\n",
    "train_df['class'] = train_df['class'].replace(replace_map)"
   ]
  },
  {
   "cell_type": "code",
   "execution_count": 14,
   "id": "adb9e1aa",
   "metadata": {
    "execution": {
     "iopub.execute_input": "2024-08-01T11:44:27.754461Z",
     "iopub.status.busy": "2024-08-01T11:44:27.753603Z",
     "iopub.status.idle": "2024-08-01T11:44:27.793095Z",
     "shell.execute_reply": "2024-08-01T11:44:27.791896Z"
    },
    "papermill": {
     "duration": 0.056673,
     "end_time": "2024-08-01T11:44:27.795748",
     "exception": false,
     "start_time": "2024-08-01T11:44:27.739075",
     "status": "completed"
    },
    "tags": []
   },
   "outputs": [
    {
     "data": {
      "text/plain": [
       "class\n",
       "1    1705396\n",
       "0    1411549\n",
       "Name: count, dtype: int64"
      ]
     },
     "execution_count": 14,
     "metadata": {},
     "output_type": "execute_result"
    }
   ],
   "source": [
    "# Class distribution\n",
    "train_df['class'].value_counts()"
   ]
  },
  {
   "cell_type": "code",
   "execution_count": 15,
   "id": "71c7bbf9",
   "metadata": {
    "execution": {
     "iopub.execute_input": "2024-08-01T11:44:27.823889Z",
     "iopub.status.busy": "2024-08-01T11:44:27.823487Z",
     "iopub.status.idle": "2024-08-01T11:44:31.140689Z",
     "shell.execute_reply": "2024-08-01T11:44:31.139454Z"
    },
    "papermill": {
     "duration": 3.33458,
     "end_time": "2024-08-01T11:44:31.143663",
     "exception": false,
     "start_time": "2024-08-01T11:44:27.809083",
     "status": "completed"
    },
    "tags": []
   },
   "outputs": [
    {
     "name": "stdout",
     "output_type": "stream",
     "text": [
      "[]\n"
     ]
    }
   ],
   "source": [
    "# Find the categorical variables with two unique values\n",
    "binary_categorical_columns = [col for col in train_df.select_dtypes(include=['object', 'category']).columns \n",
    "                              if train_df[col].nunique() == 2]\n",
    "\n",
    "print(binary_categorical_columns)"
   ]
  },
  {
   "cell_type": "code",
   "execution_count": 16,
   "id": "be696ca7",
   "metadata": {
    "execution": {
     "iopub.execute_input": "2024-08-01T11:44:31.172562Z",
     "iopub.status.busy": "2024-08-01T11:44:31.172112Z",
     "iopub.status.idle": "2024-08-01T11:44:35.021677Z",
     "shell.execute_reply": "2024-08-01T11:44:35.020161Z"
    },
    "papermill": {
     "duration": 3.869025,
     "end_time": "2024-08-01T11:44:35.026449",
     "exception": false,
     "start_time": "2024-08-01T11:44:31.157424",
     "status": "completed"
    },
    "tags": []
   },
   "outputs": [
    {
     "data": {
      "image/png": "[encoded data removed]",
      "text/plain": [
       "<Figure size 1200x800 with 1 Axes>"
      ]
     },
     "metadata": {},
     "output_type": "display_data"
    }
   ],
   "source": [
    "# Get categorical columns\n",
    "categorical_columns = train_df.select_dtypes(include=['object', 'category']).columns.tolist()\n",
    "\n",
    "# Count unique categories in each categorical column\n",
    "unique_categories_count = {col: train_df[col].nunique() for col in categorical_columns}\n",
    "\n",
    "# Create a data frame for plotting\n",
    "unique_categories_df = pd.DataFrame(list(unique_categories_count.items()), columns=['Column', 'Unique Categories'])\n",
    "\n",
    "# Sort the data frame by 'Unique Categories' in descending order\n",
    "unique_categories_df.sort_values(by='Unique Categories', ascending=False, inplace=True)\n",
    "\n",
    "# Plot\n",
    "plt.figure(figsize=(12, 8))\n",
    "sns.barplot(x='Unique Categories', y='Column', data=unique_categories_df, palette='viridis')\n",
    "plt.title('Number of Unique Categories in Categorical Columns')\n",
    "plt.xlabel('Number of Unique Categories')\n",
    "plt.ylabel('Categorical Columns')\n",
    "plt.grid(axis='x', linestyle='--', alpha=0.7)\n",
    "plt.show()"
   ]
  },
  {
   "cell_type": "code",
   "execution_count": 17,
   "id": "b1543c8f",
   "metadata": {
    "execution": {
     "iopub.execute_input": "2024-08-01T11:44:35.063045Z",
     "iopub.status.busy": "2024-08-01T11:44:35.062531Z",
     "iopub.status.idle": "2024-08-01T11:45:22.954871Z",
     "shell.execute_reply": "2024-08-01T11:45:22.953475Z"
    },
    "papermill": {
     "duration": 47.912515,
     "end_time": "2024-08-01T11:45:22.958295",
     "exception": false,
     "start_time": "2024-08-01T11:44:35.045780",
     "status": "completed"
    },
    "tags": []
   },
   "outputs": [],
   "source": [
    "# Identify categorical variables based on data types\n",
    "categorical_columns = train_df.select_dtypes(include=['object', 'category']).columns.tolist()\n",
    "\n",
    "# Convert string values to lowercase\n",
    "train_df[categorical_columns] = train_df[categorical_columns].map(lambda x: x.lower() if isinstance(x, str) else x)\n",
    "test_df[categorical_columns] = test_df[categorical_columns].map(lambda x: x.lower() if isinstance(x, str) else x)"
   ]
  },
  {
   "cell_type": "code",
   "execution_count": 18,
   "id": "b266fa13",
   "metadata": {
    "execution": {
     "iopub.execute_input": "2024-08-01T11:45:22.989468Z",
     "iopub.status.busy": "2024-08-01T11:45:22.989024Z",
     "iopub.status.idle": "2024-08-01T11:45:43.265360Z",
     "shell.execute_reply": "2024-08-01T11:45:43.263971Z"
    },
    "papermill": {
     "duration": 20.295241,
     "end_time": "2024-08-01T11:45:43.268398",
     "exception": false,
     "start_time": "2024-08-01T11:45:22.973157",
     "status": "completed"
    },
    "tags": []
   },
   "outputs": [],
   "source": [
    "# Convert the data types to 'category'\n",
    "train_df[categorical_columns] = train_df[categorical_columns].astype('category')\n",
    "test_df[categorical_columns] = test_df[categorical_columns].astype('category')"
   ]
  },
  {
   "cell_type": "markdown",
   "id": "e8f9e7aa",
   "metadata": {
    "papermill": {
     "duration": 0.014344,
     "end_time": "2024-08-01T11:45:43.297338",
     "exception": false,
     "start_time": "2024-08-01T11:45:43.282994",
     "status": "completed"
    },
    "tags": []
   },
   "source": [
    "<center>\n",
    "    <div style=\"font-size: 18px; font-weight: bold; color: #8e44ad; border-bottom: 2px solid #f39c12; padding-bottom: 5px; margin-bottom: 15px;\">\n",
    "        Split the Training Set into Features and Target\n",
    "    </div>\n",
    "</center>"
   ]
  },
  {
   "cell_type": "code",
   "execution_count": 19,
   "id": "f158fbc8",
   "metadata": {
    "execution": {
     "iopub.execute_input": "2024-08-01T11:45:43.329159Z",
     "iopub.status.busy": "2024-08-01T11:45:43.328770Z",
     "iopub.status.idle": "2024-08-01T11:45:43.373568Z",
     "shell.execute_reply": "2024-08-01T11:45:43.372208Z"
    },
    "papermill": {
     "duration": 0.064722,
     "end_time": "2024-08-01T11:45:43.376807",
     "exception": false,
     "start_time": "2024-08-01T11:45:43.312085",
     "status": "completed"
    },
    "tags": []
   },
   "outputs": [],
   "source": [
    "# Split the training set into features and target\n",
    "X = train_df.drop('class', axis = 1)\n",
    "y = train_df['class']"
   ]
  },
  {
   "cell_type": "markdown",
   "id": "28dc4936",
   "metadata": {
    "papermill": {
     "duration": 0.014253,
     "end_time": "2024-08-01T11:45:43.406230",
     "exception": false,
     "start_time": "2024-08-01T11:45:43.391977",
     "status": "completed"
    },
    "tags": []
   },
   "source": [
    "<center><div style=\"font-size: 24px; font-weight: bold; color: #2c3e50; border-bottom: 2px solid #3498db; padding-bottom: 5px; margin-bottom: 15px;\">\n",
    "    Training and Validating the Model\n",
    "</div></center>"
   ]
  },
  {
   "cell_type": "code",
   "execution_count": 20,
   "id": "56d78a3c",
   "metadata": {
    "execution": {
     "iopub.execute_input": "2024-08-01T11:45:43.438644Z",
     "iopub.status.busy": "2024-08-01T11:45:43.438203Z",
     "iopub.status.idle": "2024-08-01T11:45:43.454604Z",
     "shell.execute_reply": "2024-08-01T11:45:43.453330Z"
    },
    "papermill": {
     "duration": 0.036357,
     "end_time": "2024-08-01T11:45:43.457755",
     "exception": false,
     "start_time": "2024-08-01T11:45:43.421398",
     "status": "completed"
    },
    "tags": []
   },
   "outputs": [],
   "source": [
    "# Number of folds for cross-validation\n",
    "n_folds = 5\n",
    "\n",
    "# Initialize stratified k-fold\n",
    "skf = StratifiedKFold(n_splits=n_folds, shuffle=True, random_state=142)\n",
    "\n",
    "# Initialize lists to store scores and models\n",
    "train_auc_scores = []\n",
    "valid_auc_scores = []\n",
    "models = []\n",
    "\n",
    "# Initialize array to store test predictions\n",
    "oof_predictions = np.zeros(len(train_df))\n",
    "test_predictions = np.zeros(len(test_df))\n",
    "\n",
    "# LightGBM parameters\n",
    "if is_available():\n",
    "    # If GPU is available\n",
    "    params = {\n",
    "        'objective': 'binary',\n",
    "        'metric': 'auc',\n",
    "        'random_state': 142,\n",
    "        'boosting_type': 'gbdt',\n",
    "        'num_leaves': 31,\n",
    "        'learning_rate': 0.05,\n",
    "        'feature_fraction': 0.9,\n",
    "        'verbose': -1,\n",
    "        'device': 'gpu',\n",
    "        'gpu_use_dp': True\n",
    "    }\n",
    "else:\n",
    "    params = {\n",
    "        'objective': 'binary',\n",
    "        'metric': 'auc',\n",
    "        'random_state': 142,\n",
    "        'boosting_type': 'gbdt',\n",
    "        'num_leaves': 31,\n",
    "        'learning_rate': 0.05,\n",
    "        'feature_fraction': 0.9,\n",
    "        'verbose': -1,\n",
    "    }\n"
   ]
  },
  {
   "cell_type": "code",
   "execution_count": 21,
   "id": "fbc3afa6",
   "metadata": {
    "execution": {
     "iopub.execute_input": "2024-08-01T11:45:43.489205Z",
     "iopub.status.busy": "2024-08-01T11:45:43.488250Z",
     "iopub.status.idle": "2024-08-01T13:28:29.159783Z",
     "shell.execute_reply": "2024-08-01T13:28:29.158109Z"
    },
    "papermill": {
     "duration": 6165.718965,
     "end_time": "2024-08-01T13:28:29.191139",
     "exception": false,
     "start_time": "2024-08-01T11:45:43.472174",
     "status": "completed"
    },
    "tags": []
   },
   "outputs": [
    {
     "data": {
      "application/vnd.jupyter.widget-view+json": {
       "model_id": "4e873721bc7240428e4446fb990a9dd8",
       "version_major": 2,
       "version_minor": 0
      },
      "text/plain": [
       "Cross-Validation:   0%|          | 0/5 [00:00<?, ?it/s]"
      ]
     },
     "metadata": {},
     "output_type": "display_data"
    },
    {
     "name": "stdout",
     "output_type": "stream",
     "text": [
      "Fold 1\n",
      "Training until validation scores don't improve for 500 rounds\n",
      "[100]\ttraining's auc: 0.996169\tvalid_1's auc: 0.996202\n",
      "[200]\ttraining's auc: 0.99668\tvalid_1's auc: 0.99662\n",
      "[300]\ttraining's auc: 0.996966\tvalid_1's auc: 0.996798\n",
      "[400]\ttraining's auc: 0.997217\tvalid_1's auc: 0.996904\n",
      "[500]\ttraining's auc: 0.997412\tvalid_1's auc: 0.99698\n",
      "[600]\ttraining's auc: 0.997585\tvalid_1's auc: 0.99704\n",
      "[700]\ttraining's auc: 0.997724\tvalid_1's auc: 0.997077\n",
      "[800]\ttraining's auc: 0.997847\tvalid_1's auc: 0.997107\n",
      "[900]\ttraining's auc: 0.997946\tvalid_1's auc: 0.997115\n",
      "[1000]\ttraining's auc: 0.998052\tvalid_1's auc: 0.997121\n",
      "[1100]\ttraining's auc: 0.998146\tvalid_1's auc: 0.997131\n",
      "[1200]\ttraining's auc: 0.998237\tvalid_1's auc: 0.997136\n",
      "[1300]\ttraining's auc: 0.99832\tvalid_1's auc: 0.997141\n",
      "[1400]\ttraining's auc: 0.998396\tvalid_1's auc: 0.99714\n",
      "[1500]\ttraining's auc: 0.998474\tvalid_1's auc: 0.997141\n",
      "[1600]\ttraining's auc: 0.998547\tvalid_1's auc: 0.99714\n",
      "[1700]\ttraining's auc: 0.998609\tvalid_1's auc: 0.997141\n",
      "[1800]\ttraining's auc: 0.998661\tvalid_1's auc: 0.997143\n",
      "[1900]\ttraining's auc: 0.998718\tvalid_1's auc: 0.997143\n",
      "[2000]\ttraining's auc: 0.998783\tvalid_1's auc: 0.997142\n",
      "[2100]\ttraining's auc: 0.998834\tvalid_1's auc: 0.997141\n",
      "[2200]\ttraining's auc: 0.998876\tvalid_1's auc: 0.997139\n",
      "[2300]\ttraining's auc: 0.998924\tvalid_1's auc: 0.997138\n",
      "Early stopping, best iteration is:\n",
      "[1815]\ttraining's auc: 0.998671\tvalid_1's auc: 0.997145\n",
      "\n",
      "Fold 2\n",
      "Training until validation scores don't improve for 500 rounds\n",
      "[100]\ttraining's auc: 0.996109\tvalid_1's auc: 0.996205\n",
      "[200]\ttraining's auc: 0.996616\tvalid_1's auc: 0.996694\n",
      "[300]\ttraining's auc: 0.99693\tvalid_1's auc: 0.996916\n",
      "[400]\ttraining's auc: 0.997201\tvalid_1's auc: 0.997031\n",
      "[500]\ttraining's auc: 0.997385\tvalid_1's auc: 0.997089\n",
      "[600]\ttraining's auc: 0.997534\tvalid_1's auc: 0.997136\n",
      "[700]\ttraining's auc: 0.997678\tvalid_1's auc: 0.997184\n",
      "[800]\ttraining's auc: 0.997806\tvalid_1's auc: 0.997218\n",
      "[900]\ttraining's auc: 0.997915\tvalid_1's auc: 0.997224\n",
      "[1000]\ttraining's auc: 0.998026\tvalid_1's auc: 0.997247\n",
      "[1100]\ttraining's auc: 0.998122\tvalid_1's auc: 0.997257\n",
      "[1200]\ttraining's auc: 0.998209\tvalid_1's auc: 0.997267\n",
      "[1300]\ttraining's auc: 0.998289\tvalid_1's auc: 0.997272\n",
      "[1400]\ttraining's auc: 0.998365\tvalid_1's auc: 0.997279\n",
      "[1500]\ttraining's auc: 0.99843\tvalid_1's auc: 0.997277\n",
      "[1600]\ttraining's auc: 0.998511\tvalid_1's auc: 0.997275\n",
      "[1700]\ttraining's auc: 0.998574\tvalid_1's auc: 0.997275\n",
      "[1800]\ttraining's auc: 0.99864\tvalid_1's auc: 0.997273\n",
      "[1900]\ttraining's auc: 0.998702\tvalid_1's auc: 0.997275\n",
      "Early stopping, best iteration is:\n",
      "[1415]\ttraining's auc: 0.998376\tvalid_1's auc: 0.99728\n",
      "\n",
      "Fold 3\n",
      "Training until validation scores don't improve for 500 rounds\n",
      "[100]\ttraining's auc: 0.996171\tvalid_1's auc: 0.996085\n",
      "[200]\ttraining's auc: 0.996714\tvalid_1's auc: 0.996602\n",
      "[300]\ttraining's auc: 0.996979\tvalid_1's auc: 0.996802\n",
      "[400]\ttraining's auc: 0.997259\tvalid_1's auc: 0.996924\n",
      "[500]\ttraining's auc: 0.997446\tvalid_1's auc: 0.997005\n",
      "[600]\ttraining's auc: 0.997591\tvalid_1's auc: 0.997043\n",
      "[700]\ttraining's auc: 0.997724\tvalid_1's auc: 0.99706\n",
      "[800]\ttraining's auc: 0.997856\tvalid_1's auc: 0.997087\n",
      "[900]\ttraining's auc: 0.997957\tvalid_1's auc: 0.997104\n",
      "[1000]\ttraining's auc: 0.998057\tvalid_1's auc: 0.997111\n",
      "[1100]\ttraining's auc: 0.998154\tvalid_1's auc: 0.997115\n",
      "[1200]\ttraining's auc: 0.998239\tvalid_1's auc: 0.997125\n",
      "[1300]\ttraining's auc: 0.998317\tvalid_1's auc: 0.997133\n",
      "[1400]\ttraining's auc: 0.998392\tvalid_1's auc: 0.997137\n",
      "[1500]\ttraining's auc: 0.998468\tvalid_1's auc: 0.997139\n",
      "[1600]\ttraining's auc: 0.998543\tvalid_1's auc: 0.997136\n",
      "[1700]\ttraining's auc: 0.998603\tvalid_1's auc: 0.997135\n",
      "[1800]\ttraining's auc: 0.998668\tvalid_1's auc: 0.997136\n",
      "[1900]\ttraining's auc: 0.998724\tvalid_1's auc: 0.997136\n",
      "Early stopping, best iteration is:\n",
      "[1475]\ttraining's auc: 0.99845\tvalid_1's auc: 0.997141\n",
      "\n",
      "Fold 4\n",
      "Training until validation scores don't improve for 500 rounds\n",
      "[100]\ttraining's auc: 0.996158\tvalid_1's auc: 0.996035\n",
      "[200]\ttraining's auc: 0.996662\tvalid_1's auc: 0.996521\n",
      "[300]\ttraining's auc: 0.996955\tvalid_1's auc: 0.996749\n",
      "[400]\ttraining's auc: 0.997211\tvalid_1's auc: 0.996846\n",
      "[500]\ttraining's auc: 0.997413\tvalid_1's auc: 0.996952\n",
      "[600]\ttraining's auc: 0.997581\tvalid_1's auc: 0.997001\n",
      "[700]\ttraining's auc: 0.997724\tvalid_1's auc: 0.997028\n",
      "[800]\ttraining's auc: 0.997848\tvalid_1's auc: 0.997057\n",
      "[900]\ttraining's auc: 0.997953\tvalid_1's auc: 0.997078\n",
      "[1000]\ttraining's auc: 0.998054\tvalid_1's auc: 0.997086\n",
      "[1100]\ttraining's auc: 0.998138\tvalid_1's auc: 0.997097\n",
      "[1200]\ttraining's auc: 0.998227\tvalid_1's auc: 0.997104\n",
      "[1300]\ttraining's auc: 0.998307\tvalid_1's auc: 0.997111\n",
      "[1400]\ttraining's auc: 0.998387\tvalid_1's auc: 0.997112\n",
      "[1500]\ttraining's auc: 0.998455\tvalid_1's auc: 0.997109\n",
      "[1600]\ttraining's auc: 0.998519\tvalid_1's auc: 0.997107\n",
      "[1700]\ttraining's auc: 0.99858\tvalid_1's auc: 0.997103\n",
      "[1800]\ttraining's auc: 0.998639\tvalid_1's auc: 0.997106\n",
      "[1900]\ttraining's auc: 0.998695\tvalid_1's auc: 0.997107\n",
      "Early stopping, best iteration is:\n",
      "[1463]\ttraining's auc: 0.99843\tvalid_1's auc: 0.997113\n",
      "\n",
      "Fold 5\n",
      "Training until validation scores don't improve for 500 rounds\n",
      "[100]\ttraining's auc: 0.996122\tvalid_1's auc: 0.996115\n",
      "[200]\ttraining's auc: 0.99667\tvalid_1's auc: 0.996618\n",
      "[300]\ttraining's auc: 0.997004\tvalid_1's auc: 0.996835\n",
      "[400]\ttraining's auc: 0.997262\tvalid_1's auc: 0.996933\n",
      "[500]\ttraining's auc: 0.99746\tvalid_1's auc: 0.996991\n",
      "[600]\ttraining's auc: 0.997624\tvalid_1's auc: 0.997027\n",
      "[700]\ttraining's auc: 0.997774\tvalid_1's auc: 0.997046\n",
      "[800]\ttraining's auc: 0.997893\tvalid_1's auc: 0.997059\n",
      "[900]\ttraining's auc: 0.997989\tvalid_1's auc: 0.997073\n",
      "[1000]\ttraining's auc: 0.998092\tvalid_1's auc: 0.997086\n",
      "[1100]\ttraining's auc: 0.998183\tvalid_1's auc: 0.997096\n",
      "[1200]\ttraining's auc: 0.998264\tvalid_1's auc: 0.997099\n",
      "[1300]\ttraining's auc: 0.998348\tvalid_1's auc: 0.997106\n",
      "[1400]\ttraining's auc: 0.998427\tvalid_1's auc: 0.997117\n",
      "[1500]\ttraining's auc: 0.998499\tvalid_1's auc: 0.997118\n",
      "[1600]\ttraining's auc: 0.998565\tvalid_1's auc: 0.99711\n",
      "[1700]\ttraining's auc: 0.998628\tvalid_1's auc: 0.997109\n",
      "[1800]\ttraining's auc: 0.998691\tvalid_1's auc: 0.997106\n",
      "[1900]\ttraining's auc: 0.998743\tvalid_1's auc: 0.997105\n",
      "Early stopping, best iteration is:\n",
      "[1467]\ttraining's auc: 0.998479\tvalid_1's auc: 0.997118\n",
      "\n"
     ]
    }
   ],
   "source": [
    "# Perform cross-validation\n",
    "for fold, (train_idx, valid_idx) in enumerate(tqdm(skf.split(X, y), total=skf.get_n_splits(), desc=\"Cross-Validation\"), 1):\n",
    "    print(f\"Fold {fold}\")\n",
    "    \n",
    "    # Split the data\n",
    "    X_train, X_valid = X.iloc[train_idx], X.iloc[valid_idx]\n",
    "    y_train, y_valid = y.iloc[train_idx], y.iloc[valid_idx]\n",
    "    \n",
    "    # Create LightGBM datasets\n",
    "    train_data = lgb.Dataset(X_train, label=y_train)\n",
    "    valid_data = lgb.Dataset(X_valid, label=y_valid)\n",
    "    \n",
    "    # Train the model\n",
    "    model = lgb.train(\n",
    "        params,\n",
    "        train_data,\n",
    "        num_boost_round=5000,\n",
    "        valid_sets=[train_data, valid_data],\n",
    "        callbacks=[lgb.early_stopping(stopping_rounds=500), lgb.log_evaluation(100)]\n",
    "    )\n",
    "    \n",
    "    # Make predictions\n",
    "    train_preds = model.predict(X_train)\n",
    "    valid_preds = model.predict(X_valid)\n",
    "    \n",
    "    oof_predictions[valid_idx] = valid_preds\n",
    "    \n",
    "    # Calculate AUC scores\n",
    "    train_auc = roc_auc_score(y_train, train_preds)\n",
    "    valid_auc = roc_auc_score(y_valid, valid_preds)\n",
    "    \n",
    "    # Store scores and model\n",
    "    train_auc_scores.append(train_auc)\n",
    "    valid_auc_scores.append(valid_auc)\n",
    "    # models.append(model)\n",
    "    \n",
    "    # Make predictions on the test set\n",
    "    test_predictions += model.predict(test_df, num_iteration = model.best_iteration)\n",
    "    \n",
    "    print()"
   ]
  },
  {
   "cell_type": "code",
   "execution_count": 22,
   "id": "dbc6dce8",
   "metadata": {
    "execution": {
     "iopub.execute_input": "2024-08-01T13:28:29.251210Z",
     "iopub.status.busy": "2024-08-01T13:28:29.250684Z",
     "iopub.status.idle": "2024-08-01T13:28:29.266454Z",
     "shell.execute_reply": "2024-08-01T13:28:29.264983Z"
    },
    "papermill": {
     "duration": 0.051402,
     "end_time": "2024-08-01T13:28:29.270346",
     "exception": false,
     "start_time": "2024-08-01T13:28:29.218944",
     "status": "completed"
    },
    "tags": []
   },
   "outputs": [
    {
     "name": "stdout",
     "output_type": "stream",
     "text": [
      "(3116945, 1) (3116945,)\n",
      "(2077964, 1) (2077964,)\n"
     ]
    },
    {
     "data": {
      "text/plain": [
       "array([0.00399104, 0.99644838, 0.00575589, ..., 0.99873113, 0.00608013,\n",
       "       0.99589418])"
      ]
     },
     "execution_count": 22,
     "metadata": {},
     "output_type": "execute_result"
    }
   ],
   "source": [
    "print(save_train_preds.shape, oof_predictions.shape)\n",
    "print(test_preds.shape, test_predictions.shape)\n",
    "\n",
    "oof_predictions"
   ]
  },
  {
   "cell_type": "code",
   "execution_count": 23,
   "id": "37d865c4",
   "metadata": {
    "execution": {
     "iopub.execute_input": "2024-08-01T13:28:29.329066Z",
     "iopub.status.busy": "2024-08-01T13:28:29.328629Z",
     "iopub.status.idle": "2024-08-01T13:28:29.339555Z",
     "shell.execute_reply": "2024-08-01T13:28:29.338188Z"
    },
    "papermill": {
     "duration": 0.042667,
     "end_time": "2024-08-01T13:28:29.342561",
     "exception": false,
     "start_time": "2024-08-01T13:28:29.299894",
     "status": "completed"
    },
    "tags": []
   },
   "outputs": [
    {
     "data": {
      "text/plain": [
       "array([0.00238629, 0.99671963, 0.99228844, ..., 0.99555645, 0.00183076,\n",
       "       0.00794023])"
      ]
     },
     "execution_count": 23,
     "metadata": {},
     "output_type": "execute_result"
    }
   ],
   "source": [
    "test_predictions = test_predictions / skf.get_n_splits()\n",
    "\n",
    "test_predictions"
   ]
  },
  {
   "cell_type": "code",
   "execution_count": 24,
   "id": "0bbbb7c6",
   "metadata": {
    "execution": {
     "iopub.execute_input": "2024-08-01T13:28:29.397582Z",
     "iopub.status.busy": "2024-08-01T13:28:29.396160Z",
     "iopub.status.idle": "2024-08-01T13:28:37.624319Z",
     "shell.execute_reply": "2024-08-01T13:28:37.622953Z"
    },
    "papermill": {
     "duration": 8.258315,
     "end_time": "2024-08-01T13:28:37.627259",
     "exception": false,
     "start_time": "2024-08-01T13:28:29.368944",
     "status": "completed"
    },
    "tags": []
   },
   "outputs": [
    {
     "name": "stderr",
     "output_type": "stream",
     "text": [
      "/tmp/ipykernel_18/172853746.py:2: SettingWithCopyWarning: \n",
      "A value is trying to be set on a copy of a slice from a DataFrame.\n",
      "Try using .loc[row_indexer,col_indexer] = value instead\n",
      "\n",
      "See the caveats in the documentation: https://pandas.pydata.org/pandas-docs/stable/user_guide/indexing.html#returning-a-view-versus-a-copy\n",
      "  save_train_preds[name] = oof_predictions\n"
     ]
    }
   ],
   "source": [
    "name = 'preds_lgb_5fold_seed142_pub02'\n",
    "save_train_preds[name] = oof_predictions\n",
    "save_train_preds = save_train_preds[name]\n",
    "save_train_preds.to_csv(f'train_{name}.csv', index=False)"
   ]
  },
  {
   "cell_type": "code",
   "execution_count": 25,
   "id": "af5fe970",
   "metadata": {
    "execution": {
     "iopub.execute_input": "2024-08-01T13:28:37.681530Z",
     "iopub.status.busy": "2024-08-01T13:28:37.681104Z",
     "iopub.status.idle": "2024-08-01T13:28:43.127932Z",
     "shell.execute_reply": "2024-08-01T13:28:43.126447Z"
    },
    "papermill": {
     "duration": 5.477684,
     "end_time": "2024-08-01T13:28:43.131271",
     "exception": false,
     "start_time": "2024-08-01T13:28:37.653587",
     "status": "completed"
    },
    "tags": []
   },
   "outputs": [
    {
     "name": "stderr",
     "output_type": "stream",
     "text": [
      "/tmp/ipykernel_18/1552682993.py:1: SettingWithCopyWarning: \n",
      "A value is trying to be set on a copy of a slice from a DataFrame.\n",
      "Try using .loc[row_indexer,col_indexer] = value instead\n",
      "\n",
      "See the caveats in the documentation: https://pandas.pydata.org/pandas-docs/stable/user_guide/indexing.html#returning-a-view-versus-a-copy\n",
      "  test_preds[name] = test_predictions\n"
     ]
    }
   ],
   "source": [
    "test_preds[name] = test_predictions\n",
    "test_preds = test_preds[name]\n",
    "test_preds.to_csv(f'test_{name}.csv', index=False)"
   ]
  },
  {
   "cell_type": "code",
   "execution_count": 26,
   "id": "18c27a6e",
   "metadata": {
    "execution": {
     "iopub.execute_input": "2024-08-01T13:28:43.188135Z",
     "iopub.status.busy": "2024-08-01T13:28:43.187721Z",
     "iopub.status.idle": "2024-08-01T13:28:43.195226Z",
     "shell.execute_reply": "2024-08-01T13:28:43.193961Z"
    },
    "papermill": {
     "duration": 0.039705,
     "end_time": "2024-08-01T13:28:43.198197",
     "exception": false,
     "start_time": "2024-08-01T13:28:43.158492",
     "status": "completed"
    },
    "tags": []
   },
   "outputs": [
    {
     "name": "stdout",
     "output_type": "stream",
     "text": [
      "Mean Train AUC: 0.9985\n",
      "Mean Valid AUC: 0.9972\n"
     ]
    }
   ],
   "source": [
    "# Calculate mean of scores\n",
    "mean_train_auc = np.mean(train_auc_scores)\n",
    "mean_valid_auc = np.mean(valid_auc_scores)\n",
    "\n",
    "print(f\"Mean Train AUC: {mean_train_auc:.4f}\")\n",
    "print(f\"Mean Valid AUC: {mean_valid_auc:.4f}\")"
   ]
  },
  {
   "cell_type": "markdown",
   "id": "0300a493",
   "metadata": {
    "papermill": {
     "duration": 0.027352,
     "end_time": "2024-08-01T13:28:43.252359",
     "exception": false,
     "start_time": "2024-08-01T13:28:43.225007",
     "status": "completed"
    },
    "tags": []
   },
   "source": [
    "<center>\n",
    "    <div style=\"font-size: 18px; font-weight: bold; color: #8e44ad; border-bottom: 2px solid #f39c12; padding-bottom: 5px; margin-bottom: 15px;\">\n",
    "        Predictions for the Test Data\n",
    "    </div>\n",
    "</center>"
   ]
  },
  {
   "cell_type": "code",
   "execution_count": 27,
   "id": "0f83557a",
   "metadata": {
    "execution": {
     "iopub.execute_input": "2024-08-01T13:28:43.311055Z",
     "iopub.status.busy": "2024-08-01T13:28:43.310620Z",
     "iopub.status.idle": "2024-08-01T13:28:43.370515Z",
     "shell.execute_reply": "2024-08-01T13:28:43.369140Z"
    },
    "papermill": {
     "duration": 0.091017,
     "end_time": "2024-08-01T13:28:43.373544",
     "exception": false,
     "start_time": "2024-08-01T13:28:43.282527",
     "status": "completed"
    },
    "tags": []
   },
   "outputs": [],
   "source": [
    "test_predictions = test_predictions > 0.5\n",
    "submission_df['class'] = test_predictions.astype(int)"
   ]
  },
  {
   "cell_type": "code",
   "execution_count": 28,
   "id": "4f3a223a",
   "metadata": {
    "execution": {
     "iopub.execute_input": "2024-08-01T13:28:43.430016Z",
     "iopub.status.busy": "2024-08-01T13:28:43.429595Z",
     "iopub.status.idle": "2024-08-01T13:28:43.619772Z",
     "shell.execute_reply": "2024-08-01T13:28:43.618567Z"
    },
    "papermill": {
     "duration": 0.222153,
     "end_time": "2024-08-01T13:28:43.622609",
     "exception": false,
     "start_time": "2024-08-01T13:28:43.400456",
     "status": "completed"
    },
    "tags": []
   },
   "outputs": [
    {
     "data": {
      "text/html": [
       "<div>\n",
       "<style scoped>\n",
       "    .dataframe tbody tr th:only-of-type {\n",
       "        vertical-align: middle;\n",
       "    }\n",
       "\n",
       "    .dataframe tbody tr th {\n",
       "        vertical-align: top;\n",
       "    }\n",
       "\n",
       "    .dataframe thead th {\n",
       "        text-align: right;\n",
       "    }\n",
       "</style>\n",
       "<table border=\"1\" class=\"dataframe\">\n",
       "  <thead>\n",
       "    <tr style=\"text-align: right;\">\n",
       "      <th></th>\n",
       "      <th>id</th>\n",
       "      <th>class</th>\n",
       "    </tr>\n",
       "  </thead>\n",
       "  <tbody>\n",
       "    <tr>\n",
       "      <th>0</th>\n",
       "      <td>3116945</td>\n",
       "      <td>e</td>\n",
       "    </tr>\n",
       "    <tr>\n",
       "      <th>1</th>\n",
       "      <td>3116946</td>\n",
       "      <td>p</td>\n",
       "    </tr>\n",
       "    <tr>\n",
       "      <th>2</th>\n",
       "      <td>3116947</td>\n",
       "      <td>p</td>\n",
       "    </tr>\n",
       "    <tr>\n",
       "      <th>3</th>\n",
       "      <td>3116948</td>\n",
       "      <td>p</td>\n",
       "    </tr>\n",
       "    <tr>\n",
       "      <th>4</th>\n",
       "      <td>3116949</td>\n",
       "      <td>e</td>\n",
       "    </tr>\n",
       "  </tbody>\n",
       "</table>\n",
       "</div>"
      ],
      "text/plain": [
       "        id class\n",
       "0  3116945     e\n",
       "1  3116946     p\n",
       "2  3116947     p\n",
       "3  3116948     p\n",
       "4  3116949     e"
      ]
     },
     "execution_count": 28,
     "metadata": {},
     "output_type": "execute_result"
    }
   ],
   "source": [
    "# Label Decoding\n",
    "replace_map = {0: 'e', 1: 'p'}\n",
    "\n",
    "submission_df['class'] = submission_df['class'].replace(replace_map)\n",
    "submission_df.head()"
   ]
  },
  {
   "cell_type": "markdown",
   "id": "ef32660e",
   "metadata": {
    "papermill": {
     "duration": 0.026164,
     "end_time": "2024-08-01T13:28:43.675294",
     "exception": false,
     "start_time": "2024-08-01T13:28:43.649130",
     "status": "completed"
    },
    "tags": []
   },
   "source": [
    "<center><div style=\"font-size: 24px; font-weight: bold; color: #2c3e50; border-bottom: 2px solid #3498db; padding-bottom: 5px; margin-bottom: 15px;\">\n",
    "    Save Predictions\n",
    "</div></center>"
   ]
  },
  {
   "cell_type": "code",
   "execution_count": 29,
   "id": "b9e9ab93",
   "metadata": {
    "execution": {
     "iopub.execute_input": "2024-08-01T13:28:43.731533Z",
     "iopub.status.busy": "2024-08-01T13:28:43.730243Z",
     "iopub.status.idle": "2024-08-01T13:28:46.632525Z",
     "shell.execute_reply": "2024-08-01T13:28:46.630792Z"
    },
    "papermill": {
     "duration": 2.933439,
     "end_time": "2024-08-01T13:28:46.635514",
     "exception": false,
     "start_time": "2024-08-01T13:28:43.702075",
     "status": "completed"
    },
    "tags": []
   },
   "outputs": [
    {
     "name": "stdout",
     "output_type": "stream",
     "text": [
      "Predictions saved to 'submission.csv'\n"
     ]
    }
   ],
   "source": [
    "# Save predictions to csv\n",
    "submission_df.to_csv('submission.csv', index=False)\n",
    "print(\"Predictions saved to 'submission.csv'\")"
   ]
  }
 ],
 "metadata": {
  "kaggle": {
   "accelerator": "none",
   "dataSources": [
    {
     "databundleVersionId": 9045607,
     "sourceId": 76727,
     "sourceType": "competition"
    }
   ],
   "dockerImageVersionId": 30746,
   "isGpuEnabled": false,
   "isInternetEnabled": true,
   "language": "python",
   "sourceType": "notebook"
  },
  "kernelspec": {
   "display_name": "Python 3 (ipykernel)",
   "language": "python",
   "name": "python3"
  },
  "papermill": {
   "default_parameters": {},
   "duration": 6312.215564,
   "end_time": "2024-08-01T13:28:49.407182",
   "environment_variables": {},
   "exception": null,
   "input_path": "__notebook__.ipynb",
   "output_path": "__notebook__.ipynb",
   "parameters": {},
   "start_time": "2024-08-01T11:43:37.191618",
   "version": "2.5.0"
  },
  "widgets": {
   "application/vnd.jupyter.widget-state+json": {
    "state": {
     "0a3ae49d80434c0ca4aeb572565a6f5e": {
      "model_module": "@jupyter-widgets/base",
      "model_module_version": "1.2.0",
      "model_name": "LayoutModel",
      "state": {
       "_model_module": "@jupyter-widgets/base",
       "_model_module_version": "1.2.0",
       "_model_name": "LayoutModel",
       "_view_count": null,
       "_view_module": "@jupyter-widgets/base",
       "_view_module_version": "1.2.0",
       "_view_name": "LayoutView",
       "align_content": null,
       "align_items": null,
       "align_self": null,
       "border": null,
       "bottom": null,
       "display": null,
       "flex": null,
       "flex_flow": null,
       "grid_area": null,
       "grid_auto_columns": null,
       "grid_auto_flow": null,
       "grid_auto_rows": null,
       "grid_column": null,
       "grid_gap": null,
       "grid_row": null,
       "grid_template_areas": null,
       "grid_template_columns": null,
       "grid_template_rows": null,
       "height": null,
       "justify_content": null,
       "justify_items": null,
       "left": null,
       "margin": null,
       "max_height": null,
       "max_width": null,
       "min_height": null,
       "min_width": null,
       "object_fit": null,
       "object_position": null,
       "order": null,
       "overflow": null,
       "overflow_x": null,
       "overflow_y": null,
       "padding": null,
       "right": null,
       "top": null,
       "visibility": null,
       "width": null
      }
     },
     "4e873721bc7240428e4446fb990a9dd8": {
      "model_module": "@jupyter-widgets/controls",
      "model_module_version": "1.5.0",
      "model_name": "HBoxModel",
      "state": {
       "_dom_classes": [],
       "_model_module": "@jupyter-widgets/controls",
       "_model_module_version": "1.5.0",
       "_model_name": "HBoxModel",
       "_view_count": null,
       "_view_module": "@jupyter-widgets/controls",
       "_view_module_version": "1.5.0",
       "_view_name": "HBoxView",
       "box_style": "",
       "children": [
        "IPY_MODEL_9bf9fad9ae22487787fef96d05b64de4",
        "IPY_MODEL_aff73bf96629496c83421e56a5a27433",
        "IPY_MODEL_88ff64524b994837b895c848e323144e"
       ],
       "layout": "IPY_MODEL_839c53c3467549a19cfb4f3c02c75f2b"
      }
     },
     "500429bd0b604cb58f631afb9eed1976": {
      "model_module": "@jupyter-widgets/controls",
      "model_module_version": "1.5.0",
      "model_name": "DescriptionStyleModel",
      "state": {
       "_model_module": "@jupyter-widgets/controls",
       "_model_module_version": "1.5.0",
       "_model_name": "DescriptionStyleModel",
       "_view_count": null,
       "_view_module": "@jupyter-widgets/base",
       "_view_module_version": "1.2.0",
       "_view_name": "StyleView",
       "description_width": ""
      }
     },
     "6985462266ef4805be0900e1e443ced3": {
      "model_module": "@jupyter-widgets/base",
      "model_module_version": "1.2.0",
      "model_name": "LayoutModel",
      "state": {
       "_model_module": "@jupyter-widgets/base",
       "_model_module_version": "1.2.0",
       "_model_name": "LayoutModel",
       "_view_count": null,
       "_view_module": "@jupyter-widgets/base",
       "_view_module_version": "1.2.0",
       "_view_name": "LayoutView",
       "align_content": null,
       "align_items": null,
       "align_self": null,
       "border": null,
       "bottom": null,
       "display": null,
       "flex": null,
       "flex_flow": null,
       "grid_area": null,
       "grid_auto_columns": null,
       "grid_auto_flow": null,
       "grid_auto_rows": null,
       "grid_column": null,
       "grid_gap": null,
       "grid_row": null,
       "grid_template_areas": null,
       "grid_template_columns": null,
       "grid_template_rows": null,
       "height": null,
       "justify_content": null,
       "justify_items": null,
       "left": null,
       "margin": null,
       "max_height": null,
       "max_width": null,
       "min_height": null,
       "min_width": null,
       "object_fit": null,
       "object_position": null,
       "order": null,
       "overflow": null,
       "overflow_x": null,
       "overflow_y": null,
       "padding": null,
       "right": null,
       "top": null,
       "visibility": null,
       "width": null
      }
     },
     "839c53c3467549a19cfb4f3c02c75f2b": {
      "model_module": "@jupyter-widgets/base",
      "model_module_version": "1.2.0",
      "model_name": "LayoutModel",
      "state": {
       "_model_module": "@jupyter-widgets/base",
       "_model_module_version": "1.2.0",
       "_model_name": "LayoutModel",
       "_view_count": null,
       "_view_module": "@jupyter-widgets/base",
       "_view_module_version": "1.2.0",
       "_view_name": "LayoutView",
       "align_content": null,
       "align_items": null,
       "align_self": null,
       "border": null,
       "bottom": null,
       "display": null,
       "flex": null,
       "flex_flow": null,
       "grid_area": null,
       "grid_auto_columns": null,
       "grid_auto_flow": null,
       "grid_auto_rows": null,
       "grid_column": null,
       "grid_gap": null,
       "grid_row": null,
       "grid_template_areas": null,
       "grid_template_columns": null,
       "grid_template_rows": null,
       "height": null,
       "justify_content": null,
       "justify_items": null,
       "left": null,
       "margin": null,
       "max_height": null,
       "max_width": null,
       "min_height": null,
       "min_width": null,
       "object_fit": null,
       "object_position": null,
       "order": null,
       "overflow": null,
       "overflow_x": null,
       "overflow_y": null,
       "padding": null,
       "right": null,
       "top": null,
       "visibility": null,
       "width": null
      }
     },
     "88ff64524b994837b895c848e323144e": {
      "model_module": "@jupyter-widgets/controls",
      "model_module_version": "1.5.0",
      "model_name": "HTMLModel",
      "state": {
       "_dom_classes": [],
       "_model_module": "@jupyter-widgets/controls",
       "_model_module_version": "1.5.0",
       "_model_name": "HTMLModel",
       "_view_count": null,
       "_view_module": "@jupyter-widgets/controls",
       "_view_module_version": "1.5.0",
       "_view_name": "HTMLView",
       "description": "",
       "description_tooltip": null,
       "layout": "IPY_MODEL_6985462266ef4805be0900e1e443ced3",
       "placeholder": "​",
       "style": "IPY_MODEL_500429bd0b604cb58f631afb9eed1976",
       "value": " 5/5 [1:42:45&lt;00:00, 1217.85s/it]"
      }
     },
     "9bf9fad9ae22487787fef96d05b64de4": {
      "model_module": "@jupyter-widgets/controls",
      "model_module_version": "1.5.0",
      "model_name": "HTMLModel",
      "state": {
       "_dom_classes": [],
       "_model_module": "@jupyter-widgets/controls",
       "_model_module_version": "1.5.0",
       "_model_name": "HTMLModel",
       "_view_count": null,
       "_view_module": "@jupyter-widgets/controls",
       "_view_module_version": "1.5.0",
       "_view_name": "HTMLView",
       "description": "",
       "description_tooltip": null,
       "layout": "IPY_MODEL_e51e35c591ac42faa983db69572f1a76",
       "placeholder": "​",
       "style": "IPY_MODEL_a8ec11ad7153429bab7608b79125ed6b",
       "value": "Cross-Validation: 100%"
      }
     },
     "a8ec11ad7153429bab7608b79125ed6b": {
      "model_module": "@jupyter-widgets/controls",
      "model_module_version": "1.5.0",
      "model_name": "DescriptionStyleModel",
      "state": {
       "_model_module": "@jupyter-widgets/controls",
       "_model_module_version": "1.5.0",
       "_model_name": "DescriptionStyleModel",
       "_view_count": null,
       "_view_module": "@jupyter-widgets/base",
       "_view_module_version": "1.2.0",
       "_view_name": "StyleView",
       "description_width": ""
      }
     },
     "ac1592d8542f4a4591b42ea79afb3125": {
      "model_module": "@jupyter-widgets/controls",
      "model_module_version": "1.5.0",
      "model_name": "ProgressStyleModel",
      "state": {
       "_model_module": "@jupyter-widgets/controls",
       "_model_module_version": "1.5.0",
       "_model_name": "ProgressStyleModel",
       "_view_count": null,
       "_view_module": "@jupyter-widgets/base",
       "_view_module_version": "1.2.0",
       "_view_name": "StyleView",
       "bar_color": null,
       "description_width": ""
      }
     },
     "aff73bf96629496c83421e56a5a27433": {
      "model_module": "@jupyter-widgets/controls",
      "model_module_version": "1.5.0",
      "model_name": "FloatProgressModel",
      "state": {
       "_dom_classes": [],
       "_model_module": "@jupyter-widgets/controls",
       "_model_module_version": "1.5.0",
       "_model_name": "FloatProgressModel",
       "_view_count": null,
       "_view_module": "@jupyter-widgets/controls",
       "_view_module_version": "1.5.0",
       "_view_name": "ProgressView",
       "bar_style": "success",
       "description": "",
       "description_tooltip": null,
       "layout": "IPY_MODEL_0a3ae49d80434c0ca4aeb572565a6f5e",
       "max": 5,
       "min": 0,
       "orientation": "horizontal",
       "style": "IPY_MODEL_ac1592d8542f4a4591b42ea79afb3125",
       "value": 5
      }
     },
     "e51e35c591ac42faa983db69572f1a76": {
      "model_module": "@jupyter-widgets/base",
      "model_module_version": "1.2.0",
      "model_name": "LayoutModel",
      "state": {
       "_model_module": "@jupyter-widgets/base",
       "_model_module_version": "1.2.0",
       "_model_name": "LayoutModel",
       "_view_count": null,
       "_view_module": "@jupyter-widgets/base",
       "_view_module_version": "1.2.0",
       "_view_name": "LayoutView",
       "align_content": null,
       "align_items": null,
       "align_self": null,
       "border": null,
       "bottom": null,
       "display": null,
       "flex": null,
       "flex_flow": null,
       "grid_area": null,
       "grid_auto_columns": null,
       "grid_auto_flow": null,
       "grid_auto_rows": null,
       "grid_column": null,
       "grid_gap": null,
       "grid_row": null,
       "grid_template_areas": null,
       "grid_template_columns": null,
       "grid_template_rows": null,
       "height": null,
       "justify_content": null,
       "justify_items": null,
       "left": null,
       "margin": null,
       "max_height": null,
       "max_width": null,
       "min_height": null,
       "min_width": null,
       "object_fit": null,
       "object_position": null,
       "order": null,
       "overflow": null,
       "overflow_x": null,
       "overflow_y": null,
       "padding": null,
       "right": null,
       "top": null,
       "visibility": null,
       "width": null
      }
     }
    },
    "version_major": 2,
    "version_minor": 0
   }
  }
 },
 "nbformat": 4,
 "nbformat_minor": 5
}
