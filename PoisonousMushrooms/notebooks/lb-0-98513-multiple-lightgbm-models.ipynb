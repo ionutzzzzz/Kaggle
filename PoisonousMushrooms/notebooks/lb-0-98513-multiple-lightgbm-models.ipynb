{
 "cells": [
  {
   "cell_type": "markdown",
   "id": "5e8ca6ff",
   "metadata": {
    "papermill": {
     "duration": 0.005034,
     "end_time": "2024-08-04T08:42:58.416670",
     "exception": false,
     "start_time": "2024-08-04T08:42:58.411636",
     "status": "completed"
    },
    "tags": []
   },
   "source": [
    "## Greetings Everyone,\n",
    "\n",
    "\n",
    "##### I found a very useful notebook [[Mushrooms] Single LightGBM model [~20 minutes]](https://www.kaggle.com/code/carlmcbrideellis/mushrooms-single-lightgbm-model-20-minutes) \n",
    "\n",
    "#### Published by [@Carl McBride Ellis](https://www.kaggle.com/carlmcbrideellis)\n",
    "\n",
    "> Everything in the notebook was clear, so i thought to use it as my second baseline,\n",
    "I kept the HPs (hyperparameters) same as before but my apporoach was to ensemble LightGBM models with different Random States (Made a few other changes to the code too)\n",
    "\n",
    "\n",
    "\n",
    "> Also experimented with Xgboost and Catboost.\n",
    "\n",
    "> **I did not tunned the HPs of XGBoost, Catboost, LightGBM**\n",
    "\n"
   ]
  },
  {
   "cell_type": "code",
   "execution_count": 1,
   "id": "841b130d",
   "metadata": {
    "execution": {
     "iopub.execute_input": "2024-08-04T08:42:58.427267Z",
     "iopub.status.busy": "2024-08-04T08:42:58.426905Z",
     "iopub.status.idle": "2024-08-04T08:43:03.939402Z",
     "shell.execute_reply": "2024-08-04T08:43:03.938612Z"
    },
    "papermill": {
     "duration": 5.520277,
     "end_time": "2024-08-04T08:43:03.941649",
     "exception": false,
     "start_time": "2024-08-04T08:42:58.421372",
     "status": "completed"
    },
    "tags": []
   },
   "outputs": [],
   "source": [
    "import pandas as pd\n",
    "import numpy as np\n",
    "from xgboost import XGBClassifier\n",
    "from lightgbm import LGBMClassifier\n",
    "from catboost import CatBoostClassifier\n",
    "from sklearn.metrics import matthews_corrcoef\n",
    "\n",
    "import sklearn\n",
    "sklearn.set_config(transform_output=\"pandas\")\n"
   ]
  },
  {
   "cell_type": "code",
   "execution_count": 2,
   "id": "b05f8d30",
   "metadata": {
    "execution": {
     "iopub.execute_input": "2024-08-04T08:43:03.952609Z",
     "iopub.status.busy": "2024-08-04T08:43:03.952081Z",
     "iopub.status.idle": "2024-08-04T08:43:27.740725Z",
     "shell.execute_reply": "2024-08-04T08:43:27.739717Z"
    },
    "papermill": {
     "duration": 23.796567,
     "end_time": "2024-08-04T08:43:27.743119",
     "exception": false,
     "start_time": "2024-08-04T08:43:03.946552",
     "status": "completed"
    },
    "tags": []
   },
   "outputs": [],
   "source": [
    "train_competition = pd.read_csv(\"/kaggle/input/playground-series-s4e8/train.csv\", index_col=\"id\")\n",
    "train_original    = pd.read_csv(\"/kaggle/input/secondary-mushroom-dataset-data-set/MushroomDataset/secondary_data.csv\", sep=\";\")\n",
    "train = pd.concat([train_competition, train_original], ignore_index=True)\n",
    "cols = train.columns.to_list()\n",
    "cols.remove(\"class\")\n",
    "train = train.drop_duplicates(subset=cols, keep='first')\n",
    "X_test = pd.read_csv(\"/kaggle/input/playground-series-s4e8/test.csv\", index_col=\"id\")"
   ]
  },
  {
   "cell_type": "code",
   "execution_count": 3,
   "id": "c53cf520",
   "metadata": {
    "execution": {
     "iopub.execute_input": "2024-08-04T08:43:27.755216Z",
     "iopub.status.busy": "2024-08-04T08:43:27.754811Z",
     "iopub.status.idle": "2024-08-04T08:43:56.837183Z",
     "shell.execute_reply": "2024-08-04T08:43:56.836401Z"
    },
    "papermill": {
     "duration": 29.091134,
     "end_time": "2024-08-04T08:43:56.839445",
     "exception": false,
     "start_time": "2024-08-04T08:43:27.748311",
     "status": "completed"
    },
    "tags": []
   },
   "outputs": [],
   "source": [
    "def cleaning(df):\n",
    "    \n",
    "    threshold = 100\n",
    "    \n",
    "    cat_feats = [\"cap-shape\",\"cap-surface\",\"cap-color\",\"does-bruise-or-bleed\",\"gill-attachment\",\n",
    "                \"gill-spacing\",\"gill-color\",\"stem-root\",\"stem-surface\",\"stem-color\",\"veil-type\",\n",
    "                \"veil-color\",\"has-ring\",\"ring-type\",\"spore-print-color\",\"spore-print-color\",\n",
    "                \"habitat\",\"season\"]\n",
    "    \n",
    "    for feat in cat_feats:\n",
    "        df[feat] = df[feat].fillna('missing')\n",
    "        df.loc[df[feat].value_counts(dropna=False)[df[feat]].values < threshold, feat] = \"noise\"\n",
    "        df[feat] = df[feat].astype('category')\n",
    "    \n",
    "    return df\n",
    "\n",
    "train  = cleaning(train)\n",
    "X_test = cleaning(X_test)"
   ]
  },
  {
   "cell_type": "code",
   "execution_count": 4,
   "id": "e25a17d8",
   "metadata": {
    "execution": {
     "iopub.execute_input": "2024-08-04T08:43:56.850746Z",
     "iopub.status.busy": "2024-08-04T08:43:56.849997Z",
     "iopub.status.idle": "2024-08-04T08:43:57.039574Z",
     "shell.execute_reply": "2024-08-04T08:43:57.038756Z"
    },
    "papermill": {
     "duration": 0.197531,
     "end_time": "2024-08-04T08:43:57.041922",
     "exception": false,
     "start_time": "2024-08-04T08:43:56.844391",
     "status": "completed"
    },
    "tags": []
   },
   "outputs": [],
   "source": [
    "X = train\n",
    "X = X.drop([\"class\"], axis=\"columns\")\n",
    "y = train[\"class\"].map({'e': 0, 'p': 1})\n",
    "# .map({0: 'e', 1: 'p'})"
   ]
  },
  {
   "cell_type": "code",
   "execution_count": 5,
   "id": "27643fe2",
   "metadata": {
    "execution": {
     "iopub.execute_input": "2024-08-04T08:43:57.052662Z",
     "iopub.status.busy": "2024-08-04T08:43:57.051938Z",
     "iopub.status.idle": "2024-08-04T08:43:57.059490Z",
     "shell.execute_reply": "2024-08-04T08:43:57.058707Z"
    },
    "papermill": {
     "duration": 0.014758,
     "end_time": "2024-08-04T08:43:57.061427",
     "exception": false,
     "start_time": "2024-08-04T08:43:57.046669",
     "status": "completed"
    },
    "tags": []
   },
   "outputs": [
    {
     "data": {
      "text/plain": [
       "0    0\n",
       "1    1\n",
       "2    0\n",
       "3    0\n",
       "4    0\n",
       "Name: class, dtype: int64"
      ]
     },
     "execution_count": 5,
     "metadata": {},
     "output_type": "execute_result"
    }
   ],
   "source": [
    "y.head()"
   ]
  },
  {
   "cell_type": "code",
   "execution_count": 6,
   "id": "b7cb8679",
   "metadata": {
    "execution": {
     "iopub.execute_input": "2024-08-04T08:43:57.071654Z",
     "iopub.status.busy": "2024-08-04T08:43:57.071379Z",
     "iopub.status.idle": "2024-08-04T08:43:57.075118Z",
     "shell.execute_reply": "2024-08-04T08:43:57.074269Z"
    },
    "papermill": {
     "duration": 0.011203,
     "end_time": "2024-08-04T08:43:57.077146",
     "exception": false,
     "start_time": "2024-08-04T08:43:57.065943",
     "status": "completed"
    },
    "tags": []
   },
   "outputs": [],
   "source": [
    "# # One-hot encode categorical features\n",
    "# X = pd.get_dummies(X)\n",
    "# X_test = pd.get_dummies(X_test)\n",
    "\n",
    "# # Align the columns of the test set with the train set\n",
    "# X_test = X_test.reindex(columns=X.columns, fill_value=0)"
   ]
  },
  {
   "cell_type": "code",
   "execution_count": 7,
   "id": "0f47f66d",
   "metadata": {
    "execution": {
     "iopub.execute_input": "2024-08-04T08:43:57.087150Z",
     "iopub.status.busy": "2024-08-04T08:43:57.086866Z",
     "iopub.status.idle": "2024-08-04T08:43:57.092320Z",
     "shell.execute_reply": "2024-08-04T08:43:57.091496Z"
    },
    "papermill": {
     "duration": 0.012899,
     "end_time": "2024-08-04T08:43:57.094509",
     "exception": false,
     "start_time": "2024-08-04T08:43:57.081610",
     "status": "completed"
    },
    "tags": []
   },
   "outputs": [],
   "source": [
    "# Define model parameters\n",
    "lgb_params = {\n",
    "    'n_estimators': 2500,\n",
    "    'max_bin': 256,\n",
    "    'colsample_bytree': 0.6,\n",
    "    'reg_lambda': 80,\n",
    "    'verbose': -1,\n",
    "    'device': 'gpu',\n",
    "    'n_jobs': -1\n",
    "    \n",
    "}\n",
    "\n",
    "xgb_params = {\n",
    "    'n_estimators': 2500,\n",
    "    'max_bin': 1024,\n",
    "    'colsample_bytree': 0.6,\n",
    "    'reg_lambda': 80,\n",
    "    'verbosity': 0,\n",
    "    'use_label_encoder': False,\n",
    "    'n_jobs': -1\n",
    "}\n",
    "\n",
    "catb_params = {\n",
    "    'iterations': 2500,\n",
    "    'depth': 10,\n",
    "    'l2_leaf_reg': 80,\n",
    "    'verbose': 0\n",
    "}"
   ]
  },
  {
   "cell_type": "code",
   "execution_count": null,
   "id": "56026a54",
   "metadata": {
    "papermill": {
     "duration": 0.004301,
     "end_time": "2024-08-04T08:43:57.103298",
     "exception": false,
     "start_time": "2024-08-04T08:43:57.098997",
     "status": "completed"
    },
    "tags": []
   },
   "outputs": [],
   "source": []
  },
  {
   "cell_type": "code",
   "execution_count": 8,
   "id": "7542ab65",
   "metadata": {
    "execution": {
     "iopub.execute_input": "2024-08-04T08:43:57.113321Z",
     "iopub.status.busy": "2024-08-04T08:43:57.113068Z",
     "iopub.status.idle": "2024-08-04T08:43:57.121174Z",
     "shell.execute_reply": "2024-08-04T08:43:57.120339Z"
    },
    "papermill": {
     "duration": 0.01546,
     "end_time": "2024-08-04T08:43:57.123252",
     "exception": false,
     "start_time": "2024-08-04T08:43:57.107792",
     "status": "completed"
    },
    "tags": []
   },
   "outputs": [],
   "source": [
    "# Create models with different random states\n",
    "xgb_models = [(f\"xgb_{i}\", XGBClassifier(**xgb_params, random_state=i)) for i in range(9)]\n",
    "lgb_models = [(f\"lgb_{i}\", LGBMClassifier(**lgb_params, random_state=i)) for i in range(12)]\n",
    "catb_models = [(f\"cat_{i}\", CatBoostClassifier(**catb_params, random_state=i)) for i in range(5)]\n"
   ]
  },
  {
   "cell_type": "code",
   "execution_count": 9,
   "id": "dd16a432",
   "metadata": {
    "execution": {
     "iopub.execute_input": "2024-08-04T08:43:57.133272Z",
     "iopub.status.busy": "2024-08-04T08:43:57.132959Z",
     "iopub.status.idle": "2024-08-04T10:58:25.684043Z",
     "shell.execute_reply": "2024-08-04T10:58:25.683060Z"
    },
    "papermill": {
     "duration": 8068.565173,
     "end_time": "2024-08-04T10:58:25.692978",
     "exception": false,
     "start_time": "2024-08-04T08:43:57.127805",
     "status": "completed"
    },
    "tags": []
   },
   "outputs": [
    {
     "name": "stderr",
     "output_type": "stream",
     "text": [
      "1 warning generated.\n",
      "1 warning generated.\n",
      "1 warning generated.\n",
      "1 warning generated.\n",
      "1 warning generated.\n",
      "1 warning generated.\n",
      "1 warning generated.\n",
      "1 warning generated.\n",
      "1 warning generated.\n",
      "1 warning generated.\n",
      "1 warning generated.\n",
      "1 warning generated.\n",
      "1 warning generated.\n",
      "1 warning generated.\n",
      "1 warning generated.\n",
      "1 warning generated.\n",
      "1 warning generated.\n",
      "1 warning generated.\n",
      "1 warning generated.\n",
      "1 warning generated.\n",
      "1 warning generated.\n",
      "1 warning generated.\n",
      "1 warning generated.\n",
      "1 warning generated.\n",
      "1 warning generated.\n",
      "1 warning generated.\n",
      "1 warning generated.\n",
      "1 warning generated.\n",
      "1 warning generated.\n",
      "1 warning generated.\n",
      "1 warning generated.\n",
      "1 warning generated.\n",
      "1 warning generated.\n"
     ]
    },
    {
     "name": "stdout",
     "output_type": "stream",
     "text": [
      "Training Data -> Model: lgb_0, MCC: 0.98589\n",
      "\n",
      "Training Data -> Model: lgb_1, MCC: 0.98583\n",
      "\n",
      "Training Data -> Model: lgb_2, MCC: 0.98591\n",
      "\n",
      "Training Data -> Model: lgb_3, MCC: 0.98589\n",
      "\n",
      "Training Data -> Model: lgb_4, MCC: 0.98589\n",
      "\n",
      "Training Data -> Model: lgb_5, MCC: 0.98593\n",
      "\n",
      "Training Data -> Model: lgb_6, MCC: 0.98592\n",
      "\n",
      "Training Data -> Model: lgb_7, MCC: 0.9859\n",
      "\n",
      "Training Data -> Model: lgb_8, MCC: 0.98593\n",
      "\n",
      "Training Data -> Model: lgb_9, MCC: 0.98592\n",
      "\n",
      "Training Data -> Model: lgb_10, MCC: 0.9859\n",
      "\n",
      "Training Data -> Model: lgb_11, MCC: 0.98589\n",
      "\n",
      "\n",
      "Finally Done\n",
      "CPU times: user 8h 43min 44s, sys: 1min 23s, total: 8h 45min 7s\n",
      "Wall time: 2h 14min 28s\n"
     ]
    }
   ],
   "source": [
    "%%time\n",
    "# List of all models\n",
    "all_models = lgb_models\n",
    "\n",
    "# Train each model and predict probabilities\n",
    "test_pred_probas = []\n",
    "\n",
    "for name, model in all_models:\n",
    "    model.fit(X, y)\n",
    "    train_preds = model.predict(X)\n",
    "    mcc = matthews_corrcoef(y, train_preds)\n",
    "    print(f'Training Data -> Model: {name}, MCC: {round(mcc, 5)}')\n",
    "    print()\n",
    "    test_pred_probas.append(model.predict_proba(X_test)[:, 1])\n",
    "    \n",
    "print()    \n",
    "print('Finally Done')"
   ]
  },
  {
   "cell_type": "code",
   "execution_count": 10,
   "id": "2cd8b3e6",
   "metadata": {
    "execution": {
     "iopub.execute_input": "2024-08-04T10:58:25.708915Z",
     "iopub.status.busy": "2024-08-04T10:58:25.708579Z",
     "iopub.status.idle": "2024-08-04T10:58:28.794399Z",
     "shell.execute_reply": "2024-08-04T10:58:28.793589Z"
    },
    "papermill": {
     "duration": 3.096447,
     "end_time": "2024-08-04T10:58:28.796681",
     "exception": false,
     "start_time": "2024-08-04T10:58:25.700234",
     "status": "completed"
    },
    "tags": []
   },
   "outputs": [],
   "source": [
    "# Calculate the mean of predictions\n",
    "mean_test_pred_probas = np.mean(test_pred_probas, axis=0)\n",
    "\n",
    "# Apply threshold\n",
    "threshold = 0.5\n",
    "test_predictions = mean_test_pred_probas > threshold\n",
    "\n",
    "# Prepare the submission\n",
    "submission = pd.read_csv(\"/kaggle/input/playground-series-s4e8/sample_submission.csv\")\n",
    "submission[\"class\"] = test_predictions.astype(int)\n",
    "submission['class'] = submission['class'].map({0: 'e', 1: 'p'})\n",
    "submission.to_csv('submission.csv', index=False)"
   ]
  },
  {
   "cell_type": "code",
   "execution_count": 11,
   "id": "f1fc55b4",
   "metadata": {
    "execution": {
     "iopub.execute_input": "2024-08-04T10:58:28.812501Z",
     "iopub.status.busy": "2024-08-04T10:58:28.812175Z",
     "iopub.status.idle": "2024-08-04T10:58:28.823997Z",
     "shell.execute_reply": "2024-08-04T10:58:28.823072Z"
    },
    "papermill": {
     "duration": 0.022159,
     "end_time": "2024-08-04T10:58:28.825964",
     "exception": false,
     "start_time": "2024-08-04T10:58:28.803805",
     "status": "completed"
    },
    "tags": []
   },
   "outputs": [
    {
     "data": {
      "text/html": [
       "<div>\n",
       "<style scoped>\n",
       "    .dataframe tbody tr th:only-of-type {\n",
       "        vertical-align: middle;\n",
       "    }\n",
       "\n",
       "    .dataframe tbody tr th {\n",
       "        vertical-align: top;\n",
       "    }\n",
       "\n",
       "    .dataframe thead th {\n",
       "        text-align: right;\n",
       "    }\n",
       "</style>\n",
       "<table border=\"1\" class=\"dataframe\">\n",
       "  <thead>\n",
       "    <tr style=\"text-align: right;\">\n",
       "      <th></th>\n",
       "      <th>id</th>\n",
       "      <th>class</th>\n",
       "    </tr>\n",
       "  </thead>\n",
       "  <tbody>\n",
       "    <tr>\n",
       "      <th>0</th>\n",
       "      <td>3116945</td>\n",
       "      <td>e</td>\n",
       "    </tr>\n",
       "    <tr>\n",
       "      <th>1</th>\n",
       "      <td>3116946</td>\n",
       "      <td>p</td>\n",
       "    </tr>\n",
       "    <tr>\n",
       "      <th>2</th>\n",
       "      <td>3116947</td>\n",
       "      <td>p</td>\n",
       "    </tr>\n",
       "    <tr>\n",
       "      <th>3</th>\n",
       "      <td>3116948</td>\n",
       "      <td>p</td>\n",
       "    </tr>\n",
       "    <tr>\n",
       "      <th>4</th>\n",
       "      <td>3116949</td>\n",
       "      <td>e</td>\n",
       "    </tr>\n",
       "  </tbody>\n",
       "</table>\n",
       "</div>"
      ],
      "text/plain": [
       "        id class\n",
       "0  3116945     e\n",
       "1  3116946     p\n",
       "2  3116947     p\n",
       "3  3116948     p\n",
       "4  3116949     e"
      ]
     },
     "execution_count": 11,
     "metadata": {},
     "output_type": "execute_result"
    }
   ],
   "source": [
    "submission.head()"
   ]
  },
  {
   "cell_type": "code",
   "execution_count": null,
   "id": "6b4e4555",
   "metadata": {
    "papermill": {
     "duration": 0.006766,
     "end_time": "2024-08-04T10:58:28.839892",
     "exception": false,
     "start_time": "2024-08-04T10:58:28.833126",
     "status": "completed"
    },
    "tags": []
   },
   "outputs": [],
   "source": []
  },
  {
   "cell_type": "markdown",
   "id": "c7287953",
   "metadata": {
    "papermill": {
     "duration": 0.006846,
     "end_time": "2024-08-04T10:58:28.853792",
     "exception": false,
     "start_time": "2024-08-04T10:58:28.846946",
     "status": "completed"
    },
    "tags": []
   },
   "source": [
    "## If you have any other suggestions, please feel free to share them with me in the comment section, I would love to improve  "
   ]
  }
 ],
 "metadata": {
  "kaggle": {
   "accelerator": "gpu",
   "dataSources": [
    {
     "databundleVersionId": 9045607,
     "sourceId": 76727,
     "sourceType": "competition"
    },
    {
     "datasetId": 2327251,
     "sourceId": 3918849,
     "sourceType": "datasetVersion"
    }
   ],
   "dockerImageVersionId": 30747,
   "isGpuEnabled": true,
   "isInternetEnabled": true,
   "language": "python",
   "sourceType": "notebook"
  },
  "kernelspec": {
   "display_name": "Python 3",
   "language": "python",
   "name": "python3"
  },
  "language_info": {
   "codemirror_mode": {
    "name": "ipython",
    "version": 3
   },
   "file_extension": ".py",
   "mimetype": "text/x-python",
   "name": "python",
   "nbconvert_exporter": "python",
   "pygments_lexer": "ipython3",
   "version": "3.10.13"
  },
  "papermill": {
   "default_parameters": {},
   "duration": 8134.182536,
   "end_time": "2024-08-04T10:58:29.797966",
   "environment_variables": {},
   "exception": null,
   "input_path": "__notebook__.ipynb",
   "output_path": "__notebook__.ipynb",
   "parameters": {},
   "start_time": "2024-08-04T08:42:55.615430",
   "version": "2.5.0"
  }
 },
 "nbformat": 4,
 "nbformat_minor": 5
}
