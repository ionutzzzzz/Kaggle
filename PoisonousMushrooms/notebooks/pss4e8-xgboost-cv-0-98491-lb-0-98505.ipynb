{
 "cells": [
  {
   "cell_type": "markdown",
   "id": "fa0e34ab",
   "metadata": {
    "papermill": {
     "duration": 0.003757,
     "end_time": "2024-08-05T08:49:44.295653",
     "exception": false,
     "start_time": "2024-08-05T08:49:44.291896",
     "status": "completed"
    },
    "tags": []
   },
   "source": [
    "<div style=\"background-color: blue; padding: 10px; border-radius: 10px\">\n",
    "    <h1 align=\"center\" style=\"color: lightblue;\">Importing Libraries</h1>\n",
    "</div>"
   ]
  },
  {
   "cell_type": "code",
   "execution_count": 10,
   "id": "0a4e42aa",
   "metadata": {
    "execution": {
     "iopub.execute_input": "2024-08-05T08:49:44.304891Z",
     "iopub.status.busy": "2024-08-05T08:49:44.304592Z",
     "iopub.status.idle": "2024-08-05T08:49:46.613686Z",
     "shell.execute_reply": "2024-08-05T08:49:46.612921Z"
    },
    "papermill": {
     "duration": 2.316359,
     "end_time": "2024-08-05T08:49:46.615990",
     "exception": false,
     "start_time": "2024-08-05T08:49:44.299631",
     "status": "completed"
    },
    "tags": []
   },
   "outputs": [],
   "source": [
    "import warnings\n",
    "warnings.filterwarnings(\"ignore\")\n",
    "\n",
    "import numpy as np \n",
    "import pandas as pd\n",
    "import pickle as pkl\n",
    "from xgboost import XGBClassifier\n",
    "from sklearn.metrics import matthews_corrcoef\n",
    "from sklearn.model_selection import StratifiedKFold  "
   ]
  },
  {
   "cell_type": "markdown",
   "id": "a2781707",
   "metadata": {
    "papermill": {
     "duration": 0.003873,
     "end_time": "2024-08-05T08:49:46.624288",
     "exception": false,
     "start_time": "2024-08-05T08:49:46.620415",
     "status": "completed"
    },
    "tags": []
   },
   "source": [
    "<div style=\"background-color: blue; padding: 10px; border-radius: 10px\">\n",
    "    <h1 align=\"center\"><font color='lightblue'>Reading Train and Test Datasets</font></h1>\n",
    "</div>"
   ]
  },
  {
   "cell_type": "code",
   "execution_count": 2,
   "id": "add38aa9",
   "metadata": {},
   "outputs": [],
   "source": [
    "def reduce_mem_usage(df):\n",
    "    \"\"\" iterate through all the columns of a dataframe and modify the data type\n",
    "        to reduce memory usage.        \n",
    "    \"\"\"\n",
    "    start_mem = df.memory_usage().sum() / 1024**2\n",
    "    print('Memory usage of dataframe is {:.2f} MB'.format(start_mem))\n",
    "    \n",
    "    for col in df.columns:\n",
    "        col_type = df[col].dtype\n",
    "        \n",
    "        if col_type != object:\n",
    "            c_min = df[col].min()\n",
    "            c_max = df[col].max()\n",
    "            if str(col_type)[:3] == 'int':\n",
    "                if c_min > np.iinfo(np.int8).min and c_max < np.iinfo(np.int8).max:\n",
    "                    df[col] = df[col].astype(np.int8)\n",
    "                elif c_min > np.iinfo(np.int16).min and c_max < np.iinfo(np.int16).max:\n",
    "                    df[col] = df[col].astype(np.int16)\n",
    "                elif c_min > np.iinfo(np.int32).min and c_max < np.iinfo(np.int32).max:\n",
    "                    df[col] = df[col].astype(np.int32)\n",
    "                elif c_min > np.iinfo(np.int64).min and c_max < np.iinfo(np.int64).max:\n",
    "                    df[col] = df[col].astype(np.int64)  \n",
    "            else:\n",
    "                if c_min > np.finfo(np.float16).min and c_max < np.finfo(np.float16).max:\n",
    "                    df[col] = df[col].astype(np.float16)\n",
    "                elif c_min > np.finfo(np.float32).min and c_max < np.finfo(np.float32).max:\n",
    "                    df[col] = df[col].astype(np.float32)\n",
    "                else:\n",
    "                    df[col] = df[col].astype(np.float64)\n",
    "        else:\n",
    "            df[col] = df[col].astype('category')\n",
    "    end_mem = df.memory_usage().sum() / 1024**2\n",
    "    print('Memory usage after optimization is: {:.2f} MB'.format(end_mem))\n",
    "    print('Decreased by {:.1f}%'.format(100 * (start_mem - end_mem) / start_mem))\n",
    "    \n",
    "    return df\n",
    "\n",
    "def import_data(file, **kwargs):\n",
    "    \"\"\"create a dataframe and optimize its memory usage\"\"\"\n",
    "    df = pd.read_csv(file, parse_dates=True, keep_date_col=True, **kwargs)\n",
    "    df = reduce_mem_usage(df)\n",
    "    return df"
   ]
  },
  {
   "cell_type": "code",
   "execution_count": 22,
   "id": "19753b23",
   "metadata": {
    "execution": {
     "iopub.execute_input": "2024-08-05T08:49:46.633644Z",
     "iopub.status.busy": "2024-08-05T08:49:46.633215Z",
     "iopub.status.idle": "2024-08-05T08:50:01.542148Z",
     "shell.execute_reply": "2024-08-05T08:50:01.541358Z"
    },
    "papermill": {
     "duration": 14.916196,
     "end_time": "2024-08-05T08:50:01.544512",
     "exception": false,
     "start_time": "2024-08-05T08:49:46.628316",
     "status": "completed"
    },
    "tags": []
   },
   "outputs": [
    {
     "name": "stdout",
     "output_type": "stream",
     "text": [
      "Memory usage of dataframe is 523.17 MB\n",
      "Memory usage after optimization is: 95.15 MB\n",
      "Decreased by 81.8%\n",
      "Memory usage of dataframe is 332.93 MB\n",
      "Memory usage after optimization is: 61.46 MB\n",
      "Decreased by 81.5%\n"
     ]
    }
   ],
   "source": [
    "train = import_data('./data/train.csv', index_col='id')\n",
    "test = import_data('./data/test.csv', index_col='id')"
   ]
  },
  {
   "cell_type": "markdown",
   "id": "aab794db",
   "metadata": {
    "papermill": {
     "duration": 0.003782,
     "end_time": "2024-08-05T08:50:01.552663",
     "exception": false,
     "start_time": "2024-08-05T08:50:01.548881",
     "status": "completed"
    },
    "tags": []
   },
   "source": [
    "<div style=\"background-color: blue; padding: 10px; border-radius: 10px\">\n",
    "    <h1 align=\"center\"><font color='lightblue'>Preprocessing</font></h1>\n",
    "</div>"
   ]
  },
  {
   "cell_type": "code",
   "execution_count": 4,
   "id": "b251de1c",
   "metadata": {
    "execution": {
     "iopub.execute_input": "2024-08-05T08:50:01.562038Z",
     "iopub.status.busy": "2024-08-05T08:50:01.561491Z",
     "iopub.status.idle": "2024-08-05T08:50:23.069729Z",
     "shell.execute_reply": "2024-08-05T08:50:23.068786Z"
    },
    "papermill": {
     "duration": 21.515498,
     "end_time": "2024-08-05T08:50:23.072153",
     "exception": false,
     "start_time": "2024-08-05T08:50:01.556655",
     "status": "completed"
    },
    "tags": []
   },
   "outputs": [
    {
     "name": "stdout",
     "output_type": "stream",
     "text": [
      "cap-shape                      108\n",
      "cap-surface                    114\n",
      "cap-color                      109\n",
      "does-bruise-or-bleed           29\n",
      "gill-attachment                117\n",
      "gill-spacing                   66\n",
      "gill-color                     86\n",
      "stem-root                      45\n",
      "stem-surface                   87\n",
      "stem-color                     88\n",
      "veil-type                      24\n",
      "veil-color                     27\n",
      "has-ring                       26\n",
      "ring-type                      47\n",
      "spore-print-color              43\n",
      "habitat                        65\n",
      "season                         4\n"
     ]
    }
   ],
   "source": [
    "initial_features = list(test.columns)\n",
    "\n",
    "float_features = ['cap-diameter', 'stem-height', 'stem-width']\n",
    "cat_features = [f for f in initial_features if f not in float_features]\n",
    "for feature in initial_features:\n",
    "    if feature in cat_features:\n",
    "        dtype = pd.CategoricalDtype(categories=sorted(list(set(train[feature].dropna()) | set(test[feature].dropna()))),\n",
    "                                    ordered=False)\n",
    "        print(f\"{feature:30} {len(dtype.categories)}\")\n",
    "    else:\n",
    "        dtype = np.float32\n",
    "    train[feature] = train[feature].astype(dtype)\n",
    "    if True:\n",
    "        test[feature] = test[feature].astype(dtype)"
   ]
  },
  {
   "cell_type": "markdown",
   "id": "ecda99d7",
   "metadata": {
    "papermill": {
     "duration": 0.005358,
     "end_time": "2024-08-05T08:50:23.083507",
     "exception": false,
     "start_time": "2024-08-05T08:50:23.078149",
     "status": "completed"
    },
    "tags": []
   },
   "source": [
    "<div style=\"background-color: blue; padding: 10px; border-radius: 10px\">\n",
    "    <h1 align=\"center\"><font color='lightblue'>Cross-Validation</font></h1>\n",
    "</div>"
   ]
  },
  {
   "cell_type": "code",
   "execution_count": 5,
   "id": "9dc8bf05",
   "metadata": {
    "execution": {
     "iopub.execute_input": "2024-08-05T08:50:23.095530Z",
     "iopub.status.busy": "2024-08-05T08:50:23.095223Z",
     "iopub.status.idle": "2024-08-05T08:50:23.293004Z",
     "shell.execute_reply": "2024-08-05T08:50:23.292212Z"
    },
    "papermill": {
     "duration": 0.206446,
     "end_time": "2024-08-05T08:50:23.295404",
     "exception": false,
     "start_time": "2024-08-05T08:50:23.088958",
     "status": "completed"
    },
    "tags": []
   },
   "outputs": [],
   "source": [
    "X = train.drop(['class'], axis=1)\n",
    "y = train['class'].map({'p': 0, 'e': 1})"
   ]
  },
  {
   "cell_type": "code",
   "execution_count": 6,
   "id": "4623cdf2",
   "metadata": {
    "execution": {
     "iopub.execute_input": "2024-08-05T08:50:23.307951Z",
     "iopub.status.busy": "2024-08-05T08:50:23.307655Z",
     "iopub.status.idle": "2024-08-05T09:00:57.957563Z",
     "shell.execute_reply": "2024-08-05T09:00:57.956489Z"
    },
    "papermill": {
     "duration": 634.665693,
     "end_time": "2024-08-05T09:00:57.966777",
     "exception": false,
     "start_time": "2024-08-05T08:50:23.301084",
     "status": "completed"
    },
    "tags": []
   },
   "outputs": [
    {
     "name": "stdout",
     "output_type": "stream",
     "text": [
      "Fold 0: MCC = 0.98503\n",
      "Fold 1: MCC = 0.98477\n",
      "Fold 2: MCC = 0.98480\n",
      "Fold 3: MCC = 0.98480\n",
      "Fold 4: MCC = 0.98498\n",
      "Mean Validation MCC= 0.98488\n",
      "Standard Deviation Validation MCC= 0.00010\n",
      "CPU times: user 11h 28min 26s, sys: 38.5 s, total: 11h 29min 4s\n",
      "Wall time: 3h 26min 5s\n"
     ]
    }
   ],
   "source": [
    "%%time\n",
    "\n",
    "params_xgb = {\n",
    "    \n",
    "    'enable_categorical': True,\n",
    "    'tree_method': 'hist',\n",
    "    'device': 'cuda',\n",
    "    'n_estimators': 360,         \n",
    "    'learning_rate': 0.1,           \n",
    "    'max_depth': 17,                \n",
    "    'colsample_bytree': 0.4,         \n",
    "    'min_child_weight': 2,           \n",
    "    'reg_lambda': 67,                \n",
    "    'subsample': 0.98,              \n",
    "    'num_parallel_tree': 4,\n",
    "}\n",
    "\n",
    "NUM_FOLDS = 5\n",
    "val_scores = []\n",
    "\n",
    "skf = StratifiedKFold(n_splits=NUM_FOLDS, shuffle=True, random_state=1)\n",
    "\n",
    "for fold, (train_index, val_index) in enumerate(skf.split(X, y)):  \n",
    "\n",
    "    X_train, X_val = X.iloc[train_index], X.iloc[val_index] \n",
    "    y_train, y_val = y[train_index], y[val_index]    \n",
    "        \n",
    "    xgb = XGBClassifier(**params_xgb)   \n",
    "   \n",
    "    xgb.fit(X_train, y_train) \n",
    "      \n",
    "    val_pred = xgb.predict(X_val) \n",
    "    mcc = matthews_corrcoef(y_val, val_pred )\n",
    "    print(f'Fold {fold}: MCC = {mcc:.5f}')\n",
    "    val_scores.append(mcc)\n",
    "\n",
    "print(f'Mean Validation MCC= {np.mean(val_scores):.5f}')\n",
    "print(f'Standard Deviation Validation MCC= {np.std(val_scores):.5f}')"
   ]
  },
  {
   "cell_type": "code",
   "execution_count": 23,
   "id": "1f66ead2",
   "metadata": {
    "execution": {
     "iopub.execute_input": "2024-08-05T09:00:57.981487Z",
     "iopub.status.busy": "2024-08-05T09:00:57.981169Z",
     "iopub.status.idle": "2024-08-05T09:03:34.661721Z",
     "shell.execute_reply": "2024-08-05T09:03:34.660922Z"
    },
    "papermill": {
     "duration": 156.690608,
     "end_time": "2024-08-05T09:03:34.664169",
     "exception": false,
     "start_time": "2024-08-05T09:00:57.973561",
     "status": "completed"
    },
    "tags": []
   },
   "outputs": [],
   "source": [
    "xgb = XGBClassifier(**params_xgb)\n",
    "xgb.fit(X, y) \n",
    "test_preds_xgb = xgb.predict(test)"
   ]
  },
  {
   "cell_type": "code",
   "execution_count": 15,
   "id": "db2ddd7b",
   "metadata": {},
   "outputs": [],
   "source": [
    "pkl.dump(xgb, open('./model/model.pkl', 'wb'))"
   ]
  },
  {
   "cell_type": "code",
   "execution_count": 24,
   "id": "894f2985",
   "metadata": {},
   "outputs": [],
   "source": [
    "del train, test"
   ]
  },
  {
   "cell_type": "markdown",
   "id": "fa8f5fa4",
   "metadata": {
    "papermill": {
     "duration": 0.005418,
     "end_time": "2024-08-05T09:03:34.675805",
     "exception": false,
     "start_time": "2024-08-05T09:03:34.670387",
     "status": "completed"
    },
    "tags": []
   },
   "source": [
    "<div style=\"background-color: blue; padding: 10px; border-radius: 10px\">\n",
    "    <h1 align=\"center\"><font color='lightblue'>Submission</font></h1>\n",
    "</div>"
   ]
  },
  {
   "cell_type": "code",
   "execution_count": 42,
   "id": "34af898a",
   "metadata": {
    "execution": {
     "iopub.execute_input": "2024-08-05T09:03:34.688673Z",
     "iopub.status.busy": "2024-08-05T09:03:34.688331Z",
     "iopub.status.idle": "2024-08-05T09:03:34.752277Z",
     "shell.execute_reply": "2024-08-05T09:03:34.751241Z"
    },
    "papermill": {
     "duration": 0.07281,
     "end_time": "2024-08-05T09:03:34.754374",
     "exception": false,
     "start_time": "2024-08-05T09:03:34.681564",
     "status": "completed"
    },
    "tags": []
   },
   "outputs": [
    {
     "name": "stdout",
     "output_type": "stream",
     "text": [
      "Memory usage of dataframe is 31.71 MB\n",
      "Memory usage after optimization is: 17.84 MB\n",
      "Decreased by 43.7%\n"
     ]
    },
    {
     "data": {
      "text/html": [
       "<div>\n",
       "<style scoped>\n",
       "    .dataframe tbody tr th:only-of-type {\n",
       "        vertical-align: middle;\n",
       "    }\n",
       "\n",
       "    .dataframe tbody tr th {\n",
       "        vertical-align: top;\n",
       "    }\n",
       "\n",
       "    .dataframe thead th {\n",
       "        text-align: right;\n",
       "    }\n",
       "</style>\n",
       "<table border=\"1\" class=\"dataframe\">\n",
       "  <thead>\n",
       "    <tr style=\"text-align: right;\">\n",
       "      <th></th>\n",
       "      <th>class</th>\n",
       "    </tr>\n",
       "    <tr>\n",
       "      <th>id</th>\n",
       "      <th></th>\n",
       "    </tr>\n",
       "  </thead>\n",
       "  <tbody>\n",
       "    <tr>\n",
       "      <th>3116945</th>\n",
       "      <td>p</td>\n",
       "    </tr>\n",
       "    <tr>\n",
       "      <th>3116946</th>\n",
       "      <td>p</td>\n",
       "    </tr>\n",
       "    <tr>\n",
       "      <th>3116947</th>\n",
       "      <td>p</td>\n",
       "    </tr>\n",
       "    <tr>\n",
       "      <th>3116948</th>\n",
       "      <td>p</td>\n",
       "    </tr>\n",
       "    <tr>\n",
       "      <th>3116949</th>\n",
       "      <td>p</td>\n",
       "    </tr>\n",
       "  </tbody>\n",
       "</table>\n",
       "</div>"
      ],
      "text/plain": [
       "        class\n",
       "id           \n",
       "3116945     p\n",
       "3116946     p\n",
       "3116947     p\n",
       "3116948     p\n",
       "3116949     p"
      ]
     },
     "execution_count": 42,
     "metadata": {},
     "output_type": "execute_result"
    }
   ],
   "source": [
    "sample_submission = import_data('./data/sample_submission.csv', index_col='id')\n",
    "test_preds_series = pd.Series(test_preds_xgb, index=sample_submission.index)\n",
    "sample_submission['class'] = test_preds_series.map({0: 'p', 1: 'e'})\n",
    "sample_submission.head()"
   ]
  },
  {
   "cell_type": "code",
   "execution_count": 44,
   "id": "06c77d1c",
   "metadata": {
    "execution": {
     "iopub.execute_input": "2024-08-05T09:03:34.767254Z",
     "iopub.status.busy": "2024-08-05T09:03:34.766968Z",
     "iopub.status.idle": "2024-08-05T09:03:37.216790Z",
     "shell.execute_reply": "2024-08-05T09:03:37.216012Z"
    },
    "papermill": {
     "duration": 2.458783,
     "end_time": "2024-08-05T09:03:37.219124",
     "exception": false,
     "start_time": "2024-08-05T09:03:34.760341",
     "status": "completed"
    },
    "tags": []
   },
   "outputs": [],
   "source": [
    "sample_submission.to_csv('submission.csv', index=True)"
   ]
  }
 ],
 "metadata": {
  "kaggle": {
   "accelerator": "nvidiaTeslaT4",
   "dataSources": [
    {
     "databundleVersionId": 9045607,
     "sourceId": 76727,
     "sourceType": "competition"
    }
   ],
   "dockerImageVersionId": 30747,
   "isGpuEnabled": true,
   "isInternetEnabled": true,
   "language": "python",
   "sourceType": "notebook"
  },
  "kernelspec": {
   "display_name": "Python 3 (ipykernel)",
   "language": "python",
   "name": "python3"
  },
  "papermill": {
   "default_parameters": {},
   "duration": 836.738516,
   "end_time": "2024-08-05T09:03:38.046888",
   "environment_variables": {},
   "exception": null,
   "input_path": "__notebook__.ipynb",
   "output_path": "__notebook__.ipynb",
   "parameters": {},
   "start_time": "2024-08-05T08:49:41.308372",
   "version": "2.5.0"
  }
 },
 "nbformat": 4,
 "nbformat_minor": 5
}
