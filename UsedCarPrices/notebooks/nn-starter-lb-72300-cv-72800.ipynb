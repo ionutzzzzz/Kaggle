{
 "cells": [
  {
   "cell_type": "markdown",
   "id": "944b164a",
   "metadata": {
    "papermill": {
     "duration": 0.006835,
     "end_time": "2024-09-19T02:58:49.896237",
     "exception": false,
     "start_time": "2024-09-19T02:58:49.889402",
     "status": "completed"
    },
    "tags": []
   },
   "source": [
    "# NN (Neural Network) Starter for Used Car Comp\n",
    "This notebook shows how to make a simple NN for Kaggle's playground used car regression competition. It uses embedding layers for categorical features and standardizes numerical features. This notebook achieves `CV=72800` and `LB=72300` without any feature engineering nor external data! Discussion [here][1]\n",
    "\n",
    "We can improve the CV score and LB score by:\n",
    "* engineering more features \n",
    "* try different preprocess\n",
    "* use more train data and/or data augmentation\n",
    "* modify NN architecture\n",
    "* adjust learning rate and schedules\n",
    "* modify optimizers and loss function\n",
    "* post process\n",
    "\n",
    "**UPDATE** Version 2 fixes typo in Code cell #4 discovered by ScriptChef [here][2]. After standardizing numerical feature(s) to `mean=0` and `std=1`, we need to `fillna()` with `zero`, not `mean`. (This typo didn't affect version 1 `submission.csv` nor CV score because numerical feature `milage` didn't have any NAN, but if we engineer more numerical features, it is good to do this correctly).\n",
    "\n",
    "[1]: https://www.kaggle.com/competitions/playground-series-s4e9/discussion/532965\n",
    "[2]: https://www.kaggle.com/competitions/playground-series-s4e9/discussion/532965#2989439"
   ]
  },
  {
   "cell_type": "code",
   "execution_count": 1,
   "id": "83c65431",
   "metadata": {
    "execution": {
     "iopub.execute_input": "2024-09-19T02:58:49.910064Z",
     "iopub.status.busy": "2024-09-19T02:58:49.909670Z",
     "iopub.status.idle": "2024-09-19T02:58:49.919712Z",
     "shell.execute_reply": "2024-09-19T02:58:49.919008Z"
    },
    "papermill": {
     "duration": 0.019287,
     "end_time": "2024-09-19T02:58:49.921695",
     "exception": false,
     "start_time": "2024-09-19T02:58:49.902408",
     "status": "completed"
    },
    "tags": []
   },
   "outputs": [],
   "source": [
    "import os\n",
    "os.environ[\"CUDA_VISIBLE_DEVICES\"] = \"0,1\" \n",
    "\n",
    "VER=1"
   ]
  },
  {
   "cell_type": "markdown",
   "id": "48b3bdcc",
   "metadata": {
    "papermill": {
     "duration": 0.005627,
     "end_time": "2024-09-19T02:58:49.933335",
     "exception": false,
     "start_time": "2024-09-19T02:58:49.927708",
     "status": "completed"
    },
    "tags": []
   },
   "source": [
    "# Load Train and Test"
   ]
  },
  {
   "cell_type": "code",
   "execution_count": 2,
   "id": "599d0d2d",
   "metadata": {
    "_cell_guid": "b1076dfc-b9ad-4769-8c92-a6c4dae69d19",
    "_uuid": "8f2839f25d086af736a60e9eeb907d3b93b6e0e5",
    "execution": {
     "iopub.execute_input": "2024-09-19T02:58:49.947006Z",
     "iopub.status.busy": "2024-09-19T02:58:49.946671Z",
     "iopub.status.idle": "2024-09-19T02:58:52.002181Z",
     "shell.execute_reply": "2024-09-19T02:58:52.001152Z"
    },
    "papermill": {
     "duration": 2.064567,
     "end_time": "2024-09-19T02:58:52.004195",
     "exception": false,
     "start_time": "2024-09-19T02:58:49.939628",
     "status": "completed"
    },
    "tags": []
   },
   "outputs": [
    {
     "name": "stdout",
     "output_type": "stream",
     "text": [
      "Train shape: (188533, 13)\n"
     ]
    },
    {
     "data": {
      "text/html": [
       "<div>\n",
       "<style scoped>\n",
       "    .dataframe tbody tr th:only-of-type {\n",
       "        vertical-align: middle;\n",
       "    }\n",
       "\n",
       "    .dataframe tbody tr th {\n",
       "        vertical-align: top;\n",
       "    }\n",
       "\n",
       "    .dataframe thead th {\n",
       "        text-align: right;\n",
       "    }\n",
       "</style>\n",
       "<table border=\"1\" class=\"dataframe\">\n",
       "  <thead>\n",
       "    <tr style=\"text-align: right;\">\n",
       "      <th></th>\n",
       "      <th>id</th>\n",
       "      <th>brand</th>\n",
       "      <th>model</th>\n",
       "      <th>model_year</th>\n",
       "      <th>milage</th>\n",
       "      <th>fuel_type</th>\n",
       "      <th>engine</th>\n",
       "      <th>transmission</th>\n",
       "      <th>ext_col</th>\n",
       "      <th>int_col</th>\n",
       "      <th>accident</th>\n",
       "      <th>clean_title</th>\n",
       "      <th>price</th>\n",
       "    </tr>\n",
       "  </thead>\n",
       "  <tbody>\n",
       "    <tr>\n",
       "      <th>0</th>\n",
       "      <td>0</td>\n",
       "      <td>MINI</td>\n",
       "      <td>Cooper S Base</td>\n",
       "      <td>2007</td>\n",
       "      <td>213000</td>\n",
       "      <td>Gasoline</td>\n",
       "      <td>172.0HP 1.6L 4 Cylinder Engine Gasoline Fuel</td>\n",
       "      <td>A/T</td>\n",
       "      <td>Yellow</td>\n",
       "      <td>Gray</td>\n",
       "      <td>None reported</td>\n",
       "      <td>Yes</td>\n",
       "      <td>4200</td>\n",
       "    </tr>\n",
       "  </tbody>\n",
       "</table>\n",
       "</div>"
      ],
      "text/plain": [
       "   id brand          model  model_year  milage fuel_type  \\\n",
       "0   0  MINI  Cooper S Base        2007  213000  Gasoline   \n",
       "\n",
       "                                         engine transmission ext_col int_col  \\\n",
       "0  172.0HP 1.6L 4 Cylinder Engine Gasoline Fuel          A/T  Yellow    Gray   \n",
       "\n",
       "        accident clean_title  price  \n",
       "0  None reported         Yes   4200  "
      ]
     },
     "metadata": {},
     "output_type": "display_data"
    },
    {
     "name": "stdout",
     "output_type": "stream",
     "text": [
      "Test shape: (125690, 13)\n"
     ]
    },
    {
     "data": {
      "text/html": [
       "<div>\n",
       "<style scoped>\n",
       "    .dataframe tbody tr th:only-of-type {\n",
       "        vertical-align: middle;\n",
       "    }\n",
       "\n",
       "    .dataframe tbody tr th {\n",
       "        vertical-align: top;\n",
       "    }\n",
       "\n",
       "    .dataframe thead th {\n",
       "        text-align: right;\n",
       "    }\n",
       "</style>\n",
       "<table border=\"1\" class=\"dataframe\">\n",
       "  <thead>\n",
       "    <tr style=\"text-align: right;\">\n",
       "      <th></th>\n",
       "      <th>id</th>\n",
       "      <th>brand</th>\n",
       "      <th>model</th>\n",
       "      <th>model_year</th>\n",
       "      <th>milage</th>\n",
       "      <th>fuel_type</th>\n",
       "      <th>engine</th>\n",
       "      <th>transmission</th>\n",
       "      <th>ext_col</th>\n",
       "      <th>int_col</th>\n",
       "      <th>accident</th>\n",
       "      <th>clean_title</th>\n",
       "      <th>price</th>\n",
       "    </tr>\n",
       "  </thead>\n",
       "  <tbody>\n",
       "    <tr>\n",
       "      <th>0</th>\n",
       "      <td>188533</td>\n",
       "      <td>Land</td>\n",
       "      <td>Rover LR2 Base</td>\n",
       "      <td>2015</td>\n",
       "      <td>98000</td>\n",
       "      <td>Gasoline</td>\n",
       "      <td>240.0HP 2.0L 4 Cylinder Engine Gasoline Fuel</td>\n",
       "      <td>6-Speed A/T</td>\n",
       "      <td>White</td>\n",
       "      <td>Beige</td>\n",
       "      <td>None reported</td>\n",
       "      <td>Yes</td>\n",
       "      <td>0</td>\n",
       "    </tr>\n",
       "  </tbody>\n",
       "</table>\n",
       "</div>"
      ],
      "text/plain": [
       "       id brand           model  model_year  milage fuel_type  \\\n",
       "0  188533  Land  Rover LR2 Base        2015   98000  Gasoline   \n",
       "\n",
       "                                         engine transmission ext_col int_col  \\\n",
       "0  240.0HP 2.0L 4 Cylinder Engine Gasoline Fuel  6-Speed A/T   White   Beige   \n",
       "\n",
       "        accident clean_title  price  \n",
       "0  None reported         Yes      0  "
      ]
     },
     "metadata": {},
     "output_type": "display_data"
    },
    {
     "name": "stdout",
     "output_type": "stream",
     "text": [
      "Combined shape: (314223, 13)\n"
     ]
    }
   ],
   "source": [
    "import pandas as pd, numpy as np\n",
    "import matplotlib.pyplot as plt\n",
    "\n",
    "train = pd.read_csv(\"/kaggle/input/playground-series-s4e9/train.csv\") \n",
    "print(\"Train shape:\", train.shape )\n",
    "TRAIN_LN = len(train)\n",
    "display( train.head(1) )\n",
    "\n",
    "test = pd.read_csv(\"/kaggle/input/playground-series-s4e9/test.csv\") \n",
    "test['price'] = 0\n",
    "print(\"Test shape:\", test.shape )\n",
    "display( test.head(1) )\n",
    "\n",
    "train = pd.concat([train,test],axis=0,ignore_index=True)\n",
    "print(\"Combined shape:\", train.shape )"
   ]
  },
  {
   "cell_type": "markdown",
   "id": "7e4d2da5",
   "metadata": {
    "papermill": {
     "duration": 0.007049,
     "end_time": "2024-09-19T02:58:52.017969",
     "exception": false,
     "start_time": "2024-09-19T02:58:52.010920",
     "status": "completed"
    },
    "tags": []
   },
   "source": [
    "# Preprocess\n",
    "We process categorical and numerical features of train and test data combined.\n",
    "\n",
    "For categoricals, we use label encoder and label all rare values as `label=0` and NAN as `label=1`. (Pandas factorize transforms NAN into -1 then we add 1, then we add 1). We define a rare value as `samples < 40`. We label all unseen test values as `label=0` too (because these values have no train samples to train the embedding).\n",
    "\n",
    "For numerical features, we standardize them because NN like numerical to have `mean=0` and `std=1`."
   ]
  },
  {
   "cell_type": "code",
   "execution_count": 3,
   "id": "58bdf21a",
   "metadata": {
    "execution": {
     "iopub.execute_input": "2024-09-19T02:58:52.032272Z",
     "iopub.status.busy": "2024-09-19T02:58:52.031941Z",
     "iopub.status.idle": "2024-09-19T02:58:52.037495Z",
     "shell.execute_reply": "2024-09-19T02:58:52.036610Z"
    },
    "papermill": {
     "duration": 0.014943,
     "end_time": "2024-09-19T02:58:52.039469",
     "exception": false,
     "start_time": "2024-09-19T02:58:52.024526",
     "status": "completed"
    },
    "tags": []
   },
   "outputs": [
    {
     "name": "stdout",
     "output_type": "stream",
     "text": [
      "Categorical features: ['brand', 'model', 'model_year', 'fuel_type', 'engine', 'transmission', 'ext_col', 'int_col', 'accident', 'clean_title']\n",
      "Numerical features: ['milage']\n"
     ]
    }
   ],
   "source": [
    "CATS = [c for c in train.columns if not c in [\"id\",\"price\"] ]\n",
    "NUMS = ['milage']\n",
    "CATS = [c for c in CATS if not c in NUMS]\n",
    "print(\"Categorical features:\", CATS )\n",
    "print(\"Numerical features:\", NUMS)"
   ]
  },
  {
   "cell_type": "code",
   "execution_count": 4,
   "id": "a02bc9ef",
   "metadata": {
    "execution": {
     "iopub.execute_input": "2024-09-19T02:58:52.053587Z",
     "iopub.status.busy": "2024-09-19T02:58:52.053304Z",
     "iopub.status.idle": "2024-09-19T02:58:52.066948Z",
     "shell.execute_reply": "2024-09-19T02:58:52.065871Z"
    },
    "papermill": {
     "duration": 0.023041,
     "end_time": "2024-09-19T02:58:52.069009",
     "exception": false,
     "start_time": "2024-09-19T02:58:52.045968",
     "status": "completed"
    },
    "tags": []
   },
   "outputs": [
    {
     "name": "stdout",
     "output_type": "stream",
     "text": [
      "STANDARDIZING: milage , "
     ]
    }
   ],
   "source": [
    "# STANDARIZE NUMERICAL FEATURES\n",
    "print(\"STANDARDIZING: \",end=\"\")\n",
    "for c in NUMS:\n",
    "    print(c,', ',end='')\n",
    "    m = train[c].mean()\n",
    "    s = train[c].std()\n",
    "    train[c] = (train[c]-m)/s\n",
    "    train[c] = train[c].fillna(0)"
   ]
  },
  {
   "cell_type": "code",
   "execution_count": 5,
   "id": "4477c2b6",
   "metadata": {
    "execution": {
     "iopub.execute_input": "2024-09-19T02:58:52.084261Z",
     "iopub.status.busy": "2024-09-19T02:58:52.083968Z",
     "iopub.status.idle": "2024-09-19T02:58:52.588983Z",
     "shell.execute_reply": "2024-09-19T02:58:52.587891Z"
    },
    "papermill": {
     "duration": 0.51467,
     "end_time": "2024-09-19T02:58:52.590973",
     "exception": false,
     "start_time": "2024-09-19T02:58:52.076303",
     "status": "completed"
    },
    "tags": []
   },
   "outputs": [
    {
     "name": "stdout",
     "output_type": "stream",
     "text": [
      "LABEL ENCODING:\n",
      "brand: nunique=57, min=0, max=56, rare_ct=8\n",
      "model: nunique=1898, min=0, max=1897, rare_ct=551\n",
      "model_year: nunique=36, min=0, max=35, rare_ct=4\n",
      "fuel_type: nunique=8, min=0, max=7, rare_ct=1\n",
      "engine: nunique=1118, min=0, max=1117, rare_ct=308\n",
      "transmission: nunique=52, min=0, max=51, rare_ct=8\n",
      "ext_col: nunique=319, min=0, max=318, rare_ct=99\n",
      "int_col: nunique=156, min=0, max=155, rare_ct=48\n",
      "accident: nunique=3, min=0, max=2, rare_ct=0\n",
      "clean_title: nunique=2, min=0, max=1, rare_ct=0\n"
     ]
    }
   ],
   "source": [
    "# LABEL ENCODE CATEGORICAL FEATURES\n",
    "CAT_SIZE = []\n",
    "CAT_EMB = []\n",
    "RARE = []\n",
    "\n",
    "print(\"LABEL ENCODING:\")\n",
    "for c in CATS:\n",
    "    # LABEL ENCODE\n",
    "    train[c],_ = train[c].factorize()\n",
    "    train[c] -= train[c].min()\n",
    "    vc = train[c].value_counts()\n",
    "    \n",
    "    # IDENTIFY RARE VALUES\n",
    "    RARE.append( vc.loc[vc<40].index.values )\n",
    "    n = train[c].nunique()\n",
    "    mn = train[c].min()\n",
    "    mx = train[c].max()\n",
    "    r = len(RARE[-1])\n",
    "    print(f'{c}: nunique={n}, min={mn}, max={mx}, rare_ct={r}')\n",
    "    \n",
    "    # RELABEL RARE VALUES AS ZERO\n",
    "    CAT_SIZE.append(mx+1 +1) #ADD ONE FOR RARE\n",
    "    CAT_EMB.append( int(np.ceil( np.sqrt(mx+1 +1))) ) # ADD ONE FOR RARE\n",
    "    train[c] += 1\n",
    "    train.loc[train[c].isin(RARE[-1]),c] = 0 "
   ]
  },
  {
   "cell_type": "markdown",
   "id": "ac7d3cf8",
   "metadata": {
    "papermill": {
     "duration": 0.007483,
     "end_time": "2024-09-19T02:58:52.606060",
     "exception": false,
     "start_time": "2024-09-19T02:58:52.598577",
     "status": "completed"
    },
    "tags": []
   },
   "source": [
    "# EDA Test Data vs. Train Data"
   ]
  },
  {
   "cell_type": "code",
   "execution_count": 6,
   "id": "4da40feb",
   "metadata": {
    "execution": {
     "iopub.execute_input": "2024-09-19T02:58:52.621970Z",
     "iopub.status.busy": "2024-09-19T02:58:52.621636Z",
     "iopub.status.idle": "2024-09-19T02:58:52.631544Z",
     "shell.execute_reply": "2024-09-19T02:58:52.630806Z"
    },
    "papermill": {
     "duration": 0.020017,
     "end_time": "2024-09-19T02:58:52.633455",
     "exception": false,
     "start_time": "2024-09-19T02:58:52.613438",
     "status": "completed"
    },
    "tags": []
   },
   "outputs": [
    {
     "data": {
      "text/plain": [
       "((188533, 13), (125690, 13))"
      ]
     },
     "execution_count": 6,
     "metadata": {},
     "output_type": "execute_result"
    }
   ],
   "source": [
    "test = train.iloc[TRAIN_LN:]\n",
    "train = train.iloc[:TRAIN_LN]\n",
    "train.shape, test.shape"
   ]
  },
  {
   "cell_type": "code",
   "execution_count": 7,
   "id": "76c257cc",
   "metadata": {
    "execution": {
     "iopub.execute_input": "2024-09-19T02:58:52.649965Z",
     "iopub.status.busy": "2024-09-19T02:58:52.649650Z",
     "iopub.status.idle": "2024-09-19T02:58:52.696906Z",
     "shell.execute_reply": "2024-09-19T02:58:52.696007Z"
    },
    "papermill": {
     "duration": 0.057908,
     "end_time": "2024-09-19T02:58:52.698992",
     "exception": false,
     "start_time": "2024-09-19T02:58:52.641084",
     "status": "completed"
    },
    "tags": []
   },
   "outputs": [
    {
     "name": "stdout",
     "output_type": "stream",
     "text": [
      "brand: Test has label encodes = [] which are not in train.\n",
      "model: Test has label encodes = [1898] which are not in train.\n",
      " => 1 rows\n",
      "model_year: Test has label encodes = [36] which are not in train.\n",
      " => 1 rows\n",
      "fuel_type: Test has label encodes = [] which are not in train.\n",
      "engine: Test has label encodes = [1118] which are not in train.\n",
      " => 4 rows\n",
      "transmission: Test has label encodes = [] which are not in train.\n",
      "ext_col: Test has label encodes = [] which are not in train.\n",
      "int_col: Test has label encodes = [] which are not in train.\n",
      "accident: Test has label encodes = [] which are not in train.\n",
      "clean_title: Test has label encodes = [] which are not in train.\n"
     ]
    }
   ],
   "source": [
    "for c in CATS:\n",
    "    # COMPARE TEST CAT VALUES TO TRAIN CAT VALUES\n",
    "    A = train[c].unique()\n",
    "    B = test[c].unique()\n",
    "    C = np.setdiff1d(B,A)\n",
    "    print(f\"{c}: Test has label encodes = {C} which are not in train.\")\n",
    "    if len(C)>0:\n",
    "        print(f\" => {len(test.loc[test[c].isin(C)])} rows\" )\n",
    "        \n",
    "    # RELABEL UNSEEN TEST VALUES AS ZERO\n",
    "    test.loc[test[c].isin(C),c] = 0 "
   ]
  },
  {
   "cell_type": "markdown",
   "id": "79b3b670",
   "metadata": {
    "papermill": {
     "duration": 0.007169,
     "end_time": "2024-09-19T02:58:52.714646",
     "exception": false,
     "start_time": "2024-09-19T02:58:52.707477",
     "status": "completed"
    },
    "tags": []
   },
   "source": [
    "# NN Model"
   ]
  },
  {
   "cell_type": "code",
   "execution_count": 8,
   "id": "046fd466",
   "metadata": {
    "execution": {
     "iopub.execute_input": "2024-09-19T02:58:52.730966Z",
     "iopub.status.busy": "2024-09-19T02:58:52.730664Z",
     "iopub.status.idle": "2024-09-19T02:59:05.222484Z",
     "shell.execute_reply": "2024-09-19T02:59:05.221315Z"
    },
    "papermill": {
     "duration": 12.502502,
     "end_time": "2024-09-19T02:59:05.224578",
     "exception": false,
     "start_time": "2024-09-19T02:58:52.722076",
     "status": "completed"
    },
    "tags": []
   },
   "outputs": [
    {
     "name": "stdout",
     "output_type": "stream",
     "text": [
      "TF Version 2.16.1\n"
     ]
    }
   ],
   "source": [
    "from sklearn.model_selection import KFold\n",
    "import tensorflow as tf\n",
    "from tensorflow.keras.models import Model\n",
    "from tensorflow.keras.layers import Dense, Dropout, Input, Embedding\n",
    "from tensorflow.keras.layers import Concatenate, Multiply\n",
    "import tensorflow.keras.backend as K\n",
    "\n",
    "print('TF Version',tf.__version__)"
   ]
  },
  {
   "cell_type": "markdown",
   "id": "d6124444",
   "metadata": {
    "papermill": {
     "duration": 0.007609,
     "end_time": "2024-09-19T02:59:05.240006",
     "exception": false,
     "start_time": "2024-09-19T02:59:05.232397",
     "status": "completed"
    },
    "tags": []
   },
   "source": [
    "# Learning Schedule\n",
    "We use simple learning schedule. We train `2 epochs` with Adam `LR=1e-3` then `1 more epoch` with Adam `LR=1e-4`."
   ]
  },
  {
   "cell_type": "code",
   "execution_count": 9,
   "id": "6de5afa2",
   "metadata": {
    "execution": {
     "iopub.execute_input": "2024-09-19T02:59:05.256516Z",
     "iopub.status.busy": "2024-09-19T02:59:05.255949Z",
     "iopub.status.idle": "2024-09-19T02:59:05.564128Z",
     "shell.execute_reply": "2024-09-19T02:59:05.563090Z"
    },
    "papermill": {
     "duration": 0.319277,
     "end_time": "2024-09-19T02:59:05.566753",
     "exception": false,
     "start_time": "2024-09-19T02:59:05.247476",
     "status": "completed"
    },
    "tags": []
   },
   "outputs": [
    {
     "name": "stdout",
     "output_type": "stream",
     "text": [
      "Learning rate schedule: 0.001 to 0.001 to 0.0001\n"
     ]
    },
    {
     "data": {
      "image/png": "[encoded data removed]",
      "text/plain": [
       "<Figure size 1000x400 with 1 Axes>"
      ]
     },
     "metadata": {},
     "output_type": "display_data"
    }
   ],
   "source": [
    "EPOCHS = 3\n",
    "LRS = [0.001]*2 + [0.0001]*1\n",
    "\n",
    "def lrfn(epoch):\n",
    "    return LRS[epoch]\n",
    "\n",
    "rng = [i for i in range(EPOCHS)]\n",
    "lr_y = [lrfn(x) for x in rng]\n",
    "plt.figure(figsize=(10, 4))\n",
    "plt.plot(rng, lr_y, '-o')\n",
    "print(\"Learning rate schedule: {:.3g} to {:.3g} to {:.3g}\". \\\n",
    "        format(lr_y[0], max(lr_y), lr_y[-1]))\n",
    "plt.xlabel(\"Epoch\")\n",
    "plt.ylabel(\"Learning Rate\")\n",
    "plt.title(\"Learning Rate Schedule\")\n",
    "plt.show()\n",
    "\n",
    "lr_callback = tf.keras.callbacks.LearningRateScheduler(lrfn, verbose = True)"
   ]
  },
  {
   "cell_type": "markdown",
   "id": "795c7c6a",
   "metadata": {
    "papermill": {
     "duration": 0.008177,
     "end_time": "2024-09-19T02:59:05.583492",
     "exception": false,
     "start_time": "2024-09-19T02:59:05.575315",
     "status": "completed"
    },
    "tags": []
   },
   "source": [
    "# Build NN Model\n",
    "We use simple architecture. We label encode categoricals then concatenate that with numericals. Then we use 3 hidden layers. Finally we output 1 regression. We will use MSE loss and RMSE metric."
   ]
  },
  {
   "cell_type": "code",
   "execution_count": 10,
   "id": "1e8d1615",
   "metadata": {
    "execution": {
     "iopub.execute_input": "2024-09-19T02:59:05.600790Z",
     "iopub.status.busy": "2024-09-19T02:59:05.600478Z",
     "iopub.status.idle": "2024-09-19T02:59:05.608159Z",
     "shell.execute_reply": "2024-09-19T02:59:05.607287Z"
    },
    "papermill": {
     "duration": 0.018528,
     "end_time": "2024-09-19T02:59:05.610062",
     "exception": false,
     "start_time": "2024-09-19T02:59:05.591534",
     "status": "completed"
    },
    "tags": []
   },
   "outputs": [],
   "source": [
    "def build_model():\n",
    "    \n",
    "    # CATEGORICAL FEATURES\n",
    "    x_input_cats = Input(shape=(len(CATS),))\n",
    "    embs = []\n",
    "    for j in range(len(CATS)):\n",
    "        e = tf.keras.layers.Embedding(CAT_SIZE[j],CAT_EMB[j])\n",
    "        x = e(x_input_cats[:,j])\n",
    "        x = tf.keras.layers.Flatten()(x)\n",
    "        embs.append(x)\n",
    "        \n",
    "    # NUMERICAL FEATURES\n",
    "    x_input_nums = Input(shape=(len(NUMS),))\n",
    "    \n",
    "    # COMBINE\n",
    "    x = tf.keras.layers.Concatenate(axis=-1)(embs+[x_input_nums]) \n",
    "    x = Dense(256, activation='relu')(x)\n",
    "    x = Dense(256, activation='relu')(x)\n",
    "    x = Dense(256, activation='relu')(x)\n",
    "    x = Dense(1, activation='linear')(x)\n",
    "    \n",
    "    model = Model(inputs=[x_input_cats,x_input_nums], outputs=x)\n",
    "    \n",
    "    return model"
   ]
  },
  {
   "cell_type": "markdown",
   "id": "a43139f8",
   "metadata": {
    "papermill": {
     "duration": 0.008613,
     "end_time": "2024-09-19T02:59:05.627348",
     "exception": false,
     "start_time": "2024-09-19T02:59:05.618735",
     "status": "completed"
    },
    "tags": []
   },
   "source": [
    "# Train KFold\n",
    "We train with KFold and save OOF to disk. We can use them later for finding ensemble weights with other models."
   ]
  },
  {
   "cell_type": "code",
   "execution_count": 11,
   "id": "0a338834",
   "metadata": {
    "execution": {
     "iopub.execute_input": "2024-09-19T02:59:05.645217Z",
     "iopub.status.busy": "2024-09-19T02:59:05.644888Z",
     "iopub.status.idle": "2024-09-19T03:01:22.586617Z",
     "shell.execute_reply": "2024-09-19T03:01:22.585657Z"
    },
    "papermill": {
     "duration": 136.953405,
     "end_time": "2024-09-19T03:01:22.588756",
     "exception": false,
     "start_time": "2024-09-19T02:59:05.635351",
     "status": "completed"
    },
    "tags": []
   },
   "outputs": [
    {
     "name": "stdout",
     "output_type": "stream",
     "text": [
      "#########################\n",
      "### Fold 1 ###\n",
      "#########################\n",
      "\n",
      "Epoch 1: LearningRateScheduler setting learning rate to 0.001.\n",
      "Epoch 1/3\n"
     ]
    },
    {
     "name": "stderr",
     "output_type": "stream",
     "text": [
      "WARNING: All log messages before absl::InitializeLog() is called are written to STDERR\n",
      "I0000 00:00:1726714749.682596      69 service.cc:145] XLA service 0x55640227d020 initialized for platform CUDA (this does not guarantee that XLA will be used). Devices:\n",
      "I0000 00:00:1726714749.682654      69 service.cc:153]   StreamExecutor device (0): Tesla T4, Compute Capability 7.5\n",
      "I0000 00:00:1726714749.682658      69 service.cc:153]   StreamExecutor device (1): Tesla T4, Compute Capability 7.5\n",
      "I0000 00:00:1726714752.375609      69 device_compiler.h:188] Compiled cluster using XLA!  This line is logged at most once for the lifetime of the process.\n"
     ]
    },
    {
     "name": "stdout",
     "output_type": "stream",
     "text": [
      "2357/2357 - 15s - 6ms/step - loss: 5670907904.0000 - root_mean_squared_error: 75305.4297 - val_loss: 4636544000.0000 - val_root_mean_squared_error: 68092.1719 - learning_rate: 0.0010\n",
      "\n",
      "Epoch 2: LearningRateScheduler setting learning rate to 0.001.\n",
      "Epoch 2/3\n",
      "2357/2357 - 6s - 3ms/step - loss: 5443644416.0000 - root_mean_squared_error: 73781.0547 - val_loss: 4640188416.0000 - val_root_mean_squared_error: 68118.9297 - learning_rate: 0.0010\n",
      "\n",
      "Epoch 3: LearningRateScheduler setting learning rate to 0.0001.\n",
      "Epoch 3/3\n",
      "2357/2357 - 6s - 3ms/step - loss: 5377568256.0000 - root_mean_squared_error: 73331.8984 - val_loss: 4624611328.0000 - val_root_mean_squared_error: 68004.4922 - learning_rate: 1.0000e-04\n",
      "\u001b[1m74/74\u001b[0m \u001b[32m━━━━━━━━━━━━━━━━━━━━\u001b[0m\u001b[37m\u001b[0m \u001b[1m1s\u001b[0m 9ms/step\n",
      " => RSME = 68004.4843725233 \n",
      "\n",
      "\u001b[1m246/246\u001b[0m \u001b[32m━━━━━━━━━━━━━━━━━━━━\u001b[0m\u001b[37m\u001b[0m \u001b[1m1s\u001b[0m 3ms/step\n",
      "#########################\n",
      "### Fold 2 ###\n",
      "#########################\n",
      "\n",
      "Epoch 1: LearningRateScheduler setting learning rate to 0.001.\n",
      "Epoch 1/3\n",
      "2357/2357 - 12s - 5ms/step - loss: 5640680960.0000 - root_mean_squared_error: 75104.4609 - val_loss: 4761796608.0000 - val_root_mean_squared_error: 69005.7734 - learning_rate: 0.0010\n",
      "\n",
      "Epoch 2: LearningRateScheduler setting learning rate to 0.001.\n",
      "Epoch 2/3\n",
      "2357/2357 - 6s - 3ms/step - loss: 5419670016.0000 - root_mean_squared_error: 73618.4062 - val_loss: 4734087680.0000 - val_root_mean_squared_error: 68804.7031 - learning_rate: 0.0010\n",
      "\n",
      "Epoch 3: LearningRateScheduler setting learning rate to 0.0001.\n",
      "Epoch 3/3\n",
      "2357/2357 - 6s - 3ms/step - loss: 5348893696.0000 - root_mean_squared_error: 73136.1328 - val_loss: 4735775232.0000 - val_root_mean_squared_error: 68816.9688 - learning_rate: 1.0000e-04\n",
      "\u001b[1m74/74\u001b[0m \u001b[32m━━━━━━━━━━━━━━━━━━━━\u001b[0m\u001b[37m\u001b[0m \u001b[1m1s\u001b[0m 7ms/step\n",
      " => RSME = 68816.96685404905 \n",
      "\n",
      "\u001b[1m246/246\u001b[0m \u001b[32m━━━━━━━━━━━━━━━━━━━━\u001b[0m\u001b[37m\u001b[0m \u001b[1m1s\u001b[0m 2ms/step\n",
      "#########################\n",
      "### Fold 3 ###\n",
      "#########################\n",
      "\n",
      "Epoch 1: LearningRateScheduler setting learning rate to 0.001.\n",
      "Epoch 1/3\n",
      "2357/2357 - 12s - 5ms/step - loss: 5455761920.0000 - root_mean_squared_error: 73863.1250 - val_loss: 5488995840.0000 - val_root_mean_squared_error: 74087.7578 - learning_rate: 0.0010\n",
      "\n",
      "Epoch 2: LearningRateScheduler setting learning rate to 0.001.\n",
      "Epoch 2/3\n",
      "2357/2357 - 6s - 3ms/step - loss: 5234951680.0000 - root_mean_squared_error: 72352.9609 - val_loss: 5480649216.0000 - val_root_mean_squared_error: 74031.4062 - learning_rate: 0.0010\n",
      "\n",
      "Epoch 3: LearningRateScheduler setting learning rate to 0.0001.\n",
      "Epoch 3/3\n",
      "2357/2357 - 6s - 3ms/step - loss: 5159690240.0000 - root_mean_squared_error: 71830.9844 - val_loss: 5484420096.0000 - val_root_mean_squared_error: 74056.8672 - learning_rate: 1.0000e-04\n",
      "\u001b[1m74/74\u001b[0m \u001b[32m━━━━━━━━━━━━━━━━━━━━\u001b[0m\u001b[37m\u001b[0m \u001b[1m1s\u001b[0m 7ms/step\n",
      " => RSME = 74056.90785210383 \n",
      "\n",
      "\u001b[1m246/246\u001b[0m \u001b[32m━━━━━━━━━━━━━━━━━━━━\u001b[0m\u001b[37m\u001b[0m \u001b[1m1s\u001b[0m 2ms/step\n",
      "#########################\n",
      "### Fold 4 ###\n",
      "#########################\n",
      "\n",
      "Epoch 1: LearningRateScheduler setting learning rate to 0.001.\n",
      "Epoch 1/3\n",
      "2357/2357 - 13s - 5ms/step - loss: 5360355840.0000 - root_mean_squared_error: 73214.4531 - val_loss: 5905449472.0000 - val_root_mean_squared_error: 76846.9219 - learning_rate: 0.0010\n",
      "\n",
      "Epoch 2: LearningRateScheduler setting learning rate to 0.001.\n",
      "Epoch 2/3\n",
      "2357/2357 - 6s - 3ms/step - loss: 5139749888.0000 - root_mean_squared_error: 71692.0469 - val_loss: 5860204544.0000 - val_root_mean_squared_error: 76551.9688 - learning_rate: 0.0010\n",
      "\n",
      "Epoch 3: LearningRateScheduler setting learning rate to 0.0001.\n",
      "Epoch 3/3\n",
      "2357/2357 - 6s - 3ms/step - loss: 5072258560.0000 - root_mean_squared_error: 71219.7891 - val_loss: 5856551424.0000 - val_root_mean_squared_error: 76528.1094 - learning_rate: 1.0000e-04\n",
      "\u001b[1m74/74\u001b[0m \u001b[32m━━━━━━━━━━━━━━━━━━━━\u001b[0m\u001b[37m\u001b[0m \u001b[1m1s\u001b[0m 9ms/step\n",
      " => RSME = 76528.12158684121 \n",
      "\n",
      "\u001b[1m246/246\u001b[0m \u001b[32m━━━━━━━━━━━━━━━━━━━━\u001b[0m\u001b[37m\u001b[0m \u001b[1m1s\u001b[0m 2ms/step\n",
      "#########################\n",
      "### Fold 5 ###\n",
      "#########################\n",
      "\n",
      "Epoch 1: LearningRateScheduler setting learning rate to 0.001.\n",
      "Epoch 1/3\n",
      "2357/2357 - 12s - 5ms/step - loss: 5374834176.0000 - root_mean_squared_error: 73313.2578 - val_loss: 5848080384.0000 - val_root_mean_squared_error: 76472.7422 - learning_rate: 0.0010\n",
      "\n",
      "Epoch 2: LearningRateScheduler setting learning rate to 0.001.\n",
      "Epoch 2/3\n",
      "2357/2357 - 6s - 3ms/step - loss: 5151968768.0000 - root_mean_squared_error: 71777.2188 - val_loss: 5812406272.0000 - val_root_mean_squared_error: 76239.1406 - learning_rate: 0.0010\n",
      "\n",
      "Epoch 3: LearningRateScheduler setting learning rate to 0.0001.\n",
      "Epoch 3/3\n",
      "2357/2357 - 6s - 3ms/step - loss: 5074284544.0000 - root_mean_squared_error: 71234.0156 - val_loss: 5815987712.0000 - val_root_mean_squared_error: 76262.6250 - learning_rate: 1.0000e-04\n",
      "\u001b[1m74/74\u001b[0m \u001b[32m━━━━━━━━━━━━━━━━━━━━\u001b[0m\u001b[37m\u001b[0m \u001b[1m1s\u001b[0m 7ms/step\n",
      " => RSME = 76262.62607004504 \n",
      "\n",
      "\u001b[1m246/246\u001b[0m \u001b[32m━━━━━━━━━━━━━━━━━━━━\u001b[0m\u001b[37m\u001b[0m \u001b[1m1s\u001b[0m 2ms/step\n"
     ]
    }
   ],
   "source": [
    "FOLDS = 5\n",
    "kf = KFold(n_splits=FOLDS, random_state=42, shuffle=True)\n",
    "\n",
    "oof = np.zeros( len(train) )\n",
    "pred = np.zeros( len(test) )\n",
    "\n",
    "directory = \"checkpoints\"\n",
    "if not os.path.exists(directory):\n",
    "    os.makedirs(directory)\n",
    "\n",
    "for i, (train_index, test_index) in enumerate(kf.split(train)):\n",
    "\n",
    "    \n",
    "    X_train_cats = train.loc[train_index,CATS].values\n",
    "    X_train_nums = train.loc[train_index,NUMS].values\n",
    "    y_train = train.loc[train_index,\"price\"].values\n",
    "    \n",
    "    X_valid_cats = train.loc[test_index,CATS].values\n",
    "    X_valid_nums = train.loc[test_index,NUMS].values\n",
    "    y_valid = train.loc[test_index,\"price\"].values\n",
    "    \n",
    "    X_test_cats = test[CATS].values\n",
    "    X_test_nums = test[NUMS].values\n",
    "    \n",
    "    print(\"#\"*25)\n",
    "    print(f\"### Fold {i+1} ###\")\n",
    "    print(\"#\"*25)\n",
    "    \n",
    "    # TRAIN MODEL\n",
    "    K.clear_session()\n",
    "    model = build_model()\n",
    "    model.compile(optimizer=tf.keras.optimizers.Adam(0.001), \n",
    "                  loss=\"mean_squared_error\", \n",
    "                  metrics=[tf.keras.metrics.RootMeanSquaredError()])\n",
    "    \n",
    "    model.fit([X_train_cats,X_train_nums], y_train, \n",
    "              validation_data = ([X_valid_cats,X_valid_nums], y_valid),\n",
    "              callbacks = [lr_callback],\n",
    "              batch_size=64, epochs=EPOCHS, verbose=2)\n",
    "    model.save_weights(f'{directory}/NN_v{VER}_f{i}.weights.h5')\n",
    "    \n",
    "    # OOF PREDS\n",
    "    oof_preds = model.predict([X_valid_cats,X_valid_nums], verbose=1, batch_size=512).flatten()\n",
    "    rsme = np.sqrt(np.mean( (oof_preds-y_valid)**2 ))\n",
    "    print(' => RSME =',rsme,'\\n')\n",
    "    if i<FOLDS: oof[test_index] = oof_preds\n",
    "    else: oof[test_index] += oof_preds\n",
    "        \n",
    "    # TEST PREDS\n",
    "    test_preds = model.predict([X_test_cats,X_test_nums], verbose=1, batch_size=512).flatten()\n",
    "    if i==0: pred = test_preds\n",
    "    else: pred += test_preds\n",
    "    \n",
    "pred /= FOLDS"
   ]
  },
  {
   "cell_type": "markdown",
   "id": "5ccc48bb",
   "metadata": {
    "papermill": {
     "duration": 0.017701,
     "end_time": "2024-09-19T03:01:22.625062",
     "exception": false,
     "start_time": "2024-09-19T03:01:22.607361",
     "status": "completed"
    },
    "tags": []
   },
   "source": [
    "# Overall CV Score"
   ]
  },
  {
   "cell_type": "code",
   "execution_count": 12,
   "id": "13d8c74b",
   "metadata": {
    "execution": {
     "iopub.execute_input": "2024-09-19T03:01:22.662451Z",
     "iopub.status.busy": "2024-09-19T03:01:22.662117Z",
     "iopub.status.idle": "2024-09-19T03:01:23.126163Z",
     "shell.execute_reply": "2024-09-19T03:01:23.125328Z"
    },
    "papermill": {
     "duration": 0.485224,
     "end_time": "2024-09-19T03:01:23.128507",
     "exception": false,
     "start_time": "2024-09-19T03:01:22.643283",
     "status": "completed"
    },
    "tags": []
   },
   "outputs": [
    {
     "name": "stdout",
     "output_type": "stream",
     "text": [
      "Overall CV RSME = 72824.89092441472\n"
     ]
    }
   ],
   "source": [
    "# COMPUTE AND DISPLAY CV RSME SCORE\n",
    "rsme = np.sqrt(np.mean( (oof-train.price.values)**2 ))\n",
    "print(\"Overall CV RSME =\",rsme)\n",
    "\n",
    "# SAVE OOF \n",
    "oof_df = train[[\"id\"]].copy()\n",
    "oof_df[\"pred\"] = oof\n",
    "oof_df.to_csv(f\"oof_v{VER}.csv\",index=False)"
   ]
  },
  {
   "cell_type": "markdown",
   "id": "2b30062a",
   "metadata": {
    "papermill": {
     "duration": 0.018252,
     "end_time": "2024-09-19T03:01:23.165317",
     "exception": false,
     "start_time": "2024-09-19T03:01:23.147065",
     "status": "completed"
    },
    "tags": []
   },
   "source": [
    "# Create Submission CSV"
   ]
  },
  {
   "cell_type": "code",
   "execution_count": 13,
   "id": "4f0be0e7",
   "metadata": {
    "execution": {
     "iopub.execute_input": "2024-09-19T03:01:23.204672Z",
     "iopub.status.busy": "2024-09-19T03:01:23.204309Z",
     "iopub.status.idle": "2024-09-19T03:01:23.517663Z",
     "shell.execute_reply": "2024-09-19T03:01:23.516586Z"
    },
    "papermill": {
     "duration": 0.33571,
     "end_time": "2024-09-19T03:01:23.519705",
     "exception": false,
     "start_time": "2024-09-19T03:01:23.183995",
     "status": "completed"
    },
    "tags": []
   },
   "outputs": [
    {
     "name": "stdout",
     "output_type": "stream",
     "text": [
      "Submission shape: (125690, 2)\n"
     ]
    },
    {
     "data": {
      "text/html": [
       "<div>\n",
       "<style scoped>\n",
       "    .dataframe tbody tr th:only-of-type {\n",
       "        vertical-align: middle;\n",
       "    }\n",
       "\n",
       "    .dataframe tbody tr th {\n",
       "        vertical-align: top;\n",
       "    }\n",
       "\n",
       "    .dataframe thead th {\n",
       "        text-align: right;\n",
       "    }\n",
       "</style>\n",
       "<table border=\"1\" class=\"dataframe\">\n",
       "  <thead>\n",
       "    <tr style=\"text-align: right;\">\n",
       "      <th></th>\n",
       "      <th>id</th>\n",
       "      <th>price</th>\n",
       "    </tr>\n",
       "  </thead>\n",
       "  <tbody>\n",
       "    <tr>\n",
       "      <th>0</th>\n",
       "      <td>188533</td>\n",
       "      <td>18637.767578</td>\n",
       "    </tr>\n",
       "    <tr>\n",
       "      <th>1</th>\n",
       "      <td>188534</td>\n",
       "      <td>70262.406250</td>\n",
       "    </tr>\n",
       "    <tr>\n",
       "      <th>2</th>\n",
       "      <td>188535</td>\n",
       "      <td>58706.707031</td>\n",
       "    </tr>\n",
       "    <tr>\n",
       "      <th>3</th>\n",
       "      <td>188536</td>\n",
       "      <td>28249.734375</td>\n",
       "    </tr>\n",
       "    <tr>\n",
       "      <th>4</th>\n",
       "      <td>188537</td>\n",
       "      <td>29401.839844</td>\n",
       "    </tr>\n",
       "  </tbody>\n",
       "</table>\n",
       "</div>"
      ],
      "text/plain": [
       "       id         price\n",
       "0  188533  18637.767578\n",
       "1  188534  70262.406250\n",
       "2  188535  58706.707031\n",
       "3  188536  28249.734375\n",
       "4  188537  29401.839844"
      ]
     },
     "execution_count": 13,
     "metadata": {},
     "output_type": "execute_result"
    }
   ],
   "source": [
    "sub = pd.read_csv(\"/kaggle/input/playground-series-s4e9/sample_submission.csv\")\n",
    "sub.price = pred\n",
    "print(\"Submission shape:\",sub.shape)\n",
    "sub.to_csv(f\"submission_v{VER}.csv\",index=False)\n",
    "sub.head()"
   ]
  }
 ],
 "metadata": {
  "kaggle": {
   "accelerator": "nvidiaTeslaT4",
   "dataSources": [
    {
     "databundleVersionId": 9057646,
     "sourceId": 76728,
     "sourceType": "competition"
    }
   ],
   "dockerImageVersionId": 30762,
   "isGpuEnabled": true,
   "isInternetEnabled": false,
   "language": "python",
   "sourceType": "notebook"
  },
  "kernelspec": {
   "display_name": "Python 3",
   "language": "python",
   "name": "python3"
  },
  "language_info": {
   "codemirror_mode": {
    "name": "ipython",
    "version": 3
   },
   "file_extension": ".py",
   "mimetype": "text/x-python",
   "name": "python",
   "nbconvert_exporter": "python",
   "pygments_lexer": "ipython3",
   "version": "3.10.14"
  },
  "papermill": {
   "default_parameters": {},
   "duration": 158.709898,
   "end_time": "2024-09-19T03:01:25.997509",
   "environment_variables": {},
   "exception": null,
   "input_path": "__notebook__.ipynb",
   "output_path": "__notebook__.ipynb",
   "parameters": {},
   "start_time": "2024-09-19T02:58:47.287611",
   "version": "2.6.0"
  }
 },
 "nbformat": 4,
 "nbformat_minor": 5
}
