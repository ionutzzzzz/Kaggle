{
 "cells": [
  {
   "cell_type": "markdown",
   "id": "c54b5d9d",
   "metadata": {
    "papermill": {
     "duration": 0.017205,
     "end_time": "2024-09-18T22:05:06.261296",
     "exception": false,
     "start_time": "2024-09-18T22:05:06.244091",
     "status": "completed"
    },
    "tags": []
   },
   "source": [
    "## Import necessary libraries"
   ]
  },
  {
   "cell_type": "code",
   "execution_count": 1,
   "id": "b7522b63",
   "metadata": {
    "execution": {
     "iopub.execute_input": "2024-09-18T22:05:06.296153Z",
     "iopub.status.busy": "2024-09-18T22:05:06.295729Z",
     "iopub.status.idle": "2024-09-18T22:05:12.308445Z",
     "shell.execute_reply": "2024-09-18T22:05:12.307354Z"
    },
    "papermill": {
     "duration": 6.03342,
     "end_time": "2024-09-18T22:05:12.311247",
     "exception": false,
     "start_time": "2024-09-18T22:05:06.277827",
     "status": "completed"
    },
    "tags": []
   },
   "outputs": [],
   "source": [
    "import re\n",
    "import pandas as pd\n",
    "import numpy as np\n",
    "import warnings \n",
    "warnings.filterwarnings('ignore')\n",
    "from sklearn.model_selection import train_test_split, KFold, cross_val_score\n",
    "from sklearn.preprocessing import LabelEncoder, StandardScaler\n",
    "from sklearn.metrics import mean_squared_error\n",
    "import lightgbm as lgb\n",
    "from sklearn.impute import KNNImputer\n",
    "from sklearn.model_selection import GridSearchCV\n"
   ]
  },
  {
   "cell_type": "markdown",
   "id": "435aa143",
   "metadata": {
    "papermill": {
     "duration": 0.016662,
     "end_time": "2024-09-18T22:05:12.344512",
     "exception": false,
     "start_time": "2024-09-18T22:05:12.327850",
     "status": "completed"
    },
    "tags": []
   },
   "source": [
    "## Load training and test data"
   ]
  },
  {
   "cell_type": "code",
   "execution_count": 2,
   "id": "a2c7decd",
   "metadata": {
    "execution": {
     "iopub.execute_input": "2024-09-18T22:05:12.379699Z",
     "iopub.status.busy": "2024-09-18T22:05:12.378975Z",
     "iopub.status.idle": "2024-09-18T22:05:13.859886Z",
     "shell.execute_reply": "2024-09-18T22:05:13.858880Z"
    },
    "papermill": {
     "duration": 1.501787,
     "end_time": "2024-09-18T22:05:13.862724",
     "exception": false,
     "start_time": "2024-09-18T22:05:12.360937",
     "status": "completed"
    },
    "tags": []
   },
   "outputs": [],
   "source": [
    "\n",
    "df = pd.read_csv('/kaggle/input/playground-series-s4e9/train.csv')\n",
    "df_test = pd.read_csv('/kaggle/input/playground-series-s4e9/test.csv')\n"
   ]
  },
  {
   "cell_type": "code",
   "execution_count": 3,
   "id": "af0f8556",
   "metadata": {
    "execution": {
     "iopub.execute_input": "2024-09-18T22:05:13.898473Z",
     "iopub.status.busy": "2024-09-18T22:05:13.898047Z",
     "iopub.status.idle": "2024-09-18T22:05:13.926827Z",
     "shell.execute_reply": "2024-09-18T22:05:13.925643Z"
    },
    "papermill": {
     "duration": 0.049571,
     "end_time": "2024-09-18T22:05:13.929369",
     "exception": false,
     "start_time": "2024-09-18T22:05:13.879798",
     "status": "completed"
    },
    "tags": []
   },
   "outputs": [
    {
     "data": {
      "text/html": [
       "<div>\n",
       "<style scoped>\n",
       "    .dataframe tbody tr th:only-of-type {\n",
       "        vertical-align: middle;\n",
       "    }\n",
       "\n",
       "    .dataframe tbody tr th {\n",
       "        vertical-align: top;\n",
       "    }\n",
       "\n",
       "    .dataframe thead th {\n",
       "        text-align: right;\n",
       "    }\n",
       "</style>\n",
       "<table border=\"1\" class=\"dataframe\">\n",
       "  <thead>\n",
       "    <tr style=\"text-align: right;\">\n",
       "      <th></th>\n",
       "      <th>id</th>\n",
       "      <th>brand</th>\n",
       "      <th>model</th>\n",
       "      <th>model_year</th>\n",
       "      <th>milage</th>\n",
       "      <th>fuel_type</th>\n",
       "      <th>engine</th>\n",
       "      <th>transmission</th>\n",
       "      <th>ext_col</th>\n",
       "      <th>int_col</th>\n",
       "      <th>accident</th>\n",
       "      <th>clean_title</th>\n",
       "      <th>price</th>\n",
       "    </tr>\n",
       "  </thead>\n",
       "  <tbody>\n",
       "    <tr>\n",
       "      <th>0</th>\n",
       "      <td>0</td>\n",
       "      <td>MINI</td>\n",
       "      <td>Cooper S Base</td>\n",
       "      <td>2007</td>\n",
       "      <td>213000</td>\n",
       "      <td>Gasoline</td>\n",
       "      <td>172.0HP 1.6L 4 Cylinder Engine Gasoline Fuel</td>\n",
       "      <td>A/T</td>\n",
       "      <td>Yellow</td>\n",
       "      <td>Gray</td>\n",
       "      <td>None reported</td>\n",
       "      <td>Yes</td>\n",
       "      <td>4200</td>\n",
       "    </tr>\n",
       "    <tr>\n",
       "      <th>1</th>\n",
       "      <td>1</td>\n",
       "      <td>Lincoln</td>\n",
       "      <td>LS V8</td>\n",
       "      <td>2002</td>\n",
       "      <td>143250</td>\n",
       "      <td>Gasoline</td>\n",
       "      <td>252.0HP 3.9L 8 Cylinder Engine Gasoline Fuel</td>\n",
       "      <td>A/T</td>\n",
       "      <td>Silver</td>\n",
       "      <td>Beige</td>\n",
       "      <td>At least 1 accident or damage reported</td>\n",
       "      <td>Yes</td>\n",
       "      <td>4999</td>\n",
       "    </tr>\n",
       "    <tr>\n",
       "      <th>2</th>\n",
       "      <td>2</td>\n",
       "      <td>Chevrolet</td>\n",
       "      <td>Silverado 2500 LT</td>\n",
       "      <td>2002</td>\n",
       "      <td>136731</td>\n",
       "      <td>E85 Flex Fuel</td>\n",
       "      <td>320.0HP 5.3L 8 Cylinder Engine Flex Fuel Capab...</td>\n",
       "      <td>A/T</td>\n",
       "      <td>Blue</td>\n",
       "      <td>Gray</td>\n",
       "      <td>None reported</td>\n",
       "      <td>Yes</td>\n",
       "      <td>13900</td>\n",
       "    </tr>\n",
       "    <tr>\n",
       "      <th>3</th>\n",
       "      <td>3</td>\n",
       "      <td>Genesis</td>\n",
       "      <td>G90 5.0 Ultimate</td>\n",
       "      <td>2017</td>\n",
       "      <td>19500</td>\n",
       "      <td>Gasoline</td>\n",
       "      <td>420.0HP 5.0L 8 Cylinder Engine Gasoline Fuel</td>\n",
       "      <td>Transmission w/Dual Shift Mode</td>\n",
       "      <td>Black</td>\n",
       "      <td>Black</td>\n",
       "      <td>None reported</td>\n",
       "      <td>Yes</td>\n",
       "      <td>45000</td>\n",
       "    </tr>\n",
       "    <tr>\n",
       "      <th>4</th>\n",
       "      <td>4</td>\n",
       "      <td>Mercedes-Benz</td>\n",
       "      <td>Metris Base</td>\n",
       "      <td>2021</td>\n",
       "      <td>7388</td>\n",
       "      <td>Gasoline</td>\n",
       "      <td>208.0HP 2.0L 4 Cylinder Engine Gasoline Fuel</td>\n",
       "      <td>7-Speed A/T</td>\n",
       "      <td>Black</td>\n",
       "      <td>Beige</td>\n",
       "      <td>None reported</td>\n",
       "      <td>Yes</td>\n",
       "      <td>97500</td>\n",
       "    </tr>\n",
       "  </tbody>\n",
       "</table>\n",
       "</div>"
      ],
      "text/plain": [
       "   id          brand              model  model_year  milage      fuel_type  \\\n",
       "0   0           MINI      Cooper S Base        2007  213000       Gasoline   \n",
       "1   1        Lincoln              LS V8        2002  143250       Gasoline   \n",
       "2   2      Chevrolet  Silverado 2500 LT        2002  136731  E85 Flex Fuel   \n",
       "3   3        Genesis   G90 5.0 Ultimate        2017   19500       Gasoline   \n",
       "4   4  Mercedes-Benz        Metris Base        2021    7388       Gasoline   \n",
       "\n",
       "                                              engine  \\\n",
       "0       172.0HP 1.6L 4 Cylinder Engine Gasoline Fuel   \n",
       "1       252.0HP 3.9L 8 Cylinder Engine Gasoline Fuel   \n",
       "2  320.0HP 5.3L 8 Cylinder Engine Flex Fuel Capab...   \n",
       "3       420.0HP 5.0L 8 Cylinder Engine Gasoline Fuel   \n",
       "4       208.0HP 2.0L 4 Cylinder Engine Gasoline Fuel   \n",
       "\n",
       "                     transmission ext_col int_col  \\\n",
       "0                             A/T  Yellow    Gray   \n",
       "1                             A/T  Silver   Beige   \n",
       "2                             A/T    Blue    Gray   \n",
       "3  Transmission w/Dual Shift Mode   Black   Black   \n",
       "4                     7-Speed A/T   Black   Beige   \n",
       "\n",
       "                                 accident clean_title  price  \n",
       "0                           None reported         Yes   4200  \n",
       "1  At least 1 accident or damage reported         Yes   4999  \n",
       "2                           None reported         Yes  13900  \n",
       "3                           None reported         Yes  45000  \n",
       "4                           None reported         Yes  97500  "
      ]
     },
     "execution_count": 3,
     "metadata": {},
     "output_type": "execute_result"
    }
   ],
   "source": [
    "df.head()"
   ]
  },
  {
   "cell_type": "code",
   "execution_count": 4,
   "id": "ac5f3e0f",
   "metadata": {
    "execution": {
     "iopub.execute_input": "2024-09-18T22:05:13.966454Z",
     "iopub.status.busy": "2024-09-18T22:05:13.966027Z",
     "iopub.status.idle": "2024-09-18T22:05:13.984314Z",
     "shell.execute_reply": "2024-09-18T22:05:13.983236Z"
    },
    "papermill": {
     "duration": 0.038814,
     "end_time": "2024-09-18T22:05:13.986739",
     "exception": false,
     "start_time": "2024-09-18T22:05:13.947925",
     "status": "completed"
    },
    "tags": []
   },
   "outputs": [
    {
     "data": {
      "text/html": [
       "<div>\n",
       "<style scoped>\n",
       "    .dataframe tbody tr th:only-of-type {\n",
       "        vertical-align: middle;\n",
       "    }\n",
       "\n",
       "    .dataframe tbody tr th {\n",
       "        vertical-align: top;\n",
       "    }\n",
       "\n",
       "    .dataframe thead th {\n",
       "        text-align: right;\n",
       "    }\n",
       "</style>\n",
       "<table border=\"1\" class=\"dataframe\">\n",
       "  <thead>\n",
       "    <tr style=\"text-align: right;\">\n",
       "      <th></th>\n",
       "      <th>id</th>\n",
       "      <th>brand</th>\n",
       "      <th>model</th>\n",
       "      <th>model_year</th>\n",
       "      <th>milage</th>\n",
       "      <th>fuel_type</th>\n",
       "      <th>engine</th>\n",
       "      <th>transmission</th>\n",
       "      <th>ext_col</th>\n",
       "      <th>int_col</th>\n",
       "      <th>accident</th>\n",
       "      <th>clean_title</th>\n",
       "    </tr>\n",
       "  </thead>\n",
       "  <tbody>\n",
       "    <tr>\n",
       "      <th>0</th>\n",
       "      <td>188533</td>\n",
       "      <td>Land</td>\n",
       "      <td>Rover LR2 Base</td>\n",
       "      <td>2015</td>\n",
       "      <td>98000</td>\n",
       "      <td>Gasoline</td>\n",
       "      <td>240.0HP 2.0L 4 Cylinder Engine Gasoline Fuel</td>\n",
       "      <td>6-Speed A/T</td>\n",
       "      <td>White</td>\n",
       "      <td>Beige</td>\n",
       "      <td>None reported</td>\n",
       "      <td>Yes</td>\n",
       "    </tr>\n",
       "    <tr>\n",
       "      <th>1</th>\n",
       "      <td>188534</td>\n",
       "      <td>Land</td>\n",
       "      <td>Rover Defender SE</td>\n",
       "      <td>2020</td>\n",
       "      <td>9142</td>\n",
       "      <td>Hybrid</td>\n",
       "      <td>395.0HP 3.0L Straight 6 Cylinder Engine Gasoli...</td>\n",
       "      <td>8-Speed A/T</td>\n",
       "      <td>Silver</td>\n",
       "      <td>Black</td>\n",
       "      <td>None reported</td>\n",
       "      <td>Yes</td>\n",
       "    </tr>\n",
       "    <tr>\n",
       "      <th>2</th>\n",
       "      <td>188535</td>\n",
       "      <td>Ford</td>\n",
       "      <td>Expedition Limited</td>\n",
       "      <td>2022</td>\n",
       "      <td>28121</td>\n",
       "      <td>Gasoline</td>\n",
       "      <td>3.5L V6 24V PDI DOHC Twin Turbo</td>\n",
       "      <td>10-Speed Automatic</td>\n",
       "      <td>White</td>\n",
       "      <td>Ebony</td>\n",
       "      <td>None reported</td>\n",
       "      <td>NaN</td>\n",
       "    </tr>\n",
       "    <tr>\n",
       "      <th>3</th>\n",
       "      <td>188536</td>\n",
       "      <td>Audi</td>\n",
       "      <td>A6 2.0T Sport</td>\n",
       "      <td>2016</td>\n",
       "      <td>61258</td>\n",
       "      <td>Gasoline</td>\n",
       "      <td>2.0 Liter TFSI</td>\n",
       "      <td>Automatic</td>\n",
       "      <td>Silician Yellow</td>\n",
       "      <td>Black</td>\n",
       "      <td>None reported</td>\n",
       "      <td>NaN</td>\n",
       "    </tr>\n",
       "    <tr>\n",
       "      <th>4</th>\n",
       "      <td>188537</td>\n",
       "      <td>Audi</td>\n",
       "      <td>A6 2.0T Premium Plus</td>\n",
       "      <td>2018</td>\n",
       "      <td>59000</td>\n",
       "      <td>Gasoline</td>\n",
       "      <td>252.0HP 2.0L 4 Cylinder Engine Gasoline Fuel</td>\n",
       "      <td>A/T</td>\n",
       "      <td>Gray</td>\n",
       "      <td>Black</td>\n",
       "      <td>None reported</td>\n",
       "      <td>Yes</td>\n",
       "    </tr>\n",
       "  </tbody>\n",
       "</table>\n",
       "</div>"
      ],
      "text/plain": [
       "       id brand                 model  model_year  milage fuel_type  \\\n",
       "0  188533  Land        Rover LR2 Base        2015   98000  Gasoline   \n",
       "1  188534  Land     Rover Defender SE        2020    9142    Hybrid   \n",
       "2  188535  Ford    Expedition Limited        2022   28121  Gasoline   \n",
       "3  188536  Audi         A6 2.0T Sport        2016   61258  Gasoline   \n",
       "4  188537  Audi  A6 2.0T Premium Plus        2018   59000  Gasoline   \n",
       "\n",
       "                                              engine        transmission  \\\n",
       "0       240.0HP 2.0L 4 Cylinder Engine Gasoline Fuel         6-Speed A/T   \n",
       "1  395.0HP 3.0L Straight 6 Cylinder Engine Gasoli...         8-Speed A/T   \n",
       "2                    3.5L V6 24V PDI DOHC Twin Turbo  10-Speed Automatic   \n",
       "3                                     2.0 Liter TFSI           Automatic   \n",
       "4       252.0HP 2.0L 4 Cylinder Engine Gasoline Fuel                 A/T   \n",
       "\n",
       "           ext_col int_col       accident clean_title  \n",
       "0            White   Beige  None reported         Yes  \n",
       "1           Silver   Black  None reported         Yes  \n",
       "2            White   Ebony  None reported         NaN  \n",
       "3  Silician Yellow   Black  None reported         NaN  \n",
       "4             Gray   Black  None reported         Yes  "
      ]
     },
     "execution_count": 4,
     "metadata": {},
     "output_type": "execute_result"
    }
   ],
   "source": [
    "df_test.head()"
   ]
  },
  {
   "cell_type": "code",
   "execution_count": 5,
   "id": "6bc8fd09",
   "metadata": {
    "execution": {
     "iopub.execute_input": "2024-09-18T22:05:14.023184Z",
     "iopub.status.busy": "2024-09-18T22:05:14.022780Z",
     "iopub.status.idle": "2024-09-18T22:05:14.167579Z",
     "shell.execute_reply": "2024-09-18T22:05:14.166360Z"
    },
    "papermill": {
     "duration": 0.166099,
     "end_time": "2024-09-18T22:05:14.170326",
     "exception": false,
     "start_time": "2024-09-18T22:05:14.004227",
     "status": "completed"
    },
    "tags": []
   },
   "outputs": [
    {
     "name": "stdout",
     "output_type": "stream",
     "text": [
      "<class 'pandas.core.frame.DataFrame'>\n",
      "RangeIndex: 125690 entries, 0 to 125689\n",
      "Data columns (total 12 columns):\n",
      " #   Column        Non-Null Count   Dtype \n",
      "---  ------        --------------   ----- \n",
      " 0   id            125690 non-null  int64 \n",
      " 1   brand         125690 non-null  object\n",
      " 2   model         125690 non-null  object\n",
      " 3   model_year    125690 non-null  int64 \n",
      " 4   milage        125690 non-null  int64 \n",
      " 5   fuel_type     122307 non-null  object\n",
      " 6   engine        125690 non-null  object\n",
      " 7   transmission  125690 non-null  object\n",
      " 8   ext_col       125690 non-null  object\n",
      " 9   int_col       125690 non-null  object\n",
      " 10  accident      124058 non-null  object\n",
      " 11  clean_title   111451 non-null  object\n",
      "dtypes: int64(3), object(9)\n",
      "memory usage: 11.5+ MB\n"
     ]
    }
   ],
   "source": [
    "df_test.info()"
   ]
  },
  {
   "cell_type": "markdown",
   "id": "f116ea36",
   "metadata": {
    "papermill": {
     "duration": 0.016445,
     "end_time": "2024-09-18T22:05:14.204583",
     "exception": false,
     "start_time": "2024-09-18T22:05:14.188138",
     "status": "completed"
    },
    "tags": []
   },
   "source": [
    "## Data Preprocessing"
   ]
  },
  {
   "cell_type": "code",
   "execution_count": 6,
   "id": "77c4d42c",
   "metadata": {
    "execution": {
     "iopub.execute_input": "2024-09-18T22:05:14.241293Z",
     "iopub.status.busy": "2024-09-18T22:05:14.240408Z",
     "iopub.status.idle": "2024-09-18T22:05:14.313629Z",
     "shell.execute_reply": "2024-09-18T22:05:14.312657Z"
    },
    "papermill": {
     "duration": 0.095166,
     "end_time": "2024-09-18T22:05:14.316556",
     "exception": false,
     "start_time": "2024-09-18T22:05:14.221390",
     "status": "completed"
    },
    "tags": []
   },
   "outputs": [],
   "source": [
    "df['fuel_type'].fillna('Electricity', inplace=True)\n",
    "df['clean_title'].fillna('No', inplace=True)\n",
    "df['accident'].fillna('None reported', inplace=True)\n",
    "\n"
   ]
  },
  {
   "cell_type": "code",
   "execution_count": 7,
   "id": "9ce658ab",
   "metadata": {
    "execution": {
     "iopub.execute_input": "2024-09-18T22:05:14.355091Z",
     "iopub.status.busy": "2024-09-18T22:05:14.354358Z",
     "iopub.status.idle": "2024-09-18T22:05:14.405656Z",
     "shell.execute_reply": "2024-09-18T22:05:14.404721Z"
    },
    "papermill": {
     "duration": 0.073129,
     "end_time": "2024-09-18T22:05:14.408226",
     "exception": false,
     "start_time": "2024-09-18T22:05:14.335097",
     "status": "completed"
    },
    "tags": []
   },
   "outputs": [],
   "source": [
    "df_test['fuel_type'].fillna('Electricity', inplace=True)\n",
    "df_test['clean_title'].fillna('No', inplace=True)\n",
    "df_test['accident'].fillna('None reported', inplace=True)\n",
    "\n"
   ]
  },
  {
   "cell_type": "markdown",
   "id": "30da8af0",
   "metadata": {
    "papermill": {
     "duration": 0.016808,
     "end_time": "2024-09-18T22:05:14.441978",
     "exception": false,
     "start_time": "2024-09-18T22:05:14.425170",
     "status": "completed"
    },
    "tags": []
   },
   "source": [
    "## Feature extraction from engine"
   ]
  },
  {
   "cell_type": "code",
   "execution_count": 8,
   "id": "026d6155",
   "metadata": {
    "execution": {
     "iopub.execute_input": "2024-09-18T22:05:14.479773Z",
     "iopub.status.busy": "2024-09-18T22:05:14.479336Z",
     "iopub.status.idle": "2024-09-18T22:05:14.488785Z",
     "shell.execute_reply": "2024-09-18T22:05:14.487673Z"
    },
    "papermill": {
     "duration": 0.030526,
     "end_time": "2024-09-18T22:05:14.491162",
     "exception": false,
     "start_time": "2024-09-18T22:05:14.460636",
     "status": "completed"
    },
    "tags": []
   },
   "outputs": [],
   "source": [
    "\n",
    "def extract_hp(engine):\n",
    "    match = re.search(r'(\\d+(\\.\\d+)?)HP', engine)\n",
    "    return float(match.group(1)) if match else None\n",
    "\n",
    "def extract_displacement(engine):\n",
    "    match = re.search(r'(\\d+\\.\\d+)L|(\\d+\\.\\d+) Liter', engine)\n",
    "    if match:\n",
    "        # Check if the first group matched, otherwise use the second group\n",
    "        return float(match.group(1) or match.group(2))\n",
    "\n",
    "def extract_engine_type(engine):\n",
    "    match = re.search(r'(V\\d+|I\\d+|Flat \\d+|Straight \\d+)', engine)\n",
    "    return match.group(1) if match else None\n",
    "\n",
    "def extract_cylinder_count(engine):\n",
    "    match = re.search(r'(\\d+) Cylinder', engine)\n",
    "    return int(match.group(1)) if match else None\n",
    "\n",
    "def extract_fuel_type(engine):\n",
    "    fuel_types = ['Gasoline', 'Diesel', 'Electric', 'Hybrid', 'Flex Fuel']\n",
    "    for fuel in fuel_types:\n",
    "        if fuel in engine:\n",
    "            return fuel\n",
    "    return None\n"
   ]
  },
  {
   "cell_type": "code",
   "execution_count": 9,
   "id": "010c49a8",
   "metadata": {
    "execution": {
     "iopub.execute_input": "2024-09-18T22:05:14.527510Z",
     "iopub.status.busy": "2024-09-18T22:05:14.527089Z",
     "iopub.status.idle": "2024-09-18T22:05:17.205826Z",
     "shell.execute_reply": "2024-09-18T22:05:17.204653Z"
    },
    "papermill": {
     "duration": 2.700184,
     "end_time": "2024-09-18T22:05:17.208643",
     "exception": false,
     "start_time": "2024-09-18T22:05:14.508459",
     "status": "completed"
    },
    "tags": []
   },
   "outputs": [],
   "source": [
    "\n",
    "df['Horsepower'] = df['engine'].apply(extract_hp)\n",
    "df['Displacement'] = df['engine'].apply(extract_displacement)\n",
    "df['Engine Type'] = df['engine'].apply(extract_engine_type)\n",
    "df['Cylinder Count'] = df['engine'].apply(extract_cylinder_count)\n",
    "df['Fuel Type'] = df['engine'].apply(extract_fuel_type)"
   ]
  },
  {
   "cell_type": "code",
   "execution_count": 10,
   "id": "aada14bb",
   "metadata": {
    "execution": {
     "iopub.execute_input": "2024-09-18T22:05:17.245998Z",
     "iopub.status.busy": "2024-09-18T22:05:17.245224Z",
     "iopub.status.idle": "2024-09-18T22:05:19.075499Z",
     "shell.execute_reply": "2024-09-18T22:05:19.074299Z"
    },
    "papermill": {
     "duration": 1.851883,
     "end_time": "2024-09-18T22:05:19.078196",
     "exception": false,
     "start_time": "2024-09-18T22:05:17.226313",
     "status": "completed"
    },
    "tags": []
   },
   "outputs": [],
   "source": [
    "df_test['Horsepower'] = df_test['engine'].apply(extract_hp)\n",
    "df_test['Displacement'] = df_test['engine'].apply(extract_displacement)\n",
    "df_test['Engine Type'] = df_test['engine'].apply(extract_engine_type)\n",
    "df_test['Cylinder Count'] = df_test['engine'].apply(extract_cylinder_count)\n",
    "df_test['Fuel Type'] = df_test['engine'].apply(extract_fuel_type)"
   ]
  },
  {
   "cell_type": "markdown",
   "id": "66e6a806",
   "metadata": {
    "papermill": {
     "duration": 0.016768,
     "end_time": "2024-09-18T22:05:19.111834",
     "exception": false,
     "start_time": "2024-09-18T22:05:19.095066",
     "status": "completed"
    },
    "tags": []
   },
   "source": [
    "## Handle missing values in test data similarly"
   ]
  },
  {
   "cell_type": "code",
   "execution_count": 11,
   "id": "9309dd39",
   "metadata": {
    "execution": {
     "iopub.execute_input": "2024-09-18T22:05:19.146989Z",
     "iopub.status.busy": "2024-09-18T22:05:19.145792Z",
     "iopub.status.idle": "2024-09-18T22:15:15.980939Z",
     "shell.execute_reply": "2024-09-18T22:15:15.979890Z"
    },
    "papermill": {
     "duration": 596.855639,
     "end_time": "2024-09-18T22:15:15.983884",
     "exception": false,
     "start_time": "2024-09-18T22:05:19.128245",
     "status": "completed"
    },
    "tags": []
   },
   "outputs": [],
   "source": [
    "from sklearn.impute import KNNImputer\n",
    "imputer = KNNImputer(n_neighbors=5)\n",
    "df[['Horsepower', 'Cylinder Count']] = imputer.fit_transform(df[['Horsepower', 'Cylinder Count']])\n",
    "df_test[['Horsepower', 'Cylinder Count']] = imputer.transform(df_test[['Horsepower', 'Cylinder Count']])\n",
    "\n"
   ]
  },
  {
   "cell_type": "code",
   "execution_count": 12,
   "id": "abf5a8f2",
   "metadata": {
    "execution": {
     "iopub.execute_input": "2024-09-18T22:15:16.021930Z",
     "iopub.status.busy": "2024-09-18T22:15:16.020955Z",
     "iopub.status.idle": "2024-09-18T22:15:16.068696Z",
     "shell.execute_reply": "2024-09-18T22:15:16.067755Z"
    },
    "papermill": {
     "duration": 0.069918,
     "end_time": "2024-09-18T22:15:16.071331",
     "exception": false,
     "start_time": "2024-09-18T22:15:16.001413",
     "status": "completed"
    },
    "tags": []
   },
   "outputs": [],
   "source": [
    "columns_to_drop = ['engine', 'model']\n",
    "df.drop(columns=[col for col in columns_to_drop if col in df.columns], inplace=True)\n",
    "df_test.drop(columns=[col for col in columns_to_drop if col in df_test.columns], inplace=True)"
   ]
  },
  {
   "cell_type": "code",
   "execution_count": 13,
   "id": "3a407b7f",
   "metadata": {
    "execution": {
     "iopub.execute_input": "2024-09-18T22:15:16.108512Z",
     "iopub.status.busy": "2024-09-18T22:15:16.107214Z",
     "iopub.status.idle": "2024-09-18T22:15:16.288705Z",
     "shell.execute_reply": "2024-09-18T22:15:16.287509Z"
    },
    "papermill": {
     "duration": 0.20314,
     "end_time": "2024-09-18T22:15:16.291967",
     "exception": false,
     "start_time": "2024-09-18T22:15:16.088827",
     "status": "completed"
    },
    "tags": []
   },
   "outputs": [
    {
     "name": "stdout",
     "output_type": "stream",
     "text": [
      "<class 'pandas.core.frame.DataFrame'>\n",
      "RangeIndex: 188533 entries, 0 to 188532\n",
      "Data columns (total 16 columns):\n",
      " #   Column          Non-Null Count   Dtype  \n",
      "---  ------          --------------   -----  \n",
      " 0   id              188533 non-null  int64  \n",
      " 1   brand           188533 non-null  object \n",
      " 2   model_year      188533 non-null  int64  \n",
      " 3   milage          188533 non-null  int64  \n",
      " 4   fuel_type       188533 non-null  object \n",
      " 5   transmission    188533 non-null  object \n",
      " 6   ext_col         188533 non-null  object \n",
      " 7   int_col         188533 non-null  object \n",
      " 8   accident        188533 non-null  object \n",
      " 9   clean_title     188533 non-null  object \n",
      " 10  price           188533 non-null  int64  \n",
      " 11  Horsepower      188533 non-null  float64\n",
      " 12  Displacement    181763 non-null  float64\n",
      " 13  Engine Type     88970 non-null   object \n",
      " 14  Cylinder Count  188533 non-null  float64\n",
      " 15  Fuel Type       156987 non-null  object \n",
      "dtypes: float64(3), int64(4), object(9)\n",
      "memory usage: 23.0+ MB\n"
     ]
    }
   ],
   "source": [
    "df.info()"
   ]
  },
  {
   "cell_type": "code",
   "execution_count": 14,
   "id": "b7b22c2b",
   "metadata": {
    "execution": {
     "iopub.execute_input": "2024-09-18T22:15:16.329376Z",
     "iopub.status.busy": "2024-09-18T22:15:16.328928Z",
     "iopub.status.idle": "2024-09-18T22:15:16.474429Z",
     "shell.execute_reply": "2024-09-18T22:15:16.473296Z"
    },
    "papermill": {
     "duration": 0.166534,
     "end_time": "2024-09-18T22:15:16.476890",
     "exception": false,
     "start_time": "2024-09-18T22:15:16.310356",
     "status": "completed"
    },
    "tags": []
   },
   "outputs": [
    {
     "data": {
      "text/plain": [
       "accident\n",
       "0    146966\n",
       "1     41567\n",
       "Name: count, dtype: int64"
      ]
     },
     "execution_count": 14,
     "metadata": {},
     "output_type": "execute_result"
    }
   ],
   "source": [
    "df[\"accident\"] = df[\"accident\"].replace({'At least 1 accident or damage reported':1,\"None reported\":0}) \n",
    "df[\"accident\"].value_counts()"
   ]
  },
  {
   "cell_type": "code",
   "execution_count": 15,
   "id": "a42b352f",
   "metadata": {
    "execution": {
     "iopub.execute_input": "2024-09-18T22:15:16.513951Z",
     "iopub.status.busy": "2024-09-18T22:15:16.513534Z",
     "iopub.status.idle": "2024-09-18T22:15:16.613808Z",
     "shell.execute_reply": "2024-09-18T22:15:16.612598Z"
    },
    "papermill": {
     "duration": 0.12233,
     "end_time": "2024-09-18T22:15:16.616510",
     "exception": false,
     "start_time": "2024-09-18T22:15:16.494180",
     "status": "completed"
    },
    "tags": []
   },
   "outputs": [
    {
     "data": {
      "text/plain": [
       "accident\n",
       "0    97895\n",
       "1    27795\n",
       "Name: count, dtype: int64"
      ]
     },
     "execution_count": 15,
     "metadata": {},
     "output_type": "execute_result"
    }
   ],
   "source": [
    "df_test[\"accident\"] = df_test[\"accident\"].replace({'At least 1 accident or damage reported':1,\"None reported\":0}) \n",
    "df_test[\"accident\"].value_counts()"
   ]
  },
  {
   "cell_type": "code",
   "execution_count": 16,
   "id": "4e88c581",
   "metadata": {
    "execution": {
     "iopub.execute_input": "2024-09-18T22:15:16.658240Z",
     "iopub.status.busy": "2024-09-18T22:15:16.657375Z",
     "iopub.status.idle": "2024-09-18T22:15:16.798806Z",
     "shell.execute_reply": "2024-09-18T22:15:16.797759Z"
    },
    "papermill": {
     "duration": 0.164458,
     "end_time": "2024-09-18T22:15:16.801245",
     "exception": false,
     "start_time": "2024-09-18T22:15:16.636787",
     "status": "completed"
    },
    "tags": []
   },
   "outputs": [
    {
     "data": {
      "text/plain": [
       "clean_title\n",
       "1    167114\n",
       "0     21419\n",
       "Name: count, dtype: int64"
      ]
     },
     "execution_count": 16,
     "metadata": {},
     "output_type": "execute_result"
    }
   ],
   "source": [
    "df[\"clean_title\"] = df[\"clean_title\"].replace({\"Yes\":1,\"No\":0})\n",
    "df[\"clean_title\"].value_counts()"
   ]
  },
  {
   "cell_type": "code",
   "execution_count": 17,
   "id": "be3c240f",
   "metadata": {
    "execution": {
     "iopub.execute_input": "2024-09-18T22:15:16.837789Z",
     "iopub.status.busy": "2024-09-18T22:15:16.837353Z",
     "iopub.status.idle": "2024-09-18T22:15:16.852960Z",
     "shell.execute_reply": "2024-09-18T22:15:16.851807Z"
    },
    "papermill": {
     "duration": 0.03701,
     "end_time": "2024-09-18T22:15:16.855626",
     "exception": false,
     "start_time": "2024-09-18T22:15:16.818616",
     "status": "completed"
    },
    "tags": []
   },
   "outputs": [
    {
     "data": {
      "text/plain": [
       "clean_title\n",
       "1    111435\n",
       "0     14255\n",
       "Name: count, dtype: int64"
      ]
     },
     "execution_count": 17,
     "metadata": {},
     "output_type": "execute_result"
    }
   ],
   "source": [
    "df_test[\"clean_title\"] = df[\"clean_title\"].replace({\"Yes\":1,\"No\":0})\n",
    "df_test[\"clean_title\"].value_counts()"
   ]
  },
  {
   "cell_type": "code",
   "execution_count": 18,
   "id": "35bde5fd",
   "metadata": {
    "execution": {
     "iopub.execute_input": "2024-09-18T22:15:16.894914Z",
     "iopub.status.busy": "2024-09-18T22:15:16.894484Z",
     "iopub.status.idle": "2024-09-18T22:15:16.946989Z",
     "shell.execute_reply": "2024-09-18T22:15:16.945817Z"
    },
    "papermill": {
     "duration": 0.074818,
     "end_time": "2024-09-18T22:15:16.949864",
     "exception": false,
     "start_time": "2024-09-18T22:15:16.875046",
     "status": "completed"
    },
    "tags": []
   },
   "outputs": [],
   "source": [
    "df.drop(['Engine Type'], axis=1, inplace=True)\n",
    "df_test.drop(['Engine Type'], axis=1, inplace=True)"
   ]
  },
  {
   "cell_type": "code",
   "execution_count": 19,
   "id": "c90993d4",
   "metadata": {
    "execution": {
     "iopub.execute_input": "2024-09-18T22:15:16.987667Z",
     "iopub.status.busy": "2024-09-18T22:15:16.987239Z",
     "iopub.status.idle": "2024-09-18T22:15:17.010310Z",
     "shell.execute_reply": "2024-09-18T22:15:17.009158Z"
    },
    "papermill": {
     "duration": 0.044812,
     "end_time": "2024-09-18T22:15:17.012748",
     "exception": false,
     "start_time": "2024-09-18T22:15:16.967936",
     "status": "completed"
    },
    "tags": []
   },
   "outputs": [
    {
     "data": {
      "text/html": [
       "<div>\n",
       "<style scoped>\n",
       "    .dataframe tbody tr th:only-of-type {\n",
       "        vertical-align: middle;\n",
       "    }\n",
       "\n",
       "    .dataframe tbody tr th {\n",
       "        vertical-align: top;\n",
       "    }\n",
       "\n",
       "    .dataframe thead th {\n",
       "        text-align: right;\n",
       "    }\n",
       "</style>\n",
       "<table border=\"1\" class=\"dataframe\">\n",
       "  <thead>\n",
       "    <tr style=\"text-align: right;\">\n",
       "      <th></th>\n",
       "      <th>id</th>\n",
       "      <th>brand</th>\n",
       "      <th>model_year</th>\n",
       "      <th>milage</th>\n",
       "      <th>fuel_type</th>\n",
       "      <th>transmission</th>\n",
       "      <th>ext_col</th>\n",
       "      <th>int_col</th>\n",
       "      <th>accident</th>\n",
       "      <th>clean_title</th>\n",
       "      <th>price</th>\n",
       "      <th>Horsepower</th>\n",
       "      <th>Displacement</th>\n",
       "      <th>Cylinder Count</th>\n",
       "      <th>Fuel Type</th>\n",
       "    </tr>\n",
       "  </thead>\n",
       "  <tbody>\n",
       "    <tr>\n",
       "      <th>0</th>\n",
       "      <td>0</td>\n",
       "      <td>MINI</td>\n",
       "      <td>2007</td>\n",
       "      <td>213000</td>\n",
       "      <td>Gasoline</td>\n",
       "      <td>A/T</td>\n",
       "      <td>Yellow</td>\n",
       "      <td>Gray</td>\n",
       "      <td>0</td>\n",
       "      <td>1</td>\n",
       "      <td>4200</td>\n",
       "      <td>172.0</td>\n",
       "      <td>1.6</td>\n",
       "      <td>4.0</td>\n",
       "      <td>Gasoline</td>\n",
       "    </tr>\n",
       "    <tr>\n",
       "      <th>1</th>\n",
       "      <td>1</td>\n",
       "      <td>Lincoln</td>\n",
       "      <td>2002</td>\n",
       "      <td>143250</td>\n",
       "      <td>Gasoline</td>\n",
       "      <td>A/T</td>\n",
       "      <td>Silver</td>\n",
       "      <td>Beige</td>\n",
       "      <td>1</td>\n",
       "      <td>1</td>\n",
       "      <td>4999</td>\n",
       "      <td>252.0</td>\n",
       "      <td>3.9</td>\n",
       "      <td>8.0</td>\n",
       "      <td>Gasoline</td>\n",
       "    </tr>\n",
       "    <tr>\n",
       "      <th>2</th>\n",
       "      <td>2</td>\n",
       "      <td>Chevrolet</td>\n",
       "      <td>2002</td>\n",
       "      <td>136731</td>\n",
       "      <td>E85 Flex Fuel</td>\n",
       "      <td>A/T</td>\n",
       "      <td>Blue</td>\n",
       "      <td>Gray</td>\n",
       "      <td>0</td>\n",
       "      <td>1</td>\n",
       "      <td>13900</td>\n",
       "      <td>320.0</td>\n",
       "      <td>5.3</td>\n",
       "      <td>8.0</td>\n",
       "      <td>Flex Fuel</td>\n",
       "    </tr>\n",
       "    <tr>\n",
       "      <th>3</th>\n",
       "      <td>3</td>\n",
       "      <td>Genesis</td>\n",
       "      <td>2017</td>\n",
       "      <td>19500</td>\n",
       "      <td>Gasoline</td>\n",
       "      <td>Transmission w/Dual Shift Mode</td>\n",
       "      <td>Black</td>\n",
       "      <td>Black</td>\n",
       "      <td>0</td>\n",
       "      <td>1</td>\n",
       "      <td>45000</td>\n",
       "      <td>420.0</td>\n",
       "      <td>5.0</td>\n",
       "      <td>8.0</td>\n",
       "      <td>Gasoline</td>\n",
       "    </tr>\n",
       "    <tr>\n",
       "      <th>4</th>\n",
       "      <td>4</td>\n",
       "      <td>Mercedes-Benz</td>\n",
       "      <td>2021</td>\n",
       "      <td>7388</td>\n",
       "      <td>Gasoline</td>\n",
       "      <td>7-Speed A/T</td>\n",
       "      <td>Black</td>\n",
       "      <td>Beige</td>\n",
       "      <td>0</td>\n",
       "      <td>1</td>\n",
       "      <td>97500</td>\n",
       "      <td>208.0</td>\n",
       "      <td>2.0</td>\n",
       "      <td>4.0</td>\n",
       "      <td>Gasoline</td>\n",
       "    </tr>\n",
       "  </tbody>\n",
       "</table>\n",
       "</div>"
      ],
      "text/plain": [
       "   id          brand  model_year  milage      fuel_type  \\\n",
       "0   0           MINI        2007  213000       Gasoline   \n",
       "1   1        Lincoln        2002  143250       Gasoline   \n",
       "2   2      Chevrolet        2002  136731  E85 Flex Fuel   \n",
       "3   3        Genesis        2017   19500       Gasoline   \n",
       "4   4  Mercedes-Benz        2021    7388       Gasoline   \n",
       "\n",
       "                     transmission ext_col int_col  accident  clean_title  \\\n",
       "0                             A/T  Yellow    Gray         0            1   \n",
       "1                             A/T  Silver   Beige         1            1   \n",
       "2                             A/T    Blue    Gray         0            1   \n",
       "3  Transmission w/Dual Shift Mode   Black   Black         0            1   \n",
       "4                     7-Speed A/T   Black   Beige         0            1   \n",
       "\n",
       "   price  Horsepower  Displacement  Cylinder Count  Fuel Type  \n",
       "0   4200       172.0           1.6             4.0   Gasoline  \n",
       "1   4999       252.0           3.9             8.0   Gasoline  \n",
       "2  13900       320.0           5.3             8.0  Flex Fuel  \n",
       "3  45000       420.0           5.0             8.0   Gasoline  \n",
       "4  97500       208.0           2.0             4.0   Gasoline  "
      ]
     },
     "execution_count": 19,
     "metadata": {},
     "output_type": "execute_result"
    }
   ],
   "source": [
    "df.head()"
   ]
  },
  {
   "cell_type": "code",
   "execution_count": 20,
   "id": "fc6a42be",
   "metadata": {
    "execution": {
     "iopub.execute_input": "2024-09-18T22:15:17.053057Z",
     "iopub.status.busy": "2024-09-18T22:15:17.052622Z",
     "iopub.status.idle": "2024-09-18T22:15:17.925559Z",
     "shell.execute_reply": "2024-09-18T22:15:17.924328Z"
    },
    "papermill": {
     "duration": 0.895113,
     "end_time": "2024-09-18T22:15:17.928186",
     "exception": false,
     "start_time": "2024-09-18T22:15:17.033073",
     "status": "completed"
    },
    "tags": []
   },
   "outputs": [
    {
     "name": "stdout",
     "output_type": "stream",
     "text": [
      "transmission\n",
      "Automatic                            142801\n",
      "Tiptronic                             25054\n",
      "Manual                                16415\n",
      "Variator                               2900\n",
      "8-speed automatic with auto-shift       549\n",
      "1-speed automatic                       365\n",
      "Other                                   305\n",
      "6-speed automatic with auto-shift       111\n",
      "9-speed automatic with auto-shift        33\n",
      "Name: count, dtype: int64\n"
     ]
    }
   ],
   "source": [
    "df['transmission'] = df['transmission'].str.strip().str.lower()\n",
    "\n",
    "transmission_mapping = {\n",
    "\n",
    "    '6-speed a/t': 'Automatic',\n",
    "    '8-speed automatic': 'Automatic',\n",
    "    'automatic': 'Automatic',\n",
    "    '7-speed a/t': 'Automatic',\n",
    "    'a/t': 'Automatic',\n",
    "    '8-speed a/t': 'Automatic',\n",
    "    'transmission w/dual shift mode': 'Automatic',\n",
    "    '9-speed automatic': 'Automatic',\n",
    "    '10-speed automatic': 'Automatic',\n",
    "    '1-speed a/t': 'Automatic',\n",
    "    '2-speed a/t': 'Automatic',\n",
    "    '2-speed automatic': 'Automatic',\n",
    "    '4-speed a/t': 'Automatic',\n",
    "    '5-speed automatic': 'Automatic',\n",
    "    '4-speed automatic': 'Automatic',\n",
    "    '6-speed automatic': 'Automatic', \n",
    "    '9-speed a/t': 'Automatic',        \n",
    "    '10-speed a/t': 'Automatic',      \n",
    "    '7-speed automatic': 'Automatic',  \n",
    "    '6-speed electronically controlled automatic with o': 'Automatic',\n",
    "    'single-speed fixed gear': 'Automatic',\n",
    "    '7-speed dct automatic': 'Automatic',\n",
    "    '10-speed automatic with overdrive': 'Automatic',\n",
    "    'automatic, 9-spd 9g-tronic': 'Automatic',\n",
    "    'automatic, 8-spd': 'Automatic',\n",
    "    'automatic, 8-spd sport w/sport & manual modes': 'Automatic',\n",
    "    'automatic, 8-spd pdk dual-clutch': 'Automatic',\n",
    "    'automatic, 8-spd m steptronic w/drivelogic, sport & manual modes': 'Automatic',\n",
    "    'automatic, 8-spd dual-clutch': 'Automatic',\n",
    "    'transmission overdrive switch': 'Automatic',  \n",
    "    \n",
    " \n",
    "    '7-speed automatic with auto-shift': 'Tiptronic',\n",
    "    '5-speed a/t': 'Tiptronic',\n",
    "    '7-speed a/t tiptronic': 'Tiptronic',  \n",
    "    '8-speed at': 'Tiptronic',\n",
    "    '8-speed a/t': 'Tiptronic',\n",
    "    \n",
    " \n",
    "    '6-speed m/t': 'Manual',\n",
    "    '7-speed m/t': 'Manual',\n",
    "    '6-speed manual': 'Manual',\n",
    "    '5-speed m/t': 'Manual',\n",
    "    'manual': 'Manual',\n",
    "    '7-speed manual': 'Manual',\n",
    "    '8-speed manual': 'Manual',\n",
    "    'm/t': 'Manual',\n",
    "    '6 speed at/mt': 'Manual',\n",
    "    '6 speed mt': 'Manual',\n",
    "\n",
    " \n",
    "    'automatic cvt': 'Variator',\n",
    "    'cvt transmission': 'Variator',\n",
    "    'cvt-f': 'Variator',\n",
    "    \n",
    "  \n",
    "    'variable': 'Variator',\n",
    "    'f': 'Other',                        \n",
    "    '7-speed': 'Other',                 \n",
    "    '6-speed': 'Other',                  \n",
    "    '2': 'Other',                       \n",
    "    '–': 'Other',\n",
    "    'scheduled for or in production': 'Other'\n",
    "}\n",
    "\n",
    "\n",
    "df['transmission'] = df['transmission'].replace(transmission_mapping)\n",
    "\n",
    "\n",
    "print(df['transmission'].value_counts())"
   ]
  },
  {
   "cell_type": "code",
   "execution_count": 21,
   "id": "998c7fca",
   "metadata": {
    "execution": {
     "iopub.execute_input": "2024-09-18T22:15:17.967141Z",
     "iopub.status.busy": "2024-09-18T22:15:17.966139Z",
     "iopub.status.idle": "2024-09-18T22:15:18.072078Z",
     "shell.execute_reply": "2024-09-18T22:15:18.070986Z"
    },
    "papermill": {
     "duration": 0.128523,
     "end_time": "2024-09-18T22:15:18.074890",
     "exception": false,
     "start_time": "2024-09-18T22:15:17.946367",
     "status": "completed"
    },
    "tags": []
   },
   "outputs": [
    {
     "data": {
      "text/plain": [
       "transmission\n",
       "Automatic    142801\n",
       "Tiptronic     25054\n",
       "Manual        16415\n",
       "Variator       2900\n",
       "Other          1363\n",
       "Name: count, dtype: int64"
      ]
     },
     "execution_count": 21,
     "metadata": {},
     "output_type": "execute_result"
    }
   ],
   "source": [
    "def simplify_transmission(transmission):\n",
    "    if 'Automatic' in transmission:\n",
    "        return 'Automatic'\n",
    "    elif 'Manual' in transmission:\n",
    "        return 'Manual'\n",
    "    elif 'Tiptronic' in transmission:\n",
    "        return 'Tiptronic'\n",
    "    elif 'Variator' in transmission:\n",
    "        return 'Variator'\n",
    "    else:\n",
    "        return 'Other'\n",
    "\n",
    "\n",
    "df['transmission'] = df['transmission'].apply(simplify_transmission)\n",
    "\n",
    "\n",
    "df['transmission'].value_counts()"
   ]
  },
  {
   "cell_type": "code",
   "execution_count": 22,
   "id": "b9a9efcd",
   "metadata": {
    "execution": {
     "iopub.execute_input": "2024-09-18T22:15:18.115528Z",
     "iopub.status.busy": "2024-09-18T22:15:18.114690Z",
     "iopub.status.idle": "2024-09-18T22:15:18.565609Z",
     "shell.execute_reply": "2024-09-18T22:15:18.564487Z"
    },
    "papermill": {
     "duration": 0.473808,
     "end_time": "2024-09-18T22:15:18.569056",
     "exception": false,
     "start_time": "2024-09-18T22:15:18.095248",
     "status": "completed"
    },
    "tags": []
   },
   "outputs": [
    {
     "name": "stdout",
     "output_type": "stream",
     "text": [
      "transmission\n",
      "A/T                                                   33132\n",
      "8-Speed A/T                                           13941\n",
      "Transmission w/Dual Shift Mode                        12824\n",
      "6-Speed A/T                                           12061\n",
      "6-Speed M/T                                            7865\n",
      "7-Speed A/T                                            7374\n",
      "Automatic                                              7175\n",
      "8-Speed Automatic                                      5546\n",
      "10-Speed A/T                                           5303\n",
      "9-Speed A/T                                            2584\n",
      "5-Speed A/T                                            2241\n",
      "10-Speed Automatic                                     2104\n",
      "6-Speed Automatic                                      1891\n",
      "4-Speed A/T                                            1666\n",
      "5-Speed M/T                                            1639\n",
      "9-Speed Automatic                                      1553\n",
      "CVT Transmission                                       1337\n",
      "1-Speed A/T                                            1291\n",
      "7-Speed Automatic with Auto-Shift                       800\n",
      "M/T                                                     741\n",
      "Automatic CVT                                           541\n",
      "8-Speed Automatic with Auto-Shift                       345\n",
      "7-Speed M/T                                             280\n",
      "1-Speed Automatic                                       235\n",
      "5-Speed Automatic                                       131\n",
      "6-Speed Manual                                          130\n",
      "Transmission Overdrive Switch                           124\n",
      "7-Speed Automatic                                       112\n",
      "Other                                                   104\n",
      "7-Speed Manual                                           89\n",
      "6-Speed Automatic with Auto-Shift                        62\n",
      "Variable                                                 58\n",
      "2-Speed A/T                                              45\n",
      "F                                                        42\n",
      "10-Speed Automatic with Overdrive                        39\n",
      "4-Speed Automatic                                        35\n",
      "6 Speed Mt                                               29\n",
      "6-Speed Electronically Controlled Automatic with O       29\n",
      "9-Speed Automatic with Auto-Shift                        28\n",
      "8-Speed Manual                                           23\n",
      "7-Speed                                                  21\n",
      "Manual                                                   18\n",
      "6-Speed                                                  14\n",
      "6 Speed At/Mt                                            14\n",
      "2-Speed Automatic                                        13\n",
      "CVT-F                                                    12\n",
      "Single-Speed Fixed Gear                                  12\n",
      "7-Speed DCT Automatic                                    11\n",
      "8-SPEED AT                                                9\n",
      "SCHEDULED FOR OR IN PRODUCTION                            9\n",
      "8-SPEED A/T                                               8\n",
      "Name: count, dtype: int64\n"
     ]
    }
   ],
   "source": [
    "df_test['transmission'] = df_test['transmission'].replace(transmission_mapping)\n",
    "\n",
    "\n",
    "print(df_test['transmission'].value_counts())"
   ]
  },
  {
   "cell_type": "code",
   "execution_count": 23,
   "id": "9f610a0e",
   "metadata": {
    "execution": {
     "iopub.execute_input": "2024-09-18T22:15:18.609719Z",
     "iopub.status.busy": "2024-09-18T22:15:18.608898Z",
     "iopub.status.idle": "2024-09-18T22:15:18.691009Z",
     "shell.execute_reply": "2024-09-18T22:15:18.689817Z"
    },
    "papermill": {
     "duration": 0.105006,
     "end_time": "2024-09-18T22:15:18.693554",
     "exception": false,
     "start_time": "2024-09-18T22:15:18.588548",
     "status": "completed"
    },
    "tags": []
   },
   "outputs": [
    {
     "data": {
      "text/plain": [
       "transmission\n",
       "Other        104780\n",
       "Automatic     20650\n",
       "Manual          260\n",
       "Name: count, dtype: int64"
      ]
     },
     "execution_count": 23,
     "metadata": {},
     "output_type": "execute_result"
    }
   ],
   "source": [
    "def simplify_transmission(transmission):\n",
    "    if 'Automatic' in transmission:\n",
    "        return 'Automatic'\n",
    "    elif 'Manual' in transmission:\n",
    "        return 'Manual'\n",
    "    elif 'Tiptronic' in transmission:\n",
    "        return 'Tiptronic'\n",
    "    elif 'Variator' in transmission:\n",
    "        return 'Variator'\n",
    "    else:\n",
    "        return 'Other'\n",
    "\n",
    "\n",
    "df_test['transmission'] = df_test['transmission'].apply(simplify_transmission)\n",
    "\n",
    "\n",
    "df_test['transmission'].value_counts()"
   ]
  },
  {
   "cell_type": "code",
   "execution_count": 24,
   "id": "8155a529",
   "metadata": {
    "execution": {
     "iopub.execute_input": "2024-09-18T22:15:18.733138Z",
     "iopub.status.busy": "2024-09-18T22:15:18.732732Z",
     "iopub.status.idle": "2024-09-18T22:15:18.914138Z",
     "shell.execute_reply": "2024-09-18T22:15:18.913090Z"
    },
    "papermill": {
     "duration": 0.203735,
     "end_time": "2024-09-18T22:15:18.916628",
     "exception": false,
     "start_time": "2024-09-18T22:15:18.712893",
     "status": "completed"
    },
    "tags": []
   },
   "outputs": [
    {
     "data": {
      "text/plain": [
       "transmission\n",
       "1    142801\n",
       "2     25054\n",
       "3     16415\n",
       "4      2900\n",
       "5      1363\n",
       "Name: count, dtype: int64"
      ]
     },
     "execution_count": 24,
     "metadata": {},
     "output_type": "execute_result"
    }
   ],
   "source": [
    "df[\"transmission\"] = df[\"transmission\"].replace({'Automatic':1,\n",
    "                                                'Tiptronic':2,\n",
    "                                                'Manual':3,\n",
    "                                                'Variator':4,\n",
    "                                                'Other':5})\n",
    "df[\"transmission\"].value_counts()"
   ]
  },
  {
   "cell_type": "code",
   "execution_count": 25,
   "id": "5c8b0197",
   "metadata": {
    "execution": {
     "iopub.execute_input": "2024-09-18T22:15:18.956367Z",
     "iopub.status.busy": "2024-09-18T22:15:18.955658Z",
     "iopub.status.idle": "2024-09-18T22:15:18.971405Z",
     "shell.execute_reply": "2024-09-18T22:15:18.970396Z"
    },
    "papermill": {
     "duration": 0.038333,
     "end_time": "2024-09-18T22:15:18.973789",
     "exception": false,
     "start_time": "2024-09-18T22:15:18.935456",
     "status": "completed"
    },
    "tags": []
   },
   "outputs": [
    {
     "data": {
      "text/plain": [
       "transmission\n",
       "1    95171\n",
       "2    16706\n",
       "3    10983\n",
       "4     1928\n",
       "5      902\n",
       "Name: count, dtype: int64"
      ]
     },
     "execution_count": 25,
     "metadata": {},
     "output_type": "execute_result"
    }
   ],
   "source": [
    "df_test[\"transmission\"] = df[\"transmission\"].replace({'Automatic':1,\n",
    "                                                'Tiptronic':2,\n",
    "                                                'Manual':3,\n",
    "                                                'Variator':4,\n",
    "                                                'Other':5})\n",
    "df_test[\"transmission\"].value_counts()"
   ]
  },
  {
   "cell_type": "code",
   "execution_count": 26,
   "id": "b3ace4a2",
   "metadata": {
    "execution": {
     "iopub.execute_input": "2024-09-18T22:15:19.013879Z",
     "iopub.status.busy": "2024-09-18T22:15:19.012966Z",
     "iopub.status.idle": "2024-09-18T22:15:19.094492Z",
     "shell.execute_reply": "2024-09-18T22:15:19.093275Z"
    },
    "papermill": {
     "duration": 0.104475,
     "end_time": "2024-09-18T22:15:19.097183",
     "exception": false,
     "start_time": "2024-09-18T22:15:18.992708",
     "status": "completed"
    },
    "tags": []
   },
   "outputs": [
    {
     "name": "stdout",
     "output_type": "stream",
     "text": [
      "<class 'pandas.core.frame.DataFrame'>\n",
      "RangeIndex: 125690 entries, 0 to 125689\n",
      "Data columns (total 14 columns):\n",
      " #   Column          Non-Null Count   Dtype  \n",
      "---  ------          --------------   -----  \n",
      " 0   id              125690 non-null  int64  \n",
      " 1   brand           125690 non-null  object \n",
      " 2   model_year      125690 non-null  int64  \n",
      " 3   milage          125690 non-null  int64  \n",
      " 4   fuel_type       125690 non-null  object \n",
      " 5   transmission    125690 non-null  int64  \n",
      " 6   ext_col         125690 non-null  object \n",
      " 7   int_col         125690 non-null  object \n",
      " 8   accident        125690 non-null  int64  \n",
      " 9   clean_title     125690 non-null  int64  \n",
      " 10  Horsepower      125690 non-null  float64\n",
      " 11  Displacement    121252 non-null  float64\n",
      " 12  Cylinder Count  125690 non-null  float64\n",
      " 13  Fuel Type       104675 non-null  object \n",
      "dtypes: float64(3), int64(6), object(5)\n",
      "memory usage: 13.4+ MB\n"
     ]
    }
   ],
   "source": [
    "df_test.info()"
   ]
  },
  {
   "cell_type": "code",
   "execution_count": 27,
   "id": "31e9da80",
   "metadata": {
    "execution": {
     "iopub.execute_input": "2024-09-18T22:15:19.138188Z",
     "iopub.status.busy": "2024-09-18T22:15:19.137784Z",
     "iopub.status.idle": "2024-09-18T22:15:19.168200Z",
     "shell.execute_reply": "2024-09-18T22:15:19.167264Z"
    },
    "papermill": {
     "duration": 0.052387,
     "end_time": "2024-09-18T22:15:19.170389",
     "exception": false,
     "start_time": "2024-09-18T22:15:19.118002",
     "status": "completed"
    },
    "tags": []
   },
   "outputs": [
    {
     "data": {
      "text/plain": [
       "Fuel Type\n",
       "Gasoline     139734\n",
       "Electric       7566\n",
       "Flex Fuel      5168\n",
       "Diesel         4119\n",
       "Hybrid          400\n",
       "Name: count, dtype: int64"
      ]
     },
     "execution_count": 27,
     "metadata": {},
     "output_type": "execute_result"
    }
   ],
   "source": [
    "df[\"Fuel Type\"].value_counts()"
   ]
  },
  {
   "cell_type": "code",
   "execution_count": 28,
   "id": "e4af8898",
   "metadata": {
    "execution": {
     "iopub.execute_input": "2024-09-18T22:15:19.210616Z",
     "iopub.status.busy": "2024-09-18T22:15:19.209731Z",
     "iopub.status.idle": "2024-09-18T22:15:19.241876Z",
     "shell.execute_reply": "2024-09-18T22:15:19.240917Z"
    },
    "papermill": {
     "duration": 0.055135,
     "end_time": "2024-09-18T22:15:19.244438",
     "exception": false,
     "start_time": "2024-09-18T22:15:19.189303",
     "status": "completed"
    },
    "tags": []
   },
   "outputs": [],
   "source": [
    "\n",
    "df.drop('Fuel Type',axis=1,inplace=True)\n",
    "df_test.drop('Fuel Type',axis=1,inplace=True)"
   ]
  },
  {
   "cell_type": "code",
   "execution_count": 29,
   "id": "2e8be105",
   "metadata": {
    "execution": {
     "iopub.execute_input": "2024-09-18T22:15:19.284621Z",
     "iopub.status.busy": "2024-09-18T22:15:19.283773Z",
     "iopub.status.idle": "2024-09-18T22:15:19.377045Z",
     "shell.execute_reply": "2024-09-18T22:15:19.375320Z"
    },
    "papermill": {
     "duration": 0.116317,
     "end_time": "2024-09-18T22:15:19.379690",
     "exception": false,
     "start_time": "2024-09-18T22:15:19.263373",
     "status": "completed"
    },
    "tags": []
   },
   "outputs": [
    {
     "name": "stdout",
     "output_type": "stream",
     "text": [
      "<class 'pandas.core.frame.DataFrame'>\n",
      "RangeIndex: 188533 entries, 0 to 188532\n",
      "Data columns (total 14 columns):\n",
      " #   Column          Non-Null Count   Dtype  \n",
      "---  ------          --------------   -----  \n",
      " 0   id              188533 non-null  int64  \n",
      " 1   brand           188533 non-null  object \n",
      " 2   model_year      188533 non-null  int64  \n",
      " 3   milage          188533 non-null  int64  \n",
      " 4   fuel_type       188533 non-null  object \n",
      " 5   transmission    188533 non-null  int64  \n",
      " 6   ext_col         188533 non-null  object \n",
      " 7   int_col         188533 non-null  object \n",
      " 8   accident        188533 non-null  int64  \n",
      " 9   clean_title     188533 non-null  int64  \n",
      " 10  price           188533 non-null  int64  \n",
      " 11  Horsepower      188533 non-null  float64\n",
      " 12  Displacement    181763 non-null  float64\n",
      " 13  Cylinder Count  188533 non-null  float64\n",
      "dtypes: float64(3), int64(7), object(4)\n",
      "memory usage: 20.1+ MB\n"
     ]
    }
   ],
   "source": [
    "df.info()"
   ]
  },
  {
   "cell_type": "code",
   "execution_count": 30,
   "id": "f1587043",
   "metadata": {
    "execution": {
     "iopub.execute_input": "2024-09-18T22:15:19.422096Z",
     "iopub.status.busy": "2024-09-18T22:15:19.421360Z",
     "iopub.status.idle": "2024-09-18T22:15:19.433200Z",
     "shell.execute_reply": "2024-09-18T22:15:19.432010Z"
    },
    "papermill": {
     "duration": 0.036138,
     "end_time": "2024-09-18T22:15:19.435858",
     "exception": false,
     "start_time": "2024-09-18T22:15:19.399720",
     "status": "completed"
    },
    "tags": []
   },
   "outputs": [
    {
     "data": {
      "text/plain": [
       "array([1.6 , 3.9 , 5.3 , 5.  , 2.  , 3.  , 2.7 , 3.6 ,  nan, 6.2 , 4.4 ,\n",
       "       4.  , 4.6 , 5.2 , 3.7 , 5.7 , 6.7 , 3.5 , 2.8 , 5.5 , 5.4 , 6.8 ,\n",
       "       3.8 , 2.5 , 3.4 , 2.4 , 3.3 , 2.3 , 3.2 , 4.7 , 1.8 , 6.  , 4.8 ,\n",
       "       5.6 , 4.3 , 4.2 , 1.5 , 6.4 , 8.3 , 6.3 , 2.1 , 1.4 , 4.5 , 1.3 ,\n",
       "       2.9 , 1.7 , 6.6 , 2.2 , 6.1 , 7.3 , 6.5 , 0.65, 6.75, 7.  , 1.  ,\n",
       "       5.9 , 8.1 , 5.8 , 1.2 , 8.4 , 8.  , 7.4 ])"
      ]
     },
     "execution_count": 30,
     "metadata": {},
     "output_type": "execute_result"
    }
   ],
   "source": [
    "df['Displacement'].unique()"
   ]
  },
  {
   "cell_type": "code",
   "execution_count": 31,
   "id": "69f01f02",
   "metadata": {
    "execution": {
     "iopub.execute_input": "2024-09-18T22:15:19.528551Z",
     "iopub.status.busy": "2024-09-18T22:15:19.527856Z",
     "iopub.status.idle": "2024-09-18T22:15:19.535906Z",
     "shell.execute_reply": "2024-09-18T22:15:19.534762Z"
    },
    "papermill": {
     "duration": 0.030946,
     "end_time": "2024-09-18T22:15:19.538308",
     "exception": false,
     "start_time": "2024-09-18T22:15:19.507362",
     "status": "completed"
    },
    "tags": []
   },
   "outputs": [],
   "source": [
    "df['Displacement'].fillna(value=df['Displacement'].mean(),inplace=True)"
   ]
  },
  {
   "cell_type": "code",
   "execution_count": 32,
   "id": "696cec49",
   "metadata": {
    "execution": {
     "iopub.execute_input": "2024-09-18T22:15:19.582041Z",
     "iopub.status.busy": "2024-09-18T22:15:19.581621Z",
     "iopub.status.idle": "2024-09-18T22:15:19.689758Z",
     "shell.execute_reply": "2024-09-18T22:15:19.688656Z"
    },
    "papermill": {
     "duration": 0.134689,
     "end_time": "2024-09-18T22:15:19.692102",
     "exception": false,
     "start_time": "2024-09-18T22:15:19.557413",
     "status": "completed"
    },
    "tags": []
   },
   "outputs": [
    {
     "data": {
      "text/plain": [
       "id                0\n",
       "brand             0\n",
       "model_year        0\n",
       "milage            0\n",
       "fuel_type         0\n",
       "transmission      0\n",
       "ext_col           0\n",
       "int_col           0\n",
       "accident          0\n",
       "clean_title       0\n",
       "price             0\n",
       "Horsepower        0\n",
       "Displacement      0\n",
       "Cylinder Count    0\n",
       "dtype: int64"
      ]
     },
     "execution_count": 32,
     "metadata": {},
     "output_type": "execute_result"
    }
   ],
   "source": [
    "df.isna().sum()"
   ]
  },
  {
   "cell_type": "code",
   "execution_count": 33,
   "id": "8e49e578",
   "metadata": {
    "execution": {
     "iopub.execute_input": "2024-09-18T22:15:19.732315Z",
     "iopub.status.busy": "2024-09-18T22:15:19.731930Z",
     "iopub.status.idle": "2024-09-18T22:15:19.798808Z",
     "shell.execute_reply": "2024-09-18T22:15:19.797712Z"
    },
    "papermill": {
     "duration": 0.089746,
     "end_time": "2024-09-18T22:15:19.801257",
     "exception": false,
     "start_time": "2024-09-18T22:15:19.711511",
     "status": "completed"
    },
    "tags": []
   },
   "outputs": [
    {
     "name": "stdout",
     "output_type": "stream",
     "text": [
      "<class 'pandas.core.frame.DataFrame'>\n",
      "RangeIndex: 125690 entries, 0 to 125689\n",
      "Data columns (total 13 columns):\n",
      " #   Column          Non-Null Count   Dtype  \n",
      "---  ------          --------------   -----  \n",
      " 0   id              125690 non-null  int64  \n",
      " 1   brand           125690 non-null  object \n",
      " 2   model_year      125690 non-null  int64  \n",
      " 3   milage          125690 non-null  int64  \n",
      " 4   fuel_type       125690 non-null  object \n",
      " 5   transmission    125690 non-null  int64  \n",
      " 6   ext_col         125690 non-null  object \n",
      " 7   int_col         125690 non-null  object \n",
      " 8   accident        125690 non-null  int64  \n",
      " 9   clean_title     125690 non-null  int64  \n",
      " 10  Horsepower      125690 non-null  float64\n",
      " 11  Displacement    121252 non-null  float64\n",
      " 12  Cylinder Count  125690 non-null  float64\n",
      "dtypes: float64(3), int64(6), object(4)\n",
      "memory usage: 12.5+ MB\n"
     ]
    }
   ],
   "source": [
    "df_test.info()"
   ]
  },
  {
   "cell_type": "code",
   "execution_count": 34,
   "id": "c5b43e67",
   "metadata": {
    "execution": {
     "iopub.execute_input": "2024-09-18T22:15:19.843172Z",
     "iopub.status.busy": "2024-09-18T22:15:19.842258Z",
     "iopub.status.idle": "2024-09-18T22:15:19.849110Z",
     "shell.execute_reply": "2024-09-18T22:15:19.848221Z"
    },
    "papermill": {
     "duration": 0.030403,
     "end_time": "2024-09-18T22:15:19.851448",
     "exception": false,
     "start_time": "2024-09-18T22:15:19.821045",
     "status": "completed"
    },
    "tags": []
   },
   "outputs": [],
   "source": [
    "df_test['Displacement'].fillna(value=df_test['Displacement'].mean(),inplace=True)"
   ]
  },
  {
   "cell_type": "code",
   "execution_count": 35,
   "id": "97f7bddb",
   "metadata": {
    "execution": {
     "iopub.execute_input": "2024-09-18T22:15:19.891573Z",
     "iopub.status.busy": "2024-09-18T22:15:19.891182Z",
     "iopub.status.idle": "2024-09-18T22:15:19.920128Z",
     "shell.execute_reply": "2024-09-18T22:15:19.918995Z"
    },
    "papermill": {
     "duration": 0.052004,
     "end_time": "2024-09-18T22:15:19.922611",
     "exception": false,
     "start_time": "2024-09-18T22:15:19.870607",
     "status": "completed"
    },
    "tags": []
   },
   "outputs": [
    {
     "data": {
      "text/plain": [
       "fuel_type\n",
       "Gasoline          110533\n",
       "Hybrid              4676\n",
       "E85 Flex Fuel       3523\n",
       "Electricity         3383\n",
       "Diesel              2686\n",
       "–                    538\n",
       "Plug-In Hybrid       337\n",
       "not supported         14\n",
       "Name: count, dtype: int64"
      ]
     },
     "execution_count": 35,
     "metadata": {},
     "output_type": "execute_result"
    }
   ],
   "source": [
    "df_test['fuel_type'].value_counts()"
   ]
  },
  {
   "cell_type": "code",
   "execution_count": 36,
   "id": "adacea55",
   "metadata": {
    "execution": {
     "iopub.execute_input": "2024-09-18T22:15:19.964438Z",
     "iopub.status.busy": "2024-09-18T22:15:19.964014Z",
     "iopub.status.idle": "2024-09-18T22:15:20.297106Z",
     "shell.execute_reply": "2024-09-18T22:15:20.296058Z"
    },
    "papermill": {
     "duration": 0.357127,
     "end_time": "2024-09-18T22:15:20.299657",
     "exception": false,
     "start_time": "2024-09-18T22:15:19.942530",
     "status": "completed"
    },
    "tags": []
   },
   "outputs": [],
   "source": [
    "# Encoding categorical variables\n",
    "categorical_columns = ['brand', 'fuel_type', 'ext_col', 'int_col']\n",
    "le = LabelEncoder()\n",
    "\n",
    "for col in categorical_columns:\n",
    "    if col in df.columns:\n",
    "        df[col] = le.fit_transform(df[col])\n",
    "        df_test[col] = le.transform(df_test[col])\n"
   ]
  },
  {
   "cell_type": "markdown",
   "id": "bc3e6459",
   "metadata": {
    "papermill": {
     "duration": 0.019543,
     "end_time": "2024-09-18T22:15:20.338849",
     "exception": false,
     "start_time": "2024-09-18T22:15:20.319306",
     "status": "completed"
    },
    "tags": []
   },
   "source": [
    "## Prepare training and testing datasets"
   ]
  },
  {
   "cell_type": "code",
   "execution_count": 37,
   "id": "9e9cb377",
   "metadata": {
    "execution": {
     "iopub.execute_input": "2024-09-18T22:15:20.380672Z",
     "iopub.status.busy": "2024-09-18T22:15:20.380239Z",
     "iopub.status.idle": "2024-09-18T22:15:20.407556Z",
     "shell.execute_reply": "2024-09-18T22:15:20.406662Z"
    },
    "papermill": {
     "duration": 0.051563,
     "end_time": "2024-09-18T22:15:20.410129",
     "exception": false,
     "start_time": "2024-09-18T22:15:20.358566",
     "status": "completed"
    },
    "tags": []
   },
   "outputs": [],
   "source": [
    "scaler = StandardScaler()\n",
    "df[['Horsepower', 'Displacement', 'Cylinder Count']] = scaler.fit_transform(df[['Horsepower', 'Displacement', 'Cylinder Count']])\n",
    "df_test[['Horsepower', 'Displacement', 'Cylinder Count']] = scaler.transform(df_test[['Horsepower', 'Displacement', 'Cylinder Count']])"
   ]
  },
  {
   "cell_type": "code",
   "execution_count": 38,
   "id": "26e6dfad",
   "metadata": {
    "execution": {
     "iopub.execute_input": "2024-09-18T22:15:20.451620Z",
     "iopub.status.busy": "2024-09-18T22:15:20.451155Z",
     "iopub.status.idle": "2024-09-18T22:15:20.464494Z",
     "shell.execute_reply": "2024-09-18T22:15:20.463711Z"
    },
    "papermill": {
     "duration": 0.036679,
     "end_time": "2024-09-18T22:15:20.466837",
     "exception": false,
     "start_time": "2024-09-18T22:15:20.430158",
     "status": "completed"
    },
    "tags": []
   },
   "outputs": [],
   "source": [
    "X = df.drop(columns=['price']) \n",
    "y = df['price']  "
   ]
  },
  {
   "cell_type": "code",
   "execution_count": 39,
   "id": "54af4ed8",
   "metadata": {
    "execution": {
     "iopub.execute_input": "2024-09-18T22:15:20.508558Z",
     "iopub.status.busy": "2024-09-18T22:15:20.507550Z",
     "iopub.status.idle": "2024-09-18T22:15:20.565490Z",
     "shell.execute_reply": "2024-09-18T22:15:20.564559Z"
    },
    "papermill": {
     "duration": 0.081422,
     "end_time": "2024-09-18T22:15:20.568186",
     "exception": false,
     "start_time": "2024-09-18T22:15:20.486764",
     "status": "completed"
    },
    "tags": []
   },
   "outputs": [],
   "source": [
    "X_train, X_valid, y_train, y_valid = train_test_split(X, y, test_size=0.2, random_state=42)\n"
   ]
  },
  {
   "cell_type": "markdown",
   "id": "8c4060e2",
   "metadata": {
    "papermill": {
     "duration": 0.020077,
     "end_time": "2024-09-18T22:15:20.607575",
     "exception": false,
     "start_time": "2024-09-18T22:15:20.587498",
     "status": "completed"
    },
    "tags": []
   },
   "source": [
    "## Build Model with LGBM"
   ]
  },
  {
   "cell_type": "code",
   "execution_count": 40,
   "id": "d69ea538",
   "metadata": {
    "execution": {
     "iopub.execute_input": "2024-09-18T22:15:20.649976Z",
     "iopub.status.busy": "2024-09-18T22:15:20.649515Z",
     "iopub.status.idle": "2024-09-18T22:15:38.820389Z",
     "shell.execute_reply": "2024-09-18T22:15:38.819252Z"
    },
    "papermill": {
     "duration": 18.194427,
     "end_time": "2024-09-18T22:15:38.823141",
     "exception": false,
     "start_time": "2024-09-18T22:15:20.628714",
     "status": "completed"
    },
    "tags": []
   },
   "outputs": [
    {
     "data": {
      "text/html": [
       "<style>#sk-container-id-1 {color: black;background-color: white;}#sk-container-id-1 pre{padding: 0;}#sk-container-id-1 div.sk-toggleable {background-color: white;}#sk-container-id-1 label.sk-toggleable__label {cursor: pointer;display: block;width: 100%;margin-bottom: 0;padding: 0.3em;box-sizing: border-box;text-align: center;}#sk-container-id-1 label.sk-toggleable__label-arrow:before {content: \"▸\";float: left;margin-right: 0.25em;color: #696969;}#sk-container-id-1 label.sk-toggleable__label-arrow:hover:before {color: black;}#sk-container-id-1 div.sk-estimator:hover label.sk-toggleable__label-arrow:before {color: black;}#sk-container-id-1 div.sk-toggleable__content {max-height: 0;max-width: 0;overflow: hidden;text-align: left;background-color: #f0f8ff;}#sk-container-id-1 div.sk-toggleable__content pre {margin: 0.2em;color: black;border-radius: 0.25em;background-color: #f0f8ff;}#sk-container-id-1 input.sk-toggleable__control:checked~div.sk-toggleable__content {max-height: 200px;max-width: 100%;overflow: auto;}#sk-container-id-1 input.sk-toggleable__control:checked~label.sk-toggleable__label-arrow:before {content: \"▾\";}#sk-container-id-1 div.sk-estimator input.sk-toggleable__control:checked~label.sk-toggleable__label {background-color: #d4ebff;}#sk-container-id-1 div.sk-label input.sk-toggleable__control:checked~label.sk-toggleable__label {background-color: #d4ebff;}#sk-container-id-1 input.sk-hidden--visually {border: 0;clip: rect(1px 1px 1px 1px);clip: rect(1px, 1px, 1px, 1px);height: 1px;margin: -1px;overflow: hidden;padding: 0;position: absolute;width: 1px;}#sk-container-id-1 div.sk-estimator {font-family: monospace;background-color: #f0f8ff;border: 1px dotted black;border-radius: 0.25em;box-sizing: border-box;margin-bottom: 0.5em;}#sk-container-id-1 div.sk-estimator:hover {background-color: #d4ebff;}#sk-container-id-1 div.sk-parallel-item::after {content: \"\";width: 100%;border-bottom: 1px solid gray;flex-grow: 1;}#sk-container-id-1 div.sk-label:hover label.sk-toggleable__label {background-color: #d4ebff;}#sk-container-id-1 div.sk-serial::before {content: \"\";position: absolute;border-left: 1px solid gray;box-sizing: border-box;top: 0;bottom: 0;left: 50%;z-index: 0;}#sk-container-id-1 div.sk-serial {display: flex;flex-direction: column;align-items: center;background-color: white;padding-right: 0.2em;padding-left: 0.2em;position: relative;}#sk-container-id-1 div.sk-item {position: relative;z-index: 1;}#sk-container-id-1 div.sk-parallel {display: flex;align-items: stretch;justify-content: center;background-color: white;position: relative;}#sk-container-id-1 div.sk-item::before, #sk-container-id-1 div.sk-parallel-item::before {content: \"\";position: absolute;border-left: 1px solid gray;box-sizing: border-box;top: 0;bottom: 0;left: 50%;z-index: -1;}#sk-container-id-1 div.sk-parallel-item {display: flex;flex-direction: column;z-index: 1;position: relative;background-color: white;}#sk-container-id-1 div.sk-parallel-item:first-child::after {align-self: flex-end;width: 50%;}#sk-container-id-1 div.sk-parallel-item:last-child::after {align-self: flex-start;width: 50%;}#sk-container-id-1 div.sk-parallel-item:only-child::after {width: 0;}#sk-container-id-1 div.sk-dashed-wrapped {border: 1px dashed gray;margin: 0 0.4em 0.5em 0.4em;box-sizing: border-box;padding-bottom: 0.4em;background-color: white;}#sk-container-id-1 div.sk-label label {font-family: monospace;font-weight: bold;display: inline-block;line-height: 1.2em;}#sk-container-id-1 div.sk-label-container {text-align: center;}#sk-container-id-1 div.sk-container {/* jupyter's `normalize.less` sets `[hidden] { display: none; }` but bootstrap.min.css set `[hidden] { display: none !important; }` so we also need the `!important` here to be able to override the default hidden behavior on the sphinx rendered scikit-learn.org. See: https://github.com/scikit-learn/scikit-learn/issues/21755 */display: inline-block !important;position: relative;}#sk-container-id-1 div.sk-text-repr-fallback {display: none;}</style><div id=\"sk-container-id-1\" class=\"sk-top-container\"><div class=\"sk-text-repr-fallback\"><pre>LGBMRegressor(bagging_fraction=0.85, bagging_freq=9, cat_smooth=50,\n",
       "              colsample_bytree=0.9, feature_fraction=0.85, learning_rate=0.015,\n",
       "              max_depth=13, min_child_weight=0.02, min_data_in_leaf=135,\n",
       "              n_estimators=550, num_leaves=570, random_state=42, reg_alpha=1.0,\n",
       "              reg_lambda=0.005623413251903491, subsample=0.95, verbose=-1)</pre><b>In a Jupyter environment, please rerun this cell to show the HTML representation or trust the notebook. <br />On GitHub, the HTML representation is unable to render, please try loading this page with nbviewer.org.</b></div><div class=\"sk-container\" hidden><div class=\"sk-item\"><div class=\"sk-estimator sk-toggleable\"><input class=\"sk-toggleable__control sk-hidden--visually\" id=\"sk-estimator-id-1\" type=\"checkbox\" checked><label for=\"sk-estimator-id-1\" class=\"sk-toggleable__label sk-toggleable__label-arrow\">LGBMRegressor</label><div class=\"sk-toggleable__content\"><pre>LGBMRegressor(bagging_fraction=0.85, bagging_freq=9, cat_smooth=50,\n",
       "              colsample_bytree=0.9, feature_fraction=0.85, learning_rate=0.015,\n",
       "              max_depth=13, min_child_weight=0.02, min_data_in_leaf=135,\n",
       "              n_estimators=550, num_leaves=570, random_state=42, reg_alpha=1.0,\n",
       "              reg_lambda=0.005623413251903491, subsample=0.95, verbose=-1)</pre></div></div></div></div></div>"
      ],
      "text/plain": [
       "LGBMRegressor(bagging_fraction=0.85, bagging_freq=9, cat_smooth=50,\n",
       "              colsample_bytree=0.9, feature_fraction=0.85, learning_rate=0.015,\n",
       "              max_depth=13, min_child_weight=0.02, min_data_in_leaf=135,\n",
       "              n_estimators=550, num_leaves=570, random_state=42, reg_alpha=1.0,\n",
       "              reg_lambda=0.005623413251903491, subsample=0.95, verbose=-1)"
      ]
     },
     "execution_count": 40,
     "metadata": {},
     "output_type": "execute_result"
    }
   ],
   "source": [
    "lgbm_params = {\n",
    "    'subsample': 0.95, \n",
    "    'reg_lambda': 0.005623413251903491, \n",
    "    'reg_alpha': 1.0, \n",
    "    'num_leaves': 570, \n",
    "    'n_estimators': 550, \n",
    "    'min_data_in_leaf': 135, \n",
    "    'min_child_weight': 0.02, \n",
    "    'max_depth': 13, \n",
    "    'learning_rate': 0.015, \n",
    "    'feature_fraction': 0.85, \n",
    "    'colsample_bytree': 0.9, \n",
    "    'cat_smooth': 50, \n",
    "    'bagging_freq': 9, \n",
    "    'bagging_fraction': 0.85\n",
    "}\n",
    "lgbm_model = lgb.LGBMRegressor(**lgbm_params, random_state=42, verbose=-1)\n",
    "lgbm_model.fit(X_train, y_train)"
   ]
  },
  {
   "cell_type": "code",
   "execution_count": 41,
   "id": "5cd81f04",
   "metadata": {
    "execution": {
     "iopub.execute_input": "2024-09-18T22:15:38.866511Z",
     "iopub.status.busy": "2024-09-18T22:15:38.865525Z",
     "iopub.status.idle": "2024-09-18T22:15:39.202099Z",
     "shell.execute_reply": "2024-09-18T22:15:39.200897Z"
    },
    "papermill": {
     "duration": 0.361022,
     "end_time": "2024-09-18T22:15:39.204791",
     "exception": false,
     "start_time": "2024-09-18T22:15:38.843769",
     "status": "completed"
    },
    "tags": []
   },
   "outputs": [],
   "source": [
    "from catboost import CatBoostRegressor"
   ]
  },
  {
   "cell_type": "code",
   "execution_count": 42,
   "id": "6f4f9e23",
   "metadata": {
    "execution": {
     "iopub.execute_input": "2024-09-18T22:15:39.248318Z",
     "iopub.status.busy": "2024-09-18T22:15:39.247919Z",
     "iopub.status.idle": "2024-09-18T22:19:06.571740Z",
     "shell.execute_reply": "2024-09-18T22:19:06.570594Z"
    },
    "papermill": {
     "duration": 207.348019,
     "end_time": "2024-09-18T22:19:06.574136",
     "exception": false,
     "start_time": "2024-09-18T22:15:39.226117",
     "status": "completed"
    },
    "tags": []
   },
   "outputs": [
    {
     "name": "stdout",
     "output_type": "stream",
     "text": [
      "0:\tlearn: 79748.3584224\ttotal: 262ms\tremaining: 6m 32s\n",
      "500:\tlearn: 72678.6728266\ttotal: 1m 31s\tremaining: 3m 2s\n",
      "1000:\tlearn: 72065.2319785\ttotal: 2m 39s\tremaining: 1m 19s\n",
      "1499:\tlearn: 71820.5343069\ttotal: 3m 25s\tremaining: 0us\n"
     ]
    },
    {
     "data": {
      "text/plain": [
       "<catboost.core.CatBoostRegressor at 0x79c5e21b6500>"
      ]
     },
     "execution_count": 42,
     "metadata": {},
     "output_type": "execute_result"
    }
   ],
   "source": [
    "catb_params = {\n",
    "    'iterations': 1500, \n",
    "    'learning_rate': 0.010011982648647914, \n",
    "    'depth': 10, \n",
    "    'l2_leaf_reg': 9.557443197213443, \n",
    "    'bootstrap_type': 'MVS'\n",
    "}\n",
    "cat_features = [X_train.columns.get_loc(col) for col in categorical_columns]\n",
    "catb_model = CatBoostRegressor(**catb_params, cat_features=cat_features, random_state=42, verbose=500)\n",
    "catb_model.fit(X_train, y_train)"
   ]
  },
  {
   "cell_type": "code",
   "execution_count": 43,
   "id": "f8317835",
   "metadata": {
    "execution": {
     "iopub.execute_input": "2024-09-18T22:19:06.617878Z",
     "iopub.status.busy": "2024-09-18T22:19:06.617180Z",
     "iopub.status.idle": "2024-09-18T22:19:10.207827Z",
     "shell.execute_reply": "2024-09-18T22:19:10.206853Z"
    },
    "papermill": {
     "duration": 3.615343,
     "end_time": "2024-09-18T22:19:10.210484",
     "exception": false,
     "start_time": "2024-09-18T22:19:06.595141",
     "status": "completed"
    },
    "tags": []
   },
   "outputs": [],
   "source": [
    "lgbm_preds = lgbm_model.predict(X_valid)\n",
    "catb_preds = catb_model.predict(X_valid)"
   ]
  },
  {
   "cell_type": "code",
   "execution_count": 44,
   "id": "9c760de3",
   "metadata": {
    "execution": {
     "iopub.execute_input": "2024-09-18T22:19:10.253808Z",
     "iopub.status.busy": "2024-09-18T22:19:10.252967Z",
     "iopub.status.idle": "2024-09-18T22:19:10.260878Z",
     "shell.execute_reply": "2024-09-18T22:19:10.259622Z"
    },
    "papermill": {
     "duration": 0.032266,
     "end_time": "2024-09-18T22:19:10.263352",
     "exception": false,
     "start_time": "2024-09-18T22:19:10.231086",
     "status": "completed"
    },
    "tags": []
   },
   "outputs": [
    {
     "name": "stdout",
     "output_type": "stream",
     "text": [
      "Ensemble RMSE: 67914.81224312125\n"
     ]
    }
   ],
   "source": [
    "ensemble_preds = (lgbm_preds + catb_preds) / 2\n",
    "rmse_ensemble = mean_squared_error(y_valid, ensemble_preds, squared=False)\n",
    "print(f'Ensemble RMSE: {rmse_ensemble}')"
   ]
  },
  {
   "cell_type": "code",
   "execution_count": 45,
   "id": "d7a37f33",
   "metadata": {
    "execution": {
     "iopub.execute_input": "2024-09-18T22:19:10.308859Z",
     "iopub.status.busy": "2024-09-18T22:19:10.307925Z",
     "iopub.status.idle": "2024-09-18T22:19:21.795617Z",
     "shell.execute_reply": "2024-09-18T22:19:21.794447Z"
    },
    "papermill": {
     "duration": 11.512488,
     "end_time": "2024-09-18T22:19:21.798607",
     "exception": false,
     "start_time": "2024-09-18T22:19:10.286119",
     "status": "completed"
    },
    "tags": []
   },
   "outputs": [],
   "source": [
    "X_test = df_test  \n",
    "lgbm_test_preds = lgbm_model.predict(X_test)\n",
    "catb_test_preds = catb_model.predict(X_test)"
   ]
  },
  {
   "cell_type": "code",
   "execution_count": 46,
   "id": "34960ab7",
   "metadata": {
    "execution": {
     "iopub.execute_input": "2024-09-18T22:19:21.841247Z",
     "iopub.status.busy": "2024-09-18T22:19:21.840515Z",
     "iopub.status.idle": "2024-09-18T22:19:21.845935Z",
     "shell.execute_reply": "2024-09-18T22:19:21.844852Z"
    },
    "papermill": {
     "duration": 0.029304,
     "end_time": "2024-09-18T22:19:21.848305",
     "exception": false,
     "start_time": "2024-09-18T22:19:21.819001",
     "status": "completed"
    },
    "tags": []
   },
   "outputs": [],
   "source": [
    "ensemble_test_preds = (lgbm_test_preds + catb_test_preds) / 2"
   ]
  },
  {
   "cell_type": "code",
   "execution_count": 47,
   "id": "08a9c8aa",
   "metadata": {
    "execution": {
     "iopub.execute_input": "2024-09-18T22:19:21.891166Z",
     "iopub.status.busy": "2024-09-18T22:19:21.890732Z",
     "iopub.status.idle": "2024-09-18T22:19:21.896993Z",
     "shell.execute_reply": "2024-09-18T22:19:21.895827Z"
    },
    "papermill": {
     "duration": 0.030501,
     "end_time": "2024-09-18T22:19:21.899256",
     "exception": false,
     "start_time": "2024-09-18T22:19:21.868755",
     "status": "completed"
    },
    "tags": []
   },
   "outputs": [],
   "source": [
    "submission = pd.DataFrame({\n",
    "    'id': df_test['id'],  \n",
    "    'price': ensemble_test_preds\n",
    "})"
   ]
  },
  {
   "cell_type": "code",
   "execution_count": 48,
   "id": "92ba0864",
   "metadata": {
    "execution": {
     "iopub.execute_input": "2024-09-18T22:19:21.943375Z",
     "iopub.status.busy": "2024-09-18T22:19:21.942376Z",
     "iopub.status.idle": "2024-09-18T22:19:22.342790Z",
     "shell.execute_reply": "2024-09-18T22:19:22.341492Z"
    },
    "papermill": {
     "duration": 0.424985,
     "end_time": "2024-09-18T22:19:22.345140",
     "exception": false,
     "start_time": "2024-09-18T22:19:21.920155",
     "status": "completed"
    },
    "tags": []
   },
   "outputs": [
    {
     "name": "stdout",
     "output_type": "stream",
     "text": [
      "Submission file created!\n"
     ]
    }
   ],
   "source": [
    "submission.to_csv('submission.csv', index=False)\n",
    "print(\"Submission file created!\")"
   ]
  },
  {
   "cell_type": "code",
   "execution_count": null,
   "id": "d3812ec6",
   "metadata": {
    "papermill": {
     "duration": 0.020597,
     "end_time": "2024-09-18T22:19:22.386636",
     "exception": false,
     "start_time": "2024-09-18T22:19:22.366039",
     "status": "completed"
    },
    "tags": []
   },
   "outputs": [],
   "source": []
  }
 ],
 "metadata": {
  "kaggle": {
   "accelerator": "nvidiaTeslaT4",
   "dataSources": [
    {
     "databundleVersionId": 9057646,
     "sourceId": 76728,
     "sourceType": "competition"
    }
   ],
   "dockerImageVersionId": 30761,
   "isGpuEnabled": true,
   "isInternetEnabled": true,
   "language": "python",
   "sourceType": "notebook"
  },
  "kernelspec": {
   "display_name": "Python 3",
   "language": "python",
   "name": "python3"
  },
  "language_info": {
   "codemirror_mode": {
    "name": "ipython",
    "version": 3
   },
   "file_extension": ".py",
   "mimetype": "text/x-python",
   "name": "python",
   "nbconvert_exporter": "python",
   "pygments_lexer": "ipython3",
   "version": "3.10.14"
  },
  "papermill": {
   "default_parameters": {},
   "duration": 860.280895,
   "end_time": "2024-09-18T22:19:23.329869",
   "environment_variables": {},
   "exception": null,
   "input_path": "__notebook__.ipynb",
   "output_path": "__notebook__.ipynb",
   "parameters": {},
   "start_time": "2024-09-18T22:05:03.048974",
   "version": "2.6.0"
  }
 },
 "nbformat": 4,
 "nbformat_minor": 5
}
