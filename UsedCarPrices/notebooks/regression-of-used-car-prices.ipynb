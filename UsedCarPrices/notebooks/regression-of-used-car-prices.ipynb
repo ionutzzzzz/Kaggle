{
 "cells": [
  {
   "cell_type": "markdown",
   "id": "d2418516",
   "metadata": {
    "papermill": {
     "duration": 0.009197,
     "end_time": "2024-09-19T04:48:31.651060",
     "exception": false,
     "start_time": "2024-09-19T04:48:31.641863",
     "status": "completed"
    },
    "tags": []
   },
   "source": [
    "<p style=\"    background-color: #ffdef9;\n",
    "    color: #ff0070;\n",
    "    margin: 2rem;\n",
    "    display: inline-block;\n",
    "    padding: .6rem;\n",
    "    box-shadow: 0 0 2rem -5px #ffb9c6a3;\n",
    "    border-radius: 1rem;\n",
    "    cursor: progress;\n",
    "    font-size: 1.7rem;\">My Other Notebook Using Neural Network  <a href=\"https://www.kaggle.com/code/danishyousuf19/using-neural-networks-for-car-price-prediction\" style=\"font-size: 18px;\n",
    "  letter-spacing: 2px;\n",
    "  text-transform: uppercase;\n",
    "  display: inline-block;\n",
    "  text-align: center;\n",
    "  font-weight: bold;\n",
    "  padding: 0.7em 2em;\n",
    "  border: 3px solid #FF0072;\n",
    "  border-radius: 2px;\n",
    "  box-shadow: 0 2px 10px rgba(0, 0, 0, 0.16), 0 3px 6px rgba(0, 0, 0, 0.1);\n",
    "  color: #FF0072;\n",
    "  text-decoration: none;\n",
    "  transition: 0.3s ease all;\n",
    "  background:ghostwhite;\n",
    "    border-radius:3.3rem;\n",
    "  z-index: 1;\">Click Me</a></p>\n",
    "\n",
    "    "
   ]
  },
  {
   "cell_type": "code",
   "execution_count": 1,
   "id": "a26b8c38",
   "metadata": {
    "_cell_guid": "b1076dfc-b9ad-4769-8c92-a6c4dae69d19",
    "_uuid": "8f2839f25d086af736a60e9eeb907d3b93b6e0e5",
    "execution": {
     "iopub.execute_input": "2024-09-19T04:48:31.669287Z",
     "iopub.status.busy": "2024-09-19T04:48:31.668965Z",
     "iopub.status.idle": "2024-09-19T04:48:48.474324Z",
     "shell.execute_reply": "2024-09-19T04:48:48.473039Z"
    },
    "papermill": {
     "duration": 16.817074,
     "end_time": "2024-09-19T04:48:48.476764",
     "exception": false,
     "start_time": "2024-09-19T04:48:31.659690",
     "status": "completed"
    },
    "tags": []
   },
   "outputs": [],
   "source": [
    "import pandas as pd\n",
    "import numpy as np\n",
    "import matplotlib.pyplot as plt\n",
    "import seaborn as sns\n",
    "from sklearn.model_selection import train_test_split\n",
    "from sklearn.preprocessing import MinMaxScaler,LabelEncoder\n",
    "import optuna\n",
    "from sklearn.metrics import mean_squared_error\n",
    "import re\n",
    "!pip install -q lightgbm==4.5.0\n",
    "import warnings \n",
    "warnings.filterwarnings('ignore')\n",
    "from datetime import datetime"
   ]
  },
  {
   "cell_type": "markdown",
   "id": "1c18ea20",
   "metadata": {
    "papermill": {
     "duration": 0.008199,
     "end_time": "2024-09-19T04:48:48.493965",
     "exception": false,
     "start_time": "2024-09-19T04:48:48.485766",
     "status": "completed"
    },
    "tags": []
   },
   "source": [
    "  ## <p style=\"background-color: #fdefff;color:#c12eff;display: inline-block;padding:.6rem;border-radius:.5rem;border: 1px solid #c059ff\">Loading data</p>"
   ]
  },
  {
   "cell_type": "code",
   "execution_count": 2,
   "id": "c9530940",
   "metadata": {
    "execution": {
     "iopub.execute_input": "2024-09-19T04:48:48.513452Z",
     "iopub.status.busy": "2024-09-19T04:48:48.512678Z",
     "iopub.status.idle": "2024-09-19T04:48:49.946666Z",
     "shell.execute_reply": "2024-09-19T04:48:49.945643Z"
    },
    "papermill": {
     "duration": 1.446408,
     "end_time": "2024-09-19T04:48:49.949154",
     "exception": false,
     "start_time": "2024-09-19T04:48:48.502746",
     "status": "completed"
    },
    "tags": []
   },
   "outputs": [
    {
     "data": {
      "text/plain": [
       "((188533, 13), (125690, 12), (125690, 2))"
      ]
     },
     "execution_count": 2,
     "metadata": {},
     "output_type": "execute_result"
    }
   ],
   "source": [
    "df=pd.read_csv('/kaggle/input/playground-series-s4e9/train.csv')\n",
    "dt=pd.read_csv('/kaggle/input/playground-series-s4e9/test.csv')\n",
    "sf=pd.read_csv('/kaggle/input/playground-series-s4e9/sample_submission.csv')\n",
    "df.shape,dt.shape,sf.shape"
   ]
  },
  {
   "cell_type": "markdown",
   "id": "711f1f47",
   "metadata": {
    "papermill": {
     "duration": 0.008786,
     "end_time": "2024-09-19T04:48:49.966914",
     "exception": false,
     "start_time": "2024-09-19T04:48:49.958128",
     "status": "completed"
    },
    "tags": []
   },
   "source": [
    "  ## <p style=\"background-color: #fdefff;color:#c12eff;display: inline-block;padding:.6rem;border-radius:.5rem;border: 1px solid #c059ff\">Basic Info about data</p>"
   ]
  },
  {
   "cell_type": "code",
   "execution_count": 3,
   "id": "bce55600",
   "metadata": {
    "execution": {
     "iopub.execute_input": "2024-09-19T04:48:49.986017Z",
     "iopub.status.busy": "2024-09-19T04:48:49.985381Z",
     "iopub.status.idle": "2024-09-19T04:48:49.994474Z",
     "shell.execute_reply": "2024-09-19T04:48:49.993617Z"
    },
    "papermill": {
     "duration": 0.020704,
     "end_time": "2024-09-19T04:48:49.996408",
     "exception": false,
     "start_time": "2024-09-19T04:48:49.975704",
     "status": "completed"
    },
    "tags": []
   },
   "outputs": [],
   "source": [
    "y =df['price']"
   ]
  },
  {
   "cell_type": "code",
   "execution_count": 4,
   "id": "41ab4907",
   "metadata": {
    "execution": {
     "iopub.execute_input": "2024-09-19T04:48:50.015572Z",
     "iopub.status.busy": "2024-09-19T04:48:50.014818Z",
     "iopub.status.idle": "2024-09-19T04:48:50.196090Z",
     "shell.execute_reply": "2024-09-19T04:48:50.194375Z"
    },
    "papermill": {
     "duration": 0.193128,
     "end_time": "2024-09-19T04:48:50.198289",
     "exception": false,
     "start_time": "2024-09-19T04:48:50.005161",
     "status": "completed"
    },
    "tags": []
   },
   "outputs": [
    {
     "name": "stdout",
     "output_type": "stream",
     "text": [
      "<class 'pandas.core.frame.DataFrame'>\n",
      "RangeIndex: 188533 entries, 0 to 188532\n",
      "Data columns (total 13 columns):\n",
      " #   Column        Non-Null Count   Dtype \n",
      "---  ------        --------------   ----- \n",
      " 0   id            188533 non-null  int64 \n",
      " 1   brand         188533 non-null  object\n",
      " 2   model         188533 non-null  object\n",
      " 3   model_year    188533 non-null  int64 \n",
      " 4   milage        188533 non-null  int64 \n",
      " 5   fuel_type     183450 non-null  object\n",
      " 6   engine        188533 non-null  object\n",
      " 7   transmission  188533 non-null  object\n",
      " 8   ext_col       188533 non-null  object\n",
      " 9   int_col       188533 non-null  object\n",
      " 10  accident      186081 non-null  object\n",
      " 11  clean_title   167114 non-null  object\n",
      " 12  price         188533 non-null  int64 \n",
      "dtypes: int64(4), object(9)\n",
      "memory usage: 18.7+ MB\n"
     ]
    }
   ],
   "source": [
    "df.info()"
   ]
  },
  {
   "cell_type": "code",
   "execution_count": 5,
   "id": "f0a0a1f7",
   "metadata": {
    "execution": {
     "iopub.execute_input": "2024-09-19T04:48:50.219592Z",
     "iopub.status.busy": "2024-09-19T04:48:50.219221Z",
     "iopub.status.idle": "2024-09-19T04:48:50.501537Z",
     "shell.execute_reply": "2024-09-19T04:48:50.500580Z"
    },
    "papermill": {
     "duration": 0.294809,
     "end_time": "2024-09-19T04:48:50.503549",
     "exception": false,
     "start_time": "2024-09-19T04:48:50.208740",
     "status": "completed"
    },
    "tags": []
   },
   "outputs": [
    {
     "data": {
      "text/plain": [
       "(id                  0\n",
       " brand               0\n",
       " model               0\n",
       " model_year          0\n",
       " milage              0\n",
       " fuel_type        5083\n",
       " engine              0\n",
       " transmission        0\n",
       " ext_col             0\n",
       " int_col             0\n",
       " accident         2452\n",
       " clean_title     21419\n",
       " price               0\n",
       " dtype: int64,\n",
       " id                  0\n",
       " brand               0\n",
       " model               0\n",
       " model_year          0\n",
       " milage              0\n",
       " fuel_type        3383\n",
       " engine              0\n",
       " transmission        0\n",
       " ext_col             0\n",
       " int_col             0\n",
       " accident         1632\n",
       " clean_title     14239\n",
       " dtype: int64)"
      ]
     },
     "execution_count": 5,
     "metadata": {},
     "output_type": "execute_result"
    }
   ],
   "source": [
    "df.isnull().sum(),dt.isnull().sum()\n"
   ]
  },
  {
   "cell_type": "markdown",
   "id": "3c3ec7c9",
   "metadata": {
    "papermill": {
     "duration": 0.008878,
     "end_time": "2024-09-19T04:48:50.521747",
     "exception": false,
     "start_time": "2024-09-19T04:48:50.512869",
     "status": "completed"
    },
    "tags": []
   },
   "source": [
    "  ## <p style=\"background-color: #fdefff;color:#c12eff;display: inline-block;padding:.6rem;border-radius:.5rem;border: 1px solid #c059ff\">Mapping str to int in Accident Column</p>"
   ]
  },
  {
   "cell_type": "code",
   "execution_count": 6,
   "id": "217cba81",
   "metadata": {
    "execution": {
     "iopub.execute_input": "2024-09-19T04:48:50.541183Z",
     "iopub.status.busy": "2024-09-19T04:48:50.540794Z",
     "iopub.status.idle": "2024-09-19T04:48:50.582680Z",
     "shell.execute_reply": "2024-09-19T04:48:50.581854Z"
    },
    "papermill": {
     "duration": 0.053918,
     "end_time": "2024-09-19T04:48:50.584656",
     "exception": false,
     "start_time": "2024-09-19T04:48:50.530738",
     "status": "completed"
    },
    "tags": []
   },
   "outputs": [],
   "source": [
    "df['accident']=df['accident'].map({'None reported': 0,'At least 1 accident or damage reported': 1})\n",
    "dt['accident']=dt['accident'].map({'None reported': 0,'At least 1 accident or damage reported': 1})"
   ]
  },
  {
   "cell_type": "code",
   "execution_count": 7,
   "id": "f5b28db4",
   "metadata": {
    "execution": {
     "iopub.execute_input": "2024-09-19T04:48:50.605103Z",
     "iopub.status.busy": "2024-09-19T04:48:50.604708Z",
     "iopub.status.idle": "2024-09-19T04:48:50.609199Z",
     "shell.execute_reply": "2024-09-19T04:48:50.608192Z"
    },
    "papermill": {
     "duration": 0.016887,
     "end_time": "2024-09-19T04:48:50.611104",
     "exception": false,
     "start_time": "2024-09-19T04:48:50.594217",
     "status": "completed"
    },
    "tags": []
   },
   "outputs": [],
   "source": [
    "# def fill_clean_title(row):\n",
    "#     if pd.isna(row['clean_title']):\n",
    "#         return 'missing'\n",
    "#     return row['clean_title']\n",
    "\n",
    "# df['clean_title'] = df.apply(fill_clean_title, axis=1)\n",
    "# dt['clean_title'] = dt.apply(fill_clean_title, axis=1)"
   ]
  },
  {
   "cell_type": "code",
   "execution_count": 8,
   "id": "cd79c4cc",
   "metadata": {
    "execution": {
     "iopub.execute_input": "2024-09-19T04:48:50.631039Z",
     "iopub.status.busy": "2024-09-19T04:48:50.630699Z",
     "iopub.status.idle": "2024-09-19T04:48:50.777725Z",
     "shell.execute_reply": "2024-09-19T04:48:50.776855Z"
    },
    "papermill": {
     "duration": 0.159129,
     "end_time": "2024-09-19T04:48:50.779624",
     "exception": false,
     "start_time": "2024-09-19T04:48:50.620495",
     "status": "completed"
    },
    "tags": []
   },
   "outputs": [
    {
     "data": {
      "text/plain": [
       "id                  0\n",
       "brand               0\n",
       "model               0\n",
       "model_year          0\n",
       "milage              0\n",
       "fuel_type        5083\n",
       "engine              0\n",
       "transmission        0\n",
       "ext_col             0\n",
       "int_col             0\n",
       "accident         2452\n",
       "clean_title     21419\n",
       "price               0\n",
       "dtype: int64"
      ]
     },
     "execution_count": 8,
     "metadata": {},
     "output_type": "execute_result"
    }
   ],
   "source": [
    "df.isnull().sum()"
   ]
  },
  {
   "cell_type": "markdown",
   "id": "83c29cc7",
   "metadata": {
    "papermill": {
     "duration": 0.009574,
     "end_time": "2024-09-19T04:48:50.798931",
     "exception": false,
     "start_time": "2024-09-19T04:48:50.789357",
     "status": "completed"
    },
    "tags": []
   },
   "source": [
    "## <p style=\"background-color: #fdefff;color:#c12eff;display: inline-block;padding:.6rem;border-radius:.5rem;border: 1px solid #c059ff\">Extracting data from Engine Column</p>"
   ]
  },
  {
   "cell_type": "code",
   "execution_count": 9,
   "id": "2bda631c",
   "metadata": {
    "execution": {
     "iopub.execute_input": "2024-09-19T04:48:50.819339Z",
     "iopub.status.busy": "2024-09-19T04:48:50.819000Z",
     "iopub.status.idle": "2024-09-19T04:48:54.122470Z",
     "shell.execute_reply": "2024-09-19T04:48:54.121489Z"
    },
    "papermill": {
     "duration": 3.316419,
     "end_time": "2024-09-19T04:48:54.124872",
     "exception": false,
     "start_time": "2024-09-19T04:48:50.808453",
     "status": "completed"
    },
    "tags": []
   },
   "outputs": [],
   "source": [
    "def extract_data_from_engine(df):\n",
    "    df=df.copy()\n",
    "    df['horsepower'] = df['engine'].str.extract(r'(\\d+\\.\\d+)(?=HP)').astype(float)\n",
    "    df['engine_size'] = df['engine'].str.extract(r'(\\d+\\.\\d+)(?=L)').astype(float)\n",
    "    df['cylinders'] = df['engine'].str.extract(r'(\\d+)\\s(Cylinder|V\\d|Straight)')[0].astype(float)\n",
    "    return df\n",
    "df = extract_data_from_engine(df)\n",
    "dt = extract_data_from_engine(dt)\n"
   ]
  },
  {
   "cell_type": "code",
   "execution_count": 10,
   "id": "0348612d",
   "metadata": {
    "execution": {
     "iopub.execute_input": "2024-09-19T04:48:54.146523Z",
     "iopub.status.busy": "2024-09-19T04:48:54.146184Z",
     "iopub.status.idle": "2024-09-19T04:48:54.150730Z",
     "shell.execute_reply": "2024-09-19T04:48:54.149879Z"
    },
    "papermill": {
     "duration": 0.017546,
     "end_time": "2024-09-19T04:48:54.152542",
     "exception": false,
     "start_time": "2024-09-19T04:48:54.134996",
     "status": "completed"
    },
    "tags": []
   },
   "outputs": [],
   "source": [
    "# def extract_fuel_type(engine_info):\n",
    "#     if pd.isna(engine_info):\n",
    "#         return np.nan\n",
    "#     if 'Gasoline' in engine_info:\n",
    "#         return 'Gasoline'\n",
    "#     elif 'Hybrid' in engine_info:\n",
    "#         return 'Hybrid'\n",
    "#     elif 'Flex Fuel' in engine_info or 'E85' in engine_info:\n",
    "#         return 'Flex Fuel'\n",
    "#     elif 'Diesel' in engine_info:\n",
    "#         return 'Diesel'\n",
    "#     elif 'Electric' in engine_info:\n",
    "#         return 'Electric'\n",
    "#     else:\n",
    "#         return np.nan\n",
    "\n",
    "# df['extracted_fuel_type'] = df['engine'].apply(extract_fuel_type)\n",
    "# df['fuel_type'].fillna(df['extracted_fuel_type'], inplace=True)\n",
    "# df.drop(columns=['extracted_fuel_type'], inplace=True)\n",
    "# dt['extracted_fuel_type'] = dt['engine'].apply(extract_fuel_type)\n",
    "# dt['fuel_type'].fillna(dt['extracted_fuel_type'], inplace=True)\n",
    "# dt.drop(columns=['extracted_fuel_type'], inplace=True)"
   ]
  },
  {
   "cell_type": "code",
   "execution_count": 11,
   "id": "52608b15",
   "metadata": {
    "execution": {
     "iopub.execute_input": "2024-09-19T04:48:54.172430Z",
     "iopub.status.busy": "2024-09-19T04:48:54.172144Z",
     "iopub.status.idle": "2024-09-19T04:48:54.493999Z",
     "shell.execute_reply": "2024-09-19T04:48:54.493243Z"
    },
    "papermill": {
     "duration": 0.334439,
     "end_time": "2024-09-19T04:48:54.496422",
     "exception": false,
     "start_time": "2024-09-19T04:48:54.161983",
     "status": "completed"
    },
    "tags": []
   },
   "outputs": [],
   "source": [
    "def feature(df):\n",
    "    df['brand'] = df['brand'].str.lower()\n",
    "    current_year = datetime.now().year\n",
    "    df['Vehicle_Age'] = current_year - df['model_year']\n",
    "    df['Mileage_per_Year'] = df['milage'] / (df['Vehicle_Age'] + 10e-5)\n",
    "    luxury_brands = [\"mercedes-benz\",\"bmw\",\"audi\",\"porsche\",\"lexus\",\"cadillac\",\"jaguar\",\"bentley\",\"genesis\",\"maserati\",\"lamborghini\",\"rolls-royce\",\"ferrari\",\"mclaren\",\"aston\",\"lotus\",\"bugatti\",\"maybach\"]\n",
    "    df['Is_Luxury_Brand'] = df['brand'].apply(lambda x: 1 if x in luxury_brands else 0)\n",
    "    \n",
    "    return df\n",
    "\n",
    "df = feature(df)\n",
    "dt = feature(dt)\n"
   ]
  },
  {
   "cell_type": "code",
   "execution_count": 12,
   "id": "5a9bce87",
   "metadata": {
    "execution": {
     "iopub.execute_input": "2024-09-19T04:48:54.517294Z",
     "iopub.status.busy": "2024-09-19T04:48:54.516961Z",
     "iopub.status.idle": "2024-09-19T04:48:54.520897Z",
     "shell.execute_reply": "2024-09-19T04:48:54.520064Z"
    },
    "papermill": {
     "duration": 0.01656,
     "end_time": "2024-09-19T04:48:54.522833",
     "exception": false,
     "start_time": "2024-09-19T04:48:54.506273",
     "status": "completed"
    },
    "tags": []
   },
   "outputs": [],
   "source": [
    "# # To ensure all values are printed without truncation\n",
    "# pd.set_option('display.max_rows', None)\n",
    "\n",
    "# # Print all unique values and their counts in the engine column\n",
    "# print(df['modal'].value_counts())\n",
    "\n",
    "# # Optionally, reset the display option after printing if needed\n",
    "# pd.reset_option('display.max_rows')\n"
   ]
  },
  {
   "cell_type": "code",
   "execution_count": 13,
   "id": "f8107c60",
   "metadata": {
    "execution": {
     "iopub.execute_input": "2024-09-19T04:48:54.543213Z",
     "iopub.status.busy": "2024-09-19T04:48:54.542906Z",
     "iopub.status.idle": "2024-09-19T04:48:54.627110Z",
     "shell.execute_reply": "2024-09-19T04:48:54.626120Z"
    },
    "papermill": {
     "duration": 0.096638,
     "end_time": "2024-09-19T04:48:54.628993",
     "exception": false,
     "start_time": "2024-09-19T04:48:54.532355",
     "status": "completed"
    },
    "tags": []
   },
   "outputs": [],
   "source": [
    "int_replacements = {\n",
    "    'Medium Earth Gray': 'Gray',\n",
    "    'Diesel Gray / Black': 'Gray',\n",
    "    'Dark Ash': 'Gray',\n",
    "    'Graphite': 'Gray',\n",
    "    'Dark Galvanized': 'Charcoal',\n",
    "    'Light Gray': 'Gray',\n",
    "    'Ash': 'Gray',\n",
    "    'Jet Black': 'Black',\n",
    "    'Global Black': 'Black',\n",
    "    'Black Onyx': 'Black',\n",
    "    'Parchment.': 'Beige',\n",
    "    'Sardar Brown': 'Brown',\n",
    "    'Black/Gun Metal': 'Black',\n",
    "    'Charcoal Black': 'Charcoal',\n",
    "    'Ebony': 'Brown',\n",
    "    'Ebony Black': 'Black',\n",
    "    'Carbon Black': 'Black',\n",
    "    'Obsidian Black': 'Black',\n",
    "    'Black / Saddle Brown': 'Black',\n",
    "    'Black/Saddle Brown': 'Black',\n",
    "    'Black / Brown': 'Black',\n",
    "    'Saddle Brown': 'Brown',\n",
    "    'Sand Beige': 'Beige',\n",
    "    'Camel': 'Beige',\n",
    "    'Parchment': 'Beige',\n",
    "    'Macchiato Beige/Black': 'Beige',\n",
    "    'Silk Beige/Espresso Brown': 'Beige',\n",
    "    'Canberra Beige': 'Beige',\n",
    "    'Macchiato': 'Beige',\n",
    "    'Almond Beige': 'Beige',\n",
    "    'Grace White': 'White',\n",
    "    'Ivory / Ebony': 'White',\n",
    "    'Bianco Polar': 'White',\n",
    "    'White / Brown': 'White',\n",
    "    'Platinum': 'White',\n",
    "    'Cloud': 'Blue',\n",
    "    'Rift Metallic': 'White',\n",
    "    'Light Platinum / Jet Black': 'Silver',\n",
    "    'Billet Clearcoat Metallic': 'Silver',\n",
    "    'Sakhir Orange': 'Orange',\n",
    "    'Pimento Red w/Ebony': 'Red',\n",
    "    'Adrenaline Red': 'Red',\n",
    "    'Rioja Red': 'Red',\n",
    "    'Classic Red': 'Red',\n",
    "    'Magma Red': 'Red',\n",
    "    'Cobalt Blue': 'Blue',\n",
    "    'Tempest': 'Blue',\n",
    "    'Stormy Sea': 'Blue',\n",
    "    'Navy Pier': 'Blue',\n",
    "    'Charles Blue': 'Blue',\n",
    "    'Rhapsody Blue': 'Blue',\n",
    "    'Kyalami Orange': 'Orange',\n",
    "    'Sakhir Orange/Black': 'Orange',\n",
    "    'Dark Gray': 'Gray',\n",
    "    'Deep Garnet': 'Red',\n",
    "    'Scarlet Ember': 'Red',\n",
    "    'Beluga': 'Blue',\n",
    "    'Chestnut': 'Brown',\n",
    "    'Boulder': 'Gray',\n",
    "    'Macchiato/Magmagrey': 'Beige',\n",
    "    'Medium Stone': 'Gray',\n",
    "    'BLACK': 'Black',\n",
    "    'Portland': 'Gray',\n",
    "    'Sandstone': 'Beige',\n",
    "    'Slate': 'Gray',\n",
    "    'Cappuccino': 'Brown',\n",
    "    'Oyster W/Contrast': 'Beige',\n",
    "    'Nero Ade': 'Black',\n",
    "    'Light Titanium': 'Silver',\n",
    "    'Tan': 'Beige',\n",
    "    'Brandy': 'Brown',\n",
    "    'Amber': 'Yellow',\n",
    "    'Hotspur': 'Blue',\n",
    "    'Chateau': 'Green',\n",
    "    'Ice': 'Blue',\n",
    "    'Blk': 'Black',\n",
    "    'Mesa': 'Brown',\n",
    "    'Espresso': 'Brown',\n",
    "    'Ceramic': 'White',\n",
    "    'Medium Dark Slate': 'Gray',\n",
    "    'Graphite w/Gun Metal': 'Gray',\n",
    "    'Cocoa / Dune': 'Brown',\n",
    "    'Roast': 'Brown',\n",
    "    'Hotspur Hide': 'Brown',\n",
    "    'ORANGE': 'Orange',\n",
    "    'Walnut': 'Brown',\n",
    "    'Caramel': 'Beige',\n",
    "    'Giallo Taurus / Nero Ade': 'Yellow',\n",
    "    'Medium Pewter': 'Gray',\n",
    "    'Camel Leather': 'Brown',\n",
    "    'Anthracite': 'Gray',\n",
    "    'Mocha': 'Brown',\n",
    "    'Sahara Tan': 'Beige',\n",
    "    'Porpoise': 'Beige',\n",
    "    'Deep Cypress': 'Green',\n",
    "    'Light Slate': 'Gray',\n",
    "    'Beluga Hide': 'Black',\n",
    "    'Tupelo': 'Green',\n",
    "    'Gideon': 'Beige',\n",
    "    'Medium Light Camel': 'Beige',\n",
    "    'Nero': 'Black',\n",
    "    'Deep Chestnut': 'Red',\n",
    "    'Dark Auburn': 'Brown',\n",
    "    'Shale': 'Gray',\n",
    "    'BEIGE': 'Beige',\n",
    "    'Linen': 'Beige',\n",
    "    'WHITE': 'White'\n",
    "}\n",
    "ext_replacements = {\n",
    "    'Blu': 'Blue',\n",
    "    'BLUE': 'Blue',\n",
    "    'Glacier': 'Blue',\n",
    "    'BLU ELEOS': 'Blue',\n",
    "    'Dark Sapphire': 'Navy',\n",
    "    'Tangerine': 'Orange',\n",
    "    'Pumpkin': 'Orange',\n",
    "    'Clementine': 'Orange',\n",
    "    'Granite': 'Gray',\n",
    "    'Go Mango!': 'Yellow',\n",
    "    'Onyx': 'Black',\n",
    "    'Gecko Pearlcoat': 'Green',\n",
    "    'Obsidian': 'Black',\n",
    "    'Metallic': 'Silver',\n",
    "    'Grigio Nimbus': 'Silver',\n",
    "    'Chalk': 'White',\n",
    "    'Bianco Monocerus': 'White',\n",
    "    'Verde': 'Green',\n",
    "    'Dark Graphite Metallic': 'Gray',\n",
    "    'BLACK': 'Black',\n",
    "    'Dark Moss': 'Green',\n",
    "    'Granite Crystal Clearcoat Metallic': 'Gray',\n",
    "    'Ebony Twilight Metallic': 'Black',\n",
    "    'Satin Steel Metallic': 'Silver',\n",
    "    'Magnetic Metallic': 'Gray',\n",
    "    'Dark Matter Metallic': 'Gray',\n",
    "    'Dark Ash Metallic': 'Gray',\n",
    "    'Iridium Metallic': 'Gray',\n",
    "    'Nightfall Mica': 'Navy',\n",
    "    'Sandstone Metallic': 'Beige',\n",
    "    'Rift Metallic': 'White',\n",
    "    'Billet Clearcoat Metallic': 'Silver',\n",
    "    'Tan': 'Beige',\n",
    "    'Ice': 'Blue',\n",
    "    'Hellayella': 'Yellow',\n",
    "    'Granite': 'Gray',\n",
    "    'Yulong': 'White',\n",
    "    'Blueprint': 'Navy',\n",
    "    'Arancio Borealis': 'Orange',\n",
    "    'Hellayella Clearcoat': 'Yellow',\n",
    "    'Moonlight Cloud': 'Navy',\n",
    "    'Liquid Platinum': 'Silver',\n",
    "    'Gun Metallic': 'Gray',\n",
    "    'Manhattan Noir Metallic': 'Gray',\n",
    "    'Lavender': 'Purple',\n",
    "    'Violet': 'Purple',\n",
    "    'Pink': 'Purple',\n",
    "    'Mauve': 'Plum',\n",
    "    'Tempest': 'Blue',\n",
    "    'Nero Daytona': 'Black',\n",
    "    'Scarlet Ember': 'Red',\n",
    "    'Infrared Tintcoat': 'Red',\n",
    "    'Maximum Steel Metallic': 'Gray',\n",
    "    'Ember Pearlcoat': 'Brown',\n",
    "    'Rich Garnet Metallic': 'Brown',\n",
    "    'Tungsten Metallic': 'Gray',\n",
    "    'Nero Noctis': 'Black',\n",
    "    'Platinum Quartz Metallic': 'White',\n",
    "    'Ruby Flare Pearl': 'Red',\n",
    "    'Bianco Icarus Metallic': 'White',\n",
    "    'Stormy Sea': 'Blue',\n",
    "    'Mountain Air Metallic': 'Blue',\n",
    "    'Wind Chill Pearl': 'White',\n",
    "    'Iridescent Pearl Tricoat': 'White',\n",
    "    'Black Cherry': 'Plum',\n",
    "    'Black Forest Green': 'Green',\n",
    "    'Maroon': 'Red',\n",
    "    'Rosso': 'Red',\n",
    "    'Rosso Corsa': 'Red',\n",
    "    'Rosso Mars Metallic': 'Red',\n",
    "    'Quicksilver Metallic': 'Silver',\n",
    "    'Designo Magno Matte': 'Gray',\n",
    "    'Granite Crystal Metallic Clearcoat': 'Gray',\n",
    "    'Bianco Isis': 'White',\n",
    "    'Sunset Drift Chromaflair': 'Orange',\n",
    "    'Ametrin Metallic': 'Plum',\n",
    "    'GT SILVER': 'Silver',\n",
    "    'Caviar': 'Black'\n",
    "}"
   ]
  },
  {
   "cell_type": "code",
   "execution_count": 14,
   "id": "5fcc534e",
   "metadata": {
    "execution": {
     "iopub.execute_input": "2024-09-19T04:48:54.649942Z",
     "iopub.status.busy": "2024-09-19T04:48:54.649645Z",
     "iopub.status.idle": "2024-09-19T04:48:54.654363Z",
     "shell.execute_reply": "2024-09-19T04:48:54.653573Z"
    },
    "papermill": {
     "duration": 0.017165,
     "end_time": "2024-09-19T04:48:54.656140",
     "exception": false,
     "start_time": "2024-09-19T04:48:54.638975",
     "status": "completed"
    },
    "tags": []
   },
   "outputs": [],
   "source": [
    "# def standardize_and_extract_colors(df, int_replacements, ext_replacements):\n",
    "#     # Step 1: Apply specific color replacements to standardize color names\n",
    "#     df['int_col'] = df['int_col'].replace(int_replacements)\n",
    "#     df['ext_col'] = df['ext_col'].replace(ext_replacements)\n",
    "    \n",
    "#     # Ensure both columns are lowercase after replacements\n",
    "#     df['int_col'] = df['int_col'].str.lower()\n",
    "#     df['ext_col'] = df['ext_col'].str.lower()\n",
    "\n",
    "#     # Define a list of common base colors\n",
    "#     base_colors = [\n",
    "#     'black', 'white', 'gray', 'silver', 'brown', 'red', 'blue', 'green',\n",
    "#     'beige', 'tan', 'orange', 'yellow', 'purple', 'plum', 'charcoal', \n",
    "#     'ivory', 'camel', 'chestnut', 'pearl', 'linen', 'graphite', 'copper', \n",
    "#     'slate', 'bronze', 'sand', 'amber', 'macchiato', 'ebony', 'cocoa', 'navy'\n",
    "#     ]\n",
    "\n",
    "    \n",
    "#     # Function to find base color\n",
    "#     def find_base_color(text):\n",
    "#         for color in base_colors:\n",
    "#             if color in text:\n",
    "#                 return color\n",
    "#         return text\n",
    "    \n",
    "#     # Step 2: Apply base color extraction after standardization\n",
    "#     df['int_col'] = df['int_col'].apply(find_base_color)\n",
    "#     df['ext_col'] = df['ext_col'].apply(find_base_color)\n",
    "\n",
    "#     return df\n",
    "\n",
    "# dt = standardize_and_extract_colors(dt, int_replacements, ext_replacements)\n",
    "# df = standardize_and_extract_colors(df, int_replacements, ext_replacements)\n"
   ]
  },
  {
   "cell_type": "code",
   "execution_count": 15,
   "id": "1da19553",
   "metadata": {
    "execution": {
     "iopub.execute_input": "2024-09-19T04:48:54.677695Z",
     "iopub.status.busy": "2024-09-19T04:48:54.677359Z",
     "iopub.status.idle": "2024-09-19T04:48:54.922982Z",
     "shell.execute_reply": "2024-09-19T04:48:54.922122Z"
    },
    "papermill": {
     "duration": 0.258971,
     "end_time": "2024-09-19T04:48:54.925006",
     "exception": false,
     "start_time": "2024-09-19T04:48:54.666035",
     "status": "completed"
    },
    "tags": []
   },
   "outputs": [
    {
     "data": {
      "text/plain": [
       "(id                      0\n",
       " brand                   0\n",
       " model                   0\n",
       " model_year              0\n",
       " milage                  0\n",
       " fuel_type            5083\n",
       " engine                  0\n",
       " transmission            0\n",
       " ext_col                 0\n",
       " int_col                 0\n",
       " accident             2452\n",
       " clean_title         21419\n",
       " price                   0\n",
       " horsepower          33259\n",
       " engine_size         14214\n",
       " cylinders           37855\n",
       " Vehicle_Age             0\n",
       " Mileage_per_Year        0\n",
       " Is_Luxury_Brand         0\n",
       " dtype: int64,\n",
       " id                      0\n",
       " brand                   0\n",
       " model                   0\n",
       " model_year              0\n",
       " milage                  0\n",
       " fuel_type            3383\n",
       " engine                  0\n",
       " transmission            0\n",
       " ext_col                 0\n",
       " int_col                 0\n",
       " accident             1632\n",
       " clean_title         14239\n",
       " horsepower          22181\n",
       " engine_size          9407\n",
       " cylinders           25150\n",
       " Vehicle_Age             0\n",
       " Mileage_per_Year        0\n",
       " Is_Luxury_Brand         0\n",
       " dtype: int64)"
      ]
     },
     "execution_count": 15,
     "metadata": {},
     "output_type": "execute_result"
    }
   ],
   "source": [
    "df.isnull().sum(),dt.isnull().sum()"
   ]
  },
  {
   "cell_type": "markdown",
   "id": "656105dc",
   "metadata": {
    "papermill": {
     "duration": 0.009711,
     "end_time": "2024-09-19T04:48:54.945102",
     "exception": false,
     "start_time": "2024-09-19T04:48:54.935391",
     "status": "completed"
    },
    "tags": []
   },
   "source": [
    "  ## <p style=\"background-color: #fdefff;color:#c12eff;display: inline-block;padding:.6rem;border-radius:.5rem;border: 1px solid #c059ff\">Dropping Useless Columns </p>"
   ]
  },
  {
   "cell_type": "code",
   "execution_count": 16,
   "id": "8a446bc9",
   "metadata": {
    "execution": {
     "iopub.execute_input": "2024-09-19T04:48:54.965929Z",
     "iopub.status.busy": "2024-09-19T04:48:54.965633Z",
     "iopub.status.idle": "2024-09-19T04:48:54.970103Z",
     "shell.execute_reply": "2024-09-19T04:48:54.969389Z"
    },
    "papermill": {
     "duration": 0.016984,
     "end_time": "2024-09-19T04:48:54.971967",
     "exception": false,
     "start_time": "2024-09-19T04:48:54.954983",
     "status": "completed"
    },
    "tags": []
   },
   "outputs": [],
   "source": [
    "cat_feats = ['brand',  'fuel_type',  'ext_col', 'int_col', 'model',]  \n",
    "numeric_feats = ['milage', 'horsepower', 'engine_size', 'cylinders','accident','Is_Luxury_Brand','Mileage_per_Year','Vehicle_Age','cylinders'] "
   ]
  },
  {
   "cell_type": "code",
   "execution_count": 17,
   "id": "5cc1460b",
   "metadata": {
    "execution": {
     "iopub.execute_input": "2024-09-19T04:48:54.992750Z",
     "iopub.status.busy": "2024-09-19T04:48:54.992473Z",
     "iopub.status.idle": "2024-09-19T04:48:55.842170Z",
     "shell.execute_reply": "2024-09-19T04:48:55.840999Z"
    },
    "papermill": {
     "duration": 0.863221,
     "end_time": "2024-09-19T04:48:55.845080",
     "exception": false,
     "start_time": "2024-09-19T04:48:54.981859",
     "status": "completed"
    },
    "tags": []
   },
   "outputs": [
    {
     "data": {
      "image/png": "[encoded data removed]",
      "text/plain": [
       "<Figure size 1600x100 with 2 Axes>"
      ]
     },
     "metadata": {},
     "output_type": "display_data"
    }
   ],
   "source": [
    "temp=df.dropna()\n",
    "temp=temp.apply(lambda x : pd.factorize(x)[0] if x.dtype=='object'else x)\n",
    "plt.figure(figsize=(16,1))\n",
    "sns.heatmap(temp.corr()[12:13],annot=True,cmap='coolwarm')\n",
    "plt.show()"
   ]
  },
  {
   "cell_type": "code",
   "execution_count": 18,
   "id": "35f27ce8",
   "metadata": {
    "execution": {
     "iopub.execute_input": "2024-09-19T04:48:55.874457Z",
     "iopub.status.busy": "2024-09-19T04:48:55.873665Z",
     "iopub.status.idle": "2024-09-19T04:48:55.914828Z",
     "shell.execute_reply": "2024-09-19T04:48:55.914060Z"
    },
    "papermill": {
     "duration": 0.057579,
     "end_time": "2024-09-19T04:48:55.917013",
     "exception": false,
     "start_time": "2024-09-19T04:48:55.859434",
     "status": "completed"
    },
    "tags": []
   },
   "outputs": [],
   "source": [
    "df=df.drop(['id','engine','transmission','model_year'],axis=1)\n",
    "dt=dt.drop(['id','engine','transmission','model_year'],axis=1)"
   ]
  },
  {
   "cell_type": "code",
   "execution_count": 19,
   "id": "e0b26c1e",
   "metadata": {
    "execution": {
     "iopub.execute_input": "2024-09-19T04:48:55.939956Z",
     "iopub.status.busy": "2024-09-19T04:48:55.939637Z",
     "iopub.status.idle": "2024-09-19T04:48:56.054012Z",
     "shell.execute_reply": "2024-09-19T04:48:56.052885Z"
    },
    "papermill": {
     "duration": 0.127838,
     "end_time": "2024-09-19T04:48:56.056020",
     "exception": false,
     "start_time": "2024-09-19T04:48:55.928182",
     "status": "completed"
    },
    "tags": []
   },
   "outputs": [
    {
     "name": "stdout",
     "output_type": "stream",
     "text": [
      "<class 'pandas.core.frame.DataFrame'>\n",
      "RangeIndex: 188533 entries, 0 to 188532\n",
      "Data columns (total 15 columns):\n",
      " #   Column            Non-Null Count   Dtype  \n",
      "---  ------            --------------   -----  \n",
      " 0   brand             188533 non-null  object \n",
      " 1   model             188533 non-null  object \n",
      " 2   milage            188533 non-null  int64  \n",
      " 3   fuel_type         183450 non-null  object \n",
      " 4   ext_col           188533 non-null  object \n",
      " 5   int_col           188533 non-null  object \n",
      " 6   accident          186081 non-null  float64\n",
      " 7   clean_title       167114 non-null  object \n",
      " 8   price             188533 non-null  int64  \n",
      " 9   horsepower        155274 non-null  float64\n",
      " 10  engine_size       174319 non-null  float64\n",
      " 11  cylinders         150678 non-null  float64\n",
      " 12  Vehicle_Age       188533 non-null  int64  \n",
      " 13  Mileage_per_Year  188533 non-null  float64\n",
      " 14  Is_Luxury_Brand   188533 non-null  int64  \n",
      "dtypes: float64(5), int64(4), object(6)\n",
      "memory usage: 21.6+ MB\n"
     ]
    }
   ],
   "source": [
    "df.info()"
   ]
  },
  {
   "cell_type": "markdown",
   "id": "071f1efa",
   "metadata": {
    "papermill": {
     "duration": 0.010486,
     "end_time": "2024-09-19T04:48:56.077389",
     "exception": false,
     "start_time": "2024-09-19T04:48:56.066903",
     "status": "completed"
    },
    "tags": []
   },
   "source": [
    "  ## <p style=\"background-color: #fdefff;color:#c12eff;display: inline-block;padding:.6rem;border-radius:.5rem;border: 1px solid #c059ff\">Handling Missing and less frequent Values</p>"
   ]
  },
  {
   "cell_type": "code",
   "execution_count": 20,
   "id": "62e7bd76",
   "metadata": {
    "execution": {
     "iopub.execute_input": "2024-09-19T04:48:56.100308Z",
     "iopub.status.busy": "2024-09-19T04:48:56.099753Z",
     "iopub.status.idle": "2024-09-19T04:48:56.375536Z",
     "shell.execute_reply": "2024-09-19T04:48:56.374539Z"
    },
    "papermill": {
     "duration": 0.289605,
     "end_time": "2024-09-19T04:48:56.377867",
     "exception": false,
     "start_time": "2024-09-19T04:48:56.088262",
     "status": "completed"
    },
    "tags": []
   },
   "outputs": [],
   "source": [
    "\n",
    "def cleaning(df, cat_feats, threshold=1):\n",
    "    for i in cat_feats:\n",
    "        if df[i].dtype.name == 'category':\n",
    "            if 'missing' not in df[i].cat.categories:\n",
    "                df[i] = df[i].cat.add_categories('missing')\n",
    "            if 'noise' not in df[i].cat.categories:\n",
    "                df[i] = df[i].cat.add_categories('noise')\n",
    "        else:\n",
    "            df[i] = df[i].astype('category')\n",
    "            df[i] = df[i].cat.add_categories(['missing', 'noise'])\n",
    "        \n",
    "        df[i] = df[i].fillna('missing')\n",
    "        \n",
    "        count = df[i].value_counts(dropna=False)\n",
    "        less_freq = count[count < threshold].index\n",
    "        \n",
    "        df[i] = df[i].apply(lambda x: 'noise' if x in less_freq else x)\n",
    "    \n",
    "    return df\n",
    "df = cleaning(df, cat_feats)\n",
    "dt = cleaning(dt, cat_feats) \n",
    "\n"
   ]
  },
  {
   "cell_type": "code",
   "execution_count": 21,
   "id": "24f6894c",
   "metadata": {
    "execution": {
     "iopub.execute_input": "2024-09-19T04:48:56.402007Z",
     "iopub.status.busy": "2024-09-19T04:48:56.401687Z",
     "iopub.status.idle": "2024-09-19T04:48:56.847549Z",
     "shell.execute_reply": "2024-09-19T04:48:56.846582Z"
    },
    "papermill": {
     "duration": 0.46036,
     "end_time": "2024-09-19T04:48:56.849908",
     "exception": false,
     "start_time": "2024-09-19T04:48:56.389548",
     "status": "completed"
    },
    "tags": []
   },
   "outputs": [],
   "source": [
    "cat_feats = ['brand',  'fuel_type',  'ext_col', 'int_col', 'clean_title','model',]  \n",
    "for col in cat_feats :\n",
    "    le = LabelEncoder()\n",
    "    df[col] = le.fit_transform(df[col])\n",
    "    dt[col] = le.fit_transform(dt[col])  "
   ]
  },
  {
   "cell_type": "code",
   "execution_count": 22,
   "id": "71774f0f",
   "metadata": {
    "execution": {
     "iopub.execute_input": "2024-09-19T04:48:56.873667Z",
     "iopub.status.busy": "2024-09-19T04:48:56.873330Z",
     "iopub.status.idle": "2024-09-19T04:48:56.892842Z",
     "shell.execute_reply": "2024-09-19T04:48:56.891970Z"
    },
    "papermill": {
     "duration": 0.033557,
     "end_time": "2024-09-19T04:48:56.894827",
     "exception": false,
     "start_time": "2024-09-19T04:48:56.861270",
     "status": "completed"
    },
    "tags": []
   },
   "outputs": [
    {
     "data": {
      "text/html": [
       "<div>\n",
       "<style scoped>\n",
       "    .dataframe tbody tr th:only-of-type {\n",
       "        vertical-align: middle;\n",
       "    }\n",
       "\n",
       "    .dataframe tbody tr th {\n",
       "        vertical-align: top;\n",
       "    }\n",
       "\n",
       "    .dataframe thead th {\n",
       "        text-align: right;\n",
       "    }\n",
       "</style>\n",
       "<table border=\"1\" class=\"dataframe\">\n",
       "  <thead>\n",
       "    <tr style=\"text-align: right;\">\n",
       "      <th></th>\n",
       "      <th>brand</th>\n",
       "      <th>model</th>\n",
       "      <th>milage</th>\n",
       "      <th>fuel_type</th>\n",
       "      <th>ext_col</th>\n",
       "      <th>int_col</th>\n",
       "      <th>accident</th>\n",
       "      <th>clean_title</th>\n",
       "      <th>price</th>\n",
       "      <th>horsepower</th>\n",
       "      <th>engine_size</th>\n",
       "      <th>cylinders</th>\n",
       "      <th>Vehicle_Age</th>\n",
       "      <th>Mileage_per_Year</th>\n",
       "      <th>Is_Luxury_Brand</th>\n",
       "    </tr>\n",
       "  </thead>\n",
       "  <tbody>\n",
       "    <tr>\n",
       "      <th>0</th>\n",
       "      <td>37</td>\n",
       "      <td>495</td>\n",
       "      <td>213000</td>\n",
       "      <td>2</td>\n",
       "      <td>312</td>\n",
       "      <td>71</td>\n",
       "      <td>0.0</td>\n",
       "      <td>0</td>\n",
       "      <td>4200</td>\n",
       "      <td>172.0</td>\n",
       "      <td>1.6</td>\n",
       "      <td>4.0</td>\n",
       "      <td>17</td>\n",
       "      <td>12529.338063</td>\n",
       "      <td>0</td>\n",
       "    </tr>\n",
       "    <tr>\n",
       "      <th>1</th>\n",
       "      <td>28</td>\n",
       "      <td>930</td>\n",
       "      <td>143250</td>\n",
       "      <td>2</td>\n",
       "      <td>263</td>\n",
       "      <td>10</td>\n",
       "      <td>1.0</td>\n",
       "      <td>0</td>\n",
       "      <td>4999</td>\n",
       "      <td>252.0</td>\n",
       "      <td>3.9</td>\n",
       "      <td>8.0</td>\n",
       "      <td>22</td>\n",
       "      <td>6511.334039</td>\n",
       "      <td>0</td>\n",
       "    </tr>\n",
       "    <tr>\n",
       "      <th>2</th>\n",
       "      <td>9</td>\n",
       "      <td>1575</td>\n",
       "      <td>136731</td>\n",
       "      <td>1</td>\n",
       "      <td>38</td>\n",
       "      <td>71</td>\n",
       "      <td>0.0</td>\n",
       "      <td>0</td>\n",
       "      <td>13900</td>\n",
       "      <td>320.0</td>\n",
       "      <td>5.3</td>\n",
       "      <td>8.0</td>\n",
       "      <td>22</td>\n",
       "      <td>6215.017204</td>\n",
       "      <td>0</td>\n",
       "    </tr>\n",
       "    <tr>\n",
       "      <th>3</th>\n",
       "      <td>15</td>\n",
       "      <td>758</td>\n",
       "      <td>19500</td>\n",
       "      <td>2</td>\n",
       "      <td>29</td>\n",
       "      <td>14</td>\n",
       "      <td>0.0</td>\n",
       "      <td>0</td>\n",
       "      <td>45000</td>\n",
       "      <td>420.0</td>\n",
       "      <td>5.0</td>\n",
       "      <td>8.0</td>\n",
       "      <td>7</td>\n",
       "      <td>2785.674490</td>\n",
       "      <td>1</td>\n",
       "    </tr>\n",
       "    <tr>\n",
       "      <th>4</th>\n",
       "      <td>35</td>\n",
       "      <td>1077</td>\n",
       "      <td>7388</td>\n",
       "      <td>2</td>\n",
       "      <td>29</td>\n",
       "      <td>10</td>\n",
       "      <td>0.0</td>\n",
       "      <td>0</td>\n",
       "      <td>97500</td>\n",
       "      <td>208.0</td>\n",
       "      <td>2.0</td>\n",
       "      <td>4.0</td>\n",
       "      <td>3</td>\n",
       "      <td>2462.584581</td>\n",
       "      <td>1</td>\n",
       "    </tr>\n",
       "  </tbody>\n",
       "</table>\n",
       "</div>"
      ],
      "text/plain": [
       "   brand  model  milage  fuel_type  ext_col  int_col  accident  clean_title  \\\n",
       "0     37    495  213000          2      312       71       0.0            0   \n",
       "1     28    930  143250          2      263       10       1.0            0   \n",
       "2      9   1575  136731          1       38       71       0.0            0   \n",
       "3     15    758   19500          2       29       14       0.0            0   \n",
       "4     35   1077    7388          2       29       10       0.0            0   \n",
       "\n",
       "   price  horsepower  engine_size  cylinders  Vehicle_Age  Mileage_per_Year  \\\n",
       "0   4200       172.0          1.6        4.0           17      12529.338063   \n",
       "1   4999       252.0          3.9        8.0           22       6511.334039   \n",
       "2  13900       320.0          5.3        8.0           22       6215.017204   \n",
       "3  45000       420.0          5.0        8.0            7       2785.674490   \n",
       "4  97500       208.0          2.0        4.0            3       2462.584581   \n",
       "\n",
       "   Is_Luxury_Brand  \n",
       "0                0  \n",
       "1                0  \n",
       "2                0  \n",
       "3                1  \n",
       "4                1  "
      ]
     },
     "execution_count": 22,
     "metadata": {},
     "output_type": "execute_result"
    }
   ],
   "source": [
    "df.head()"
   ]
  },
  {
   "cell_type": "code",
   "execution_count": 23,
   "id": "17e20f01",
   "metadata": {
    "execution": {
     "iopub.execute_input": "2024-09-19T04:48:56.918392Z",
     "iopub.status.busy": "2024-09-19T04:48:56.918109Z",
     "iopub.status.idle": "2024-09-19T04:48:56.930886Z",
     "shell.execute_reply": "2024-09-19T04:48:56.930094Z"
    },
    "papermill": {
     "duration": 0.026733,
     "end_time": "2024-09-19T04:48:56.932848",
     "exception": false,
     "start_time": "2024-09-19T04:48:56.906115",
     "status": "completed"
    },
    "tags": []
   },
   "outputs": [
    {
     "data": {
      "text/plain": [
       "(brand                   0\n",
       " model                   0\n",
       " milage                  0\n",
       " fuel_type               0\n",
       " ext_col                 0\n",
       " int_col                 0\n",
       " accident             2452\n",
       " clean_title             0\n",
       " price                   0\n",
       " horsepower          33259\n",
       " engine_size         14214\n",
       " cylinders           37855\n",
       " Vehicle_Age             0\n",
       " Mileage_per_Year        0\n",
       " Is_Luxury_Brand         0\n",
       " dtype: int64,\n",
       " brand                   0\n",
       " model                   0\n",
       " milage                  0\n",
       " fuel_type               0\n",
       " ext_col                 0\n",
       " int_col                 0\n",
       " accident             1632\n",
       " clean_title             0\n",
       " horsepower          22181\n",
       " engine_size          9407\n",
       " cylinders           25150\n",
       " Vehicle_Age             0\n",
       " Mileage_per_Year        0\n",
       " Is_Luxury_Brand         0\n",
       " dtype: int64)"
      ]
     },
     "execution_count": 23,
     "metadata": {},
     "output_type": "execute_result"
    }
   ],
   "source": [
    "df.isnull().sum(),dt.isnull().sum()"
   ]
  },
  {
   "cell_type": "code",
   "execution_count": 24,
   "id": "d25e2708",
   "metadata": {
    "execution": {
     "iopub.execute_input": "2024-09-19T04:48:56.956750Z",
     "iopub.status.busy": "2024-09-19T04:48:56.956479Z",
     "iopub.status.idle": "2024-09-19T04:48:56.969034Z",
     "shell.execute_reply": "2024-09-19T04:48:56.967993Z"
    },
    "papermill": {
     "duration": 0.026921,
     "end_time": "2024-09-19T04:48:56.971243",
     "exception": false,
     "start_time": "2024-09-19T04:48:56.944322",
     "status": "completed"
    },
    "tags": []
   },
   "outputs": [
    {
     "name": "stdout",
     "output_type": "stream",
     "text": [
      "<class 'pandas.core.frame.DataFrame'>\n",
      "RangeIndex: 188533 entries, 0 to 188532\n",
      "Data columns (total 15 columns):\n",
      " #   Column            Non-Null Count   Dtype  \n",
      "---  ------            --------------   -----  \n",
      " 0   brand             188533 non-null  int64  \n",
      " 1   model             188533 non-null  int64  \n",
      " 2   milage            188533 non-null  int64  \n",
      " 3   fuel_type         188533 non-null  int64  \n",
      " 4   ext_col           188533 non-null  int64  \n",
      " 5   int_col           188533 non-null  int64  \n",
      " 6   accident          186081 non-null  float64\n",
      " 7   clean_title       188533 non-null  int64  \n",
      " 8   price             188533 non-null  int64  \n",
      " 9   horsepower        155274 non-null  float64\n",
      " 10  engine_size       174319 non-null  float64\n",
      " 11  cylinders         150678 non-null  float64\n",
      " 12  Vehicle_Age       188533 non-null  int64  \n",
      " 13  Mileage_per_Year  188533 non-null  float64\n",
      " 14  Is_Luxury_Brand   188533 non-null  int64  \n",
      "dtypes: float64(5), int64(10)\n",
      "memory usage: 21.6 MB\n"
     ]
    }
   ],
   "source": [
    "df.info()"
   ]
  },
  {
   "cell_type": "markdown",
   "id": "25b0c5ad",
   "metadata": {
    "papermill": {
     "duration": 0.011324,
     "end_time": "2024-09-19T04:48:56.994681",
     "exception": false,
     "start_time": "2024-09-19T04:48:56.983357",
     "status": "completed"
    },
    "tags": []
   },
   "source": [
    "  ## <p style=\"background-color: #fdefff;color:#c12eff;display: inline-block;padding:.6rem;border-radius:.5rem;border: 1px solid #c059ff\">Splitting  data</p>"
   ]
  },
  {
   "cell_type": "code",
   "execution_count": 25,
   "id": "929b8a41",
   "metadata": {
    "execution": {
     "iopub.execute_input": "2024-09-19T04:48:57.019331Z",
     "iopub.status.busy": "2024-09-19T04:48:57.018630Z",
     "iopub.status.idle": "2024-09-19T04:48:57.031526Z",
     "shell.execute_reply": "2024-09-19T04:48:57.030665Z"
    },
    "papermill": {
     "duration": 0.027181,
     "end_time": "2024-09-19T04:48:57.033428",
     "exception": false,
     "start_time": "2024-09-19T04:48:57.006247",
     "status": "completed"
    },
    "tags": []
   },
   "outputs": [
    {
     "data": {
      "text/plain": [
       "((188533, 14), (188533,))"
      ]
     },
     "execution_count": 25,
     "metadata": {},
     "output_type": "execute_result"
    }
   ],
   "source": [
    "X = df.drop(['price'], axis=1)\n",
    "X.shape,y.shape"
   ]
  },
  {
   "cell_type": "code",
   "execution_count": 26,
   "id": "6d04b3b2",
   "metadata": {
    "execution": {
     "iopub.execute_input": "2024-09-19T04:48:57.058652Z",
     "iopub.status.busy": "2024-09-19T04:48:57.057955Z",
     "iopub.status.idle": "2024-09-19T04:48:57.097284Z",
     "shell.execute_reply": "2024-09-19T04:48:57.096496Z"
    },
    "papermill": {
     "duration": 0.054288,
     "end_time": "2024-09-19T04:48:57.099490",
     "exception": false,
     "start_time": "2024-09-19T04:48:57.045202",
     "status": "completed"
    },
    "tags": []
   },
   "outputs": [],
   "source": [
    "X_train_split, X_valid_split, y_train_split, y_valid_split = train_test_split(X, y, test_size=0.17, random_state=8)"
   ]
  },
  {
   "cell_type": "markdown",
   "id": "f45cae8e",
   "metadata": {
    "papermill": {
     "duration": 0.011832,
     "end_time": "2024-09-19T04:48:57.123758",
     "exception": false,
     "start_time": "2024-09-19T04:48:57.111926",
     "status": "completed"
    },
    "tags": []
   },
   "source": [
    "  ## <p style=\"background-color: #fdefff;color:#c12eff;display: inline-block;padding:.6rem;border-radius:.5rem;border: 1px solid #c059ff\">Using LGBM with Optuna to find optimal hyperparameters</p>"
   ]
  },
  {
   "cell_type": "code",
   "execution_count": 27,
   "id": "3650fbed",
   "metadata": {
    "execution": {
     "iopub.execute_input": "2024-09-19T04:48:57.148715Z",
     "iopub.status.busy": "2024-09-19T04:48:57.148404Z",
     "iopub.status.idle": "2024-09-19T04:48:57.313813Z",
     "shell.execute_reply": "2024-09-19T04:48:57.313124Z"
    },
    "papermill": {
     "duration": 0.180364,
     "end_time": "2024-09-19T04:48:57.315990",
     "exception": false,
     "start_time": "2024-09-19T04:48:57.135626",
     "status": "completed"
    },
    "tags": []
   },
   "outputs": [],
   "source": [
    "import xgboost as xgb\n",
    "def objective(trial):\n",
    "    # Suggest hyperparameters for tuning\n",
    "    params = {\n",
    "        'objective': 'reg:squarederror',\n",
    "        'eval_metric': 'rmse',\n",
    "        'booster': 'gbtree',\n",
    "        'n_estimators': trial.suggest_int('n_estimators', 160, 780),\n",
    "        'eta': trial.suggest_loguniform('eta', 0.0005, 0.3),  # learning rate\n",
    "#         'max_depth':4,\n",
    "        'max_depth': trial.suggest_int('max_depth', 3, 7),\n",
    "        'min_child_weight': trial.suggest_loguniform('min_child_weight', 1e-4, 10),\n",
    "        'subsample': trial.suggest_uniform('subsample', 0.3, 1.0),\n",
    "        'colsample_bytree': trial.suggest_uniform('colsample_bytree', 0.09, 1.0),\n",
    "        'lambda': trial.suggest_loguniform('lambda', 3, 10),\n",
    "        'alpha': trial.suggest_loguniform('alpha', 1e-4, 10),\n",
    "        'tree_method': 'hist',  \n",
    "        'device':'cuda'\n",
    "    }\n",
    "    dtrain = xgb.DMatrix(X_train_split, label=y_train_split)\n",
    "    dvalid = xgb.DMatrix(X_valid_split, label=y_valid_split)\n",
    "    \n",
    "    # Train the model\n",
    "    model = xgb.train(params, dtrain, evals=[(dvalid, 'validation')], num_boost_round=1500, early_stopping_rounds=35, verbose_eval=False)\n",
    "    \n",
    "    # Predict on the validation set\n",
    "    y_pred_valid = model.predict(dvalid)\n",
    "    \n",
    "    # Calculate RMSE on the validation set\n",
    "    rmse = mean_squared_error(y_valid_split, y_pred_valid, squared=False)\n",
    "    \n",
    "    return rmse"
   ]
  },
  {
   "cell_type": "code",
   "execution_count": 28,
   "id": "634d4d21",
   "metadata": {
    "execution": {
     "iopub.execute_input": "2024-09-19T04:48:57.341727Z",
     "iopub.status.busy": "2024-09-19T04:48:57.341423Z",
     "iopub.status.idle": "2024-09-19T04:55:45.594936Z",
     "shell.execute_reply": "2024-09-19T04:55:45.593947Z"
    },
    "papermill": {
     "duration": 408.268919,
     "end_time": "2024-09-19T04:55:45.597400",
     "exception": false,
     "start_time": "2024-09-19T04:48:57.328481",
     "status": "completed"
    },
    "tags": []
   },
   "outputs": [
    {
     "name": "stderr",
     "output_type": "stream",
     "text": [
      "[I 2024-09-19 04:48:57,343] A new study created in memory with name: no-name-ce4f4604-c186-4eb2-aa3e-d3d7dbafbb53\n",
      "[I 2024-09-19 04:48:58,445] Trial 0 finished with value: 73104.86284315508 and parameters: {'n_estimators': 280, 'eta': 0.08576501170850521, 'max_depth': 7, 'min_child_weight': 0.08512812203393078, 'subsample': 0.8334091822835574, 'colsample_bytree': 0.7383068867001471, 'lambda': 4.295023874196778, 'alpha': 0.0013803036806753475}. Best is trial 0 with value: 73104.86284315508.\n",
      "[I 2024-09-19 04:49:02,613] Trial 1 finished with value: 73546.17068389918 and parameters: {'n_estimators': 215, 'eta': 0.002131920611683391, 'max_depth': 4, 'min_child_weight': 0.0027706299423583924, 'subsample': 0.72290887826367, 'colsample_bytree': 0.30954287196804897, 'lambda': 5.815773828605984, 'alpha': 0.05831825509605863}. Best is trial 0 with value: 73104.86284315508.\n",
      "[I 2024-09-19 04:49:10,355] Trial 2 finished with value: 75003.17294936214 and parameters: {'n_estimators': 261, 'eta': 0.0005010223479644008, 'max_depth': 7, 'min_child_weight': 0.12445673308631715, 'subsample': 0.8294772594877675, 'colsample_bytree': 0.6207843864329515, 'lambda': 3.0919099028412917, 'alpha': 6.755952497290651}. Best is trial 0 with value: 73104.86284315508.\n",
      "[I 2024-09-19 04:49:14,487] Trial 3 finished with value: 75416.1519071067 and parameters: {'n_estimators': 570, 'eta': 0.0008332857774004137, 'max_depth': 4, 'min_child_weight': 0.006112976337190514, 'subsample': 0.8217306787042304, 'colsample_bytree': 0.23486050130668515, 'lambda': 5.518984583694055, 'alpha': 0.44402451227044576}. Best is trial 0 with value: 73104.86284315508.\n",
      "[I 2024-09-19 04:49:19,303] Trial 4 finished with value: 73032.00662300462 and parameters: {'n_estimators': 572, 'eta': 0.0028456935298281243, 'max_depth': 5, 'min_child_weight': 0.02398449170744088, 'subsample': 0.606668965084706, 'colsample_bytree': 0.5249848556655783, 'lambda': 5.517831075190915, 'alpha': 0.1328761333594976}. Best is trial 4 with value: 73032.00662300462.\n",
      "[I 2024-09-19 04:49:22,972] Trial 5 finished with value: 73241.00009551704 and parameters: {'n_estimators': 280, 'eta': 0.00450263164462658, 'max_depth': 3, 'min_child_weight': 0.008978856316374408, 'subsample': 0.964324208478966, 'colsample_bytree': 0.37836602460552193, 'lambda': 5.656472574110965, 'alpha': 0.0007464485092253453}. Best is trial 4 with value: 73032.00662300462.\n",
      "[I 2024-09-19 04:49:23,273] Trial 6 finished with value: 73064.1745530399 and parameters: {'n_estimators': 283, 'eta': 0.1627580912042224, 'max_depth': 5, 'min_child_weight': 0.001872725896814234, 'subsample': 0.5697762538111555, 'colsample_bytree': 0.7302232311455518, 'lambda': 8.458576220995802, 'alpha': 0.05223696065071085}. Best is trial 4 with value: 73032.00662300462.\n",
      "[I 2024-09-19 04:49:26,904] Trial 7 finished with value: 73084.01827674838 and parameters: {'n_estimators': 755, 'eta': 0.008004471764443803, 'max_depth': 3, 'min_child_weight': 0.05130960926890295, 'subsample': 0.8695124635174225, 'colsample_bytree': 0.5361931171207175, 'lambda': 6.814104358798409, 'alpha': 8.811770448818276}. Best is trial 4 with value: 73032.00662300462.\n",
      "[I 2024-09-19 04:49:30,335] Trial 8 finished with value: 76847.31138082416 and parameters: {'n_estimators': 663, 'eta': 0.001029189321902811, 'max_depth': 3, 'min_child_weight': 0.01262625966268671, 'subsample': 0.8800885653577135, 'colsample_bytree': 0.1201571881234835, 'lambda': 4.681065578926873, 'alpha': 0.00010448306832072064}. Best is trial 4 with value: 73032.00662300462.\n",
      "[I 2024-09-19 04:49:32,463] Trial 9 finished with value: 72927.61001542398 and parameters: {'n_estimators': 719, 'eta': 0.016988814669564607, 'max_depth': 4, 'min_child_weight': 1.971064156264477, 'subsample': 0.587093679694483, 'colsample_bytree': 0.57394211709027, 'lambda': 6.468728555541753, 'alpha': 0.0021508197170084973}. Best is trial 9 with value: 72927.61001542398.\n",
      "[I 2024-09-19 04:49:33,338] Trial 10 finished with value: 72939.68573607053 and parameters: {'n_estimators': 427, 'eta': 0.029521869035063125, 'max_depth': 6, 'min_child_weight': 5.834946831602974, 'subsample': 0.36183611547480166, 'colsample_bytree': 0.9862224009291656, 'lambda': 9.95529268911955, 'alpha': 0.004049830432433937}. Best is trial 9 with value: 72927.61001542398.\n",
      "[I 2024-09-19 04:49:34,366] Trial 11 finished with value: 72977.29590023596 and parameters: {'n_estimators': 419, 'eta': 0.02863195808159655, 'max_depth': 6, 'min_child_weight': 6.900687703817148, 'subsample': 0.3480924258246061, 'colsample_bytree': 0.9963444992260058, 'lambda': 9.891761136170542, 'alpha': 0.0043569608770664915}. Best is trial 9 with value: 72927.61001542398.\n",
      "[I 2024-09-19 04:49:35,355] Trial 12 finished with value: 72996.98623679156 and parameters: {'n_estimators': 425, 'eta': 0.02684611268349889, 'max_depth': 6, 'min_child_weight': 6.4193921861383725, 'subsample': 0.3841043597833399, 'colsample_bytree': 0.9572872121132432, 'lambda': 7.548263997031303, 'alpha': 0.007019796757774515}. Best is trial 9 with value: 72927.61001542398.\n",
      "[I 2024-09-19 04:49:36,560] Trial 13 finished with value: 72903.21003305881 and parameters: {'n_estimators': 512, 'eta': 0.02373535702289254, 'max_depth': 5, 'min_child_weight': 0.733477066594599, 'subsample': 0.4577503184973375, 'colsample_bytree': 0.8307265449186159, 'lambda': 9.484785371812121, 'alpha': 0.0068897924754192765}. Best is trial 13 with value: 72903.21003305881.\n",
      "[I 2024-09-19 04:49:38,557] Trial 14 finished with value: 72941.33695047487 and parameters: {'n_estimators': 758, 'eta': 0.013464061309684259, 'max_depth': 4, 'min_child_weight': 0.7088455190318906, 'subsample': 0.49631675466564973, 'colsample_bytree': 0.8352045333553726, 'lambda': 7.235092873914445, 'alpha': 0.0001923220746133705}. Best is trial 13 with value: 72903.21003305881.\n",
      "[I 2024-09-19 04:49:39,358] Trial 15 finished with value: 73020.62971174912 and parameters: {'n_estimators': 545, 'eta': 0.07210113676388685, 'max_depth': 5, 'min_child_weight': 0.00032701793136036955, 'subsample': 0.5499185463260694, 'colsample_bytree': 0.4459046956421536, 'lambda': 8.338480785864848, 'alpha': 0.015470425007871704}. Best is trial 13 with value: 72903.21003305881.\n",
      "[I 2024-09-19 04:49:41,843] Trial 16 finished with value: 72964.18694812381 and parameters: {'n_estimators': 659, 'eta': 0.01216330873539158, 'max_depth': 4, 'min_child_weight': 0.7353864708520685, 'subsample': 0.4581786375390705, 'colsample_bytree': 0.6775607713078666, 'lambda': 4.306540017685406, 'alpha': 0.46939780274790605}. Best is trial 13 with value: 72903.21003305881.\n",
      "[I 2024-09-19 04:49:42,166] Trial 17 finished with value: 73593.14766967154 and parameters: {'n_estimators': 513, 'eta': 0.29717775155490217, 'max_depth': 5, 'min_child_weight': 0.7539212805427314, 'subsample': 0.6715461142405557, 'colsample_bytree': 0.8247835457313865, 'lambda': 6.453605059089362, 'alpha': 0.00039859621544208255}. Best is trial 13 with value: 72903.21003305881.\n",
      "[I 2024-09-19 04:49:42,852] Trial 18 finished with value: 73028.09411614052 and parameters: {'n_estimators': 645, 'eta': 0.04105851918347748, 'max_depth': 4, 'min_child_weight': 1.667737730467256, 'subsample': 0.45118959439586226, 'colsample_bytree': 0.8235118524685423, 'lambda': 3.234392328587706, 'alpha': 0.001781022926091396}. Best is trial 13 with value: 72903.21003305881.\n",
      "[I 2024-09-19 04:49:46,157] Trial 19 finished with value: 72855.70907314753 and parameters: {'n_estimators': 361, 'eta': 0.007635772530960227, 'max_depth': 6, 'min_child_weight': 0.21053100262517022, 'subsample': 0.7304684202067944, 'colsample_bytree': 0.6091447634421839, 'lambda': 8.349666851258402, 'alpha': 0.018597550592032164}. Best is trial 19 with value: 72855.70907314753.\n",
      "[I 2024-09-19 04:49:49,756] Trial 20 finished with value: 72887.86549818482 and parameters: {'n_estimators': 360, 'eta': 0.006342700294700752, 'max_depth': 6, 'min_child_weight': 0.19860128638961314, 'subsample': 0.7328741804901716, 'colsample_bytree': 0.8657103937175088, 'lambda': 8.53392892897814, 'alpha': 0.21564308973808768}. Best is trial 19 with value: 72855.70907314753.\n",
      "[I 2024-09-19 04:49:55,055] Trial 21 finished with value: 72874.04713847004 and parameters: {'n_estimators': 350, 'eta': 0.004262220785181195, 'max_depth': 6, 'min_child_weight': 0.2687838169958037, 'subsample': 0.7388106288811888, 'colsample_bytree': 0.885154820107473, 'lambda': 8.505138774071993, 'alpha': 0.2911562693709119}. Best is trial 19 with value: 72855.70907314753.\n",
      "[I 2024-09-19 04:49:58,654] Trial 22 finished with value: 72882.42610882822 and parameters: {'n_estimators': 347, 'eta': 0.0057640926859291895, 'max_depth': 6, 'min_child_weight': 0.17009389482744722, 'subsample': 0.7377314394758433, 'colsample_bytree': 0.8920788850103356, 'lambda': 8.257559664899055, 'alpha': 1.2487907889291212}. Best is trial 19 with value: 72855.70907314753.\n",
      "[I 2024-09-19 04:50:05,790] Trial 23 finished with value: 72900.86065838617 and parameters: {'n_estimators': 337, 'eta': 0.0032384196648596536, 'max_depth': 7, 'min_child_weight': 0.23193496922193357, 'subsample': 0.7482589111505917, 'colsample_bytree': 0.7402565064711235, 'lambda': 8.191238819581816, 'alpha': 2.168433352897432}. Best is trial 19 with value: 72855.70907314753.\n",
      "[I 2024-09-19 04:50:11,812] Trial 24 finished with value: 73104.52775062546 and parameters: {'n_estimators': 179, 'eta': 0.0017100003700039022, 'max_depth': 6, 'min_child_weight': 0.25981342556040393, 'subsample': 0.6807002449727914, 'colsample_bytree': 0.9285238776801837, 'lambda': 7.433068061408059, 'alpha': 1.4791413063526713}. Best is trial 19 with value: 72855.70907314753.\n",
      "[I 2024-09-19 04:50:15,341] Trial 25 finished with value: 72871.70278146389 and parameters: {'n_estimators': 334, 'eta': 0.007227814545341341, 'max_depth': 6, 'min_child_weight': 0.03162491124648533, 'subsample': 0.7795037260546749, 'colsample_bytree': 0.9041374661945818, 'lambda': 9.18029080466123, 'alpha': 1.2610161107968043}. Best is trial 19 with value: 72855.70907314753.\n",
      "[I 2024-09-19 04:50:18,431] Trial 26 finished with value: 72883.24908829924 and parameters: {'n_estimators': 386, 'eta': 0.010045470322804988, 'max_depth': 7, 'min_child_weight': 0.04442018401904914, 'subsample': 0.9532064488050229, 'colsample_bytree': 0.6732845525675256, 'lambda': 8.961830042498596, 'alpha': 0.022999510060521866}. Best is trial 19 with value: 72855.70907314753.\n",
      "[I 2024-09-19 04:50:24,172] Trial 27 finished with value: 72893.73266572884 and parameters: {'n_estimators': 477, 'eta': 0.004002897191073229, 'max_depth': 6, 'min_child_weight': 0.0004494455964569954, 'subsample': 0.7826697519334956, 'colsample_bytree': 0.4438379927796239, 'lambda': 9.04198143129035, 'alpha': 0.14397504319575455}. Best is trial 19 with value: 72855.70907314753.\n",
      "[I 2024-09-19 04:50:31,810] Trial 28 finished with value: 73110.91467443571 and parameters: {'n_estimators': 320, 'eta': 0.0015877633574380827, 'max_depth': 7, 'min_child_weight': 0.019755758413049346, 'subsample': 0.6419681117274685, 'colsample_bytree': 0.7759613473639866, 'lambda': 7.641819988179302, 'alpha': 3.745175023692101}. Best is trial 19 with value: 72855.70907314753.\n",
      "[I 2024-09-19 04:50:34,832] Trial 29 finished with value: 72974.95146721271 and parameters: {'n_estimators': 250, 'eta': 0.007796592069415265, 'max_depth': 7, 'min_child_weight': 0.08548631695534022, 'subsample': 0.9011304143298617, 'colsample_bytree': 0.9044666917912472, 'lambda': 5.051154550421265, 'alpha': 0.5884310111932841}. Best is trial 19 with value: 72855.70907314753.\n",
      "[I 2024-09-19 04:50:35,600] Trial 30 finished with value: 72973.84789152018 and parameters: {'n_estimators': 384, 'eta': 0.05571430297732105, 'max_depth': 6, 'min_child_weight': 0.06252984712495614, 'subsample': 0.7904426775323601, 'colsample_bytree': 0.6125588756143663, 'lambda': 3.6551466982719596, 'alpha': 0.08242896328555091}. Best is trial 19 with value: 72855.70907314753.\n",
      "[I 2024-09-19 04:50:39,804] Trial 31 finished with value: 72884.27657962381 and parameters: {'n_estimators': 315, 'eta': 0.005664077155366142, 'max_depth': 6, 'min_child_weight': 0.3771633182063198, 'subsample': 0.7026251712260279, 'colsample_bytree': 0.9036718850791527, 'lambda': 8.041423231078236, 'alpha': 1.1469191515047097}. Best is trial 19 with value: 72855.70907314753.\n",
      "[I 2024-09-19 04:50:45,683] Trial 32 finished with value: 72954.78292706015 and parameters: {'n_estimators': 225, 'eta': 0.002545171485766111, 'max_depth': 6, 'min_child_weight': 0.00011045066125731509, 'subsample': 0.764031058183059, 'colsample_bytree': 0.7276693975830673, 'lambda': 9.110851364133534, 'alpha': 0.8452660453845541}. Best is trial 19 with value: 72855.70907314753.\n",
      "[I 2024-09-19 04:50:49,934] Trial 33 finished with value: 72922.2991823048 and parameters: {'n_estimators': 370, 'eta': 0.004973035790223534, 'max_depth': 5, 'min_child_weight': 0.12215069055131055, 'subsample': 0.815012659144013, 'colsample_bytree': 0.900862903142561, 'lambda': 6.967543000766031, 'alpha': 3.114310422175852}. Best is trial 19 with value: 72855.70907314753.\n",
      "[I 2024-09-19 04:50:51,481] Trial 34 finished with value: 72905.3281308532 and parameters: {'n_estimators': 307, 'eta': 0.016541238952651968, 'max_depth': 6, 'min_child_weight': 0.004460061274487259, 'subsample': 0.6376927784122705, 'colsample_bytree': 0.7786107439874448, 'lambda': 6.358209309488995, 'alpha': 0.25649694015441543}. Best is trial 19 with value: 72855.70907314753.\n",
      "[I 2024-09-19 04:50:56,223] Trial 35 finished with value: 72966.0716872603 and parameters: {'n_estimators': 460, 'eta': 0.009664431004082819, 'max_depth': 7, 'min_child_weight': 0.025499555975209063, 'subsample': 0.712777138065677, 'colsample_bytree': 0.2605241199975821, 'lambda': 7.935273613485452, 'alpha': 4.816066160108989}. Best is trial 19 with value: 72855.70907314753.\n",
      "[I 2024-09-19 04:51:02,060] Trial 36 finished with value: 72897.75900140201 and parameters: {'n_estimators': 173, 'eta': 0.0034630578250873503, 'max_depth': 6, 'min_child_weight': 0.1374320100790373, 'subsample': 0.8487978410751291, 'colsample_bytree': 0.6539242264851202, 'lambda': 8.825043011130717, 'alpha': 0.04669851956463204}. Best is trial 19 with value: 72855.70907314753.\n",
      "[I 2024-09-19 04:51:06,984] Trial 37 finished with value: 73456.02398466237 and parameters: {'n_estimators': 243, 'eta': 0.001557524563926622, 'max_depth': 5, 'min_child_weight': 1.7347561539246266, 'subsample': 0.809661166061256, 'colsample_bytree': 0.4820454969157825, 'lambda': 9.497020712001905, 'alpha': 0.24088926324854285}. Best is trial 19 with value: 72855.70907314753.\n",
      "[I 2024-09-19 04:51:14,394] Trial 38 finished with value: 75493.4253548621 and parameters: {'n_estimators': 348, 'eta': 0.0005492865669202309, 'max_depth': 7, 'min_child_weight': 0.32731059476512636, 'subsample': 0.7671214410703651, 'colsample_bytree': 0.33797495230483016, 'lambda': 5.932492633368264, 'alpha': 0.08679210633014867}. Best is trial 19 with value: 72855.70907314753.\n",
      "[I 2024-09-19 04:51:17,711] Trial 39 finished with value: 72898.85331724901 and parameters: {'n_estimators': 280, 'eta': 0.006609384238635801, 'max_depth': 6, 'min_child_weight': 0.013942286709288012, 'subsample': 0.9206809738277795, 'colsample_bytree': 0.8664877367649533, 'lambda': 6.9897325925292995, 'alpha': 2.216322481061239}. Best is trial 19 with value: 72855.70907314753.\n",
      "[I 2024-09-19 04:51:22,627] Trial 40 finished with value: 73099.81302226042 and parameters: {'n_estimators': 403, 'eta': 0.002164947421748086, 'max_depth': 5, 'min_child_weight': 0.037920144105882896, 'subsample': 0.6273107912869026, 'colsample_bytree': 0.784612029391309, 'lambda': 6.03550505973574, 'alpha': 0.013185482427537608}. Best is trial 19 with value: 72855.70907314753.\n",
      "[I 2024-09-19 04:51:25,497] Trial 41 finished with value: 72859.52014176706 and parameters: {'n_estimators': 452, 'eta': 0.010111835461152505, 'max_depth': 7, 'min_child_weight': 0.07683934371837618, 'subsample': 0.9881915889709925, 'colsample_bytree': 0.6060711741201537, 'lambda': 8.746939325874244, 'alpha': 0.022390075083555134}. Best is trial 19 with value: 72855.70907314753.\n",
      "[I 2024-09-19 04:51:30,712] Trial 42 finished with value: 72895.9161778298 and parameters: {'n_estimators': 459, 'eta': 0.0045984748064771775, 'max_depth': 7, 'min_child_weight': 0.10476582115189596, 'subsample': 0.7038361228698788, 'colsample_bytree': 0.5835639428702936, 'lambda': 7.901522525587463, 'alpha': 0.03961756843306611}. Best is trial 19 with value: 72855.70907314753.\n",
      "[I 2024-09-19 04:51:32,101] Trial 43 finished with value: 72944.14550651798 and parameters: {'n_estimators': 304, 'eta': 0.019482310802192787, 'max_depth': 7, 'min_child_weight': 0.0742027836617338, 'subsample': 0.8589609720737557, 'colsample_bytree': 0.501791745900217, 'lambda': 8.755300673790023, 'alpha': 0.027924545144307214}. Best is trial 19 with value: 72855.70907314753.\n",
      "[I 2024-09-19 04:51:34,515] Trial 44 finished with value: 72907.0572877015 and parameters: {'n_estimators': 440, 'eta': 0.009232660724416007, 'max_depth': 6, 'min_child_weight': 0.43491724545741256, 'subsample': 0.7401593032467791, 'colsample_bytree': 0.9464217959282407, 'lambda': 9.554359559448043, 'alpha': 0.6536855422691933}. Best is trial 19 with value: 72855.70907314753.\n",
      "[I 2024-09-19 04:51:36,776] Trial 45 finished with value: 72916.49018329046 and parameters: {'n_estimators': 404, 'eta': 0.013929118933631399, 'max_depth': 6, 'min_child_weight': 0.005209088158102512, 'subsample': 0.9858622560345887, 'colsample_bytree': 0.6944473338475632, 'lambda': 8.446332774136021, 'alpha': 0.3394534826171431}. Best is trial 19 with value: 72855.70907314753.\n",
      "[I 2024-09-19 04:51:43,007] Trial 46 finished with value: 73072.23822453324 and parameters: {'n_estimators': 350, 'eta': 0.006829330992374466, 'max_depth': 7, 'min_child_weight': 0.13225905412852168, 'subsample': 0.6691430428367031, 'colsample_bytree': 0.16902524323352752, 'lambda': 7.698109502269973, 'alpha': 8.322869099569575}. Best is trial 19 with value: 72855.70907314753.\n",
      "[I 2024-09-19 04:51:48,855] Trial 47 finished with value: 72934.41781495942 and parameters: {'n_estimators': 514, 'eta': 0.0027522946170815124, 'max_depth': 6, 'min_child_weight': 0.0331213786621379, 'subsample': 0.9284136660377265, 'colsample_bytree': 0.6234740787164853, 'lambda': 9.374503623041454, 'alpha': 0.1212465856241949}. Best is trial 19 with value: 72855.70907314753.\n",
      "[I 2024-09-19 04:51:53,843] Trial 48 finished with value: 73680.21145662482 and parameters: {'n_estimators': 489, 'eta': 0.0010072549559880122, 'max_depth': 5, 'min_child_weight': 2.9157886778117375, 'subsample': 0.5960825003736507, 'colsample_bytree': 0.9928650492118123, 'lambda': 9.914885081724668, 'alpha': 0.014346920750009722}. Best is trial 19 with value: 72855.70907314753.\n",
      "[I 2024-09-19 04:51:56,254] Trial 49 finished with value: 72916.62421745261 and parameters: {'n_estimators': 609, 'eta': 0.0109969515114222, 'max_depth': 7, 'min_child_weight': 0.0018765898921910833, 'subsample': 0.5423379851650745, 'colsample_bytree': 0.5781632862880383, 'lambda': 7.225474882148459, 'alpha': 0.006903591982236399}. Best is trial 19 with value: 72855.70907314753.\n",
      "[I 2024-09-19 04:52:01,073] Trial 50 finished with value: 72963.16304335796 and parameters: {'n_estimators': 272, 'eta': 0.00425160946206997, 'max_depth': 5, 'min_child_weight': 0.009006487209732388, 'subsample': 0.9988917400262047, 'colsample_bytree': 0.4085669960799958, 'lambda': 5.253087397460551, 'alpha': 1.0386368500442877}. Best is trial 19 with value: 72855.70907314753.\n",
      "[I 2024-09-19 04:52:04,179] Trial 51 finished with value: 72861.40480748158 and parameters: {'n_estimators': 386, 'eta': 0.010552505175703423, 'max_depth': 7, 'min_child_weight': 0.058317167404821756, 'subsample': 0.9350704834914156, 'colsample_bytree': 0.5324333911246704, 'lambda': 8.850360081779643, 'alpha': 0.019172720459016707}. Best is trial 19 with value: 72855.70907314753.\n",
      "[I 2024-09-19 04:52:05,811] Trial 52 finished with value: 72885.13413363164 and parameters: {'n_estimators': 390, 'eta': 0.02000735824946054, 'max_depth': 7, 'min_child_weight': 0.19764164393714376, 'subsample': 0.963004363410955, 'colsample_bytree': 0.5294108746739062, 'lambda': 8.429453658558398, 'alpha': 0.003358592006575084}. Best is trial 19 with value: 72855.70907314753.\n",
      "[I 2024-09-19 04:52:09,861] Trial 53 finished with value: 72854.72015277819 and parameters: {'n_estimators': 328, 'eta': 0.007850932009364013, 'max_depth': 6, 'min_child_weight': 0.054042450924863414, 'subsample': 0.9002477669488513, 'colsample_bytree': 0.5524167182153723, 'lambda': 9.202801879287259, 'alpha': 0.020964004025807528}. Best is trial 53 with value: 72854.72015277819.\n",
      "[I 2024-09-19 04:52:13,699] Trial 54 finished with value: 72856.98513432249 and parameters: {'n_estimators': 434, 'eta': 0.008051411911621176, 'max_depth': 6, 'min_child_weight': 0.01708474169104172, 'subsample': 0.8820220739393779, 'colsample_bytree': 0.5430240751059947, 'lambda': 9.269848010516824, 'alpha': 0.01043323956037498}. Best is trial 53 with value: 72854.72015277819.\n",
      "[I 2024-09-19 04:52:16,091] Trial 55 finished with value: 72869.42612296835 and parameters: {'n_estimators': 434, 'eta': 0.014335587193866938, 'max_depth': 7, 'min_child_weight': 0.017854122993207513, 'subsample': 0.8989629963059151, 'colsample_bytree': 0.5504451597939417, 'lambda': 9.365644073396142, 'alpha': 0.009651189615744083}. Best is trial 53 with value: 72854.72015277819.\n",
      "[I 2024-09-19 04:52:18,562] Trial 56 finished with value: 72880.5945981501 and parameters: {'n_estimators': 434, 'eta': 0.014502518337877066, 'max_depth': 7, 'min_child_weight': 0.00930393674858779, 'subsample': 0.8881299400714405, 'colsample_bytree': 0.4756636832599175, 'lambda': 9.860641442995602, 'alpha': 0.011183269021053644}. Best is trial 53 with value: 72854.72015277819.\n",
      "[I 2024-09-19 04:52:19,540] Trial 57 finished with value: 72901.0252956943 and parameters: {'n_estimators': 540, 'eta': 0.03462053599186223, 'max_depth': 7, 'min_child_weight': 0.016502440512414434, 'subsample': 0.9299186511801814, 'colsample_bytree': 0.5668344815079822, 'lambda': 8.76304457774947, 'alpha': 0.0011199614014078484}. Best is trial 53 with value: 72854.72015277819.\n",
      "[I 2024-09-19 04:52:21,149] Trial 58 finished with value: 72885.42338463424 and parameters: {'n_estimators': 448, 'eta': 0.020310405025008128, 'max_depth': 7, 'min_child_weight': 0.055032705003779, 'subsample': 0.9057637116381456, 'colsample_bytree': 0.6112970935893912, 'lambda': 9.45674901963913, 'alpha': 0.009299629411100147}. Best is trial 53 with value: 72854.72015277819.\n",
      "[I 2024-09-19 04:52:25,079] Trial 59 finished with value: 72861.46108006472 and parameters: {'n_estimators': 493, 'eta': 0.00836209624364062, 'max_depth': 7, 'min_child_weight': 0.024237920144093327, 'subsample': 0.8365105780393235, 'colsample_bytree': 0.5471453563895112, 'lambda': 8.80610272127785, 'alpha': 0.022014700610685833}. Best is trial 53 with value: 72854.72015277819.\n",
      "[I 2024-09-19 04:52:28,759] Trial 60 finished with value: 73077.22472356872 and parameters: {'n_estimators': 500, 'eta': 0.00822705795979523, 'max_depth': 3, 'min_child_weight': 0.0034330995750534187, 'subsample': 0.8670876856843368, 'colsample_bytree': 0.5011530976309827, 'lambda': 7.3377524990647665, 'alpha': 0.01757084130599995}. Best is trial 53 with value: 72854.72015277819.\n",
      "[I 2024-09-19 04:52:31,605] Trial 61 finished with value: 72863.36321255761 and parameters: {'n_estimators': 414, 'eta': 0.011693805146524284, 'max_depth': 7, 'min_child_weight': 0.022674014368533082, 'subsample': 0.8377638255328158, 'colsample_bytree': 0.550742274370828, 'lambda': 8.6990211739137, 'alpha': 0.023041646308087686}. Best is trial 53 with value: 72854.72015277819.\n",
      "[I 2024-09-19 04:52:34,383] Trial 62 finished with value: 72879.74485485165 and parameters: {'n_estimators': 410, 'eta': 0.012002181208958037, 'max_depth': 7, 'min_child_weight': 0.025390139676752462, 'subsample': 0.8360458531390137, 'colsample_bytree': 0.43750404949999633, 'lambda': 8.05298250389961, 'alpha': 0.020507980732251466}. Best is trial 53 with value: 72854.72015277819.\n",
      "[I 2024-09-19 04:52:37,716] Trial 63 finished with value: 72865.0693362552 and parameters: {'n_estimators': 370, 'eta': 0.009145014611979004, 'max_depth': 7, 'min_child_weight': 0.0441088713775765, 'subsample': 0.95043182108192, 'colsample_bytree': 0.6441206276074167, 'lambda': 8.823897298174968, 'alpha': 0.031201479170165518}. Best is trial 53 with value: 72854.72015277819.\n",
      "[I 2024-09-19 04:52:39,131] Trial 64 finished with value: 72892.41000425069 and parameters: {'n_estimators': 540, 'eta': 0.024921595050000897, 'max_depth': 7, 'min_child_weight': 0.08207546736720135, 'subsample': 0.9755878698425848, 'colsample_bytree': 0.5952033868200762, 'lambda': 8.596689790901635, 'alpha': 0.005187210594833944}. Best is trial 53 with value: 72854.72015277819.\n",
      "[I 2024-09-19 04:52:45,154] Trial 65 finished with value: 72837.47448842641 and parameters: {'n_estimators': 472, 'eta': 0.005380687736206385, 'max_depth': 7, 'min_child_weight': 0.012041622943327713, 'subsample': 0.8754347939136546, 'colsample_bytree': 0.5400273019979032, 'lambda': 9.982024938408815, 'alpha': 0.07797142738296052}. Best is trial 65 with value: 72837.47448842641.\n",
      "[I 2024-09-19 04:52:50,046] Trial 66 finished with value: 72857.95556716801 and parameters: {'n_estimators': 478, 'eta': 0.005344041207704219, 'max_depth': 6, 'min_child_weight': 0.05503412877111627, 'subsample': 0.8706732933732859, 'colsample_bytree': 0.5099038611190032, 'lambda': 9.968952029709293, 'alpha': 0.07778714288755088}. Best is trial 65 with value: 72837.47448842641.\n",
      "[I 2024-09-19 04:52:55,678] Trial 67 finished with value: 72872.62232134982 and parameters: {'n_estimators': 563, 'eta': 0.005143601394161226, 'max_depth': 6, 'min_child_weight': 0.012626210063270646, 'subsample': 0.9415425333975095, 'colsample_bytree': 0.39090246332933654, 'lambda': 9.900459895466964, 'alpha': 0.06492521242539852}. Best is trial 65 with value: 72837.47448842641.\n",
      "[I 2024-09-19 04:53:01,435] Trial 68 finished with value: 72888.35877844537 and parameters: {'n_estimators': 462, 'eta': 0.0036610918176409857, 'max_depth': 6, 'min_child_weight': 0.006460476339724238, 'subsample': 0.8769263291113597, 'colsample_bytree': 0.5063265153999367, 'lambda': 9.126114341992198, 'alpha': 0.03974696982819531}. Best is trial 65 with value: 72837.47448842641.\n",
      "[I 2024-09-19 04:53:06,234] Trial 69 finished with value: 72869.07322626993 and parameters: {'n_estimators': 469, 'eta': 0.00601382362328769, 'max_depth': 6, 'min_child_weight': 0.5431953448347849, 'subsample': 0.7991754786504308, 'colsample_bytree': 0.6382901821117557, 'lambda': 9.6553167956159, 'alpha': 0.06499973197185764}. Best is trial 65 with value: 72837.47448842641.\n",
      "[I 2024-09-19 04:53:10,659] Trial 70 finished with value: 72839.43309576095 and parameters: {'n_estimators': 383, 'eta': 0.007564515034020942, 'max_depth': 6, 'min_child_weight': 0.054467788773038726, 'subsample': 0.9147838044629414, 'colsample_bytree': 0.4534667740792734, 'lambda': 9.181877387872202, 'alpha': 0.15811313621060422}. Best is trial 65 with value: 72837.47448842641.\n",
      "[I 2024-09-19 04:53:15,537] Trial 71 finished with value: 72848.79312304872 and parameters: {'n_estimators': 384, 'eta': 0.007174710887063629, 'max_depth': 6, 'min_child_weight': 0.05457450359325671, 'subsample': 0.9066544461511631, 'colsample_bytree': 0.47786552749734296, 'lambda': 9.21899810477533, 'alpha': 0.11096928353702869}. Best is trial 65 with value: 72837.47448842641.\n",
      "[I 2024-09-19 04:53:20,443] Trial 72 finished with value: 72844.3532210252 and parameters: {'n_estimators': 524, 'eta': 0.006869785261297456, 'max_depth': 6, 'min_child_weight': 0.08563837855666215, 'subsample': 0.91300288942608, 'colsample_bytree': 0.4660316102709078, 'lambda': 9.998074022311672, 'alpha': 0.16309683944405787}. Best is trial 65 with value: 72837.47448842641.\n",
      "[I 2024-09-19 04:53:25,338] Trial 73 finished with value: 72849.74411635615 and parameters: {'n_estimators': 525, 'eta': 0.0072027343207883504, 'max_depth': 6, 'min_child_weight': 0.03936925625393919, 'subsample': 0.9059533552812747, 'colsample_bytree': 0.46513871557032954, 'lambda': 9.282516917928545, 'alpha': 0.18024112804942255}. Best is trial 65 with value: 72837.47448842641.\n",
      "[I 2024-09-19 04:53:30,372] Trial 74 finished with value: 72892.87108021484 and parameters: {'n_estimators': 597, 'eta': 0.006859256890641388, 'max_depth': 6, 'min_child_weight': 0.03594945798691913, 'subsample': 0.916606128857006, 'colsample_bytree': 0.3530673673783053, 'lambda': 9.215902438646253, 'alpha': 0.389026419822254}. Best is trial 65 with value: 72837.47448842641.\n",
      "[I 2024-09-19 04:53:36,188] Trial 75 finished with value: 72936.53610472304 and parameters: {'n_estimators': 520, 'eta': 0.0031738952479408392, 'max_depth': 6, 'min_child_weight': 0.01153565119058741, 'subsample': 0.8923719232162008, 'colsample_bytree': 0.46036979977481784, 'lambda': 9.591511976654562, 'alpha': 0.17173001166018365}. Best is trial 65 with value: 72837.47448842641.\n",
      "[I 2024-09-19 04:53:36,706] Trial 76 finished with value: 72968.01797223113 and parameters: {'n_estimators': 295, 'eta': 0.13760489271823756, 'max_depth': 6, 'min_child_weight': 0.10222926706636737, 'subsample': 0.8551568559549897, 'colsample_bytree': 0.41072242235236855, 'lambda': 4.3809503910867935, 'alpha': 0.11502530895688488}. Best is trial 65 with value: 72837.47448842641.\n",
      "[I 2024-09-19 04:53:41,113] Trial 77 finished with value: 72894.43790684297 and parameters: {'n_estimators': 570, 'eta': 0.007526730407678568, 'max_depth': 5, 'min_child_weight': 0.1432076168665911, 'subsample': 0.9702345808729288, 'colsample_bytree': 0.42252280924215363, 'lambda': 8.27091152195749, 'alpha': 0.1878407976075901}. Best is trial 65 with value: 72837.47448842641.\n",
      "[I 2024-09-19 04:53:46,620] Trial 78 finished with value: 72865.91024320126 and parameters: {'n_estimators': 365, 'eta': 0.004714978061485165, 'max_depth': 6, 'min_child_weight': 0.006930764778100212, 'subsample': 0.8201864517975324, 'colsample_bytree': 0.47091268418499393, 'lambda': 9.181576479542692, 'alpha': 0.10230454850228317}. Best is trial 65 with value: 72837.47448842641.\n",
      "[I 2024-09-19 04:53:52,205] Trial 79 finished with value: 72916.30404751418 and parameters: {'n_estimators': 332, 'eta': 0.005953205429843669, 'max_depth': 6, 'min_child_weight': 0.04196676251290778, 'subsample': 0.312807612267878, 'colsample_bytree': 0.35335309443070556, 'lambda': 9.690276725485948, 'alpha': 0.1478497161145047}. Best is trial 65 with value: 72837.47448842641.\n",
      "[I 2024-09-19 04:53:54,977] Trial 80 finished with value: 72898.21257012499 and parameters: {'n_estimators': 526, 'eta': 0.01660115808076634, 'max_depth': 5, 'min_child_weight': 0.18442375580811446, 'subsample': 0.9042382382263785, 'colsample_bytree': 0.29799527152792016, 'lambda': 9.107951057218063, 'alpha': 0.05937021509220178}. Best is trial 65 with value: 72837.47448842641.\n",
      "[I 2024-09-19 04:53:59,934] Trial 81 finished with value: 72862.31849818531 and parameters: {'n_estimators': 488, 'eta': 0.005211758458378955, 'max_depth': 6, 'min_child_weight': 0.06245407895586983, 'subsample': 0.8681633822656828, 'colsample_bytree': 0.5086285579413858, 'lambda': 9.903731746057886, 'alpha': 0.0970197591436964}. Best is trial 65 with value: 72837.47448842641.\n",
      "[I 2024-09-19 04:54:05,678] Trial 82 finished with value: 72889.02947042882 and parameters: {'n_estimators': 475, 'eta': 0.003931553220085673, 'max_depth': 6, 'min_child_weight': 0.028739642902091526, 'subsample': 0.8820268423272498, 'colsample_bytree': 0.45447409360608465, 'lambda': 9.961010609927328, 'alpha': 0.04915771359805821}. Best is trial 65 with value: 72837.47448842641.\n",
      "[I 2024-09-19 04:54:09,261] Trial 83 finished with value: 72853.00772432986 and parameters: {'n_estimators': 419, 'eta': 0.008597326474410728, 'max_depth': 6, 'min_child_weight': 0.09724958708280414, 'subsample': 0.9083446365753115, 'colsample_bytree': 0.49467362818200095, 'lambda': 9.342201210176297, 'alpha': 0.22967607006260068}. Best is trial 65 with value: 72837.47448842641.\n",
      "[I 2024-09-19 04:54:12,636] Trial 84 finished with value: 72881.31446232212 and parameters: {'n_estimators': 425, 'eta': 0.00840155048735007, 'max_depth': 6, 'min_child_weight': 0.09905727444177988, 'subsample': 0.9163185867790814, 'colsample_bytree': 0.485439117587508, 'lambda': 3.5335004716190705, 'alpha': 0.4924829147916855}. Best is trial 65 with value: 72837.47448842641.\n",
      "[I 2024-09-19 04:54:16,846] Trial 85 finished with value: 72858.26050999007 and parameters: {'n_estimators': 396, 'eta': 0.006850889554891751, 'max_depth': 6, 'min_child_weight': 0.16126665837198262, 'subsample': 0.9528616253303209, 'colsample_bytree': 0.5643329303836451, 'lambda': 9.40041030253573, 'alpha': 0.2619564553181004}. Best is trial 65 with value: 72837.47448842641.\n",
      "[I 2024-09-19 04:54:19,779] Trial 86 finished with value: 72869.29815589142 and parameters: {'n_estimators': 378, 'eta': 0.01289488773529256, 'max_depth': 6, 'min_child_weight': 0.2869724501619604, 'subsample': 0.8504532713082533, 'colsample_bytree': 0.3789490978637604, 'lambda': 7.823383222665561, 'alpha': 0.21425535642431814}. Best is trial 65 with value: 72837.47448842641.\n",
      "[I 2024-09-19 04:54:25,621] Trial 87 finished with value: 73120.06392896843 and parameters: {'n_estimators': 324, 'eta': 0.0022785972378307723, 'max_depth': 6, 'min_child_weight': 0.01700759070617732, 'subsample': 0.909903402842994, 'colsample_bytree': 0.4253581354884993, 'lambda': 8.157324812873192, 'alpha': 0.15365287040894615}. Best is trial 65 with value: 72837.47448842641.\n",
      "[I 2024-09-19 04:54:28,868] Trial 88 finished with value: 72842.00960634391 and parameters: {'n_estimators': 504, 'eta': 0.009147029639429873, 'max_depth': 6, 'min_child_weight': 0.0778616837301328, 'subsample': 0.9339128970026618, 'colsample_bytree': 0.533715317845574, 'lambda': 9.042340044231327, 'alpha': 0.3562348329440574}. Best is trial 65 with value: 72837.47448842641.\n",
      "[I 2024-09-19 04:54:31,624] Trial 89 finished with value: 72902.70137939752 and parameters: {'n_estimators': 509, 'eta': 0.009773593053359382, 'max_depth': 5, 'min_child_weight': 0.07411972825782831, 'subsample': 0.9318937892859674, 'colsample_bytree': 0.5210579807441097, 'lambda': 8.451416838470973, 'alpha': 0.6808753740952544}. Best is trial 65 with value: 72837.47448842641.\n",
      "[I 2024-09-19 04:54:37,449] Trial 90 finished with value: 72928.20930940859 and parameters: {'n_estimators': 598, 'eta': 0.003189266594689558, 'max_depth': 6, 'min_child_weight': 0.9488163994341875, 'subsample': 0.9597099715950023, 'colsample_bytree': 0.49060916928083953, 'lambda': 8.98003078568189, 'alpha': 0.33416845062965034}. Best is trial 65 with value: 72837.47448842641.\n",
      "[I 2024-09-19 04:54:41,877] Trial 91 finished with value: 72835.18711260644 and parameters: {'n_estimators': 552, 'eta': 0.008074135695304659, 'max_depth': 6, 'min_child_weight': 0.04743515197328744, 'subsample': 0.8920438989229493, 'colsample_bytree': 0.4526067729464097, 'lambda': 9.291160476603457, 'alpha': 0.4616418049634297}. Best is trial 91 with value: 72835.18711260644.\n",
      "[I 2024-09-19 04:54:46,412] Trial 92 finished with value: 72860.49595056029 and parameters: {'n_estimators': 560, 'eta': 0.006171028336685298, 'max_depth': 6, 'min_child_weight': 0.10260084393240088, 'subsample': 0.9431457200952549, 'colsample_bytree': 0.4491127362663982, 'lambda': 9.706519197972131, 'alpha': 0.32741421399792703}. Best is trial 91 with value: 72835.18711260644.\n",
      "[I 2024-09-19 04:54:49,845] Trial 93 finished with value: 72822.46208190627 and parameters: {'n_estimators': 552, 'eta': 0.011004056473354439, 'max_depth': 6, 'min_child_weight': 0.04449062097239026, 'subsample': 0.8906834392066515, 'colsample_bytree': 0.46778001579669276, 'lambda': 8.998014599226886, 'alpha': 0.20186143347983934}. Best is trial 93 with value: 72822.46208190627.\n",
      "[I 2024-09-19 04:54:53,335] Trial 94 finished with value: 72871.78875871631 and parameters: {'n_estimators': 630, 'eta': 0.00901789193031296, 'max_depth': 6, 'min_child_weight': 0.0460773641257342, 'subsample': 0.9212572459330939, 'colsample_bytree': 0.39403203523532193, 'lambda': 9.468691016557932, 'alpha': 0.21434887641845932}. Best is trial 93 with value: 72822.46208190627.\n",
      "[I 2024-09-19 04:54:56,348] Trial 95 finished with value: 72835.72203522886 and parameters: {'n_estimators': 548, 'eta': 0.010981327700161338, 'max_depth': 6, 'min_child_weight': 0.03141722670135041, 'subsample': 0.8932045814851712, 'colsample_bytree': 0.46359193340442034, 'lambda': 9.02818188697962, 'alpha': 0.8183024869684904}. Best is trial 93 with value: 72822.46208190627.\n",
      "[I 2024-09-19 04:54:59,148] Trial 96 finished with value: 72848.84929154572 and parameters: {'n_estimators': 584, 'eta': 0.011345938289553712, 'max_depth': 6, 'min_child_weight': 0.03472065076452513, 'subsample': 0.8899266470341298, 'colsample_bytree': 0.4652557647953071, 'lambda': 8.969519438587131, 'alpha': 0.4489078558572073}. Best is trial 93 with value: 72822.46208190627.\n",
      "[I 2024-09-19 04:55:03,016] Trial 97 finished with value: 72882.16075937627 and parameters: {'n_estimators': 579, 'eta': 0.011373423891137312, 'max_depth': 4, 'min_child_weight': 0.030986028257604107, 'subsample': 0.8902048929238406, 'colsample_bytree': 0.4700321447312638, 'lambda': 8.573058484911252, 'alpha': 0.8603838617202887}. Best is trial 93 with value: 72822.46208190627.\n",
      "[I 2024-09-19 04:55:05,056] Trial 98 finished with value: 72883.60812952531 and parameters: {'n_estimators': 527, 'eta': 0.015122200447724925, 'max_depth': 6, 'min_child_weight': 0.03766204354278469, 'subsample': 0.8499596755930413, 'colsample_bytree': 0.43392977092841833, 'lambda': 9.007352690953267, 'alpha': 1.7036191874298234}. Best is trial 93 with value: 72822.46208190627.\n",
      "[I 2024-09-19 04:55:07,490] Trial 99 finished with value: 72871.51387746843 and parameters: {'n_estimators': 552, 'eta': 0.016816302249238923, 'max_depth': 5, 'min_child_weight': 0.022301595559221225, 'subsample': 0.9795574295472125, 'colsample_bytree': 0.3613332571282506, 'lambda': 9.629574199698398, 'alpha': 0.42729117068089895}. Best is trial 93 with value: 72822.46208190627.\n",
      "[I 2024-09-19 04:55:11,609] Trial 100 finished with value: 72879.3889311402 and parameters: {'n_estimators': 578, 'eta': 0.010525936815040805, 'max_depth': 6, 'min_child_weight': 0.06729704578124833, 'subsample': 0.942139511652716, 'colsample_bytree': 0.32296945501032986, 'lambda': 8.934268777878385, 'alpha': 0.4703748170311066}. Best is trial 93 with value: 72822.46208190627.\n",
      "[I 2024-09-19 04:55:14,192] Trial 101 finished with value: 72860.91724860886 and parameters: {'n_estimators': 545, 'eta': 0.012659253871787417, 'max_depth': 6, 'min_child_weight': 0.0848561216539313, 'subsample': 0.9163790338621337, 'colsample_bytree': 0.4576599163119447, 'lambda': 9.284804816268407, 'alpha': 0.778507206085889}. Best is trial 93 with value: 72822.46208190627.\n",
      "[I 2024-09-19 04:55:18,657] Trial 102 finished with value: 72856.42649090732 and parameters: {'n_estimators': 681, 'eta': 0.0074666428632491144, 'max_depth': 6, 'min_child_weight': 0.046126700498784486, 'subsample': 0.8919455977430405, 'colsample_bytree': 0.5225276135554058, 'lambda': 8.311912127035477, 'alpha': 0.5699755599869067}. Best is trial 93 with value: 72822.46208190627.\n",
      "[I 2024-09-19 04:55:24,331] Trial 103 finished with value: 72886.11000017104 and parameters: {'n_estimators': 618, 'eta': 0.0044929072875567536, 'max_depth': 6, 'min_child_weight': 0.11857939183269273, 'subsample': 0.8692313214598576, 'colsample_bytree': 0.4069230531258446, 'lambda': 9.696334751122974, 'alpha': 0.12752536495067265}. Best is trial 93 with value: 72822.46208190627.\n",
      "[I 2024-09-19 04:55:27,945] Trial 104 finished with value: 72853.39935370174 and parameters: {'n_estimators': 591, 'eta': 0.00919072282231965, 'max_depth': 6, 'min_child_weight': 0.03857548301792995, 'subsample': 0.9973698366948747, 'colsample_bytree': 0.4888626331257411, 'lambda': 8.626442610262748, 'alpha': 0.2363990731897708}. Best is trial 93 with value: 72822.46208190627.\n",
      "[I 2024-09-19 04:55:32,850] Trial 105 finished with value: 72856.08512292092 and parameters: {'n_estimators': 533, 'eta': 0.0066633102507402476, 'max_depth': 6, 'min_child_weight': 0.026554317599248, 'subsample': 0.828386149738807, 'colsample_bytree': 0.4423418148876044, 'lambda': 9.436910765784079, 'alpha': 0.18251086135516498}. Best is trial 93 with value: 72822.46208190627.\n",
      "[I 2024-09-19 04:55:34,536] Trial 106 finished with value: 72872.74884331142 and parameters: {'n_estimators': 510, 'eta': 0.022112962058014274, 'max_depth': 6, 'min_child_weight': 0.014632859001023029, 'subsample': 0.9283571956920854, 'colsample_bytree': 0.4752053790796034, 'lambda': 9.025772872522678, 'alpha': 0.27746777813294593}. Best is trial 93 with value: 72822.46208190627.\n",
      "[I 2024-09-19 04:55:37,370] Trial 107 finished with value: 72904.86066769372 and parameters: {'n_estimators': 553, 'eta': 0.011435816452982209, 'max_depth': 6, 'min_child_weight': 0.06790761863051338, 'subsample': 0.9053891149801416, 'colsample_bytree': 0.42250137182554615, 'lambda': 3.007599832562427, 'alpha': 0.3636847803604919}. Best is trial 93 with value: 72822.46208190627.\n",
      "[I 2024-09-19 04:55:41,897] Trial 108 finished with value: 72872.924858306 and parameters: {'n_estimators': 502, 'eta': 0.005735508575990924, 'max_depth': 6, 'min_child_weight': 0.02058420383435555, 'subsample': 0.878179946928173, 'colsample_bytree': 0.5190839403338867, 'lambda': 9.303245089410929, 'alpha': 0.9898103526491543}. Best is trial 93 with value: 72822.46208190627.\n",
      "[I 2024-09-19 04:55:43,588] Trial 109 finished with value: 72847.0137250988 and parameters: {'n_estimators': 581, 'eta': 0.0185547594616651, 'max_depth': 6, 'min_child_weight': 0.051783162219329354, 'subsample': 0.9630019541053766, 'colsample_bytree': 0.49283356434996556, 'lambda': 8.071901716438086, 'alpha': 0.08681131674716897}. Best is trial 93 with value: 72822.46208190627.\n",
      "[I 2024-09-19 04:55:45,590] Trial 110 finished with value: 72859.13952750618 and parameters: {'n_estimators': 591, 'eta': 0.015206512676005717, 'max_depth': 6, 'min_child_weight': 0.0528301985342512, 'subsample': 0.9555629145399771, 'colsample_bytree': 0.5858628840341402, 'lambda': 7.998673983440331, 'alpha': 0.07541493882826679}. Best is trial 93 with value: 72822.46208190627.\n"
     ]
    },
    {
     "name": "stdout",
     "output_type": "stream",
     "text": [
      "Best hyperparameters: {'n_estimators': 552, 'eta': 0.011004056473354439, 'max_depth': 6, 'min_child_weight': 0.04449062097239026, 'subsample': 0.8906834392066515, 'colsample_bytree': 0.46778001579669276, 'lambda': 8.998014599226886, 'alpha': 0.20186143347983934}\n"
     ]
    }
   ],
   "source": [
    "study = optuna.create_study(direction='minimize')\n",
    "study.optimize(objective, n_trials=111)\n",
    "\n",
    "# Get the best hyperparameters\n",
    "best_params = study.best_params\n",
    "print(f\"Best hyperparameters: {best_params}\")"
   ]
  },
  {
   "cell_type": "code",
   "execution_count": 29,
   "id": "3f2f8cdc",
   "metadata": {
    "execution": {
     "iopub.execute_input": "2024-09-19T04:55:45.640847Z",
     "iopub.status.busy": "2024-09-19T04:55:45.640528Z",
     "iopub.status.idle": "2024-09-19T04:55:45.644759Z",
     "shell.execute_reply": "2024-09-19T04:55:45.643828Z"
    },
    "papermill": {
     "duration": 0.028071,
     "end_time": "2024-09-19T04:55:45.646812",
     "exception": false,
     "start_time": "2024-09-19T04:55:45.618741",
     "status": "completed"
    },
    "tags": []
   },
   "outputs": [],
   "source": [
    "# best_params={'n_estimators': 1075, 'eta': 0.006322676490697651, 'max_depth': 4, 'min_child_weight': 0.00395187090807294, 'subsample': 0.9313710525668728, 'colsample_bytree': 0.5484624100206377, 'lambda': 7.740721556692922, 'alpha': 0.3158771161140435}"
   ]
  },
  {
   "cell_type": "markdown",
   "id": "504e9d6d",
   "metadata": {
    "papermill": {
     "duration": 0.021486,
     "end_time": "2024-09-19T04:55:45.691536",
     "exception": false,
     "start_time": "2024-09-19T04:55:45.670050",
     "status": "completed"
    },
    "tags": []
   },
   "source": [
    "  ## <p style=\"background-color: #fdefff;color:#c12eff;display: inline-block;padding:.6rem;border-radius:.5rem;border: 1px solid #c059ff\">Training model on best Parameters</p>"
   ]
  },
  {
   "cell_type": "code",
   "execution_count": 30,
   "id": "5d009ffe",
   "metadata": {
    "execution": {
     "iopub.execute_input": "2024-09-19T04:55:45.734184Z",
     "iopub.status.busy": "2024-09-19T04:55:45.733846Z",
     "iopub.status.idle": "2024-09-19T04:55:50.620725Z",
     "shell.execute_reply": "2024-09-19T04:55:50.619819Z"
    },
    "papermill": {
     "duration": 4.910748,
     "end_time": "2024-09-19T04:55:50.622958",
     "exception": false,
     "start_time": "2024-09-19T04:55:45.712210",
     "status": "completed"
    },
    "tags": []
   },
   "outputs": [],
   "source": [
    "best_params['objective'] = 'reg:squarederror'\n",
    "best_params['eval_metric'] = 'rmse'\n",
    "best_params['eval_metric'] = 'rmse'\n",
    "best_params['device'] = 'cuda'\n",
    "dtrain = xgb.DMatrix(X, label=y)\n",
    "model = xgb.train(best_params, dtrain, num_boost_round=1500)"
   ]
  },
  {
   "cell_type": "markdown",
   "id": "0a4cded3",
   "metadata": {
    "papermill": {
     "duration": 0.020862,
     "end_time": "2024-09-19T04:55:50.665343",
     "exception": false,
     "start_time": "2024-09-19T04:55:50.644481",
     "status": "completed"
    },
    "tags": []
   },
   "source": [
    "  ## <p style=\"background-color: #fdefff;color:#c12eff;display: inline-block;padding:.6rem;border-radius:.5rem;border: 1px solid #c059ff\">Predicting Test.csv</p>"
   ]
  },
  {
   "cell_type": "code",
   "execution_count": 31,
   "id": "b6712445",
   "metadata": {
    "execution": {
     "iopub.execute_input": "2024-09-19T04:55:50.708036Z",
     "iopub.status.busy": "2024-09-19T04:55:50.707694Z",
     "iopub.status.idle": "2024-09-19T04:55:51.032548Z",
     "shell.execute_reply": "2024-09-19T04:55:51.031399Z"
    },
    "papermill": {
     "duration": 0.348991,
     "end_time": "2024-09-19T04:55:51.035030",
     "exception": false,
     "start_time": "2024-09-19T04:55:50.686039",
     "status": "completed"
    },
    "tags": []
   },
   "outputs": [
    {
     "name": "stdout",
     "output_type": "stream",
     "text": [
      "Submission file created: submission_xgb1.csv\n"
     ]
    }
   ],
   "source": [
    "dtest = xgb.DMatrix(dt)  \n",
    "pred = model.predict(dtest)\n",
    "\n",
    "id = sf.pop('id')\n",
    "\n",
    "# Create a submission DataFrame\n",
    "submission_df = pd.DataFrame({\n",
    "    'id': id,\n",
    "    'class': pred\n",
    "})\n",
    "\n",
    "# Save the submission DataFrame to a CSV file\n",
    "submission_df.to_csv('submission_xgb1.csv', index=False)\n",
    "print(\"Submission file created: submission_xgb1.csv\")"
   ]
  }
 ],
 "metadata": {
  "kaggle": {
   "accelerator": "nvidiaTeslaT4",
   "dataSources": [
    {
     "databundleVersionId": 9057646,
     "sourceId": 76728,
     "sourceType": "competition"
    }
   ],
   "dockerImageVersionId": 30761,
   "isGpuEnabled": true,
   "isInternetEnabled": true,
   "language": "python",
   "sourceType": "notebook"
  },
  "kernelspec": {
   "display_name": "Python 3",
   "language": "python",
   "name": "python3"
  },
  "language_info": {
   "codemirror_mode": {
    "name": "ipython",
    "version": 3
   },
   "file_extension": ".py",
   "mimetype": "text/x-python",
   "name": "python",
   "nbconvert_exporter": "python",
   "pygments_lexer": "ipython3",
   "version": "3.10.14"
  },
  "papermill": {
   "default_parameters": {},
   "duration": 442.698939,
   "end_time": "2024-09-19T04:55:51.576489",
   "environment_variables": {},
   "exception": null,
   "input_path": "__notebook__.ipynb",
   "output_path": "__notebook__.ipynb",
   "parameters": {},
   "start_time": "2024-09-19T04:48:28.877550",
   "version": "2.6.0"
  }
 },
 "nbformat": 4,
 "nbformat_minor": 5
}
