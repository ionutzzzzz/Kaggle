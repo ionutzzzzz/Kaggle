{
 "cells": [
  {
   "cell_type": "code",
   "execution_count": 1,
   "id": "d75011bb",
   "metadata": {
    "_cell_guid": "b1076dfc-b9ad-4769-8c92-a6c4dae69d19",
    "_uuid": "8f2839f25d086af736a60e9eeb907d3b93b6e0e5",
    "execution": {
     "iopub.execute_input": "2024-09-17T05:13:11.278185Z",
     "iopub.status.busy": "2024-09-17T05:13:11.277383Z",
     "iopub.status.idle": "2024-09-17T05:13:25.800670Z",
     "shell.execute_reply": "2024-09-17T05:13:25.799896Z"
    },
    "papermill": {
     "duration": 14.538211,
     "end_time": "2024-09-17T05:13:25.803292",
     "exception": false,
     "start_time": "2024-09-17T05:13:11.265081",
     "status": "completed"
    },
    "tags": []
   },
   "outputs": [],
   "source": [
    "import pandas as pd\n",
    "import numpy as np\n",
    "import matplotlib.pyplot as plt\n",
    "import seaborn as sns\n",
    "from sklearn.preprocessing import MinMaxScaler,LabelEncoder\n",
    "from sklearn.model_selection import train_test_split\n",
    "from tensorflow.keras.models import Sequential,load_model\n",
    "from tensorflow.keras.layers import Dense,Dropout,Input,BatchNormalization\n",
    "from tensorflow.keras.callbacks import EarlyStopping,ReduceLROnPlateau\n",
    "import tensorflow as tf\n",
    "from tensorflow.keras.optimizers import Adam\n",
    "from datetime import datetime\n",
    "import warnings\n",
    "warnings.filterwarnings('ignore')"
   ]
  },
  {
   "cell_type": "markdown",
   "id": "dd63632b",
   "metadata": {
    "papermill": {
     "duration": 0.009737,
     "end_time": "2024-09-17T05:13:25.823137",
     "exception": false,
     "start_time": "2024-09-17T05:13:25.813400",
     "status": "completed"
    },
    "tags": []
   },
   "source": [
    "  ## <p style=\"background-color: #fdefff;color:#c12eff;display: inline-block;padding:.6rem;border-radius:.5rem;border: 1px solid #c059ff\">Loading data</p>"
   ]
  },
  {
   "cell_type": "code",
   "execution_count": 2,
   "id": "f886cf5f",
   "metadata": {
    "execution": {
     "iopub.execute_input": "2024-09-17T05:13:25.843824Z",
     "iopub.status.busy": "2024-09-17T05:13:25.843256Z",
     "iopub.status.idle": "2024-09-17T05:13:27.174869Z",
     "shell.execute_reply": "2024-09-17T05:13:27.173900Z"
    },
    "papermill": {
     "duration": 1.344874,
     "end_time": "2024-09-17T05:13:27.177410",
     "exception": false,
     "start_time": "2024-09-17T05:13:25.832536",
     "status": "completed"
    },
    "tags": []
   },
   "outputs": [
    {
     "data": {
      "text/plain": [
       "((188533, 13), (125690, 12), (125690, 2))"
      ]
     },
     "execution_count": 2,
     "metadata": {},
     "output_type": "execute_result"
    }
   ],
   "source": [
    "df=pd.read_csv('/kaggle/input/playground-series-s4e9/train.csv')\n",
    "dt=pd.read_csv('/kaggle/input/playground-series-s4e9/test.csv')\n",
    "sf=pd.read_csv('/kaggle/input/playground-series-s4e9/sample_submission.csv')\n",
    "df.shape,dt.shape,sf.shape"
   ]
  },
  {
   "cell_type": "markdown",
   "id": "eef705c6",
   "metadata": {
    "papermill": {
     "duration": 0.015236,
     "end_time": "2024-09-17T05:13:27.206256",
     "exception": false,
     "start_time": "2024-09-17T05:13:27.191020",
     "status": "completed"
    },
    "tags": []
   },
   "source": [
    "  ## <p style=\"background-color: #fdefff;color:#c12eff;display: inline-block;padding:.6rem;border-radius:.5rem;border: 1px solid #c059ff\">Basic Info about data</p>"
   ]
  },
  {
   "cell_type": "code",
   "execution_count": 3,
   "id": "942ff33d",
   "metadata": {
    "execution": {
     "iopub.execute_input": "2024-09-17T05:13:27.228003Z",
     "iopub.status.busy": "2024-09-17T05:13:27.227647Z",
     "iopub.status.idle": "2024-09-17T05:13:27.235600Z",
     "shell.execute_reply": "2024-09-17T05:13:27.234809Z"
    },
    "papermill": {
     "duration": 0.021226,
     "end_time": "2024-09-17T05:13:27.237906",
     "exception": false,
     "start_time": "2024-09-17T05:13:27.216680",
     "status": "completed"
    },
    "tags": []
   },
   "outputs": [],
   "source": [
    "y =df['price']"
   ]
  },
  {
   "cell_type": "code",
   "execution_count": 4,
   "id": "0b087c6c",
   "metadata": {
    "execution": {
     "iopub.execute_input": "2024-09-17T05:13:27.258426Z",
     "iopub.status.busy": "2024-09-17T05:13:27.258141Z",
     "iopub.status.idle": "2024-09-17T05:13:27.436582Z",
     "shell.execute_reply": "2024-09-17T05:13:27.435198Z"
    },
    "papermill": {
     "duration": 0.190965,
     "end_time": "2024-09-17T05:13:27.438528",
     "exception": false,
     "start_time": "2024-09-17T05:13:27.247563",
     "status": "completed"
    },
    "tags": []
   },
   "outputs": [
    {
     "name": "stdout",
     "output_type": "stream",
     "text": [
      "<class 'pandas.core.frame.DataFrame'>\n",
      "RangeIndex: 188533 entries, 0 to 188532\n",
      "Data columns (total 13 columns):\n",
      " #   Column        Non-Null Count   Dtype \n",
      "---  ------        --------------   ----- \n",
      " 0   id            188533 non-null  int64 \n",
      " 1   brand         188533 non-null  object\n",
      " 2   model         188533 non-null  object\n",
      " 3   model_year    188533 non-null  int64 \n",
      " 4   milage        188533 non-null  int64 \n",
      " 5   fuel_type     183450 non-null  object\n",
      " 6   engine        188533 non-null  object\n",
      " 7   transmission  188533 non-null  object\n",
      " 8   ext_col       188533 non-null  object\n",
      " 9   int_col       188533 non-null  object\n",
      " 10  accident      186081 non-null  object\n",
      " 11  clean_title   167114 non-null  object\n",
      " 12  price         188533 non-null  int64 \n",
      "dtypes: int64(4), object(9)\n",
      "memory usage: 18.7+ MB\n"
     ]
    }
   ],
   "source": [
    "df.info()"
   ]
  },
  {
   "cell_type": "code",
   "execution_count": 5,
   "id": "fcf0cd64",
   "metadata": {
    "execution": {
     "iopub.execute_input": "2024-09-17T05:13:27.459684Z",
     "iopub.status.busy": "2024-09-17T05:13:27.459387Z",
     "iopub.status.idle": "2024-09-17T05:13:27.728070Z",
     "shell.execute_reply": "2024-09-17T05:13:27.727104Z"
    },
    "papermill": {
     "duration": 0.281604,
     "end_time": "2024-09-17T05:13:27.730384",
     "exception": false,
     "start_time": "2024-09-17T05:13:27.448780",
     "status": "completed"
    },
    "tags": []
   },
   "outputs": [
    {
     "data": {
      "text/plain": [
       "(id                  0\n",
       " brand               0\n",
       " model               0\n",
       " model_year          0\n",
       " milage              0\n",
       " fuel_type        5083\n",
       " engine              0\n",
       " transmission        0\n",
       " ext_col             0\n",
       " int_col             0\n",
       " accident         2452\n",
       " clean_title     21419\n",
       " price               0\n",
       " dtype: int64,\n",
       " id                  0\n",
       " brand               0\n",
       " model               0\n",
       " model_year          0\n",
       " milage              0\n",
       " fuel_type        3383\n",
       " engine              0\n",
       " transmission        0\n",
       " ext_col             0\n",
       " int_col             0\n",
       " accident         1632\n",
       " clean_title     14239\n",
       " dtype: int64)"
      ]
     },
     "execution_count": 5,
     "metadata": {},
     "output_type": "execute_result"
    }
   ],
   "source": [
    "df.isnull().sum(),dt.isnull().sum()\n"
   ]
  },
  {
   "cell_type": "markdown",
   "id": "d67060ea",
   "metadata": {
    "papermill": {
     "duration": 0.010407,
     "end_time": "2024-09-17T05:13:27.752135",
     "exception": false,
     "start_time": "2024-09-17T05:13:27.741728",
     "status": "completed"
    },
    "tags": []
   },
   "source": [
    "  ## <p style=\"background-color: #fdefff;color:#c12eff;display: inline-block;padding:.6rem;border-radius:.5rem;border: 1px solid #c059ff\">Mapping str to int in Accident Column</p>"
   ]
  },
  {
   "cell_type": "code",
   "execution_count": 6,
   "id": "5914edff",
   "metadata": {
    "execution": {
     "iopub.execute_input": "2024-09-17T05:13:27.773348Z",
     "iopub.status.busy": "2024-09-17T05:13:27.772531Z",
     "iopub.status.idle": "2024-09-17T05:13:27.809916Z",
     "shell.execute_reply": "2024-09-17T05:13:27.809249Z"
    },
    "papermill": {
     "duration": 0.049691,
     "end_time": "2024-09-17T05:13:27.811682",
     "exception": false,
     "start_time": "2024-09-17T05:13:27.761991",
     "status": "completed"
    },
    "tags": []
   },
   "outputs": [],
   "source": [
    "df['accident']=df['accident'].map({'None reported': 0,'At least 1 accident or damage reported': 1})\n",
    "dt['accident']=dt['accident'].map({'None reported': 0,'At least 1 accident or damage reported': 1})"
   ]
  },
  {
   "cell_type": "code",
   "execution_count": 7,
   "id": "ec38456e",
   "metadata": {
    "execution": {
     "iopub.execute_input": "2024-09-17T05:13:27.832901Z",
     "iopub.status.busy": "2024-09-17T05:13:27.832590Z",
     "iopub.status.idle": "2024-09-17T05:13:32.781981Z",
     "shell.execute_reply": "2024-09-17T05:13:32.781178Z"
    },
    "papermill": {
     "duration": 4.962212,
     "end_time": "2024-09-17T05:13:32.784171",
     "exception": false,
     "start_time": "2024-09-17T05:13:27.821959",
     "status": "completed"
    },
    "tags": []
   },
   "outputs": [],
   "source": [
    "def fill_clean_title(row):\n",
    "    if pd.isna(row['clean_title']):\n",
    "        return 'missing'\n",
    "    return row['clean_title']\n",
    "\n",
    "df['clean_title'] = df.apply(fill_clean_title, axis=1)\n",
    "dt['clean_title'] = dt.apply(fill_clean_title, axis=1)"
   ]
  },
  {
   "cell_type": "markdown",
   "id": "69d776e0",
   "metadata": {
    "papermill": {
     "duration": 0.010008,
     "end_time": "2024-09-17T05:13:32.804412",
     "exception": false,
     "start_time": "2024-09-17T05:13:32.794404",
     "status": "completed"
    },
    "tags": []
   },
   "source": [
    "## <p style=\"background-color: #fdefff;color:#c12eff;display: inline-block;padding:.6rem;border-radius:.5rem;border: 1px solid #c059ff\">Extracting data from Engine Column</p>"
   ]
  },
  {
   "cell_type": "code",
   "execution_count": 8,
   "id": "77e7687b",
   "metadata": {
    "execution": {
     "iopub.execute_input": "2024-09-17T05:13:32.825444Z",
     "iopub.status.busy": "2024-09-17T05:13:32.825144Z",
     "iopub.status.idle": "2024-09-17T05:13:36.744303Z",
     "shell.execute_reply": "2024-09-17T05:13:36.743428Z"
    },
    "papermill": {
     "duration": 3.932419,
     "end_time": "2024-09-17T05:13:36.746734",
     "exception": false,
     "start_time": "2024-09-17T05:13:32.814315",
     "status": "completed"
    },
    "tags": []
   },
   "outputs": [],
   "source": [
    "def extract_data_from_engine(df):\n",
    "    df=df.copy()\n",
    "    df['horsepower'] = df['engine'].str.extract(r'(\\d+\\.\\d+)(?=HP)').astype(float)\n",
    "    df['engine_size'] = df['engine'].str.extract(r'(\\d+\\.\\d+)(?=L)').astype(float)\n",
    "    df['cylinders'] = df['engine'].str.extract(r'(\\d+)\\s(Cylinder|V\\d|Straight)')[0].astype(float)\n",
    "    return df\n",
    "df = extract_data_from_engine(df)\n",
    "dt = extract_data_from_engine(dt)\n"
   ]
  },
  {
   "cell_type": "code",
   "execution_count": 9,
   "id": "def0d9af",
   "metadata": {
    "execution": {
     "iopub.execute_input": "2024-09-17T05:13:36.768871Z",
     "iopub.status.busy": "2024-09-17T05:13:36.768510Z",
     "iopub.status.idle": "2024-09-17T05:13:37.168105Z",
     "shell.execute_reply": "2024-09-17T05:13:37.167277Z"
    },
    "papermill": {
     "duration": 0.41329,
     "end_time": "2024-09-17T05:13:37.170566",
     "exception": false,
     "start_time": "2024-09-17T05:13:36.757276",
     "status": "completed"
    },
    "tags": []
   },
   "outputs": [],
   "source": [
    "def extract_fuel_type(engine_info):\n",
    "    if pd.isna(engine_info):\n",
    "        return np.nan\n",
    "    if 'Gasoline' in engine_info:\n",
    "        return 'Gasoline'\n",
    "    elif 'Hybrid' in engine_info:\n",
    "        return 'Hybrid'\n",
    "    elif 'Flex Fuel' in engine_info or 'E85' in engine_info:\n",
    "        return 'Flex Fuel'\n",
    "    elif 'Diesel' in engine_info:\n",
    "        return 'Diesel'\n",
    "    elif 'Electric' in engine_info:\n",
    "        return 'Electric'\n",
    "    else:\n",
    "        return np.nan\n",
    "\n",
    "df['extracted_fuel_type'] = df['engine'].apply(extract_fuel_type)\n",
    "df['fuel_type'].fillna(df['extracted_fuel_type'], inplace=True)\n",
    "df.drop(columns=['extracted_fuel_type'], inplace=True)\n",
    "dt['extracted_fuel_type'] = dt['engine'].apply(extract_fuel_type)\n",
    "dt['fuel_type'].fillna(dt['extracted_fuel_type'], inplace=True)\n",
    "dt.drop(columns=['extracted_fuel_type'], inplace=True)"
   ]
  },
  {
   "cell_type": "code",
   "execution_count": 10,
   "id": "305d0037",
   "metadata": {
    "execution": {
     "iopub.execute_input": "2024-09-17T05:13:37.193206Z",
     "iopub.status.busy": "2024-09-17T05:13:37.192902Z",
     "iopub.status.idle": "2024-09-17T05:13:37.520145Z",
     "shell.execute_reply": "2024-09-17T05:13:37.519221Z"
    },
    "papermill": {
     "duration": 0.340996,
     "end_time": "2024-09-17T05:13:37.522475",
     "exception": false,
     "start_time": "2024-09-17T05:13:37.181479",
     "status": "completed"
    },
    "tags": []
   },
   "outputs": [],
   "source": [
    "def feature(df):\n",
    "    df['brand'] = df['brand'].str.lower()\n",
    "    current_year = datetime.now().year\n",
    "    df['Vehicle_Age'] = current_year - df['model_year']\n",
    "    df['Mileage_per_Year'] = df['milage'] / (df['Vehicle_Age'] + 10e-5)\n",
    "    luxury_brands = [\"mercedes-benz\",\"bmw\",\"audi\",\"porsche\",\"lexus\",\"cadillac\",\"jaguar\",\"bentley\",\"genesis\",\"maserati\",\"lamborghini\",\"rolls-royce\",\"ferrari\",\"mclaren\",\"aston\",\"lotus\",\"bugatti\",\"maybach\"]\n",
    "    df['Is_Luxury_Brand'] = df['brand'].apply(lambda x: 1 if x in luxury_brands else 0)\n",
    "    \n",
    "    return df\n",
    "\n",
    "df = feature(df)\n",
    "dt = feature(dt)\n"
   ]
  },
  {
   "cell_type": "code",
   "execution_count": 11,
   "id": "cf4d8bb2",
   "metadata": {
    "execution": {
     "iopub.execute_input": "2024-09-17T05:13:37.545257Z",
     "iopub.status.busy": "2024-09-17T05:13:37.544916Z",
     "iopub.status.idle": "2024-09-17T05:13:37.550584Z",
     "shell.execute_reply": "2024-09-17T05:13:37.549699Z"
    },
    "papermill": {
     "duration": 0.019336,
     "end_time": "2024-09-17T05:13:37.552555",
     "exception": false,
     "start_time": "2024-09-17T05:13:37.533219",
     "status": "completed"
    },
    "tags": []
   },
   "outputs": [],
   "source": [
    "# # To ensure all values are printed without truncation\n",
    "# pd.set_option('display.max_rows', None)\n",
    "\n",
    "# # Print all unique values and their counts in the engine column\n",
    "# print(df['modal'].value_counts())\n",
    "\n",
    "# # Optionally, reset the display option after printing if needed\n",
    "# pd.reset_option('display.max_rows')\n"
   ]
  },
  {
   "cell_type": "code",
   "execution_count": 12,
   "id": "957772ad",
   "metadata": {
    "execution": {
     "iopub.execute_input": "2024-09-17T05:13:37.574981Z",
     "iopub.status.busy": "2024-09-17T05:13:37.574653Z",
     "iopub.status.idle": "2024-09-17T05:13:37.598228Z",
     "shell.execute_reply": "2024-09-17T05:13:37.597281Z"
    },
    "papermill": {
     "duration": 0.037644,
     "end_time": "2024-09-17T05:13:37.600320",
     "exception": false,
     "start_time": "2024-09-17T05:13:37.562676",
     "status": "completed"
    },
    "tags": []
   },
   "outputs": [],
   "source": [
    "int_replacements = {\n",
    "    'Medium Earth Gray': 'Gray',\n",
    "    'Diesel Gray / Black': 'Gray',\n",
    "    'Dark Ash': 'Gray',\n",
    "    'Graphite': 'Gray',\n",
    "    'Dark Galvanized': 'Charcoal',\n",
    "    'Light Gray': 'Gray',\n",
    "    'Ash': 'Gray',\n",
    "    'Jet Black': 'Black',\n",
    "    'Global Black': 'Black',\n",
    "    'Black Onyx': 'Black',\n",
    "    'Parchment.': 'Beige',\n",
    "    'Sardar Brown': 'Brown',\n",
    "    'Black/Gun Metal': 'Black',\n",
    "    'Charcoal Black': 'Charcoal',\n",
    "    'Ebony': 'Brown',\n",
    "    'Ebony Black': 'Black',\n",
    "    'Carbon Black': 'Black',\n",
    "    'Obsidian Black': 'Black',\n",
    "    'Black / Saddle Brown': 'Black',\n",
    "    'Black/Saddle Brown': 'Black',\n",
    "    'Black / Brown': 'Black',\n",
    "    'Saddle Brown': 'Brown',\n",
    "    'Sand Beige': 'Beige',\n",
    "    'Camel': 'Beige',\n",
    "    'Parchment': 'Beige',\n",
    "    'Macchiato Beige/Black': 'Beige',\n",
    "    'Silk Beige/Espresso Brown': 'Beige',\n",
    "    'Canberra Beige': 'Beige',\n",
    "    'Macchiato': 'Beige',\n",
    "    'Almond Beige': 'Beige',\n",
    "    'Grace White': 'White',\n",
    "    'Ivory / Ebony': 'White',\n",
    "    'Bianco Polar': 'White',\n",
    "    'White / Brown': 'White',\n",
    "    'Platinum': 'White',\n",
    "    'Cloud': 'Blue',\n",
    "    'Rift Metallic': 'White',\n",
    "    'Light Platinum / Jet Black': 'Silver',\n",
    "    'Billet Clearcoat Metallic': 'Silver',\n",
    "    'Sakhir Orange': 'Orange',\n",
    "    'Pimento Red w/Ebony': 'Red',\n",
    "    'Adrenaline Red': 'Red',\n",
    "    'Rioja Red': 'Red',\n",
    "    'Classic Red': 'Red',\n",
    "    'Magma Red': 'Red',\n",
    "    'Cobalt Blue': 'Blue',\n",
    "    'Tempest': 'Blue',\n",
    "    'Stormy Sea': 'Blue',\n",
    "    'Navy Pier': 'Blue',\n",
    "    'Charles Blue': 'Blue',\n",
    "    'Rhapsody Blue': 'Blue',\n",
    "    'Kyalami Orange': 'Orange',\n",
    "    'Sakhir Orange/Black': 'Orange',\n",
    "    'Dark Gray': 'Gray',\n",
    "    'Deep Garnet': 'Red',\n",
    "    'Scarlet Ember': 'Red',\n",
    "    'Beluga': 'Blue',\n",
    "    'Chestnut': 'Brown',\n",
    "    'Boulder': 'Gray',\n",
    "    'Macchiato/Magmagrey': 'Beige',\n",
    "    'Medium Stone': 'Gray',\n",
    "    'BLACK': 'Black',\n",
    "    'Portland': 'Gray',\n",
    "    'Sandstone': 'Beige',\n",
    "    'Slate': 'Gray',\n",
    "    'Cappuccino': 'Brown',\n",
    "    'Oyster W/Contrast': 'Beige',\n",
    "    'Nero Ade': 'Black',\n",
    "    'Light Titanium': 'Silver',\n",
    "    'Tan': 'Beige',\n",
    "    'Brandy': 'Brown',\n",
    "    'Amber': 'Yellow',\n",
    "    'Hotspur': 'Blue',\n",
    "    'Chateau': 'Green',\n",
    "    'Ice': 'Blue',\n",
    "    'Blk': 'Black',\n",
    "    'Mesa': 'Brown',\n",
    "    'Espresso': 'Brown',\n",
    "    'Ceramic': 'White',\n",
    "    'Medium Dark Slate': 'Gray',\n",
    "    'Graphite w/Gun Metal': 'Gray',\n",
    "    'Cocoa / Dune': 'Brown',\n",
    "    'Roast': 'Brown',\n",
    "    'Hotspur Hide': 'Brown',\n",
    "    'ORANGE': 'Orange',\n",
    "    'Walnut': 'Brown',\n",
    "    'Caramel': 'Beige',\n",
    "    'Giallo Taurus / Nero Ade': 'Yellow',\n",
    "    'Medium Pewter': 'Gray',\n",
    "    'Camel Leather': 'Brown',\n",
    "    'Anthracite': 'Gray',\n",
    "    'Mocha': 'Brown',\n",
    "    'Sahara Tan': 'Beige',\n",
    "    'Porpoise': 'Beige',\n",
    "    'Deep Cypress': 'Green',\n",
    "    'Light Slate': 'Gray',\n",
    "    'Beluga Hide': 'Black',\n",
    "    'Tupelo': 'Green',\n",
    "    'Gideon': 'Beige',\n",
    "    'Medium Light Camel': 'Beige',\n",
    "    'Nero': 'Black',\n",
    "    'Deep Chestnut': 'Red',\n",
    "    'Dark Auburn': 'Brown',\n",
    "    'Shale': 'Gray',\n",
    "    'BEIGE': 'Beige',\n",
    "    'Linen': 'Beige',\n",
    "    'WHITE': 'White'\n",
    "}\n",
    "ext_replacements = {\n",
    "    'Blu': 'Blue',\n",
    "    'BLUE': 'Blue',\n",
    "    'Glacier': 'Blue',\n",
    "    'BLU ELEOS': 'Blue',\n",
    "    'Dark Sapphire': 'Navy',\n",
    "    'Tangerine': 'Orange',\n",
    "    'Pumpkin': 'Orange',\n",
    "    'Clementine': 'Orange',\n",
    "    'Granite': 'Gray',\n",
    "    'Go Mango!': 'Yellow',\n",
    "    'Onyx': 'Black',\n",
    "    'Gecko Pearlcoat': 'Green',\n",
    "    'Obsidian': 'Black',\n",
    "    'Metallic': 'Silver',\n",
    "    'Grigio Nimbus': 'Silver',\n",
    "    'Chalk': 'White',\n",
    "    'Bianco Monocerus': 'White',\n",
    "    'Verde': 'Green',\n",
    "    'Dark Graphite Metallic': 'Gray',\n",
    "    'BLACK': 'Black',\n",
    "    'Dark Moss': 'Green',\n",
    "    'Granite Crystal Clearcoat Metallic': 'Gray',\n",
    "    'Ebony Twilight Metallic': 'Black',\n",
    "    'Satin Steel Metallic': 'Silver',\n",
    "    'Magnetic Metallic': 'Gray',\n",
    "    'Dark Matter Metallic': 'Gray',\n",
    "    'Dark Ash Metallic': 'Gray',\n",
    "    'Iridium Metallic': 'Gray',\n",
    "    'Nightfall Mica': 'Navy',\n",
    "    'Sandstone Metallic': 'Beige',\n",
    "    'Rift Metallic': 'White',\n",
    "    'Billet Clearcoat Metallic': 'Silver',\n",
    "    'Tan': 'Beige',\n",
    "    'Ice': 'Blue',\n",
    "    'Hellayella': 'Yellow',\n",
    "    'Granite': 'Gray',\n",
    "    'Yulong': 'White',\n",
    "    'Blueprint': 'Navy',\n",
    "    'Arancio Borealis': 'Orange',\n",
    "    'Hellayella Clearcoat': 'Yellow',\n",
    "    'Moonlight Cloud': 'Navy',\n",
    "    'Liquid Platinum': 'Silver',\n",
    "    'Gun Metallic': 'Gray',\n",
    "    'Manhattan Noir Metallic': 'Gray',\n",
    "    'Lavender': 'Purple',\n",
    "    'Violet': 'Purple',\n",
    "    'Pink': 'Purple',\n",
    "    'Mauve': 'Plum',\n",
    "    'Tempest': 'Blue',\n",
    "    'Nero Daytona': 'Black',\n",
    "    'Scarlet Ember': 'Red',\n",
    "    'Infrared Tintcoat': 'Red',\n",
    "    'Maximum Steel Metallic': 'Gray',\n",
    "    'Ember Pearlcoat': 'Brown',\n",
    "    'Rich Garnet Metallic': 'Brown',\n",
    "    'Tungsten Metallic': 'Gray',\n",
    "    'Nero Noctis': 'Black',\n",
    "    'Platinum Quartz Metallic': 'White',\n",
    "    'Ruby Flare Pearl': 'Red',\n",
    "    'Bianco Icarus Metallic': 'White',\n",
    "    'Stormy Sea': 'Blue',\n",
    "    'Mountain Air Metallic': 'Blue',\n",
    "    'Wind Chill Pearl': 'White',\n",
    "    'Iridescent Pearl Tricoat': 'White',\n",
    "    'Black Cherry': 'Plum',\n",
    "    'Black Forest Green': 'Green',\n",
    "    'Maroon': 'Red',\n",
    "    'Rosso': 'Red',\n",
    "    'Rosso Corsa': 'Red',\n",
    "    'Rosso Mars Metallic': 'Red',\n",
    "    'Quicksilver Metallic': 'Silver',\n",
    "    'Designo Magno Matte': 'Gray',\n",
    "    'Granite Crystal Metallic Clearcoat': 'Gray',\n",
    "    'Bianco Isis': 'White',\n",
    "    'Sunset Drift Chromaflair': 'Orange',\n",
    "    'Ametrin Metallic': 'Plum',\n",
    "    'GT SILVER': 'Silver',\n",
    "    'Caviar': 'Black'\n",
    "}"
   ]
  },
  {
   "cell_type": "code",
   "execution_count": 13,
   "id": "18e44ab0",
   "metadata": {
    "execution": {
     "iopub.execute_input": "2024-09-17T05:13:37.624486Z",
     "iopub.status.busy": "2024-09-17T05:13:37.624180Z",
     "iopub.status.idle": "2024-09-17T05:13:41.121236Z",
     "shell.execute_reply": "2024-09-17T05:13:41.120457Z"
    },
    "papermill": {
     "duration": 3.511675,
     "end_time": "2024-09-17T05:13:41.123616",
     "exception": false,
     "start_time": "2024-09-17T05:13:37.611941",
     "status": "completed"
    },
    "tags": []
   },
   "outputs": [],
   "source": [
    "def standardize_and_extract_colors(df, int_replacements, ext_replacements):\n",
    "    # Step 1: Apply specific color replacements to standardize color names\n",
    "    df['int_col'] = df['int_col'].replace(int_replacements)\n",
    "    df['ext_col'] = df['ext_col'].replace(ext_replacements)\n",
    "    \n",
    "    # Ensure both columns are lowercase after replacements\n",
    "    df['int_col'] = df['int_col'].str.lower()\n",
    "    df['ext_col'] = df['ext_col'].str.lower()\n",
    "\n",
    "    # Define a list of common base colors\n",
    "    base_colors = [\n",
    "    'black', 'white', 'gray', 'silver', 'brown', 'red', 'blue', 'green',\n",
    "    'beige', 'tan', 'orange', 'yellow', 'purple', 'plum', 'charcoal', \n",
    "    'ivory', 'camel', 'chestnut', 'pearl', 'linen', 'graphite', 'copper', \n",
    "    'slate', 'bronze', 'sand', 'amber', 'macchiato', 'ebony', 'cocoa', 'navy'\n",
    "    ]\n",
    "\n",
    "    \n",
    "    # Function to find base color\n",
    "    def find_base_color(text):\n",
    "        for color in base_colors:\n",
    "            if color in text:\n",
    "                return color\n",
    "        return text\n",
    "    \n",
    "    # Step 2: Apply base color extraction after standardization\n",
    "    df['int_col'] = df['int_col'].apply(find_base_color)\n",
    "    df['ext_col'] = df['ext_col'].apply(find_base_color)\n",
    "\n",
    "    return df\n",
    "\n",
    "dt = standardize_and_extract_colors(dt, int_replacements, ext_replacements)\n",
    "df = standardize_and_extract_colors(df, int_replacements, ext_replacements)\n"
   ]
  },
  {
   "cell_type": "code",
   "execution_count": 14,
   "id": "1937893d",
   "metadata": {
    "execution": {
     "iopub.execute_input": "2024-09-17T05:13:41.145990Z",
     "iopub.status.busy": "2024-09-17T05:13:41.145242Z",
     "iopub.status.idle": "2024-09-17T05:13:41.388817Z",
     "shell.execute_reply": "2024-09-17T05:13:41.387881Z"
    },
    "papermill": {
     "duration": 0.256678,
     "end_time": "2024-09-17T05:13:41.390843",
     "exception": false,
     "start_time": "2024-09-17T05:13:41.134165",
     "status": "completed"
    },
    "tags": []
   },
   "outputs": [
    {
     "data": {
      "text/plain": [
       "(id                      0\n",
       " brand                   0\n",
       " model                   0\n",
       " model_year              0\n",
       " milage                  0\n",
       " fuel_type             177\n",
       " engine                  0\n",
       " transmission            0\n",
       " ext_col                 0\n",
       " int_col                 0\n",
       " accident             2452\n",
       " clean_title             0\n",
       " price                   0\n",
       " horsepower          33259\n",
       " engine_size         14214\n",
       " cylinders           37855\n",
       " Vehicle_Age             0\n",
       " Mileage_per_Year        0\n",
       " Is_Luxury_Brand         0\n",
       " dtype: int64,\n",
       " id                      0\n",
       " brand                   0\n",
       " model                   0\n",
       " model_year              0\n",
       " milage                  0\n",
       " fuel_type             111\n",
       " engine                  0\n",
       " transmission            0\n",
       " ext_col                 0\n",
       " int_col                 0\n",
       " accident             1632\n",
       " clean_title             0\n",
       " horsepower          22181\n",
       " engine_size          9407\n",
       " cylinders           25150\n",
       " Vehicle_Age             0\n",
       " Mileage_per_Year        0\n",
       " Is_Luxury_Brand         0\n",
       " dtype: int64)"
      ]
     },
     "execution_count": 14,
     "metadata": {},
     "output_type": "execute_result"
    }
   ],
   "source": [
    "df.isnull().sum(),dt.isnull().sum()"
   ]
  },
  {
   "cell_type": "markdown",
   "id": "cdabaa66",
   "metadata": {
    "papermill": {
     "duration": 0.009894,
     "end_time": "2024-09-17T05:13:41.411091",
     "exception": false,
     "start_time": "2024-09-17T05:13:41.401197",
     "status": "completed"
    },
    "tags": []
   },
   "source": [
    "  ## <p style=\"background-color: #fdefff;color:#c12eff;display: inline-block;padding:.6rem;border-radius:.5rem;border: 1px solid #c059ff\">Dropping Useless Columns </p>"
   ]
  },
  {
   "cell_type": "code",
   "execution_count": 15,
   "id": "48a86a03",
   "metadata": {
    "execution": {
     "iopub.execute_input": "2024-09-17T05:13:41.432362Z",
     "iopub.status.busy": "2024-09-17T05:13:41.432078Z",
     "iopub.status.idle": "2024-09-17T05:13:41.436483Z",
     "shell.execute_reply": "2024-09-17T05:13:41.435674Z"
    },
    "papermill": {
     "duration": 0.017293,
     "end_time": "2024-09-17T05:13:41.438357",
     "exception": false,
     "start_time": "2024-09-17T05:13:41.421064",
     "status": "completed"
    },
    "tags": []
   },
   "outputs": [],
   "source": [
    "cat_feats = ['brand',  'fuel_type',  'ext_col', 'int_col', 'model',]  \n",
    "numeric_feats = ['milage', 'horsepower', 'engine_size', 'cylinders','accident','Is_Luxury_Brand','Mileage_per_Year','Vehicle_Age','cylinders'] "
   ]
  },
  {
   "cell_type": "code",
   "execution_count": 16,
   "id": "b8f35fb6",
   "metadata": {
    "execution": {
     "iopub.execute_input": "2024-09-17T05:13:41.459722Z",
     "iopub.status.busy": "2024-09-17T05:13:41.458992Z",
     "iopub.status.idle": "2024-09-17T05:13:42.353163Z",
     "shell.execute_reply": "2024-09-17T05:13:42.352196Z"
    },
    "papermill": {
     "duration": 0.906759,
     "end_time": "2024-09-17T05:13:42.355218",
     "exception": false,
     "start_time": "2024-09-17T05:13:41.448459",
     "status": "completed"
    },
    "tags": []
   },
   "outputs": [
    {
     "data": {
      "image/png": "[encoded data removed]",
      "text/plain": [
       "<Figure size 1600x100 with 2 Axes>"
      ]
     },
     "metadata": {},
     "output_type": "display_data"
    }
   ],
   "source": [
    "temp=df.dropna()\n",
    "temp=temp.apply(lambda x : pd.factorize(x)[0] if x.dtype=='object'else x)\n",
    "plt.figure(figsize=(16,1))\n",
    "sns.heatmap(temp.corr()[12:13],annot=True,cmap='coolwarm')\n",
    "plt.show()"
   ]
  },
  {
   "cell_type": "code",
   "execution_count": 17,
   "id": "861c59e2",
   "metadata": {
    "execution": {
     "iopub.execute_input": "2024-09-17T05:13:42.378259Z",
     "iopub.status.busy": "2024-09-17T05:13:42.377946Z",
     "iopub.status.idle": "2024-09-17T05:13:42.422717Z",
     "shell.execute_reply": "2024-09-17T05:13:42.421815Z"
    },
    "papermill": {
     "duration": 0.058195,
     "end_time": "2024-09-17T05:13:42.424777",
     "exception": false,
     "start_time": "2024-09-17T05:13:42.366582",
     "status": "completed"
    },
    "tags": []
   },
   "outputs": [],
   "source": [
    "df=df.drop(['id','engine','transmission','model_year'],axis=1)\n",
    "dt=dt.drop(['id','engine','transmission','model_year'],axis=1)"
   ]
  },
  {
   "cell_type": "code",
   "execution_count": 18,
   "id": "e2624723",
   "metadata": {
    "execution": {
     "iopub.execute_input": "2024-09-17T05:13:42.448161Z",
     "iopub.status.busy": "2024-09-17T05:13:42.447429Z",
     "iopub.status.idle": "2024-09-17T05:13:42.563077Z",
     "shell.execute_reply": "2024-09-17T05:13:42.561738Z"
    },
    "papermill": {
     "duration": 0.129926,
     "end_time": "2024-09-17T05:13:42.565513",
     "exception": false,
     "start_time": "2024-09-17T05:13:42.435587",
     "status": "completed"
    },
    "tags": []
   },
   "outputs": [
    {
     "name": "stdout",
     "output_type": "stream",
     "text": [
      "<class 'pandas.core.frame.DataFrame'>\n",
      "RangeIndex: 188533 entries, 0 to 188532\n",
      "Data columns (total 15 columns):\n",
      " #   Column            Non-Null Count   Dtype  \n",
      "---  ------            --------------   -----  \n",
      " 0   brand             188533 non-null  object \n",
      " 1   model             188533 non-null  object \n",
      " 2   milage            188533 non-null  int64  \n",
      " 3   fuel_type         188356 non-null  object \n",
      " 4   ext_col           188533 non-null  object \n",
      " 5   int_col           188533 non-null  object \n",
      " 6   accident          186081 non-null  float64\n",
      " 7   clean_title       188533 non-null  object \n",
      " 8   price             188533 non-null  int64  \n",
      " 9   horsepower        155274 non-null  float64\n",
      " 10  engine_size       174319 non-null  float64\n",
      " 11  cylinders         150678 non-null  float64\n",
      " 12  Vehicle_Age       188533 non-null  int64  \n",
      " 13  Mileage_per_Year  188533 non-null  float64\n",
      " 14  Is_Luxury_Brand   188533 non-null  int64  \n",
      "dtypes: float64(5), int64(4), object(6)\n",
      "memory usage: 21.6+ MB\n"
     ]
    }
   ],
   "source": [
    "df.info()"
   ]
  },
  {
   "cell_type": "markdown",
   "id": "ccbab9c9",
   "metadata": {
    "papermill": {
     "duration": 0.010444,
     "end_time": "2024-09-17T05:13:42.586842",
     "exception": false,
     "start_time": "2024-09-17T05:13:42.576398",
     "status": "completed"
    },
    "tags": []
   },
   "source": [
    "  ## <p style=\"background-color: #fdefff;color:#c12eff;display: inline-block;padding:.6rem;border-radius:.5rem;border: 1px solid #c059ff\">Handling Missing and less frequent Values</p>"
   ]
  },
  {
   "cell_type": "code",
   "execution_count": 19,
   "id": "4cc594bd",
   "metadata": {
    "execution": {
     "iopub.execute_input": "2024-09-17T05:13:42.609652Z",
     "iopub.status.busy": "2024-09-17T05:13:42.609031Z",
     "iopub.status.idle": "2024-09-17T05:13:42.857223Z",
     "shell.execute_reply": "2024-09-17T05:13:42.856400Z"
    },
    "papermill": {
     "duration": 0.262003,
     "end_time": "2024-09-17T05:13:42.859649",
     "exception": false,
     "start_time": "2024-09-17T05:13:42.597646",
     "status": "completed"
    },
    "tags": []
   },
   "outputs": [],
   "source": [
    "def cleaning(df, cat_feats, threshold=0):\n",
    "    for i in cat_feats:\n",
    "        if df[i].dtype.name == 'category':\n",
    "            if 'missing' not in df[i].cat.categories:\n",
    "                df[i] = df[i].cat.add_categories('missing')\n",
    "            if 'noise' not in df[i].cat.categories:\n",
    "                df[i] = df[i].cat.add_categories('noise')\n",
    "        else:\n",
    "            df[i] = df[i].astype('category')\n",
    "            df[i] = df[i].cat.add_categories(['missing', 'noise'])\n",
    "        \n",
    "        df[i] = df[i].fillna('missing')\n",
    "        \n",
    "        count = df[i].value_counts(dropna=False)\n",
    "        less_freq = count[count < threshold].index\n",
    "        \n",
    "        df[i] = df[i].apply(lambda x: 'noise' if x in less_freq else x)\n",
    "    \n",
    "    return df\n",
    "df = cleaning(df, cat_feats)\n",
    "dt = cleaning(dt, cat_feats) \n",
    "\n"
   ]
  },
  {
   "cell_type": "code",
   "execution_count": 20,
   "id": "194f3efa",
   "metadata": {
    "execution": {
     "iopub.execute_input": "2024-09-17T05:13:42.882605Z",
     "iopub.status.busy": "2024-09-17T05:13:42.882318Z",
     "iopub.status.idle": "2024-09-17T05:13:42.944976Z",
     "shell.execute_reply": "2024-09-17T05:13:42.944148Z"
    },
    "papermill": {
     "duration": 0.076432,
     "end_time": "2024-09-17T05:13:42.947227",
     "exception": false,
     "start_time": "2024-09-17T05:13:42.870795",
     "status": "completed"
    },
    "tags": []
   },
   "outputs": [],
   "source": [
    "def fillna(df,c):\n",
    "    df[c]=df[c].fillna(df[c].mode()[0])\n",
    "for c in numeric_feats:\n",
    "    fillna(df,c)\n",
    "    fillna(dt,c)"
   ]
  },
  {
   "cell_type": "code",
   "execution_count": 21,
   "id": "b6da7e0a",
   "metadata": {
    "execution": {
     "iopub.execute_input": "2024-09-17T05:13:42.971499Z",
     "iopub.status.busy": "2024-09-17T05:13:42.970989Z",
     "iopub.status.idle": "2024-09-17T05:13:43.421181Z",
     "shell.execute_reply": "2024-09-17T05:13:43.420030Z"
    },
    "papermill": {
     "duration": 0.464337,
     "end_time": "2024-09-17T05:13:43.423489",
     "exception": false,
     "start_time": "2024-09-17T05:13:42.959152",
     "status": "completed"
    },
    "tags": []
   },
   "outputs": [],
   "source": [
    "cat_feats = ['brand',  'fuel_type',  'ext_col', 'int_col', 'clean_title','model',]  \n",
    "for col in cat_feats :\n",
    "    le = LabelEncoder()\n",
    "    df[col] = le.fit_transform(df[col])\n",
    "    dt[col] = le.fit_transform(dt[col])  "
   ]
  },
  {
   "cell_type": "code",
   "execution_count": 22,
   "id": "0b06148c",
   "metadata": {
    "execution": {
     "iopub.execute_input": "2024-09-17T05:13:43.447062Z",
     "iopub.status.busy": "2024-09-17T05:13:43.446310Z",
     "iopub.status.idle": "2024-09-17T05:13:43.460244Z",
     "shell.execute_reply": "2024-09-17T05:13:43.459300Z"
    },
    "papermill": {
     "duration": 0.027584,
     "end_time": "2024-09-17T05:13:43.462142",
     "exception": false,
     "start_time": "2024-09-17T05:13:43.434558",
     "status": "completed"
    },
    "tags": []
   },
   "outputs": [
    {
     "data": {
      "text/plain": [
       "(brand               0\n",
       " model               0\n",
       " milage              0\n",
       " fuel_type           0\n",
       " ext_col             0\n",
       " int_col             0\n",
       " accident            0\n",
       " clean_title         0\n",
       " price               0\n",
       " horsepower          0\n",
       " engine_size         0\n",
       " cylinders           0\n",
       " Vehicle_Age         0\n",
       " Mileage_per_Year    0\n",
       " Is_Luxury_Brand     0\n",
       " dtype: int64,\n",
       " brand               0\n",
       " model               0\n",
       " milage              0\n",
       " fuel_type           0\n",
       " ext_col             0\n",
       " int_col             0\n",
       " accident            0\n",
       " clean_title         0\n",
       " horsepower          0\n",
       " engine_size         0\n",
       " cylinders           0\n",
       " Vehicle_Age         0\n",
       " Mileage_per_Year    0\n",
       " Is_Luxury_Brand     0\n",
       " dtype: int64)"
      ]
     },
     "execution_count": 22,
     "metadata": {},
     "output_type": "execute_result"
    }
   ],
   "source": [
    "df.isnull().sum(),dt.isnull().sum()"
   ]
  },
  {
   "cell_type": "code",
   "execution_count": 23,
   "id": "c87a214e",
   "metadata": {
    "execution": {
     "iopub.execute_input": "2024-09-17T05:13:43.485150Z",
     "iopub.status.busy": "2024-09-17T05:13:43.484864Z",
     "iopub.status.idle": "2024-09-17T05:13:43.965805Z",
     "shell.execute_reply": "2024-09-17T05:13:43.964804Z"
    },
    "papermill": {
     "duration": 0.49487,
     "end_time": "2024-09-17T05:13:43.967908",
     "exception": false,
     "start_time": "2024-09-17T05:13:43.473038",
     "status": "completed"
    },
    "tags": []
   },
   "outputs": [
    {
     "data": {
      "image/png": "[encoded data removed]",
      "text/plain": [
       "<Figure size 1600x100 with 2 Axes>"
      ]
     },
     "metadata": {},
     "output_type": "display_data"
    }
   ],
   "source": [
    "temp=df.dropna()\n",
    "temp=temp.apply(lambda x : pd.factorize(x)[0] if x.dtype=='object'else x)\n",
    "plt.figure(figsize=(16,1))\n",
    "sns.heatmap(temp.corr()[7:8],annot=True,cmap='coolwarm')\n",
    "plt.show()"
   ]
  },
  {
   "cell_type": "markdown",
   "id": "a1f51860",
   "metadata": {
    "papermill": {
     "duration": 0.01137,
     "end_time": "2024-09-17T05:13:43.991478",
     "exception": false,
     "start_time": "2024-09-17T05:13:43.980108",
     "status": "completed"
    },
    "tags": []
   },
   "source": [
    "  ## <p style=\"background-color: #fdefff;color:#c12eff;display: inline-block;padding:.6rem;border-radius:.5rem;border: 1px solid #c059ff\">Splitting  data</p>"
   ]
  },
  {
   "cell_type": "code",
   "execution_count": 24,
   "id": "97f7dfda",
   "metadata": {
    "execution": {
     "iopub.execute_input": "2024-09-17T05:13:44.015675Z",
     "iopub.status.busy": "2024-09-17T05:13:44.015373Z",
     "iopub.status.idle": "2024-09-17T05:13:44.028425Z",
     "shell.execute_reply": "2024-09-17T05:13:44.027588Z"
    },
    "papermill": {
     "duration": 0.027048,
     "end_time": "2024-09-17T05:13:44.030303",
     "exception": false,
     "start_time": "2024-09-17T05:13:44.003255",
     "status": "completed"
    },
    "tags": []
   },
   "outputs": [
    {
     "data": {
      "text/plain": [
       "((188533, 14), (188533,))"
      ]
     },
     "execution_count": 24,
     "metadata": {},
     "output_type": "execute_result"
    }
   ],
   "source": [
    "X = df.drop(['price'], axis=1)\n",
    "X.shape,y.shape"
   ]
  },
  {
   "cell_type": "code",
   "execution_count": 25,
   "id": "bd6329d0",
   "metadata": {
    "execution": {
     "iopub.execute_input": "2024-09-17T05:13:44.054150Z",
     "iopub.status.busy": "2024-09-17T05:13:44.053871Z",
     "iopub.status.idle": "2024-09-17T05:13:44.111895Z",
     "shell.execute_reply": "2024-09-17T05:13:44.110798Z"
    },
    "papermill": {
     "duration": 0.072618,
     "end_time": "2024-09-17T05:13:44.114294",
     "exception": false,
     "start_time": "2024-09-17T05:13:44.041676",
     "status": "completed"
    },
    "tags": []
   },
   "outputs": [],
   "source": [
    "from sklearn.preprocessing import MinMaxScaler\n",
    "\n",
    "numerical_columns = ['brand', 'milage', 'fuel_type', 'ext_col', 'int_col', 'accident',\n",
    "                     'clean_title', 'horsepower', 'engine_size', 'cylinders',\n",
    "                     'Vehicle_Age', 'Mileage_per_Year', 'Is_Luxury_Brand']\n",
    "\n",
    "scaler = MinMaxScaler()\n",
    "\n",
    "X[numerical_columns] = scaler.fit_transform(X[numerical_columns])\n",
    "dt[numerical_columns] = scaler.transform(dt[numerical_columns])"
   ]
  },
  {
   "cell_type": "code",
   "execution_count": 26,
   "id": "c084b495",
   "metadata": {
    "execution": {
     "iopub.execute_input": "2024-09-17T05:13:44.139139Z",
     "iopub.status.busy": "2024-09-17T05:13:44.138587Z",
     "iopub.status.idle": "2024-09-17T05:13:44.177827Z",
     "shell.execute_reply": "2024-09-17T05:13:44.176768Z"
    },
    "papermill": {
     "duration": 0.053972,
     "end_time": "2024-09-17T05:13:44.180153",
     "exception": false,
     "start_time": "2024-09-17T05:13:44.126181",
     "status": "completed"
    },
    "tags": []
   },
   "outputs": [],
   "source": [
    "X_train, X_val, y_train, y_val = train_test_split(X, y, test_size=0.17, random_state=8)"
   ]
  },
  {
   "cell_type": "markdown",
   "id": "1d35a7c5",
   "metadata": {
    "papermill": {
     "duration": 0.011177,
     "end_time": "2024-09-17T05:13:44.203308",
     "exception": false,
     "start_time": "2024-09-17T05:13:44.192131",
     "status": "completed"
    },
    "tags": []
   },
   "source": [
    "  ## <p style=\"background-color: #fdefff;color:#c12eff;display: inline-block;padding:.6rem;border-radius:.5rem;border: 1px solid #c059ff\">Using DeepLearning</p>"
   ]
  },
  {
   "cell_type": "code",
   "execution_count": 27,
   "id": "9a9f1243",
   "metadata": {
    "execution": {
     "iopub.execute_input": "2024-09-17T05:13:44.227828Z",
     "iopub.status.busy": "2024-09-17T05:13:44.227511Z",
     "iopub.status.idle": "2024-09-17T05:15:47.090791Z",
     "shell.execute_reply": "2024-09-17T05:15:47.089883Z"
    },
    "papermill": {
     "duration": 122.877686,
     "end_time": "2024-09-17T05:15:47.092721",
     "exception": false,
     "start_time": "2024-09-17T05:13:44.215035",
     "status": "completed"
    },
    "tags": []
   },
   "outputs": [
    {
     "name": "stdout",
     "output_type": "stream",
     "text": [
      "Epoch 1/109\n"
     ]
    },
    {
     "name": "stderr",
     "output_type": "stream",
     "text": [
      "WARNING: All log messages before absl::InitializeLog() is called are written to STDERR\n",
      "I0000 00:00:1726550027.451138      70 service.cc:145] XLA service 0x791184005c60 initialized for platform CUDA (this does not guarantee that XLA will be used). Devices:\n",
      "I0000 00:00:1726550027.451185      70 service.cc:153]   StreamExecutor device (0): Tesla T4, Compute Capability 7.5\n",
      "I0000 00:00:1726550027.451188      70 service.cc:153]   StreamExecutor device (1): Tesla T4, Compute Capability 7.5\n"
     ]
    },
    {
     "name": "stdout",
     "output_type": "stream",
     "text": [
      "\u001b[1m  92/1223\u001b[0m \u001b[32m━\u001b[0m\u001b[37m━━━━━━━━━━━━━━━━━━━\u001b[0m \u001b[1m1s\u001b[0m 2ms/step - loss: 10423820288.0000"
     ]
    },
    {
     "name": "stderr",
     "output_type": "stream",
     "text": [
      "I0000 00:00:1726550031.300149      70 device_compiler.h:188] Compiled cluster using XLA!  This line is logged at most once for the lifetime of the process.\n"
     ]
    },
    {
     "name": "stdout",
     "output_type": "stream",
     "text": [
      "\u001b[1m1223/1223\u001b[0m \u001b[32m━━━━━━━━━━━━━━━━━━━━\u001b[0m\u001b[37m\u001b[0m \u001b[1m12s\u001b[0m 5ms/step - loss: 7560698880.0000 - val_loss: 8245671936.0000 - learning_rate: 0.0010\n",
      "Epoch 2/109\n",
      "\u001b[1m1223/1223\u001b[0m \u001b[32m━━━━━━━━━━━━━━━━━━━━\u001b[0m\u001b[37m\u001b[0m \u001b[1m2s\u001b[0m 2ms/step - loss: 8057467392.0000 - val_loss: 8124502528.0000 - learning_rate: 0.0010\n",
      "Epoch 3/109\n",
      "\u001b[1m1223/1223\u001b[0m \u001b[32m━━━━━━━━━━━━━━━━━━━━\u001b[0m\u001b[37m\u001b[0m \u001b[1m2s\u001b[0m 2ms/step - loss: 8362173440.0000 - val_loss: 8250158592.0000 - learning_rate: 0.0010\n",
      "Epoch 4/109\n",
      "\u001b[1m1223/1223\u001b[0m \u001b[32m━━━━━━━━━━━━━━━━━━━━\u001b[0m\u001b[37m\u001b[0m \u001b[1m2s\u001b[0m 2ms/step - loss: 8147393024.0000 - val_loss: 7874099712.0000 - learning_rate: 0.0010\n",
      "Epoch 5/109\n",
      "\u001b[1m1223/1223\u001b[0m \u001b[32m━━━━━━━━━━━━━━━━━━━━\u001b[0m\u001b[37m\u001b[0m \u001b[1m2s\u001b[0m 2ms/step - loss: 6970440192.0000 - val_loss: 7876891136.0000 - learning_rate: 0.0010\n",
      "Epoch 6/109\n",
      "\u001b[1m1223/1223\u001b[0m \u001b[32m━━━━━━━━━━━━━━━━━━━━\u001b[0m\u001b[37m\u001b[0m \u001b[1m2s\u001b[0m 2ms/step - loss: 8297034240.0000 - val_loss: 7609248768.0000 - learning_rate: 0.0010\n",
      "Epoch 7/109\n",
      "\u001b[1m1223/1223\u001b[0m \u001b[32m━━━━━━━━━━━━━━━━━━━━\u001b[0m\u001b[37m\u001b[0m \u001b[1m2s\u001b[0m 2ms/step - loss: 7436667904.0000 - val_loss: 7691786240.0000 - learning_rate: 0.0010\n",
      "Epoch 8/109\n",
      "\u001b[1m1223/1223\u001b[0m \u001b[32m━━━━━━━━━━━━━━━━━━━━\u001b[0m\u001b[37m\u001b[0m \u001b[1m2s\u001b[0m 2ms/step - loss: 6730401792.0000 - val_loss: 7014234624.0000 - learning_rate: 0.0010\n",
      "Epoch 9/109\n",
      "\u001b[1m1223/1223\u001b[0m \u001b[32m━━━━━━━━━━━━━━━━━━━━\u001b[0m\u001b[37m\u001b[0m \u001b[1m2s\u001b[0m 2ms/step - loss: 7202259456.0000 - val_loss: 6309617152.0000 - learning_rate: 0.0010\n",
      "Epoch 10/109\n",
      "\u001b[1m1223/1223\u001b[0m \u001b[32m━━━━━━━━━━━━━━━━━━━━\u001b[0m\u001b[37m\u001b[0m \u001b[1m3s\u001b[0m 2ms/step - loss: 6672941056.0000 - val_loss: 6322282496.0000 - learning_rate: 0.0010\n",
      "Epoch 11/109\n",
      "\u001b[1m1223/1223\u001b[0m \u001b[32m━━━━━━━━━━━━━━━━━━━━\u001b[0m\u001b[37m\u001b[0m \u001b[1m2s\u001b[0m 2ms/step - loss: 6793759744.0000 - val_loss: 6152184320.0000 - learning_rate: 0.0010\n",
      "Epoch 12/109\n",
      "\u001b[1m1223/1223\u001b[0m \u001b[32m━━━━━━━━━━━━━━━━━━━━\u001b[0m\u001b[37m\u001b[0m \u001b[1m2s\u001b[0m 2ms/step - loss: 6854609920.0000 - val_loss: 6797912064.0000 - learning_rate: 0.0010\n",
      "Epoch 13/109\n",
      "\u001b[1m1223/1223\u001b[0m \u001b[32m━━━━━━━━━━━━━━━━━━━━\u001b[0m\u001b[37m\u001b[0m \u001b[1m2s\u001b[0m 2ms/step - loss: 5939785216.0000 - val_loss: 7073399296.0000 - learning_rate: 0.0010\n",
      "Epoch 14/109\n",
      "\u001b[1m1223/1223\u001b[0m \u001b[32m━━━━━━━━━━━━━━━━━━━━\u001b[0m\u001b[37m\u001b[0m \u001b[1m2s\u001b[0m 2ms/step - loss: 5774824960.0000 - val_loss: 5919942656.0000 - learning_rate: 0.0010\n",
      "Epoch 15/109\n",
      "\u001b[1m1223/1223\u001b[0m \u001b[32m━━━━━━━━━━━━━━━━━━━━\u001b[0m\u001b[37m\u001b[0m \u001b[1m2s\u001b[0m 2ms/step - loss: 6080867328.0000 - val_loss: 6218973184.0000 - learning_rate: 0.0010\n",
      "Epoch 16/109\n",
      "\u001b[1m1223/1223\u001b[0m \u001b[32m━━━━━━━━━━━━━━━━━━━━\u001b[0m\u001b[37m\u001b[0m \u001b[1m2s\u001b[0m 2ms/step - loss: 6574668288.0000 - val_loss: 5672317952.0000 - learning_rate: 0.0010\n",
      "Epoch 17/109\n",
      "\u001b[1m1223/1223\u001b[0m \u001b[32m━━━━━━━━━━━━━━━━━━━━\u001b[0m\u001b[37m\u001b[0m \u001b[1m2s\u001b[0m 2ms/step - loss: 5597952000.0000 - val_loss: 5665533440.0000 - learning_rate: 0.0010\n",
      "Epoch 18/109\n",
      "\u001b[1m1223/1223\u001b[0m \u001b[32m━━━━━━━━━━━━━━━━━━━━\u001b[0m\u001b[37m\u001b[0m \u001b[1m2s\u001b[0m 2ms/step - loss: 5537643520.0000 - val_loss: 5802371072.0000 - learning_rate: 0.0010\n",
      "Epoch 19/109\n",
      "\u001b[1m1223/1223\u001b[0m \u001b[32m━━━━━━━━━━━━━━━━━━━━\u001b[0m\u001b[37m\u001b[0m \u001b[1m2s\u001b[0m 2ms/step - loss: 5641676288.0000 - val_loss: 5831817728.0000 - learning_rate: 0.0010\n",
      "Epoch 20/109\n",
      "\u001b[1m1223/1223\u001b[0m \u001b[32m━━━━━━━━━━━━━━━━━━━━\u001b[0m\u001b[37m\u001b[0m \u001b[1m2s\u001b[0m 2ms/step - loss: 5212020736.0000 - val_loss: 5550262272.0000 - learning_rate: 0.0010\n",
      "Epoch 21/109\n",
      "\u001b[1m1223/1223\u001b[0m \u001b[32m━━━━━━━━━━━━━━━━━━━━\u001b[0m\u001b[37m\u001b[0m \u001b[1m2s\u001b[0m 2ms/step - loss: 5673306624.0000 - val_loss: 5571507200.0000 - learning_rate: 0.0010\n",
      "Epoch 22/109\n",
      "\u001b[1m1223/1223\u001b[0m \u001b[32m━━━━━━━━━━━━━━━━━━━━\u001b[0m\u001b[37m\u001b[0m \u001b[1m2s\u001b[0m 2ms/step - loss: 6341638144.0000 - val_loss: 5549147648.0000 - learning_rate: 0.0010\n",
      "Epoch 23/109\n",
      "\u001b[1m1223/1223\u001b[0m \u001b[32m━━━━━━━━━━━━━━━━━━━━\u001b[0m\u001b[37m\u001b[0m \u001b[1m2s\u001b[0m 2ms/step - loss: 5298985472.0000 - val_loss: 6160486912.0000 - learning_rate: 0.0010\n",
      "Epoch 24/109\n",
      "\u001b[1m1223/1223\u001b[0m \u001b[32m━━━━━━━━━━━━━━━━━━━━\u001b[0m\u001b[37m\u001b[0m \u001b[1m3s\u001b[0m 2ms/step - loss: 5251558400.0000 - val_loss: 5529723392.0000 - learning_rate: 0.0010\n",
      "Epoch 25/109\n",
      "\u001b[1m1223/1223\u001b[0m \u001b[32m━━━━━━━━━━━━━━━━━━━━\u001b[0m\u001b[37m\u001b[0m \u001b[1m2s\u001b[0m 2ms/step - loss: 6074945024.0000 - val_loss: 5601707520.0000 - learning_rate: 0.0010\n",
      "Epoch 26/109\n",
      "\u001b[1m1223/1223\u001b[0m \u001b[32m━━━━━━━━━━━━━━━━━━━━\u001b[0m\u001b[37m\u001b[0m \u001b[1m2s\u001b[0m 2ms/step - loss: 6093212672.0000 - val_loss: 5663396864.0000 - learning_rate: 0.0010\n",
      "Epoch 27/109\n",
      "\u001b[1m1223/1223\u001b[0m \u001b[32m━━━━━━━━━━━━━━━━━━━━\u001b[0m\u001b[37m\u001b[0m \u001b[1m2s\u001b[0m 2ms/step - loss: 5582627328.0000 - val_loss: 6760680960.0000 - learning_rate: 0.0010\n",
      "Epoch 28/109\n",
      "\u001b[1m1223/1223\u001b[0m \u001b[32m━━━━━━━━━━━━━━━━━━━━\u001b[0m\u001b[37m\u001b[0m \u001b[1m2s\u001b[0m 2ms/step - loss: 5266552320.0000 - val_loss: 5594853888.0000 - learning_rate: 0.0010\n",
      "Epoch 29/109\n",
      "\u001b[1m1223/1223\u001b[0m \u001b[32m━━━━━━━━━━━━━━━━━━━━\u001b[0m\u001b[37m\u001b[0m \u001b[1m2s\u001b[0m 2ms/step - loss: 5373293568.0000 - val_loss: 6539308544.0000 - learning_rate: 0.0010\n",
      "Epoch 30/109\n",
      "\u001b[1m1223/1223\u001b[0m \u001b[32m━━━━━━━━━━━━━━━━━━━━\u001b[0m\u001b[37m\u001b[0m \u001b[1m2s\u001b[0m 2ms/step - loss: 5573111808.0000 - val_loss: 5664045568.0000 - learning_rate: 0.0010\n",
      "Epoch 31/109\n",
      "\u001b[1m1223/1223\u001b[0m \u001b[32m━━━━━━━━━━━━━━━━━━━━\u001b[0m\u001b[37m\u001b[0m \u001b[1m2s\u001b[0m 2ms/step - loss: 5258505728.0000 - val_loss: 5818455552.0000 - learning_rate: 0.0010\n",
      "Epoch 32/109\n",
      "\u001b[1m1223/1223\u001b[0m \u001b[32m━━━━━━━━━━━━━━━━━━━━\u001b[0m\u001b[37m\u001b[0m \u001b[1m2s\u001b[0m 2ms/step - loss: 6050193408.0000 - val_loss: 6079631872.0000 - learning_rate: 0.0010\n",
      "Epoch 33/109\n",
      "\u001b[1m1223/1223\u001b[0m \u001b[32m━━━━━━━━━━━━━━━━━━━━\u001b[0m\u001b[37m\u001b[0m \u001b[1m2s\u001b[0m 2ms/step - loss: 4677479936.0000 - val_loss: 6520982528.0000 - learning_rate: 0.0010\n",
      "Epoch 34/109\n",
      "\u001b[1m1223/1223\u001b[0m \u001b[32m━━━━━━━━━━━━━━━━━━━━\u001b[0m\u001b[37m\u001b[0m \u001b[1m2s\u001b[0m 2ms/step - loss: 5637252608.0000 - val_loss: 5572534272.0000 - learning_rate: 0.0010\n",
      "Epoch 35/109\n",
      "\u001b[1m1223/1223\u001b[0m \u001b[32m━━━━━━━━━━━━━━━━━━━━\u001b[0m\u001b[37m\u001b[0m \u001b[1m2s\u001b[0m 2ms/step - loss: 5400591360.0000 - val_loss: 5593108992.0000 - learning_rate: 0.0010\n",
      "Epoch 36/109\n",
      "\u001b[1m1223/1223\u001b[0m \u001b[32m━━━━━━━━━━━━━━━━━━━━\u001b[0m\u001b[37m\u001b[0m \u001b[1m2s\u001b[0m 2ms/step - loss: 5775328256.0000 - val_loss: 5702561792.0000 - learning_rate: 0.0010\n",
      "Epoch 37/109\n",
      "\u001b[1m1223/1223\u001b[0m \u001b[32m━━━━━━━━━━━━━━━━━━━━\u001b[0m\u001b[37m\u001b[0m \u001b[1m2s\u001b[0m 2ms/step - loss: 5627601408.0000 - val_loss: 5893766144.0000 - learning_rate: 0.0010\n",
      "Epoch 38/109\n",
      "\u001b[1m1223/1223\u001b[0m \u001b[32m━━━━━━━━━━━━━━━━━━━━\u001b[0m\u001b[37m\u001b[0m \u001b[1m2s\u001b[0m 2ms/step - loss: 5002503680.0000 - val_loss: 5738802688.0000 - learning_rate: 0.0010\n",
      "Epoch 39/109\n",
      "\u001b[1m1223/1223\u001b[0m \u001b[32m━━━━━━━━━━━━━━━━━━━━\u001b[0m\u001b[37m\u001b[0m \u001b[1m2s\u001b[0m 2ms/step - loss: 5956276736.0000 - val_loss: 5580548608.0000 - learning_rate: 0.0010\n",
      "Epoch 40/109\n",
      "\u001b[1m1223/1223\u001b[0m \u001b[32m━━━━━━━━━━━━━━━━━━━━\u001b[0m\u001b[37m\u001b[0m \u001b[1m2s\u001b[0m 2ms/step - loss: 5579764736.0000 - val_loss: 7608965120.0000 - learning_rate: 0.0010\n",
      "Epoch 41/109\n",
      "\u001b[1m1223/1223\u001b[0m \u001b[32m━━━━━━━━━━━━━━━━━━━━\u001b[0m\u001b[37m\u001b[0m \u001b[1m2s\u001b[0m 2ms/step - loss: 5579902464.0000 - val_loss: 6321410048.0000 - learning_rate: 0.0010\n",
      "Epoch 42/109\n",
      "\u001b[1m1223/1223\u001b[0m \u001b[32m━━━━━━━━━━━━━━━━━━━━\u001b[0m\u001b[37m\u001b[0m \u001b[1m2s\u001b[0m 2ms/step - loss: 4614563328.0000 - val_loss: 5620781056.0000 - learning_rate: 0.0010\n",
      "Epoch 43/109\n",
      "\u001b[1m1223/1223\u001b[0m \u001b[32m━━━━━━━━━━━━━━━━━━━━\u001b[0m\u001b[37m\u001b[0m \u001b[1m2s\u001b[0m 2ms/step - loss: 5433366016.0000 - val_loss: 5723447808.0000 - learning_rate: 0.0010\n",
      "Epoch 44/109\n",
      "\u001b[1m1223/1223\u001b[0m \u001b[32m━━━━━━━━━━━━━━━━━━━━\u001b[0m\u001b[37m\u001b[0m \u001b[1m2s\u001b[0m 2ms/step - loss: 5546221056.0000 - val_loss: 5647535104.0000 - learning_rate: 0.0010\n",
      "Epoch 45/109\n",
      "\u001b[1m1223/1223\u001b[0m \u001b[32m━━━━━━━━━━━━━━━━━━━━\u001b[0m\u001b[37m\u001b[0m \u001b[1m2s\u001b[0m 2ms/step - loss: 5583093248.0000 - val_loss: 5754982912.0000 - learning_rate: 0.0010\n",
      "Epoch 46/109\n",
      "\u001b[1m1223/1223\u001b[0m \u001b[32m━━━━━━━━━━━━━━━━━━━━\u001b[0m\u001b[37m\u001b[0m \u001b[1m2s\u001b[0m 2ms/step - loss: 5523267072.0000 - val_loss: 5915319296.0000 - learning_rate: 0.0010\n",
      "Epoch 47/109\n",
      "\u001b[1m1223/1223\u001b[0m \u001b[32m━━━━━━━━━━━━━━━━━━━━\u001b[0m\u001b[37m\u001b[0m \u001b[1m2s\u001b[0m 2ms/step - loss: 5956854272.0000 - val_loss: 5576948736.0000 - learning_rate: 0.0010\n",
      "Epoch 48/109\n",
      "\u001b[1m1223/1223\u001b[0m \u001b[32m━━━━━━━━━━━━━━━━━━━━\u001b[0m\u001b[37m\u001b[0m \u001b[1m2s\u001b[0m 2ms/step - loss: 5127688192.0000 - val_loss: 5614107136.0000 - learning_rate: 0.0010\n"
     ]
    },
    {
     "data": {
      "image/png": "[encoded data removed]",
      "text/plain": [
       "<Figure size 1100x1000 with 1 Axes>"
      ]
     },
     "metadata": {},
     "output_type": "display_data"
    }
   ],
   "source": [
    "model = Sequential([\n",
    "    Input(shape=(X_train.shape[1],)),\n",
    "    Dense(128, activation='relu'),\n",
    "    BatchNormalization(),\n",
    "    Dropout(0.13),\n",
    "    Dense(128, activation='relu'),\n",
    "    BatchNormalization(),\n",
    "    Dropout(0.1),\n",
    "    Dense(64, activation='relu'),\n",
    "    BatchNormalization(),\n",
    "    Dense(1, activation='linear')  \n",
    "])\n",
    "\n",
    "# Compile the model\n",
    "model.compile(loss='mean_squared_error', optimizer=Adam(learning_rate=0.001))\n",
    "\n",
    "# # Define callbacks\n",
    "es = EarlyStopping(monitor='val_loss', patience=24, restore_best_weights=True)\n",
    "lr = ReduceLROnPlateau(monitor='val_loss', factor=0.1, patience=24, min_lr=1e-6)\n",
    "\n",
    "history = model.fit(X_train, y_train, epochs=109, batch_size=128, validation_data=(X_val, y_val),\n",
    "                    callbacks=[es, lr]\n",
    "                   )\n",
    "\n",
    "# Plotting\n",
    "plt.figure(figsize=(11, 10))\n",
    "\n",
    "plt.plot(history.history['loss'])\n",
    "plt.plot(history.history['val_loss'])\n",
    "plt.title('Model Loss')\n",
    "plt.xlabel('Epoch')\n",
    "\n",
    "plt.ylabel('Loss')\n",
    "plt.legend(['Train', 'Validation'])\n",
    "\n",
    "plt.show()"
   ]
  },
  {
   "cell_type": "code",
   "execution_count": 28,
   "id": "342adafa",
   "metadata": {
    "execution": {
     "iopub.execute_input": "2024-09-17T05:15:47.472919Z",
     "iopub.status.busy": "2024-09-17T05:15:47.472504Z",
     "iopub.status.idle": "2024-09-17T05:15:47.524481Z",
     "shell.execute_reply": "2024-09-17T05:15:47.523763Z"
    },
    "papermill": {
     "duration": 0.224608,
     "end_time": "2024-09-17T05:15:47.526556",
     "exception": false,
     "start_time": "2024-09-17T05:15:47.301948",
     "status": "completed"
    },
    "tags": []
   },
   "outputs": [],
   "source": [
    "model.save('model.h5')"
   ]
  },
  {
   "cell_type": "markdown",
   "id": "2fd2c733",
   "metadata": {
    "papermill": {
     "duration": 0.167819,
     "end_time": "2024-09-17T05:15:47.860541",
     "exception": false,
     "start_time": "2024-09-17T05:15:47.692722",
     "status": "completed"
    },
    "tags": []
   },
   "source": [
    "  ## <p style=\"background-color: #fdefff;color:#c12eff;display: inline-block;padding:.6rem;border-radius:.5rem;border: 1px solid #c059ff\">Predicting Test.csv</p>"
   ]
  },
  {
   "cell_type": "code",
   "execution_count": 29,
   "id": "fcb36e15",
   "metadata": {
    "execution": {
     "iopub.execute_input": "2024-09-17T05:15:48.199381Z",
     "iopub.status.busy": "2024-09-17T05:15:48.198583Z",
     "iopub.status.idle": "2024-09-17T05:15:56.295972Z",
     "shell.execute_reply": "2024-09-17T05:15:56.294963Z"
    },
    "papermill": {
     "duration": 8.267013,
     "end_time": "2024-09-17T05:15:56.298109",
     "exception": false,
     "start_time": "2024-09-17T05:15:48.031096",
     "status": "completed"
    },
    "tags": []
   },
   "outputs": [
    {
     "name": "stdout",
     "output_type": "stream",
     "text": [
      "\u001b[1m3928/3928\u001b[0m \u001b[32m━━━━━━━━━━━━━━━━━━━━\u001b[0m\u001b[37m\u001b[0m \u001b[1m6s\u001b[0m 1ms/step\n",
      "done\n"
     ]
    }
   ],
   "source": [
    "model = load_model('model.h5')\n",
    "\n",
    "y_pred = model.predict(dt)\n",
    "sf.set_index('id', inplace=True)\n",
    "sf['price'] = y_pred\n",
    "sf.to_csv('submission.csv')\n",
    "print('done')"
   ]
  }
 ],
 "metadata": {
  "kaggle": {
   "accelerator": "nvidiaTeslaT4",
   "dataSources": [
    {
     "databundleVersionId": 9057646,
     "sourceId": 76728,
     "sourceType": "competition"
    }
   ],
   "dockerImageVersionId": 30761,
   "isGpuEnabled": true,
   "isInternetEnabled": true,
   "language": "python",
   "sourceType": "notebook"
  },
  "kernelspec": {
   "display_name": "Python 3",
   "language": "python",
   "name": "python3"
  },
  "language_info": {
   "codemirror_mode": {
    "name": "ipython",
    "version": 3
   },
   "file_extension": ".py",
   "mimetype": "text/x-python",
   "name": "python",
   "nbconvert_exporter": "python",
   "pygments_lexer": "ipython3",
   "version": "3.10.14"
  },
  "papermill": {
   "default_parameters": {},
   "duration": 169.797166,
   "end_time": "2024-09-17T05:15:58.304379",
   "environment_variables": {},
   "exception": null,
   "input_path": "__notebook__.ipynb",
   "output_path": "__notebook__.ipynb",
   "parameters": {},
   "start_time": "2024-09-17T05:13:08.507213",
   "version": "2.6.0"
  }
 },
 "nbformat": 4,
 "nbformat_minor": 5
}
