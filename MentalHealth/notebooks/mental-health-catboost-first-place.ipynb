{
 "cells": [
  {
   "cell_type": "markdown",
   "id": "4c6f6222",
   "metadata": {
    "papermill": {
     "duration": 0.004643,
     "end_time": "2024-11-01T11:11:30.786485",
     "exception": false,
     "start_time": "2024-11-01T11:11:30.781842",
     "status": "completed"
    },
    "tags": []
   },
   "source": [
    "# Imports"
   ]
  },
  {
   "cell_type": "code",
   "execution_count": 1,
   "id": "ddf243fa",
   "metadata": {
    "execution": {
     "iopub.execute_input": "2024-11-01T11:11:30.796020Z",
     "iopub.status.busy": "2024-11-01T11:11:30.795660Z",
     "iopub.status.idle": "2024-11-01T11:11:38.277422Z",
     "shell.execute_reply": "2024-11-01T11:11:38.276601Z"
    },
    "papermill": {
     "duration": 7.489116,
     "end_time": "2024-11-01T11:11:38.279828",
     "exception": false,
     "start_time": "2024-11-01T11:11:30.790712",
     "status": "completed"
    },
    "tags": []
   },
   "outputs": [],
   "source": [
    "import pandas as pd\n",
    "import numpy as np\n",
    "import matplotlib.pyplot as plt\n",
    "import seaborn as sns\n",
    "from catboost import Pool, CatBoostClassifier\n",
    "from sklearn.model_selection import StratifiedKFold\n",
    "from sklearn.metrics import accuracy_score, f1_score, roc_auc_score\n",
    "import optuna\n",
    "from optuna.samplers import TPESampler\n",
    "import warnings\n",
    "import shap\n",
    "warnings.filterwarnings(\"ignore\")"
   ]
  },
  {
   "cell_type": "markdown",
   "id": "b4db183d",
   "metadata": {
    "papermill": {
     "duration": 0.003782,
     "end_time": "2024-11-01T11:11:38.287854",
     "exception": false,
     "start_time": "2024-11-01T11:11:38.284072",
     "status": "completed"
    },
    "tags": []
   },
   "source": [
    "# Read data\n",
    "#### This dataset was collected as part of a comprehensive survey aimed at understanding the factors contributing to depression risk among adults.\n",
    "#### Feature Descriptions\n",
    "1. Name: paticipant's name.\n",
    "\n",
    "2. Gender: paticipant's gender (Male/Female).\n",
    "\n",
    "3. Age: paticipant's age (18-60).\n",
    "\n",
    "4. City: paticipant's city.\n",
    "\n",
    "5. Working Professional or Student: whether the participant is a working professional or a student\n",
    "\n",
    "6. Profession: participant's current profession \n",
    "\n",
    "7. Academic Pressure: academic workload level on a scale from 1 to 5\n",
    "\n",
    "8. Work Pressure: work workload level on a scale from 1 to 5\n",
    "\n",
    "9. CGPA: cumulative grade point average\n",
    "\n",
    "10. Study Satisfaction: participant's satisfaction level with their studies on a scale from 1 to 5\n",
    "\n",
    "11. Job Satisfaction: participant's satisfaction level with their job on a scale from 1 to 5\n",
    "\n",
    "12. Sleep Duration: the average duration of sleep \n",
    "\n",
    "13. Dietary Habits: information about the participant's eating habits\n",
    "\n",
    "14. Degree: the highest degree or qualification obtained by the participant\n",
    "\n",
    "15. Have you ever had suicidal thoughts ?: Yes or No\n",
    "\n",
    "16. Work/Study Hours: average hours spent working or/and studying daily\n",
    "\n",
    "17. Financial Stress: the level of financial stress experienced on a scale from 1 to 5\n",
    "\n",
    "18. Family History of Mental Illness: Yes or No\n",
    "\n",
    "19. Depression: represents whether the participant is at risk of depression (Yes or No), based on their responses to lifestyle and demographic factors."
   ]
  },
  {
   "cell_type": "code",
   "execution_count": 2,
   "id": "f90f26b5",
   "metadata": {
    "execution": {
     "iopub.execute_input": "2024-11-01T11:11:38.296945Z",
     "iopub.status.busy": "2024-11-01T11:11:38.296520Z",
     "iopub.status.idle": "2024-11-01T11:11:38.910713Z",
     "shell.execute_reply": "2024-11-01T11:11:38.909746Z"
    },
    "papermill": {
     "duration": 0.621105,
     "end_time": "2024-11-01T11:11:38.912862",
     "exception": false,
     "start_time": "2024-11-01T11:11:38.291757",
     "status": "completed"
    },
    "tags": []
   },
   "outputs": [
    {
     "data": {
      "text/html": [
       "<div>\n",
       "<style scoped>\n",
       "    .dataframe tbody tr th:only-of-type {\n",
       "        vertical-align: middle;\n",
       "    }\n",
       "\n",
       "    .dataframe tbody tr th {\n",
       "        vertical-align: top;\n",
       "    }\n",
       "\n",
       "    .dataframe thead th {\n",
       "        text-align: right;\n",
       "    }\n",
       "</style>\n",
       "<table border=\"1\" class=\"dataframe\">\n",
       "  <thead>\n",
       "    <tr style=\"text-align: right;\">\n",
       "      <th></th>\n",
       "      <th>Name</th>\n",
       "      <th>Gender</th>\n",
       "      <th>Age</th>\n",
       "      <th>City</th>\n",
       "      <th>Working Professional or Student</th>\n",
       "      <th>Profession</th>\n",
       "      <th>Academic Pressure</th>\n",
       "      <th>Work Pressure</th>\n",
       "      <th>CGPA</th>\n",
       "      <th>Study Satisfaction</th>\n",
       "      <th>Job Satisfaction</th>\n",
       "      <th>Sleep Duration</th>\n",
       "      <th>Dietary Habits</th>\n",
       "      <th>Degree</th>\n",
       "      <th>Have you ever had suicidal thoughts ?</th>\n",
       "      <th>Work/Study Hours</th>\n",
       "      <th>Financial Stress</th>\n",
       "      <th>Family History of Mental Illness</th>\n",
       "      <th>Depression</th>\n",
       "    </tr>\n",
       "    <tr>\n",
       "      <th>id</th>\n",
       "      <th></th>\n",
       "      <th></th>\n",
       "      <th></th>\n",
       "      <th></th>\n",
       "      <th></th>\n",
       "      <th></th>\n",
       "      <th></th>\n",
       "      <th></th>\n",
       "      <th></th>\n",
       "      <th></th>\n",
       "      <th></th>\n",
       "      <th></th>\n",
       "      <th></th>\n",
       "      <th></th>\n",
       "      <th></th>\n",
       "      <th></th>\n",
       "      <th></th>\n",
       "      <th></th>\n",
       "      <th></th>\n",
       "    </tr>\n",
       "  </thead>\n",
       "  <tbody>\n",
       "    <tr>\n",
       "      <th>0</th>\n",
       "      <td>Aaradhya</td>\n",
       "      <td>Female</td>\n",
       "      <td>49.0</td>\n",
       "      <td>Ludhiana</td>\n",
       "      <td>Working Professional</td>\n",
       "      <td>Chef</td>\n",
       "      <td>NaN</td>\n",
       "      <td>5.0</td>\n",
       "      <td>NaN</td>\n",
       "      <td>NaN</td>\n",
       "      <td>2.0</td>\n",
       "      <td>More than 8 hours</td>\n",
       "      <td>Healthy</td>\n",
       "      <td>BHM</td>\n",
       "      <td>No</td>\n",
       "      <td>1.0</td>\n",
       "      <td>2.0</td>\n",
       "      <td>No</td>\n",
       "      <td>0</td>\n",
       "    </tr>\n",
       "    <tr>\n",
       "      <th>1</th>\n",
       "      <td>Vivan</td>\n",
       "      <td>Male</td>\n",
       "      <td>26.0</td>\n",
       "      <td>Varanasi</td>\n",
       "      <td>Working Professional</td>\n",
       "      <td>Teacher</td>\n",
       "      <td>NaN</td>\n",
       "      <td>4.0</td>\n",
       "      <td>NaN</td>\n",
       "      <td>NaN</td>\n",
       "      <td>3.0</td>\n",
       "      <td>Less than 5 hours</td>\n",
       "      <td>Unhealthy</td>\n",
       "      <td>LLB</td>\n",
       "      <td>Yes</td>\n",
       "      <td>7.0</td>\n",
       "      <td>3.0</td>\n",
       "      <td>No</td>\n",
       "      <td>1</td>\n",
       "    </tr>\n",
       "    <tr>\n",
       "      <th>2</th>\n",
       "      <td>Yuvraj</td>\n",
       "      <td>Male</td>\n",
       "      <td>33.0</td>\n",
       "      <td>Visakhapatnam</td>\n",
       "      <td>Student</td>\n",
       "      <td>NaN</td>\n",
       "      <td>5.0</td>\n",
       "      <td>NaN</td>\n",
       "      <td>8.97</td>\n",
       "      <td>2.0</td>\n",
       "      <td>NaN</td>\n",
       "      <td>5-6 hours</td>\n",
       "      <td>Healthy</td>\n",
       "      <td>B.Pharm</td>\n",
       "      <td>Yes</td>\n",
       "      <td>3.0</td>\n",
       "      <td>1.0</td>\n",
       "      <td>No</td>\n",
       "      <td>1</td>\n",
       "    </tr>\n",
       "    <tr>\n",
       "      <th>3</th>\n",
       "      <td>Yuvraj</td>\n",
       "      <td>Male</td>\n",
       "      <td>22.0</td>\n",
       "      <td>Mumbai</td>\n",
       "      <td>Working Professional</td>\n",
       "      <td>Teacher</td>\n",
       "      <td>NaN</td>\n",
       "      <td>5.0</td>\n",
       "      <td>NaN</td>\n",
       "      <td>NaN</td>\n",
       "      <td>1.0</td>\n",
       "      <td>Less than 5 hours</td>\n",
       "      <td>Moderate</td>\n",
       "      <td>BBA</td>\n",
       "      <td>Yes</td>\n",
       "      <td>10.0</td>\n",
       "      <td>1.0</td>\n",
       "      <td>Yes</td>\n",
       "      <td>1</td>\n",
       "    </tr>\n",
       "    <tr>\n",
       "      <th>4</th>\n",
       "      <td>Rhea</td>\n",
       "      <td>Female</td>\n",
       "      <td>30.0</td>\n",
       "      <td>Kanpur</td>\n",
       "      <td>Working Professional</td>\n",
       "      <td>Business Analyst</td>\n",
       "      <td>NaN</td>\n",
       "      <td>1.0</td>\n",
       "      <td>NaN</td>\n",
       "      <td>NaN</td>\n",
       "      <td>1.0</td>\n",
       "      <td>5-6 hours</td>\n",
       "      <td>Unhealthy</td>\n",
       "      <td>BBA</td>\n",
       "      <td>Yes</td>\n",
       "      <td>9.0</td>\n",
       "      <td>4.0</td>\n",
       "      <td>Yes</td>\n",
       "      <td>0</td>\n",
       "    </tr>\n",
       "  </tbody>\n",
       "</table>\n",
       "</div>"
      ],
      "text/plain": [
       "        Name  Gender   Age           City Working Professional or Student  \\\n",
       "id                                                                          \n",
       "0   Aaradhya  Female  49.0       Ludhiana            Working Professional   \n",
       "1      Vivan    Male  26.0       Varanasi            Working Professional   \n",
       "2     Yuvraj    Male  33.0  Visakhapatnam                         Student   \n",
       "3     Yuvraj    Male  22.0         Mumbai            Working Professional   \n",
       "4       Rhea  Female  30.0         Kanpur            Working Professional   \n",
       "\n",
       "          Profession  Academic Pressure  Work Pressure  CGPA  \\\n",
       "id                                                             \n",
       "0               Chef                NaN            5.0   NaN   \n",
       "1            Teacher                NaN            4.0   NaN   \n",
       "2                NaN                5.0            NaN  8.97   \n",
       "3            Teacher                NaN            5.0   NaN   \n",
       "4   Business Analyst                NaN            1.0   NaN   \n",
       "\n",
       "    Study Satisfaction  Job Satisfaction     Sleep Duration Dietary Habits  \\\n",
       "id                                                                           \n",
       "0                  NaN               2.0  More than 8 hours        Healthy   \n",
       "1                  NaN               3.0  Less than 5 hours      Unhealthy   \n",
       "2                  2.0               NaN          5-6 hours        Healthy   \n",
       "3                  NaN               1.0  Less than 5 hours       Moderate   \n",
       "4                  NaN               1.0          5-6 hours      Unhealthy   \n",
       "\n",
       "     Degree Have you ever had suicidal thoughts ?  Work/Study Hours  \\\n",
       "id                                                                    \n",
       "0       BHM                                    No               1.0   \n",
       "1       LLB                                   Yes               7.0   \n",
       "2   B.Pharm                                   Yes               3.0   \n",
       "3       BBA                                   Yes              10.0   \n",
       "4       BBA                                   Yes               9.0   \n",
       "\n",
       "    Financial Stress Family History of Mental Illness  Depression  \n",
       "id                                                                 \n",
       "0                2.0                               No           0  \n",
       "1                3.0                               No           1  \n",
       "2                1.0                               No           1  \n",
       "3                1.0                              Yes           1  \n",
       "4                4.0                              Yes           0  "
      ]
     },
     "execution_count": 2,
     "metadata": {},
     "output_type": "execute_result"
    }
   ],
   "source": [
    "train = pd.read_csv('/kaggle/input/playground-series-s4e11/train.csv', index_col='id')\n",
    "train.head()"
   ]
  },
  {
   "cell_type": "code",
   "execution_count": 3,
   "id": "b1f38691",
   "metadata": {
    "execution": {
     "iopub.execute_input": "2024-11-01T11:11:38.923081Z",
     "iopub.status.busy": "2024-11-01T11:11:38.922768Z",
     "iopub.status.idle": "2024-11-01T11:11:39.288950Z",
     "shell.execute_reply": "2024-11-01T11:11:39.287716Z"
    },
    "papermill": {
     "duration": 0.374313,
     "end_time": "2024-11-01T11:11:39.291816",
     "exception": false,
     "start_time": "2024-11-01T11:11:38.917503",
     "status": "completed"
    },
    "tags": []
   },
   "outputs": [
    {
     "data": {
      "text/html": [
       "<div>\n",
       "<style scoped>\n",
       "    .dataframe tbody tr th:only-of-type {\n",
       "        vertical-align: middle;\n",
       "    }\n",
       "\n",
       "    .dataframe tbody tr th {\n",
       "        vertical-align: top;\n",
       "    }\n",
       "\n",
       "    .dataframe thead th {\n",
       "        text-align: right;\n",
       "    }\n",
       "</style>\n",
       "<table border=\"1\" class=\"dataframe\">\n",
       "  <thead>\n",
       "    <tr style=\"text-align: right;\">\n",
       "      <th></th>\n",
       "      <th>Name</th>\n",
       "      <th>Gender</th>\n",
       "      <th>Age</th>\n",
       "      <th>City</th>\n",
       "      <th>Working Professional or Student</th>\n",
       "      <th>Profession</th>\n",
       "      <th>Academic Pressure</th>\n",
       "      <th>Work Pressure</th>\n",
       "      <th>CGPA</th>\n",
       "      <th>Study Satisfaction</th>\n",
       "      <th>Job Satisfaction</th>\n",
       "      <th>Sleep Duration</th>\n",
       "      <th>Dietary Habits</th>\n",
       "      <th>Degree</th>\n",
       "      <th>Have you ever had suicidal thoughts ?</th>\n",
       "      <th>Work/Study Hours</th>\n",
       "      <th>Financial Stress</th>\n",
       "      <th>Family History of Mental Illness</th>\n",
       "    </tr>\n",
       "    <tr>\n",
       "      <th>id</th>\n",
       "      <th></th>\n",
       "      <th></th>\n",
       "      <th></th>\n",
       "      <th></th>\n",
       "      <th></th>\n",
       "      <th></th>\n",
       "      <th></th>\n",
       "      <th></th>\n",
       "      <th></th>\n",
       "      <th></th>\n",
       "      <th></th>\n",
       "      <th></th>\n",
       "      <th></th>\n",
       "      <th></th>\n",
       "      <th></th>\n",
       "      <th></th>\n",
       "      <th></th>\n",
       "      <th></th>\n",
       "    </tr>\n",
       "  </thead>\n",
       "  <tbody>\n",
       "    <tr>\n",
       "      <th>140700</th>\n",
       "      <td>Shivam</td>\n",
       "      <td>Male</td>\n",
       "      <td>53.0</td>\n",
       "      <td>Visakhapatnam</td>\n",
       "      <td>Working Professional</td>\n",
       "      <td>Judge</td>\n",
       "      <td>NaN</td>\n",
       "      <td>2.0</td>\n",
       "      <td>NaN</td>\n",
       "      <td>NaN</td>\n",
       "      <td>5.0</td>\n",
       "      <td>Less than 5 hours</td>\n",
       "      <td>Moderate</td>\n",
       "      <td>LLB</td>\n",
       "      <td>No</td>\n",
       "      <td>9.0</td>\n",
       "      <td>3.0</td>\n",
       "      <td>Yes</td>\n",
       "    </tr>\n",
       "    <tr>\n",
       "      <th>140701</th>\n",
       "      <td>Sanya</td>\n",
       "      <td>Female</td>\n",
       "      <td>58.0</td>\n",
       "      <td>Kolkata</td>\n",
       "      <td>Working Professional</td>\n",
       "      <td>Educational Consultant</td>\n",
       "      <td>NaN</td>\n",
       "      <td>2.0</td>\n",
       "      <td>NaN</td>\n",
       "      <td>NaN</td>\n",
       "      <td>4.0</td>\n",
       "      <td>Less than 5 hours</td>\n",
       "      <td>Moderate</td>\n",
       "      <td>B.Ed</td>\n",
       "      <td>No</td>\n",
       "      <td>6.0</td>\n",
       "      <td>4.0</td>\n",
       "      <td>No</td>\n",
       "    </tr>\n",
       "    <tr>\n",
       "      <th>140702</th>\n",
       "      <td>Yash</td>\n",
       "      <td>Male</td>\n",
       "      <td>53.0</td>\n",
       "      <td>Jaipur</td>\n",
       "      <td>Working Professional</td>\n",
       "      <td>Teacher</td>\n",
       "      <td>NaN</td>\n",
       "      <td>4.0</td>\n",
       "      <td>NaN</td>\n",
       "      <td>NaN</td>\n",
       "      <td>1.0</td>\n",
       "      <td>7-8 hours</td>\n",
       "      <td>Moderate</td>\n",
       "      <td>B.Arch</td>\n",
       "      <td>Yes</td>\n",
       "      <td>12.0</td>\n",
       "      <td>4.0</td>\n",
       "      <td>No</td>\n",
       "    </tr>\n",
       "    <tr>\n",
       "      <th>140703</th>\n",
       "      <td>Nalini</td>\n",
       "      <td>Female</td>\n",
       "      <td>23.0</td>\n",
       "      <td>Rajkot</td>\n",
       "      <td>Student</td>\n",
       "      <td>NaN</td>\n",
       "      <td>5.0</td>\n",
       "      <td>NaN</td>\n",
       "      <td>6.84</td>\n",
       "      <td>1.0</td>\n",
       "      <td>NaN</td>\n",
       "      <td>More than 8 hours</td>\n",
       "      <td>Moderate</td>\n",
       "      <td>BSc</td>\n",
       "      <td>Yes</td>\n",
       "      <td>10.0</td>\n",
       "      <td>4.0</td>\n",
       "      <td>No</td>\n",
       "    </tr>\n",
       "    <tr>\n",
       "      <th>140704</th>\n",
       "      <td>Shaurya</td>\n",
       "      <td>Male</td>\n",
       "      <td>47.0</td>\n",
       "      <td>Kalyan</td>\n",
       "      <td>Working Professional</td>\n",
       "      <td>Teacher</td>\n",
       "      <td>NaN</td>\n",
       "      <td>5.0</td>\n",
       "      <td>NaN</td>\n",
       "      <td>NaN</td>\n",
       "      <td>5.0</td>\n",
       "      <td>7-8 hours</td>\n",
       "      <td>Moderate</td>\n",
       "      <td>BCA</td>\n",
       "      <td>Yes</td>\n",
       "      <td>3.0</td>\n",
       "      <td>4.0</td>\n",
       "      <td>No</td>\n",
       "    </tr>\n",
       "  </tbody>\n",
       "</table>\n",
       "</div>"
      ],
      "text/plain": [
       "           Name  Gender   Age           City Working Professional or Student  \\\n",
       "id                                                                             \n",
       "140700   Shivam    Male  53.0  Visakhapatnam            Working Professional   \n",
       "140701    Sanya  Female  58.0        Kolkata            Working Professional   \n",
       "140702     Yash    Male  53.0         Jaipur            Working Professional   \n",
       "140703   Nalini  Female  23.0         Rajkot                         Student   \n",
       "140704  Shaurya    Male  47.0         Kalyan            Working Professional   \n",
       "\n",
       "                    Profession  Academic Pressure  Work Pressure  CGPA  \\\n",
       "id                                                                       \n",
       "140700                   Judge                NaN            2.0   NaN   \n",
       "140701  Educational Consultant                NaN            2.0   NaN   \n",
       "140702                 Teacher                NaN            4.0   NaN   \n",
       "140703                     NaN                5.0            NaN  6.84   \n",
       "140704                 Teacher                NaN            5.0   NaN   \n",
       "\n",
       "        Study Satisfaction  Job Satisfaction     Sleep Duration  \\\n",
       "id                                                                \n",
       "140700                 NaN               5.0  Less than 5 hours   \n",
       "140701                 NaN               4.0  Less than 5 hours   \n",
       "140702                 NaN               1.0          7-8 hours   \n",
       "140703                 1.0               NaN  More than 8 hours   \n",
       "140704                 NaN               5.0          7-8 hours   \n",
       "\n",
       "       Dietary Habits  Degree Have you ever had suicidal thoughts ?  \\\n",
       "id                                                                    \n",
       "140700       Moderate     LLB                                    No   \n",
       "140701       Moderate    B.Ed                                    No   \n",
       "140702       Moderate  B.Arch                                   Yes   \n",
       "140703       Moderate     BSc                                   Yes   \n",
       "140704       Moderate     BCA                                   Yes   \n",
       "\n",
       "        Work/Study Hours  Financial Stress Family History of Mental Illness  \n",
       "id                                                                           \n",
       "140700               9.0               3.0                              Yes  \n",
       "140701               6.0               4.0                               No  \n",
       "140702              12.0               4.0                               No  \n",
       "140703              10.0               4.0                               No  \n",
       "140704               3.0               4.0                               No  "
      ]
     },
     "execution_count": 3,
     "metadata": {},
     "output_type": "execute_result"
    }
   ],
   "source": [
    "test = pd.read_csv('/kaggle/input/playground-series-s4e11/test.csv', index_col='id')\n",
    "test.head()"
   ]
  },
  {
   "cell_type": "markdown",
   "id": "5b80117b",
   "metadata": {
    "papermill": {
     "duration": 0.006356,
     "end_time": "2024-11-01T11:11:39.305898",
     "exception": false,
     "start_time": "2024-11-01T11:11:39.299542",
     "status": "completed"
    },
    "tags": []
   },
   "source": [
    "# EDA + preprocessing"
   ]
  },
  {
   "cell_type": "code",
   "execution_count": 4,
   "id": "0d8d4896",
   "metadata": {
    "execution": {
     "iopub.execute_input": "2024-11-01T11:11:39.320162Z",
     "iopub.status.busy": "2024-11-01T11:11:39.319847Z",
     "iopub.status.idle": "2024-11-01T11:11:39.499760Z",
     "shell.execute_reply": "2024-11-01T11:11:39.498473Z"
    },
    "papermill": {
     "duration": 0.191009,
     "end_time": "2024-11-01T11:11:39.503511",
     "exception": false,
     "start_time": "2024-11-01T11:11:39.312502",
     "status": "completed"
    },
    "tags": []
   },
   "outputs": [
    {
     "data": {
      "image/png": "[encoded data removed]",
      "text/plain": [
       "<Figure size 640x480 with 1 Axes>"
      ]
     },
     "metadata": {},
     "output_type": "display_data"
    }
   ],
   "source": [
    "colors = ['#4780f0', '#e70101']\n",
    "plt.pie(train.Depression.value_counts(), labels=['Not at Risk', 'At Risk'], autopct=\"%.1f%%\", colors=colors)\n",
    "plt.title('Target distribution')\n",
    "plt.show()"
   ]
  },
  {
   "cell_type": "markdown",
   "id": "783b2899",
   "metadata": {
    "papermill": {
     "duration": 0.010199,
     "end_time": "2024-11-01T11:11:39.524975",
     "exception": false,
     "start_time": "2024-11-01T11:11:39.514776",
     "status": "completed"
    },
    "tags": []
   },
   "source": [
    "Since classes are imbalanced, accuracy is not the best way to evaluate the model performance. We can get 82% accuracy just by constantly predicting 0 on all samples.\n",
    "\n",
    "\n",
    "\n",
    "#### Preprocessing:"
   ]
  },
  {
   "cell_type": "code",
   "execution_count": 5,
   "id": "deae0a35",
   "metadata": {
    "execution": {
     "iopub.execute_input": "2024-11-01T11:11:39.548539Z",
     "iopub.status.busy": "2024-11-01T11:11:39.547941Z",
     "iopub.status.idle": "2024-11-01T11:11:40.768535Z",
     "shell.execute_reply": "2024-11-01T11:11:40.767686Z"
    },
    "papermill": {
     "duration": 1.235662,
     "end_time": "2024-11-01T11:11:40.770941",
     "exception": false,
     "start_time": "2024-11-01T11:11:39.535279",
     "status": "completed"
    },
    "tags": []
   },
   "outputs": [],
   "source": [
    "train = train.fillna('None').astype('string')\n",
    "test = test.fillna('None').astype('string')\n",
    "\n",
    "y = train['Depression']\n",
    "X = train.drop(['Depression'], axis=1)"
   ]
  },
  {
   "cell_type": "markdown",
   "id": "feaedf13",
   "metadata": {
    "papermill": {
     "duration": 0.004941,
     "end_time": "2024-11-01T11:11:40.781345",
     "exception": false,
     "start_time": "2024-11-01T11:11:40.776404",
     "status": "completed"
    },
    "tags": []
   },
   "source": [
    "# Model\n",
    "\n",
    "I'll be using ROC-AUC and Accuracy to assess the model, actually focusing on ROC-AUC during training."
   ]
  },
  {
   "cell_type": "code",
   "execution_count": 6,
   "id": "9846d72b",
   "metadata": {
    "execution": {
     "iopub.execute_input": "2024-11-01T11:11:40.792545Z",
     "iopub.status.busy": "2024-11-01T11:11:40.792216Z",
     "iopub.status.idle": "2024-11-01T11:11:40.797060Z",
     "shell.execute_reply": "2024-11-01T11:11:40.796250Z"
    },
    "papermill": {
     "duration": 0.012601,
     "end_time": "2024-11-01T11:11:40.798962",
     "exception": false,
     "start_time": "2024-11-01T11:11:40.786361",
     "status": "completed"
    },
    "tags": []
   },
   "outputs": [],
   "source": [
    "catboost_params = {\n",
    "    'loss_function': 'Logloss',\n",
    "    'eval_metric': 'AUC',\n",
    "    'learning_rate': 0.08114394459649094,\n",
    "    'iterations': 1000,\n",
    "    'depth': 6,\n",
    "    'random_strength':0,\n",
    "    'l2_leaf_reg': 0.7047064221215757,\n",
    "    'task_type':'GPU',\n",
    "    'random_seed':42,\n",
    "    'verbose':False    \n",
    "}"
   ]
  },
  {
   "cell_type": "code",
   "execution_count": 7,
   "id": "0f8e5224",
   "metadata": {
    "execution": {
     "iopub.execute_input": "2024-11-01T11:11:40.810243Z",
     "iopub.status.busy": "2024-11-01T11:11:40.809958Z",
     "iopub.status.idle": "2024-11-01T11:14:26.408761Z",
     "shell.execute_reply": "2024-11-01T11:14:26.407724Z"
    },
    "papermill": {
     "duration": 165.615113,
     "end_time": "2024-11-01T11:14:26.418966",
     "exception": false,
     "start_time": "2024-11-01T11:11:40.803853",
     "status": "completed"
    },
    "tags": []
   },
   "outputs": [
    {
     "name": "stderr",
     "output_type": "stream",
     "text": [
      "Default metric period is 5 because AUC is/are not implemented for GPU\n"
     ]
    },
    {
     "name": "stdout",
     "output_type": "stream",
     "text": [
      "Fold 1 accuracy_score: 0.9404761904761905\n"
     ]
    },
    {
     "name": "stderr",
     "output_type": "stream",
     "text": [
      "Default metric period is 5 because AUC is/are not implemented for GPU\n"
     ]
    },
    {
     "name": "stdout",
     "output_type": "stream",
     "text": [
      "Fold 2 accuracy_score: 0.9383084577114428\n"
     ]
    },
    {
     "name": "stderr",
     "output_type": "stream",
     "text": [
      "Default metric period is 5 because AUC is/are not implemented for GPU\n"
     ]
    },
    {
     "name": "stdout",
     "output_type": "stream",
     "text": [
      "Fold 3 accuracy_score: 0.940547263681592\n"
     ]
    },
    {
     "name": "stderr",
     "output_type": "stream",
     "text": [
      "Default metric period is 5 because AUC is/are not implemented for GPU\n"
     ]
    },
    {
     "name": "stdout",
     "output_type": "stream",
     "text": [
      "Fold 4 accuracy_score: 0.9403340440653873\n"
     ]
    },
    {
     "name": "stderr",
     "output_type": "stream",
     "text": [
      "Default metric period is 5 because AUC is/are not implemented for GPU\n"
     ]
    },
    {
     "name": "stdout",
     "output_type": "stream",
     "text": [
      "Fold 5 accuracy_score: 0.9388770433546553\n",
      "Cross-validated accuracy_score: 0.940 +/- 0.001\n",
      "Max accuracy_score score: 0.941\n",
      "Min accuracy_score score: 0.938\n"
     ]
    }
   ],
   "source": [
    "cv = StratifiedKFold(5, shuffle=True, random_state=0)\n",
    "cv_splits = cv.split(X, y)\n",
    "scores = []\n",
    "test_preds = []\n",
    "X_test_pool = Pool(test, cat_features=X.columns.values)\n",
    "for i, (train_idx, val_idx) in enumerate(cv_splits):\n",
    "    model = CatBoostClassifier(**catboost_params)\n",
    "    X_train_fold, X_val_fold = X.loc[train_idx], X.loc[val_idx]\n",
    "    y_train_fold, y_val_fold = y.loc[train_idx], y.loc[val_idx]\n",
    "    X_train_pool = Pool(X_train_fold, y_train_fold, cat_features=X.columns.values)\n",
    "    X_valid_pool = Pool(X_val_fold, y_val_fold, cat_features=X.columns.values)\n",
    "    model.fit(X=X_train_pool, eval_set=X_valid_pool, verbose=False, early_stopping_rounds=200)\n",
    "    val_pred = model.predict(X_valid_pool)\n",
    "    score = accuracy_score(y_val_fold, val_pred)\n",
    "    scores.append(score)\n",
    "    test_pred = model.predict_proba(X_test_pool)[:, 1]\n",
    "    test_preds.append(test_pred)\n",
    "    print(f'Fold {i + 1} accuracy_score: {score}')\n",
    "print(f'Cross-validated accuracy_score: {np.mean(scores):.3f} +/- {np.std(scores):.3f}')\n",
    "print(f'Max accuracy_score score: {np.max(scores):.3f}')\n",
    "print(f'Min accuracy_score score: {np.min(scores):.3f}')"
   ]
  },
  {
   "cell_type": "markdown",
   "id": "4ce3b373",
   "metadata": {
    "papermill": {
     "duration": 0.006571,
     "end_time": "2024-11-01T11:14:26.433698",
     "exception": false,
     "start_time": "2024-11-01T11:14:26.427127",
     "status": "completed"
    },
    "tags": []
   },
   "source": [
    "# Submission"
   ]
  },
  {
   "cell_type": "code",
   "execution_count": 8,
   "id": "6aa4c4c3",
   "metadata": {
    "execution": {
     "iopub.execute_input": "2024-11-01T11:14:26.446816Z",
     "iopub.status.busy": "2024-11-01T11:14:26.446433Z",
     "iopub.status.idle": "2024-11-01T11:14:26.640095Z",
     "shell.execute_reply": "2024-11-01T11:14:26.639139Z"
    },
    "papermill": {
     "duration": 0.202782,
     "end_time": "2024-11-01T11:14:26.642340",
     "exception": false,
     "start_time": "2024-11-01T11:14:26.439558",
     "status": "completed"
    },
    "tags": []
   },
   "outputs": [
    {
     "data": {
      "text/html": [
       "<div>\n",
       "<style scoped>\n",
       "    .dataframe tbody tr th:only-of-type {\n",
       "        vertical-align: middle;\n",
       "    }\n",
       "\n",
       "    .dataframe tbody tr th {\n",
       "        vertical-align: top;\n",
       "    }\n",
       "\n",
       "    .dataframe thead th {\n",
       "        text-align: right;\n",
       "    }\n",
       "</style>\n",
       "<table border=\"1\" class=\"dataframe\">\n",
       "  <thead>\n",
       "    <tr style=\"text-align: right;\">\n",
       "      <th></th>\n",
       "      <th>id</th>\n",
       "      <th>Depression</th>\n",
       "    </tr>\n",
       "  </thead>\n",
       "  <tbody>\n",
       "    <tr>\n",
       "      <th>0</th>\n",
       "      <td>140700</td>\n",
       "      <td>0.0</td>\n",
       "    </tr>\n",
       "    <tr>\n",
       "      <th>1</th>\n",
       "      <td>140701</td>\n",
       "      <td>0.0</td>\n",
       "    </tr>\n",
       "    <tr>\n",
       "      <th>2</th>\n",
       "      <td>140702</td>\n",
       "      <td>0.0</td>\n",
       "    </tr>\n",
       "    <tr>\n",
       "      <th>3</th>\n",
       "      <td>140703</td>\n",
       "      <td>1.0</td>\n",
       "    </tr>\n",
       "    <tr>\n",
       "      <th>4</th>\n",
       "      <td>140704</td>\n",
       "      <td>0.0</td>\n",
       "    </tr>\n",
       "    <tr>\n",
       "      <th>5</th>\n",
       "      <td>140705</td>\n",
       "      <td>0.0</td>\n",
       "    </tr>\n",
       "    <tr>\n",
       "      <th>6</th>\n",
       "      <td>140706</td>\n",
       "      <td>0.0</td>\n",
       "    </tr>\n",
       "    <tr>\n",
       "      <th>7</th>\n",
       "      <td>140707</td>\n",
       "      <td>0.0</td>\n",
       "    </tr>\n",
       "    <tr>\n",
       "      <th>8</th>\n",
       "      <td>140708</td>\n",
       "      <td>0.0</td>\n",
       "    </tr>\n",
       "    <tr>\n",
       "      <th>9</th>\n",
       "      <td>140709</td>\n",
       "      <td>1.0</td>\n",
       "    </tr>\n",
       "  </tbody>\n",
       "</table>\n",
       "</div>"
      ],
      "text/plain": [
       "       id  Depression\n",
       "0  140700         0.0\n",
       "1  140701         0.0\n",
       "2  140702         0.0\n",
       "3  140703         1.0\n",
       "4  140704         0.0\n",
       "5  140705         0.0\n",
       "6  140706         0.0\n",
       "7  140707         0.0\n",
       "8  140708         0.0\n",
       "9  140709         1.0"
      ]
     },
     "execution_count": 8,
     "metadata": {},
     "output_type": "execute_result"
    }
   ],
   "source": [
    "sample_submission = pd.read_csv('/kaggle/input/playground-series-s4e11/sample_submission.csv')\n",
    "sample_submission['Depression'] = np.round(np.mean(test_preds, axis=0))\n",
    "sample_submission.to_csv('submission.csv', index=False)\n",
    "sample_submission.head(10)"
   ]
  }
 ],
 "metadata": {
  "kaggle": {
   "accelerator": "gpu",
   "dataSources": [
    {
     "databundleVersionId": 10008389,
     "sourceId": 84895,
     "sourceType": "competition"
    }
   ],
   "dockerImageVersionId": 30787,
   "isGpuEnabled": true,
   "isInternetEnabled": true,
   "language": "python",
   "sourceType": "notebook"
  },
  "kernelspec": {
   "display_name": "Python 3",
   "language": "python",
   "name": "python3"
  },
  "language_info": {
   "codemirror_mode": {
    "name": "ipython",
    "version": 3
   },
   "file_extension": ".py",
   "mimetype": "text/x-python",
   "name": "python",
   "nbconvert_exporter": "python",
   "pygments_lexer": "ipython3",
   "version": "3.10.14"
  },
  "papermill": {
   "default_parameters": {},
   "duration": 180.741009,
   "end_time": "2024-11-01T11:14:28.874831",
   "environment_variables": {},
   "exception": null,
   "input_path": "__notebook__.ipynb",
   "output_path": "__notebook__.ipynb",
   "parameters": {},
   "start_time": "2024-11-01T11:11:28.133822",
   "version": "2.6.0"
  }
 },
 "nbformat": 4,
 "nbformat_minor": 5
}
