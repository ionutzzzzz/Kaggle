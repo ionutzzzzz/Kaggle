{
 "cells": [
  {
   "cell_type": "markdown",
   "id": "aedf0635",
   "metadata": {
    "papermill": {
     "duration": 0.004205,
     "end_time": "2024-11-13T19:05:30.747961",
     "exception": false,
     "start_time": "2024-11-13T19:05:30.743756",
     "status": "completed"
    },
    "tags": []
   },
   "source": [
    "# <p style=\"background-color:#006064; font-family:'Pacifico', cursive; color:#E0F7FA; font-size:140%; text-align:center; border: 2px solid #004D40; border-radius:15px; padding: 15px; box-shadow: 5px 5px 20px rgba(0, 0, 0, 0.5); font-weight: bold; letter-spacing: 1px; text-transform: uppercase;\">Exploring Mental Health | CatBoost</p>"
   ]
  },
  {
   "cell_type": "markdown",
   "id": "7e62918b",
   "metadata": {
    "papermill": {
     "duration": 0.003409,
     "end_time": "2024-11-13T19:05:30.755229",
     "exception": false,
     "start_time": "2024-11-13T19:05:30.751820",
     "status": "completed"
    },
    "tags": []
   },
   "source": [
    "# <p style=\"background-color:#006064; font-family:'Pacifico', cursive; color:#E0F7FA; font-size:140%; text-align:center; border: 3px solid #004D40; border-radius:15px; padding: 15px; box-shadow: 5px 5px 20px rgba(0, 0, 0, 0.5); font-weight: bold; letter-spacing: 1px; text-transform: uppercase;\">Imports Utiliz</p>"
   ]
  },
  {
   "cell_type": "code",
   "execution_count": 1,
   "id": "e2bfcfcc",
   "metadata": {
    "_cell_guid": "b1076dfc-b9ad-4769-8c92-a6c4dae69d19",
    "_uuid": "8f2839f25d086af736a60e9eeb907d3b93b6e0e5",
    "execution": {
     "iopub.execute_input": "2024-11-13T19:05:30.763877Z",
     "iopub.status.busy": "2024-11-13T19:05:30.763485Z",
     "iopub.status.idle": "2024-11-13T19:05:36.772339Z",
     "shell.execute_reply": "2024-11-13T19:05:36.771280Z"
    },
    "papermill": {
     "duration": 6.015954,
     "end_time": "2024-11-13T19:05:36.774781",
     "exception": false,
     "start_time": "2024-11-13T19:05:30.758827",
     "status": "completed"
    },
    "tags": []
   },
   "outputs": [],
   "source": [
    "import numpy as np\n",
    "import polars as pl\n",
    "import pandas as pd\n",
    "from sklearn.base import clone\n",
    "import optuna\n",
    "import os\n",
    "import category_encoders as ce\n",
    "from IPython.display import clear_output\n",
    "\n",
    "import warnings\n",
    "warnings.filterwarnings('ignore')\n",
    "pd.options.display.max_columns = None\n",
    "\n",
    "import lightgbm as lgb\n",
    "from catboost import CatBoostRegressor, CatBoostClassifier, Pool\n",
    "from sklearn.model_selection import *\n",
    "from sklearn.metrics import *"
   ]
  },
  {
   "cell_type": "markdown",
   "id": "58306d56",
   "metadata": {
    "papermill": {
     "duration": 0.003516,
     "end_time": "2024-11-13T19:05:36.782205",
     "exception": false,
     "start_time": "2024-11-13T19:05:36.778689",
     "status": "completed"
    },
    "tags": []
   },
   "source": [
    "# <p style=\"background-color:#006064; font-family:'Pacifico', cursive; color:#E0F7FA; font-size:140%; text-align:center; border: 2px solid #004D40; border-radius:15px; padding: 15px; box-shadow: 5px 5px 20px rgba(0, 0, 0, 0.5); font-weight: bold; letter-spacing: 1px; text-transform: uppercase;\">Preprocess Data</p>"
   ]
  },
  {
   "cell_type": "code",
   "execution_count": 2,
   "id": "844e8099",
   "metadata": {
    "execution": {
     "iopub.execute_input": "2024-11-13T19:05:36.791248Z",
     "iopub.status.busy": "2024-11-13T19:05:36.790648Z",
     "iopub.status.idle": "2024-11-13T19:05:40.715474Z",
     "shell.execute_reply": "2024-11-13T19:05:40.714199Z"
    },
    "papermill": {
     "duration": 3.931832,
     "end_time": "2024-11-13T19:05:40.717685",
     "exception": false,
     "start_time": "2024-11-13T19:05:36.785853",
     "status": "completed"
    },
    "tags": []
   },
   "outputs": [
    {
     "name": "stdout",
     "output_type": "stream",
     "text": [
      "Cloning into 'AbdML'...\r\n",
      "remote: Enumerating objects: 123, done.\u001b[K\r\n",
      "remote: Counting objects: 100% (123/123), done.\u001b[K\r\n",
      "remote: Compressing objects: 100% (83/83), done.\u001b[K\r\n",
      "remote: Total 123 (delta 39), reused 0 (delta 0), pack-reused 0 (from 0)\u001b[K\r\n",
      "Receiving objects: 100% (123/123), 45.61 KiB | 1.11 MiB/s, done.\r\n",
      "Resolving deltas: 100% (39/39), done.\r\n",
      "CPU times: user 1.88 s, sys: 204 ms, total: 2.09 s\n",
      "Wall time: 3.91 s\n"
     ]
    }
   ],
   "source": [
    "%%time\n",
    "\n",
    "!git clone https://github.com/muhammadabdullah0303/AbdML\n",
    "\n",
    "import sys\n",
    "sys.path.append('/kaggle/working/repository')\n",
    "\n",
    "from AbdML.main import AbdBase\n",
    "\n",
    "train = pd.read_csv('/kaggle/input/playground-series-s4e11/train.csv')\n",
    "test = pd.read_csv('/kaggle/input/playground-series-s4e11/test.csv')\n",
    "sample = pd.read_csv('/kaggle/input/playground-series-s4e11/sample_submission.csv')\n",
    "original = pd.read_csv('/kaggle/input/depression-surveydataset-for-analysis/final_depression_dataset_1.csv')\n",
    "\n",
    "original['Depression'] = original['Depression'].map({\n",
    "    'No': 0,\n",
    "    'Yes': 1\n",
    "})\n",
    "\n",
    "train = train.drop('id',axis=1)\n",
    "test = test.drop('id',axis=1)\n",
    "\n",
    "train = pd.concat(objs=[train, original])\n",
    "\n",
    "cat_c = [col for col in train.columns if col != 'Depression']\n",
    "\n",
    "train[cat_c] = train[cat_c].fillna('None').astype('string')\n",
    "test = test.fillna('None').astype('string')"
   ]
  },
  {
   "cell_type": "code",
   "execution_count": 3,
   "id": "277b1113",
   "metadata": {
    "execution": {
     "iopub.execute_input": "2024-11-13T19:05:40.728427Z",
     "iopub.status.busy": "2024-11-13T19:05:40.727764Z",
     "iopub.status.idle": "2024-11-13T19:05:40.753112Z",
     "shell.execute_reply": "2024-11-13T19:05:40.752133Z"
    },
    "papermill": {
     "duration": 0.032943,
     "end_time": "2024-11-13T19:05:40.755275",
     "exception": false,
     "start_time": "2024-11-13T19:05:40.722332",
     "status": "completed"
    },
    "tags": []
   },
   "outputs": [
    {
     "data": {
      "text/html": [
       "<div>\n",
       "<style scoped>\n",
       "    .dataframe tbody tr th:only-of-type {\n",
       "        vertical-align: middle;\n",
       "    }\n",
       "\n",
       "    .dataframe tbody tr th {\n",
       "        vertical-align: top;\n",
       "    }\n",
       "\n",
       "    .dataframe thead th {\n",
       "        text-align: right;\n",
       "    }\n",
       "</style>\n",
       "<table border=\"1\" class=\"dataframe\">\n",
       "  <thead>\n",
       "    <tr style=\"text-align: right;\">\n",
       "      <th></th>\n",
       "      <th>Name</th>\n",
       "      <th>Gender</th>\n",
       "      <th>Age</th>\n",
       "      <th>City</th>\n",
       "      <th>Working Professional or Student</th>\n",
       "      <th>Profession</th>\n",
       "      <th>Academic Pressure</th>\n",
       "      <th>Work Pressure</th>\n",
       "      <th>CGPA</th>\n",
       "      <th>Study Satisfaction</th>\n",
       "      <th>Job Satisfaction</th>\n",
       "      <th>Sleep Duration</th>\n",
       "      <th>Dietary Habits</th>\n",
       "      <th>Degree</th>\n",
       "      <th>Have you ever had suicidal thoughts ?</th>\n",
       "      <th>Work/Study Hours</th>\n",
       "      <th>Financial Stress</th>\n",
       "      <th>Family History of Mental Illness</th>\n",
       "      <th>Depression</th>\n",
       "    </tr>\n",
       "  </thead>\n",
       "  <tbody>\n",
       "    <tr>\n",
       "      <th>0</th>\n",
       "      <td>Aaradhya</td>\n",
       "      <td>Female</td>\n",
       "      <td>49.0</td>\n",
       "      <td>Ludhiana</td>\n",
       "      <td>Working Professional</td>\n",
       "      <td>Chef</td>\n",
       "      <td>None</td>\n",
       "      <td>5.0</td>\n",
       "      <td>None</td>\n",
       "      <td>None</td>\n",
       "      <td>2.0</td>\n",
       "      <td>More than 8 hours</td>\n",
       "      <td>Healthy</td>\n",
       "      <td>BHM</td>\n",
       "      <td>No</td>\n",
       "      <td>1.0</td>\n",
       "      <td>2.0</td>\n",
       "      <td>No</td>\n",
       "      <td>0</td>\n",
       "    </tr>\n",
       "    <tr>\n",
       "      <th>1</th>\n",
       "      <td>Vivan</td>\n",
       "      <td>Male</td>\n",
       "      <td>26.0</td>\n",
       "      <td>Varanasi</td>\n",
       "      <td>Working Professional</td>\n",
       "      <td>Teacher</td>\n",
       "      <td>None</td>\n",
       "      <td>4.0</td>\n",
       "      <td>None</td>\n",
       "      <td>None</td>\n",
       "      <td>3.0</td>\n",
       "      <td>Less than 5 hours</td>\n",
       "      <td>Unhealthy</td>\n",
       "      <td>LLB</td>\n",
       "      <td>Yes</td>\n",
       "      <td>7.0</td>\n",
       "      <td>3.0</td>\n",
       "      <td>No</td>\n",
       "      <td>1</td>\n",
       "    </tr>\n",
       "    <tr>\n",
       "      <th>2</th>\n",
       "      <td>Yuvraj</td>\n",
       "      <td>Male</td>\n",
       "      <td>33.0</td>\n",
       "      <td>Visakhapatnam</td>\n",
       "      <td>Student</td>\n",
       "      <td>None</td>\n",
       "      <td>5.0</td>\n",
       "      <td>None</td>\n",
       "      <td>8.97</td>\n",
       "      <td>2.0</td>\n",
       "      <td>None</td>\n",
       "      <td>5-6 hours</td>\n",
       "      <td>Healthy</td>\n",
       "      <td>B.Pharm</td>\n",
       "      <td>Yes</td>\n",
       "      <td>3.0</td>\n",
       "      <td>1.0</td>\n",
       "      <td>No</td>\n",
       "      <td>1</td>\n",
       "    </tr>\n",
       "    <tr>\n",
       "      <th>3</th>\n",
       "      <td>Yuvraj</td>\n",
       "      <td>Male</td>\n",
       "      <td>22.0</td>\n",
       "      <td>Mumbai</td>\n",
       "      <td>Working Professional</td>\n",
       "      <td>Teacher</td>\n",
       "      <td>None</td>\n",
       "      <td>5.0</td>\n",
       "      <td>None</td>\n",
       "      <td>None</td>\n",
       "      <td>1.0</td>\n",
       "      <td>Less than 5 hours</td>\n",
       "      <td>Moderate</td>\n",
       "      <td>BBA</td>\n",
       "      <td>Yes</td>\n",
       "      <td>10.0</td>\n",
       "      <td>1.0</td>\n",
       "      <td>Yes</td>\n",
       "      <td>1</td>\n",
       "    </tr>\n",
       "    <tr>\n",
       "      <th>4</th>\n",
       "      <td>Rhea</td>\n",
       "      <td>Female</td>\n",
       "      <td>30.0</td>\n",
       "      <td>Kanpur</td>\n",
       "      <td>Working Professional</td>\n",
       "      <td>Business Analyst</td>\n",
       "      <td>None</td>\n",
       "      <td>1.0</td>\n",
       "      <td>None</td>\n",
       "      <td>None</td>\n",
       "      <td>1.0</td>\n",
       "      <td>5-6 hours</td>\n",
       "      <td>Unhealthy</td>\n",
       "      <td>BBA</td>\n",
       "      <td>Yes</td>\n",
       "      <td>9.0</td>\n",
       "      <td>4.0</td>\n",
       "      <td>Yes</td>\n",
       "      <td>0</td>\n",
       "    </tr>\n",
       "  </tbody>\n",
       "</table>\n",
       "</div>"
      ],
      "text/plain": [
       "       Name  Gender   Age           City Working Professional or Student  \\\n",
       "0  Aaradhya  Female  49.0       Ludhiana            Working Professional   \n",
       "1     Vivan    Male  26.0       Varanasi            Working Professional   \n",
       "2    Yuvraj    Male  33.0  Visakhapatnam                         Student   \n",
       "3    Yuvraj    Male  22.0         Mumbai            Working Professional   \n",
       "4      Rhea  Female  30.0         Kanpur            Working Professional   \n",
       "\n",
       "         Profession Academic Pressure Work Pressure  CGPA Study Satisfaction  \\\n",
       "0              Chef              None           5.0  None               None   \n",
       "1           Teacher              None           4.0  None               None   \n",
       "2              None               5.0          None  8.97                2.0   \n",
       "3           Teacher              None           5.0  None               None   \n",
       "4  Business Analyst              None           1.0  None               None   \n",
       "\n",
       "  Job Satisfaction     Sleep Duration Dietary Habits   Degree  \\\n",
       "0              2.0  More than 8 hours        Healthy      BHM   \n",
       "1              3.0  Less than 5 hours      Unhealthy      LLB   \n",
       "2             None          5-6 hours        Healthy  B.Pharm   \n",
       "3              1.0  Less than 5 hours       Moderate      BBA   \n",
       "4              1.0          5-6 hours      Unhealthy      BBA   \n",
       "\n",
       "  Have you ever had suicidal thoughts ? Work/Study Hours Financial Stress  \\\n",
       "0                                    No              1.0              2.0   \n",
       "1                                   Yes              7.0              3.0   \n",
       "2                                   Yes              3.0              1.0   \n",
       "3                                   Yes             10.0              1.0   \n",
       "4                                   Yes              9.0              4.0   \n",
       "\n",
       "  Family History of Mental Illness  Depression  \n",
       "0                               No           0  \n",
       "1                               No           1  \n",
       "2                               No           1  \n",
       "3                              Yes           1  \n",
       "4                              Yes           0  "
      ]
     },
     "execution_count": 3,
     "metadata": {},
     "output_type": "execute_result"
    }
   ],
   "source": [
    "train.head()"
   ]
  },
  {
   "cell_type": "code",
   "execution_count": 4,
   "id": "e40635e4",
   "metadata": {
    "execution": {
     "iopub.execute_input": "2024-11-13T19:05:40.767431Z",
     "iopub.status.busy": "2024-11-13T19:05:40.766733Z",
     "iopub.status.idle": "2024-11-13T19:05:40.785942Z",
     "shell.execute_reply": "2024-11-13T19:05:40.785051Z"
    },
    "papermill": {
     "duration": 0.026923,
     "end_time": "2024-11-13T19:05:40.788017",
     "exception": false,
     "start_time": "2024-11-13T19:05:40.761094",
     "status": "completed"
    },
    "tags": []
   },
   "outputs": [
    {
     "data": {
      "text/html": [
       "<div>\n",
       "<style scoped>\n",
       "    .dataframe tbody tr th:only-of-type {\n",
       "        vertical-align: middle;\n",
       "    }\n",
       "\n",
       "    .dataframe tbody tr th {\n",
       "        vertical-align: top;\n",
       "    }\n",
       "\n",
       "    .dataframe thead th {\n",
       "        text-align: right;\n",
       "    }\n",
       "</style>\n",
       "<table border=\"1\" class=\"dataframe\">\n",
       "  <thead>\n",
       "    <tr style=\"text-align: right;\">\n",
       "      <th></th>\n",
       "      <th>Name</th>\n",
       "      <th>Gender</th>\n",
       "      <th>Age</th>\n",
       "      <th>City</th>\n",
       "      <th>Working Professional or Student</th>\n",
       "      <th>Profession</th>\n",
       "      <th>Academic Pressure</th>\n",
       "      <th>Work Pressure</th>\n",
       "      <th>CGPA</th>\n",
       "      <th>Study Satisfaction</th>\n",
       "      <th>Job Satisfaction</th>\n",
       "      <th>Sleep Duration</th>\n",
       "      <th>Dietary Habits</th>\n",
       "      <th>Degree</th>\n",
       "      <th>Have you ever had suicidal thoughts ?</th>\n",
       "      <th>Work/Study Hours</th>\n",
       "      <th>Financial Stress</th>\n",
       "      <th>Family History of Mental Illness</th>\n",
       "    </tr>\n",
       "  </thead>\n",
       "  <tbody>\n",
       "    <tr>\n",
       "      <th>0</th>\n",
       "      <td>Shivam</td>\n",
       "      <td>Male</td>\n",
       "      <td>53.0</td>\n",
       "      <td>Visakhapatnam</td>\n",
       "      <td>Working Professional</td>\n",
       "      <td>Judge</td>\n",
       "      <td>None</td>\n",
       "      <td>2.0</td>\n",
       "      <td>None</td>\n",
       "      <td>None</td>\n",
       "      <td>5.0</td>\n",
       "      <td>Less than 5 hours</td>\n",
       "      <td>Moderate</td>\n",
       "      <td>LLB</td>\n",
       "      <td>No</td>\n",
       "      <td>9.0</td>\n",
       "      <td>3.0</td>\n",
       "      <td>Yes</td>\n",
       "    </tr>\n",
       "    <tr>\n",
       "      <th>1</th>\n",
       "      <td>Sanya</td>\n",
       "      <td>Female</td>\n",
       "      <td>58.0</td>\n",
       "      <td>Kolkata</td>\n",
       "      <td>Working Professional</td>\n",
       "      <td>Educational Consultant</td>\n",
       "      <td>None</td>\n",
       "      <td>2.0</td>\n",
       "      <td>None</td>\n",
       "      <td>None</td>\n",
       "      <td>4.0</td>\n",
       "      <td>Less than 5 hours</td>\n",
       "      <td>Moderate</td>\n",
       "      <td>B.Ed</td>\n",
       "      <td>No</td>\n",
       "      <td>6.0</td>\n",
       "      <td>4.0</td>\n",
       "      <td>No</td>\n",
       "    </tr>\n",
       "    <tr>\n",
       "      <th>2</th>\n",
       "      <td>Yash</td>\n",
       "      <td>Male</td>\n",
       "      <td>53.0</td>\n",
       "      <td>Jaipur</td>\n",
       "      <td>Working Professional</td>\n",
       "      <td>Teacher</td>\n",
       "      <td>None</td>\n",
       "      <td>4.0</td>\n",
       "      <td>None</td>\n",
       "      <td>None</td>\n",
       "      <td>1.0</td>\n",
       "      <td>7-8 hours</td>\n",
       "      <td>Moderate</td>\n",
       "      <td>B.Arch</td>\n",
       "      <td>Yes</td>\n",
       "      <td>12.0</td>\n",
       "      <td>4.0</td>\n",
       "      <td>No</td>\n",
       "    </tr>\n",
       "    <tr>\n",
       "      <th>3</th>\n",
       "      <td>Nalini</td>\n",
       "      <td>Female</td>\n",
       "      <td>23.0</td>\n",
       "      <td>Rajkot</td>\n",
       "      <td>Student</td>\n",
       "      <td>None</td>\n",
       "      <td>5.0</td>\n",
       "      <td>None</td>\n",
       "      <td>6.84</td>\n",
       "      <td>1.0</td>\n",
       "      <td>None</td>\n",
       "      <td>More than 8 hours</td>\n",
       "      <td>Moderate</td>\n",
       "      <td>BSc</td>\n",
       "      <td>Yes</td>\n",
       "      <td>10.0</td>\n",
       "      <td>4.0</td>\n",
       "      <td>No</td>\n",
       "    </tr>\n",
       "    <tr>\n",
       "      <th>4</th>\n",
       "      <td>Shaurya</td>\n",
       "      <td>Male</td>\n",
       "      <td>47.0</td>\n",
       "      <td>Kalyan</td>\n",
       "      <td>Working Professional</td>\n",
       "      <td>Teacher</td>\n",
       "      <td>None</td>\n",
       "      <td>5.0</td>\n",
       "      <td>None</td>\n",
       "      <td>None</td>\n",
       "      <td>5.0</td>\n",
       "      <td>7-8 hours</td>\n",
       "      <td>Moderate</td>\n",
       "      <td>BCA</td>\n",
       "      <td>Yes</td>\n",
       "      <td>3.0</td>\n",
       "      <td>4.0</td>\n",
       "      <td>No</td>\n",
       "    </tr>\n",
       "  </tbody>\n",
       "</table>\n",
       "</div>"
      ],
      "text/plain": [
       "      Name  Gender   Age           City Working Professional or Student  \\\n",
       "0   Shivam    Male  53.0  Visakhapatnam            Working Professional   \n",
       "1    Sanya  Female  58.0        Kolkata            Working Professional   \n",
       "2     Yash    Male  53.0         Jaipur            Working Professional   \n",
       "3   Nalini  Female  23.0         Rajkot                         Student   \n",
       "4  Shaurya    Male  47.0         Kalyan            Working Professional   \n",
       "\n",
       "               Profession Academic Pressure Work Pressure  CGPA  \\\n",
       "0                   Judge              None           2.0  None   \n",
       "1  Educational Consultant              None           2.0  None   \n",
       "2                 Teacher              None           4.0  None   \n",
       "3                    None               5.0          None  6.84   \n",
       "4                 Teacher              None           5.0  None   \n",
       "\n",
       "  Study Satisfaction Job Satisfaction     Sleep Duration Dietary Habits  \\\n",
       "0               None              5.0  Less than 5 hours       Moderate   \n",
       "1               None              4.0  Less than 5 hours       Moderate   \n",
       "2               None              1.0          7-8 hours       Moderate   \n",
       "3                1.0             None  More than 8 hours       Moderate   \n",
       "4               None              5.0          7-8 hours       Moderate   \n",
       "\n",
       "   Degree Have you ever had suicidal thoughts ? Work/Study Hours  \\\n",
       "0     LLB                                    No              9.0   \n",
       "1    B.Ed                                    No              6.0   \n",
       "2  B.Arch                                   Yes             12.0   \n",
       "3     BSc                                   Yes             10.0   \n",
       "4     BCA                                   Yes              3.0   \n",
       "\n",
       "  Financial Stress Family History of Mental Illness  \n",
       "0              3.0                              Yes  \n",
       "1              4.0                               No  \n",
       "2              4.0                               No  \n",
       "3              4.0                               No  \n",
       "4              4.0                               No  "
      ]
     },
     "execution_count": 4,
     "metadata": {},
     "output_type": "execute_result"
    }
   ],
   "source": [
    "test.head()"
   ]
  },
  {
   "cell_type": "markdown",
   "id": "b38dfb27",
   "metadata": {
    "papermill": {
     "duration": 0.005289,
     "end_time": "2024-11-13T19:05:40.798688",
     "exception": false,
     "start_time": "2024-11-13T19:05:40.793399",
     "status": "completed"
    },
    "tags": []
   },
   "source": [
    "# <p style=\"background-color:#006064; font-family:'Pacifico', cursive; color:#E0F7FA; font-size:140%; text-align:center; border: 2px solid #004D40; border-radius:15px; padding: 15px; box-shadow: 5px 5px 20px rgba(0, 0, 0, 0.5); font-weight: bold; letter-spacing: 1px; text-transform: uppercase;\">Baseline | Models</p>"
   ]
  },
  {
   "cell_type": "code",
   "execution_count": 5,
   "id": "26c736d1",
   "metadata": {
    "execution": {
     "iopub.execute_input": "2024-11-13T19:05:40.810429Z",
     "iopub.status.busy": "2024-11-13T19:05:40.809892Z",
     "iopub.status.idle": "2024-11-13T19:08:31.987881Z",
     "shell.execute_reply": "2024-11-13T19:08:31.986551Z"
    },
    "papermill": {
     "duration": 171.186343,
     "end_time": "2024-11-13T19:08:31.990059",
     "exception": false,
     "start_time": "2024-11-13T19:05:40.803716",
     "status": "completed"
    },
    "tags": []
   },
   "outputs": [
    {
     "name": "stderr",
     "output_type": "stream",
     "text": [
      "Training Folds: 100%|██████████| 10/10 [02:51<00:00, 17.11s/it]"
     ]
    },
    {
     "name": "stdout",
     "output_type": "stream",
     "text": [
      "Overall Train ROC_AUC: 0.9783\n",
      "Overall OOF ROC_AUC: 0.9753\n",
      "CPU times: user 6min 23s, sys: 49.4 s, total: 7min 12s\n",
      "Wall time: 2min 51s\n"
     ]
    },
    {
     "name": "stderr",
     "output_type": "stream",
     "text": [
      "\n"
     ]
    }
   ],
   "source": [
    "%%time\n",
    "\n",
    "SEED = 42\n",
    "\n",
    "base = AbdBase(train_data=train, test_data=test, target_column='Depression',\n",
    "                 problem_type=\"classification\", metric=\"roc_auc\", seed=SEED,\n",
    "                 n_splits=10, cat_features=cat_c, num_classes=2, \n",
    "                 prob=True,early_stop=True,test_prob=True)\n",
    "\n",
    "Params4 = {'loss_function': 'Logloss','eval_metric': 'AUC','learning_rate': 0.08114394459649094,\n",
    "    'iterations': 1000,'depth': 6,'random_strength':0,'l2_leaf_reg': 0.7047064221215757,'task_type': 'GPU',} # LB : 0.94381\n",
    "\n",
    "meanOFF, meanTest = base.Train_ML(Params4,'CAT',e_stop=50)"
   ]
  },
  {
   "cell_type": "code",
   "execution_count": 6,
   "id": "c23e120c",
   "metadata": {
    "execution": {
     "iopub.execute_input": "2024-11-13T19:08:32.002546Z",
     "iopub.status.busy": "2024-11-13T19:08:32.002197Z",
     "iopub.status.idle": "2024-11-13T19:13:02.566771Z",
     "shell.execute_reply": "2024-11-13T19:13:02.565729Z"
    },
    "papermill": {
     "duration": 270.573153,
     "end_time": "2024-11-13T19:13:02.568907",
     "exception": false,
     "start_time": "2024-11-13T19:08:31.995754",
     "status": "completed"
    },
    "tags": []
   },
   "outputs": [
    {
     "name": "stderr",
     "output_type": "stream",
     "text": [
      "Training Folds: 100%|██████████| 10/10 [04:30<00:00, 27.05s/it]"
     ]
    },
    {
     "name": "stdout",
     "output_type": "stream",
     "text": [
      "Overall Train ROC_AUC: 0.9784\n",
      "Overall OOF ROC_AUC: 0.9755\n",
      "CPU times: user 10min 6s, sys: 1min 24s, total: 11min 31s\n",
      "Wall time: 4min 30s\n"
     ]
    },
    {
     "name": "stderr",
     "output_type": "stream",
     "text": [
      "\n"
     ]
    }
   ],
   "source": [
    "%%time\n",
    "\n",
    "Params3 = {'iterations': 979, 'learning_rate': 0.04748459024928742, 'depth': 5, 'l2_leaf_reg': 4.087717923769713,\n",
    "           'random_strength': 0.6480619517272894, 'bagging_temperature': 0.4251430879330114, 'border_count': 85,\n",
    "          'task_type': \"GPU\",'loss_function': 'Logloss','eval_metric': 'AUC',} # Cv : 0.9755, Train : 0.9789 LB : 0.94328\n",
    "\n",
    "meanOFF2, meanTest2 = base.Train_ML(Params3,'CAT',e_stop=100)"
   ]
  },
  {
   "cell_type": "markdown",
   "id": "c90a5fe2",
   "metadata": {
    "papermill": {
     "duration": 0.005502,
     "end_time": "2024-11-13T19:13:02.580332",
     "exception": false,
     "start_time": "2024-11-13T19:13:02.574830",
     "status": "completed"
    },
    "tags": []
   },
   "source": [
    "# <p style=\"background-color:#006064; font-family:'Pacifico', cursive; color:#E0F7FA; font-size:140%; text-align:center; border: 2px solid #004D40; border-radius:15px; padding: 15px; box-shadow: 5px 5px 20px rgba(0, 0, 0, 0.5); font-weight: bold; letter-spacing: 1px; text-transform: uppercase;\">Submission</p>"
   ]
  },
  {
   "cell_type": "code",
   "execution_count": 7,
   "id": "5c452a6c",
   "metadata": {
    "execution": {
     "iopub.execute_input": "2024-11-13T19:13:02.592889Z",
     "iopub.status.busy": "2024-11-13T19:13:02.592534Z",
     "iopub.status.idle": "2024-11-13T19:13:02.714456Z",
     "shell.execute_reply": "2024-11-13T19:13:02.713529Z"
    },
    "papermill": {
     "duration": 0.130835,
     "end_time": "2024-11-13T19:13:02.716793",
     "exception": false,
     "start_time": "2024-11-13T19:13:02.585958",
     "status": "completed"
    },
    "tags": []
   },
   "outputs": [
    {
     "name": "stdout",
     "output_type": "stream",
     "text": [
      "CPU times: user 109 ms, sys: 1.06 ms, total: 110 ms\n",
      "Wall time: 111 ms\n"
     ]
    },
    {
     "data": {
      "text/html": [
       "<div>\n",
       "<style scoped>\n",
       "    .dataframe tbody tr th:only-of-type {\n",
       "        vertical-align: middle;\n",
       "    }\n",
       "\n",
       "    .dataframe tbody tr th {\n",
       "        vertical-align: top;\n",
       "    }\n",
       "\n",
       "    .dataframe thead th {\n",
       "        text-align: right;\n",
       "    }\n",
       "</style>\n",
       "<table border=\"1\" class=\"dataframe\">\n",
       "  <thead>\n",
       "    <tr style=\"text-align: right;\">\n",
       "      <th></th>\n",
       "      <th>id</th>\n",
       "      <th>Depression</th>\n",
       "    </tr>\n",
       "  </thead>\n",
       "  <tbody>\n",
       "    <tr>\n",
       "      <th>0</th>\n",
       "      <td>140700</td>\n",
       "      <td>0</td>\n",
       "    </tr>\n",
       "    <tr>\n",
       "      <th>1</th>\n",
       "      <td>140701</td>\n",
       "      <td>0</td>\n",
       "    </tr>\n",
       "    <tr>\n",
       "      <th>2</th>\n",
       "      <td>140702</td>\n",
       "      <td>0</td>\n",
       "    </tr>\n",
       "    <tr>\n",
       "      <th>3</th>\n",
       "      <td>140703</td>\n",
       "      <td>1</td>\n",
       "    </tr>\n",
       "    <tr>\n",
       "      <th>4</th>\n",
       "      <td>140704</td>\n",
       "      <td>0</td>\n",
       "    </tr>\n",
       "  </tbody>\n",
       "</table>\n",
       "</div>"
      ],
      "text/plain": [
       "       id  Depression\n",
       "0  140700           0\n",
       "1  140701           0\n",
       "2  140702           0\n",
       "3  140703           1\n",
       "4  140704           0"
      ]
     },
     "execution_count": 7,
     "metadata": {},
     "output_type": "execute_result"
    }
   ],
   "source": [
    "%%time\n",
    "\n",
    "mp1 = np.round(meanTest)\n",
    "mp2 = np.round(meanTest2)\n",
    "\n",
    "ep = mp1*0.9 + mp2*0.1\n",
    "\n",
    "sample['Depression'] = ep.astype('int')\n",
    "\n",
    "sample.to_csv('SubmissionEnsemble.csv', index=False)\n",
    "\n",
    "sample.head()"
   ]
  }
 ],
 "metadata": {
  "kaggle": {
   "accelerator": "nvidiaTeslaT4",
   "dataSources": [
    {
     "databundleVersionId": 10008389,
     "sourceId": 84895,
     "sourceType": "competition"
    },
    {
     "datasetId": 5868381,
     "sourceId": 9616093,
     "sourceType": "datasetVersion"
    }
   ],
   "dockerImageVersionId": 30786,
   "isGpuEnabled": true,
   "isInternetEnabled": true,
   "language": "python",
   "sourceType": "notebook"
  },
  "kernelspec": {
   "display_name": "Python 3",
   "language": "python",
   "name": "python3"
  },
  "language_info": {
   "codemirror_mode": {
    "name": "ipython",
    "version": 3
   },
   "file_extension": ".py",
   "mimetype": "text/x-python",
   "name": "python",
   "nbconvert_exporter": "python",
   "pygments_lexer": "ipython3",
   "version": "3.10.14"
  },
  "papermill": {
   "default_parameters": {},
   "duration": 455.595621,
   "end_time": "2024-11-13T19:13:03.743758",
   "environment_variables": {},
   "exception": null,
   "input_path": "__notebook__.ipynb",
   "output_path": "__notebook__.ipynb",
   "parameters": {},
   "start_time": "2024-11-13T19:05:28.148137",
   "version": "2.6.0"
  }
 },
 "nbformat": 4,
 "nbformat_minor": 5
}
