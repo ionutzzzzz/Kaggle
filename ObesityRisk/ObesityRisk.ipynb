{
 "cells": [
  {
   "cell_type": "markdown",
   "metadata": {},
   "source": [
    "# Multi-Class Prediction of Obesity Risk\n",
    "\n",
    "(Playground Series - Season 4, Episode 2)\n",
    "\n",
    "https://www.kaggle.com/competitions/playground-series-s4e2/overview\n",
    "\n",
    "![Image](./data/picture.png)\n",
    "\n",
    "__About the Tabular Playground Series__\n",
    "The goal of the Tabular Playground Series is to provide the Kaggle community with a variety of fairly light-weight challenges that can be used to learn and sharpen skills in different aspects of machine learning and data science. The duration of each competition will generally only last a few weeks, and may have longer or shorter durations depending on the challenge. The challenges will generally use fairly light-weight datasets that are synthetically generated from real-world data, and will provide an opportunity to quickly iterate through various model and feature engineering ideas, create visualizations, etc.\n",
    "\n",
    "__Synthetically-Generated Datasets__\n",
    "Using synthetic data for Playground competitions allows us to strike a balance between having real-world data (with named features) and ensuring test labels are not publicly available. This allows us to host competitions with more interesting datasets than in the past. While there are still challenges with synthetic data generation, the state-of-the-art is much better now than when we started the Tabular Playground Series two years ago, and that goal is to produce datasets that have far fewer artifacts. Please feel free to give us feedback on the datasets for the different competitions so that we can continue to improve!\n",
    "\n",
    "__Dataset Description__\n",
    "The dataset for this competition (both train and test) was generated from a deep learning model trained on the Obesity or CVD risk dataset. Feature distributions are close to, but not exactly the same, as the original. Feel free to use the original dataset as part of this competition, both to explore differences as well as to see whether incorporating the original in training improves model performance.\n",
    "\n",
    "Note: This dataset is particularly well suited for visualizations, clustering, and general EDA. Show off your skills!\n",
    "\n",
    "__Files__\n",
    "* train.csv - the training dataset; NObeyesdad is the categorical target\n",
    "* test.csv - the test dataset; your objective is to predict the class of NObeyesdad for each row\n",
    "* sample_submission.csv - a sample submission file in the correct format\n",
    "\n",
    "__Model Features__\n",
    "\n",
    "- Frequent consumption of high caloric food (FAVC)\n",
    "- Frequency of consumption of vegetables(FCVC)\n",
    "- Number of main meals (NCP)\n",
    "- Consumption of food between meals (CAEC)\n",
    "- Consumption of water daily (CH2O)\n",
    "- Calories consumption monitoring (SCC)\n",
    "- Physical activity frequency (FAF)\n",
    "- Time using technology devices (TUE)\n",
    "- Consumption of alcohol (CALC)\n",
    "- Transportation used (MTRANS)"
   ]
  },
  {
   "cell_type": "code",
   "execution_count": 3,
   "metadata": {},
   "outputs": [],
   "source": [
    "# Import all the librarys\n",
    "\n",
    "import time\n",
    "import numpy as np\n",
    "import pandas as pd\n",
    "import pickle as pkl\n",
    "import datetime as dt\n",
    "import warnings as wn\n",
    "import matplotlib.pyplot as plt\n",
    "\n",
    "from sklearn.pipeline import Pipeline\n",
    "from sklearn.metrics import accuracy_score\n",
    "from sklearn.metrics import confusion_matrix\n",
    "from sklearn.preprocessing import LabelEncoder\n",
    "from sklearn.preprocessing import MinMaxScaler\n",
    "from sklearn.preprocessing import StandardScaler\n",
    "from sklearn.metrics import classification_report\n",
    "from sklearn.model_selection import train_test_split\n",
    "from sklearn.preprocessing import QuantileTransformer"
   ]
  },
  {
   "cell_type": "code",
   "execution_count": 2,
   "metadata": {},
   "outputs": [],
   "source": [
    "# Ignore all warnings\n",
    "wn.filterwarnings('ignore')"
   ]
  },
  {
   "cell_type": "code",
   "execution_count": 4,
   "metadata": {},
   "outputs": [],
   "source": [
    "# Set all variable paths \n",
    "\n",
    "_plots = './plots/'\n",
    "_test = './data/test.csv'\n",
    "_train = './data/train.csv'\n",
    "_info = './model/model.docx'\n",
    "_model = './model/model.pkl'\n",
    "_submission = './data/submission.csv'"
   ]
  },
  {
   "cell_type": "code",
   "execution_count": 5,
   "metadata": {},
   "outputs": [],
   "source": [
    "# Read the data from file\n",
    "\n",
    "test_data = pd.read_csv(_test)\n",
    "train_data = pd.read_csv(_train)"
   ]
  },
  {
   "cell_type": "code",
   "execution_count": 6,
   "metadata": {},
   "outputs": [
    {
     "data": {
      "text/html": [
       "<div>\n",
       "<style scoped>\n",
       "    .dataframe tbody tr th:only-of-type {\n",
       "        vertical-align: middle;\n",
       "    }\n",
       "\n",
       "    .dataframe tbody tr th {\n",
       "        vertical-align: top;\n",
       "    }\n",
       "\n",
       "    .dataframe thead th {\n",
       "        text-align: right;\n",
       "    }\n",
       "</style>\n",
       "<table border=\"1\" class=\"dataframe\">\n",
       "  <thead>\n",
       "    <tr style=\"text-align: right;\">\n",
       "      <th></th>\n",
       "      <th>id</th>\n",
       "      <th>Gender</th>\n",
       "      <th>Age</th>\n",
       "      <th>Height</th>\n",
       "      <th>Weight</th>\n",
       "      <th>family_history_with_overweight</th>\n",
       "      <th>FAVC</th>\n",
       "      <th>FCVC</th>\n",
       "      <th>NCP</th>\n",
       "      <th>CAEC</th>\n",
       "      <th>SMOKE</th>\n",
       "      <th>CH2O</th>\n",
       "      <th>SCC</th>\n",
       "      <th>FAF</th>\n",
       "      <th>TUE</th>\n",
       "      <th>CALC</th>\n",
       "      <th>MTRANS</th>\n",
       "      <th>NObeyesdad</th>\n",
       "    </tr>\n",
       "  </thead>\n",
       "  <tbody>\n",
       "    <tr>\n",
       "      <th>0</th>\n",
       "      <td>0</td>\n",
       "      <td>Male</td>\n",
       "      <td>24.443011</td>\n",
       "      <td>1.699998</td>\n",
       "      <td>81.669950</td>\n",
       "      <td>yes</td>\n",
       "      <td>yes</td>\n",
       "      <td>2.000000</td>\n",
       "      <td>2.983297</td>\n",
       "      <td>Sometimes</td>\n",
       "      <td>no</td>\n",
       "      <td>2.763573</td>\n",
       "      <td>no</td>\n",
       "      <td>0.000000</td>\n",
       "      <td>0.976473</td>\n",
       "      <td>Sometimes</td>\n",
       "      <td>Public_Transportation</td>\n",
       "      <td>Overweight_Level_II</td>\n",
       "    </tr>\n",
       "    <tr>\n",
       "      <th>1</th>\n",
       "      <td>1</td>\n",
       "      <td>Female</td>\n",
       "      <td>18.000000</td>\n",
       "      <td>1.560000</td>\n",
       "      <td>57.000000</td>\n",
       "      <td>yes</td>\n",
       "      <td>yes</td>\n",
       "      <td>2.000000</td>\n",
       "      <td>3.000000</td>\n",
       "      <td>Frequently</td>\n",
       "      <td>no</td>\n",
       "      <td>2.000000</td>\n",
       "      <td>no</td>\n",
       "      <td>1.000000</td>\n",
       "      <td>1.000000</td>\n",
       "      <td>no</td>\n",
       "      <td>Automobile</td>\n",
       "      <td>Normal_Weight</td>\n",
       "    </tr>\n",
       "    <tr>\n",
       "      <th>2</th>\n",
       "      <td>2</td>\n",
       "      <td>Female</td>\n",
       "      <td>18.000000</td>\n",
       "      <td>1.711460</td>\n",
       "      <td>50.165754</td>\n",
       "      <td>yes</td>\n",
       "      <td>yes</td>\n",
       "      <td>1.880534</td>\n",
       "      <td>1.411685</td>\n",
       "      <td>Sometimes</td>\n",
       "      <td>no</td>\n",
       "      <td>1.910378</td>\n",
       "      <td>no</td>\n",
       "      <td>0.866045</td>\n",
       "      <td>1.673584</td>\n",
       "      <td>no</td>\n",
       "      <td>Public_Transportation</td>\n",
       "      <td>Insufficient_Weight</td>\n",
       "    </tr>\n",
       "    <tr>\n",
       "      <th>3</th>\n",
       "      <td>3</td>\n",
       "      <td>Female</td>\n",
       "      <td>20.952737</td>\n",
       "      <td>1.710730</td>\n",
       "      <td>131.274851</td>\n",
       "      <td>yes</td>\n",
       "      <td>yes</td>\n",
       "      <td>3.000000</td>\n",
       "      <td>3.000000</td>\n",
       "      <td>Sometimes</td>\n",
       "      <td>no</td>\n",
       "      <td>1.674061</td>\n",
       "      <td>no</td>\n",
       "      <td>1.467863</td>\n",
       "      <td>0.780199</td>\n",
       "      <td>Sometimes</td>\n",
       "      <td>Public_Transportation</td>\n",
       "      <td>Obesity_Type_III</td>\n",
       "    </tr>\n",
       "    <tr>\n",
       "      <th>4</th>\n",
       "      <td>4</td>\n",
       "      <td>Male</td>\n",
       "      <td>31.641081</td>\n",
       "      <td>1.914186</td>\n",
       "      <td>93.798055</td>\n",
       "      <td>yes</td>\n",
       "      <td>yes</td>\n",
       "      <td>2.679664</td>\n",
       "      <td>1.971472</td>\n",
       "      <td>Sometimes</td>\n",
       "      <td>no</td>\n",
       "      <td>1.979848</td>\n",
       "      <td>no</td>\n",
       "      <td>1.967973</td>\n",
       "      <td>0.931721</td>\n",
       "      <td>Sometimes</td>\n",
       "      <td>Public_Transportation</td>\n",
       "      <td>Overweight_Level_II</td>\n",
       "    </tr>\n",
       "    <tr>\n",
       "      <th>5</th>\n",
       "      <td>5</td>\n",
       "      <td>Male</td>\n",
       "      <td>18.128249</td>\n",
       "      <td>1.748524</td>\n",
       "      <td>51.552595</td>\n",
       "      <td>yes</td>\n",
       "      <td>yes</td>\n",
       "      <td>2.919751</td>\n",
       "      <td>3.000000</td>\n",
       "      <td>Sometimes</td>\n",
       "      <td>no</td>\n",
       "      <td>2.137550</td>\n",
       "      <td>no</td>\n",
       "      <td>1.930033</td>\n",
       "      <td>1.000000</td>\n",
       "      <td>Sometimes</td>\n",
       "      <td>Public_Transportation</td>\n",
       "      <td>Insufficient_Weight</td>\n",
       "    </tr>\n",
       "    <tr>\n",
       "      <th>6</th>\n",
       "      <td>6</td>\n",
       "      <td>Male</td>\n",
       "      <td>29.883021</td>\n",
       "      <td>1.754711</td>\n",
       "      <td>112.725005</td>\n",
       "      <td>yes</td>\n",
       "      <td>yes</td>\n",
       "      <td>1.991240</td>\n",
       "      <td>3.000000</td>\n",
       "      <td>Sometimes</td>\n",
       "      <td>no</td>\n",
       "      <td>2.000000</td>\n",
       "      <td>no</td>\n",
       "      <td>0.000000</td>\n",
       "      <td>0.696948</td>\n",
       "      <td>Sometimes</td>\n",
       "      <td>Automobile</td>\n",
       "      <td>Obesity_Type_II</td>\n",
       "    </tr>\n",
       "    <tr>\n",
       "      <th>7</th>\n",
       "      <td>7</td>\n",
       "      <td>Male</td>\n",
       "      <td>29.891473</td>\n",
       "      <td>1.750150</td>\n",
       "      <td>118.206565</td>\n",
       "      <td>yes</td>\n",
       "      <td>yes</td>\n",
       "      <td>1.397468</td>\n",
       "      <td>3.000000</td>\n",
       "      <td>Sometimes</td>\n",
       "      <td>no</td>\n",
       "      <td>2.000000</td>\n",
       "      <td>no</td>\n",
       "      <td>0.598655</td>\n",
       "      <td>0.000000</td>\n",
       "      <td>Sometimes</td>\n",
       "      <td>Automobile</td>\n",
       "      <td>Obesity_Type_II</td>\n",
       "    </tr>\n",
       "    <tr>\n",
       "      <th>8</th>\n",
       "      <td>8</td>\n",
       "      <td>Male</td>\n",
       "      <td>17.000000</td>\n",
       "      <td>1.700000</td>\n",
       "      <td>70.000000</td>\n",
       "      <td>no</td>\n",
       "      <td>yes</td>\n",
       "      <td>2.000000</td>\n",
       "      <td>3.000000</td>\n",
       "      <td>Sometimes</td>\n",
       "      <td>no</td>\n",
       "      <td>3.000000</td>\n",
       "      <td>yes</td>\n",
       "      <td>1.000000</td>\n",
       "      <td>1.000000</td>\n",
       "      <td>no</td>\n",
       "      <td>Public_Transportation</td>\n",
       "      <td>Overweight_Level_I</td>\n",
       "    </tr>\n",
       "    <tr>\n",
       "      <th>9</th>\n",
       "      <td>9</td>\n",
       "      <td>Female</td>\n",
       "      <td>26.000000</td>\n",
       "      <td>1.638836</td>\n",
       "      <td>111.275646</td>\n",
       "      <td>yes</td>\n",
       "      <td>yes</td>\n",
       "      <td>3.000000</td>\n",
       "      <td>3.000000</td>\n",
       "      <td>Sometimes</td>\n",
       "      <td>no</td>\n",
       "      <td>2.632253</td>\n",
       "      <td>no</td>\n",
       "      <td>0.000000</td>\n",
       "      <td>0.218645</td>\n",
       "      <td>Sometimes</td>\n",
       "      <td>Public_Transportation</td>\n",
       "      <td>Obesity_Type_III</td>\n",
       "    </tr>\n",
       "  </tbody>\n",
       "</table>\n",
       "</div>"
      ],
      "text/plain": [
       "   id  Gender        Age    Height      Weight family_history_with_overweight  \\\n",
       "0   0    Male  24.443011  1.699998   81.669950                            yes   \n",
       "1   1  Female  18.000000  1.560000   57.000000                            yes   \n",
       "2   2  Female  18.000000  1.711460   50.165754                            yes   \n",
       "3   3  Female  20.952737  1.710730  131.274851                            yes   \n",
       "4   4    Male  31.641081  1.914186   93.798055                            yes   \n",
       "5   5    Male  18.128249  1.748524   51.552595                            yes   \n",
       "6   6    Male  29.883021  1.754711  112.725005                            yes   \n",
       "7   7    Male  29.891473  1.750150  118.206565                            yes   \n",
       "8   8    Male  17.000000  1.700000   70.000000                             no   \n",
       "9   9  Female  26.000000  1.638836  111.275646                            yes   \n",
       "\n",
       "  FAVC      FCVC       NCP        CAEC SMOKE      CH2O  SCC       FAF  \\\n",
       "0  yes  2.000000  2.983297   Sometimes    no  2.763573   no  0.000000   \n",
       "1  yes  2.000000  3.000000  Frequently    no  2.000000   no  1.000000   \n",
       "2  yes  1.880534  1.411685   Sometimes    no  1.910378   no  0.866045   \n",
       "3  yes  3.000000  3.000000   Sometimes    no  1.674061   no  1.467863   \n",
       "4  yes  2.679664  1.971472   Sometimes    no  1.979848   no  1.967973   \n",
       "5  yes  2.919751  3.000000   Sometimes    no  2.137550   no  1.930033   \n",
       "6  yes  1.991240  3.000000   Sometimes    no  2.000000   no  0.000000   \n",
       "7  yes  1.397468  3.000000   Sometimes    no  2.000000   no  0.598655   \n",
       "8  yes  2.000000  3.000000   Sometimes    no  3.000000  yes  1.000000   \n",
       "9  yes  3.000000  3.000000   Sometimes    no  2.632253   no  0.000000   \n",
       "\n",
       "        TUE       CALC                 MTRANS           NObeyesdad  \n",
       "0  0.976473  Sometimes  Public_Transportation  Overweight_Level_II  \n",
       "1  1.000000         no             Automobile        Normal_Weight  \n",
       "2  1.673584         no  Public_Transportation  Insufficient_Weight  \n",
       "3  0.780199  Sometimes  Public_Transportation     Obesity_Type_III  \n",
       "4  0.931721  Sometimes  Public_Transportation  Overweight_Level_II  \n",
       "5  1.000000  Sometimes  Public_Transportation  Insufficient_Weight  \n",
       "6  0.696948  Sometimes             Automobile      Obesity_Type_II  \n",
       "7  0.000000  Sometimes             Automobile      Obesity_Type_II  \n",
       "8  1.000000         no  Public_Transportation   Overweight_Level_I  \n",
       "9  0.218645  Sometimes  Public_Transportation     Obesity_Type_III  "
      ]
     },
     "execution_count": 6,
     "metadata": {},
     "output_type": "execute_result"
    }
   ],
   "source": [
    "# Display the first n rows from dataset\n",
    "train_data.head(n=10)"
   ]
  },
  {
   "cell_type": "code",
   "execution_count": 7,
   "metadata": {},
   "outputs": [
    {
     "data": {
      "text/html": [
       "<div>\n",
       "<style scoped>\n",
       "    .dataframe tbody tr th:only-of-type {\n",
       "        vertical-align: middle;\n",
       "    }\n",
       "\n",
       "    .dataframe tbody tr th {\n",
       "        vertical-align: top;\n",
       "    }\n",
       "\n",
       "    .dataframe thead th {\n",
       "        text-align: right;\n",
       "    }\n",
       "</style>\n",
       "<table border=\"1\" class=\"dataframe\">\n",
       "  <thead>\n",
       "    <tr style=\"text-align: right;\">\n",
       "      <th></th>\n",
       "      <th>id</th>\n",
       "      <th>Age</th>\n",
       "      <th>Height</th>\n",
       "      <th>Weight</th>\n",
       "      <th>FCVC</th>\n",
       "      <th>NCP</th>\n",
       "      <th>CH2O</th>\n",
       "      <th>FAF</th>\n",
       "      <th>TUE</th>\n",
       "    </tr>\n",
       "  </thead>\n",
       "  <tbody>\n",
       "    <tr>\n",
       "      <th>count</th>\n",
       "      <td>20758.00000</td>\n",
       "      <td>20758.000000</td>\n",
       "      <td>20758.000000</td>\n",
       "      <td>20758.000000</td>\n",
       "      <td>20758.000000</td>\n",
       "      <td>20758.000000</td>\n",
       "      <td>20758.000000</td>\n",
       "      <td>20758.000000</td>\n",
       "      <td>20758.000000</td>\n",
       "    </tr>\n",
       "    <tr>\n",
       "      <th>mean</th>\n",
       "      <td>10378.50000</td>\n",
       "      <td>23.841804</td>\n",
       "      <td>1.700245</td>\n",
       "      <td>87.887768</td>\n",
       "      <td>2.445908</td>\n",
       "      <td>2.761332</td>\n",
       "      <td>2.029418</td>\n",
       "      <td>0.981747</td>\n",
       "      <td>0.616756</td>\n",
       "    </tr>\n",
       "    <tr>\n",
       "      <th>std</th>\n",
       "      <td>5992.46278</td>\n",
       "      <td>5.688072</td>\n",
       "      <td>0.087312</td>\n",
       "      <td>26.379443</td>\n",
       "      <td>0.533218</td>\n",
       "      <td>0.705375</td>\n",
       "      <td>0.608467</td>\n",
       "      <td>0.838302</td>\n",
       "      <td>0.602113</td>\n",
       "    </tr>\n",
       "    <tr>\n",
       "      <th>min</th>\n",
       "      <td>0.00000</td>\n",
       "      <td>14.000000</td>\n",
       "      <td>1.450000</td>\n",
       "      <td>39.000000</td>\n",
       "      <td>1.000000</td>\n",
       "      <td>1.000000</td>\n",
       "      <td>1.000000</td>\n",
       "      <td>0.000000</td>\n",
       "      <td>0.000000</td>\n",
       "    </tr>\n",
       "    <tr>\n",
       "      <th>25%</th>\n",
       "      <td>5189.25000</td>\n",
       "      <td>20.000000</td>\n",
       "      <td>1.631856</td>\n",
       "      <td>66.000000</td>\n",
       "      <td>2.000000</td>\n",
       "      <td>3.000000</td>\n",
       "      <td>1.792022</td>\n",
       "      <td>0.008013</td>\n",
       "      <td>0.000000</td>\n",
       "    </tr>\n",
       "    <tr>\n",
       "      <th>50%</th>\n",
       "      <td>10378.50000</td>\n",
       "      <td>22.815416</td>\n",
       "      <td>1.700000</td>\n",
       "      <td>84.064875</td>\n",
       "      <td>2.393837</td>\n",
       "      <td>3.000000</td>\n",
       "      <td>2.000000</td>\n",
       "      <td>1.000000</td>\n",
       "      <td>0.573887</td>\n",
       "    </tr>\n",
       "    <tr>\n",
       "      <th>75%</th>\n",
       "      <td>15567.75000</td>\n",
       "      <td>26.000000</td>\n",
       "      <td>1.762887</td>\n",
       "      <td>111.600553</td>\n",
       "      <td>3.000000</td>\n",
       "      <td>3.000000</td>\n",
       "      <td>2.549617</td>\n",
       "      <td>1.587406</td>\n",
       "      <td>1.000000</td>\n",
       "    </tr>\n",
       "    <tr>\n",
       "      <th>max</th>\n",
       "      <td>20757.00000</td>\n",
       "      <td>61.000000</td>\n",
       "      <td>1.975663</td>\n",
       "      <td>165.057269</td>\n",
       "      <td>3.000000</td>\n",
       "      <td>4.000000</td>\n",
       "      <td>3.000000</td>\n",
       "      <td>3.000000</td>\n",
       "      <td>2.000000</td>\n",
       "    </tr>\n",
       "  </tbody>\n",
       "</table>\n",
       "</div>"
      ],
      "text/plain": [
       "                id           Age        Height        Weight          FCVC  \\\n",
       "count  20758.00000  20758.000000  20758.000000  20758.000000  20758.000000   \n",
       "mean   10378.50000     23.841804      1.700245     87.887768      2.445908   \n",
       "std     5992.46278      5.688072      0.087312     26.379443      0.533218   \n",
       "min        0.00000     14.000000      1.450000     39.000000      1.000000   \n",
       "25%     5189.25000     20.000000      1.631856     66.000000      2.000000   \n",
       "50%    10378.50000     22.815416      1.700000     84.064875      2.393837   \n",
       "75%    15567.75000     26.000000      1.762887    111.600553      3.000000   \n",
       "max    20757.00000     61.000000      1.975663    165.057269      3.000000   \n",
       "\n",
       "                NCP          CH2O           FAF           TUE  \n",
       "count  20758.000000  20758.000000  20758.000000  20758.000000  \n",
       "mean       2.761332      2.029418      0.981747      0.616756  \n",
       "std        0.705375      0.608467      0.838302      0.602113  \n",
       "min        1.000000      1.000000      0.000000      0.000000  \n",
       "25%        3.000000      1.792022      0.008013      0.000000  \n",
       "50%        3.000000      2.000000      1.000000      0.573887  \n",
       "75%        3.000000      2.549617      1.587406      1.000000  \n",
       "max        4.000000      3.000000      3.000000      2.000000  "
      ]
     },
     "execution_count": 7,
     "metadata": {},
     "output_type": "execute_result"
    }
   ],
   "source": [
    "# Describe the dataset\n",
    "train_data.describe()"
   ]
  },
  {
   "cell_type": "code",
   "execution_count": 8,
   "metadata": {},
   "outputs": [
    {
     "name": "stdout",
     "output_type": "stream",
     "text": [
      "<class 'pandas.core.frame.DataFrame'>\n",
      "RangeIndex: 20758 entries, 0 to 20757\n",
      "Data columns (total 18 columns):\n",
      " #   Column                          Non-Null Count  Dtype  \n",
      "---  ------                          --------------  -----  \n",
      " 0   id                              20758 non-null  int64  \n",
      " 1   Gender                          20758 non-null  object \n",
      " 2   Age                             20758 non-null  float64\n",
      " 3   Height                          20758 non-null  float64\n",
      " 4   Weight                          20758 non-null  float64\n",
      " 5   family_history_with_overweight  20758 non-null  object \n",
      " 6   FAVC                            20758 non-null  object \n",
      " 7   FCVC                            20758 non-null  float64\n",
      " 8   NCP                             20758 non-null  float64\n",
      " 9   CAEC                            20758 non-null  object \n",
      " 10  SMOKE                           20758 non-null  object \n",
      " 11  CH2O                            20758 non-null  float64\n",
      " 12  SCC                             20758 non-null  object \n",
      " 13  FAF                             20758 non-null  float64\n",
      " 14  TUE                             20758 non-null  float64\n",
      " 15  CALC                            20758 non-null  object \n",
      " 16  MTRANS                          20758 non-null  object \n",
      " 17  NObeyesdad                      20758 non-null  object \n",
      "dtypes: float64(8), int64(1), object(9)\n",
      "memory usage: 2.9+ MB\n"
     ]
    }
   ],
   "source": [
    "# Display more info\n",
    "train_data.info()"
   ]
  },
  {
   "cell_type": "code",
   "execution_count": 9,
   "metadata": {},
   "outputs": [
    {
     "data": {
      "text/plain": [
       "0        Overweight_Level_II\n",
       "1              Normal_Weight\n",
       "2        Insufficient_Weight\n",
       "3           Obesity_Type_III\n",
       "4        Overweight_Level_II\n",
       "                ...         \n",
       "20753        Obesity_Type_II\n",
       "20754    Insufficient_Weight\n",
       "20755        Obesity_Type_II\n",
       "20756    Overweight_Level_II\n",
       "20757        Obesity_Type_II\n",
       "Name: NObeyesdad, Length: 20758, dtype: object"
      ]
     },
     "execution_count": 9,
     "metadata": {},
     "output_type": "execute_result"
    }
   ],
   "source": [
    "# Set the array for columns and target values\n",
    "names = train_data.columns\n",
    "target = train_data['NObeyesdad']\n",
    "target"
   ]
  },
  {
   "cell_type": "code",
   "execution_count": 10,
   "metadata": {},
   "outputs": [],
   "source": [
    "# Remove unnecessary data\n",
    "\n",
    "train_data = train_data.drop(['id'], axis=1)\n",
    "test_data = test_data.drop(['id'], axis=1)"
   ]
  },
  {
   "cell_type": "code",
   "execution_count": 11,
   "metadata": {},
   "outputs": [
    {
     "data": {
      "text/plain": [
       "Gender                            True\n",
       "Age                               True\n",
       "Height                            True\n",
       "Weight                            True\n",
       "family_history_with_overweight    True\n",
       "FAVC                              True\n",
       "FCVC                              True\n",
       "NCP                               True\n",
       "CAEC                              True\n",
       "SMOKE                             True\n",
       "CH2O                              True\n",
       "SCC                               True\n",
       "FAF                               True\n",
       "TUE                               True\n",
       "CALC                              True\n",
       "MTRANS                            True\n",
       "dtype: bool"
      ]
     },
     "execution_count": 11,
     "metadata": {},
     "output_type": "execute_result"
    }
   ],
   "source": [
    "# Check for empty values\n",
    "train_data.notna().any()\n",
    "test_data.notna().any()"
   ]
  },
  {
   "cell_type": "code",
   "execution_count": 12,
   "metadata": {},
   "outputs": [],
   "source": [
    "# Adding the BMI (Body Mass Index) Column\n",
    "\n",
    "def BodyMassIndex():\n",
    "    train_data['BMI'] = train_data['Weight'] / (train_data['Height'] ** 2)\n",
    "    bmi_column = train_data.pop('BMI') \n",
    "    train_data.insert(1, 'BMI', bmi_column)\n",
    "\n",
    "# BodyMassIndex() "
   ]
  },
  {
   "cell_type": "code",
   "execution_count": 13,
   "metadata": {},
   "outputs": [
    {
     "name": "stdout",
     "output_type": "stream",
     "text": [
      "Mapping for Gender: {'Female': 1, 'Male': 2}\n",
      "Mapping for family_history_with_overweight: {'no': 1, 'yes': 2}\n",
      "Mapping for FAVC: {'no': 1, 'yes': 2}\n",
      "Mapping for CAEC: {'Always': 1, 'Frequently': 2, 'Sometimes': 3, 'no': 4}\n",
      "Mapping for SMOKE: {'no': 1, 'yes': 2}\n",
      "Mapping for SCC: {'no': 1, 'yes': 2}\n",
      "Mapping for CALC: {'Frequently': 1, 'Sometimes': 2, 'no': 3}\n",
      "Mapping for MTRANS: {'Automobile': 1, 'Bike': 2, 'Motorbike': 3, 'Public_Transportation': 4, 'Walking': 5}\n",
      "Mapping for NObeyesdad: {'Insufficient_Weight': 1, 'Normal_Weight': 2, 'Obesity_Type_I': 3, 'Obesity_Type_II': 4, 'Obesity_Type_III': 5, 'Overweight_Level_I': 6, 'Overweight_Level_II': 7}\n"
     ]
    }
   ],
   "source": [
    "# Encode the dataframe to numerical \n",
    "\n",
    "for column in train_data.columns[:]:\n",
    "    if train_data[column].dtype == 'O':\n",
    "        encoder = LabelEncoder()\n",
    "        train_data[column] = encoder.fit_transform(train_data[column]) + 1\n",
    "        mapping_dict = dict(zip(encoder.classes_, encoder.transform(encoder.classes_) + 1))\n",
    "        print(f\"Mapping for {column}: {mapping_dict}\")\n",
    "\n",
    "for column in test_data.columns[:]:\n",
    "    if test_data[column].dtype == 'O':\n",
    "        encoder = LabelEncoder()\n",
    "        test_data[column] = encoder.fit_transform(test_data[column]) + 1\n",
    "        mapping_dict = dict(zip(encoder.classes_, encoder.transform(encoder.classes_) + 1))\n"
   ]
  },
  {
   "cell_type": "code",
   "execution_count": 14,
   "metadata": {},
   "outputs": [],
   "source": [
    "# Split the dataframe to feature and target\n",
    "\n",
    "rows = train_data.shape[0]\n",
    "cols = train_data.shape[1]\n",
    "\n",
    "y_data = pd.DataFrame(train_data['NObeyesdad'])\n",
    "X_data = pd.DataFrame(train_data.iloc[:,:-1])\n",
    "\n",
    "X_train, X_test, y_train, y_test = train_test_split(X_data, y_data, test_size=0.2, random_state=42)"
   ]
  },
  {
   "cell_type": "code",
   "execution_count": 15,
   "metadata": {},
   "outputs": [],
   "source": [
    "# Set categorical null data to zero\n",
    "X_train = X_train.fillna(0)\n",
    "X_test = X_test.fillna(0)"
   ]
  },
  {
   "cell_type": "code",
   "execution_count": 16,
   "metadata": {},
   "outputs": [],
   "source": [
    "target = ['Insufficient_Weight', 'Normal_Weight', 'Obesity_Type_I',\n",
    "       'Obesity_Type_II', 'Obesity_Type_III', 'Overweight_Level_I',\n",
    "       'Overweight_Level_II']"
   ]
  },
  {
   "cell_type": "code",
   "execution_count": 17,
   "metadata": {},
   "outputs": [
    {
     "name": "stdout",
     "output_type": "stream",
     "text": [
      "[3 1 4 7 2 5 6]\n"
     ]
    }
   ],
   "source": [
    "# The newer dataframes\n",
    "print(y_train['NObeyesdad'].unique())"
   ]
  },
  {
   "cell_type": "code",
   "execution_count": 18,
   "metadata": {},
   "outputs": [],
   "source": [
    "# Plot the training dataframe\n",
    "\n",
    "def plot():\n",
    "    numerical_columns = train_data.select_dtypes(include=['float64', 'int64']).columns\n",
    "    for column in numerical_columns[:-1]:\n",
    "        plt.hist(train_data[train_data['NObeyesdad'] == 1][column], label=target[0], color='red', alpha=0.7, density=False)\n",
    "        plt.hist(train_data[train_data['NObeyesdad'] == 2][column], label=target[1], color='blue', alpha=0.7, density=False)\n",
    "        plt.hist(train_data[train_data['NObeyesdad'] == 3][column], label=target[2], color='purple', alpha=0.7, density=False)\n",
    "        plt.hist(train_data[train_data['NObeyesdad'] == 4][column], label=target[3], color='green', alpha=0.7, density=False)\n",
    "        plt.hist(train_data[train_data['NObeyesdad'] == 5][column], label=target[4], color='orange', alpha=0.7, density=False)\n",
    "        plt.hist(train_data[train_data['NObeyesdad'] == 6][column], label=target[5], color='olive', alpha=0.7, density=False)\n",
    "        plt.hist(train_data[train_data['NObeyesdad'] == 7][column], label=target[6], color='cyan', alpha=0.7, density=False)\n",
    "        plt.legend()\n",
    "        plt.title(column)\n",
    "        plt.ylabel(column)\n",
    "        plt.xlabel('NObeyesdad')\n",
    "        plt.savefig(f'{_plots}{column}.png')\n",
    "        plt.show()\n",
    "\n",
    "# plot()"
   ]
  },
  {
   "cell_type": "markdown",
   "metadata": {},
   "source": [
    "# K Nearest Neighbors Model"
   ]
  },
  {
   "cell_type": "code",
   "execution_count": 107,
   "metadata": {},
   "outputs": [],
   "source": [
    "from sklearn.neighbors import KNeighborsClassifier"
   ]
  },
  {
   "cell_type": "code",
   "execution_count": 108,
   "metadata": {},
   "outputs": [
    {
     "name": "stdout",
     "output_type": "stream",
     "text": [
      "              precision    recall  f1-score   support\n",
      "\n",
      "           1       0.91      0.94      0.92       524\n",
      "           2       0.86      0.82      0.84       626\n",
      "           3       0.84      0.85      0.85       543\n",
      "           4       0.96      0.95      0.96       657\n",
      "           5       0.99      0.99      0.99       804\n",
      "           6       0.73      0.78      0.75       484\n",
      "           7       0.77      0.75      0.76       514\n",
      "\n",
      "    accuracy                           0.88      4152\n",
      "   macro avg       0.87      0.87      0.87      4152\n",
      "weighted avg       0.88      0.88      0.88      4152\n",
      "\n"
     ]
    }
   ],
   "source": [
    "knn_model = KNeighborsClassifier(n_neighbors=5)\n",
    "knn_model.fit(X_train, y_train)\n",
    "knn_pred = knn_model.predict(X_test)\n",
    "print(classification_report(y_test, knn_pred))"
   ]
  },
  {
   "cell_type": "markdown",
   "metadata": {},
   "source": [
    "# Gaussian Naive Bayes Model"
   ]
  },
  {
   "cell_type": "code",
   "execution_count": 109,
   "metadata": {},
   "outputs": [],
   "source": [
    "from sklearn.naive_bayes import GaussianNB"
   ]
  },
  {
   "cell_type": "code",
   "execution_count": 110,
   "metadata": {},
   "outputs": [
    {
     "name": "stdout",
     "output_type": "stream",
     "text": [
      "              precision    recall  f1-score   support\n",
      "\n",
      "           1       0.81      0.94      0.87       524\n",
      "           2       0.82      0.66      0.73       626\n",
      "           3       0.62      0.64      0.63       543\n",
      "           4       0.82      0.94      0.87       657\n",
      "           5       0.97      1.00      0.98       804\n",
      "           6       0.67      0.54      0.59       484\n",
      "           7       0.59      0.57      0.58       514\n",
      "\n",
      "    accuracy                           0.78      4152\n",
      "   macro avg       0.76      0.76      0.75      4152\n",
      "weighted avg       0.77      0.78      0.77      4152\n",
      "\n"
     ]
    }
   ],
   "source": [
    "nbc_model = GaussianNB()\n",
    "nbc_model.fit(X_train, y_train)\n",
    "nbc_pred = nbc_model.predict(X_test)\n",
    "print(classification_report(y_test, nbc_pred))"
   ]
  },
  {
   "cell_type": "markdown",
   "metadata": {},
   "source": [
    "# Logistic Regression Model"
   ]
  },
  {
   "cell_type": "code",
   "execution_count": 111,
   "metadata": {},
   "outputs": [],
   "source": [
    "from sklearn.linear_model import LogisticRegression"
   ]
  },
  {
   "cell_type": "code",
   "execution_count": 112,
   "metadata": {},
   "outputs": [
    {
     "name": "stdout",
     "output_type": "stream",
     "text": [
      "              precision    recall  f1-score   support\n",
      "\n",
      "           1       0.79      0.74      0.76       524\n",
      "           2       0.63      0.67      0.65       626\n",
      "           3       0.57      0.60      0.58       543\n",
      "           4       0.82      0.88      0.85       657\n",
      "           5       0.89      0.92      0.90       804\n",
      "           6       0.56      0.56      0.56       484\n",
      "           7       0.57      0.45      0.50       514\n",
      "\n",
      "    accuracy                           0.71      4152\n",
      "   macro avg       0.69      0.69      0.69      4152\n",
      "weighted avg       0.71      0.71      0.71      4152\n",
      "\n"
     ]
    }
   ],
   "source": [
    "log_model = LogisticRegression()\n",
    "log_model.fit(X_train, y_train)\n",
    "log_pred = log_model.predict(X_test)\n",
    "print(classification_report(y_test, log_pred))"
   ]
  },
  {
   "cell_type": "markdown",
   "metadata": {},
   "source": [
    "# Support Vector Machine Model"
   ]
  },
  {
   "cell_type": "code",
   "execution_count": 113,
   "metadata": {},
   "outputs": [],
   "source": [
    "from sklearn.svm import SVC"
   ]
  },
  {
   "cell_type": "code",
   "execution_count": 114,
   "metadata": {},
   "outputs": [
    {
     "name": "stdout",
     "output_type": "stream",
     "text": [
      "              precision    recall  f1-score   support\n",
      "\n",
      "           1       0.84      0.95      0.89       524\n",
      "           2       0.86      0.72      0.78       626\n",
      "           3       0.80      0.80      0.80       543\n",
      "           4       0.93      0.89      0.91       657\n",
      "           5       0.94      0.96      0.95       804\n",
      "           6       0.66      0.66      0.66       484\n",
      "           7       0.67      0.73      0.70       514\n",
      "\n",
      "    accuracy                           0.83      4152\n",
      "   macro avg       0.81      0.82      0.81      4152\n",
      "weighted avg       0.83      0.83      0.83      4152\n",
      "\n"
     ]
    }
   ],
   "source": [
    "svc_model = SVC()\n",
    "svc_model.fit(X_train, y_train)\n",
    "svc_pred = svc_model.predict(X_test)\n",
    "print(classification_report(y_test, svc_pred))"
   ]
  },
  {
   "cell_type": "markdown",
   "metadata": {},
   "source": [
    "# Decision Tree Classifier Model"
   ]
  },
  {
   "cell_type": "code",
   "execution_count": 115,
   "metadata": {},
   "outputs": [],
   "source": [
    "from sklearn.tree import DecisionTreeClassifier"
   ]
  },
  {
   "cell_type": "code",
   "execution_count": 116,
   "metadata": {},
   "outputs": [
    {
     "name": "stdout",
     "output_type": "stream",
     "text": [
      "              precision    recall  f1-score   support\n",
      "\n",
      "           1       0.89      0.89      0.89       524\n",
      "           2       0.79      0.78      0.79       626\n",
      "           3       0.81      0.81      0.81       543\n",
      "           4       0.97      0.94      0.95       657\n",
      "           5       0.99      1.00      0.99       804\n",
      "           6       0.64      0.66      0.65       484\n",
      "           7       0.70      0.70      0.70       514\n",
      "\n",
      "    accuracy                           0.84      4152\n",
      "   macro avg       0.82      0.82      0.82      4152\n",
      "weighted avg       0.84      0.84      0.84      4152\n",
      "\n"
     ]
    }
   ],
   "source": [
    "dtc_model = DecisionTreeClassifier()\n",
    "dtc_model.fit(X_train, y_train)\n",
    "dtc_pred = dtc_model.predict(X_test)\n",
    "print(classification_report(y_test, dtc_pred))"
   ]
  },
  {
   "cell_type": "markdown",
   "metadata": {},
   "source": [
    "# Random Forest Classifier Model"
   ]
  },
  {
   "cell_type": "code",
   "execution_count": 117,
   "metadata": {},
   "outputs": [],
   "source": [
    "from sklearn.ensemble import RandomForestClassifier"
   ]
  },
  {
   "cell_type": "code",
   "execution_count": 118,
   "metadata": {},
   "outputs": [
    {
     "name": "stdout",
     "output_type": "stream",
     "text": [
      "              precision    recall  f1-score   support\n",
      "\n",
      "           1       0.93      0.93      0.93       524\n",
      "           2       0.86      0.88      0.87       626\n",
      "           3       0.88      0.89      0.88       543\n",
      "           4       0.97      0.97      0.97       657\n",
      "           5       1.00      1.00      1.00       804\n",
      "           6       0.76      0.77      0.77       484\n",
      "           7       0.81      0.79      0.80       514\n",
      "\n",
      "    accuracy                           0.90      4152\n",
      "   macro avg       0.89      0.89      0.89      4152\n",
      "weighted avg       0.90      0.90      0.90      4152\n",
      "\n"
     ]
    }
   ],
   "source": [
    "rfc_model = RandomForestClassifier()\n",
    "rfc_model.fit(X_train, y_train)\n",
    "rfc_pred = rfc_model.predict(X_test)\n",
    "print(classification_report(y_test, rfc_pred))"
   ]
  },
  {
   "cell_type": "markdown",
   "metadata": {},
   "source": [
    "# Linear Discriminant Analysis Model"
   ]
  },
  {
   "cell_type": "code",
   "execution_count": 119,
   "metadata": {},
   "outputs": [],
   "source": [
    "from sklearn.discriminant_analysis import LinearDiscriminantAnalysis"
   ]
  },
  {
   "cell_type": "code",
   "execution_count": 120,
   "metadata": {},
   "outputs": [
    {
     "name": "stdout",
     "output_type": "stream",
     "text": [
      "              precision    recall  f1-score   support\n",
      "\n",
      "           1       0.84      0.94      0.88       524\n",
      "           2       0.82      0.71      0.76       626\n",
      "           3       0.81      0.76      0.79       543\n",
      "           4       0.92      0.96      0.94       657\n",
      "           5       0.99      0.99      0.99       804\n",
      "           6       0.62      0.67      0.65       484\n",
      "           7       0.68      0.64      0.66       514\n",
      "\n",
      "    accuracy                           0.83      4152\n",
      "   macro avg       0.81      0.81      0.81      4152\n",
      "weighted avg       0.83      0.83      0.83      4152\n",
      "\n"
     ]
    }
   ],
   "source": [
    "lda_model = LinearDiscriminantAnalysis()\n",
    "lda_model.fit(X_train, y_train)\n",
    "lda_pred = lda_model.predict(X_test)\n",
    "print(classification_report(y_test, lda_pred))"
   ]
  },
  {
   "cell_type": "markdown",
   "metadata": {},
   "source": [
    "# Gradient Boosting Classifier Model"
   ]
  },
  {
   "cell_type": "code",
   "execution_count": 20,
   "metadata": {},
   "outputs": [],
   "source": [
    "from sklearn.ensemble import GradientBoostingClassifier"
   ]
  },
  {
   "cell_type": "code",
   "execution_count": 122,
   "metadata": {},
   "outputs": [
    {
     "name": "stdout",
     "output_type": "stream",
     "text": [
      "              precision    recall  f1-score   support\n",
      "\n",
      "           1       0.94      0.94      0.94       524\n",
      "           2       0.87      0.88      0.88       626\n",
      "           3       0.90      0.87      0.89       543\n",
      "           4       0.97      0.97      0.97       657\n",
      "           5       1.00      1.00      1.00       804\n",
      "           6       0.77      0.77      0.77       484\n",
      "           7       0.79      0.80      0.80       514\n",
      "\n",
      "    accuracy                           0.90      4152\n",
      "   macro avg       0.89      0.89      0.89      4152\n",
      "weighted avg       0.90      0.90      0.90      4152\n",
      "\n"
     ]
    }
   ],
   "source": [
    "gbc_model = GradientBoostingClassifier()\n",
    "gbc_model.fit(X_train, y_train)\n",
    "gbc_pred = gbc_model.predict(X_test)\n",
    "print(classification_report(y_test, gbc_pred))"
   ]
  },
  {
   "cell_type": "markdown",
   "metadata": {},
   "source": [
    "# Neural Network Classifier Model"
   ]
  },
  {
   "cell_type": "code",
   "execution_count": 123,
   "metadata": {},
   "outputs": [],
   "source": [
    "from sklearn.neural_network import MLPClassifier"
   ]
  },
  {
   "cell_type": "code",
   "execution_count": 124,
   "metadata": {},
   "outputs": [
    {
     "name": "stdout",
     "output_type": "stream",
     "text": [
      "              precision    recall  f1-score   support\n",
      "\n",
      "           1       0.90      0.94      0.92       524\n",
      "           2       0.89      0.71      0.79       626\n",
      "           3       0.84      0.85      0.85       543\n",
      "           4       0.96      0.96      0.96       657\n",
      "           5       1.00      1.00      1.00       804\n",
      "           6       0.63      0.78      0.70       484\n",
      "           7       0.74      0.71      0.72       514\n",
      "\n",
      "    accuracy                           0.86      4152\n",
      "   macro avg       0.85      0.85      0.85      4152\n",
      "weighted avg       0.87      0.86      0.86      4152\n",
      "\n"
     ]
    }
   ],
   "source": [
    "nnc_model = MLPClassifier()\n",
    "nnc_model.fit(X_train, y_train)\n",
    "nnc_pred = nnc_model.predict(X_test)\n",
    "print(classification_report(y_test, nnc_pred))"
   ]
  },
  {
   "cell_type": "code",
   "execution_count": 153,
   "metadata": {},
   "outputs": [
    {
     "name": "stdout",
     "output_type": "stream",
     "text": [
      "1. KNeighborsClassifier Score: \t\t\t 0.8774084778420038\n",
      "2. Gaussian Naive Bayes Score: \t\t\t 0.7776974951830443\n",
      "3. Logistic Regressor Score: \t\t\t 0.7105009633911368\n",
      "4. Support Vector Classification Score: \t 0.8273121387283237\n",
      "5. Decision Tree Score: \t\t\t 0.8403179190751445\n",
      "6. Random Forest Score: \t\t\t 0.899325626204239\n",
      "7. Linear Discriminant Analysis Score: \t\t 0.8282755298651252\n",
      "8. Gradient Boost Classifier Score: \t\t 0.9019749518304432\n",
      "9. Neural Network Score: \t\t\t 0.8619942196531792\n"
     ]
    }
   ],
   "source": [
    "def Statistics():\n",
    "    print(\"1. KNeighborsClassifier Score: \\t\\t\\t\", accuracy_score(y_test, knn_pred))\n",
    "    print(\"2. Gaussian Naive Bayes Score: \\t\\t\\t\", accuracy_score(y_test, nbc_pred))\n",
    "    print(\"3. Logistic Regressor Score: \\t\\t\\t\", accuracy_score(y_test, log_pred))\n",
    "    print(\"4. Support Vector Classification Score: \\t\", accuracy_score(y_test, svc_pred))\n",
    "    print(\"5. Decision Tree Score: \\t\\t\\t\", accuracy_score(y_test, dtc_pred))\n",
    "    print(\"6. Random Forest Score: \\t\\t\\t\", accuracy_score(y_test, rfc_pred))\n",
    "    print(\"7. Linear Discriminant Analysis Score: \\t\\t\", accuracy_score(y_test, lda_pred))\n",
    "    print(\"8. Gradient Boost Classifier Score: \\t\\t\", accuracy_score(y_test, gbc_pred))\n",
    "    print(\"9. Neural Network Score: \\t\\t\\t\", accuracy_score(y_test, nnc_pred))\n",
    "\n",
    "Statistics()"
   ]
  },
  {
   "cell_type": "code",
   "execution_count": 154,
   "metadata": {},
   "outputs": [
    {
     "name": "stdout",
     "output_type": "stream",
     "text": [
      "[[491  30   0   0   0   2   1]\n",
      " [ 29 554   0   0   0  38   5]\n",
      " [  3   1 473  12   1  12  41]\n",
      " [  0   0  13 640   2   0   2]\n",
      " [  0   0   1   1 802   0   0]\n",
      " [  1  43   7   0   0 375  58]\n",
      " [  0  10  31   5   1  57 410]]\n"
     ]
    }
   ],
   "source": [
    "# Print the confusion matrix for the most accurate model\n",
    "print(confusion_matrix(y_true=y_test, y_pred=gbc_pred))"
   ]
  },
  {
   "cell_type": "markdown",
   "metadata": {},
   "source": [
    "# Pipeline & Scaler Model"
   ]
  },
  {
   "cell_type": "code",
   "execution_count": 21,
   "metadata": {},
   "outputs": [
    {
     "name": "stdout",
     "output_type": "stream",
     "text": [
      "              precision    recall  f1-score   support\n",
      "\n",
      "           1       0.95      0.93      0.94       524\n",
      "           2       0.88      0.90      0.89       626\n",
      "           3       0.88      0.88      0.88       543\n",
      "           4       0.97      0.97      0.97       657\n",
      "           5       1.00      1.00      1.00       804\n",
      "           6       0.79      0.79      0.79       484\n",
      "           7       0.80      0.79      0.80       514\n",
      "\n",
      "    accuracy                           0.90      4152\n",
      "   macro avg       0.89      0.89      0.89      4152\n",
      "weighted avg       0.90      0.90      0.90      4152\n",
      "\n",
      "Final Score:  0.9046242774566474\n",
      "Saving . . .\n",
      "Accuracy Score: 0.9588150289017341\n",
      "Model Name: GradientBoostingClassifier(max_depth=4, min_samples_leaf=2, n_estimators=200,\n",
      "                           subsample=0.9)\n",
      "Time:   2024-02-08 00:52:24.944035\n",
      "\n",
      "Report:               precision    recall  f1-score   support\n",
      "\n",
      "           1       0.98      0.98      0.98       524\n",
      "           2       0.93      0.94      0.94       626\n",
      "           3       0.97      0.96      0.96       543\n",
      "           4       1.00      1.00      1.00       657\n",
      "           5       1.00      1.00      1.00       804\n",
      "           6       0.90      0.88      0.89       484\n",
      "           7       0.91      0.92      0.92       514\n",
      "\n",
      "    accuracy                           0.96      4152\n",
      "   macro avg       0.95      0.95      0.95      4152\n",
      "weighted avg       0.96      0.96      0.96      4152\n",
      "\n"
     ]
    }
   ],
   "source": [
    "# Create the pipeline\n",
    "\n",
    "model = GradientBoostingClassifier(learning_rate=0.1, max_depth=4, min_samples_leaf=2, min_samples_split=2, n_estimators=200, subsample=0.9)\n",
    "pipeline = Pipeline([\n",
    "    # ('scaler', MinMaxScaler()),\n",
    "    ('model', model)\n",
    "])\n",
    "\n",
    "pipeline.fit(X_train, y_train)\n",
    "y_pipe = pipeline.predict(X_test)\n",
    "print(classification_report(y_test, y_pipe))\n",
    "print(\"Final Score: \", accuracy_score(y_test, y_pipe))\n",
    "\n",
    "# Load the info about model in the file\n",
    "\n",
    "def update_info():\n",
    "    info = open(_info, \"w\")\n",
    "    pipeline.fit(X_data, y_data)\n",
    "    y_pipe = pipeline.predict(X_test)\n",
    "    model_info = [f\"Accuracy Score: {accuracy_score(y_test, y_pipe)}\\n\", \n",
    "                  f\"Model Name: {pipeline.named_steps['model']}\\n\", \n",
    "                  f\"Time:   {dt.datetime.now()}\\n\\n\",\n",
    "                  f\"Report: {classification_report(y_test, y_pipe)}\"]\n",
    "    info.writelines(model_info)\n",
    "    print(''.join(model_info))\n",
    "    pipeline.fit(X_train, y_train)\n",
    "\n",
    "\n",
    "# Load Model In File Project\n",
    "\n",
    "val = input('Are you sure you want to save the last model: ')\n",
    "if(val == 'y'):\n",
    "    print('Saving . . .')\n",
    "    update_info()\n",
    "    model = pipeline\n",
    "    pkl.dump(model, open(_model, 'wb'))"
   ]
  },
  {
   "cell_type": "code",
   "execution_count": 36,
   "metadata": {},
   "outputs": [],
   "source": [
    "# Save the output dataframe to file\n",
    "\n",
    "predictions = pipeline.predict(test_data)\n",
    "output_data = pd.DataFrame({'NObeyesdad': [target[pred - 1] for pred in predictions]}, columns=['id', 'NObeyesdad'])\n",
    "output_data['id'] = range(20758, 20758 + len(output_data))\n",
    "output_data.to_csv('./data/output.csv', index=False)"
   ]
  },
  {
   "cell_type": "code",
   "execution_count": 38,
   "metadata": {},
   "outputs": [
    {
     "data": {
      "text/html": [
       "<div>\n",
       "<style scoped>\n",
       "    .dataframe tbody tr th:only-of-type {\n",
       "        vertical-align: middle;\n",
       "    }\n",
       "\n",
       "    .dataframe tbody tr th {\n",
       "        vertical-align: top;\n",
       "    }\n",
       "\n",
       "    .dataframe thead th {\n",
       "        text-align: right;\n",
       "    }\n",
       "</style>\n",
       "<table border=\"1\" class=\"dataframe\">\n",
       "  <thead>\n",
       "    <tr style=\"text-align: right;\">\n",
       "      <th></th>\n",
       "      <th>id</th>\n",
       "      <th>NObeyesdad</th>\n",
       "    </tr>\n",
       "  </thead>\n",
       "  <tbody>\n",
       "    <tr>\n",
       "      <th>0</th>\n",
       "      <td>20758</td>\n",
       "      <td>Obesity_Type_II</td>\n",
       "    </tr>\n",
       "    <tr>\n",
       "      <th>1</th>\n",
       "      <td>20759</td>\n",
       "      <td>Overweight_Level_I</td>\n",
       "    </tr>\n",
       "    <tr>\n",
       "      <th>2</th>\n",
       "      <td>20760</td>\n",
       "      <td>Obesity_Type_III</td>\n",
       "    </tr>\n",
       "    <tr>\n",
       "      <th>3</th>\n",
       "      <td>20761</td>\n",
       "      <td>Obesity_Type_I</td>\n",
       "    </tr>\n",
       "    <tr>\n",
       "      <th>4</th>\n",
       "      <td>20762</td>\n",
       "      <td>Obesity_Type_III</td>\n",
       "    </tr>\n",
       "    <tr>\n",
       "      <th>...</th>\n",
       "      <td>...</td>\n",
       "      <td>...</td>\n",
       "    </tr>\n",
       "    <tr>\n",
       "      <th>13835</th>\n",
       "      <td>34593</td>\n",
       "      <td>Overweight_Level_II</td>\n",
       "    </tr>\n",
       "    <tr>\n",
       "      <th>13836</th>\n",
       "      <td>34594</td>\n",
       "      <td>Overweight_Level_I</td>\n",
       "    </tr>\n",
       "    <tr>\n",
       "      <th>13837</th>\n",
       "      <td>34595</td>\n",
       "      <td>Insufficient_Weight</td>\n",
       "    </tr>\n",
       "    <tr>\n",
       "      <th>13838</th>\n",
       "      <td>34596</td>\n",
       "      <td>Normal_Weight</td>\n",
       "    </tr>\n",
       "    <tr>\n",
       "      <th>13839</th>\n",
       "      <td>34597</td>\n",
       "      <td>Obesity_Type_II</td>\n",
       "    </tr>\n",
       "  </tbody>\n",
       "</table>\n",
       "<p>13840 rows × 2 columns</p>\n",
       "</div>"
      ],
      "text/plain": [
       "          id           NObeyesdad\n",
       "0      20758      Obesity_Type_II\n",
       "1      20759   Overweight_Level_I\n",
       "2      20760     Obesity_Type_III\n",
       "3      20761       Obesity_Type_I\n",
       "4      20762     Obesity_Type_III\n",
       "...      ...                  ...\n",
       "13835  34593  Overweight_Level_II\n",
       "13836  34594   Overweight_Level_I\n",
       "13837  34595  Insufficient_Weight\n",
       "13838  34596        Normal_Weight\n",
       "13839  34597      Obesity_Type_II\n",
       "\n",
       "[13840 rows x 2 columns]"
      ]
     },
     "execution_count": 38,
     "metadata": {},
     "output_type": "execute_result"
    }
   ],
   "source": [
    "output_data"
   ]
  },
  {
   "cell_type": "code",
   "execution_count": null,
   "metadata": {},
   "outputs": [],
   "source": []
  }
 ],
 "metadata": {
  "kernelspec": {
   "display_name": "Python 3",
   "language": "python",
   "name": "python3"
  },
  "language_info": {
   "codemirror_mode": {
    "name": "ipython",
    "version": 3
   },
   "file_extension": ".py",
   "mimetype": "text/x-python",
   "name": "python",
   "nbconvert_exporter": "python",
   "pygments_lexer": "ipython3",
   "version": "3.11.2"
  }
 },
 "nbformat": 4,
 "nbformat_minor": 2
}
